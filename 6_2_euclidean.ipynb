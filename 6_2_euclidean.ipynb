{
 "cells": [
  {
   "cell_type": "markdown",
   "metadata": {},
   "source": [
    "# 6.2) Supervised Euclidean\n",
    "A U-Net is trained here to predict a displacement field and the euclidean distance is taken as error."
   ]
  },
  {
   "cell_type": "markdown",
   "metadata": {},
   "source": [
    "# Import statements\n",
    "Following packages are necessary:"
   ]
  },
  {
   "cell_type": "code",
   "execution_count": 1,
   "metadata": {},
   "outputs": [],
   "source": [
    "import random\n",
    "import utils\n",
    "import os\n",
    "import imageio\n",
    "import json\n",
    "\n",
    "import tensorflow as tf\n",
    "import numpy as np\n",
    "import tensorflow.keras.backend as kb\n",
    "from tensorflow.keras.callbacks import CSVLogger\n",
    "\n",
    "from unet import UNet\n",
    "from matplotlib import pyplot as plt"
   ]
  },
  {
   "cell_type": "markdown",
   "metadata": {
    "pycharm": {
     "name": "#%% md\n"
    }
   },
   "source": [
    "# Checks\n",
    "The version of tensorflow as well as the GPU support are checked."
   ]
  },
  {
   "cell_type": "code",
   "execution_count": 2,
   "metadata": {
    "pycharm": {
     "name": "#%%\n"
    }
   },
   "outputs": [
    {
     "name": "stdout",
     "output_type": "stream",
     "text": [
      "2.2.0-rc3\n"
     ]
    },
    {
     "data": {
      "text/plain": [
       "[PhysicalDevice(name='/physical_device:GPU:0', device_type='GPU')]"
      ]
     },
     "execution_count": 2,
     "metadata": {},
     "output_type": "execute_result"
    }
   ],
   "source": [
    "print(tf.__version__)\n",
    "physical_devices = tf.config.list_physical_devices('GPU')\n",
    "tf.config.experimental.set_memory_growth(physical_devices[0], True)\n",
    "tf.config.get_visible_devices('GPU')"
   ]
  },
  {
   "cell_type": "code",
   "execution_count": 3,
   "metadata": {},
   "outputs": [
    {
     "name": "stdout",
     "output_type": "stream",
     "text": [
      "[]\n",
      "[PhysicalDevice(name='/physical_device:CPU:0', device_type='CPU')]\n"
     ]
    }
   ],
   "source": [
    "physical_devices = tf.config.list_physical_devices('GPU')\n",
    "try:\n",
    "  # Disable all GPUS\n",
    "  tf.config.set_visible_devices([], 'GPU')\n",
    "  visible_devices = tf.config.get_visible_devices()\n",
    "  for device in visible_devices:\n",
    "    assert device.device_type != 'GPU'\n",
    "except:\n",
    "  # Invalid device or cannot modify virtual devices once initialized.\n",
    "  pass\n",
    "\n",
    "print(tf.config.get_visible_devices('GPU'))\n",
    "print(tf.config.get_visible_devices('CPU'))"
   ]
  },
  {
   "cell_type": "markdown",
   "metadata": {
    "pycharm": {
     "name": "#%% md\n"
    }
   },
   "source": [
    "# Data\n",
    "Import training images"
   ]
  },
  {
   "cell_type": "code",
   "execution_count": 4,
   "metadata": {
    "pycharm": {
     "name": "#%%\n"
    }
   },
   "outputs": [],
   "source": [
    "path = r'data/SIMPLE/fine_nonrigid'\n",
    "store_path = 'experiments/6_2_correspondence/fine_nonrigid_250_biased'\n",
    "\n",
    "width = 224\n",
    "height = 224"
   ]
  },
  {
   "cell_type": "markdown",
   "metadata": {
    "pycharm": {
     "name": "#%% md\n"
    }
   },
   "source": [
    "# Seeding\n",
    "Seeds are set to ensure reproducible training."
   ]
  },
  {
   "cell_type": "code",
   "execution_count": 5,
   "metadata": {
    "pycharm": {
     "name": "#%%\n"
    }
   },
   "outputs": [],
   "source": [
    "SEED = 42\n",
    "np.random.seed(SEED)\n",
    "tf.random.set_seed(SEED)\n",
    "random.seed(SEED)"
   ]
  },
  {
   "cell_type": "markdown",
   "metadata": {
    "pycharm": {
     "name": "#%% md\n"
    }
   },
   "source": [
    "# Network\n",
    "A U-Net based network is instantiated with keras to run a semantic segmentation."
   ]
  },
  {
   "cell_type": "code",
   "execution_count": 6,
   "metadata": {
    "pycharm": {
     "name": "#%%\n"
    }
   },
   "outputs": [
    {
     "name": "stdout",
     "output_type": "stream",
     "text": [
      "Model: \"model\"\n",
      "__________________________________________________________________________________________________\n",
      "Layer (type)                    Output Shape         Param #     Connected to                     \n",
      "==================================================================================================\n",
      "input_1 (InputLayer)            [(None, 224, 224, 1) 0                                            \n",
      "__________________________________________________________________________________________________\n",
      "conv2d (Conv2D)                 (None, 224, 224, 32) 288         input_1[0][0]                    \n",
      "__________________________________________________________________________________________________\n",
      "batch_normalization (BatchNorma (None, 224, 224, 32) 128         conv2d[0][0]                     \n",
      "__________________________________________________________________________________________________\n",
      "activation (Activation)         (None, 224, 224, 32) 0           batch_normalization[0][0]        \n",
      "__________________________________________________________________________________________________\n",
      "conv2d_1 (Conv2D)               (None, 224, 224, 32) 9216        activation[0][0]                 \n",
      "__________________________________________________________________________________________________\n",
      "batch_normalization_1 (BatchNor (None, 224, 224, 32) 128         conv2d_1[0][0]                   \n",
      "__________________________________________________________________________________________________\n",
      "activation_1 (Activation)       (None, 224, 224, 32) 0           batch_normalization_1[0][0]      \n",
      "__________________________________________________________________________________________________\n",
      "max_pooling2d (MaxPooling2D)    (None, 112, 112, 32) 0           activation_1[0][0]               \n",
      "__________________________________________________________________________________________________\n",
      "conv2d_2 (Conv2D)               (None, 112, 112, 64) 18432       max_pooling2d[0][0]              \n",
      "__________________________________________________________________________________________________\n",
      "batch_normalization_2 (BatchNor (None, 112, 112, 64) 256         conv2d_2[0][0]                   \n",
      "__________________________________________________________________________________________________\n",
      "activation_2 (Activation)       (None, 112, 112, 64) 0           batch_normalization_2[0][0]      \n",
      "__________________________________________________________________________________________________\n",
      "conv2d_3 (Conv2D)               (None, 112, 112, 64) 36864       activation_2[0][0]               \n",
      "__________________________________________________________________________________________________\n",
      "batch_normalization_3 (BatchNor (None, 112, 112, 64) 256         conv2d_3[0][0]                   \n",
      "__________________________________________________________________________________________________\n",
      "activation_3 (Activation)       (None, 112, 112, 64) 0           batch_normalization_3[0][0]      \n",
      "__________________________________________________________________________________________________\n",
      "max_pooling2d_1 (MaxPooling2D)  (None, 56, 56, 64)   0           activation_3[0][0]               \n",
      "__________________________________________________________________________________________________\n",
      "conv2d_4 (Conv2D)               (None, 56, 56, 128)  73728       max_pooling2d_1[0][0]            \n",
      "__________________________________________________________________________________________________\n",
      "batch_normalization_4 (BatchNor (None, 56, 56, 128)  512         conv2d_4[0][0]                   \n",
      "__________________________________________________________________________________________________\n",
      "activation_4 (Activation)       (None, 56, 56, 128)  0           batch_normalization_4[0][0]      \n",
      "__________________________________________________________________________________________________\n",
      "conv2d_5 (Conv2D)               (None, 56, 56, 128)  147456      activation_4[0][0]               \n",
      "__________________________________________________________________________________________________\n",
      "batch_normalization_5 (BatchNor (None, 56, 56, 128)  512         conv2d_5[0][0]                   \n",
      "__________________________________________________________________________________________________\n",
      "activation_5 (Activation)       (None, 56, 56, 128)  0           batch_normalization_5[0][0]      \n",
      "__________________________________________________________________________________________________\n",
      "max_pooling2d_2 (MaxPooling2D)  (None, 28, 28, 128)  0           activation_5[0][0]               \n",
      "__________________________________________________________________________________________________\n",
      "conv2d_6 (Conv2D)               (None, 28, 28, 256)  294912      max_pooling2d_2[0][0]            \n",
      "__________________________________________________________________________________________________\n",
      "batch_normalization_6 (BatchNor (None, 28, 28, 256)  1024        conv2d_6[0][0]                   \n",
      "__________________________________________________________________________________________________\n",
      "activation_6 (Activation)       (None, 28, 28, 256)  0           batch_normalization_6[0][0]      \n",
      "__________________________________________________________________________________________________\n",
      "conv2d_7 (Conv2D)               (None, 28, 28, 256)  589824      activation_6[0][0]               \n",
      "__________________________________________________________________________________________________\n",
      "batch_normalization_7 (BatchNor (None, 28, 28, 256)  1024        conv2d_7[0][0]                   \n",
      "__________________________________________________________________________________________________\n",
      "activation_7 (Activation)       (None, 28, 28, 256)  0           batch_normalization_7[0][0]      \n",
      "__________________________________________________________________________________________________\n",
      "max_pooling2d_3 (MaxPooling2D)  (None, 14, 14, 256)  0           activation_7[0][0]               \n",
      "__________________________________________________________________________________________________\n",
      "conv2d_8 (Conv2D)               (None, 14, 14, 512)  1179648     max_pooling2d_3[0][0]            \n",
      "__________________________________________________________________________________________________\n",
      "batch_normalization_8 (BatchNor (None, 14, 14, 512)  2048        conv2d_8[0][0]                   \n",
      "__________________________________________________________________________________________________\n",
      "activation_8 (Activation)       (None, 14, 14, 512)  0           batch_normalization_8[0][0]      \n",
      "__________________________________________________________________________________________________\n",
      "conv2d_9 (Conv2D)               (None, 14, 14, 256)  1179648     activation_8[0][0]               \n",
      "__________________________________________________________________________________________________\n",
      "batch_normalization_9 (BatchNor (None, 14, 14, 256)  1024        conv2d_9[0][0]                   \n",
      "__________________________________________________________________________________________________\n",
      "activation_9 (Activation)       (None, 14, 14, 256)  0           batch_normalization_9[0][0]      \n",
      "__________________________________________________________________________________________________\n",
      "up_sampling2d (UpSampling2D)    (None, 28, 28, 256)  0           activation_9[0][0]               \n",
      "__________________________________________________________________________________________________\n",
      "concatenate (Concatenate)       (None, 28, 28, 512)  0           up_sampling2d[0][0]              \n",
      "                                                                 activation_7[0][0]               \n",
      "__________________________________________________________________________________________________\n",
      "conv2d_10 (Conv2D)              (None, 28, 28, 256)  1179648     concatenate[0][0]                \n",
      "__________________________________________________________________________________________________\n",
      "batch_normalization_10 (BatchNo (None, 28, 28, 256)  1024        conv2d_10[0][0]                  \n",
      "__________________________________________________________________________________________________\n",
      "activation_10 (Activation)      (None, 28, 28, 256)  0           batch_normalization_10[0][0]     \n",
      "__________________________________________________________________________________________________\n",
      "conv2d_11 (Conv2D)              (None, 28, 28, 128)  294912      activation_10[0][0]              \n",
      "__________________________________________________________________________________________________\n",
      "batch_normalization_11 (BatchNo (None, 28, 28, 128)  512         conv2d_11[0][0]                  \n",
      "__________________________________________________________________________________________________\n",
      "activation_11 (Activation)      (None, 28, 28, 128)  0           batch_normalization_11[0][0]     \n",
      "__________________________________________________________________________________________________\n",
      "up_sampling2d_1 (UpSampling2D)  (None, 56, 56, 128)  0           activation_11[0][0]              \n",
      "__________________________________________________________________________________________________\n",
      "concatenate_1 (Concatenate)     (None, 56, 56, 256)  0           up_sampling2d_1[0][0]            \n",
      "                                                                 activation_5[0][0]               \n",
      "__________________________________________________________________________________________________\n",
      "conv2d_12 (Conv2D)              (None, 56, 56, 128)  294912      concatenate_1[0][0]              \n",
      "__________________________________________________________________________________________________\n",
      "batch_normalization_12 (BatchNo (None, 56, 56, 128)  512         conv2d_12[0][0]                  \n",
      "__________________________________________________________________________________________________\n",
      "activation_12 (Activation)      (None, 56, 56, 128)  0           batch_normalization_12[0][0]     \n",
      "__________________________________________________________________________________________________\n",
      "conv2d_13 (Conv2D)              (None, 56, 56, 64)   73728       activation_12[0][0]              \n",
      "__________________________________________________________________________________________________\n",
      "batch_normalization_13 (BatchNo (None, 56, 56, 64)   256         conv2d_13[0][0]                  \n",
      "__________________________________________________________________________________________________\n",
      "activation_13 (Activation)      (None, 56, 56, 64)   0           batch_normalization_13[0][0]     \n",
      "__________________________________________________________________________________________________\n",
      "up_sampling2d_2 (UpSampling2D)  (None, 112, 112, 64) 0           activation_13[0][0]              \n",
      "__________________________________________________________________________________________________\n",
      "concatenate_2 (Concatenate)     (None, 112, 112, 128 0           up_sampling2d_2[0][0]            \n",
      "                                                                 activation_3[0][0]               \n",
      "__________________________________________________________________________________________________\n",
      "conv2d_14 (Conv2D)              (None, 112, 112, 64) 73728       concatenate_2[0][0]              \n",
      "__________________________________________________________________________________________________\n",
      "batch_normalization_14 (BatchNo (None, 112, 112, 64) 256         conv2d_14[0][0]                  \n",
      "__________________________________________________________________________________________________\n",
      "activation_14 (Activation)      (None, 112, 112, 64) 0           batch_normalization_14[0][0]     \n",
      "__________________________________________________________________________________________________\n",
      "conv2d_15 (Conv2D)              (None, 112, 112, 32) 18432       activation_14[0][0]              \n",
      "__________________________________________________________________________________________________\n",
      "batch_normalization_15 (BatchNo (None, 112, 112, 32) 128         conv2d_15[0][0]                  \n",
      "__________________________________________________________________________________________________\n",
      "activation_15 (Activation)      (None, 112, 112, 32) 0           batch_normalization_15[0][0]     \n",
      "__________________________________________________________________________________________________\n",
      "up_sampling2d_3 (UpSampling2D)  (None, 224, 224, 32) 0           activation_15[0][0]              \n",
      "__________________________________________________________________________________________________\n",
      "concatenate_3 (Concatenate)     (None, 224, 224, 64) 0           up_sampling2d_3[0][0]            \n",
      "                                                                 activation_1[0][0]               \n",
      "__________________________________________________________________________________________________\n",
      "conv2d_16 (Conv2D)              (None, 224, 224, 32) 18432       concatenate_3[0][0]              \n",
      "__________________________________________________________________________________________________\n",
      "batch_normalization_16 (BatchNo (None, 224, 224, 32) 128         conv2d_16[0][0]                  \n",
      "__________________________________________________________________________________________________\n",
      "activation_16 (Activation)      (None, 224, 224, 32) 0           batch_normalization_16[0][0]     \n",
      "__________________________________________________________________________________________________\n",
      "conv2d_17 (Conv2D)              (None, 224, 224, 32) 9216        activation_16[0][0]              \n",
      "__________________________________________________________________________________________________\n",
      "batch_normalization_17 (BatchNo (None, 224, 224, 32) 128         conv2d_17[0][0]                  \n",
      "__________________________________________________________________________________________________\n",
      "activation_17 (Activation)      (None, 224, 224, 32) 0           batch_normalization_17[0][0]     \n",
      "__________________________________________________________________________________________________\n",
      "segmentation (Conv2D)           (None, 224, 224, 2)  66          activation_17[0][0]              \n",
      "==================================================================================================\n",
      "Total params: 5,502,946\n",
      "Trainable params: 5,498,018\n",
      "Non-trainable params: 4,928\n",
      "__________________________________________________________________________________________________\n"
     ]
    }
   ],
   "source": [
    "model = UNet(filters=32, layers=4, activation='linear', classes=2, input_shape=(224, 224, 1))\n",
    "model.summary()"
   ]
  },
  {
   "cell_type": "markdown",
   "metadata": {
    "pycharm": {
     "name": "#%% md\n"
    }
   },
   "source": [
    "# Data Preparation\n",
    "A batch with only one image is used."
   ]
  },
  {
   "cell_type": "code",
   "execution_count": 7,
   "metadata": {},
   "outputs": [],
   "source": [
    "fixed = imageio.imread(path + \"/fixed.png\")\n",
    "moving = imageio.imread(path + \"/moving.png\")\n",
    "\n",
    "fixed = fixed[:,:,0]\n",
    "moving = moving[:,:,0]\n",
    "\n",
    "X = np.zeros((width, height, 1))\n",
    "\n",
    "X[:,:,0] = moving\n",
    "#X[:,:,1] = fixed"
   ]
  },
  {
   "cell_type": "code",
   "execution_count": 8,
   "metadata": {
    "scrolled": true
   },
   "outputs": [
    {
     "data": {
      "text/plain": [
       "<matplotlib.image.AxesImage at 0x7f7b0e575640>"
      ]
     },
     "execution_count": 8,
     "metadata": {},
     "output_type": "execute_result"
    },
    {
     "data": {
      "image/png": "[encoded data removed]",
      "text/plain": [
       "<Figure size 432x288 with 1 Axes>"
      ]
     },
     "metadata": {
      "needs_background": "light"
     },
     "output_type": "display_data"
    }
   ],
   "source": [
    "plt.imshow(X[:,:,0], cmap=\"gray\")"
   ]
  },
  {
   "cell_type": "code",
   "execution_count": 9,
   "metadata": {
    "scrolled": true
   },
   "outputs": [
    {
     "data": {
      "text/plain": [
       "(224, 224, 1)"
      ]
     },
     "execution_count": 9,
     "metadata": {},
     "output_type": "execute_result"
    }
   ],
   "source": [
    "X.shape"
   ]
  },
  {
   "cell_type": "code",
   "execution_count": 10,
   "metadata": {},
   "outputs": [],
   "source": [
    "moving_json_file = open(path  + '/moving.json')\n",
    "fixed_json_file = open(path + '/fixed.json')\n",
    "\n",
    "moving_data = json.load(moving_json_file)\n",
    "fixed_data = json.load(fixed_json_file)\n",
    "\n",
    "moving_json_file.close()\n",
    "fixed_json_file.close()\n",
    "\n",
    "labels = np.zeros((25,2,2))\n",
    "\n",
    "for index in range(0,25):\n",
    "    x = moving_data[str(index)][0]\n",
    "    y = moving_data[str(index)][1]\n",
    "\n",
    "    labels[index][0][0] = x\n",
    "    labels[index][1][0] = y\n",
    "    \n",
    "for index in range(0,25):\n",
    "    x = fixed_data[str(index)][0]\n",
    "    y = fixed_data[str(index)][1]\n",
    "\n",
    "    labels[index][0][1] = x\n",
    "    labels[index][1][1] = y  "
   ]
  },
  {
   "cell_type": "markdown",
   "metadata": {
    "pycharm": {
     "name": "#%% md\n"
    }
   },
   "source": [
    "# Training Preparation\n",
    "Prepare the settings for training the model."
   ]
  },
  {
   "cell_type": "code",
   "execution_count": 11,
   "metadata": {},
   "outputs": [],
   "source": [
    "X_train = np.array([X])\n",
    "y_train = np.array([labels])"
   ]
  },
  {
   "cell_type": "code",
   "execution_count": 12,
   "metadata": {},
   "outputs": [],
   "source": [
    "def eval_displacment(u, x, y):\n",
    "    u = kb.gather(u, y)\n",
    "    u = kb.transpose(u)\n",
    "    u = kb.gather(u, x)\n",
    "    u = kb.flatten(u)\n",
    "    indices = [val * 25 + val for val in range(0,25)]\n",
    "    u = kb.gather(u, indices)\n",
    "    \n",
    "    return u\n",
    "\n",
    "def custom_loss(labels, prediction):\n",
    "    # BATCH_SIZE = 1\n",
    "    \n",
    "    #print(prediction.shape) # batch_sizex112x112x2 (bs, x, y, ux-uy)\n",
    "    #print(labels.shape) # batch_sizex25x2x2 (bs, coord, x-y, mov-fix)\n",
    "    \n",
    "    ux = prediction[0,:,:,0]\n",
    "    uy = prediction[0,:,:,1]\n",
    "    \n",
    "    x_mov = labels[0,:,0,0]\n",
    "    y_mov = labels[0,:,1,0]\n",
    "    x_mov_int = kb.cast(x_mov, \"int32\")\n",
    "    y_mov_int = kb.cast(y_mov, \"int32\")\n",
    "    \n",
    "    x_fix = labels[0,:,0,1]\n",
    "    y_fix = labels[0,:,1,1]\n",
    "    x_fix_int = kb.cast(x_fix, \"int32\")\n",
    "    y_fix_int = kb.cast(y_fix, \"int32\")    \n",
    "    \n",
    "    ux_mov = eval_displacment(ux, x_mov_int, y_mov_int)\n",
    "    uy_mov = eval_displacment(uy, x_mov_int, y_mov_int)\n",
    "    \n",
    "    x_squared = kb.square(x_mov + ux_mov - x_fix) # elementwise\n",
    "    y_squared = kb.square(y_mov + uy_mov - y_fix) \n",
    "    \n",
    "    euclidean_distance = kb.sqrt(x_squared + y_squared)\n",
    "    mae = kb.mean(x_squared + y_squared)\n",
    "    \n",
    "    #mse = kb.mean(x_squared + y_squared)\n",
    "    #kb.print_tensor(mse)\n",
    "    \n",
    "    return mae"
   ]
  },
  {
   "cell_type": "code",
   "execution_count": 13,
   "metadata": {
    "pycharm": {
     "name": "#%%\n"
    },
    "scrolled": true
   },
   "outputs": [
    {
     "name": "stdout",
     "output_type": "stream",
     "text": [
      "Epoch 1/250\n",
      "1/1 [==============================] - 1s 670ms/step - loss: 159.0873 - val_loss: 9428.0020\n",
      "Epoch 2/250\n",
      "1/1 [==============================] - 0s 151ms/step - loss: 141.7348 - val_loss: 46591.5859\n",
      "Epoch 3/250\n",
      "1/1 [==============================] - 0s 151ms/step - loss: 80.6730 - val_loss: 239378.7656\n",
      "Epoch 4/250\n",
      "1/1 [==============================] - 0s 149ms/step - loss: 64.9247 - val_loss: 602053.4375\n",
      "Epoch 5/250\n",
      "1/1 [==============================] - 0s 146ms/step - loss: 50.8815 - val_loss: 971985.8125\n",
      "Epoch 6/250\n",
      "1/1 [==============================] - 0s 148ms/step - loss: 37.3633 - val_loss: 1238488.7500\n",
      "Epoch 7/250\n",
      "1/1 [==============================] - 0s 147ms/step - loss: 21.0618 - val_loss: 1609741.0000\n",
      "Epoch 8/250\n",
      "1/1 [==============================] - 0s 146ms/step - loss: 9.9817 - val_loss: 1907821.1250\n",
      "Epoch 9/250\n",
      "1/1 [==============================] - 0s 153ms/step - loss: 3.6046 - val_loss: 2087713.0000\n",
      "Epoch 10/250\n",
      "1/1 [==============================] - 0s 152ms/step - loss: 2.5969 - val_loss: 2201030.0000\n",
      "Epoch 11/250\n",
      "1/1 [==============================] - 0s 148ms/step - loss: 2.3114 - val_loss: 2185693.0000\n",
      "Epoch 12/250\n",
      "1/1 [==============================] - 0s 147ms/step - loss: 2.4817 - val_loss: 2163707.2500\n",
      "Epoch 13/250\n",
      "1/1 [==============================] - 0s 153ms/step - loss: 1.4833 - val_loss: 2306237.7500\n",
      "Epoch 14/250\n",
      "1/1 [==============================] - 0s 148ms/step - loss: 1.3723 - val_loss: 2185926.5000\n",
      "Epoch 15/250\n",
      "1/1 [==============================] - 0s 148ms/step - loss: 2.1633 - val_loss: 2142395.0000\n",
      "Epoch 16/250\n",
      "1/1 [==============================] - 0s 147ms/step - loss: 1.2230 - val_loss: 2002749.1250\n",
      "Epoch 17/250\n",
      "1/1 [==============================] - 0s 146ms/step - loss: 0.5933 - val_loss: 1858486.5000\n",
      "Epoch 18/250\n",
      "1/1 [==============================] - 0s 151ms/step - loss: 0.9691 - val_loss: 1745251.5000\n",
      "Epoch 19/250\n",
      "1/1 [==============================] - 0s 152ms/step - loss: 0.8075 - val_loss: 1560449.0000\n",
      "Epoch 20/250\n",
      "1/1 [==============================] - 0s 150ms/step - loss: 0.4319 - val_loss: 1378337.1250\n",
      "Epoch 21/250\n",
      "1/1 [==============================] - 0s 169ms/step - loss: 0.5825 - val_loss: 1250071.8750\n",
      "Epoch 22/250\n",
      "1/1 [==============================] - 0s 153ms/step - loss: 0.3466 - val_loss: 1148060.1250\n",
      "Epoch 23/250\n",
      "1/1 [==============================] - 0s 169ms/step - loss: 0.3773 - val_loss: 1044988.8125\n",
      "Epoch 24/250\n",
      "1/1 [==============================] - 0s 155ms/step - loss: 0.3311 - val_loss: 941555.7500\n",
      "Epoch 25/250\n",
      "1/1 [==============================] - 0s 149ms/step - loss: 0.1968 - val_loss: 832497.5000\n",
      "Epoch 26/250\n",
      "1/1 [==============================] - 0s 157ms/step - loss: 0.2212 - val_loss: 713580.3750\n",
      "Epoch 27/250\n",
      "1/1 [==============================] - 0s 149ms/step - loss: 0.2095 - val_loss: 614620.6250\n",
      "Epoch 28/250\n",
      "1/1 [==============================] - 0s 151ms/step - loss: 0.2189 - val_loss: 536852.2500\n",
      "Epoch 29/250\n",
      "1/1 [==============================] - 0s 152ms/step - loss: 0.1281 - val_loss: 472998.0312\n",
      "Epoch 30/250\n",
      "1/1 [==============================] - 0s 157ms/step - loss: 0.1502 - val_loss: 413891.9062\n",
      "Epoch 31/250\n",
      "1/1 [==============================] - 0s 147ms/step - loss: 0.0894 - val_loss: 359162.5312\n",
      "Epoch 32/250\n",
      "1/1 [==============================] - 0s 163ms/step - loss: 0.1435 - val_loss: 314015.9062\n",
      "Epoch 33/250\n",
      "1/1 [==============================] - 0s 152ms/step - loss: 0.0926 - val_loss: 276635.8125\n",
      "Epoch 34/250\n",
      "1/1 [==============================] - 0s 147ms/step - loss: 0.0873 - val_loss: 244173.4531\n",
      "Epoch 35/250\n",
      "1/1 [==============================] - 0s 146ms/step - loss: 0.0558 - val_loss: 216236.6562\n",
      "Epoch 36/250\n",
      "1/1 [==============================] - 0s 147ms/step - loss: 0.0760 - val_loss: 192099.1875\n",
      "Epoch 37/250\n",
      "1/1 [==============================] - 0s 151ms/step - loss: 0.0730 - val_loss: 169700.0625\n",
      "Epoch 38/250\n",
      "1/1 [==============================] - 0s 150ms/step - loss: 0.0628 - val_loss: 147640.9375\n",
      "Epoch 39/250\n",
      "1/1 [==============================] - 0s 149ms/step - loss: 0.0377 - val_loss: 126646.1562\n",
      "Epoch 40/250\n",
      "1/1 [==============================] - 0s 147ms/step - loss: 0.0397 - val_loss: 108814.8906\n",
      "Epoch 41/250\n",
      "1/1 [==============================] - 0s 147ms/step - loss: 0.0369 - val_loss: 94477.2734\n",
      "Epoch 42/250\n",
      "1/1 [==============================] - 0s 156ms/step - loss: 0.0367 - val_loss: 82823.9844\n",
      "Epoch 43/250\n",
      "1/1 [==============================] - 0s 148ms/step - loss: 0.0357 - val_loss: 73060.8125\n",
      "Epoch 44/250\n",
      "1/1 [==============================] - 0s 154ms/step - loss: 0.0219 - val_loss: 64317.5000\n",
      "Epoch 45/250\n",
      "1/1 [==============================] - 0s 150ms/step - loss: 0.0276 - val_loss: 56318.5508\n",
      "Epoch 46/250\n",
      "1/1 [==============================] - 0s 148ms/step - loss: 0.0164 - val_loss: 49235.7344\n",
      "Epoch 47/250\n",
      "1/1 [==============================] - 0s 146ms/step - loss: 0.0224 - val_loss: 43185.5586\n",
      "Epoch 48/250\n",
      "1/1 [==============================] - 0s 146ms/step - loss: 0.0179 - val_loss: 38061.6914\n",
      "Epoch 49/250\n",
      "1/1 [==============================] - 0s 149ms/step - loss: 0.0179 - val_loss: 33546.0078\n",
      "Epoch 50/250\n",
      "1/1 [==============================] - 0s 146ms/step - loss: 0.0143 - val_loss: 29360.5742\n",
      "Epoch 51/250\n",
      "1/1 [==============================] - 0s 146ms/step - loss: 0.0170 - val_loss: 25572.2051\n",
      "Epoch 52/250\n",
      "1/1 [==============================] - 0s 154ms/step - loss: 0.0059 - val_loss: 22367.4277\n",
      "Epoch 53/250\n",
      "1/1 [==============================] - 0s 149ms/step - loss: 0.0120 - val_loss: 19746.3809\n",
      "Epoch 54/250\n",
      "1/1 [==============================] - 0s 146ms/step - loss: 0.0089 - val_loss: 17580.2676\n",
      "Epoch 55/250\n",
      "1/1 [==============================] - 0s 146ms/step - loss: 0.0109 - val_loss: 15705.5088\n",
      "Epoch 56/250\n",
      "1/1 [==============================] - 0s 150ms/step - loss: 0.0071 - val_loss: 14033.4746\n",
      "Epoch 57/250\n",
      "1/1 [==============================] - 0s 146ms/step - loss: 0.0067 - val_loss: 12548.5459\n",
      "Epoch 58/250\n",
      "1/1 [==============================] - 0s 148ms/step - loss: 0.0047 - val_loss: 11253.4150\n",
      "Epoch 59/250\n",
      "1/1 [==============================] - 0s 159ms/step - loss: 0.0062 - val_loss: 10129.2783\n",
      "Epoch 60/250\n",
      "1/1 [==============================] - 0s 147ms/step - loss: 0.0056 - val_loss: 9131.1445\n",
      "Epoch 61/250\n",
      "1/1 [==============================] - 0s 146ms/step - loss: 0.0050 - val_loss: 8216.1807\n",
      "Epoch 62/250\n",
      "1/1 [==============================] - 0s 153ms/step - loss: 0.0047 - val_loss: 7371.2070\n",
      "Epoch 63/250\n",
      "1/1 [==============================] - 0s 157ms/step - loss: 0.0041 - val_loss: 6607.3374\n",
      "Epoch 64/250\n",
      "1/1 [==============================] - 0s 146ms/step - loss: 0.0036 - val_loss: 5938.5840\n",
      "Epoch 65/250\n",
      "1/1 [==============================] - 0s 146ms/step - loss: 0.0028 - val_loss: 5371.0493\n",
      "Epoch 66/250\n",
      "1/1 [==============================] - 0s 146ms/step - loss: 0.0031 - val_loss: 4895.6426\n",
      "Epoch 67/250\n",
      "1/1 [==============================] - 0s 148ms/step - loss: 0.0021 - val_loss: 4493.9907\n",
      "Epoch 68/250\n",
      "1/1 [==============================] - 0s 150ms/step - loss: 0.0030 - val_loss: 4138.6699\n",
      "Epoch 69/250\n",
      "1/1 [==============================] - 0s 148ms/step - loss: 9.2441e-04 - val_loss: 3805.1296\n",
      "Epoch 70/250\n",
      "1/1 [==============================] - 0s 147ms/step - loss: 0.0024 - val_loss: 3480.5166\n",
      "Epoch 71/250\n",
      "1/1 [==============================] - 0s 153ms/step - loss: 0.0011 - val_loss: 3175.0215\n",
      "Epoch 72/250\n",
      "1/1 [==============================] - 0s 147ms/step - loss: 0.0020 - val_loss: 2897.4094\n",
      "Epoch 73/250\n",
      "1/1 [==============================] - 0s 148ms/step - loss: 9.5630e-04 - val_loss: 2648.8853\n",
      "Epoch 74/250\n",
      "1/1 [==============================] - 0s 147ms/step - loss: 0.0015 - val_loss: 2426.8389\n",
      "Epoch 75/250\n",
      "1/1 [==============================] - 0s 147ms/step - loss: 7.9718e-04 - val_loss: 2229.6777\n",
      "Epoch 76/250\n",
      "1/1 [==============================] - 0s 146ms/step - loss: 0.0014 - val_loss: 2055.3374\n",
      "Epoch 77/250\n",
      "1/1 [==============================] - 0s 145ms/step - loss: 9.3809e-04 - val_loss: 1899.1836\n",
      "Epoch 78/250\n",
      "1/1 [==============================] - 0s 147ms/step - loss: 6.2033e-04 - val_loss: 1756.8551\n",
      "Epoch 79/250\n"
     ]
    },
    {
     "name": "stdout",
     "output_type": "stream",
     "text": [
      "1/1 [==============================] - 0s 149ms/step - loss: 8.8540e-04 - val_loss: 1627.6775\n",
      "Epoch 80/250\n",
      "1/1 [==============================] - 0s 146ms/step - loss: 5.0118e-04 - val_loss: 1509.8364\n",
      "Epoch 81/250\n",
      "1/1 [==============================] - 0s 154ms/step - loss: 7.9518e-04 - val_loss: 1401.2056\n",
      "Epoch 82/250\n",
      "1/1 [==============================] - 0s 151ms/step - loss: 3.5580e-04 - val_loss: 1299.8799\n",
      "Epoch 83/250\n",
      "1/1 [==============================] - 0s 148ms/step - loss: 6.2139e-04 - val_loss: 1205.1785\n",
      "Epoch 84/250\n",
      "1/1 [==============================] - 0s 146ms/step - loss: 3.5485e-04 - val_loss: 1117.9402\n",
      "Epoch 85/250\n",
      "1/1 [==============================] - 0s 148ms/step - loss: 4.5393e-04 - val_loss: 1039.2172\n",
      "Epoch 86/250\n",
      "1/1 [==============================] - 0s 145ms/step - loss: 3.1567e-04 - val_loss: 969.8324\n",
      "Epoch 87/250\n",
      "1/1 [==============================] - 0s 145ms/step - loss: 3.0677e-04 - val_loss: 907.9956\n",
      "Epoch 88/250\n",
      "1/1 [==============================] - 0s 159ms/step - loss: 3.8809e-04 - val_loss: 849.5253\n",
      "Epoch 89/250\n",
      "1/1 [==============================] - 0s 153ms/step - loss: 1.7490e-04 - val_loss: 793.8201\n",
      "Epoch 90/250\n",
      "1/1 [==============================] - 0s 147ms/step - loss: 2.8700e-04 - val_loss: 742.2117\n",
      "Epoch 91/250\n",
      "1/1 [==============================] - 0s 158ms/step - loss: 1.0492e-04 - val_loss: 695.1953\n",
      "Epoch 92/250\n",
      "1/1 [==============================] - 0s 152ms/step - loss: 3.0271e-04 - val_loss: 652.5447\n",
      "Epoch 93/250\n",
      "1/1 [==============================] - 0s 146ms/step - loss: 2.1435e-04 - val_loss: 614.2828\n",
      "Epoch 94/250\n",
      "1/1 [==============================] - 0s 151ms/step - loss: 1.1937e-04 - val_loss: 579.2544\n",
      "Epoch 95/250\n",
      "1/1 [==============================] - 0s 146ms/step - loss: 2.0712e-04 - val_loss: 546.4078\n",
      "Epoch 96/250\n",
      "1/1 [==============================] - 0s 147ms/step - loss: 7.6841e-05 - val_loss: 515.9675\n",
      "Epoch 97/250\n",
      "1/1 [==============================] - 0s 145ms/step - loss: 1.8646e-04 - val_loss: 488.1528\n",
      "Epoch 98/250\n",
      "1/1 [==============================] - 0s 146ms/step - loss: 1.1416e-04 - val_loss: 462.5556\n",
      "Epoch 99/250\n",
      "1/1 [==============================] - 0s 148ms/step - loss: 6.9390e-05 - val_loss: 438.9302\n",
      "Epoch 100/250\n",
      "1/1 [==============================] - 0s 146ms/step - loss: 1.1326e-04 - val_loss: 417.2685\n",
      "Epoch 101/250\n",
      "1/1 [==============================] - 0s 153ms/step - loss: 5.1641e-05 - val_loss: 396.9471\n",
      "Epoch 102/250\n",
      "1/1 [==============================] - 0s 150ms/step - loss: 8.5418e-05 - val_loss: 377.5921\n",
      "Epoch 103/250\n",
      "1/1 [==============================] - 0s 146ms/step - loss: 8.1209e-05 - val_loss: 359.5862\n",
      "Epoch 104/250\n",
      "1/1 [==============================] - 0s 146ms/step - loss: 3.7263e-05 - val_loss: 342.6654\n",
      "Epoch 105/250\n",
      "1/1 [==============================] - 0s 146ms/step - loss: 8.0127e-05 - val_loss: 326.3452\n",
      "Epoch 106/250\n",
      "1/1 [==============================] - 0s 148ms/step - loss: 3.1359e-05 - val_loss: 311.2583\n",
      "Epoch 107/250\n",
      "1/1 [==============================] - 0s 151ms/step - loss: 4.3671e-05 - val_loss: 297.3791\n",
      "Epoch 108/250\n",
      "1/1 [==============================] - 0s 155ms/step - loss: 5.5749e-05 - val_loss: 284.5006\n",
      "Epoch 109/250\n",
      "1/1 [==============================] - 0s 147ms/step - loss: 2.5569e-05 - val_loss: 272.4770\n",
      "Epoch 110/250\n",
      "1/1 [==============================] - 0s 150ms/step - loss: 4.0358e-05 - val_loss: 261.1602\n",
      "Epoch 111/250\n",
      "1/1 [==============================] - 0s 156ms/step - loss: 2.7032e-05 - val_loss: 250.1821\n",
      "Epoch 112/250\n",
      "1/1 [==============================] - 0s 152ms/step - loss: 2.2058e-05 - val_loss: 239.7346\n",
      "Epoch 113/250\n",
      "1/1 [==============================] - 0s 152ms/step - loss: 3.4564e-05 - val_loss: 230.0241\n",
      "Epoch 114/250\n",
      "1/1 [==============================] - 0s 146ms/step - loss: 1.3304e-05 - val_loss: 220.7182\n",
      "Epoch 115/250\n",
      "1/1 [==============================] - 0s 147ms/step - loss: 2.3149e-05 - val_loss: 211.8434\n",
      "Epoch 116/250\n",
      "1/1 [==============================] - 0s 147ms/step - loss: 2.3973e-05 - val_loss: 203.6612\n",
      "Epoch 117/250\n",
      "1/1 [==============================] - 0s 146ms/step - loss: 1.3142e-05 - val_loss: 195.8773\n",
      "Epoch 118/250\n",
      "1/1 [==============================] - 0s 147ms/step - loss: 1.9629e-05 - val_loss: 188.4710\n",
      "Epoch 119/250\n",
      "1/1 [==============================] - 0s 147ms/step - loss: 1.5830e-05 - val_loss: 181.6131\n",
      "Epoch 120/250\n",
      "1/1 [==============================] - 0s 153ms/step - loss: 7.6598e-06 - val_loss: 175.1482\n",
      "Epoch 121/250\n",
      "1/1 [==============================] - 0s 146ms/step - loss: 1.5440e-05 - val_loss: 168.7976\n",
      "Epoch 122/250\n",
      "1/1 [==============================] - 0s 147ms/step - loss: 1.0294e-05 - val_loss: 162.8084\n",
      "Epoch 123/250\n",
      "1/1 [==============================] - 0s 146ms/step - loss: 7.7547e-06 - val_loss: 157.0835\n",
      "Epoch 124/250\n",
      "1/1 [==============================] - 0s 151ms/step - loss: 9.5709e-06 - val_loss: 151.5336\n",
      "Epoch 125/250\n",
      "1/1 [==============================] - 0s 149ms/step - loss: 5.1666e-06 - val_loss: 146.3307\n",
      "Epoch 126/250\n",
      "1/1 [==============================] - 0s 149ms/step - loss: 5.3300e-06 - val_loss: 141.4883\n",
      "Epoch 127/250\n",
      "1/1 [==============================] - 0s 147ms/step - loss: 9.7624e-06 - val_loss: 136.7881\n",
      "Epoch 128/250\n",
      "1/1 [==============================] - 0s 147ms/step - loss: 3.4006e-06 - val_loss: 132.3116\n",
      "Epoch 129/250\n",
      "1/1 [==============================] - 0s 146ms/step - loss: 4.7624e-06 - val_loss: 127.9818\n",
      "Epoch 130/250\n",
      "1/1 [==============================] - 0s 153ms/step - loss: 5.5358e-06 - val_loss: 123.6863\n",
      "Epoch 131/250\n",
      "1/1 [==============================] - 0s 149ms/step - loss: 3.3751e-06 - val_loss: 119.6279\n",
      "Epoch 132/250\n",
      "1/1 [==============================] - 0s 146ms/step - loss: 3.3585e-06 - val_loss: 115.8010\n",
      "Epoch 133/250\n",
      "1/1 [==============================] - 0s 173ms/step - loss: 4.9373e-06 - val_loss: 112.0538\n",
      "Epoch 134/250\n",
      "1/1 [==============================] - 0s 148ms/step - loss: 1.9986e-06 - val_loss: 108.4285\n",
      "Epoch 135/250\n",
      "1/1 [==============================] - 0s 151ms/step - loss: 1.8334e-06 - val_loss: 105.0285\n",
      "Epoch 136/250\n",
      "1/1 [==============================] - 0s 148ms/step - loss: 3.3340e-06 - val_loss: 101.7044\n",
      "Epoch 137/250\n",
      "1/1 [==============================] - 0s 148ms/step - loss: 2.2148e-06 - val_loss: 98.4813\n",
      "Epoch 138/250\n",
      "1/1 [==============================] - 0s 146ms/step - loss: 1.8247e-06 - val_loss: 95.3942\n",
      "Epoch 139/250\n",
      "1/1 [==============================] - 0s 157ms/step - loss: 2.5772e-06 - val_loss: 92.4099\n",
      "Epoch 140/250\n",
      "1/1 [==============================] - 0s 153ms/step - loss: 1.1851e-06 - val_loss: 89.5591\n",
      "Epoch 141/250\n",
      "1/1 [==============================] - 0s 148ms/step - loss: 1.3131e-06 - val_loss: 86.7542\n",
      "Epoch 142/250\n",
      "1/1 [==============================] - 0s 155ms/step - loss: 2.0933e-06 - val_loss: 84.0130\n",
      "Epoch 143/250\n",
      "1/1 [==============================] - 0s 158ms/step - loss: 1.0418e-06 - val_loss: 81.4001\n",
      "Epoch 144/250\n",
      "1/1 [==============================] - 0s 147ms/step - loss: 6.8368e-07 - val_loss: 78.9018\n",
      "Epoch 145/250\n",
      "1/1 [==============================] - 0s 148ms/step - loss: 1.3317e-06 - val_loss: 76.4673\n",
      "Epoch 146/250\n",
      "1/1 [==============================] - 0s 147ms/step - loss: 1.1689e-06 - val_loss: 74.2037\n",
      "Epoch 147/250\n",
      "1/1 [==============================] - 0s 148ms/step - loss: 4.0140e-07 - val_loss: 72.0467\n",
      "Epoch 148/250\n",
      "1/1 [==============================] - 0s 146ms/step - loss: 9.7556e-07 - val_loss: 69.9241\n",
      "Epoch 149/250\n",
      "1/1 [==============================] - 0s 150ms/step - loss: 8.9671e-07 - val_loss: 67.9276\n",
      "Epoch 150/250\n",
      "1/1 [==============================] - 0s 154ms/step - loss: 4.4669e-07 - val_loss: 66.0277\n",
      "Epoch 151/250\n",
      "1/1 [==============================] - 0s 147ms/step - loss: 4.5403e-07 - val_loss: 64.2190\n",
      "Epoch 152/250\n",
      "1/1 [==============================] - 0s 148ms/step - loss: 7.7180e-07 - val_loss: 62.4964\n",
      "Epoch 153/250\n",
      "1/1 [==============================] - 0s 146ms/step - loss: 4.3268e-07 - val_loss: 60.8512\n",
      "Epoch 154/250\n",
      "1/1 [==============================] - 0s 152ms/step - loss: 1.9081e-07 - val_loss: 59.2553\n",
      "Epoch 155/250\n",
      "1/1 [==============================] - 0s 147ms/step - loss: 4.9695e-07 - val_loss: 57.7281\n"
     ]
    },
    {
     "name": "stdout",
     "output_type": "stream",
     "text": [
      "Epoch 156/250\n",
      "1/1 [==============================] - 0s 148ms/step - loss: 4.4929e-07 - val_loss: 56.2310\n",
      "Epoch 157/250\n",
      "1/1 [==============================] - 0s 148ms/step - loss: 2.2658e-07 - val_loss: 54.7848\n",
      "Epoch 158/250\n",
      "1/1 [==============================] - 0s 154ms/step - loss: 2.0825e-07 - val_loss: 53.4041\n",
      "Epoch 159/250\n",
      "1/1 [==============================] - 0s 215ms/step - loss: 4.6418e-07 - val_loss: 52.0465\n",
      "Epoch 160/250\n",
      "1/1 [==============================] - 0s 169ms/step - loss: 2.6620e-07 - val_loss: 50.7530\n",
      "Epoch 161/250\n",
      "1/1 [==============================] - 0s 152ms/step - loss: 9.4580e-08 - val_loss: 49.4971\n",
      "Epoch 162/250\n",
      "1/1 [==============================] - 0s 149ms/step - loss: 2.3063e-07 - val_loss: 48.2747\n",
      "Epoch 163/250\n",
      "1/1 [==============================] - 0s 148ms/step - loss: 3.0482e-07 - val_loss: 47.1342\n",
      "Epoch 164/250\n",
      "1/1 [==============================] - 0s 166ms/step - loss: 1.8440e-07 - val_loss: 46.0215\n",
      "Epoch 165/250\n",
      "1/1 [==============================] - 0s 182ms/step - loss: 7.1954e-08 - val_loss: 44.9608\n",
      "Epoch 166/250\n",
      "1/1 [==============================] - 0s 148ms/step - loss: 1.4798e-07 - val_loss: 43.9330\n",
      "Epoch 167/250\n",
      "1/1 [==============================] - 0s 148ms/step - loss: 1.8664e-07 - val_loss: 42.9246\n",
      "Epoch 168/250\n",
      "1/1 [==============================] - 0s 148ms/step - loss: 1.0768e-07 - val_loss: 41.9612\n",
      "Epoch 169/250\n",
      "1/1 [==============================] - 0s 154ms/step - loss: 5.3889e-08 - val_loss: 40.9978\n",
      "Epoch 170/250\n",
      "1/1 [==============================] - 0s 148ms/step - loss: 8.8203e-08 - val_loss: 40.0435\n",
      "Epoch 171/250\n",
      "1/1 [==============================] - 0s 146ms/step - loss: 1.1150e-07 - val_loss: 39.1141\n",
      "Epoch 172/250\n",
      "1/1 [==============================] - 0s 154ms/step - loss: 7.6338e-08 - val_loss: 38.1916\n",
      "Epoch 173/250\n",
      "1/1 [==============================] - 0s 161ms/step - loss: 3.5949e-08 - val_loss: 37.2893\n",
      "Epoch 174/250\n",
      "1/1 [==============================] - 0s 152ms/step - loss: 5.7037e-08 - val_loss: 36.4069\n",
      "Epoch 175/250\n",
      "1/1 [==============================] - 0s 147ms/step - loss: 7.6517e-08 - val_loss: 35.5291\n",
      "Epoch 176/250\n",
      "1/1 [==============================] - 0s 147ms/step - loss: 5.8673e-08 - val_loss: 34.6844\n",
      "Epoch 177/250\n",
      "1/1 [==============================] - 0s 151ms/step - loss: 1.9812e-08 - val_loss: 33.8785\n",
      "Epoch 178/250\n",
      "1/1 [==============================] - 0s 146ms/step - loss: 3.7260e-08 - val_loss: 33.0873\n",
      "Epoch 179/250\n",
      "1/1 [==============================] - 0s 156ms/step - loss: 5.3283e-08 - val_loss: 32.3269\n",
      "Epoch 180/250\n",
      "1/1 [==============================] - 0s 150ms/step - loss: 4.3409e-08 - val_loss: 31.6001\n",
      "Epoch 181/250\n",
      "1/1 [==============================] - 0s 147ms/step - loss: 2.3337e-08 - val_loss: 30.9028\n",
      "Epoch 182/250\n",
      "1/1 [==============================] - 0s 148ms/step - loss: 1.7481e-08 - val_loss: 30.2161\n",
      "Epoch 183/250\n",
      "1/1 [==============================] - 0s 147ms/step - loss: 2.9556e-08 - val_loss: 29.5431\n",
      "Epoch 184/250\n",
      "1/1 [==============================] - 0s 146ms/step - loss: 3.0526e-08 - val_loss: 28.9025\n",
      "Epoch 185/250\n",
      "1/1 [==============================] - 0s 146ms/step - loss: 2.6952e-08 - val_loss: 28.2805\n",
      "Epoch 186/250\n",
      "1/1 [==============================] - 0s 147ms/step - loss: 1.0671e-08 - val_loss: 27.6750\n",
      "Epoch 187/250\n",
      "1/1 [==============================] - 0s 147ms/step - loss: 1.2191e-08 - val_loss: 27.0778\n",
      "Epoch 188/250\n",
      "1/1 [==============================] - 0s 146ms/step - loss: 2.0578e-08 - val_loss: 26.4953\n",
      "Epoch 189/250\n",
      "1/1 [==============================] - 0s 153ms/step - loss: 2.1374e-08 - val_loss: 25.9349\n",
      "Epoch 190/250\n",
      "1/1 [==============================] - 0s 147ms/step - loss: 1.1355e-08 - val_loss: 25.3887\n",
      "Epoch 191/250\n",
      "1/1 [==============================] - 0s 145ms/step - loss: 6.5030e-09 - val_loss: 24.8592\n",
      "Epoch 192/250\n",
      "1/1 [==============================] - 0s 152ms/step - loss: 5.1619e-09 - val_loss: 24.3518\n",
      "Epoch 193/250\n",
      "1/1 [==============================] - 0s 149ms/step - loss: 7.4622e-09 - val_loss: 23.8589\n",
      "Epoch 194/250\n",
      "1/1 [==============================] - 0s 147ms/step - loss: 6.6054e-09 - val_loss: 23.3825\n",
      "Epoch 195/250\n",
      "1/1 [==============================] - 0s 147ms/step - loss: 6.7591e-09 - val_loss: 22.9090\n",
      "Epoch 196/250\n",
      "1/1 [==============================] - 0s 146ms/step - loss: 3.2852e-09 - val_loss: 22.4468\n",
      "Epoch 197/250\n",
      "1/1 [==============================] - 0s 148ms/step - loss: 3.2620e-09 - val_loss: 22.0000\n",
      "Epoch 198/250\n",
      "1/1 [==============================] - 0s 147ms/step - loss: 5.9325e-09 - val_loss: 21.5671\n",
      "Epoch 199/250\n",
      "1/1 [==============================] - 0s 157ms/step - loss: 5.6531e-09 - val_loss: 21.1479\n",
      "Epoch 200/250\n",
      "1/1 [==============================] - 0s 147ms/step - loss: 4.2934e-09 - val_loss: 20.7367\n",
      "Epoch 201/250\n",
      "1/1 [==============================] - 0s 149ms/step - loss: 2.4471e-09 - val_loss: 20.3352\n",
      "Epoch 202/250\n",
      "1/1 [==============================] - 0s 148ms/step - loss: 2.3306e-09 - val_loss: 19.9456\n",
      "Epoch 203/250\n",
      "1/1 [==============================] - 0s 146ms/step - loss: 2.7777e-09 - val_loss: 19.5635\n",
      "Epoch 204/250\n",
      "1/1 [==============================] - 0s 147ms/step - loss: 2.8266e-09 - val_loss: 19.2008\n",
      "Epoch 205/250\n",
      "1/1 [==============================] - 0s 147ms/step - loss: 2.4424e-09 - val_loss: 18.8392\n",
      "Epoch 206/250\n",
      "1/1 [==============================] - 0s 148ms/step - loss: 1.5716e-09 - val_loss: 18.4807\n",
      "Epoch 207/250\n",
      "1/1 [==============================] - 0s 146ms/step - loss: 1.0617e-09 - val_loss: 18.1296\n",
      "Epoch 208/250\n",
      "1/1 [==============================] - 0s 149ms/step - loss: 2.1304e-09 - val_loss: 17.7914\n",
      "Epoch 209/250\n",
      "1/1 [==============================] - 0s 154ms/step - loss: 1.3155e-09 - val_loss: 17.4610\n",
      "Epoch 210/250\n",
      "1/1 [==============================] - 0s 147ms/step - loss: 7.2876e-10 - val_loss: 17.1365\n",
      "Epoch 211/250\n",
      "1/1 [==============================] - 0s 147ms/step - loss: 8.5682e-10 - val_loss: 16.8211\n",
      "Epoch 212/250\n",
      "1/1 [==============================] - 0s 147ms/step - loss: 1.1316e-09 - val_loss: 16.5220\n",
      "Epoch 213/250\n",
      "1/1 [==============================] - 0s 163ms/step - loss: 1.2410e-09 - val_loss: 16.2322\n",
      "Epoch 214/250\n",
      "1/1 [==============================] - 0s 152ms/step - loss: 1.5739e-09 - val_loss: 15.9447\n",
      "Epoch 215/250\n",
      "1/1 [==============================] - 0s 155ms/step - loss: 1.2503e-09 - val_loss: 15.6626\n",
      "Epoch 216/250\n",
      "1/1 [==============================] - 0s 147ms/step - loss: 8.5449e-10 - val_loss: 15.3885\n",
      "Epoch 217/250\n",
      "1/1 [==============================] - 0s 152ms/step - loss: 5.6345e-10 - val_loss: 15.1232\n",
      "Epoch 218/250\n",
      "1/1 [==============================] - 0s 154ms/step - loss: 6.7754e-10 - val_loss: 14.8617\n",
      "Epoch 219/250\n",
      "1/1 [==============================] - 0s 148ms/step - loss: 1.3621e-09 - val_loss: 14.6028\n",
      "Epoch 220/250\n",
      "1/1 [==============================] - 0s 152ms/step - loss: 1.3411e-09 - val_loss: 14.3466\n",
      "Epoch 221/250\n",
      "1/1 [==============================] - 0s 146ms/step - loss: 1.2503e-09 - val_loss: 14.0958\n",
      "Epoch 222/250\n",
      "1/1 [==============================] - 0s 152ms/step - loss: 4.6100e-10 - val_loss: 13.8516\n",
      "Epoch 223/250\n",
      "1/1 [==============================] - 0s 147ms/step - loss: 3.8883e-10 - val_loss: 13.6089\n",
      "Epoch 224/250\n",
      "1/1 [==============================] - 0s 147ms/step - loss: 7.6368e-10 - val_loss: 13.3710\n",
      "Epoch 225/250\n",
      "1/1 [==============================] - 0s 151ms/step - loss: 6.5658e-10 - val_loss: 13.1404\n",
      "Epoch 226/250\n",
      "1/1 [==============================] - 0s 148ms/step - loss: 2.1188e-10 - val_loss: 12.9127\n",
      "Epoch 227/250\n",
      "1/1 [==============================] - 0s 147ms/step - loss: 7.1013e-10 - val_loss: 12.6871\n",
      "Epoch 228/250\n",
      "1/1 [==============================] - 0s 156ms/step - loss: 3.0734e-10 - val_loss: 12.4672\n",
      "Epoch 229/250\n",
      "1/1 [==============================] - 0s 148ms/step - loss: 7.1013e-10 - val_loss: 12.2529\n",
      "Epoch 230/250\n",
      "1/1 [==============================] - 0s 155ms/step - loss: 1.6252e-09 - val_loss: 12.0426\n",
      "Epoch 231/250\n",
      "1/1 [==============================] - 0s 151ms/step - loss: 2.0815e-09 - val_loss: 11.8354\n",
      "Epoch 232/250\n",
      "1/1 [==============================] - 0s 154ms/step - loss: 2.2887e-09 - val_loss: 11.6342\n",
      "Epoch 233/250\n"
     ]
    },
    {
     "name": "stdout",
     "output_type": "stream",
     "text": [
      "1/1 [==============================] - 0s 148ms/step - loss: 2.9197e-09 - val_loss: 11.4357\n",
      "Epoch 234/250\n",
      "1/1 [==============================] - 0s 145ms/step - loss: 3.0664e-09 - val_loss: 11.2437\n",
      "Epoch 235/250\n",
      "1/1 [==============================] - 0s 151ms/step - loss: 4.4750e-09 - val_loss: 11.0520\n",
      "Epoch 236/250\n",
      "1/1 [==============================] - 0s 153ms/step - loss: 7.8278e-09 - val_loss: 10.8679\n",
      "Epoch 237/250\n",
      "1/1 [==============================] - 0s 151ms/step - loss: 1.5420e-08 - val_loss: 10.6867\n",
      "Epoch 238/250\n",
      "1/1 [==============================] - 0s 157ms/step - loss: 3.0359e-08 - val_loss: 10.5130\n",
      "Epoch 239/250\n",
      "1/1 [==============================] - 0s 150ms/step - loss: 5.8718e-08 - val_loss: 10.3349\n",
      "Epoch 240/250\n",
      "1/1 [==============================] - 0s 145ms/step - loss: 1.1453e-07 - val_loss: 10.1686\n",
      "Epoch 241/250\n",
      "1/1 [==============================] - 0s 147ms/step - loss: 2.4127e-07 - val_loss: 9.9940\n",
      "Epoch 242/250\n",
      "1/1 [==============================] - 0s 147ms/step - loss: 5.3774e-07 - val_loss: 9.8391\n",
      "Epoch 243/250\n",
      "1/1 [==============================] - 0s 146ms/step - loss: 1.2082e-06 - val_loss: 9.6613\n",
      "Epoch 244/250\n",
      "1/1 [==============================] - 0s 148ms/step - loss: 2.6927e-06 - val_loss: 9.5232\n",
      "Epoch 245/250\n",
      "1/1 [==============================] - 0s 146ms/step - loss: 5.9597e-06 - val_loss: 9.3315\n",
      "Epoch 246/250\n",
      "1/1 [==============================] - 0s 147ms/step - loss: 1.3232e-05 - val_loss: 9.2259\n",
      "Epoch 247/250\n",
      "1/1 [==============================] - 0s 150ms/step - loss: 2.9838e-05 - val_loss: 9.0004\n",
      "Epoch 248/250\n",
      "1/1 [==============================] - 0s 153ms/step - loss: 7.1458e-05 - val_loss: 8.9652\n",
      "Epoch 249/250\n",
      "1/1 [==============================] - 0s 148ms/step - loss: 1.9669e-04 - val_loss: 8.6262\n",
      "Epoch 250/250\n",
      "1/1 [==============================] - 0s 149ms/step - loss: 5.6206e-04 - val_loss: 8.8081\n"
     ]
    },
    {
     "data": {
      "text/plain": [
       "<tensorflow.python.keras.callbacks.History at 0x7f7b00256af0>"
      ]
     },
     "execution_count": 13,
     "metadata": {},
     "output_type": "execute_result"
    }
   ],
   "source": [
    "logger = CSVLogger(store_path + \"/log\")\n",
    "\n",
    "callbacks = [logger]\n",
    "\n",
    "model.compile(optimizer='adam', loss = custom_loss)\n",
    "model.fit(X_train, y_train, validation_data=(X_train, y_train), callbacks=callbacks, batch_size=1, epochs=250)"
   ]
  },
  {
   "cell_type": "code",
   "execution_count": 14,
   "metadata": {},
   "outputs": [],
   "source": [
    "model.save_weights(store_path + \"/weights.hdf5\")"
   ]
  },
  {
   "cell_type": "code",
   "execution_count": 15,
   "metadata": {
    "scrolled": true
   },
   "outputs": [
    {
     "data": {
      "image/png": "[encoded data removed]",
      "text/plain": [
       "<Figure size 432x288 with 1 Axes>"
      ]
     },
     "metadata": {
      "needs_background": "light"
     },
     "output_type": "display_data"
    }
   ],
   "source": [
    "y_pred = model.predict(X_train)\n",
    "\n",
    "u_x = y_pred[0,:,:,0]\n",
    "u_y = y_pred[0,:,:,1]\n",
    "\n",
    "plt.imshow(y_pred[0,:,:,0], cmap=\"gray\")\n",
    "\n",
    "plt.imsave(store_path + \"/u_x.png\", u_x, cmap=\"gray\")\n",
    "plt.imsave(store_path + \"/u_y.png\", u_y, cmap=\"gray\")\n",
    "\n",
    "u_x.dump(store_path + \"/u_x\")\n",
    "u_y.dump(store_path + \"/u_y\")"
   ]
  },
  {
   "cell_type": "code",
   "execution_count": 16,
   "metadata": {},
   "outputs": [],
   "source": [
    "def plot_cube(img, x, y, val):\n",
    "    \n",
    "    img[y][x] = val\n",
    "    img[y][x-1] = val\n",
    "    img[y][x+1] = val\n",
    "    img[y-1][x] = val\n",
    "    img[y-1][x-1] = val\n",
    "    img[y-1][x+1] = val\n",
    "    img[y+1][x] = val\n",
    "    img[y+1][x-1] = val\n",
    "    img[y+1][x+1] = val  "
   ]
  },
  {
   "cell_type": "code",
   "execution_count": 17,
   "metadata": {},
   "outputs": [
    {
     "data": {
      "image/png": "[encoded data removed]",
      "text/plain": [
       "<Figure size 432x288 with 1 Axes>"
      ]
     },
     "metadata": {
      "needs_background": "light"
     },
     "output_type": "display_data"
    }
   ],
   "source": [
    "warp = np.zeros((width, height))\n",
    "\n",
    "for index in range(0,25):\n",
    "    x = moving_data[str(index)][0]\n",
    "    y = moving_data[str(index)][1]\n",
    "    \n",
    "    plot_cube(warp, x, y, 1) #blue\n",
    "    \n",
    "    ux_field = y_pred[0,:,:,0]\n",
    "    uy_field = y_pred[0,:,:,1]\n",
    "    \n",
    "    ux = ux_field[y][x]\n",
    "    uy = uy_field[y][x]\n",
    "    \n",
    "    x = int(round(x + ux))\n",
    "    y = int(round(y + uy))\n",
    "            \n",
    "    plot_cube(warp, x, y, 2) #green    \n",
    "    \n",
    "    x = fixed_data[str(index)][0]\n",
    "    y = fixed_data[str(index)][1]\n",
    "    \n",
    "    plot_cube(warp, x, y, 3) #yellow    \n",
    "    \n",
    "plt.imshow(warp)\n",
    "plt.imsave(store_path + \"/warp.png\", warp)"
   ]
  },
  {
   "cell_type": "code",
   "execution_count": null,
   "metadata": {},
   "outputs": [],
   "source": []
  }
 ],
 "metadata": {
  "kernelspec": {
   "display_name": "Python 3",
   "language": "python",
   "name": "python3"
  },
  "language_info": {
   "codemirror_mode": {
    "name": "ipython",
    "version": 3
   },
   "file_extension": ".py",
   "mimetype": "text/x-python",
   "name": "python",
   "nbconvert_exporter": "python",
   "pygments_lexer": "ipython3",
   "version": "3.8.2"
  }
 },
 "nbformat": 4,
 "nbformat_minor": 4
}

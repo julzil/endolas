{
 "cells": [
  {
   "cell_type": "markdown",
   "metadata": {},
   "source": [
    "# Import packages"
   ]
  },
  {
   "cell_type": "code",
   "execution_count": 1,
   "metadata": {},
   "outputs": [],
   "source": [
    "import sys\n",
    "#sys.path.append(\"D:\\Julian\\workspace\\endolas\")\n",
    "sys.path.append(\"/home/julian/Documents/Studium/MT-Masterarbeit/Workspace/endolas\")\n",
    "\n",
    "import numpy as np\n",
    "import matplotlib.pyplot as plt\n",
    "import utils\n",
    "import os\n",
    "import importlib\n",
    "\n",
    "import pandas as pd\n",
    "import seaborn as sns"
   ]
  },
  {
   "cell_type": "markdown",
   "metadata": {},
   "source": [
    "# Load data and plot"
   ]
  },
  {
   "cell_type": "code",
   "execution_count": 2,
   "metadata": {},
   "outputs": [],
   "source": [
    "series = 6\n",
    "experiment = 8\n",
    "#evalutaion_csv = os.path.abspath('../{}_{}_euclidean/evaluation_spatial.csv'.format(series, experiment))\n",
    "evalutaion_csv = os.path.abspath('../{}_{}_euclidean/evaluation_display.csv'.format(series, experiment))\n",
    "data = pd.read_csv(evalutaion_csv)\n",
    "data_val = data[data.Set=='val']\n",
    "data_test = data[data.Set=='test']"
   ]
  },
  {
   "cell_type": "code",
   "execution_count": 3,
   "metadata": {},
   "outputs": [
    {
     "data": {
      "text/html": [
       "<div>\n",
       "<style scoped>\n",
       "    .dataframe tbody tr th:only-of-type {\n",
       "        vertical-align: middle;\n",
       "    }\n",
       "\n",
       "    .dataframe tbody tr th {\n",
       "        vertical-align: top;\n",
       "    }\n",
       "\n",
       "    .dataframe thead th {\n",
       "        text-align: right;\n",
       "    }\n",
       "</style>\n",
       "<table border=\"1\" class=\"dataframe\">\n",
       "  <thead>\n",
       "    <tr style=\"text-align: right;\">\n",
       "      <th></th>\n",
       "      <th>Unnamed: 0</th>\n",
       "      <th>x</th>\n",
       "      <th>y</th>\n",
       "      <th>Set</th>\n",
       "      <th>Image</th>\n",
       "      <th>Point</th>\n",
       "      <th>Type</th>\n",
       "    </tr>\n",
       "  </thead>\n",
       "  <tbody>\n",
       "    <tr>\n",
       "      <th>0</th>\n",
       "      <td>0</td>\n",
       "      <td>67</td>\n",
       "      <td>157</td>\n",
       "      <td>val</td>\n",
       "      <td>1</td>\n",
       "      <td>0</td>\n",
       "      <td>warped</td>\n",
       "    </tr>\n",
       "    <tr>\n",
       "      <th>1</th>\n",
       "      <td>1</td>\n",
       "      <td>90</td>\n",
       "      <td>157</td>\n",
       "      <td>val</td>\n",
       "      <td>1</td>\n",
       "      <td>1</td>\n",
       "      <td>warped</td>\n",
       "    </tr>\n",
       "    <tr>\n",
       "      <th>2</th>\n",
       "      <td>2</td>\n",
       "      <td>112</td>\n",
       "      <td>157</td>\n",
       "      <td>val</td>\n",
       "      <td>1</td>\n",
       "      <td>2</td>\n",
       "      <td>warped</td>\n",
       "    </tr>\n",
       "    <tr>\n",
       "      <th>3</th>\n",
       "      <td>3</td>\n",
       "      <td>135</td>\n",
       "      <td>157</td>\n",
       "      <td>val</td>\n",
       "      <td>1</td>\n",
       "      <td>3</td>\n",
       "      <td>warped</td>\n",
       "    </tr>\n",
       "    <tr>\n",
       "      <th>4</th>\n",
       "      <td>4</td>\n",
       "      <td>157</td>\n",
       "      <td>157</td>\n",
       "      <td>val</td>\n",
       "      <td>1</td>\n",
       "      <td>4</td>\n",
       "      <td>warped</td>\n",
       "    </tr>\n",
       "    <tr>\n",
       "      <th>...</th>\n",
       "      <td>...</td>\n",
       "      <td>...</td>\n",
       "      <td>...</td>\n",
       "      <td>...</td>\n",
       "      <td>...</td>\n",
       "      <td>...</td>\n",
       "      <td>...</td>\n",
       "    </tr>\n",
       "    <tr>\n",
       "      <th>66929</th>\n",
       "      <td>66929</td>\n",
       "      <td>91</td>\n",
       "      <td>93</td>\n",
       "      <td>test</td>\n",
       "      <td>4798</td>\n",
       "      <td>20</td>\n",
       "      <td>moving</td>\n",
       "    </tr>\n",
       "    <tr>\n",
       "      <th>66930</th>\n",
       "      <td>66930</td>\n",
       "      <td>116</td>\n",
       "      <td>84</td>\n",
       "      <td>test</td>\n",
       "      <td>4798</td>\n",
       "      <td>21</td>\n",
       "      <td>moving</td>\n",
       "    </tr>\n",
       "    <tr>\n",
       "      <th>66931</th>\n",
       "      <td>66931</td>\n",
       "      <td>140</td>\n",
       "      <td>82</td>\n",
       "      <td>test</td>\n",
       "      <td>4798</td>\n",
       "      <td>22</td>\n",
       "      <td>moving</td>\n",
       "    </tr>\n",
       "    <tr>\n",
       "      <th>66932</th>\n",
       "      <td>66932</td>\n",
       "      <td>166</td>\n",
       "      <td>90</td>\n",
       "      <td>test</td>\n",
       "      <td>4798</td>\n",
       "      <td>23</td>\n",
       "      <td>moving</td>\n",
       "    </tr>\n",
       "    <tr>\n",
       "      <th>66933</th>\n",
       "      <td>66933</td>\n",
       "      <td>193</td>\n",
       "      <td>105</td>\n",
       "      <td>test</td>\n",
       "      <td>4798</td>\n",
       "      <td>24</td>\n",
       "      <td>moving</td>\n",
       "    </tr>\n",
       "  </tbody>\n",
       "</table>\n",
       "<p>66934 rows × 7 columns</p>\n",
       "</div>"
      ],
      "text/plain": [
       "       Unnamed: 0    x    y   Set  Image  Point    Type\n",
       "0               0   67  157   val      1      0  warped\n",
       "1               1   90  157   val      1      1  warped\n",
       "2               2  112  157   val      1      2  warped\n",
       "3               3  135  157   val      1      3  warped\n",
       "4               4  157  157   val      1      4  warped\n",
       "...           ...  ...  ...   ...    ...    ...     ...\n",
       "66929       66929   91   93  test   4798     20  moving\n",
       "66930       66930  116   84  test   4798     21  moving\n",
       "66931       66931  140   82  test   4798     22  moving\n",
       "66932       66932  166   90  test   4798     23  moving\n",
       "66933       66933  193  105  test   4798     24  moving\n",
       "\n",
       "[66934 rows x 7 columns]"
      ]
     },
     "execution_count": 3,
     "metadata": {},
     "output_type": "execute_result"
    }
   ],
   "source": [
    "data"
   ]
  },
  {
   "cell_type": "markdown",
   "metadata": {},
   "source": [
    "# Distribution"
   ]
  },
  {
   "cell_type": "code",
   "execution_count": null,
   "metadata": {},
   "outputs": [],
   "source": [
    "plt.rcParams['figure.figsize'] = 6,6\n",
    "ax = plt.axes()\n",
    "ax.axhline(67, linewidth=1, color='gray')\n",
    "ax.axhline(90, linewidth=1, color='gray')\n",
    "ax.axhline(112, linewidth=1, color='gray')\n",
    "ax.axhline(134, linewidth=1, color='gray')\n",
    "ax.axhline(157, linewidth=1, color='gray')\n",
    "\n",
    "ax.axvline(67, linewidth=1, color='gray')\n",
    "ax.axvline(90, linewidth=1, color='gray')\n",
    "ax.axvline(112, linewidth=1, color='gray')\n",
    "ax.axvline(134, linewidth=1, color='gray')\n",
    "ax.axvline(157, linewidth=1, color='gray')\n",
    "\n",
    "\n",
    "sns.set(style=\"ticks\")\n",
    "\n",
    "ax.set(ylim=(0, 224))\n",
    "ax.set(xlim=(0, 224))\n",
    "ax.xaxis.set_ticks([0,67, 90,112, 134, 157, 224])\n",
    "ax.yaxis.set_ticks([0,67, 90,112, 134, 157, 224])\n",
    "ax = sns.scatterplot(x=\"x\", y=\"y\", hue=\"Point\", linewidth=0, data=data_test,s=5, ax=ax, palette='Paired')\n",
    "ax.legend().set_visible(False)\n",
    "\n",
    "ax.set_xlabel('x(test)')\n",
    "ax.set_ylabel('y(test)')\n",
    "\n",
    "ax.set_aspect('equal')\n",
    "plt.savefig(\"spatial_distribution_8_test.png\")"
   ]
  },
  {
   "cell_type": "markdown",
   "metadata": {},
   "source": [
    "# Density"
   ]
  },
  {
   "cell_type": "code",
   "execution_count": 119,
   "metadata": {},
   "outputs": [
    {
     "name": "stderr",
     "output_type": "stream",
     "text": [
      "No handles with labels found to put in legend.\n"
     ]
    },
    {
     "data": {
      "image/png": "[encoded data removed]",
      "text/plain": [
       "<Figure size 432x432 with 1 Axes>"
      ]
     },
     "metadata": {},
     "output_type": "display_data"
    }
   ],
   "source": [
    "plt.rcParams['figure.figsize'] = 6,6\n",
    "ax = plt.axes()\n",
    "\n",
    "sns.set()\n",
    "\n",
    "ax.set(ylim=(0, 224))\n",
    "ax.set(xlim=(0, 224))\n",
    "ax.xaxis.set_ticks([0,67, 90,112, 134, 157, 224])\n",
    "ax.yaxis.set_ticks([0,67, 90,112, 134, 157, 224])\n",
    "#cmap = sns.cubehelix_palette(light=1, as_cmap=True)\n",
    "sns.kdeplot(data_test['x'], data_test['y'], shade=True, ax=ax, shade_lowest=False)\n",
    "ax.legend().set_visible(False)\n",
    "\n",
    "ax.set_xlabel('x(test)')\n",
    "ax.set_ylabel('y(test)')\n",
    "\n",
    "ax.set_aspect('equal')\n",
    "plt.savefig(\"spatial_kde_8_test.svg\")"
   ]
  },
  {
   "cell_type": "markdown",
   "metadata": {},
   "source": [
    "# Display"
   ]
  },
  {
   "cell_type": "code",
   "execution_count": 42,
   "metadata": {},
   "outputs": [
    {
     "name": "stderr",
     "output_type": "stream",
     "text": [
      "<ipython-input-42-e75656a2e33e>:12: UserWarning: Boolean Series key will be reindexed to match DataFrame index.\n",
      "  data_warp = data[data.Set=='test'][data.Image==2034]\n"
     ]
    },
    {
     "data": {
      "image/png": "[encoded data removed]",
      "text/plain": [
       "<Figure size 432x432 with 1 Axes>"
      ]
     },
     "metadata": {},
     "output_type": "display_data"
    }
   ],
   "source": [
    "plt.rcParams['figure.figsize'] = 6,6\n",
    "ax = plt.axes()\n",
    "\n",
    "sns.set()\n",
    "\n",
    "ax.set(ylim=(0, 224))\n",
    "ax.set(xlim=(0, 224))\n",
    "ax.xaxis.set_ticks([0,67, 90,112, 134, 157, 224])\n",
    "ax.yaxis.set_ticks([0,67, 90,112, 134, 157, 224])\n",
    "#cmap = sns.cubehelix_palette(light=1, as_cmap=True)\n",
    "\n",
    "data_warp = data[data.Set=='test'][data.Image==2034]\n",
    "ax = sns.scatterplot(x=\"x\", y=\"y\", hue=\"Type\",linewidth=0, data=data_warp,s=15, ax=ax, palette='Set2')\n",
    "\n",
    "ax.set_xlabel('x')\n",
    "ax.set_ylabel('y')\n",
    "\n",
    "ax.set_aspect('equal')\n",
    "plt.savefig(\"display_8_test_2034.svg\")"
   ]
  },
  {
   "cell_type": "code",
   "execution_count": null,
   "metadata": {},
   "outputs": [],
   "source": []
  }
 ],
 "metadata": {
  "kernelspec": {
   "display_name": "Python 3",
   "language": "python",
   "name": "python3"
  },
  "language_info": {
   "codemirror_mode": {
    "name": "ipython",
    "version": 3
   },
   "file_extension": ".py",
   "mimetype": "text/x-python",
   "name": "python",
   "nbconvert_exporter": "python",
   "pygments_lexer": "ipython3",
   "version": "3.8.2"
  }
 },
 "nbformat": 4,
 "nbformat_minor": 2
}

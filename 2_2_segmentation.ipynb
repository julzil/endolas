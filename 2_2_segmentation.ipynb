{
 "cells": [
  {
   "cell_type": "markdown",
   "metadata": {},
   "source": [
    "## 2.2) Supervised Segmentation\n",
    "A U-Net is trained here to perform a semantic segmentation of laser points in the LASTEN data set."
   ]
  },
  {
   "cell_type": "markdown",
   "metadata": {},
   "source": [
    "# Import statements\n",
    "Following packages are necessary:"
   ]
  },
  {
   "cell_type": "code",
   "execution_count": 1,
   "metadata": {},
   "outputs": [
    {
     "name": "stdout",
     "output_type": "stream",
     "text": [
      "Segmentation Models: using `tf.keras` framework.\n"
     ]
    }
   ],
   "source": [
    "import random\n",
    "import utils\n",
    "\n",
    "import tensorflow as tf\n",
    "import numpy as np\n",
    "import segmentation_models as sm\n",
    "\n",
    "from unet import UNet\n",
    "from unet import preprocess_input as pre_une\n",
    "from tensorflow.keras.models import Model\n",
    "from tensorflow.keras.layers import Dense, GlobalAveragePooling2D\n",
    "from tensorflow.keras.callbacks import CSVLogger, ModelCheckpoint\n",
    "from sklearn.model_selection import train_test_split\n",
    "from segmentation_models.losses import dice_loss\n",
    "from segmentation_models.metrics import iou_score\n",
    "from lastengen import LASTENSequence\n",
    "from matplotlib import pyplot as plt"
   ]
  },
  {
   "cell_type": "markdown",
   "metadata": {
    "pycharm": {
     "name": "#%% md\n"
    }
   },
   "source": [
    "# Checks\n",
    "The version of tensorflow as well as the GPU support are checked."
   ]
  },
  {
   "cell_type": "code",
   "execution_count": 2,
   "metadata": {
    "pycharm": {
     "name": "#%%\n"
    }
   },
   "outputs": [
    {
     "name": "stdout",
     "output_type": "stream",
     "text": [
      "2.0.0\n"
     ]
    },
    {
     "data": {
      "text/plain": [
       "[PhysicalDevice(name='/physical_device:GPU:0', device_type='GPU')]"
      ]
     },
     "execution_count": 2,
     "metadata": {},
     "output_type": "execute_result"
    }
   ],
   "source": [
    "print(tf.__version__)\n",
    "#physical_devices = tf.config.list_physical_devices('GPU')\n",
    "#tf.config.experimental.set_memory_growth(physical_devices[0], True)\n",
    "tf.config.experimental.list_physical_devices('GPU')"
   ]
  },
  {
   "cell_type": "markdown",
   "metadata": {
    "pycharm": {
     "name": "#%% md\n"
    }
   },
   "source": [
    "# Data\n",
    "Import training images"
   ]
  },
  {
   "cell_type": "code",
   "execution_count": 3,
   "metadata": {
    "pycharm": {
     "name": "#%%\n"
    }
   },
   "outputs": [],
   "source": [
    "path_train = r'D:\\LASTEN\\train'\n",
    "path_validation = r'D:\\LASTEN\\validation'\n",
    "path_test = r'D:\\LASTEN\\test'\n",
    "\n",
    "#path_train = r'/home/julian/Documents/Studium/MT-Masterarbeit/Data/LASTEN/train'\n",
    "#path_validation = r'/home/julian/Documents/Studium/MT-Masterarbeit/Data/LASTEN/validation'\n",
    "#path_test = r'/home/julian/Documents/Studium/MT-Masterarbeit/Data/LASTEN/test'\n",
    "\n",
    "width = 384 #768\n",
    "height = 384 #768"
   ]
  },
  {
   "cell_type": "markdown",
   "metadata": {
    "pycharm": {
     "name": "#%% md\n"
    }
   },
   "source": [
    "# Seeding\n",
    "Seeds are set to ensure reproducible training."
   ]
  },
  {
   "cell_type": "code",
   "execution_count": 4,
   "metadata": {
    "pycharm": {
     "name": "#%%\n"
    }
   },
   "outputs": [],
   "source": [
    "SEED = 42\n",
    "np.random.seed(SEED)\n",
    "tf.random.set_seed(SEED)\n",
    "random.seed(SEED)"
   ]
  },
  {
   "cell_type": "markdown",
   "metadata": {
    "pycharm": {
     "name": "#%% md\n"
    }
   },
   "source": [
    "# Network\n",
    "A U-Net based network is instantiated with keras to run a semantic segmentation."
   ]
  },
  {
   "cell_type": "code",
   "execution_count": 5,
   "metadata": {
    "pycharm": {
     "name": "#%%\n"
    }
   },
   "outputs": [
    {
     "name": "stdout",
     "output_type": "stream",
     "text": [
      "Model: \"model\"\n",
      "__________________________________________________________________________________________________\n",
      "Layer (type)                    Output Shape         Param #     Connected to                     \n",
      "==================================================================================================\n",
      "input_1 (InputLayer)            [(None, 384, 384, 1) 0                                            \n",
      "__________________________________________________________________________________________________\n",
      "conv2d (Conv2D)                 (None, 384, 384, 48) 432         input_1[0][0]                    \n",
      "__________________________________________________________________________________________________\n",
      "batch_normalization (BatchNorma (None, 384, 384, 48) 192         conv2d[0][0]                     \n",
      "__________________________________________________________________________________________________\n",
      "activation (Activation)         (None, 384, 384, 48) 0           batch_normalization[0][0]        \n",
      "__________________________________________________________________________________________________\n",
      "conv2d_1 (Conv2D)               (None, 384, 384, 48) 20736       activation[0][0]                 \n",
      "__________________________________________________________________________________________________\n",
      "batch_normalization_1 (BatchNor (None, 384, 384, 48) 192         conv2d_1[0][0]                   \n",
      "__________________________________________________________________________________________________\n",
      "activation_1 (Activation)       (None, 384, 384, 48) 0           batch_normalization_1[0][0]      \n",
      "__________________________________________________________________________________________________\n",
      "max_pooling2d (MaxPooling2D)    (None, 192, 192, 48) 0           activation_1[0][0]               \n",
      "__________________________________________________________________________________________________\n",
      "conv2d_2 (Conv2D)               (None, 192, 192, 96) 41472       max_pooling2d[0][0]              \n",
      "__________________________________________________________________________________________________\n",
      "batch_normalization_2 (BatchNor (None, 192, 192, 96) 384         conv2d_2[0][0]                   \n",
      "__________________________________________________________________________________________________\n",
      "activation_2 (Activation)       (None, 192, 192, 96) 0           batch_normalization_2[0][0]      \n",
      "__________________________________________________________________________________________________\n",
      "conv2d_3 (Conv2D)               (None, 192, 192, 96) 82944       activation_2[0][0]               \n",
      "__________________________________________________________________________________________________\n",
      "batch_normalization_3 (BatchNor (None, 192, 192, 96) 384         conv2d_3[0][0]                   \n",
      "__________________________________________________________________________________________________\n",
      "activation_3 (Activation)       (None, 192, 192, 96) 0           batch_normalization_3[0][0]      \n",
      "__________________________________________________________________________________________________\n",
      "max_pooling2d_1 (MaxPooling2D)  (None, 96, 96, 96)   0           activation_3[0][0]               \n",
      "__________________________________________________________________________________________________\n",
      "conv2d_4 (Conv2D)               (None, 96, 96, 192)  165888      max_pooling2d_1[0][0]            \n",
      "__________________________________________________________________________________________________\n",
      "batch_normalization_4 (BatchNor (None, 96, 96, 192)  768         conv2d_4[0][0]                   \n",
      "__________________________________________________________________________________________________\n",
      "activation_4 (Activation)       (None, 96, 96, 192)  0           batch_normalization_4[0][0]      \n",
      "__________________________________________________________________________________________________\n",
      "conv2d_5 (Conv2D)               (None, 96, 96, 192)  331776      activation_4[0][0]               \n",
      "__________________________________________________________________________________________________\n",
      "batch_normalization_5 (BatchNor (None, 96, 96, 192)  768         conv2d_5[0][0]                   \n",
      "__________________________________________________________________________________________________\n",
      "activation_5 (Activation)       (None, 96, 96, 192)  0           batch_normalization_5[0][0]      \n",
      "__________________________________________________________________________________________________\n",
      "max_pooling2d_2 (MaxPooling2D)  (None, 48, 48, 192)  0           activation_5[0][0]               \n",
      "__________________________________________________________________________________________________\n",
      "conv2d_6 (Conv2D)               (None, 48, 48, 384)  663552      max_pooling2d_2[0][0]            \n",
      "__________________________________________________________________________________________________\n",
      "batch_normalization_6 (BatchNor (None, 48, 48, 384)  1536        conv2d_6[0][0]                   \n",
      "__________________________________________________________________________________________________\n",
      "activation_6 (Activation)       (None, 48, 48, 384)  0           batch_normalization_6[0][0]      \n",
      "__________________________________________________________________________________________________\n",
      "conv2d_7 (Conv2D)               (None, 48, 48, 384)  1327104     activation_6[0][0]               \n",
      "__________________________________________________________________________________________________\n",
      "batch_normalization_7 (BatchNor (None, 48, 48, 384)  1536        conv2d_7[0][0]                   \n",
      "__________________________________________________________________________________________________\n",
      "activation_7 (Activation)       (None, 48, 48, 384)  0           batch_normalization_7[0][0]      \n",
      "__________________________________________________________________________________________________\n",
      "max_pooling2d_3 (MaxPooling2D)  (None, 24, 24, 384)  0           activation_7[0][0]               \n",
      "__________________________________________________________________________________________________\n",
      "conv2d_8 (Conv2D)               (None, 24, 24, 768)  2654208     max_pooling2d_3[0][0]            \n",
      "__________________________________________________________________________________________________\n",
      "batch_normalization_8 (BatchNor (None, 24, 24, 768)  3072        conv2d_8[0][0]                   \n",
      "__________________________________________________________________________________________________\n",
      "activation_8 (Activation)       (None, 24, 24, 768)  0           batch_normalization_8[0][0]      \n",
      "__________________________________________________________________________________________________\n",
      "conv2d_9 (Conv2D)               (None, 24, 24, 384)  2654208     activation_8[0][0]               \n",
      "__________________________________________________________________________________________________\n",
      "batch_normalization_9 (BatchNor (None, 24, 24, 384)  1536        conv2d_9[0][0]                   \n",
      "__________________________________________________________________________________________________\n",
      "activation_9 (Activation)       (None, 24, 24, 384)  0           batch_normalization_9[0][0]      \n",
      "__________________________________________________________________________________________________\n",
      "up_sampling2d (UpSampling2D)    (None, 48, 48, 384)  0           activation_9[0][0]               \n",
      "__________________________________________________________________________________________________\n",
      "concatenate (Concatenate)       (None, 48, 48, 768)  0           up_sampling2d[0][0]              \n",
      "                                                                 activation_7[0][0]               \n",
      "__________________________________________________________________________________________________\n",
      "conv2d_10 (Conv2D)              (None, 48, 48, 384)  2654208     concatenate[0][0]                \n",
      "__________________________________________________________________________________________________\n",
      "batch_normalization_10 (BatchNo (None, 48, 48, 384)  1536        conv2d_10[0][0]                  \n",
      "__________________________________________________________________________________________________\n",
      "activation_10 (Activation)      (None, 48, 48, 384)  0           batch_normalization_10[0][0]     \n",
      "__________________________________________________________________________________________________\n",
      "conv2d_11 (Conv2D)              (None, 48, 48, 192)  663552      activation_10[0][0]              \n",
      "__________________________________________________________________________________________________\n",
      "batch_normalization_11 (BatchNo (None, 48, 48, 192)  768         conv2d_11[0][0]                  \n",
      "__________________________________________________________________________________________________\n",
      "activation_11 (Activation)      (None, 48, 48, 192)  0           batch_normalization_11[0][0]     \n",
      "__________________________________________________________________________________________________\n",
      "up_sampling2d_1 (UpSampling2D)  (None, 96, 96, 192)  0           activation_11[0][0]              \n",
      "__________________________________________________________________________________________________\n",
      "concatenate_1 (Concatenate)     (None, 96, 96, 384)  0           up_sampling2d_1[0][0]            \n",
      "                                                                 activation_5[0][0]               \n",
      "__________________________________________________________________________________________________\n",
      "conv2d_12 (Conv2D)              (None, 96, 96, 192)  663552      concatenate_1[0][0]              \n",
      "__________________________________________________________________________________________________\n",
      "batch_normalization_12 (BatchNo (None, 96, 96, 192)  768         conv2d_12[0][0]                  \n",
      "__________________________________________________________________________________________________\n",
      "activation_12 (Activation)      (None, 96, 96, 192)  0           batch_normalization_12[0][0]     \n",
      "__________________________________________________________________________________________________\n",
      "conv2d_13 (Conv2D)              (None, 96, 96, 96)   165888      activation_12[0][0]              \n",
      "__________________________________________________________________________________________________\n",
      "batch_normalization_13 (BatchNo (None, 96, 96, 96)   384         conv2d_13[0][0]                  \n",
      "__________________________________________________________________________________________________\n",
      "activation_13 (Activation)      (None, 96, 96, 96)   0           batch_normalization_13[0][0]     \n",
      "__________________________________________________________________________________________________\n",
      "up_sampling2d_2 (UpSampling2D)  (None, 192, 192, 96) 0           activation_13[0][0]              \n",
      "__________________________________________________________________________________________________\n",
      "concatenate_2 (Concatenate)     (None, 192, 192, 192 0           up_sampling2d_2[0][0]            \n",
      "                                                                 activation_3[0][0]               \n",
      "__________________________________________________________________________________________________\n",
      "conv2d_14 (Conv2D)              (None, 192, 192, 96) 165888      concatenate_2[0][0]              \n",
      "__________________________________________________________________________________________________\n",
      "batch_normalization_14 (BatchNo (None, 192, 192, 96) 384         conv2d_14[0][0]                  \n",
      "__________________________________________________________________________________________________\n",
      "activation_14 (Activation)      (None, 192, 192, 96) 0           batch_normalization_14[0][0]     \n",
      "__________________________________________________________________________________________________\n",
      "conv2d_15 (Conv2D)              (None, 192, 192, 48) 41472       activation_14[0][0]              \n",
      "__________________________________________________________________________________________________\n",
      "batch_normalization_15 (BatchNo (None, 192, 192, 48) 192         conv2d_15[0][0]                  \n",
      "__________________________________________________________________________________________________\n",
      "activation_15 (Activation)      (None, 192, 192, 48) 0           batch_normalization_15[0][0]     \n",
      "__________________________________________________________________________________________________\n",
      "up_sampling2d_3 (UpSampling2D)  (None, 384, 384, 48) 0           activation_15[0][0]              \n",
      "__________________________________________________________________________________________________\n",
      "concatenate_3 (Concatenate)     (None, 384, 384, 96) 0           up_sampling2d_3[0][0]            \n",
      "                                                                 activation_1[0][0]               \n",
      "__________________________________________________________________________________________________\n",
      "conv2d_16 (Conv2D)              (None, 384, 384, 48) 41472       concatenate_3[0][0]              \n",
      "__________________________________________________________________________________________________\n",
      "batch_normalization_16 (BatchNo (None, 384, 384, 48) 192         conv2d_16[0][0]                  \n",
      "__________________________________________________________________________________________________\n",
      "activation_16 (Activation)      (None, 384, 384, 48) 0           batch_normalization_16[0][0]     \n",
      "__________________________________________________________________________________________________\n",
      "conv2d_17 (Conv2D)              (None, 384, 384, 48) 20736       activation_16[0][0]              \n",
      "__________________________________________________________________________________________________\n",
      "batch_normalization_17 (BatchNo (None, 384, 384, 48) 192         conv2d_17[0][0]                  \n",
      "__________________________________________________________________________________________________\n",
      "activation_17 (Activation)      (None, 384, 384, 48) 0           batch_normalization_17[0][0]     \n",
      "__________________________________________________________________________________________________\n",
      "segmentation (Conv2D)           (None, 384, 384, 1)  48          activation_17[0][0]              \n",
      "==================================================================================================\n",
      "Total params: 12,373,920\n",
      "Trainable params: 12,366,528\n",
      "Non-trainable params: 7,392\n",
      "__________________________________________________________________________________________________\n"
     ]
    }
   ],
   "source": [
    "model = UNet(filters=48, input_shape=(height, width, 1))\n",
    "model.summary()"
   ]
  },
  {
   "cell_type": "markdown",
   "metadata": {
    "pycharm": {
     "name": "#%% md\n"
    }
   },
   "source": [
    "# Data Preparation\n",
    "The generator sequence for training is built."
   ]
  },
  {
   "cell_type": "code",
   "execution_count": 6,
   "metadata": {
    "pycharm": {
     "name": "#%%\n"
    }
   },
   "outputs": [],
   "source": [
    "image_ids = None\n",
    "\n",
    "train_gen = LASTENSequence(path_train,\n",
    "                           batch_size=8,\n",
    "                           image_ids=image_ids,\n",
    "                           preprocess_input=pre_une,\n",
    "                           shuffle=True,\n",
    "                           augment=True,\n",
    "                           width=width,\n",
    "                           height=height)\n",
    "\n",
    "validation_gen = LASTENSequence(path_validation,\n",
    "                                batch_size=8,\n",
    "                                preprocess_input=pre_une,\n",
    "                                width=width,\n",
    "                                height=height)\n",
    "\n",
    "#test_gen = LASTENSequence(path_train,\n",
    "#                          batch_size=8,\n",
    "#                          preprocess_input=pre_une,\n",
    "#                          width=width,\n",
    "#                          height=height)"
   ]
  },
  {
   "cell_type": "markdown",
   "metadata": {
    "pycharm": {
     "name": "#%% md\n"
    }
   },
   "source": [
    "# Training Preparation\n",
    "Prepare the settings for training the model."
   ]
  },
  {
   "cell_type": "code",
   "execution_count": 7,
   "metadata": {
    "pycharm": {
     "name": "#%%\n"
    }
   },
   "outputs": [
    {
     "name": "stdout",
     "output_type": "stream",
     "text": [
      "WARNING:tensorflow:`period` argument is deprecated. Please use `save_freq` to specify the frequency in number of samples seen.\n"
     ]
    }
   ],
   "source": [
    "save_path = \"experiments/2_2_segmentation\"\n",
    "\n",
    "logger = CSVLogger(save_path + \"/result.log\")\n",
    "checker = ModelCheckpoint(save_path + \"/weights.{epoch:02d}.hdf5\",\n",
    "                          period=10)\n",
    "\n",
    "callbacks = [logger, checker]\n",
    "\n",
    "model.compile(optimizer='adam',\n",
    "              loss = dice_loss,\n",
    "              metrics = ['accuracy', iou_score])"
   ]
  },
  {
   "cell_type": "markdown",
   "metadata": {
    "pycharm": {
     "name": "#%% md\n"
    }
   },
   "source": [
    "# Training\n",
    "The model is fitted with a generator."
   ]
  },
  {
   "cell_type": "code",
   "execution_count": 8,
   "metadata": {
    "pycharm": {
     "name": "#%%\n"
    }
   },
   "outputs": [
    {
     "name": "stdout",
     "output_type": "stream",
     "text": [
      "Epoch 1/300\n",
      "21/21 [==============================] - 44s 2s/step - loss: 0.8409 - accuracy: 0.8682 - iou_score: 0.0874 - val_loss: 0.9622 - val_accuracy: 0.0192 - val_iou_score: 0.0193\n",
      "Epoch 2/300\n",
      "21/21 [==============================] - 28s 1s/step - loss: 0.7300 - accuracy: 0.9576 - iou_score: 0.1562 - val_loss: 0.9622 - val_accuracy: 0.0192 - val_iou_score: 0.0193\n",
      "Epoch 3/300\n",
      "21/21 [==============================] - 28s 1s/step - loss: 0.6264 - accuracy: 0.9746 - iou_score: 0.2301 - val_loss: 0.9622 - val_accuracy: 0.0192 - val_iou_score: 0.0193\n",
      "Epoch 4/300\n",
      "21/21 [==============================] - 28s 1s/step - loss: 0.5343 - accuracy: 0.9808 - iou_score: 0.3041 - val_loss: 0.9622 - val_accuracy: 0.0192 - val_iou_score: 0.0193\n",
      "Epoch 5/300\n",
      "21/21 [==============================] - 28s 1s/step - loss: 0.4492 - accuracy: 0.9849 - iou_score: 0.3806 - val_loss: 0.9643 - val_accuracy: 0.0577 - val_iou_score: 0.0182\n",
      "Epoch 6/300\n",
      "21/21 [==============================] - 28s 1s/step - loss: 0.3881 - accuracy: 0.9870 - iou_score: 0.4410 - val_loss: 0.6495 - val_accuracy: 0.9852 - val_iou_score: 0.2141\n",
      "Epoch 7/300\n",
      "21/21 [==============================] - 28s 1s/step - loss: 0.3562 - accuracy: 0.9877 - iou_score: 0.4750 - val_loss: 0.6106 - val_accuracy: 0.9867 - val_iou_score: 0.2428\n",
      "Epoch 8/300\n",
      "21/21 [==============================] - 28s 1s/step - loss: 0.3290 - accuracy: 0.9883 - iou_score: 0.5050 - val_loss: 0.3683 - val_accuracy: 0.9895 - val_iou_score: 0.4617\n",
      "Epoch 9/300\n",
      "21/21 [==============================] - 28s 1s/step - loss: 0.3143 - accuracy: 0.9886 - iou_score: 0.5219 - val_loss: 0.3078 - val_accuracy: 0.9900 - val_iou_score: 0.5297\n",
      "Epoch 10/300\n",
      "21/21 [==============================] - 28s 1s/step - loss: 0.3021 - accuracy: 0.9889 - iou_score: 0.5362 - val_loss: 0.2982 - val_accuracy: 0.9895 - val_iou_score: 0.5410\n",
      "Epoch 11/300\n",
      "21/21 [==============================] - 28s 1s/step - loss: 0.2981 - accuracy: 0.9888 - iou_score: 0.5409 - val_loss: 0.2784 - val_accuracy: 0.9899 - val_iou_score: 0.5648\n",
      "Epoch 12/300\n",
      "21/21 [==============================] - 28s 1s/step - loss: 0.3051 - accuracy: 0.9885 - iou_score: 0.5328 - val_loss: 0.2691 - val_accuracy: 0.9907 - val_iou_score: 0.5762\n",
      "Epoch 13/300\n",
      "21/21 [==============================] - 28s 1s/step - loss: 0.2932 - accuracy: 0.9888 - iou_score: 0.5467 - val_loss: 0.2675 - val_accuracy: 0.9895 - val_iou_score: 0.5782\n",
      "Epoch 14/300\n",
      "21/21 [==============================] - 28s 1s/step - loss: 0.2895 - accuracy: 0.9889 - iou_score: 0.5512 - val_loss: 0.2599 - val_accuracy: 0.9896 - val_iou_score: 0.5876\n",
      "Epoch 15/300\n",
      "21/21 [==============================] - 28s 1s/step - loss: 0.2937 - accuracy: 0.9887 - iou_score: 0.5461 - val_loss: 0.2554 - val_accuracy: 0.9900 - val_iou_score: 0.5935\n",
      "Epoch 16/300\n",
      "21/21 [==============================] - 29s 1s/step - loss: 0.2845 - accuracy: 0.9891 - iou_score: 0.5572 - val_loss: 0.2423 - val_accuracy: 0.9907 - val_iou_score: 0.6101\n",
      "Epoch 17/300\n",
      "21/21 [==============================] - 28s 1s/step - loss: 0.2814 - accuracy: 0.9891 - iou_score: 0.5609 - val_loss: 0.2283 - val_accuracy: 0.9911 - val_iou_score: 0.6285\n",
      "Epoch 18/300\n",
      "21/21 [==============================] - 28s 1s/step - loss: 0.2829 - accuracy: 0.9890 - iou_score: 0.5591 - val_loss: 0.2402 - val_accuracy: 0.9907 - val_iou_score: 0.6129\n",
      "Epoch 19/300\n",
      "21/21 [==============================] - 28s 1s/step - loss: 0.2819 - accuracy: 0.9890 - iou_score: 0.5604 - val_loss: 0.2305 - val_accuracy: 0.9911 - val_iou_score: 0.6255\n",
      "Epoch 20/300\n",
      "21/21 [==============================] - 28s 1s/step - loss: 0.2810 - accuracy: 0.9891 - iou_score: 0.5617 - val_loss: 0.2296 - val_accuracy: 0.9907 - val_iou_score: 0.6267\n",
      "Epoch 21/300\n",
      "21/21 [==============================] - 28s 1s/step - loss: 0.2780 - accuracy: 0.9891 - iou_score: 0.5651 - val_loss: 0.2264 - val_accuracy: 0.9916 - val_iou_score: 0.6310\n",
      "Epoch 22/300\n",
      "21/21 [==============================] - 28s 1s/step - loss: 0.2803 - accuracy: 0.9891 - iou_score: 0.5624 - val_loss: 0.2211 - val_accuracy: 0.9915 - val_iou_score: 0.6380\n",
      "Epoch 23/300\n",
      "21/21 [==============================] - 28s 1s/step - loss: 0.2784 - accuracy: 0.9891 - iou_score: 0.5646 - val_loss: 0.2254 - val_accuracy: 0.9909 - val_iou_score: 0.6323\n",
      "Epoch 24/300\n",
      "21/21 [==============================] - 28s 1s/step - loss: 0.2819 - accuracy: 0.9889 - iou_score: 0.5605 - val_loss: 0.2634 - val_accuracy: 0.9907 - val_iou_score: 0.5832\n",
      "Epoch 25/300\n",
      "21/21 [==============================] - 29s 1s/step - loss: 0.2785 - accuracy: 0.9891 - iou_score: 0.5645 - val_loss: 0.2201 - val_accuracy: 0.9913 - val_iou_score: 0.6395\n",
      "Epoch 26/300\n",
      "21/21 [==============================] - 28s 1s/step - loss: 0.2734 - accuracy: 0.9892 - iou_score: 0.5708 - val_loss: 0.2164 - val_accuracy: 0.9915 - val_iou_score: 0.6445\n",
      "Epoch 27/300\n",
      "21/21 [==============================] - 28s 1s/step - loss: 0.2729 - accuracy: 0.9893 - iou_score: 0.5715 - val_loss: 0.2256 - val_accuracy: 0.9912 - val_iou_score: 0.6320\n",
      "Epoch 28/300\n",
      "21/21 [==============================] - 28s 1s/step - loss: 0.2743 - accuracy: 0.9892 - iou_score: 0.5695 - val_loss: 0.2149 - val_accuracy: 0.9917 - val_iou_score: 0.6464\n",
      "Epoch 29/300\n",
      "21/21 [==============================] - 28s 1s/step - loss: 0.2728 - accuracy: 0.9893 - iou_score: 0.5715 - val_loss: 0.2197 - val_accuracy: 0.9910 - val_iou_score: 0.6400\n",
      "Epoch 30/300\n",
      "21/21 [==============================] - 29s 1s/step - loss: 0.2731 - accuracy: 0.9892 - iou_score: 0.5711 - val_loss: 0.2132 - val_accuracy: 0.9914 - val_iou_score: 0.6488\n",
      "Epoch 31/300\n",
      "21/21 [==============================] - 28s 1s/step - loss: 0.2726 - accuracy: 0.9893 - iou_score: 0.5718 - val_loss: 0.2153 - val_accuracy: 0.9913 - val_iou_score: 0.6460\n",
      "Epoch 32/300\n",
      "21/21 [==============================] - 28s 1s/step - loss: 0.2717 - accuracy: 0.9893 - iou_score: 0.5728 - val_loss: 0.2125 - val_accuracy: 0.9916 - val_iou_score: 0.6498\n",
      "Epoch 33/300\n",
      "21/21 [==============================] - 28s 1s/step - loss: 0.2655 - accuracy: 0.9895 - iou_score: 0.5804 - val_loss: 0.2114 - val_accuracy: 0.9916 - val_iou_score: 0.6513\n",
      "Epoch 34/300\n",
      "21/21 [==============================] - 28s 1s/step - loss: 0.2702 - accuracy: 0.9893 - iou_score: 0.5748 - val_loss: 0.2130 - val_accuracy: 0.9917 - val_iou_score: 0.6490\n",
      "Epoch 35/300\n",
      "21/21 [==============================] - 29s 1s/step - loss: 0.2704 - accuracy: 0.9893 - iou_score: 0.5745 - val_loss: 0.2122 - val_accuracy: 0.9915 - val_iou_score: 0.6501\n",
      "Epoch 36/300\n",
      "21/21 [==============================] - 28s 1s/step - loss: 0.2720 - accuracy: 0.9892 - iou_score: 0.5727 - val_loss: 0.2155 - val_accuracy: 0.9920 - val_iou_score: 0.6458\n",
      "Epoch 37/300\n",
      "21/21 [==============================] - 29s 1s/step - loss: 0.2654 - accuracy: 0.9895 - iou_score: 0.5807 - val_loss: 0.2080 - val_accuracy: 0.9917 - val_iou_score: 0.6559\n",
      "Epoch 38/300\n",
      "21/21 [==============================] - 28s 1s/step - loss: 0.2673 - accuracy: 0.9894 - iou_score: 0.5783 - val_loss: 0.2100 - val_accuracy: 0.9917 - val_iou_score: 0.6531\n",
      "Epoch 39/300\n",
      "21/21 [==============================] - 30s 1s/step - loss: 0.2679 - accuracy: 0.9894 - iou_score: 0.5777 - val_loss: 0.2103 - val_accuracy: 0.9918 - val_iou_score: 0.6528\n",
      "Epoch 40/300\n",
      "21/21 [==============================] - 29s 1s/step - loss: 0.2674 - accuracy: 0.9894 - iou_score: 0.5782 - val_loss: 0.2113 - val_accuracy: 0.9917 - val_iou_score: 0.6514\n",
      "Epoch 41/300\n",
      "21/21 [==============================] - 29s 1s/step - loss: 0.2687 - accuracy: 0.9894 - iou_score: 0.5765 - val_loss: 0.2101 - val_accuracy: 0.9918 - val_iou_score: 0.6529\n",
      "Epoch 42/300\n",
      "21/21 [==============================] - 29s 1s/step - loss: 0.2668 - accuracy: 0.9895 - iou_score: 0.5790 - val_loss: 0.2100 - val_accuracy: 0.9914 - val_iou_score: 0.6531\n",
      "Epoch 43/300\n",
      "21/21 [==============================] - 28s 1s/step - loss: 0.2742 - accuracy: 0.9891 - iou_score: 0.5697 - val_loss: 0.2058 - val_accuracy: 0.9918 - val_iou_score: 0.6589\n",
      "Epoch 44/300\n",
      "21/21 [==============================] - 29s 1s/step - loss: 0.2641 - accuracy: 0.9895 - iou_score: 0.5822 - val_loss: 0.2144 - val_accuracy: 0.9918 - val_iou_score: 0.6472\n",
      "Epoch 45/300\n"
     ]
    },
    {
     "name": "stdout",
     "output_type": "stream",
     "text": [
      "21/21 [==============================] - 29s 1s/step - loss: 0.2675 - accuracy: 0.9894 - iou_score: 0.5781 - val_loss: 0.2224 - val_accuracy: 0.9918 - val_iou_score: 0.6364\n",
      "Epoch 46/300\n",
      "21/21 [==============================] - 28s 1s/step - loss: 0.2707 - accuracy: 0.9893 - iou_score: 0.5742 - val_loss: 0.2061 - val_accuracy: 0.9919 - val_iou_score: 0.6586\n",
      "Epoch 47/300\n",
      "21/21 [==============================] - 29s 1s/step - loss: 0.2629 - accuracy: 0.9896 - iou_score: 0.5839 - val_loss: 0.2060 - val_accuracy: 0.9918 - val_iou_score: 0.6586\n",
      "Epoch 48/300\n",
      "21/21 [==============================] - 28s 1s/step - loss: 0.2690 - accuracy: 0.9893 - iou_score: 0.5761 - val_loss: 0.2091 - val_accuracy: 0.9915 - val_iou_score: 0.6544\n",
      "Epoch 49/300\n",
      "21/21 [==============================] - 29s 1s/step - loss: 0.2687 - accuracy: 0.9893 - iou_score: 0.5767 - val_loss: 0.2097 - val_accuracy: 0.9917 - val_iou_score: 0.6535\n",
      "Epoch 50/300\n",
      "21/21 [==============================] - 29s 1s/step - loss: 0.2673 - accuracy: 0.9893 - iou_score: 0.5782 - val_loss: 0.2060 - val_accuracy: 0.9917 - val_iou_score: 0.6587\n",
      "Epoch 51/300\n",
      "21/21 [==============================] - 28s 1s/step - loss: 0.2665 - accuracy: 0.9894 - iou_score: 0.5793 - val_loss: 0.2074 - val_accuracy: 0.9919 - val_iou_score: 0.6567\n",
      "Epoch 52/300\n",
      "21/21 [==============================] - 28s 1s/step - loss: 0.2655 - accuracy: 0.9895 - iou_score: 0.5806 - val_loss: 0.2047 - val_accuracy: 0.9919 - val_iou_score: 0.6604\n",
      "Epoch 53/300\n",
      "21/21 [==============================] - 28s 1s/step - loss: 0.2653 - accuracy: 0.9895 - iou_score: 0.5807 - val_loss: 0.2076 - val_accuracy: 0.9915 - val_iou_score: 0.6565\n",
      "Epoch 54/300\n",
      "21/21 [==============================] - 28s 1s/step - loss: 0.2651 - accuracy: 0.9894 - iou_score: 0.5811 - val_loss: 0.2045 - val_accuracy: 0.9918 - val_iou_score: 0.6608\n",
      "Epoch 55/300\n",
      "21/21 [==============================] - 28s 1s/step - loss: 0.2636 - accuracy: 0.9895 - iou_score: 0.5829 - val_loss: 0.2041 - val_accuracy: 0.9917 - val_iou_score: 0.6612\n",
      "Epoch 56/300\n",
      "21/21 [==============================] - 28s 1s/step - loss: 0.2645 - accuracy: 0.9895 - iou_score: 0.5818 - val_loss: 0.2034 - val_accuracy: 0.9917 - val_iou_score: 0.6622\n",
      "Epoch 57/300\n",
      "21/21 [==============================] - 28s 1s/step - loss: 0.2604 - accuracy: 0.9897 - iou_score: 0.5869 - val_loss: 0.2079 - val_accuracy: 0.9918 - val_iou_score: 0.6561\n",
      "Epoch 58/300\n",
      "21/21 [==============================] - 28s 1s/step - loss: 0.2618 - accuracy: 0.9897 - iou_score: 0.5851 - val_loss: 0.2026 - val_accuracy: 0.9918 - val_iou_score: 0.6633\n",
      "Epoch 59/300\n",
      "21/21 [==============================] - 28s 1s/step - loss: 0.2603 - accuracy: 0.9897 - iou_score: 0.5871 - val_loss: 0.2023 - val_accuracy: 0.9918 - val_iou_score: 0.6638\n",
      "Epoch 60/300\n",
      "21/21 [==============================] - 29s 1s/step - loss: 0.2676 - accuracy: 0.9894 - iou_score: 0.5782 - val_loss: 0.2262 - val_accuracy: 0.9901 - val_iou_score: 0.6313\n",
      "Epoch 61/300\n",
      "21/21 [==============================] - 28s 1s/step - loss: 0.2721 - accuracy: 0.9892 - iou_score: 0.5724 - val_loss: 0.2222 - val_accuracy: 0.9911 - val_iou_score: 0.6367\n",
      "Epoch 62/300\n",
      "21/21 [==============================] - 28s 1s/step - loss: 0.2657 - accuracy: 0.9895 - iou_score: 0.5804 - val_loss: 0.2107 - val_accuracy: 0.9918 - val_iou_score: 0.6522\n",
      "Epoch 63/300\n",
      "21/21 [==============================] - 28s 1s/step - loss: 0.2608 - accuracy: 0.9896 - iou_score: 0.5865 - val_loss: 0.2009 - val_accuracy: 0.9921 - val_iou_score: 0.6657\n",
      "Epoch 64/300\n",
      "21/21 [==============================] - 28s 1s/step - loss: 0.2612 - accuracy: 0.9896 - iou_score: 0.5859 - val_loss: 0.2047 - val_accuracy: 0.9919 - val_iou_score: 0.6606\n",
      "Epoch 65/300\n",
      "21/21 [==============================] - 28s 1s/step - loss: 0.2630 - accuracy: 0.9896 - iou_score: 0.5837 - val_loss: 0.2036 - val_accuracy: 0.9920 - val_iou_score: 0.6620\n",
      "Epoch 66/300\n",
      "21/21 [==============================] - 28s 1s/step - loss: 0.2609 - accuracy: 0.9896 - iou_score: 0.5864 - val_loss: 0.2005 - val_accuracy: 0.9919 - val_iou_score: 0.6662\n",
      "Epoch 67/300\n",
      "21/21 [==============================] - 29s 1s/step - loss: 0.2634 - accuracy: 0.9895 - iou_score: 0.5832 - val_loss: 0.2056 - val_accuracy: 0.9918 - val_iou_score: 0.6593\n",
      "Epoch 68/300\n",
      "21/21 [==============================] - 28s 1s/step - loss: 0.2612 - accuracy: 0.9896 - iou_score: 0.5860 - val_loss: 0.2019 - val_accuracy: 0.9918 - val_iou_score: 0.6643\n",
      "Epoch 69/300\n",
      "21/21 [==============================] - 29s 1s/step - loss: 0.2648 - accuracy: 0.9895 - iou_score: 0.5815 - val_loss: 0.2049 - val_accuracy: 0.9919 - val_iou_score: 0.6602\n",
      "Epoch 70/300\n",
      "21/21 [==============================] - 28s 1s/step - loss: 0.2631 - accuracy: 0.9896 - iou_score: 0.5836 - val_loss: 0.2009 - val_accuracy: 0.9921 - val_iou_score: 0.6657\n",
      "Epoch 71/300\n",
      "21/21 [==============================] - 28s 1s/step - loss: 0.2604 - accuracy: 0.9897 - iou_score: 0.5870 - val_loss: 0.2030 - val_accuracy: 0.9919 - val_iou_score: 0.6628\n",
      "Epoch 72/300\n",
      "21/21 [==============================] - 29s 1s/step - loss: 0.2613 - accuracy: 0.9896 - iou_score: 0.5858 - val_loss: 0.2005 - val_accuracy: 0.9920 - val_iou_score: 0.6663\n",
      "Epoch 73/300\n",
      "21/21 [==============================] - 27s 1s/step - loss: 0.2598 - accuracy: 0.9897 - iou_score: 0.5877 - val_loss: 0.2005 - val_accuracy: 0.9920 - val_iou_score: 0.6663\n",
      "Epoch 74/300\n",
      "21/21 [==============================] - 27s 1s/step - loss: 0.2621 - accuracy: 0.9896 - iou_score: 0.5848 - val_loss: 0.2020 - val_accuracy: 0.9920 - val_iou_score: 0.6641\n",
      "Epoch 75/300\n",
      "21/21 [==============================] - 27s 1s/step - loss: 0.2611 - accuracy: 0.9896 - iou_score: 0.5861 - val_loss: 0.2047 - val_accuracy: 0.9917 - val_iou_score: 0.6604\n",
      "Epoch 76/300\n",
      "21/21 [==============================] - 27s 1s/step - loss: 0.2664 - accuracy: 0.9893 - iou_score: 0.5794 - val_loss: 0.2001 - val_accuracy: 0.9921 - val_iou_score: 0.6668\n",
      "Epoch 77/300\n",
      "21/21 [==============================] - 28s 1s/step - loss: 0.2604 - accuracy: 0.9896 - iou_score: 0.5869 - val_loss: 0.2017 - val_accuracy: 0.9921 - val_iou_score: 0.6646\n",
      "Epoch 78/300\n",
      "21/21 [==============================] - 28s 1s/step - loss: 0.2596 - accuracy: 0.9897 - iou_score: 0.5880 - val_loss: 0.1994 - val_accuracy: 0.9918 - val_iou_score: 0.6677\n",
      "Epoch 79/300\n",
      "21/21 [==============================] - 28s 1s/step - loss: 0.2588 - accuracy: 0.9898 - iou_score: 0.5890 - val_loss: 0.1992 - val_accuracy: 0.9919 - val_iou_score: 0.6681\n",
      "Epoch 80/300\n",
      "21/21 [==============================] - 28s 1s/step - loss: 0.2576 - accuracy: 0.9897 - iou_score: 0.5906 - val_loss: 0.1983 - val_accuracy: 0.9921 - val_iou_score: 0.6693\n",
      "Epoch 81/300\n",
      "21/21 [==============================] - 29s 1s/step - loss: 0.2590 - accuracy: 0.9897 - iou_score: 0.5887 - val_loss: 0.1995 - val_accuracy: 0.9920 - val_iou_score: 0.6677\n",
      "Epoch 82/300\n",
      "21/21 [==============================] - 28s 1s/step - loss: 0.2613 - accuracy: 0.9896 - iou_score: 0.5858 - val_loss: 0.2061 - val_accuracy: 0.9918 - val_iou_score: 0.6586\n",
      "Epoch 83/300\n",
      "21/21 [==============================] - 28s 1s/step - loss: 0.2601 - accuracy: 0.9897 - iou_score: 0.5873 - val_loss: 0.1974 - val_accuracy: 0.9922 - val_iou_score: 0.6705\n",
      "Epoch 84/300\n",
      "21/21 [==============================] - 28s 1s/step - loss: 0.2623 - accuracy: 0.9896 - iou_score: 0.5846 - val_loss: 0.1972 - val_accuracy: 0.9922 - val_iou_score: 0.6708\n",
      "Epoch 85/300\n",
      "21/21 [==============================] - 28s 1s/step - loss: 0.2570 - accuracy: 0.9898 - iou_score: 0.5913 - val_loss: 0.2003 - val_accuracy: 0.9922 - val_iou_score: 0.6665\n",
      "Epoch 86/300\n",
      "21/21 [==============================] - 28s 1s/step - loss: 0.2601 - accuracy: 0.9897 - iou_score: 0.5872 - val_loss: 0.1963 - val_accuracy: 0.9921 - val_iou_score: 0.6721\n",
      "Epoch 87/300\n",
      "21/21 [==============================] - 28s 1s/step - loss: 0.2579 - accuracy: 0.9897 - iou_score: 0.5901 - val_loss: 0.1974 - val_accuracy: 0.9921 - val_iou_score: 0.6705\n",
      "Epoch 88/300\n",
      "21/21 [==============================] - 27s 1s/step - loss: 0.2551 - accuracy: 0.9899 - iou_score: 0.5936 - val_loss: 0.2001 - val_accuracy: 0.9919 - val_iou_score: 0.6668\n",
      "Epoch 89/300\n"
     ]
    },
    {
     "name": "stdout",
     "output_type": "stream",
     "text": [
      "21/21 [==============================] - 29s 1s/step - loss: 0.2628 - accuracy: 0.9895 - iou_score: 0.5839 - val_loss: 0.2035 - val_accuracy: 0.9921 - val_iou_score: 0.6621\n",
      "Epoch 90/300\n",
      "21/21 [==============================] - 29s 1s/step - loss: 0.2578 - accuracy: 0.9898 - iou_score: 0.5901 - val_loss: 0.2019 - val_accuracy: 0.9918 - val_iou_score: 0.6643\n",
      "Epoch 91/300\n",
      "21/21 [==============================] - 28s 1s/step - loss: 0.2600 - accuracy: 0.9896 - iou_score: 0.5875 - val_loss: 0.1973 - val_accuracy: 0.9920 - val_iou_score: 0.6708\n",
      "Epoch 92/300\n",
      "21/21 [==============================] - 28s 1s/step - loss: 0.2537 - accuracy: 0.9899 - iou_score: 0.5954 - val_loss: 0.2007 - val_accuracy: 0.9919 - val_iou_score: 0.6660\n",
      "Epoch 93/300\n",
      "21/21 [==============================] - 28s 1s/step - loss: 0.2576 - accuracy: 0.9898 - iou_score: 0.5905 - val_loss: 0.1976 - val_accuracy: 0.9920 - val_iou_score: 0.6703\n",
      "Epoch 94/300\n",
      "21/21 [==============================] - 28s 1s/step - loss: 0.2601 - accuracy: 0.9896 - iou_score: 0.5873 - val_loss: 0.2065 - val_accuracy: 0.9916 - val_iou_score: 0.6580\n",
      "Epoch 95/300\n",
      "21/21 [==============================] - 28s 1s/step - loss: 0.2570 - accuracy: 0.9898 - iou_score: 0.5912 - val_loss: 0.2029 - val_accuracy: 0.9916 - val_iou_score: 0.6628\n",
      "Epoch 96/300\n",
      "21/21 [==============================] - 28s 1s/step - loss: 0.2648 - accuracy: 0.9894 - iou_score: 0.5814 - val_loss: 0.3079 - val_accuracy: 0.9899 - val_iou_score: 0.5320\n",
      "Epoch 97/300\n",
      "21/21 [==============================] - 27s 1s/step - loss: 0.2595 - accuracy: 0.9897 - iou_score: 0.5881 - val_loss: 0.2147 - val_accuracy: 0.9916 - val_iou_score: 0.6466\n",
      "Epoch 98/300\n",
      "21/21 [==============================] - 27s 1s/step - loss: 0.2604 - accuracy: 0.9896 - iou_score: 0.5869 - val_loss: 0.2021 - val_accuracy: 0.9919 - val_iou_score: 0.6640\n",
      "Epoch 99/300\n",
      "21/21 [==============================] - 27s 1s/step - loss: 0.2591 - accuracy: 0.9897 - iou_score: 0.5886 - val_loss: 0.1965 - val_accuracy: 0.9921 - val_iou_score: 0.6718\n",
      "Epoch 100/300\n",
      "21/21 [==============================] - 28s 1s/step - loss: 0.2625 - accuracy: 0.9895 - iou_score: 0.5843 - val_loss: 0.1991 - val_accuracy: 0.9918 - val_iou_score: 0.6682\n",
      "Epoch 101/300\n",
      "21/21 [==============================] - 28s 1s/step - loss: 0.2596 - accuracy: 0.9897 - iou_score: 0.5879 - val_loss: 0.1971 - val_accuracy: 0.9919 - val_iou_score: 0.6709\n",
      "Epoch 102/300\n",
      "21/21 [==============================] - 28s 1s/step - loss: 0.2606 - accuracy: 0.9896 - iou_score: 0.5867 - val_loss: 0.1973 - val_accuracy: 0.9920 - val_iou_score: 0.6707\n",
      "Epoch 103/300\n",
      "21/21 [==============================] - 27s 1s/step - loss: 0.2632 - accuracy: 0.9894 - iou_score: 0.5835 - val_loss: 0.1963 - val_accuracy: 0.9920 - val_iou_score: 0.6721\n",
      "Epoch 104/300\n",
      "21/21 [==============================] - 27s 1s/step - loss: 0.2573 - accuracy: 0.9898 - iou_score: 0.5909 - val_loss: 0.1972 - val_accuracy: 0.9920 - val_iou_score: 0.6708\n",
      "Epoch 105/300\n",
      "21/21 [==============================] - 27s 1s/step - loss: 0.2586 - accuracy: 0.9897 - iou_score: 0.5892 - val_loss: 0.1955 - val_accuracy: 0.9922 - val_iou_score: 0.6732\n",
      "Epoch 106/300\n",
      "21/21 [==============================] - 27s 1s/step - loss: 0.2595 - accuracy: 0.9897 - iou_score: 0.5880 - val_loss: 0.1965 - val_accuracy: 0.9920 - val_iou_score: 0.6719\n",
      "Epoch 107/300\n",
      "21/21 [==============================] - 28s 1s/step - loss: 0.2547 - accuracy: 0.9899 - iou_score: 0.5941 - val_loss: 0.1961 - val_accuracy: 0.9920 - val_iou_score: 0.6723\n",
      "Epoch 108/300\n",
      "21/21 [==============================] - 27s 1s/step - loss: 0.2566 - accuracy: 0.9898 - iou_score: 0.5918 - val_loss: 0.1960 - val_accuracy: 0.9921 - val_iou_score: 0.6726\n",
      "Epoch 109/300\n",
      "21/21 [==============================] - 27s 1s/step - loss: 0.2553 - accuracy: 0.9899 - iou_score: 0.5934 - val_loss: 0.2014 - val_accuracy: 0.9918 - val_iou_score: 0.6649\n",
      "Epoch 110/300\n",
      "21/21 [==============================] - 27s 1s/step - loss: 0.2558 - accuracy: 0.9898 - iou_score: 0.5928 - val_loss: 0.1981 - val_accuracy: 0.9919 - val_iou_score: 0.6695\n",
      "Epoch 111/300\n",
      "21/21 [==============================] - 27s 1s/step - loss: 0.2533 - accuracy: 0.9899 - iou_score: 0.5960 - val_loss: 0.1952 - val_accuracy: 0.9921 - val_iou_score: 0.6736\n",
      "Epoch 112/300\n",
      "21/21 [==============================] - 28s 1s/step - loss: 0.2543 - accuracy: 0.9898 - iou_score: 0.5948 - val_loss: 0.1948 - val_accuracy: 0.9923 - val_iou_score: 0.6742\n",
      "Epoch 113/300\n",
      "21/21 [==============================] - 28s 1s/step - loss: 0.2578 - accuracy: 0.9898 - iou_score: 0.5902 - val_loss: 0.1945 - val_accuracy: 0.9922 - val_iou_score: 0.6746\n",
      "Epoch 114/300\n",
      "21/21 [==============================] - 28s 1s/step - loss: 0.2576 - accuracy: 0.9897 - iou_score: 0.5905 - val_loss: 0.2065 - val_accuracy: 0.9919 - val_iou_score: 0.6579\n",
      "Epoch 115/300\n",
      "21/21 [==============================] - 27s 1s/step - loss: 0.2536 - accuracy: 0.9899 - iou_score: 0.5956 - val_loss: 0.1986 - val_accuracy: 0.9919 - val_iou_score: 0.6689\n",
      "Epoch 116/300\n",
      "21/21 [==============================] - 27s 1s/step - loss: 0.2575 - accuracy: 0.9898 - iou_score: 0.5907 - val_loss: 0.1964 - val_accuracy: 0.9920 - val_iou_score: 0.6720\n",
      "Epoch 117/300\n",
      "21/21 [==============================] - 27s 1s/step - loss: 0.2564 - accuracy: 0.9898 - iou_score: 0.5920 - val_loss: 0.1943 - val_accuracy: 0.9921 - val_iou_score: 0.6748\n",
      "Epoch 118/300\n",
      "21/21 [==============================] - 28s 1s/step - loss: 0.2571 - accuracy: 0.9898 - iou_score: 0.5911 - val_loss: 0.1971 - val_accuracy: 0.9921 - val_iou_score: 0.6710\n",
      "Epoch 119/300\n",
      "21/21 [==============================] - 27s 1s/step - loss: 0.2570 - accuracy: 0.9897 - iou_score: 0.5913 - val_loss: 0.1958 - val_accuracy: 0.9920 - val_iou_score: 0.6728\n",
      "Epoch 120/300\n",
      "21/21 [==============================] - 28s 1s/step - loss: 0.2615 - accuracy: 0.9896 - iou_score: 0.5855 - val_loss: 0.1987 - val_accuracy: 0.9920 - val_iou_score: 0.6688\n",
      "Epoch 121/300\n",
      "21/21 [==============================] - 27s 1s/step - loss: 0.2567 - accuracy: 0.9897 - iou_score: 0.5916 - val_loss: 0.1943 - val_accuracy: 0.9924 - val_iou_score: 0.6749\n",
      "Epoch 122/300\n",
      "21/21 [==============================] - 27s 1s/step - loss: 0.2564 - accuracy: 0.9898 - iou_score: 0.5920 - val_loss: 0.1990 - val_accuracy: 0.9921 - val_iou_score: 0.6683\n",
      "Epoch 123/300\n",
      "21/21 [==============================] - 28s 1s/step - loss: 0.2553 - accuracy: 0.9898 - iou_score: 0.5933 - val_loss: 0.1956 - val_accuracy: 0.9920 - val_iou_score: 0.6731\n",
      "Epoch 124/300\n",
      "21/21 [==============================] - 27s 1s/step - loss: 0.2513 - accuracy: 0.9900 - iou_score: 0.5986 - val_loss: 0.2000 - val_accuracy: 0.9921 - val_iou_score: 0.6670\n",
      "Epoch 125/300\n",
      "21/21 [==============================] - 28s 1s/step - loss: 0.2531 - accuracy: 0.9899 - iou_score: 0.5961 - val_loss: 0.1948 - val_accuracy: 0.9921 - val_iou_score: 0.6742\n",
      "Epoch 126/300\n",
      "21/21 [==============================] - 27s 1s/step - loss: 0.2548 - accuracy: 0.9899 - iou_score: 0.5941 - val_loss: 0.1986 - val_accuracy: 0.9920 - val_iou_score: 0.6689\n",
      "Epoch 127/300\n",
      "21/21 [==============================] - 27s 1s/step - loss: 0.2526 - accuracy: 0.9899 - iou_score: 0.5969 - val_loss: 0.1943 - val_accuracy: 0.9923 - val_iou_score: 0.6749\n",
      "Epoch 128/300\n",
      "21/21 [==============================] - 27s 1s/step - loss: 0.2543 - accuracy: 0.9899 - iou_score: 0.5948 - val_loss: 0.1949 - val_accuracy: 0.9922 - val_iou_score: 0.6740\n",
      "Epoch 129/300\n",
      "21/21 [==============================] - 27s 1s/step - loss: 0.2567 - accuracy: 0.9897 - iou_score: 0.5916 - val_loss: 0.1934 - val_accuracy: 0.9922 - val_iou_score: 0.6762\n",
      "Epoch 130/300\n",
      "21/21 [==============================] - 28s 1s/step - loss: 0.2508 - accuracy: 0.9900 - iou_score: 0.5990 - val_loss: 0.1938 - val_accuracy: 0.9923 - val_iou_score: 0.6756\n",
      "Epoch 131/300\n",
      "21/21 [==============================] - 27s 1s/step - loss: 0.2564 - accuracy: 0.9897 - iou_score: 0.5920 - val_loss: 0.1959 - val_accuracy: 0.9921 - val_iou_score: 0.6727\n",
      "Epoch 132/300\n",
      "21/21 [==============================] - 27s 1s/step - loss: 0.2521 - accuracy: 0.9900 - iou_score: 0.5975 - val_loss: 0.1947 - val_accuracy: 0.9921 - val_iou_score: 0.6743\n"
     ]
    },
    {
     "name": "stdout",
     "output_type": "stream",
     "text": [
      "Epoch 133/300\n",
      "21/21 [==============================] - 27s 1s/step - loss: 0.2549 - accuracy: 0.9899 - iou_score: 0.5940 - val_loss: 0.1936 - val_accuracy: 0.9922 - val_iou_score: 0.6760\n",
      "Epoch 134/300\n",
      "21/21 [==============================] - 27s 1s/step - loss: 0.2518 - accuracy: 0.9900 - iou_score: 0.5978 - val_loss: 0.1948 - val_accuracy: 0.9921 - val_iou_score: 0.6742\n",
      "Epoch 135/300\n",
      "21/21 [==============================] - 28s 1s/step - loss: 0.2540 - accuracy: 0.9899 - iou_score: 0.5951 - val_loss: 0.1944 - val_accuracy: 0.9921 - val_iou_score: 0.6748\n",
      "Epoch 136/300\n",
      "21/21 [==============================] - 28s 1s/step - loss: 0.2562 - accuracy: 0.9898 - iou_score: 0.5923 - val_loss: 0.1934 - val_accuracy: 0.9921 - val_iou_score: 0.6761\n",
      "Epoch 137/300\n",
      "21/21 [==============================] - 27s 1s/step - loss: 0.2511 - accuracy: 0.9900 - iou_score: 0.5989 - val_loss: 0.1937 - val_accuracy: 0.9922 - val_iou_score: 0.6757\n",
      "Epoch 138/300\n",
      "21/21 [==============================] - 27s 1s/step - loss: 0.2515 - accuracy: 0.9900 - iou_score: 0.5982 - val_loss: 0.1983 - val_accuracy: 0.9921 - val_iou_score: 0.6693\n",
      "Epoch 139/300\n",
      "21/21 [==============================] - 27s 1s/step - loss: 0.2550 - accuracy: 0.9898 - iou_score: 0.5939 - val_loss: 0.1928 - val_accuracy: 0.9922 - val_iou_score: 0.6770\n",
      "Epoch 140/300\n",
      "21/21 [==============================] - 28s 1s/step - loss: 0.2608 - accuracy: 0.9896 - iou_score: 0.5864 - val_loss: 0.2054 - val_accuracy: 0.9917 - val_iou_score: 0.6599\n",
      "Epoch 141/300\n",
      "21/21 [==============================] - 27s 1s/step - loss: 0.2544 - accuracy: 0.9899 - iou_score: 0.5947 - val_loss: 0.1975 - val_accuracy: 0.9921 - val_iou_score: 0.6705\n",
      "Epoch 142/300\n",
      "21/21 [==============================] - 27s 1s/step - loss: 0.2539 - accuracy: 0.9899 - iou_score: 0.5952 - val_loss: 0.1987 - val_accuracy: 0.9921 - val_iou_score: 0.6687\n",
      "Epoch 143/300\n",
      "21/21 [==============================] - 27s 1s/step - loss: 0.2536 - accuracy: 0.9898 - iou_score: 0.5955 - val_loss: 0.1963 - val_accuracy: 0.9921 - val_iou_score: 0.6721\n",
      "Epoch 144/300\n",
      "21/21 [==============================] - 27s 1s/step - loss: 0.2521 - accuracy: 0.9900 - iou_score: 0.5976 - val_loss: 0.1927 - val_accuracy: 0.9924 - val_iou_score: 0.6772\n",
      "Epoch 145/300\n",
      "21/21 [==============================] - 27s 1s/step - loss: 0.2557 - accuracy: 0.9898 - iou_score: 0.5929 - val_loss: 0.1953 - val_accuracy: 0.9921 - val_iou_score: 0.6734\n",
      "Epoch 146/300\n",
      "21/21 [==============================] - 27s 1s/step - loss: 0.2530 - accuracy: 0.9899 - iou_score: 0.5963 - val_loss: 0.1942 - val_accuracy: 0.9922 - val_iou_score: 0.6750\n",
      "Epoch 147/300\n",
      "21/21 [==============================] - 28s 1s/step - loss: 0.2459 - accuracy: 0.9902 - iou_score: 0.6054 - val_loss: 0.1961 - val_accuracy: 0.9920 - val_iou_score: 0.6723\n",
      "Epoch 148/300\n",
      "21/21 [==============================] - 27s 1s/step - loss: 0.2538 - accuracy: 0.9899 - iou_score: 0.5953 - val_loss: 0.1984 - val_accuracy: 0.9920 - val_iou_score: 0.6691\n",
      "Epoch 149/300\n",
      "21/21 [==============================] - 27s 1s/step - loss: 0.2547 - accuracy: 0.9898 - iou_score: 0.5943 - val_loss: 0.2037 - val_accuracy: 0.9918 - val_iou_score: 0.6618\n",
      "Epoch 150/300\n",
      "21/21 [==============================] - 28s 1s/step - loss: 0.2484 - accuracy: 0.9901 - iou_score: 0.6022 - val_loss: 0.1935 - val_accuracy: 0.9922 - val_iou_score: 0.6761\n",
      "Epoch 151/300\n",
      "21/21 [==============================] - 27s 1s/step - loss: 0.2510 - accuracy: 0.9900 - iou_score: 0.5989 - val_loss: 0.1924 - val_accuracy: 0.9921 - val_iou_score: 0.6776\n",
      "Epoch 152/300\n",
      "21/21 [==============================] - 27s 1s/step - loss: 0.2537 - accuracy: 0.9899 - iou_score: 0.5955 - val_loss: 0.1933 - val_accuracy: 0.9922 - val_iou_score: 0.6762\n",
      "Epoch 153/300\n",
      "21/21 [==============================] - 27s 1s/step - loss: 0.2510 - accuracy: 0.9900 - iou_score: 0.5989 - val_loss: 0.1922 - val_accuracy: 0.9922 - val_iou_score: 0.6779\n",
      "Epoch 154/300\n",
      "21/21 [==============================] - 27s 1s/step - loss: 0.2497 - accuracy: 0.9901 - iou_score: 0.6005 - val_loss: 0.1927 - val_accuracy: 0.9922 - val_iou_score: 0.6772\n",
      "Epoch 155/300\n",
      "21/21 [==============================] - 28s 1s/step - loss: 0.2515 - accuracy: 0.9900 - iou_score: 0.5982 - val_loss: 0.1928 - val_accuracy: 0.9923 - val_iou_score: 0.6769\n",
      "Epoch 156/300\n",
      "21/21 [==============================] - 27s 1s/step - loss: 0.2480 - accuracy: 0.9901 - iou_score: 0.6029 - val_loss: 0.1924 - val_accuracy: 0.9922 - val_iou_score: 0.6776\n",
      "Epoch 157/300\n",
      "21/21 [==============================] - 27s 1s/step - loss: 0.2521 - accuracy: 0.9900 - iou_score: 0.5975 - val_loss: 0.1920 - val_accuracy: 0.9922 - val_iou_score: 0.6781\n",
      "Epoch 158/300\n",
      "21/21 [==============================] - 28s 1s/step - loss: 0.2547 - accuracy: 0.9899 - iou_score: 0.5942 - val_loss: 0.1942 - val_accuracy: 0.9922 - val_iou_score: 0.6750\n",
      "Epoch 159/300\n",
      "21/21 [==============================] - 27s 1s/step - loss: 0.2503 - accuracy: 0.9900 - iou_score: 0.5998 - val_loss: 0.1938 - val_accuracy: 0.9925 - val_iou_score: 0.6756\n",
      "Epoch 160/300\n",
      "21/21 [==============================] - 28s 1s/step - loss: 0.2540 - accuracy: 0.9899 - iou_score: 0.5951 - val_loss: 0.1955 - val_accuracy: 0.9922 - val_iou_score: 0.6732\n",
      "Epoch 161/300\n",
      "21/21 [==============================] - 27s 1s/step - loss: 0.2522 - accuracy: 0.9900 - iou_score: 0.5973 - val_loss: 0.1909 - val_accuracy: 0.9923 - val_iou_score: 0.6797\n",
      "Epoch 162/300\n",
      "21/21 [==============================] - 27s 1s/step - loss: 0.2516 - accuracy: 0.9900 - iou_score: 0.5981 - val_loss: 0.1908 - val_accuracy: 0.9924 - val_iou_score: 0.6798\n",
      "Epoch 163/300\n",
      "21/21 [==============================] - 27s 1s/step - loss: 0.2524 - accuracy: 0.9899 - iou_score: 0.5971 - val_loss: 0.1939 - val_accuracy: 0.9923 - val_iou_score: 0.6754\n",
      "Epoch 164/300\n",
      "21/21 [==============================] - 27s 1s/step - loss: 0.2547 - accuracy: 0.9899 - iou_score: 0.5943 - val_loss: 0.1951 - val_accuracy: 0.9922 - val_iou_score: 0.6738\n",
      "Epoch 165/300\n",
      "21/21 [==============================] - 27s 1s/step - loss: 0.2523 - accuracy: 0.9899 - iou_score: 0.5972 - val_loss: 0.1914 - val_accuracy: 0.9922 - val_iou_score: 0.6790\n",
      "Epoch 166/300\n",
      "21/21 [==============================] - 28s 1s/step - loss: 0.2498 - accuracy: 0.9900 - iou_score: 0.6004 - val_loss: 0.1927 - val_accuracy: 0.9922 - val_iou_score: 0.6771\n",
      "Epoch 167/300\n",
      "21/21 [==============================] - 28s 1s/step - loss: 0.2484 - accuracy: 0.9901 - iou_score: 0.6022 - val_loss: 0.1943 - val_accuracy: 0.9920 - val_iou_score: 0.6749\n",
      "Epoch 168/300\n",
      "21/21 [==============================] - 27s 1s/step - loss: 0.2551 - accuracy: 0.9899 - iou_score: 0.5937 - val_loss: 0.1930 - val_accuracy: 0.9921 - val_iou_score: 0.6766\n",
      "Epoch 169/300\n",
      "21/21 [==============================] - 27s 1s/step - loss: 0.2519 - accuracy: 0.9900 - iou_score: 0.5978 - val_loss: 0.1922 - val_accuracy: 0.9922 - val_iou_score: 0.6778\n",
      "Epoch 170/300\n",
      "21/21 [==============================] - 28s 1s/step - loss: 0.2564 - accuracy: 0.9898 - iou_score: 0.5920 - val_loss: 0.1933 - val_accuracy: 0.9922 - val_iou_score: 0.6763\n",
      "Epoch 171/300\n",
      "21/21 [==============================] - 27s 1s/step - loss: 0.2511 - accuracy: 0.9900 - iou_score: 0.5988 - val_loss: 0.1932 - val_accuracy: 0.9922 - val_iou_score: 0.6765\n",
      "Epoch 172/300\n",
      "21/21 [==============================] - 27s 1s/step - loss: 0.2561 - accuracy: 0.9898 - iou_score: 0.5925 - val_loss: 0.1971 - val_accuracy: 0.9920 - val_iou_score: 0.6710\n",
      "Epoch 173/300\n",
      "21/21 [==============================] - 28s 1s/step - loss: 0.2515 - accuracy: 0.9900 - iou_score: 0.5984 - val_loss: 0.1912 - val_accuracy: 0.9923 - val_iou_score: 0.6792\n",
      "Epoch 174/300\n",
      "21/21 [==============================] - 27s 1s/step - loss: 0.2489 - accuracy: 0.9901 - iou_score: 0.6015 - val_loss: 0.1932 - val_accuracy: 0.9922 - val_iou_score: 0.6764\n",
      "Epoch 175/300\n",
      "21/21 [==============================] - 27s 1s/step - loss: 0.2528 - accuracy: 0.9899 - iou_score: 0.5965 - val_loss: 0.1942 - val_accuracy: 0.9922 - val_iou_score: 0.6751\n",
      "Epoch 176/300\n",
      "21/21 [==============================] - 27s 1s/step - loss: 0.2562 - accuracy: 0.9899 - iou_score: 0.5924 - val_loss: 0.2019 - val_accuracy: 0.9919 - val_iou_score: 0.6642\n"
     ]
    },
    {
     "name": "stdout",
     "output_type": "stream",
     "text": [
      "Epoch 177/300\n",
      "21/21 [==============================] - 28s 1s/step - loss: 0.2505 - accuracy: 0.9901 - iou_score: 0.5996 - val_loss: 0.2151 - val_accuracy: 0.9920 - val_iou_score: 0.6464\n",
      "Epoch 178/300\n",
      "21/21 [==============================] - 27s 1s/step - loss: 0.2554 - accuracy: 0.9898 - iou_score: 0.5934 - val_loss: 0.1949 - val_accuracy: 0.9921 - val_iou_score: 0.6740\n",
      "Epoch 179/300\n",
      "21/21 [==============================] - 27s 1s/step - loss: 0.2499 - accuracy: 0.9901 - iou_score: 0.6002 - val_loss: 0.1928 - val_accuracy: 0.9923 - val_iou_score: 0.6770\n",
      "Epoch 180/300\n",
      "21/21 [==============================] - 28s 1s/step - loss: 0.2534 - accuracy: 0.9898 - iou_score: 0.5958 - val_loss: 0.1940 - val_accuracy: 0.9922 - val_iou_score: 0.6752\n",
      "Epoch 181/300\n",
      "21/21 [==============================] - 27s 1s/step - loss: 0.2508 - accuracy: 0.9900 - iou_score: 0.5991 - val_loss: 0.1987 - val_accuracy: 0.9919 - val_iou_score: 0.6687\n",
      "Epoch 182/300\n",
      "21/21 [==============================] - 27s 1s/step - loss: 0.2521 - accuracy: 0.9899 - iou_score: 0.5975 - val_loss: 0.1941 - val_accuracy: 0.9922 - val_iou_score: 0.6751\n",
      "Epoch 183/300\n",
      "21/21 [==============================] - 27s 1s/step - loss: 0.2526 - accuracy: 0.9899 - iou_score: 0.5969 - val_loss: 0.1935 - val_accuracy: 0.9923 - val_iou_score: 0.6760\n",
      "Epoch 184/300\n",
      "21/21 [==============================] - 27s 1s/step - loss: 0.2519 - accuracy: 0.9900 - iou_score: 0.5977 - val_loss: 0.1915 - val_accuracy: 0.9923 - val_iou_score: 0.6787\n",
      "Epoch 185/300\n",
      "21/21 [==============================] - 27s 1s/step - loss: 0.2516 - accuracy: 0.9900 - iou_score: 0.5982 - val_loss: 0.1929 - val_accuracy: 0.9921 - val_iou_score: 0.6768\n",
      "Epoch 186/300\n",
      "21/21 [==============================] - 27s 1s/step - loss: 0.2489 - accuracy: 0.9901 - iou_score: 0.6016 - val_loss: 0.1923 - val_accuracy: 0.9922 - val_iou_score: 0.6777\n",
      "Epoch 187/300\n",
      "21/21 [==============================] - 27s 1s/step - loss: 0.2496 - accuracy: 0.9901 - iou_score: 0.6008 - val_loss: 0.1939 - val_accuracy: 0.9921 - val_iou_score: 0.6754\n",
      "Epoch 188/300\n",
      "21/21 [==============================] - 27s 1s/step - loss: 0.2533 - accuracy: 0.9899 - iou_score: 0.5959 - val_loss: 0.1946 - val_accuracy: 0.9921 - val_iou_score: 0.6745\n",
      "Epoch 189/300\n",
      "21/21 [==============================] - 27s 1s/step - loss: 0.2494 - accuracy: 0.9900 - iou_score: 0.6009 - val_loss: 0.1929 - val_accuracy: 0.9922 - val_iou_score: 0.6769\n",
      "Epoch 190/300\n",
      "21/21 [==============================] - 27s 1s/step - loss: 0.2535 - accuracy: 0.9899 - iou_score: 0.5957 - val_loss: 0.1931 - val_accuracy: 0.9921 - val_iou_score: 0.6766\n",
      "Epoch 191/300\n",
      "21/21 [==============================] - 27s 1s/step - loss: 0.2507 - accuracy: 0.9900 - iou_score: 0.5993 - val_loss: 0.1922 - val_accuracy: 0.9924 - val_iou_score: 0.6779\n",
      "Epoch 192/300\n",
      "21/21 [==============================] - 27s 1s/step - loss: 0.2525 - accuracy: 0.9899 - iou_score: 0.5970 - val_loss: 0.1933 - val_accuracy: 0.9921 - val_iou_score: 0.6763\n",
      "Epoch 193/300\n",
      "21/21 [==============================] - 27s 1s/step - loss: 0.2527 - accuracy: 0.9899 - iou_score: 0.5968 - val_loss: 0.1940 - val_accuracy: 0.9922 - val_iou_score: 0.6753\n",
      "Epoch 194/300\n",
      "21/21 [==============================] - 27s 1s/step - loss: 0.2501 - accuracy: 0.9900 - iou_score: 0.6000 - val_loss: 0.1935 - val_accuracy: 0.9921 - val_iou_score: 0.6759\n",
      "Epoch 195/300\n",
      "21/21 [==============================] - 27s 1s/step - loss: 0.2510 - accuracy: 0.9900 - iou_score: 0.5989 - val_loss: 0.1911 - val_accuracy: 0.9923 - val_iou_score: 0.6794\n",
      "Epoch 196/300\n",
      "21/21 [==============================] - 27s 1s/step - loss: 0.2515 - accuracy: 0.9900 - iou_score: 0.5982 - val_loss: 0.1912 - val_accuracy: 0.9925 - val_iou_score: 0.6793\n",
      "Epoch 197/300\n",
      "21/21 [==============================] - 27s 1s/step - loss: 0.2478 - accuracy: 0.9902 - iou_score: 0.6031 - val_loss: 0.1934 - val_accuracy: 0.9923 - val_iou_score: 0.6762\n",
      "Epoch 198/300\n",
      "21/21 [==============================] - 28s 1s/step - loss: 0.2479 - accuracy: 0.9901 - iou_score: 0.6028 - val_loss: 0.1949 - val_accuracy: 0.9920 - val_iou_score: 0.6741\n",
      "Epoch 199/300\n",
      "21/21 [==============================] - 27s 1s/step - loss: 0.2497 - accuracy: 0.9900 - iou_score: 0.6005 - val_loss: 0.1907 - val_accuracy: 0.9923 - val_iou_score: 0.6799\n",
      "Epoch 200/300\n",
      "21/21 [==============================] - 27s 1s/step - loss: 0.2509 - accuracy: 0.9900 - iou_score: 0.5990 - val_loss: 0.1975 - val_accuracy: 0.9920 - val_iou_score: 0.6703\n",
      "Epoch 201/300\n",
      "21/21 [==============================] - 28s 1s/step - loss: 0.2495 - accuracy: 0.9900 - iou_score: 0.6008 - val_loss: 0.1960 - val_accuracy: 0.9921 - val_iou_score: 0.6725\n",
      "Epoch 202/300\n",
      "21/21 [==============================] - 28s 1s/step - loss: 0.2538 - accuracy: 0.9899 - iou_score: 0.5952 - val_loss: 0.1914 - val_accuracy: 0.9922 - val_iou_score: 0.6789\n",
      "Epoch 203/300\n",
      "21/21 [==============================] - 27s 1s/step - loss: 0.2464 - accuracy: 0.9902 - iou_score: 0.6048 - val_loss: 0.1917 - val_accuracy: 0.9922 - val_iou_score: 0.6786\n",
      "Epoch 204/300\n",
      "21/21 [==============================] - 27s 1s/step - loss: 0.2467 - accuracy: 0.9902 - iou_score: 0.6045 - val_loss: 0.1905 - val_accuracy: 0.9923 - val_iou_score: 0.6802\n",
      "Epoch 205/300\n",
      "21/21 [==============================] - 27s 1s/step - loss: 0.2466 - accuracy: 0.9902 - iou_score: 0.6044 - val_loss: 0.1955 - val_accuracy: 0.9921 - val_iou_score: 0.6731\n",
      "Epoch 206/300\n",
      "21/21 [==============================] - 27s 1s/step - loss: 0.2502 - accuracy: 0.9900 - iou_score: 0.5999 - val_loss: 0.1940 - val_accuracy: 0.9923 - val_iou_score: 0.6753\n",
      "Epoch 207/300\n",
      "21/21 [==============================] - 27s 1s/step - loss: 0.2497 - accuracy: 0.9901 - iou_score: 0.6005 - val_loss: 0.1925 - val_accuracy: 0.9921 - val_iou_score: 0.6773\n",
      "Epoch 208/300\n",
      "21/21 [==============================] - 27s 1s/step - loss: 0.2499 - accuracy: 0.9900 - iou_score: 0.6003 - val_loss: 0.1926 - val_accuracy: 0.9924 - val_iou_score: 0.6772\n",
      "Epoch 209/300\n",
      "21/21 [==============================] - 27s 1s/step - loss: 0.2487 - accuracy: 0.9902 - iou_score: 0.6018 - val_loss: 0.1892 - val_accuracy: 0.9925 - val_iou_score: 0.6821\n",
      "Epoch 210/300\n",
      "21/21 [==============================] - 27s 1s/step - loss: 0.2457 - accuracy: 0.9902 - iou_score: 0.6057 - val_loss: 0.1907 - val_accuracy: 0.9922 - val_iou_score: 0.6799\n",
      "Epoch 211/300\n",
      "21/21 [==============================] - 27s 1s/step - loss: 0.2484 - accuracy: 0.9902 - iou_score: 0.6022 - val_loss: 0.1916 - val_accuracy: 0.9922 - val_iou_score: 0.6787\n",
      "Epoch 212/300\n",
      "21/21 [==============================] - 27s 1s/step - loss: 0.2523 - accuracy: 0.9899 - iou_score: 0.5972 - val_loss: 0.1899 - val_accuracy: 0.9924 - val_iou_score: 0.6810\n",
      "Epoch 213/300\n",
      "21/21 [==============================] - 28s 1s/step - loss: 0.2461 - accuracy: 0.9902 - iou_score: 0.6050 - val_loss: 0.1949 - val_accuracy: 0.9920 - val_iou_score: 0.6740\n",
      "Epoch 214/300\n",
      "21/21 [==============================] - 27s 1s/step - loss: 0.2477 - accuracy: 0.9901 - iou_score: 0.6031 - val_loss: 0.1895 - val_accuracy: 0.9923 - val_iou_score: 0.6816\n",
      "Epoch 215/300\n",
      "21/21 [==============================] - 27s 1s/step - loss: 0.2498 - accuracy: 0.9900 - iou_score: 0.6005 - val_loss: 0.1906 - val_accuracy: 0.9924 - val_iou_score: 0.6801\n",
      "Epoch 216/300\n",
      "21/21 [==============================] - 28s 1s/step - loss: 0.2521 - accuracy: 0.9900 - iou_score: 0.5974 - val_loss: 0.1890 - val_accuracy: 0.9924 - val_iou_score: 0.6822\n",
      "Epoch 217/300\n",
      "21/21 [==============================] - 27s 1s/step - loss: 0.2510 - accuracy: 0.9900 - iou_score: 0.5988 - val_loss: 0.1916 - val_accuracy: 0.9923 - val_iou_score: 0.6786\n",
      "Epoch 218/300\n",
      "21/21 [==============================] - 27s 1s/step - loss: 0.2484 - accuracy: 0.9901 - iou_score: 0.6022 - val_loss: 0.1908 - val_accuracy: 0.9923 - val_iou_score: 0.6799\n",
      "Epoch 219/300\n",
      "21/21 [==============================] - 27s 1s/step - loss: 0.2444 - accuracy: 0.9903 - iou_score: 0.6073 - val_loss: 0.1899 - val_accuracy: 0.9924 - val_iou_score: 0.6811\n",
      "Epoch 220/300\n",
      "21/21 [==============================] - 28s 1s/step - loss: 0.2497 - accuracy: 0.9900 - iou_score: 0.6006 - val_loss: 0.1896 - val_accuracy: 0.9924 - val_iou_score: 0.6814\n"
     ]
    },
    {
     "name": "stdout",
     "output_type": "stream",
     "text": [
      "Epoch 221/300\n",
      "21/21 [==============================] - 27s 1s/step - loss: 0.2480 - accuracy: 0.9901 - iou_score: 0.6027 - val_loss: 0.1894 - val_accuracy: 0.9924 - val_iou_score: 0.6818\n",
      "Epoch 222/300\n",
      "21/21 [==============================] - 27s 1s/step - loss: 0.2465 - accuracy: 0.9902 - iou_score: 0.6046 - val_loss: 0.1924 - val_accuracy: 0.9921 - val_iou_score: 0.6775\n",
      "Epoch 223/300\n",
      "21/21 [==============================] - 27s 1s/step - loss: 0.2497 - accuracy: 0.9901 - iou_score: 0.6005 - val_loss: 0.1924 - val_accuracy: 0.9922 - val_iou_score: 0.6776\n",
      "Epoch 224/300\n",
      "21/21 [==============================] - 27s 1s/step - loss: 0.2490 - accuracy: 0.9901 - iou_score: 0.6015 - val_loss: 0.1917 - val_accuracy: 0.9922 - val_iou_score: 0.6786\n",
      "Epoch 225/300\n",
      "21/21 [==============================] - 27s 1s/step - loss: 0.2447 - accuracy: 0.9903 - iou_score: 0.6070 - val_loss: 0.1901 - val_accuracy: 0.9924 - val_iou_score: 0.6807\n",
      "Epoch 226/300\n",
      "21/21 [==============================] - 27s 1s/step - loss: 0.2501 - accuracy: 0.9901 - iou_score: 0.6000 - val_loss: 0.2036 - val_accuracy: 0.9920 - val_iou_score: 0.6619\n",
      "Epoch 227/300\n",
      "21/21 [==============================] - 27s 1s/step - loss: 0.2467 - accuracy: 0.9902 - iou_score: 0.6044 - val_loss: 0.1887 - val_accuracy: 0.9924 - val_iou_score: 0.6828\n",
      "Epoch 228/300\n",
      "21/21 [==============================] - 27s 1s/step - loss: 0.2511 - accuracy: 0.9900 - iou_score: 0.5988 - val_loss: 0.1939 - val_accuracy: 0.9921 - val_iou_score: 0.6755\n",
      "Epoch 229/300\n",
      "21/21 [==============================] - 27s 1s/step - loss: 0.2450 - accuracy: 0.9903 - iou_score: 0.6065 - val_loss: 0.1910 - val_accuracy: 0.9923 - val_iou_score: 0.6795\n",
      "Epoch 230/300\n",
      "21/21 [==============================] - 28s 1s/step - loss: 0.2500 - accuracy: 0.9900 - iou_score: 0.6002 - val_loss: 0.1915 - val_accuracy: 0.9922 - val_iou_score: 0.6788\n",
      "Epoch 231/300\n",
      "21/21 [==============================] - 27s 1s/step - loss: 0.2472 - accuracy: 0.9901 - iou_score: 0.6037 - val_loss: 0.1914 - val_accuracy: 0.9923 - val_iou_score: 0.6790\n",
      "Epoch 232/300\n",
      "21/21 [==============================] - 27s 1s/step - loss: 0.2489 - accuracy: 0.9901 - iou_score: 0.6015 - val_loss: 0.1921 - val_accuracy: 0.9922 - val_iou_score: 0.6780\n",
      "Epoch 233/300\n",
      "21/21 [==============================] - 27s 1s/step - loss: 0.2467 - accuracy: 0.9902 - iou_score: 0.6043 - val_loss: 0.1905 - val_accuracy: 0.9923 - val_iou_score: 0.6802\n",
      "Epoch 234/300\n",
      "21/21 [==============================] - 27s 1s/step - loss: 0.2494 - accuracy: 0.9900 - iou_score: 0.6008 - val_loss: 0.1926 - val_accuracy: 0.9921 - val_iou_score: 0.6772\n",
      "Epoch 235/300\n",
      "21/21 [==============================] - 27s 1s/step - loss: 0.2467 - accuracy: 0.9902 - iou_score: 0.6044 - val_loss: 0.1907 - val_accuracy: 0.9922 - val_iou_score: 0.6799\n",
      "Epoch 236/300\n",
      "21/21 [==============================] - 27s 1s/step - loss: 0.2511 - accuracy: 0.9901 - iou_score: 0.5987 - val_loss: 0.1909 - val_accuracy: 0.9925 - val_iou_score: 0.6797\n",
      "Epoch 237/300\n",
      "21/21 [==============================] - 27s 1s/step - loss: 0.2483 - accuracy: 0.9901 - iou_score: 0.6024 - val_loss: 0.1926 - val_accuracy: 0.9922 - val_iou_score: 0.6773\n",
      "Epoch 238/300\n",
      "21/21 [==============================] - 27s 1s/step - loss: 0.2479 - accuracy: 0.9901 - iou_score: 0.6028 - val_loss: 0.1920 - val_accuracy: 0.9923 - val_iou_score: 0.6781\n",
      "Epoch 239/300\n",
      "21/21 [==============================] - 27s 1s/step - loss: 0.2518 - accuracy: 0.9900 - iou_score: 0.5979 - val_loss: 0.1903 - val_accuracy: 0.9924 - val_iou_score: 0.6805\n",
      "Epoch 240/300\n",
      "21/21 [==============================] - 27s 1s/step - loss: 0.2475 - accuracy: 0.9901 - iou_score: 0.6034 - val_loss: 0.1896 - val_accuracy: 0.9923 - val_iou_score: 0.6815\n",
      "Epoch 241/300\n",
      "21/21 [==============================] - 27s 1s/step - loss: 0.2516 - accuracy: 0.9900 - iou_score: 0.5980 - val_loss: 0.1922 - val_accuracy: 0.9922 - val_iou_score: 0.6778\n",
      "Epoch 242/300\n",
      "21/21 [==============================] - 27s 1s/step - loss: 0.2445 - accuracy: 0.9903 - iou_score: 0.6072 - val_loss: 0.1904 - val_accuracy: 0.9924 - val_iou_score: 0.6804\n",
      "Epoch 243/300\n",
      "21/21 [==============================] - 27s 1s/step - loss: 0.2467 - accuracy: 0.9902 - iou_score: 0.6044 - val_loss: 0.1889 - val_accuracy: 0.9924 - val_iou_score: 0.6825\n",
      "Epoch 244/300\n",
      "21/21 [==============================] - 27s 1s/step - loss: 0.2469 - accuracy: 0.9902 - iou_score: 0.6041 - val_loss: 0.1921 - val_accuracy: 0.9922 - val_iou_score: 0.6780\n",
      "Epoch 245/300\n",
      "21/21 [==============================] - 27s 1s/step - loss: 0.2509 - accuracy: 0.9901 - iou_score: 0.5989 - val_loss: 0.1912 - val_accuracy: 0.9922 - val_iou_score: 0.6792\n",
      "Epoch 246/300\n",
      "21/21 [==============================] - 28s 1s/step - loss: 0.2489 - accuracy: 0.9901 - iou_score: 0.6015 - val_loss: 0.1931 - val_accuracy: 0.9922 - val_iou_score: 0.6766\n",
      "Epoch 247/300\n",
      "21/21 [==============================] - 27s 1s/step - loss: 0.2450 - accuracy: 0.9902 - iou_score: 0.6066 - val_loss: 0.1919 - val_accuracy: 0.9921 - val_iou_score: 0.6782\n",
      "Epoch 248/300\n",
      "21/21 [==============================] - 27s 1s/step - loss: 0.2490 - accuracy: 0.9901 - iou_score: 0.6014 - val_loss: 0.1915 - val_accuracy: 0.9922 - val_iou_score: 0.6788\n",
      "Epoch 249/300\n",
      "21/21 [==============================] - 27s 1s/step - loss: 0.2484 - accuracy: 0.9901 - iou_score: 0.6022 - val_loss: 0.1914 - val_accuracy: 0.9921 - val_iou_score: 0.6789\n",
      "Epoch 250/300\n",
      "21/21 [==============================] - 28s 1s/step - loss: 0.2479 - accuracy: 0.9901 - iou_score: 0.6031 - val_loss: 0.1907 - val_accuracy: 0.9925 - val_iou_score: 0.6799\n",
      "Epoch 251/300\n",
      "21/21 [==============================] - 27s 1s/step - loss: 0.2450 - accuracy: 0.9903 - iou_score: 0.6065 - val_loss: 0.1906 - val_accuracy: 0.9925 - val_iou_score: 0.6801\n",
      "Epoch 252/300\n",
      "21/21 [==============================] - 27s 1s/step - loss: 0.2468 - accuracy: 0.9902 - iou_score: 0.6043 - val_loss: 0.1892 - val_accuracy: 0.9924 - val_iou_score: 0.6821\n",
      "Epoch 253/300\n",
      "21/21 [==============================] - 27s 1s/step - loss: 0.2477 - accuracy: 0.9901 - iou_score: 0.6032 - val_loss: 0.1925 - val_accuracy: 0.9922 - val_iou_score: 0.6775\n",
      "Epoch 254/300\n",
      "21/21 [==============================] - 27s 1s/step - loss: 0.2473 - accuracy: 0.9902 - iou_score: 0.6035 - val_loss: 0.1892 - val_accuracy: 0.9924 - val_iou_score: 0.6820\n",
      "Epoch 255/300\n",
      "21/21 [==============================] - 27s 1s/step - loss: 0.2470 - accuracy: 0.9902 - iou_score: 0.6041 - val_loss: 0.1906 - val_accuracy: 0.9923 - val_iou_score: 0.6801\n",
      "Epoch 256/300\n",
      "21/21 [==============================] - 27s 1s/step - loss: 0.2456 - accuracy: 0.9902 - iou_score: 0.6059 - val_loss: 0.1909 - val_accuracy: 0.9921 - val_iou_score: 0.6796\n",
      "Epoch 257/300\n",
      "21/21 [==============================] - 27s 1s/step - loss: 0.2500 - accuracy: 0.9900 - iou_score: 0.6002 - val_loss: 0.1945 - val_accuracy: 0.9921 - val_iou_score: 0.6746\n",
      "Epoch 258/300\n",
      "21/21 [==============================] - 27s 1s/step - loss: 0.2473 - accuracy: 0.9901 - iou_score: 0.6038 - val_loss: 0.1922 - val_accuracy: 0.9922 - val_iou_score: 0.6778\n",
      "Epoch 259/300\n",
      "21/21 [==============================] - 27s 1s/step - loss: 0.2491 - accuracy: 0.9901 - iou_score: 0.6014 - val_loss: 0.1910 - val_accuracy: 0.9923 - val_iou_score: 0.6795\n",
      "Epoch 260/300\n",
      "21/21 [==============================] - 28s 1s/step - loss: 0.2469 - accuracy: 0.9902 - iou_score: 0.6042 - val_loss: 0.1914 - val_accuracy: 0.9922 - val_iou_score: 0.6790\n",
      "Epoch 261/300\n",
      "21/21 [==============================] - 27s 1s/step - loss: 0.2454 - accuracy: 0.9902 - iou_score: 0.6061 - val_loss: 0.1896 - val_accuracy: 0.9924 - val_iou_score: 0.6814\n",
      "Epoch 262/300\n",
      "21/21 [==============================] - 27s 1s/step - loss: 0.2470 - accuracy: 0.9902 - iou_score: 0.6040 - val_loss: 0.1973 - val_accuracy: 0.9919 - val_iou_score: 0.6706\n",
      "Epoch 263/300\n",
      "21/21 [==============================] - 27s 1s/step - loss: 0.2483 - accuracy: 0.9901 - iou_score: 0.6023 - val_loss: 0.1877 - val_accuracy: 0.9924 - val_iou_score: 0.6841\n",
      "Epoch 264/300\n",
      "21/21 [==============================] - 28s 1s/step - loss: 0.2472 - accuracy: 0.9902 - iou_score: 0.6037 - val_loss: 0.1907 - val_accuracy: 0.9923 - val_iou_score: 0.6800\n"
     ]
    },
    {
     "name": "stdout",
     "output_type": "stream",
     "text": [
      "Epoch 265/300\n",
      "21/21 [==============================] - 27s 1s/step - loss: 0.2451 - accuracy: 0.9902 - iou_score: 0.6064 - val_loss: 0.1919 - val_accuracy: 0.9920 - val_iou_score: 0.6782\n",
      "Epoch 266/300\n",
      "21/21 [==============================] - 27s 1s/step - loss: 0.2503 - accuracy: 0.9900 - iou_score: 0.5998 - val_loss: 0.1983 - val_accuracy: 0.9919 - val_iou_score: 0.6693\n",
      "Epoch 267/300\n",
      "21/21 [==============================] - 27s 1s/step - loss: 0.2461 - accuracy: 0.9902 - iou_score: 0.6051 - val_loss: 0.1917 - val_accuracy: 0.9922 - val_iou_score: 0.6784\n",
      "Epoch 268/300\n",
      "21/21 [==============================] - 28s 1s/step - loss: 0.2455 - accuracy: 0.9902 - iou_score: 0.6059 - val_loss: 0.1903 - val_accuracy: 0.9924 - val_iou_score: 0.6805\n",
      "Epoch 269/300\n",
      "21/21 [==============================] - 28s 1s/step - loss: 0.2454 - accuracy: 0.9903 - iou_score: 0.6060 - val_loss: 0.1949 - val_accuracy: 0.9920 - val_iou_score: 0.6740\n",
      "Epoch 270/300\n",
      "21/21 [==============================] - 28s 1s/step - loss: 0.2445 - accuracy: 0.9903 - iou_score: 0.6073 - val_loss: 0.1900 - val_accuracy: 0.9923 - val_iou_score: 0.6809\n",
      "Epoch 271/300\n",
      "21/21 [==============================] - 27s 1s/step - loss: 0.2519 - accuracy: 0.9899 - iou_score: 0.5977 - val_loss: 0.1924 - val_accuracy: 0.9923 - val_iou_score: 0.6775\n",
      "Epoch 272/300\n",
      "21/21 [==============================] - 27s 1s/step - loss: 0.2482 - accuracy: 0.9901 - iou_score: 0.6025 - val_loss: 0.1909 - val_accuracy: 0.9924 - val_iou_score: 0.6796\n",
      "Epoch 273/300\n",
      "21/21 [==============================] - 27s 1s/step - loss: 0.2487 - accuracy: 0.9901 - iou_score: 0.6018 - val_loss: 0.1892 - val_accuracy: 0.9923 - val_iou_score: 0.6821\n",
      "Epoch 274/300\n",
      "21/21 [==============================] - 27s 1s/step - loss: 0.2523 - accuracy: 0.9899 - iou_score: 0.5973 - val_loss: 0.1891 - val_accuracy: 0.9924 - val_iou_score: 0.6822\n",
      "Epoch 275/300\n",
      "21/21 [==============================] - 27s 1s/step - loss: 0.2506 - accuracy: 0.9900 - iou_score: 0.5994 - val_loss: 0.1914 - val_accuracy: 0.9922 - val_iou_score: 0.6790\n",
      "Epoch 276/300\n",
      "21/21 [==============================] - 27s 1s/step - loss: 0.2464 - accuracy: 0.9902 - iou_score: 0.6047 - val_loss: 0.1882 - val_accuracy: 0.9924 - val_iou_score: 0.6835\n",
      "Epoch 277/300\n",
      "21/21 [==============================] - 27s 1s/step - loss: 0.2490 - accuracy: 0.9901 - iou_score: 0.6014 - val_loss: 0.1900 - val_accuracy: 0.9924 - val_iou_score: 0.6810\n",
      "Epoch 278/300\n",
      "21/21 [==============================] - 27s 1s/step - loss: 0.2418 - accuracy: 0.9904 - iou_score: 0.6107 - val_loss: 0.1898 - val_accuracy: 0.9925 - val_iou_score: 0.6811\n",
      "Epoch 279/300\n",
      "21/21 [==============================] - 27s 1s/step - loss: 0.2458 - accuracy: 0.9902 - iou_score: 0.6055 - val_loss: 0.1913 - val_accuracy: 0.9924 - val_iou_score: 0.6791\n",
      "Epoch 280/300\n",
      "21/21 [==============================] - 28s 1s/step - loss: 0.2438 - accuracy: 0.9903 - iou_score: 0.6081 - val_loss: 0.1908 - val_accuracy: 0.9924 - val_iou_score: 0.6798\n",
      "Epoch 281/300\n",
      "21/21 [==============================] - 27s 1s/step - loss: 0.2433 - accuracy: 0.9903 - iou_score: 0.6087 - val_loss: 0.1910 - val_accuracy: 0.9923 - val_iou_score: 0.6795\n",
      "Epoch 282/300\n",
      "21/21 [==============================] - 28s 1s/step - loss: 0.2497 - accuracy: 0.9900 - iou_score: 0.6005 - val_loss: 0.1899 - val_accuracy: 0.9923 - val_iou_score: 0.6811\n",
      "Epoch 283/300\n",
      "21/21 [==============================] - 27s 1s/step - loss: 0.2467 - accuracy: 0.9902 - iou_score: 0.6044 - val_loss: 0.1904 - val_accuracy: 0.9922 - val_iou_score: 0.6804\n",
      "Epoch 284/300\n",
      "21/21 [==============================] - 27s 1s/step - loss: 0.2481 - accuracy: 0.9901 - iou_score: 0.6025 - val_loss: 0.1891 - val_accuracy: 0.9926 - val_iou_score: 0.6822\n",
      "Epoch 285/300\n",
      "21/21 [==============================] - 27s 1s/step - loss: 0.2421 - accuracy: 0.9903 - iou_score: 0.6103 - val_loss: 0.1889 - val_accuracy: 0.9924 - val_iou_score: 0.6825\n",
      "Epoch 286/300\n",
      "21/21 [==============================] - 28s 1s/step - loss: 0.2484 - accuracy: 0.9901 - iou_score: 0.6023 - val_loss: 0.1926 - val_accuracy: 0.9921 - val_iou_score: 0.6772\n",
      "Epoch 287/300\n",
      "21/21 [==============================] - 27s 1s/step - loss: 0.2485 - accuracy: 0.9900 - iou_score: 0.6021 - val_loss: 0.1925 - val_accuracy: 0.9921 - val_iou_score: 0.6774\n",
      "Epoch 288/300\n",
      "21/21 [==============================] - 27s 1s/step - loss: 0.2446 - accuracy: 0.9903 - iou_score: 0.6071 - val_loss: 0.1887 - val_accuracy: 0.9925 - val_iou_score: 0.6828\n",
      "Epoch 289/300\n",
      "21/21 [==============================] - 27s 1s/step - loss: 0.2444 - accuracy: 0.9903 - iou_score: 0.6073 - val_loss: 0.1900 - val_accuracy: 0.9924 - val_iou_score: 0.6809\n",
      "Epoch 290/300\n",
      "21/21 [==============================] - 28s 1s/step - loss: 0.2440 - accuracy: 0.9903 - iou_score: 0.6079 - val_loss: 0.1932 - val_accuracy: 0.9922 - val_iou_score: 0.6764\n",
      "Epoch 291/300\n",
      "21/21 [==============================] - 27s 1s/step - loss: 0.2465 - accuracy: 0.9902 - iou_score: 0.6048 - val_loss: 0.1887 - val_accuracy: 0.9923 - val_iou_score: 0.6827\n",
      "Epoch 292/300\n",
      "21/21 [==============================] - 27s 1s/step - loss: 0.2452 - accuracy: 0.9903 - iou_score: 0.6062 - val_loss: 0.1882 - val_accuracy: 0.9924 - val_iou_score: 0.6835\n",
      "Epoch 293/300\n",
      "21/21 [==============================] - 27s 1s/step - loss: 0.2445 - accuracy: 0.9903 - iou_score: 0.6072 - val_loss: 0.1878 - val_accuracy: 0.9924 - val_iou_score: 0.6841\n",
      "Epoch 294/300\n",
      "21/21 [==============================] - 27s 1s/step - loss: 0.2446 - accuracy: 0.9903 - iou_score: 0.6071 - val_loss: 0.1879 - val_accuracy: 0.9924 - val_iou_score: 0.6838\n",
      "Epoch 295/300\n",
      "21/21 [==============================] - 27s 1s/step - loss: 0.2521 - accuracy: 0.9900 - iou_score: 0.5975 - val_loss: 0.2510 - val_accuracy: 0.9897 - val_iou_score: 0.5991\n",
      "Epoch 296/300\n",
      "21/21 [==============================] - 27s 1s/step - loss: 0.2495 - accuracy: 0.9900 - iou_score: 0.6007 - val_loss: 0.2871 - val_accuracy: 0.9898 - val_iou_score: 0.5539\n",
      "Epoch 297/300\n",
      "21/21 [==============================] - 27s 1s/step - loss: 0.2478 - accuracy: 0.9901 - iou_score: 0.6029 - val_loss: 0.1958 - val_accuracy: 0.9924 - val_iou_score: 0.6728\n",
      "Epoch 298/300\n",
      "21/21 [==============================] - 27s 1s/step - loss: 0.2461 - accuracy: 0.9902 - iou_score: 0.6053 - val_loss: 0.1952 - val_accuracy: 0.9924 - val_iou_score: 0.6736\n",
      "Epoch 299/300\n",
      "21/21 [==============================] - 27s 1s/step - loss: 0.2461 - accuracy: 0.9903 - iou_score: 0.6052 - val_loss: 0.1894 - val_accuracy: 0.9924 - val_iou_score: 0.6818\n",
      "Epoch 300/300\n",
      "21/21 [==============================] - 28s 1s/step - loss: 0.2430 - accuracy: 0.9903 - iou_score: 0.6092 - val_loss: 0.1886 - val_accuracy: 0.9924 - val_iou_score: 0.6829\n"
     ]
    },
    {
     "data": {
      "text/plain": [
       "<tensorflow.python.keras.callbacks.History at 0x26e780b0e48>"
      ]
     },
     "execution_count": 8,
     "metadata": {},
     "output_type": "execute_result"
    }
   ],
   "source": [
    "model.fit_generator(train_gen,\n",
    "                    epochs=300,\n",
    "                    callbacks=callbacks,\n",
    "                    validation_data=validation_gen,\n",
    "                    validation_freq=1,\n",
    "                    use_multiprocessing=True,\n",
    "                    workers=10,\n",
    "                    max_queue_size=32)"
   ]
  },
  {
   "cell_type": "code",
   "execution_count": 9,
   "metadata": {
    "scrolled": true
   },
   "outputs": [],
   "source": [
    "X, y = validation_gen[0]\n",
    "y_pred = model.predict(X)"
   ]
  },
  {
   "cell_type": "code",
   "execution_count": 10,
   "metadata": {},
   "outputs": [
    {
     "data": {
      "text/plain": [
       "<matplotlib.image.AxesImage at 0x26c2d4c0a48>"
      ]
     },
     "execution_count": 10,
     "metadata": {},
     "output_type": "execute_result"
    },
    {
     "data": {
      "image/png": "[encoded data removed]",
      "text/plain": [
       "<Figure size 432x288 with 1 Axes>"
      ]
     },
     "metadata": {
      "needs_background": "light"
     },
     "output_type": "display_data"
    }
   ],
   "source": [
    "plt.imshow(X[0,:,:,0], cmap=\"gray\")"
   ]
  },
  {
   "cell_type": "code",
   "execution_count": 11,
   "metadata": {},
   "outputs": [
    {
     "data": {
      "text/plain": [
       "<matplotlib.image.AxesImage at 0x26c2e583c08>"
      ]
     },
     "execution_count": 11,
     "metadata": {},
     "output_type": "execute_result"
    },
    {
     "data": {
      "image/png": "[encoded data removed]",
      "text/plain": [
       "<Figure size 432x288 with 1 Axes>"
      ]
     },
     "metadata": {
      "needs_background": "light"
     },
     "output_type": "display_data"
    }
   ],
   "source": [
    "plt.imshow(y[0,:,:,0], cmap=\"gray\")"
   ]
  },
  {
   "cell_type": "code",
   "execution_count": 12,
   "metadata": {},
   "outputs": [
    {
     "data": {
      "text/plain": [
       "<matplotlib.image.AxesImage at 0x26c2e7246c8>"
      ]
     },
     "execution_count": 12,
     "metadata": {},
     "output_type": "execute_result"
    },
    {
     "data": {
      "image/png": "[encoded data removed]",
      "text/plain": [
       "<Figure size 432x288 with 1 Axes>"
      ]
     },
     "metadata": {
      "needs_background": "light"
     },
     "output_type": "display_data"
    }
   ],
   "source": [
    "plt.imshow(y_pred[0,:,:,0], cmap=\"gray\")"
   ]
  },
  {
   "cell_type": "code",
   "execution_count": 13,
   "metadata": {},
   "outputs": [],
   "source": [
    "plt.imsave(save_path + \"/y.png\",y[0,:,:,0], cmap=\"gray\")"
   ]
  },
  {
   "cell_type": "code",
   "execution_count": 14,
   "metadata": {},
   "outputs": [],
   "source": [
    "plt.imsave(save_path + \"/y_pred.png\",y_pred[0,:,:,0], cmap=\"gray\")"
   ]
  }
 ],
 "metadata": {
  "kernelspec": {
   "display_name": "Python 3",
   "language": "python",
   "name": "python3"
  },
  "language_info": {
   "codemirror_mode": {
    "name": "ipython",
    "version": 3
   },
   "file_extension": ".py",
   "mimetype": "text/x-python",
   "name": "python",
   "nbconvert_exporter": "python",
   "pygments_lexer": "ipython3",
   "version": "3.7.5"
  }
 },
 "nbformat": 4,
 "nbformat_minor": 4
}

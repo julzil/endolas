{
 "cells": [
  {
   "cell_type": "markdown",
   "metadata": {},
   "source": [
    "# Test of the LASTENSequence\n",
    "The generator for the LASTEN data set is tested here."
   ]
  },
  {
   "cell_type": "markdown",
   "metadata": {},
   "source": [
    "# Import statements\n",
    "Following packages are necessary:"
   ]
  },
  {
   "cell_type": "code",
   "execution_count": 1,
   "metadata": {},
   "outputs": [],
   "source": [
    "import random\n",
    "import utils\n",
    "import importlib\n",
    "import lastengen\n",
    "\n",
    "import numpy as np\n",
    "\n",
    "from unet import UNet\n",
    "from unet import preprocess_input as pre_une\n",
    "\n",
    "from matplotlib import pyplot as plt"
   ]
  },
  {
   "cell_type": "markdown",
   "metadata": {},
   "source": [
    "# Settings\n",
    "Set the plot settings"
   ]
  },
  {
   "cell_type": "code",
   "execution_count": 2,
   "metadata": {},
   "outputs": [],
   "source": [
    "plt.rcParams['figure.figsize'] = (15, 15)"
   ]
  },
  {
   "cell_type": "markdown",
   "metadata": {
    "pycharm": {
     "name": "#%% md\n"
    }
   },
   "source": [
    "# Data\n",
    "Import training images"
   ]
  },
  {
   "cell_type": "code",
   "execution_count": 3,
   "metadata": {
    "pycharm": {
     "name": "#%%\n"
    }
   },
   "outputs": [],
   "source": [
    "path_fixed = r'/home/julian/Documents/Studium/MT-Masterarbeit/Data/LASTEN/fix'\n",
    "path_train = r'/home/julian/Documents/Studium/MT-Masterarbeit/Data/LASTEN/train'\n",
    "path_validation = r'/home/julian/Documents/Studium/MT-Masterarbeit/Data/LASTEN/validation'\n",
    "path_test = r'/home/julian/Documents/Studium/MT-Masterarbeit/Data/LASTEN/test'"
   ]
  },
  {
   "cell_type": "markdown",
   "metadata": {
    "pycharm": {
     "name": "#%% md\n"
    }
   },
   "source": [
    "# Data Preparation\n",
    "The generator sequence for training is built."
   ]
  },
  {
   "cell_type": "code",
   "execution_count": 51,
   "metadata": {
    "pycharm": {
     "name": "#%%\n"
    }
   },
   "outputs": [],
   "source": [
    "width = 384\n",
    "height = 384\n",
    "grid_width = 18\n",
    "grid_height = 18\n",
    "\n",
    "importlib.reload(lastengen)\n",
    "\n",
    "train_gen = lastengen.LASTENSequence(path_train, path_fixed,\n",
    "                           batch_size=4,\n",
    "                           image_ids=None,\n",
    "                           preprocess_input=pre_une,\n",
    "                           #shuffle=True,\n",
    "                           augment=True,\n",
    "                           width=width,\n",
    "                           height=height,\n",
    "                           label=\"keypoints\",\n",
    "                           channel=\"moving+fixed\")"
   ]
  },
  {
   "cell_type": "code",
   "execution_count": 40,
   "metadata": {},
   "outputs": [],
   "source": [
    "batch_index = 1\n",
    "\n",
    "X, y = train_gen[batch_index]\n",
    "\n",
    "image = X[batch_index]\n",
    "mask = y[batch_index]\n",
    "keypoints = y[batch_index]"
   ]
  },
  {
   "cell_type": "code",
   "execution_count": 42,
   "metadata": {},
   "outputs": [
    {
     "data": {
      "text/plain": [
       "<matplotlib.collections.PathCollection at 0x7f96284d3fd0>"
      ]
     },
     "execution_count": 42,
     "metadata": {},
     "output_type": "execute_result"
    },
    {
     "data": {
      "image/png": "[encoded data removed]",
      "text/plain": [
       "<Figure size 1080x1080 with 1 Axes>"
      ]
     },
     "metadata": {
      "needs_background": "light"
     },
     "output_type": "display_data"
    }
   ],
   "source": [
    "plt.clf()\n",
    "plt.imshow(image[:,:,0], cmap=\"gray\")\n",
    "plt.imshow(mask[:,:,0], cmap=\"gray\")\n",
    "\n",
    "x_list = []\n",
    "y_list = []\n",
    "\n",
    "for index in range(0, len(keypoints)):   \n",
    "    x = keypoints[index][0][0]\n",
    "    y = keypoints[index][1][0]\n",
    "    \n",
    "    x_list.append(x)\n",
    "    y_list.append(y)\n",
    "    \n",
    "plt.scatter(x_list, y_list, s=80, facecolors='none', edgecolors='r')"
   ]
  },
  {
   "cell_type": "code",
   "execution_count": null,
   "metadata": {},
   "outputs": [],
   "source": []
  },
  {
   "cell_type": "code",
   "execution_count": null,
   "metadata": {},
   "outputs": [],
   "source": []
  }
 ],
 "metadata": {
  "kernelspec": {
   "display_name": "Python 3",
   "language": "python",
   "name": "python3"
  },
  "language_info": {
   "codemirror_mode": {
    "name": "ipython",
    "version": 3
   },
   "file_extension": ".py",
   "mimetype": "text/x-python",
   "name": "python",
   "nbconvert_exporter": "python",
   "pygments_lexer": "ipython3",
   "version": "3.8.2"
  }
 },
 "nbformat": 4,
 "nbformat_minor": 4
}

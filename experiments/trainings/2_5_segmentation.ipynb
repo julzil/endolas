{
 "cells": [
  {
   "cell_type": "markdown",
   "metadata": {},
   "source": [
    "# 2.5) Supervised Segmentation\n",
    "A U-Net is trained here to perform a semantic segmentation of laser points in the LASTEN data set."
   ]
  },
  {
   "cell_type": "markdown",
   "metadata": {},
   "source": [
    "# Import statements\n",
    "Following packages are necessary:"
   ]
  },
  {
   "cell_type": "code",
   "execution_count": 1,
   "metadata": {},
   "outputs": [
    {
     "name": "stdout",
     "output_type": "stream",
     "text": [
      "Segmentation Models: using `tf.keras` framework.\n"
     ]
    }
   ],
   "source": [
    "import random\n",
    "import utils\n",
    "import ccall\n",
    "\n",
    "import tensorflow as tf\n",
    "import numpy as np\n",
    "import segmentation_models as sm\n",
    "\n",
    "from unet import UNet\n",
    "from unet import preprocess_input as pre_une\n",
    "from tensorflow.keras.models import Model\n",
    "from tensorflow.keras.layers import Dense, GlobalAveragePooling2D\n",
    "from tensorflow.keras.callbacks import CSVLogger, ModelCheckpoint\n",
    "from sklearn.model_selection import train_test_split\n",
    "from segmentation_models.losses import dice_loss\n",
    "from segmentation_models.metrics import iou_score\n",
    "from lastengen import LASTENSequence\n",
    "from matplotlib import pyplot as plt"
   ]
  },
  {
   "cell_type": "markdown",
   "metadata": {
    "pycharm": {
     "name": "#%% md\n"
    }
   },
   "source": [
    "# Checks\n",
    "The version of tensorflow as well as the GPU support are checked."
   ]
  },
  {
   "cell_type": "code",
   "execution_count": 2,
   "metadata": {
    "pycharm": {
     "name": "#%%\n"
    }
   },
   "outputs": [
    {
     "name": "stdout",
     "output_type": "stream",
     "text": [
      "2.2.0-rc3\n"
     ]
    },
    {
     "data": {
      "text/plain": [
       "[PhysicalDevice(name='/physical_device:GPU:0', device_type='GPU')]"
      ]
     },
     "execution_count": 2,
     "metadata": {},
     "output_type": "execute_result"
    }
   ],
   "source": [
    "print(tf.__version__)\n",
    "physical_devices = tf.config.list_physical_devices('GPU')\n",
    "tf.config.experimental.set_memory_growth(physical_devices[0], True)\n",
    "tf.config.experimental.list_physical_devices('GPU')"
   ]
  },
  {
   "cell_type": "markdown",
   "metadata": {
    "pycharm": {
     "name": "#%% md\n"
    }
   },
   "source": [
    "# Data\n",
    "Import training images"
   ]
  },
  {
   "cell_type": "code",
   "execution_count": 3,
   "metadata": {
    "pycharm": {
     "name": "#%%\n"
    }
   },
   "outputs": [],
   "source": [
    "#path_train = r'D:\\LASTEN2\\train'\n",
    "#path_validation = r'D:\\LASTEN2\\validation'\n",
    "#path_test = r'D:\\LASTEN2\\test'\n",
    "\n",
    "path_train = r'/home/julian/Documents/Studium/MT-Masterarbeit/Data/LASTEN2/train'\n",
    "path_validation = r'/home/julian/Documents/Studium/MT-Masterarbeit/Data/LASTEN2/validation'\n",
    "path_test = r'/home/julian/Documents/Studium/MT-Masterarbeit/Data/LASTEN2/test'\n",
    "\n",
    "width = 384 #768\n",
    "height = 384 #768"
   ]
  },
  {
   "cell_type": "markdown",
   "metadata": {
    "pycharm": {
     "name": "#%% md\n"
    }
   },
   "source": [
    "# Seeding\n",
    "Seeds are set to ensure reproducible training."
   ]
  },
  {
   "cell_type": "code",
   "execution_count": 4,
   "metadata": {
    "pycharm": {
     "name": "#%%\n"
    }
   },
   "outputs": [],
   "source": [
    "SEED = 42\n",
    "np.random.seed(SEED)\n",
    "tf.random.set_seed(SEED)\n",
    "random.seed(SEED)"
   ]
  },
  {
   "cell_type": "markdown",
   "metadata": {
    "pycharm": {
     "name": "#%% md\n"
    }
   },
   "source": [
    "# Network\n",
    "A U-Net based network is instantiated with keras to run a semantic segmentation."
   ]
  },
  {
   "cell_type": "code",
   "execution_count": 5,
   "metadata": {
    "pycharm": {
     "name": "#%%\n"
    }
   },
   "outputs": [
    {
     "name": "stdout",
     "output_type": "stream",
     "text": [
      "Model: \"model\"\n",
      "__________________________________________________________________________________________________\n",
      "Layer (type)                    Output Shape         Param #     Connected to                     \n",
      "==================================================================================================\n",
      "input_1 (InputLayer)            [(None, 384, 384, 1) 0                                            \n",
      "__________________________________________________________________________________________________\n",
      "conv2d (Conv2D)                 (None, 384, 384, 32) 288         input_1[0][0]                    \n",
      "__________________________________________________________________________________________________\n",
      "batch_normalization (BatchNorma (None, 384, 384, 32) 128         conv2d[0][0]                     \n",
      "__________________________________________________________________________________________________\n",
      "activation (Activation)         (None, 384, 384, 32) 0           batch_normalization[0][0]        \n",
      "__________________________________________________________________________________________________\n",
      "conv2d_1 (Conv2D)               (None, 384, 384, 32) 9216        activation[0][0]                 \n",
      "__________________________________________________________________________________________________\n",
      "batch_normalization_1 (BatchNor (None, 384, 384, 32) 128         conv2d_1[0][0]                   \n",
      "__________________________________________________________________________________________________\n",
      "activation_1 (Activation)       (None, 384, 384, 32) 0           batch_normalization_1[0][0]      \n",
      "__________________________________________________________________________________________________\n",
      "max_pooling2d (MaxPooling2D)    (None, 192, 192, 32) 0           activation_1[0][0]               \n",
      "__________________________________________________________________________________________________\n",
      "conv2d_2 (Conv2D)               (None, 192, 192, 64) 18432       max_pooling2d[0][0]              \n",
      "__________________________________________________________________________________________________\n",
      "batch_normalization_2 (BatchNor (None, 192, 192, 64) 256         conv2d_2[0][0]                   \n",
      "__________________________________________________________________________________________________\n",
      "activation_2 (Activation)       (None, 192, 192, 64) 0           batch_normalization_2[0][0]      \n",
      "__________________________________________________________________________________________________\n",
      "conv2d_3 (Conv2D)               (None, 192, 192, 64) 36864       activation_2[0][0]               \n",
      "__________________________________________________________________________________________________\n",
      "batch_normalization_3 (BatchNor (None, 192, 192, 64) 256         conv2d_3[0][0]                   \n",
      "__________________________________________________________________________________________________\n",
      "activation_3 (Activation)       (None, 192, 192, 64) 0           batch_normalization_3[0][0]      \n",
      "__________________________________________________________________________________________________\n",
      "max_pooling2d_1 (MaxPooling2D)  (None, 96, 96, 64)   0           activation_3[0][0]               \n",
      "__________________________________________________________________________________________________\n",
      "conv2d_4 (Conv2D)               (None, 96, 96, 128)  73728       max_pooling2d_1[0][0]            \n",
      "__________________________________________________________________________________________________\n",
      "batch_normalization_4 (BatchNor (None, 96, 96, 128)  512         conv2d_4[0][0]                   \n",
      "__________________________________________________________________________________________________\n",
      "activation_4 (Activation)       (None, 96, 96, 128)  0           batch_normalization_4[0][0]      \n",
      "__________________________________________________________________________________________________\n",
      "conv2d_5 (Conv2D)               (None, 96, 96, 128)  147456      activation_4[0][0]               \n",
      "__________________________________________________________________________________________________\n",
      "batch_normalization_5 (BatchNor (None, 96, 96, 128)  512         conv2d_5[0][0]                   \n",
      "__________________________________________________________________________________________________\n",
      "activation_5 (Activation)       (None, 96, 96, 128)  0           batch_normalization_5[0][0]      \n",
      "__________________________________________________________________________________________________\n",
      "max_pooling2d_2 (MaxPooling2D)  (None, 48, 48, 128)  0           activation_5[0][0]               \n",
      "__________________________________________________________________________________________________\n",
      "conv2d_6 (Conv2D)               (None, 48, 48, 256)  294912      max_pooling2d_2[0][0]            \n",
      "__________________________________________________________________________________________________\n",
      "batch_normalization_6 (BatchNor (None, 48, 48, 256)  1024        conv2d_6[0][0]                   \n",
      "__________________________________________________________________________________________________\n",
      "activation_6 (Activation)       (None, 48, 48, 256)  0           batch_normalization_6[0][0]      \n",
      "__________________________________________________________________________________________________\n",
      "conv2d_7 (Conv2D)               (None, 48, 48, 256)  589824      activation_6[0][0]               \n",
      "__________________________________________________________________________________________________\n",
      "batch_normalization_7 (BatchNor (None, 48, 48, 256)  1024        conv2d_7[0][0]                   \n",
      "__________________________________________________________________________________________________\n",
      "activation_7 (Activation)       (None, 48, 48, 256)  0           batch_normalization_7[0][0]      \n",
      "__________________________________________________________________________________________________\n",
      "max_pooling2d_3 (MaxPooling2D)  (None, 24, 24, 256)  0           activation_7[0][0]               \n",
      "__________________________________________________________________________________________________\n",
      "conv2d_8 (Conv2D)               (None, 24, 24, 512)  1179648     max_pooling2d_3[0][0]            \n",
      "__________________________________________________________________________________________________\n",
      "batch_normalization_8 (BatchNor (None, 24, 24, 512)  2048        conv2d_8[0][0]                   \n",
      "__________________________________________________________________________________________________\n",
      "activation_8 (Activation)       (None, 24, 24, 512)  0           batch_normalization_8[0][0]      \n",
      "__________________________________________________________________________________________________\n",
      "conv2d_9 (Conv2D)               (None, 24, 24, 256)  1179648     activation_8[0][0]               \n",
      "__________________________________________________________________________________________________\n",
      "batch_normalization_9 (BatchNor (None, 24, 24, 256)  1024        conv2d_9[0][0]                   \n",
      "__________________________________________________________________________________________________\n",
      "activation_9 (Activation)       (None, 24, 24, 256)  0           batch_normalization_9[0][0]      \n",
      "__________________________________________________________________________________________________\n",
      "up_sampling2d (UpSampling2D)    (None, 48, 48, 256)  0           activation_9[0][0]               \n",
      "__________________________________________________________________________________________________\n",
      "concatenate (Concatenate)       (None, 48, 48, 512)  0           up_sampling2d[0][0]              \n",
      "                                                                 activation_7[0][0]               \n",
      "__________________________________________________________________________________________________\n",
      "conv2d_10 (Conv2D)              (None, 48, 48, 256)  1179648     concatenate[0][0]                \n",
      "__________________________________________________________________________________________________\n",
      "batch_normalization_10 (BatchNo (None, 48, 48, 256)  1024        conv2d_10[0][0]                  \n",
      "__________________________________________________________________________________________________\n",
      "activation_10 (Activation)      (None, 48, 48, 256)  0           batch_normalization_10[0][0]     \n",
      "__________________________________________________________________________________________________\n",
      "conv2d_11 (Conv2D)              (None, 48, 48, 128)  294912      activation_10[0][0]              \n",
      "__________________________________________________________________________________________________\n",
      "batch_normalization_11 (BatchNo (None, 48, 48, 128)  512         conv2d_11[0][0]                  \n",
      "__________________________________________________________________________________________________\n",
      "activation_11 (Activation)      (None, 48, 48, 128)  0           batch_normalization_11[0][0]     \n",
      "__________________________________________________________________________________________________\n",
      "up_sampling2d_1 (UpSampling2D)  (None, 96, 96, 128)  0           activation_11[0][0]              \n",
      "__________________________________________________________________________________________________\n",
      "concatenate_1 (Concatenate)     (None, 96, 96, 256)  0           up_sampling2d_1[0][0]            \n",
      "                                                                 activation_5[0][0]               \n",
      "__________________________________________________________________________________________________\n",
      "conv2d_12 (Conv2D)              (None, 96, 96, 128)  294912      concatenate_1[0][0]              \n",
      "__________________________________________________________________________________________________\n",
      "batch_normalization_12 (BatchNo (None, 96, 96, 128)  512         conv2d_12[0][0]                  \n",
      "__________________________________________________________________________________________________\n",
      "activation_12 (Activation)      (None, 96, 96, 128)  0           batch_normalization_12[0][0]     \n",
      "__________________________________________________________________________________________________\n",
      "conv2d_13 (Conv2D)              (None, 96, 96, 64)   73728       activation_12[0][0]              \n",
      "__________________________________________________________________________________________________\n",
      "batch_normalization_13 (BatchNo (None, 96, 96, 64)   256         conv2d_13[0][0]                  \n",
      "__________________________________________________________________________________________________\n",
      "activation_13 (Activation)      (None, 96, 96, 64)   0           batch_normalization_13[0][0]     \n",
      "__________________________________________________________________________________________________\n",
      "up_sampling2d_2 (UpSampling2D)  (None, 192, 192, 64) 0           activation_13[0][0]              \n",
      "__________________________________________________________________________________________________\n",
      "concatenate_2 (Concatenate)     (None, 192, 192, 128 0           up_sampling2d_2[0][0]            \n",
      "                                                                 activation_3[0][0]               \n",
      "__________________________________________________________________________________________________\n",
      "conv2d_14 (Conv2D)              (None, 192, 192, 64) 73728       concatenate_2[0][0]              \n",
      "__________________________________________________________________________________________________\n",
      "batch_normalization_14 (BatchNo (None, 192, 192, 64) 256         conv2d_14[0][0]                  \n",
      "__________________________________________________________________________________________________\n",
      "activation_14 (Activation)      (None, 192, 192, 64) 0           batch_normalization_14[0][0]     \n",
      "__________________________________________________________________________________________________\n",
      "conv2d_15 (Conv2D)              (None, 192, 192, 32) 18432       activation_14[0][0]              \n",
      "__________________________________________________________________________________________________\n",
      "batch_normalization_15 (BatchNo (None, 192, 192, 32) 128         conv2d_15[0][0]                  \n",
      "__________________________________________________________________________________________________\n",
      "activation_15 (Activation)      (None, 192, 192, 32) 0           batch_normalization_15[0][0]     \n",
      "__________________________________________________________________________________________________\n",
      "up_sampling2d_3 (UpSampling2D)  (None, 384, 384, 32) 0           activation_15[0][0]              \n",
      "__________________________________________________________________________________________________\n",
      "concatenate_3 (Concatenate)     (None, 384, 384, 64) 0           up_sampling2d_3[0][0]            \n",
      "                                                                 activation_1[0][0]               \n",
      "__________________________________________________________________________________________________\n",
      "conv2d_16 (Conv2D)              (None, 384, 384, 32) 18432       concatenate_3[0][0]              \n",
      "__________________________________________________________________________________________________\n",
      "batch_normalization_16 (BatchNo (None, 384, 384, 32) 128         conv2d_16[0][0]                  \n",
      "__________________________________________________________________________________________________\n",
      "activation_16 (Activation)      (None, 384, 384, 32) 0           batch_normalization_16[0][0]     \n",
      "__________________________________________________________________________________________________\n",
      "conv2d_17 (Conv2D)              (None, 384, 384, 32) 9216        activation_16[0][0]              \n",
      "__________________________________________________________________________________________________\n",
      "batch_normalization_17 (BatchNo (None, 384, 384, 32) 128         conv2d_17[0][0]                  \n",
      "__________________________________________________________________________________________________\n",
      "activation_17 (Activation)      (None, 384, 384, 32) 0           batch_normalization_17[0][0]     \n",
      "__________________________________________________________________________________________________\n",
      "conv2d_18 (Conv2D)              (None, 384, 384, 1)  32          activation_17[0][0]              \n",
      "==================================================================================================\n",
      "Total params: 5,502,912\n",
      "Trainable params: 5,497,984\n",
      "Non-trainable params: 4,928\n",
      "__________________________________________________________________________________________________\n"
     ]
    }
   ],
   "source": [
    "model = UNet(filters=32, input_shape=(height, width, 1))\n",
    "model.summary()"
   ]
  },
  {
   "cell_type": "markdown",
   "metadata": {
    "pycharm": {
     "name": "#%% md\n"
    }
   },
   "source": [
    "# Data Preparation\n",
    "The generator sequence for training is built."
   ]
  },
  {
   "cell_type": "code",
   "execution_count": 6,
   "metadata": {
    "pycharm": {
     "name": "#%%\n"
    }
   },
   "outputs": [],
   "source": [
    "train_gen = LASTENSequence(path_train,\n",
    "                           batch_size=1,\n",
    "                           preprocess_input=pre_une,\n",
    "                           shuffle=True,\n",
    "                           augment=True,\n",
    "                           width=width,\n",
    "                           height=height)\n",
    "\n",
    "validation_gen = LASTENSequence(path_validation,\n",
    "                                batch_size=1,\n",
    "                                preprocess_input=pre_une,\n",
    "                                width=width,\n",
    "                                height=height)\n",
    "\n",
    "#test_gen = LASTENSequence(path_train,\n",
    "#                          batch_size=8,\n",
    "#                          preprocess_input=pre_une,\n",
    "#                          width=width,\n",
    "#                          height=height)"
   ]
  },
  {
   "cell_type": "markdown",
   "metadata": {
    "pycharm": {
     "name": "#%% md\n"
    }
   },
   "source": [
    "# Training Preparation\n",
    "Prepare the settings for training the model."
   ]
  },
  {
   "cell_type": "code",
   "execution_count": 7,
   "metadata": {
    "pycharm": {
     "name": "#%%\n"
    }
   },
   "outputs": [
    {
     "name": "stdout",
     "output_type": "stream",
     "text": [
      "WARNING:tensorflow:`period` argument is deprecated. Please use `save_freq` to specify the frequency in number of batches seen.\n"
     ]
    }
   ],
   "source": [
    "save_path = \"experiments/2_5_segmentation\"\n",
    "\n",
    "logger = CSVLogger(save_path + \"/log\")\n",
    "checker = ModelCheckpoint(save_path + \"/weights.{epoch:02d}.hdf5\", period=10)\n",
    "checker_best = ModelCheckpoint(save_path + \"/best_weights.hdf5\", save_best_only=True)\n",
    "timelogger = ccall.TimeHistory(save_path)\n",
    "\n",
    "callbacks = [logger, checker, checker_best, timelogger]\n",
    "\n",
    "model.compile(optimizer='adam',\n",
    "              loss = dice_loss,\n",
    "              metrics = ['accuracy', iou_score])"
   ]
  },
  {
   "cell_type": "markdown",
   "metadata": {
    "pycharm": {
     "name": "#%% md\n"
    }
   },
   "source": [
    "# Training\n",
    "The model is fitted with a generator."
   ]
  },
  {
   "cell_type": "code",
   "execution_count": 8,
   "metadata": {
    "pycharm": {
     "name": "#%%\n"
    },
    "scrolled": false
   },
   "outputs": [
    {
     "name": "stdout",
     "output_type": "stream",
     "text": [
      "Epoch 1/100\n",
      "160/160 [==============================] - 49s 309ms/step - loss: 0.7186 - accuracy: 0.9340 - iou_score: 0.1720 - val_loss: 0.7752 - val_accuracy: 0.9609 - val_iou_score: 0.1284\n",
      "Epoch 2/100\n",
      "160/160 [==============================] - 49s 305ms/step - loss: 0.3620 - accuracy: 0.9886 - iou_score: 0.4709 - val_loss: 0.3135 - val_accuracy: 0.9641 - val_iou_score: 0.5228\n",
      "Epoch 3/100\n",
      "160/160 [==============================] - 49s 306ms/step - loss: 0.3134 - accuracy: 0.9894 - iou_score: 0.5247 - val_loss: 0.2814 - val_accuracy: 0.9641 - val_iou_score: 0.5609\n",
      "Epoch 4/100\n",
      "160/160 [==============================] - 48s 303ms/step - loss: 0.3023 - accuracy: 0.9896 - iou_score: 0.5373 - val_loss: 0.3282 - val_accuracy: 0.9638 - val_iou_score: 0.5060\n",
      "Epoch 5/100\n",
      "160/160 [==============================] - 48s 303ms/step - loss: 0.3012 - accuracy: 0.9896 - iou_score: 0.5391 - val_loss: 0.2820 - val_accuracy: 0.9640 - val_iou_score: 0.5604\n",
      "Epoch 6/100\n",
      "160/160 [==============================] - 49s 305ms/step - loss: 0.2920 - accuracy: 0.9899 - iou_score: 0.5497 - val_loss: 0.2810 - val_accuracy: 0.9643 - val_iou_score: 0.5614\n",
      "Epoch 7/100\n",
      "160/160 [==============================] - 48s 303ms/step - loss: 0.2913 - accuracy: 0.9899 - iou_score: 0.5505 - val_loss: 0.2921 - val_accuracy: 0.9638 - val_iou_score: 0.5482\n",
      "Epoch 8/100\n",
      "160/160 [==============================] - 48s 303ms/step - loss: 0.2950 - accuracy: 0.9897 - iou_score: 0.5460 - val_loss: 0.2846 - val_accuracy: 0.9641 - val_iou_score: 0.5571\n",
      "Epoch 9/100\n",
      "160/160 [==============================] - 49s 305ms/step - loss: 0.2890 - accuracy: 0.9899 - iou_score: 0.5532 - val_loss: 0.2755 - val_accuracy: 0.9643 - val_iou_score: 0.5682\n",
      "Epoch 10/100\n",
      "160/160 [==============================] - 50s 310ms/step - loss: 0.2868 - accuracy: 0.9900 - iou_score: 0.5562 - val_loss: 0.2766 - val_accuracy: 0.9642 - val_iou_score: 0.5671\n",
      "Epoch 11/100\n",
      "160/160 [==============================] - 51s 321ms/step - loss: 0.2861 - accuracy: 0.9901 - iou_score: 0.5565 - val_loss: 0.2907 - val_accuracy: 0.9641 - val_iou_score: 0.5496\n",
      "Epoch 12/100\n",
      "160/160 [==============================] - 52s 325ms/step - loss: 0.2854 - accuracy: 0.9901 - iou_score: 0.5578 - val_loss: 0.2815 - val_accuracy: 0.9641 - val_iou_score: 0.5608\n",
      "Epoch 13/100\n",
      "160/160 [==============================] - 51s 317ms/step - loss: 0.2878 - accuracy: 0.9899 - iou_score: 0.5544 - val_loss: 0.2653 - val_accuracy: 0.9643 - val_iou_score: 0.5808\n",
      "Epoch 14/100\n",
      "160/160 [==============================] - 51s 321ms/step - loss: 0.2852 - accuracy: 0.9900 - iou_score: 0.5580 - val_loss: 0.2861 - val_accuracy: 0.9642 - val_iou_score: 0.5551\n",
      "Epoch 15/100\n",
      "160/160 [==============================] - 51s 318ms/step - loss: 0.2831 - accuracy: 0.9901 - iou_score: 0.5607 - val_loss: 0.2743 - val_accuracy: 0.9643 - val_iou_score: 0.5697\n",
      "Epoch 16/100\n",
      "160/160 [==============================] - 52s 325ms/step - loss: 0.2820 - accuracy: 0.9902 - iou_score: 0.5616 - val_loss: 0.2660 - val_accuracy: 0.9644 - val_iou_score: 0.5800\n",
      "Epoch 17/100\n",
      "160/160 [==============================] - 51s 321ms/step - loss: 0.2793 - accuracy: 0.9903 - iou_score: 0.5652 - val_loss: 0.2641 - val_accuracy: 0.9644 - val_iou_score: 0.5822\n",
      "Epoch 18/100\n",
      "160/160 [==============================] - 51s 316ms/step - loss: 0.2833 - accuracy: 0.9901 - iou_score: 0.5603 - val_loss: 0.2649 - val_accuracy: 0.9644 - val_iou_score: 0.5814\n",
      "Epoch 19/100\n",
      "160/160 [==============================] - 51s 319ms/step - loss: 0.2822 - accuracy: 0.9901 - iou_score: 0.5617 - val_loss: 0.2630 - val_accuracy: 0.9643 - val_iou_score: 0.5837\n",
      "Epoch 20/100\n",
      "160/160 [==============================] - 51s 319ms/step - loss: 0.2797 - accuracy: 0.9902 - iou_score: 0.5644 - val_loss: 0.2611 - val_accuracy: 0.9644 - val_iou_score: 0.5861\n",
      "Epoch 21/100\n",
      "160/160 [==============================] - 51s 319ms/step - loss: 0.2811 - accuracy: 0.9902 - iou_score: 0.5628 - val_loss: 0.2578 - val_accuracy: 0.9644 - val_iou_score: 0.5902\n",
      "Epoch 22/100\n",
      "160/160 [==============================] - 51s 317ms/step - loss: 0.2830 - accuracy: 0.9901 - iou_score: 0.5610 - val_loss: 0.2617 - val_accuracy: 0.9643 - val_iou_score: 0.5854\n",
      "Epoch 23/100\n",
      "160/160 [==============================] - 50s 313ms/step - loss: 0.2808 - accuracy: 0.9902 - iou_score: 0.5632 - val_loss: 0.2744 - val_accuracy: 0.9643 - val_iou_score: 0.5698\n",
      "Epoch 24/100\n",
      "160/160 [==============================] - 50s 312ms/step - loss: 0.2790 - accuracy: 0.9903 - iou_score: 0.5656 - val_loss: 0.2647 - val_accuracy: 0.9643 - val_iou_score: 0.5817\n",
      "Epoch 25/100\n",
      "160/160 [==============================] - 49s 304ms/step - loss: 0.2730 - accuracy: 0.9905 - iou_score: 0.5726 - val_loss: 0.2623 - val_accuracy: 0.9644 - val_iou_score: 0.5845\n",
      "Epoch 26/100\n",
      "160/160 [==============================] - 50s 310ms/step - loss: 0.2776 - accuracy: 0.9903 - iou_score: 0.5675 - val_loss: 0.2603 - val_accuracy: 0.9645 - val_iou_score: 0.5870\n",
      "Epoch 27/100\n",
      "160/160 [==============================] - 51s 320ms/step - loss: 0.2737 - accuracy: 0.9905 - iou_score: 0.5719 - val_loss: 0.2508 - val_accuracy: 0.9644 - val_iou_score: 0.5990\n",
      "Epoch 28/100\n",
      "160/160 [==============================] - 49s 306ms/step - loss: 0.2783 - accuracy: 0.9903 - iou_score: 0.5663 - val_loss: 0.2698 - val_accuracy: 0.9643 - val_iou_score: 0.5752\n",
      "Epoch 29/100\n",
      "160/160 [==============================] - 49s 303ms/step - loss: 0.2755 - accuracy: 0.9903 - iou_score: 0.5693 - val_loss: 0.2567 - val_accuracy: 0.9644 - val_iou_score: 0.5916\n",
      "Epoch 30/100\n",
      "160/160 [==============================] - 49s 305ms/step - loss: 0.2773 - accuracy: 0.9903 - iou_score: 0.5679 - val_loss: 0.2608 - val_accuracy: 0.9644 - val_iou_score: 0.5865\n",
      "Epoch 31/100\n",
      "160/160 [==============================] - 49s 308ms/step - loss: 0.2740 - accuracy: 0.9904 - iou_score: 0.5717 - val_loss: 0.2543 - val_accuracy: 0.9644 - val_iou_score: 0.5946\n",
      "Epoch 32/100\n",
      "160/160 [==============================] - 51s 316ms/step - loss: 0.2719 - accuracy: 0.9905 - iou_score: 0.5741 - val_loss: 0.2562 - val_accuracy: 0.9643 - val_iou_score: 0.5924\n",
      "Epoch 33/100\n",
      "160/160 [==============================] - 51s 321ms/step - loss: 0.2726 - accuracy: 0.9905 - iou_score: 0.5731 - val_loss: 0.2540 - val_accuracy: 0.9645 - val_iou_score: 0.5950\n",
      "Epoch 34/100\n",
      "160/160 [==============================] - 52s 325ms/step - loss: 0.2753 - accuracy: 0.9904 - iou_score: 0.5699 - val_loss: 0.2501 - val_accuracy: 0.9644 - val_iou_score: 0.6000\n",
      "Epoch 35/100\n",
      "160/160 [==============================] - 52s 322ms/step - loss: 0.2697 - accuracy: 0.9906 - iou_score: 0.5769 - val_loss: 0.2537 - val_accuracy: 0.9644 - val_iou_score: 0.5955\n",
      "Epoch 36/100\n",
      "160/160 [==============================] - 52s 324ms/step - loss: 0.2698 - accuracy: 0.9906 - iou_score: 0.5767 - val_loss: 0.2480 - val_accuracy: 0.9645 - val_iou_score: 0.6028\n",
      "Epoch 37/100\n",
      "160/160 [==============================] - 51s 317ms/step - loss: 0.2713 - accuracy: 0.9905 - iou_score: 0.5749 - val_loss: 0.2669 - val_accuracy: 0.9642 - val_iou_score: 0.5788\n",
      "Epoch 38/100\n",
      "160/160 [==============================] - 49s 306ms/step - loss: 0.2725 - accuracy: 0.9905 - iou_score: 0.5734 - val_loss: 0.2557 - val_accuracy: 0.9645 - val_iou_score: 0.5929\n",
      "Epoch 39/100\n",
      "160/160 [==============================] - 49s 306ms/step - loss: 0.2712 - accuracy: 0.9905 - iou_score: 0.5751 - val_loss: 0.2577 - val_accuracy: 0.9644 - val_iou_score: 0.5903\n",
      "Epoch 40/100\n",
      "160/160 [==============================] - 49s 308ms/step - loss: 0.2709 - accuracy: 0.9906 - iou_score: 0.5751 - val_loss: 0.2521 - val_accuracy: 0.9644 - val_iou_score: 0.5975\n",
      "Epoch 41/100\n",
      "160/160 [==============================] - 49s 306ms/step - loss: 0.2659 - accuracy: 0.9907 - iou_score: 0.5812 - val_loss: 0.2595 - val_accuracy: 0.9644 - val_iou_score: 0.5881\n",
      "Epoch 42/100\n",
      "160/160 [==============================] - 49s 309ms/step - loss: 0.2721 - accuracy: 0.9905 - iou_score: 0.5740 - val_loss: 0.2465 - val_accuracy: 0.9644 - val_iou_score: 0.6045\n",
      "Epoch 43/100\n",
      "160/160 [==============================] - 49s 305ms/step - loss: 0.2705 - accuracy: 0.9905 - iou_score: 0.5757 - val_loss: 0.2478 - val_accuracy: 0.9644 - val_iou_score: 0.6029\n"
     ]
    },
    {
     "name": "stdout",
     "output_type": "stream",
     "text": [
      "Epoch 44/100\n",
      "160/160 [==============================] - 49s 305ms/step - loss: 0.2663 - accuracy: 0.9907 - iou_score: 0.5813 - val_loss: 0.2543 - val_accuracy: 0.9644 - val_iou_score: 0.5948\n",
      "Epoch 45/100\n",
      "160/160 [==============================] - 49s 306ms/step - loss: 0.2670 - accuracy: 0.9907 - iou_score: 0.5803 - val_loss: 0.2521 - val_accuracy: 0.9644 - val_iou_score: 0.5975\n",
      "Epoch 46/100\n",
      "160/160 [==============================] - 49s 306ms/step - loss: 0.2674 - accuracy: 0.9907 - iou_score: 0.5800 - val_loss: 0.2613 - val_accuracy: 0.9644 - val_iou_score: 0.5858\n",
      "Epoch 47/100\n",
      "160/160 [==============================] - 49s 305ms/step - loss: 0.2710 - accuracy: 0.9906 - iou_score: 0.5751 - val_loss: 0.2636 - val_accuracy: 0.9644 - val_iou_score: 0.5828\n",
      "Epoch 48/100\n",
      "160/160 [==============================] - 49s 306ms/step - loss: 0.2719 - accuracy: 0.9905 - iou_score: 0.5743 - val_loss: 0.2578 - val_accuracy: 0.9643 - val_iou_score: 0.5903\n",
      "Epoch 49/100\n",
      "160/160 [==============================] - 49s 306ms/step - loss: 0.2683 - accuracy: 0.9906 - iou_score: 0.5786 - val_loss: 0.2529 - val_accuracy: 0.9644 - val_iou_score: 0.5965\n",
      "Epoch 50/100\n",
      "160/160 [==============================] - 49s 308ms/step - loss: 0.2648 - accuracy: 0.9908 - iou_score: 0.5831 - val_loss: 0.2489 - val_accuracy: 0.9644 - val_iou_score: 0.6016\n",
      "Epoch 51/100\n",
      "160/160 [==============================] - 49s 305ms/step - loss: 0.2706 - accuracy: 0.9905 - iou_score: 0.5760 - val_loss: 0.2492 - val_accuracy: 0.9645 - val_iou_score: 0.6012\n",
      "Epoch 52/100\n",
      "160/160 [==============================] - 49s 306ms/step - loss: 0.2692 - accuracy: 0.9906 - iou_score: 0.5775 - val_loss: 0.2563 - val_accuracy: 0.9644 - val_iou_score: 0.5921\n",
      "Epoch 53/100\n",
      "160/160 [==============================] - 49s 306ms/step - loss: 0.2607 - accuracy: 0.9909 - iou_score: 0.5878 - val_loss: 0.2546 - val_accuracy: 0.9644 - val_iou_score: 0.5942\n",
      "Epoch 54/100\n",
      "160/160 [==============================] - 49s 306ms/step - loss: 0.2706 - accuracy: 0.9906 - iou_score: 0.5759 - val_loss: 0.2491 - val_accuracy: 0.9644 - val_iou_score: 0.6014\n",
      "Epoch 55/100\n",
      "160/160 [==============================] - 49s 305ms/step - loss: 0.2687 - accuracy: 0.9906 - iou_score: 0.5778 - val_loss: 0.2485 - val_accuracy: 0.9645 - val_iou_score: 0.6021\n",
      "Epoch 56/100\n",
      "160/160 [==============================] - 49s 308ms/step - loss: 0.2652 - accuracy: 0.9907 - iou_score: 0.5823 - val_loss: 0.2560 - val_accuracy: 0.9645 - val_iou_score: 0.5924\n",
      "Epoch 57/100\n",
      "160/160 [==============================] - 49s 304ms/step - loss: 0.2713 - accuracy: 0.9905 - iou_score: 0.5748 - val_loss: 0.2475 - val_accuracy: 0.9643 - val_iou_score: 0.6034\n",
      "Epoch 58/100\n",
      "160/160 [==============================] - 49s 306ms/step - loss: 0.2712 - accuracy: 0.9906 - iou_score: 0.5754 - val_loss: 0.2465 - val_accuracy: 0.9644 - val_iou_score: 0.6047\n",
      "Epoch 59/100\n",
      "160/160 [==============================] - 49s 304ms/step - loss: 0.2674 - accuracy: 0.9907 - iou_score: 0.5796 - val_loss: 0.2536 - val_accuracy: 0.9644 - val_iou_score: 0.5956\n",
      "Epoch 60/100\n",
      "160/160 [==============================] - 49s 306ms/step - loss: 0.2717 - accuracy: 0.9905 - iou_score: 0.5745 - val_loss: 0.2547 - val_accuracy: 0.9644 - val_iou_score: 0.5941\n",
      "Epoch 61/100\n",
      "160/160 [==============================] - 49s 304ms/step - loss: 0.2723 - accuracy: 0.9904 - iou_score: 0.5733 - val_loss: 0.2562 - val_accuracy: 0.9644 - val_iou_score: 0.5922\n",
      "Epoch 62/100\n",
      "160/160 [==============================] - 49s 303ms/step - loss: 0.2691 - accuracy: 0.9906 - iou_score: 0.5781 - val_loss: 0.2524 - val_accuracy: 0.9644 - val_iou_score: 0.5971\n",
      "Epoch 63/100\n",
      "160/160 [==============================] - 49s 304ms/step - loss: 0.2682 - accuracy: 0.9906 - iou_score: 0.5791 - val_loss: 0.2477 - val_accuracy: 0.9644 - val_iou_score: 0.6031\n",
      "Epoch 64/100\n",
      "160/160 [==============================] - 49s 304ms/step - loss: 0.2680 - accuracy: 0.9907 - iou_score: 0.5789 - val_loss: 0.2596 - val_accuracy: 0.9644 - val_iou_score: 0.5879\n",
      "Epoch 65/100\n",
      "160/160 [==============================] - 49s 304ms/step - loss: 0.2630 - accuracy: 0.9909 - iou_score: 0.5857 - val_loss: 0.2508 - val_accuracy: 0.9644 - val_iou_score: 0.5992\n",
      "Epoch 66/100\n",
      "160/160 [==============================] - 49s 304ms/step - loss: 0.2647 - accuracy: 0.9907 - iou_score: 0.5832 - val_loss: 0.2511 - val_accuracy: 0.9645 - val_iou_score: 0.5988\n",
      "Epoch 67/100\n",
      "160/160 [==============================] - 49s 304ms/step - loss: 0.2625 - accuracy: 0.9908 - iou_score: 0.5858 - val_loss: 0.2515 - val_accuracy: 0.9645 - val_iou_score: 0.5982\n",
      "Epoch 68/100\n",
      "160/160 [==============================] - 49s 304ms/step - loss: 0.2645 - accuracy: 0.9908 - iou_score: 0.5834 - val_loss: 0.2514 - val_accuracy: 0.9645 - val_iou_score: 0.5983\n",
      "Epoch 69/100\n",
      "160/160 [==============================] - 49s 304ms/step - loss: 0.2604 - accuracy: 0.9909 - iou_score: 0.5883 - val_loss: 0.2581 - val_accuracy: 0.9644 - val_iou_score: 0.5900\n",
      "Epoch 70/100\n",
      "160/160 [==============================] - 49s 306ms/step - loss: 0.2690 - accuracy: 0.9906 - iou_score: 0.5776 - val_loss: 0.2504 - val_accuracy: 0.9644 - val_iou_score: 0.5997\n",
      "Epoch 71/100\n",
      "160/160 [==============================] - 49s 304ms/step - loss: 0.2692 - accuracy: 0.9905 - iou_score: 0.5774 - val_loss: 0.2499 - val_accuracy: 0.9644 - val_iou_score: 0.6002\n",
      "Epoch 72/100\n",
      "160/160 [==============================] - 49s 304ms/step - loss: 0.2741 - accuracy: 0.9904 - iou_score: 0.5713 - val_loss: 0.2532 - val_accuracy: 0.9644 - val_iou_score: 0.5962\n",
      "Epoch 73/100\n",
      "160/160 [==============================] - 49s 304ms/step - loss: 0.2686 - accuracy: 0.9906 - iou_score: 0.5783 - val_loss: 0.2567 - val_accuracy: 0.9644 - val_iou_score: 0.5916\n",
      "Epoch 74/100\n",
      "160/160 [==============================] - 49s 304ms/step - loss: 0.2663 - accuracy: 0.9907 - iou_score: 0.5809 - val_loss: 0.2520 - val_accuracy: 0.9644 - val_iou_score: 0.5977\n",
      "Epoch 75/100\n",
      "160/160 [==============================] - 49s 304ms/step - loss: 0.2646 - accuracy: 0.9908 - iou_score: 0.5831 - val_loss: 0.2503 - val_accuracy: 0.9644 - val_iou_score: 0.5998\n",
      "Epoch 76/100\n",
      "160/160 [==============================] - 49s 305ms/step - loss: 0.2636 - accuracy: 0.9908 - iou_score: 0.5845 - val_loss: 0.2558 - val_accuracy: 0.9645 - val_iou_score: 0.5926\n",
      "Epoch 77/100\n",
      "160/160 [==============================] - 49s 305ms/step - loss: 0.2665 - accuracy: 0.9907 - iou_score: 0.5811 - val_loss: 0.2523 - val_accuracy: 0.9644 - val_iou_score: 0.5973\n",
      "Epoch 78/100\n",
      "160/160 [==============================] - 49s 304ms/step - loss: 0.2703 - accuracy: 0.9905 - iou_score: 0.5760 - val_loss: 0.2496 - val_accuracy: 0.9645 - val_iou_score: 0.6006\n",
      "Epoch 79/100\n",
      "160/160 [==============================] - 49s 307ms/step - loss: 0.2673 - accuracy: 0.9907 - iou_score: 0.5797 - val_loss: 0.2439 - val_accuracy: 0.9644 - val_iou_score: 0.6080\n",
      "Epoch 80/100\n",
      "160/160 [==============================] - 49s 307ms/step - loss: 0.2662 - accuracy: 0.9907 - iou_score: 0.5814 - val_loss: 0.2494 - val_accuracy: 0.9645 - val_iou_score: 0.6010\n",
      "Epoch 81/100\n",
      "160/160 [==============================] - 49s 308ms/step - loss: 0.2645 - accuracy: 0.9907 - iou_score: 0.5831 - val_loss: 0.2465 - val_accuracy: 0.9645 - val_iou_score: 0.6047\n",
      "Epoch 82/100\n",
      "160/160 [==============================] - 49s 305ms/step - loss: 0.2643 - accuracy: 0.9908 - iou_score: 0.5834 - val_loss: 0.2507 - val_accuracy: 0.9644 - val_iou_score: 0.5993\n",
      "Epoch 83/100\n",
      "160/160 [==============================] - 49s 304ms/step - loss: 0.2637 - accuracy: 0.9908 - iou_score: 0.5842 - val_loss: 0.2535 - val_accuracy: 0.9644 - val_iou_score: 0.5958\n",
      "Epoch 84/100\n",
      "160/160 [==============================] - 49s 304ms/step - loss: 0.2610 - accuracy: 0.9909 - iou_score: 0.5875 - val_loss: 0.2519 - val_accuracy: 0.9644 - val_iou_score: 0.5976\n",
      "Epoch 85/100\n",
      "160/160 [==============================] - 49s 305ms/step - loss: 0.2601 - accuracy: 0.9909 - iou_score: 0.5888 - val_loss: 0.2594 - val_accuracy: 0.9644 - val_iou_score: 0.5882\n",
      "Epoch 86/100\n",
      "160/160 [==============================] - 49s 304ms/step - loss: 0.2665 - accuracy: 0.9907 - iou_score: 0.5808 - val_loss: 0.2548 - val_accuracy: 0.9644 - val_iou_score: 0.5941\n"
     ]
    },
    {
     "name": "stdout",
     "output_type": "stream",
     "text": [
      "Epoch 87/100\n",
      "160/160 [==============================] - 49s 305ms/step - loss: 0.2623 - accuracy: 0.9909 - iou_score: 0.5861 - val_loss: 0.2497 - val_accuracy: 0.9644 - val_iou_score: 0.6006\n",
      "Epoch 88/100\n",
      "160/160 [==============================] - 49s 305ms/step - loss: 0.2613 - accuracy: 0.9909 - iou_score: 0.5872 - val_loss: 0.2529 - val_accuracy: 0.9645 - val_iou_score: 0.5965\n",
      "Epoch 89/100\n",
      "160/160 [==============================] - 49s 304ms/step - loss: 0.2606 - accuracy: 0.9910 - iou_score: 0.5881 - val_loss: 0.2527 - val_accuracy: 0.9645 - val_iou_score: 0.5967\n",
      "Epoch 90/100\n",
      "160/160 [==============================] - 49s 306ms/step - loss: 0.2593 - accuracy: 0.9910 - iou_score: 0.5899 - val_loss: 0.2491 - val_accuracy: 0.9644 - val_iou_score: 0.6013\n",
      "Epoch 91/100\n",
      "160/160 [==============================] - 49s 304ms/step - loss: 0.2650 - accuracy: 0.9908 - iou_score: 0.5825 - val_loss: 0.2505 - val_accuracy: 0.9645 - val_iou_score: 0.5994\n",
      "Epoch 92/100\n",
      "160/160 [==============================] - 49s 304ms/step - loss: 0.2618 - accuracy: 0.9908 - iou_score: 0.5869 - val_loss: 0.2496 - val_accuracy: 0.9645 - val_iou_score: 0.6007\n",
      "Epoch 93/100\n",
      "160/160 [==============================] - 49s 304ms/step - loss: 0.2673 - accuracy: 0.9906 - iou_score: 0.5801 - val_loss: 0.2546 - val_accuracy: 0.9644 - val_iou_score: 0.5944\n",
      "Epoch 94/100\n",
      "160/160 [==============================] - 49s 305ms/step - loss: 0.2640 - accuracy: 0.9908 - iou_score: 0.5840 - val_loss: 0.2505 - val_accuracy: 0.9644 - val_iou_score: 0.5995\n",
      "Epoch 95/100\n",
      "160/160 [==============================] - 49s 304ms/step - loss: 0.2607 - accuracy: 0.9909 - iou_score: 0.5879 - val_loss: 0.2545 - val_accuracy: 0.9644 - val_iou_score: 0.5945\n",
      "Epoch 96/100\n",
      "160/160 [==============================] - 49s 304ms/step - loss: 0.2619 - accuracy: 0.9909 - iou_score: 0.5867 - val_loss: 0.2606 - val_accuracy: 0.9644 - val_iou_score: 0.5866\n",
      "Epoch 97/100\n",
      "160/160 [==============================] - 49s 304ms/step - loss: 0.2580 - accuracy: 0.9910 - iou_score: 0.5914 - val_loss: 0.2507 - val_accuracy: 0.9645 - val_iou_score: 0.5992\n",
      "Epoch 98/100\n",
      "160/160 [==============================] - 49s 305ms/step - loss: 0.2676 - accuracy: 0.9907 - iou_score: 0.5794 - val_loss: 0.2546 - val_accuracy: 0.9644 - val_iou_score: 0.5943\n",
      "Epoch 99/100\n",
      "160/160 [==============================] - 49s 304ms/step - loss: 0.2651 - accuracy: 0.9907 - iou_score: 0.5826 - val_loss: 0.2521 - val_accuracy: 0.9644 - val_iou_score: 0.5975\n",
      "Epoch 100/100\n",
      "160/160 [==============================] - 49s 306ms/step - loss: 0.2635 - accuracy: 0.9908 - iou_score: 0.5844 - val_loss: 0.2508 - val_accuracy: 0.9645 - val_iou_score: 0.5992\n"
     ]
    },
    {
     "data": {
      "text/plain": [
       "<tensorflow.python.keras.callbacks.History at 0x7f2270275d00>"
      ]
     },
     "execution_count": 8,
     "metadata": {},
     "output_type": "execute_result"
    }
   ],
   "source": [
    "model.fit(train_gen,\n",
    "                    epochs=100,\n",
    "                    callbacks=callbacks,\n",
    "                    validation_data=validation_gen,\n",
    "                    validation_freq=1,\n",
    "                    #use_multiprocessing=True,\n",
    "                    workers=10,\n",
    "                    max_queue_size=32)"
   ]
  },
  {
   "cell_type": "markdown",
   "metadata": {},
   "source": [
    "# Evaluation"
   ]
  },
  {
   "cell_type": "code",
   "execution_count": 9,
   "metadata": {},
   "outputs": [],
   "source": [
    "X, y = validation_gen[0]\n",
    "y_pred = model.predict(X)\n",
    "\n",
    "plt.imsave(save_path + \"/y.png\",y[0,:,:,0], cmap=\"gray\")\n",
    "plt.imsave(save_path + \"/y_pred.png\",y_pred[0,:,:,0], cmap=\"gray\")"
   ]
  },
  {
   "cell_type": "code",
   "execution_count": 10,
   "metadata": {},
   "outputs": [],
   "source": [
    "test_gen = LASTENSequence(path_train,\n",
    "                          batch_size=1,\n",
    "                          preprocess_input=pre_une,\n",
    "                          width=width,\n",
    "                          height=height)"
   ]
  },
  {
   "cell_type": "code",
   "execution_count": 11,
   "metadata": {},
   "outputs": [],
   "source": [
    "X, y = test_gen[0]\n",
    "y_pred = model.predict(X)\n",
    "\n",
    "plt.imsave(save_path + \"/y_test.png\",y[0,:,:,0], cmap=\"gray\")\n",
    "plt.imsave(save_path + \"/y_pred_test.png\",y_pred[0,:,:,0], cmap=\"gray\")"
   ]
  },
  {
   "cell_type": "code",
   "execution_count": 13,
   "metadata": {},
   "outputs": [
    {
     "name": "stdout",
     "output_type": "stream",
     "text": [
      "160/160 [==============================] - 12s 78ms/step - loss: 0.2569 - accuracy: 0.9644 - iou_score: 0.5916\n"
     ]
    },
    {
     "data": {
      "text/plain": [
       "[0.25689977407455444, 0.9643614292144775, 0.5915509462356567]"
      ]
     },
     "execution_count": 13,
     "metadata": {},
     "output_type": "execute_result"
    }
   ],
   "source": [
    "model.evaluate(test_gen)"
   ]
  },
  {
   "cell_type": "code",
   "execution_count": null,
   "metadata": {},
   "outputs": [],
   "source": []
  }
 ],
 "metadata": {
  "kernelspec": {
   "display_name": "Python 3",
   "language": "python",
   "name": "python3"
  },
  "language_info": {
   "codemirror_mode": {
    "name": "ipython",
    "version": 3
   },
   "file_extension": ".py",
   "mimetype": "text/x-python",
   "name": "python",
   "nbconvert_exporter": "python",
   "pygments_lexer": "ipython3",
   "version": "3.8.2"
  }
 },
 "nbformat": 4,
 "nbformat_minor": 4
}

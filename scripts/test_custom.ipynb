{
 "cells": [
  {
   "cell_type": "code",
   "execution_count": 31,
   "metadata": {},
   "outputs": [],
   "source": [
    "import numpy as np\n",
    "import tensorflow as tf\n",
    "import tensorflow.keras as keras\n",
    "import tensorflow.keras.backend as kb"
   ]
  },
  {
   "cell_type": "code",
   "execution_count": 32,
   "metadata": {},
   "outputs": [],
   "source": [
    "model = keras.Sequential([keras.layers.Dense(64, activation=tf.nn.relu, input_shape=[1]),\n",
    "                          keras.layers.Dense(64, activation=tf.nn.relu),\n",
    "                          keras.layers.Dense(1)])"
   ]
  },
  {
   "cell_type": "code",
   "execution_count": 53,
   "metadata": {},
   "outputs": [],
   "source": [
    "def custom(y_actual, y_predicted):\n",
    "    y_actual = kb.concatenate([y_actual, y_actual, y_actual])\n",
    "    y_predicted = kb.concatenate([y_predicted, y_predicted, y_predicted])\n",
    "    \n",
    "    print(y_actual.shape)\n",
    "    \n",
    "    square_val=kb.square((y_actual-y_predicted)/10)\n",
    "    print(square_val.shape)\n",
    "    \n",
    "    #sum_val=kb.sum(square_val, axis=1)\n",
    "    #print(sum_val.shape)\n",
    "    \n",
    "    loss=kb.mean(square_val, axis=1)\n",
    "    print(loss.shape)\n",
    "    loss=kb.mean(loss, axis=0)\n",
    "    print(loss.shape)\n",
    " \n",
    "    return loss"
   ]
  },
  {
   "cell_type": "code",
   "execution_count": 54,
   "metadata": {},
   "outputs": [],
   "source": [
    "optimizer=keras.optimizers.RMSprop(0.001)\n",
    "model.compile(loss=custom,optimizer=optimizer)"
   ]
  },
  {
   "cell_type": "code",
   "execution_count": 55,
   "metadata": {},
   "outputs": [],
   "source": [
    "x = np.array([1,2,3,4])\n",
    "y = np.array([10,11,12,13])"
   ]
  },
  {
   "cell_type": "code",
   "execution_count": 56,
   "metadata": {},
   "outputs": [
    {
     "name": "stdout",
     "output_type": "stream",
     "text": [
      "Epoch 1/10\n",
      "(2, 3)\n",
      "(2, 3)\n",
      "(2,)\n",
      "()\n",
      "(2, 3)\n",
      "(2, 3)\n",
      "(2,)\n",
      "()\n",
      "2/2 [==============================] - 0s 2ms/step - loss: 0.0933\n",
      "Epoch 2/10\n",
      "2/2 [==============================] - 0s 2ms/step - loss: 0.0805\n",
      "Epoch 3/10\n",
      "2/2 [==============================] - 0s 2ms/step - loss: 0.0794\n",
      "Epoch 4/10\n",
      "2/2 [==============================] - 0s 2ms/step - loss: 0.0849\n",
      "Epoch 5/10\n",
      "2/2 [==============================] - 0s 2ms/step - loss: 0.0786\n",
      "Epoch 6/10\n",
      "2/2 [==============================] - 0s 2ms/step - loss: 0.0781\n",
      "Epoch 7/10\n",
      "2/2 [==============================] - 0s 2ms/step - loss: 0.0818\n",
      "Epoch 8/10\n",
      "2/2 [==============================] - 0s 2ms/step - loss: 0.0807\n",
      "Epoch 9/10\n",
      "2/2 [==============================] - 0s 2ms/step - loss: 0.0757\n",
      "Epoch 10/10\n",
      "2/2 [==============================] - 0s 2ms/step - loss: 0.0758\n"
     ]
    },
    {
     "data": {
      "text/plain": [
       "<tensorflow.python.keras.callbacks.History at 0x7fa86c1346a0>"
      ]
     },
     "execution_count": 56,
     "metadata": {},
     "output_type": "execute_result"
    }
   ],
   "source": [
    "model.fit(x,y,epochs=10, batch_size=2)"
   ]
  },
  {
   "cell_type": "code",
   "execution_count": null,
   "metadata": {},
   "outputs": [],
   "source": []
  }
 ],
 "metadata": {
  "kernelspec": {
   "display_name": "Python 3",
   "language": "python",
   "name": "python3"
  },
  "language_info": {
   "codemirror_mode": {
    "name": "ipython",
    "version": 3
   },
   "file_extension": ".py",
   "mimetype": "text/x-python",
   "name": "python",
   "nbconvert_exporter": "python",
   "pygments_lexer": "ipython3",
   "version": "3.8.2"
  }
 },
 "nbformat": 4,
 "nbformat_minor": 4
}

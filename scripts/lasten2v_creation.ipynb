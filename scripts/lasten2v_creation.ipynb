{
 "cells": [
  {
   "cell_type": "markdown",
   "metadata": {},
   "source": [
    "## Create LASTEN2V\n",
    "This dataset is based on LASTEN2 where every image from the training data is taken and 19 variations are created."
   ]
  },
  {
   "cell_type": "markdown",
   "metadata": {},
   "source": [
    "## Import Statements\n",
    "The notebook was developed on Keras using the Tensorflow 2.2.0 backend."
   ]
  },
  {
   "cell_type": "code",
   "execution_count": 51,
   "metadata": {
    "scrolled": true
   },
   "outputs": [],
   "source": [
    "import numpy as np\n",
    "import tensorflow as tf\n",
    "from tensorflow import keras\n",
    "from tensorflow.keras import layers\n",
    "from matplotlib import pyplot as plt\n",
    "from scipy.ndimage import gaussian_filter\n",
    "from tensorflow.keras.callbacks import CSVLogger\n",
    "import random"
   ]
  },
  {
   "cell_type": "markdown",
   "metadata": {},
   "source": [
    "## Hardware Configuration\n",
    "Check for GPU and allow memory growth such that limitations for training are reduced. "
   ]
  },
  {
   "cell_type": "code",
   "execution_count": 2,
   "metadata": {
    "scrolled": false
   },
   "outputs": [],
   "source": [
    "if len(tf.config.experimental.get_visible_devices('GPU')):\n",
    "    physical_devices = tf.config.experimental.list_physical_devices('GPU')\n",
    "    tf.config.experimental.set_memory_growth(physical_devices[0], True)"
   ]
  },
  {
   "cell_type": "markdown",
   "metadata": {},
   "source": [
    "## Functionality\n",
    "The following functionality helps to create the images for training the registration task."
   ]
  },
  {
   "cell_type": "code",
   "execution_count": 3,
   "metadata": {
    "scrolled": true
   },
   "outputs": [],
   "source": [
    "def apply_smoothing(image, sigma=1.0, sigma_back=10.0):\n",
    "    image_orig = image\n",
    "    image = gaussian_filter(image, sigma=sigma)\n",
    "    image_back = gaussian_filter(image, sigma=sigma_back)\n",
    "\n",
    "    image = (image / image.max()) * 255\n",
    "    image_back = (image_back / image_back.max()) * 255\n",
    "    image = 0.3 * image_orig + 0.3 * image + 0.3 * image_back\n",
    "\n",
    "    return image"
   ]
  },
  {
   "cell_type": "code",
   "execution_count": 4,
   "metadata": {
    "scrolled": true
   },
   "outputs": [],
   "source": [
    "def reconstruct_image(x_position, y_position):\n",
    "    # Unpad\n",
    "    #x_position = x_position[1:-1, 1:-1]\n",
    "    #y_position = y_position[1:-1, 1:-1]\n",
    "    image = np.zeros((image_height, image_width))\n",
    "    \n",
    "    index_2_xy = dict()\n",
    "    \n",
    "    point_index = 0\n",
    "    for x, y in zip(x_position.flatten(), y_position.flatten()):\n",
    "        x = int(x*image_width)\n",
    "        y = int(y*image_height)\n",
    "        \n",
    "        # Filter non-existing points\n",
    "        if x >= 100.0 and y>= 100.0:\n",
    "            image[y][x] = 1\n",
    "            index_2_xy[str(point_index)] = [x, y] \n",
    "            \n",
    "        point_index += 1\n",
    "        \n",
    "    image = apply_smoothing(image, sigma=2, sigma_back=15)\n",
    "    return image, index_2_xy"
   ]
  },
  {
   "cell_type": "markdown",
   "metadata": {},
   "source": [
    "## Model parameters\n",
    "The grid dimensions have to be know, as well as the image dimensions for scaling. The depth of the input and output layer is 2 here, as we will have one channel representing x-coordinates and a second channel representing y-coordinates. "
   ]
  },
  {
   "cell_type": "code",
   "execution_count": 5,
   "metadata": {
    "scrolled": true
   },
   "outputs": [],
   "source": [
    "grid_width = 18\n",
    "grid_height = 18\n",
    "\n",
    "image_width = 728\n",
    "image_height = 728\n",
    "\n",
    "inout_layers = 2"
   ]
  },
  {
   "cell_type": "markdown",
   "metadata": {},
   "source": [
    "## Hyperparameters\n",
    "The dimension of the latent space can be adapted to optimize the network. "
   ]
  },
  {
   "cell_type": "code",
   "execution_count": 6,
   "metadata": {
    "scrolled": true
   },
   "outputs": [],
   "source": [
    "latent_dim = 8\n",
    "epochs = 100\n",
    "batch_size = 10\n",
    "coding_loss_factor = 1.0\n",
    "epsilon_factor = 1.0"
   ]
  },
  {
   "cell_type": "markdown",
   "metadata": {},
   "source": [
    "## Sampling Layer\n",
    "In the sampling layer the coding $\\mathbf{\\mu}$ and $\\log{(\\mathbf{\\sigma^2})}$ are used to randomly sample a point from the underlying distribution. Due to this randomness that occurs within each batch and along all epochs the decoder is trained on smooth distributions. Each coding $\\mathbf{c}$ used to train the decoder is computed as\n",
    "\n",
    "$$\\mathbf{c} = \\mathbf{\\mu} + e^{0.5\\mathbf{\\log{(\\mathbf{\\sigma^2})}}}\\mathbf{\\epsilon}f$$\n",
    "\n",
    "where $\\epsilon$ is a random vector with entries between 0 and 1 and $f$ is a hyperparameter to control the amount of randomness."
   ]
  },
  {
   "cell_type": "code",
   "execution_count": 7,
   "metadata": {
    "scrolled": true
   },
   "outputs": [],
   "source": [
    "class Sampling(layers.Layer):\n",
    "    def call(self, inputs):\n",
    "        z_mean, z_log_var = inputs\n",
    "        batch = tf.shape(z_mean)[0]\n",
    "        dim = tf.shape(z_mean)[1]\n",
    "        epsilon = tf.keras.backend.random_normal(shape=(batch, dim))\n",
    "        return z_mean + tf.exp(0.5 * z_log_var) * epsilon * epsilon_factor"
   ]
  },
  {
   "cell_type": "markdown",
   "metadata": {},
   "source": [
    "## Encoder Model\n",
    "In the encoder strided convolutional layers are applied to reduce the dimensionality of the input. For a grid with dimension 18x18 the input shape is increased to 20x20 and the input images are padded. Like that it is easier to ensure symmetry between encoder an decoder. The encoder is a keras model having the mean, variance and a sampled value as output."
   ]
  },
  {
   "cell_type": "code",
   "execution_count": 8,
   "metadata": {
    "scrolled": true
   },
   "outputs": [
    {
     "name": "stdout",
     "output_type": "stream",
     "text": [
      "Model: \"encoder\"\n",
      "__________________________________________________________________________________________________\n",
      "Layer (type)                    Output Shape         Param #     Connected to                     \n",
      "==================================================================================================\n",
      "input_1 (InputLayer)            [(None, 20, 20, 2)]  0                                            \n",
      "__________________________________________________________________________________________________\n",
      "conv2d (Conv2D)                 (None, 10, 10, 32)   608         input_1[0][0]                    \n",
      "__________________________________________________________________________________________________\n",
      "conv2d_1 (Conv2D)               (None, 5, 5, 64)     18496       conv2d[0][0]                     \n",
      "__________________________________________________________________________________________________\n",
      "flatten (Flatten)               (None, 1600)         0           conv2d_1[0][0]                   \n",
      "__________________________________________________________________________________________________\n",
      "dense (Dense)                   (None, 16)           25616       flatten[0][0]                    \n",
      "__________________________________________________________________________________________________\n",
      "z_mean (Dense)                  (None, 8)            136         dense[0][0]                      \n",
      "__________________________________________________________________________________________________\n",
      "z_log_var (Dense)               (None, 8)            136         dense[0][0]                      \n",
      "__________________________________________________________________________________________________\n",
      "sampling (Sampling)             (None, 8)            0           z_mean[0][0]                     \n",
      "                                                                 z_log_var[0][0]                  \n",
      "==================================================================================================\n",
      "Total params: 44,992\n",
      "Trainable params: 44,992\n",
      "Non-trainable params: 0\n",
      "__________________________________________________________________________________________________\n"
     ]
    }
   ],
   "source": [
    "encoder_inputs = keras.Input(shape=(grid_width+2, grid_height+2, inout_layers))\n",
    "x = layers.Conv2D(32, 3, activation=\"relu\", strides=2, padding=\"same\")(encoder_inputs)\n",
    "x = layers.Conv2D(64, 3, activation=\"relu\", strides=2, padding=\"same\")(x)\n",
    "x = layers.Flatten()(x)\n",
    "x = layers.Dense(16, activation=\"relu\")(x)\n",
    "z_mean = layers.Dense(latent_dim, name=\"z_mean\")(x)\n",
    "z_log_var = layers.Dense(latent_dim, name=\"z_log_var\")(x)\n",
    "z = Sampling()([z_mean, z_log_var])\n",
    "encoder = keras.Model(encoder_inputs, [z_mean, z_log_var, z], name=\"encoder\")\n",
    "encoder.summary()"
   ]
  },
  {
   "cell_type": "markdown",
   "metadata": {},
   "source": [
    "## Decoder Model\n",
    "The decoder takes only a sampeled value or a randomly selected value with the size of the latent space as input. \n",
    "The dimnesion of the input of the encoder is then reconstructed. The decoder is constructed as a keras model."
   ]
  },
  {
   "cell_type": "code",
   "execution_count": 9,
   "metadata": {
    "scrolled": true
   },
   "outputs": [],
   "source": [
    "latent_inputs = keras.Input(shape=(latent_dim,))\n",
    "y_val = (grid_height+2)//4\n",
    "x_val = (grid_width+2)//4\n",
    "\n",
    "x = layers.Dense(y_val*x_val*64, activation=\"relu\")(latent_inputs)\n",
    "x = layers.Reshape((y_val, x_val, 64))(x)\n",
    "x = layers.Conv2DTranspose(64, 3, activation=\"relu\", strides=2, padding=\"same\")(x)\n",
    "x = layers.Conv2DTranspose(32, 3, activation=\"relu\", strides=2, padding=\"same\")(x)\n",
    "decoder_outputs = layers.Conv2DTranspose(inout_layers, 3, activation=\"sigmoid\", padding=\"same\")(x)\n",
    "decoder = keras.Model(latent_inputs, decoder_outputs, name=\"decoder\")\n",
    "#decoder.summary()"
   ]
  },
  {
   "cell_type": "markdown",
   "metadata": {},
   "source": [
    "## VAE Model\n",
    "The VAE is composed by the encoder and decoder. The decoder only takes the random coding $\\mathbf{c}$ from the encoder. However, the codings $\\mathbf{\\mu}$ and $\\log{(\\mathbf{\\sigma^2})}$ are used to compute a loss for regularizing and ensuring a smooth distribution. The coding loss is:\n",
    "\n",
    "$$ \\epsilon_{coding} = 1 + \\log{(\\sigma^2)} - \\mu^2 - \\sigma^2 $$\n",
    "\n",
    "A binary crossentropy is used to define a reconstruction loss $\\epsilon_{reconstruction}$. \n",
    "We are doing a regression here, based on probabilities. Therefore, cross entropy needs to be applied. See \n",
    "[Explanation](\n",
    "https://stats.stackexchange.com/questions/223256/does-the-cross-entropy-cost-make-sense-in-the-context-of-regression). The overall loss is then:\n",
    "\n",
    "$$\\epsilon = \\epsilon_{reconstruction} - \\epsilon_{coding}$$"
   ]
  },
  {
   "cell_type": "code",
   "execution_count": 10,
   "metadata": {
    "scrolled": true
   },
   "outputs": [],
   "source": [
    "class VariationalAutoEncoder(keras.Model):\n",
    "    def __init__(self, encoder, decoder, **kwargs):\n",
    "        super(VariationalAutoEncoder, self).__init__(**kwargs)\n",
    "        self.encoder = encoder\n",
    "        self.decoder = decoder\n",
    "\n",
    "    def train_step(self, data):\n",
    "        if isinstance(data, tuple):\n",
    "            data = data[0]\n",
    "            \n",
    "        # Gradient tape allows to \"record\" a function that will be derived\n",
    "        with tf.GradientTape() as tape:\n",
    "            z_mean, z_log_var, z = encoder(data)\n",
    "            \n",
    "            # Reconstuction Loss\n",
    "            reconstruction = decoder(z)\n",
    "            reconstruction_loss = tf.reduce_mean(\n",
    "                keras.losses.binary_crossentropy(data, reconstruction)\n",
    "            )\n",
    "            reconstruction_loss *= grid_height+2 * grid_height+2\n",
    "            \n",
    "            # Regularization Loss for well formed latent space and no overfitting\n",
    "            coding_loss = 1 + z_log_var - tf.square(z_mean) - tf.exp(z_log_var)\n",
    "            coding_loss = tf.reduce_mean(coding_loss)\n",
    "            coding_loss *= -(0.2 * coding_loss_factor)\n",
    "            \n",
    "            # Total Loss\n",
    "            total_loss = reconstruction_loss + coding_loss\n",
    "\n",
    "        grads = tape.gradient(total_loss, self.trainable_weights)\n",
    "        self.optimizer.apply_gradients(zip(grads, self.trainable_weights))\n",
    "        return {\n",
    "            \"loss\": total_loss,\n",
    "            \"reconstruction_loss\": reconstruction_loss,\n",
    "            \"coding_loss\": coding_loss,\n",
    "        }"
   ]
  },
  {
   "cell_type": "markdown",
   "metadata": {},
   "source": [
    "## Prepare data\n",
    "Load the data and scale them to be between 0.0 an 1.0. Further use zero-padding to get a 20x20 shape for this example. We use the already augmented data here for providing a large training set."
   ]
  },
  {
   "cell_type": "code",
   "execution_count": 11,
   "metadata": {
    "scrolled": true
   },
   "outputs": [
    {
     "name": "stdout",
     "output_type": "stream",
     "text": [
      "Shape of 'xy_data': (160, 20, 20, 2)\n"
     ]
    }
   ],
   "source": [
    "x_position = np.load('../jupyter/data/x_pos_LASTEN2.npy')\n",
    "y_position = np.load('../jupyter/data/y_pos_LASTEN2.npy')\n",
    "\n",
    "offset = 0.0\n",
    "\n",
    "# Non existing points mapping\n",
    "x_position = np.where(x_position<=0, -offset, x_position) + offset\n",
    "y_position = np.where(x_position<=0, -offset, y_position) + offset\n",
    "\n",
    "x_position = x_position / (image_width + offset)\n",
    "y_position = y_position / (image_height + offset)\n",
    "\n",
    "# Zero padding\n",
    "x_position = np.pad(x_position,[(0,0),(1,1),(1,1)],constant_values=0)\n",
    "y_position = np.pad(y_position,[(0,0),(1,1),(1,1)],constant_values=0)\n",
    "\n",
    "x_position = x_position[:,:,:,np.newaxis]\n",
    "y_position = y_position[:,:,:,np.newaxis]\n",
    "\n",
    "xy_data = np.concatenate((x_position, y_position), axis=3)\n",
    "print(\"Shape of 'xy_data': {}\".format(xy_data.shape))"
   ]
  },
  {
   "cell_type": "markdown",
   "metadata": {},
   "source": [
    "## Training\n",
    "Initialize the VAE, compile it and fit the model."
   ]
  },
  {
   "cell_type": "code",
   "execution_count": 12,
   "metadata": {
    "scrolled": false
   },
   "outputs": [
    {
     "data": {
      "text/plain": [
       "<tensorflow.python.training.tracking.util.CheckpointLoadStatus at 0x7fe73b566370>"
      ]
     },
     "execution_count": 12,
     "metadata": {},
     "output_type": "execute_result"
    }
   ],
   "source": [
    "history = None\n",
    "\n",
    "vae = VariationalAutoEncoder(encoder, decoder)\n",
    "\n",
    "#vae.compile(optimizer=keras.optimizers.Adam())\n",
    "#logger = CSVLogger(\"VAE_log\")\n",
    "#history = vae.fit(xy_data, callbacks=[logger], epochs=epochs, batch_size=batch_size)\n",
    "#vae.save_weights('weights/vae/vae_100_epochs')\n",
    "\n",
    "vae.load_weights('../jupyter/weights/vae/vae_100_epochs_gt')"
   ]
  },
  {
   "cell_type": "code",
   "execution_count": 13,
   "metadata": {
    "scrolled": true
   },
   "outputs": [],
   "source": [
    "if history:\n",
    "    print('Mean reconstruction loss over last 20 epochs: {}'.format(np.array(history.history['reconstruction_loss'][-20:]).mean()))\n",
    "    print('Mean coding loss over last 20 epochs: {}'.format(np.array(history.history['coding_loss'][-20:]).mean()))\n",
    "    plt.semilogy(history.history['reconstruction_loss'], label='Reconstruction Loss')\n",
    "    plt.title('Crossentropy Loss for Reconstruction of Input images')\n",
    "    plt.ylabel('Crossentropy')\n",
    "    plt.xlabel('No. epoch')\n",
    "    plt.legend(loc=\"upper left\")\n",
    "    plt.show()"
   ]
  },
  {
   "cell_type": "markdown",
   "metadata": {},
   "source": [
    "## Predict images and compare with ground truth\n",
    "Get the mean value for ground truth images and decode the value to reconstruct the images."
   ]
  },
  {
   "cell_type": "code",
   "execution_count": 14,
   "metadata": {
    "scrolled": true
   },
   "outputs": [],
   "source": [
    "res_encoder = encoder.predict(xy_data)[0]\n",
    "res_decoder = decoder.predict(res_encoder)\n",
    "plt.rcParams[\"figure.figsize\"] = (20,20)"
   ]
  },
  {
   "cell_type": "markdown",
   "metadata": {},
   "source": [
    "## Postprocessing\n",
    "We apply a bilateral filter to denoise the coordinate images. Further irregularities in x- and y-direction are removed."
   ]
  },
  {
   "cell_type": "code",
   "execution_count": 15,
   "metadata": {
    "scrolled": true
   },
   "outputs": [],
   "source": [
    "from skimage.restoration import denoise_bilateral\n",
    "plt.rcParams[\"figure.figsize\"] = (7,7)\n",
    "\n",
    "def postprocess_coordinate_images(results, index):\n",
    "    x = results[index,:,:,0]\n",
    "    y = results[index,:,:,1]\n",
    "    \n",
    "    # Unpad\n",
    "    x = x[1:-1,1:-1]\n",
    "    y = y[1:-1,1:-1]\n",
    "    \n",
    "    x_max_orig = x.max()\n",
    "    y_max_orig = y.max()\n",
    "    \n",
    "    # Smooth\n",
    "    #x = denoise_bilateral(x, mode='edge',sigma_spatial=100, win_size=3)\n",
    "    #y = denoise_bilateral(y, mode='edge',sigma_spatial=100, win_size=3)\n",
    "    \n",
    "    # Equalize possible offset due to smoothing\n",
    "    x = x - x.min()\n",
    "    y = y - y.min()\n",
    "    \n",
    "    x = x * (x_max_orig / x.max())\n",
    "    y = y * (y_max_orig / y.max())\n",
    "    \n",
    "    # Sort out irregularities in x\n",
    "    for i in range(len(x)):        \n",
    "        max_value=0.0\n",
    "        for j in range(len(x[i])):\n",
    "            if x[i][j] <= max_value:\n",
    "                x[i][j] = 0.0\n",
    "                y[i][j] = 0.0\n",
    "            else: \n",
    "                max_value = x[i][j]\n",
    "            \n",
    "    # Sort out irregularities in y\n",
    "    for i in range(len(y[0])):        \n",
    "        max_value=0.0\n",
    "        for j in reversed(range(len(y))):\n",
    "            if y[j][i] <= max_value:\n",
    "                x[j][i] = 0.0\n",
    "                y[j][i] = 0.0\n",
    "            else:\n",
    "                max_value = y[j][i]\n",
    "    \n",
    "    return x, y        "
   ]
  },
  {
   "cell_type": "markdown",
   "metadata": {},
   "source": [
    "## Predict codings based on the training data"
   ]
  },
  {
   "cell_type": "code",
   "execution_count": 16,
   "metadata": {
    "scrolled": true
   },
   "outputs": [],
   "source": [
    "res_encoder = encoder.predict(xy_data)"
   ]
  },
  {
   "cell_type": "markdown",
   "metadata": {},
   "source": [
    "###  Predict the latent vector of one sample image and pertubate it.\n",
    "Pertubation is computed as a value from a normal distribution with zero mean. A coding $\\hat{\\mathbf{c}}$ can be sampled as:\n",
    "$$\\hat{\\mathbf{c}} = \\mathbf{\\mu} + e^{0.5\\mathbf{\\log{(\\mathbf{\\sigma^2})}}}\\mathbf{\\epsilon}f$$\n",
    "\n",
    "where $\\mathbf{\\epsilon}$ is a random value from a normal distribution and $f$ allows us to control the amount of pertubation."
   ]
  },
  {
   "cell_type": "code",
   "execution_count": 17,
   "metadata": {
    "scrolled": true
   },
   "outputs": [
    {
     "data": {
      "text/plain": [
       "<matplotlib.image.AxesImage at 0x7fe6c8120ca0>"
      ]
     },
     "execution_count": 17,
     "metadata": {},
     "output_type": "execute_result"
    },
    {
     "data": {
      "image/png": "[encoded data removed]",
      "text/plain": [
       "<Figure size 504x504 with 1 Axes>"
      ]
     },
     "metadata": {
      "needs_background": "light"
     },
     "output_type": "display_data"
    }
   ],
   "source": [
    "plt.rcParams[\"figure.figsize\"] = (7, 7)\n",
    "\n",
    "image_id = 0\n",
    "\n",
    "epsilon = np.random.normal(size=res_encoder[0].shape)\n",
    "variation = res_encoder[0]+np.exp(0.5 * res_encoder[1]) * epsilon\n",
    "\n",
    "res_decoder = decoder.predict(variation)\n",
    "new_x, new_y = postprocess_coordinate_images(res_decoder, image_id)\n",
    "image, index_2_xy = reconstruct_image(new_x, new_y)\n",
    "plt.imshow(image,cmap='gist_gray')"
   ]
  },
  {
   "cell_type": "markdown",
   "metadata": {},
   "source": [
    "### Carry out the pertubated prediction for all sample points"
   ]
  },
  {
   "cell_type": "code",
   "execution_count": 18,
   "metadata": {},
   "outputs": [],
   "source": [
    "import json"
   ]
  },
  {
   "cell_type": "code",
   "execution_count": 114,
   "metadata": {},
   "outputs": [],
   "source": [
    "store_dir = '/home/julian/Documents/Studium/MT-Masterarbeit/Data/LASTEN2VGI/train/'\n",
    "\n",
    "#factor = 2.0 # LASTEN2VL\n",
    "#factor = 3.0 # LASTEN2V\n",
    "factor = 1.0 # LASTEN2VGL\n",
    "\n",
    "\n",
    "codings = res_encoder[0]\n",
    "\n",
    "\"\"\"\n",
    "variation_index = 40000\n",
    "for i in range(amount):\n",
    "    epsilon = np.random.normal(size=res_encoder[0].shape)\n",
    "    variation = res_encoder[0] + np.exp(0.5 * res_encoder[1]) * epsilon * factor\n",
    "\n",
    "    res_decoder = decoder.predict(variation)\n",
    "\n",
    "    for i in range(160):\n",
    "        new_x, new_y = postprocess_coordinate_images(res_decoder, i)\n",
    "        image, index_2_xy = reconstruct_image(new_x, new_y)\n",
    "        \n",
    "        # Store JSON\n",
    "        json_file = json.dumps(index_2_xy)\n",
    "        f = open(store_dir + \"{}.json\".format(variation_index), \"w\")\n",
    "        f.write(json_file)\n",
    "        f.close()\n",
    "        \n",
    "        # Store .png image\n",
    "        plt.imsave(store_dir + \"{}_mov.png\".format(variation_index), image, cmap=\"gray\")\n",
    "        \n",
    "        variation_index += 1\n",
    "\"\"\"\n",
    "a=1"
   ]
  },
  {
   "cell_type": "code",
   "execution_count": 115,
   "metadata": {},
   "outputs": [
    {
     "data": {
      "text/plain": [
       "(160, 8)"
      ]
     },
     "execution_count": 115,
     "metadata": {},
     "output_type": "execute_result"
    }
   ],
   "source": [
    "res.shape"
   ]
  },
  {
   "cell_type": "code",
   "execution_count": 175,
   "metadata": {},
   "outputs": [],
   "source": [
    "sub_samples = 10\n",
    "inter_samples = 3\n",
    "\n",
    "recording_1 = codings[0:20]\n",
    "recording_2 = codings[20:40]\n",
    "recording_3 = codings[40:60]\n",
    "recording_4 = codings[60:80]\n",
    "recording_5 = codings[80:100]\n",
    "recording_6 = codings[100:120]\n",
    "recording_7 = codings[120:140]\n",
    "recording_8 = codings[140:160]\n",
    "\n",
    "recordings = [recording_1,\n",
    "              recording_2,\n",
    "              recording_3,\n",
    "              recording_4,\n",
    "              recording_5,\n",
    "              recording_6,\n",
    "              recording_7,\n",
    "              recording_8]\n",
    "\n",
    "def interpolate_codings(first_coding, second_coding, alpha):\n",
    "    return (second_coding - first_coding) * alpha + first_coding\n",
    "\n",
    "def get_random_list(samples, sub_samples):\n",
    "    random_list = list(range(samples))\n",
    "    random.shuffle(random_list)\n",
    "    random_list = random_list[0:sub_samples]\n",
    "    \n",
    "    return random_list\n",
    "\n",
    "interpolated_codings = np.zeros((28*sub_samples*inter_samples, 8))\n",
    "alphas = np.linspace(0,1,inter_samples+2)[1:-1]\n",
    "\n",
    "counter = 0\n",
    "while recordings:\n",
    "    first_recording = recordings.pop(0)\n",
    "    \n",
    "    for second_recording in recordings:\n",
    "        first_random_points = get_random_list(20, sub_samples)\n",
    "        second_random_points = get_random_list(20, sub_samples)\n",
    "        \n",
    "        while first_random_points:\n",
    "            first_point = first_random_points.pop(0)\n",
    "            second_point = second_random_points.pop(0)\n",
    "            \n",
    "            first_coding = first_recording[first_point]\n",
    "            second_coding = second_recording[second_point]\n",
    "            \n",
    "            inter_codings = np.array([interpolate_codings(first_coding, second_coding, alpha) for alpha in alphas])\n",
    "            \n",
    "            start_index = counter*inter_samples\n",
    "            end_index = counter*inter_samples + inter_samples\n",
    "            \n",
    "            interpolated_codings[start_index:end_index] = inter_codings\n",
    "            counter +=1"
   ]
  },
  {
   "cell_type": "code",
   "execution_count": 178,
   "metadata": {},
   "outputs": [
    {
     "data": {
      "text/plain": [
       "array([-0.11222418, -0.14632447,  0.04605949, -0.04039021,  0.03817905,\n",
       "       -0.16126233, -0.91201031, -0.36439252])"
      ]
     },
     "execution_count": 178,
     "metadata": {},
     "output_type": "execute_result"
    }
   ],
   "source": [
    "interpolated_codings[777]"
   ]
  }
 ],
 "metadata": {
  "kernelspec": {
   "display_name": "Python 3",
   "language": "python",
   "name": "python3"
  },
  "language_info": {
   "codemirror_mode": {
    "name": "ipython",
    "version": 3
   },
   "file_extension": ".py",
   "mimetype": "text/x-python",
   "name": "python",
   "nbconvert_exporter": "python",
   "pygments_lexer": "ipython3",
   "version": "3.8.2"
  }
 },
 "nbformat": 4,
 "nbformat_minor": 4
}

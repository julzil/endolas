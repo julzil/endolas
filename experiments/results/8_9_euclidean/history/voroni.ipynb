{
 "cells": [
  {
   "cell_type": "code",
   "execution_count": 1,
   "metadata": {},
   "outputs": [],
   "source": [
    "import json\n",
    "from scipy.spatial import Voronoi, voronoi_plot_2d\n",
    "import numpy as np\n",
    "import copy\n",
    "from matplotlib import pyplot as plt"
   ]
  },
  {
   "cell_type": "code",
   "execution_count": 2,
   "metadata": {},
   "outputs": [],
   "source": [
    "file = open('161_w_60.json')\n",
    "json_data = json.load(file)"
   ]
  },
  {
   "cell_type": "code",
   "execution_count": 3,
   "metadata": {},
   "outputs": [],
   "source": [
    "points = np.random.rand(10,2)"
   ]
  },
  {
   "cell_type": "code",
   "execution_count": 4,
   "metadata": {},
   "outputs": [],
   "source": [
    "vor = Voronoi(points)"
   ]
  },
  {
   "cell_type": "code",
   "execution_count": 5,
   "metadata": {},
   "outputs": [
    {
     "data": {
      "image/png": "[encoded data removed]",
      "text/plain": [
       "<Figure size 432x288 with 1 Axes>"
      ]
     },
     "metadata": {
      "needs_background": "light"
     },
     "output_type": "display_data"
    }
   ],
   "source": [
    "fig = voronoi_plot_2d(vor, show_vertices=False)"
   ]
  },
  {
   "cell_type": "code",
   "execution_count": 6,
   "metadata": {
    "scrolled": false
   },
   "outputs": [
    {
     "data": {
      "text/plain": [
       "array([[0.84072253, 0.58207289],\n",
       "       [0.39788454, 0.9378556 ],\n",
       "       [0.22901912, 0.28324474],\n",
       "       [0.93948527, 0.96900133],\n",
       "       [0.29493148, 0.35495954],\n",
       "       [0.27913083, 0.40927387],\n",
       "       [0.03316119, 0.71146657],\n",
       "       [0.09026213, 0.71178841],\n",
       "       [0.46736628, 0.63851324],\n",
       "       [0.64524249, 0.99983419]])"
      ]
     },
     "execution_count": 6,
     "metadata": {},
     "output_type": "execute_result"
    }
   ],
   "source": [
    "points"
   ]
  },
  {
   "cell_type": "code",
   "execution_count": 7,
   "metadata": {},
   "outputs": [],
   "source": [
    "new_json = dict()"
   ]
  },
  {
   "cell_type": "code",
   "execution_count": 8,
   "metadata": {},
   "outputs": [],
   "source": [
    "for key, values in json_data.items():\n",
    "    if values[0] > 2 or values[1] > 2:\n",
    "        new_json[key] = values\n",
    "    "
   ]
  },
  {
   "cell_type": "code",
   "execution_count": 9,
   "metadata": {},
   "outputs": [],
   "source": [
    "a = np.zeros((len(new_json),2))"
   ]
  },
  {
   "cell_type": "code",
   "execution_count": 10,
   "metadata": {},
   "outputs": [],
   "source": [
    "for i, values in enumerate(new_json.values()):\n",
    "    a[i][0] = values[0]\n",
    "    a[i][1] = values[1]"
   ]
  },
  {
   "cell_type": "code",
   "execution_count": 11,
   "metadata": {},
   "outputs": [
    {
     "data": {
      "text/plain": [
       "array([[ 56., 328.],\n",
       "       [ 72., 326.],\n",
       "       [ 89., 327.],\n",
       "       [106., 327.],\n",
       "       [121., 329.],\n",
       "       [137., 329.],\n",
       "       [152., 328.],\n",
       "       [167., 327.],\n",
       "       [179., 329.],\n",
       "       [200., 327.],\n",
       "       [226., 326.],\n",
       "       [242., 327.],\n",
       "       [248., 327.],\n",
       "       [261., 328.],\n",
       "       [278., 329.],\n",
       "       [295., 328.],\n",
       "       [311., 327.],\n",
       "       [328., 327.],\n",
       "       [ 56., 313.],\n",
       "       [ 73., 307.],\n",
       "       [ 89., 310.],\n",
       "       [105., 311.],\n",
       "       [121., 312.],\n",
       "       [136., 312.],\n",
       "       [151., 310.],\n",
       "       [166., 312.],\n",
       "       [182., 312.],\n",
       "       [201., 309.],\n",
       "       [224., 307.],\n",
       "       [243., 311.],\n",
       "       [248., 311.],\n",
       "       [261., 310.],\n",
       "       [278., 311.],\n",
       "       [295., 310.],\n",
       "       [312., 309.],\n",
       "       [327., 308.],\n",
       "       [ 56., 298.],\n",
       "       [ 89., 294.],\n",
       "       [105., 296.],\n",
       "       [121., 295.],\n",
       "       [136., 296.],\n",
       "       [150., 294.],\n",
       "       [166., 296.],\n",
       "       [182., 296.],\n",
       "       [201., 291.],\n",
       "       [219., 287.],\n",
       "       [240., 296.],\n",
       "       [247., 295.],\n",
       "       [261., 294.],\n",
       "       [279., 294.],\n",
       "       [296., 293.],\n",
       "       [312., 292.],\n",
       "       [328., 292.],\n",
       "       [105., 282.],\n",
       "       [120., 281.],\n",
       "       [135., 280.],\n",
       "       [150., 279.],\n",
       "       [166., 280.],\n",
       "       [181., 281.],\n",
       "       [201., 273.],\n",
       "       [220., 270.],\n",
       "       [237., 278.],\n",
       "       [246., 277.],\n",
       "       [262., 277.],\n",
       "       [279., 277.],\n",
       "       [296., 276.],\n",
       "       [312., 274.],\n",
       "       [328., 273.],\n",
       "       [ 57., 279.],\n",
       "       [ 73., 271.],\n",
       "       [ 88., 269.],\n",
       "       [104., 266.],\n",
       "       [119., 265.],\n",
       "       [135., 264.],\n",
       "       [151., 263.],\n",
       "       [167., 262.],\n",
       "       [178., 264.],\n",
       "       [203., 256.],\n",
       "       [223., 255.],\n",
       "       [234., 262.],\n",
       "       [247., 261.],\n",
       "       [263., 260.],\n",
       "       [279., 260.],\n",
       "       [296., 259.],\n",
       "       [312., 258.],\n",
       "       [328., 257.],\n",
       "       [ 57., 255.],\n",
       "       [ 73., 253.],\n",
       "       [ 88., 251.],\n",
       "       [103., 249.],\n",
       "       [119., 248.],\n",
       "       [135., 247.],\n",
       "       [150., 246.],\n",
       "       [166., 247.],\n",
       "       [179., 246.],\n",
       "       [205., 242.],\n",
       "       [224., 240.],\n",
       "       [235., 245.],\n",
       "       [246., 245.],\n",
       "       [262., 244.],\n",
       "       [279., 244.],\n",
       "       [296., 244.],\n",
       "       [311., 242.],\n",
       "       [327., 243.],\n",
       "       [ 56., 239.],\n",
       "       [ 72., 237.],\n",
       "       [ 88., 235.],\n",
       "       [104., 234.],\n",
       "       [120., 234.],\n",
       "       [135., 232.],\n",
       "       [151., 232.],\n",
       "       [165., 232.],\n",
       "       [179., 231.],\n",
       "       [226., 224.],\n",
       "       [234., 230.],\n",
       "       [246., 231.],\n",
       "       [262., 228.],\n",
       "       [279., 228.],\n",
       "       [295., 228.],\n",
       "       [312., 228.],\n",
       "       [326., 227.],\n",
       "       [ 57., 220.],\n",
       "       [ 73., 223.],\n",
       "       [ 89., 221.],\n",
       "       [103., 221.],\n",
       "       [119., 219.],\n",
       "       [135., 219.],\n",
       "       [152., 217.],\n",
       "       [162., 213.],\n",
       "       [180., 210.],\n",
       "       [234., 216.],\n",
       "       [245., 216.],\n",
       "       [262., 215.],\n",
       "       [279., 214.],\n",
       "       [295., 213.],\n",
       "       [311., 212.],\n",
       "       [327., 211.],\n",
       "       [ 57., 207.],\n",
       "       [ 73., 212.],\n",
       "       [ 89., 210.],\n",
       "       [104., 203.],\n",
       "       [120., 202.],\n",
       "       [135., 201.],\n",
       "       [151., 197.],\n",
       "       [162., 192.],\n",
       "       [179., 187.],\n",
       "       [225., 193.],\n",
       "       [234., 198.],\n",
       "       [246., 197.],\n",
       "       [262., 203.],\n",
       "       [279., 201.],\n",
       "       [296., 202.],\n",
       "       [311., 202.],\n",
       "       [327., 197.],\n",
       "       [ 57., 187.],\n",
       "       [ 73., 187.],\n",
       "       [ 89., 186.],\n",
       "       [105., 184.],\n",
       "       [120., 180.],\n",
       "       [136., 176.],\n",
       "       [150., 175.],\n",
       "       [161., 173.],\n",
       "       [181., 166.],\n",
       "       [223., 173.],\n",
       "       [231., 174.],\n",
       "       [245., 178.],\n",
       "       [261., 184.],\n",
       "       [278., 186.],\n",
       "       [295., 190.],\n",
       "       [311., 190.],\n",
       "       [327., 185.],\n",
       "       [ 58., 160.],\n",
       "       [ 74., 151.],\n",
       "       [ 90., 153.],\n",
       "       [105., 156.],\n",
       "       [120., 156.],\n",
       "       [136., 154.],\n",
       "       [150., 159.],\n",
       "       [162., 165.],\n",
       "       [222., 162.],\n",
       "       [231., 155.],\n",
       "       [245., 158.],\n",
       "       [261., 161.],\n",
       "       [279., 166.],\n",
       "       [295., 171.],\n",
       "       [311., 172.],\n",
       "       [327., 171.],\n",
       "       [ 58., 129.],\n",
       "       [ 74., 127.],\n",
       "       [ 90., 127.],\n",
       "       [106., 146.],\n",
       "       [121., 147.],\n",
       "       [136., 147.],\n",
       "       [151., 146.],\n",
       "       [162., 150.],\n",
       "       [223., 147.],\n",
       "       [229., 150.],\n",
       "       [245., 150.],\n",
       "       [262., 137.],\n",
       "       [279., 146.],\n",
       "       [295., 150.],\n",
       "       [312., 149.],\n",
       "       [327., 152.],\n",
       "       [ 58., 121.],\n",
       "       [ 73., 123.],\n",
       "       [ 90., 126.],\n",
       "       [105., 132.],\n",
       "       [121., 133.],\n",
       "       [137., 136.],\n",
       "       [150., 136.],\n",
       "       [158., 136.],\n",
       "       [221., 138.],\n",
       "       [228., 137.],\n",
       "       [244., 133.],\n",
       "       [262., 132.],\n",
       "       [278., 137.],\n",
       "       [295., 124.],\n",
       "       [312., 127.],\n",
       "       [327., 130.],\n",
       "       [ 59., 111.],\n",
       "       [ 75., 115.],\n",
       "       [ 90., 116.],\n",
       "       [105., 119.],\n",
       "       [121., 119.],\n",
       "       [136., 123.],\n",
       "       [146., 124.],\n",
       "       [153., 124.],\n",
       "       [221., 125.],\n",
       "       [227., 123.],\n",
       "       [243., 121.],\n",
       "       [262., 122.],\n",
       "       [279., 122.],\n",
       "       [296., 117.],\n",
       "       [312., 116.],\n",
       "       [328., 115.],\n",
       "       [ 59., 101.],\n",
       "       [ 74., 102.],\n",
       "       [ 91., 103.],\n",
       "       [105., 104.],\n",
       "       [121., 105.],\n",
       "       [136., 108.],\n",
       "       [143., 108.],\n",
       "       [149., 107.],\n",
       "       [220., 109.],\n",
       "       [227., 109.],\n",
       "       [243., 109.],\n",
       "       [261., 107.],\n",
       "       [278., 105.],\n",
       "       [296., 106.],\n",
       "       [312., 104.],\n",
       "       [327., 102.],\n",
       "       [ 58.,  88.],\n",
       "       [ 75.,  86.],\n",
       "       [ 90.,  88.],\n",
       "       [105.,  88.],\n",
       "       [120.,  89.],\n",
       "       [132.,  91.],\n",
       "       [141.,  90.],\n",
       "       [146.,  90.],\n",
       "       [215.,  94.],\n",
       "       [226.,  93.],\n",
       "       [243.,  93.],\n",
       "       [262.,  91.],\n",
       "       [278.,  92.],\n",
       "       [296.,  92.],\n",
       "       [312.,  89.],\n",
       "       [327.,  87.],\n",
       "       [ 59.,  73.],\n",
       "       [ 76.,  68.],\n",
       "       [ 89.,  73.],\n",
       "       [104.,  73.],\n",
       "       [119.,  73.],\n",
       "       [131.,  74.],\n",
       "       [138.,  71.],\n",
       "       [145.,  73.],\n",
       "       [214.,  78.],\n",
       "       [227.,  75.],\n",
       "       [244.,  75.],\n",
       "       [261.,  74.],\n",
       "       [278.,  76.],\n",
       "       [295.,  76.],\n",
       "       [312.,  74.],\n",
       "       [327.,  74.],\n",
       "       [ 59.,  59.],\n",
       "       [ 88.,  57.],\n",
       "       [104.,  56.],\n",
       "       [117.,  57.],\n",
       "       [129.,  58.],\n",
       "       [139.,  55.],\n",
       "       [213.,  60.],\n",
       "       [227.,  58.],\n",
       "       [261.,  58.],\n",
       "       [278.,  59.],\n",
       "       [295.,  59.],\n",
       "       [311.,  58.],\n",
       "       [327.,  57.]])"
      ]
     },
     "execution_count": 11,
     "metadata": {},
     "output_type": "execute_result"
    }
   ],
   "source": [
    "a"
   ]
  },
  {
   "cell_type": "code",
   "execution_count": 12,
   "metadata": {},
   "outputs": [],
   "source": [
    "vor = Voronoi(a)"
   ]
  },
  {
   "cell_type": "code",
   "execution_count": 16,
   "metadata": {},
   "outputs": [
    {
     "ename": "TypeError",
     "evalue": "cannot unpack non-iterable Figure object",
     "output_type": "error",
     "traceback": [
      "\u001b[0;31m---------------------------------------------------------------------------\u001b[0m",
      "\u001b[0;31mTypeError\u001b[0m                                 Traceback (most recent call last)",
      "\u001b[0;32m<ipython-input-16-9d1833d74eed>\u001b[0m in \u001b[0;36m<module>\u001b[0;34m\u001b[0m\n\u001b[0;32m----> 1\u001b[0;31m \u001b[0mfig\u001b[0m\u001b[0;34m,\u001b[0m \u001b[0max\u001b[0m \u001b[0;34m=\u001b[0m \u001b[0mvoronoi_plot_2d\u001b[0m\u001b[0;34m(\u001b[0m\u001b[0mvor\u001b[0m\u001b[0;34m,\u001b[0m \u001b[0mshow_vertices\u001b[0m\u001b[0;34m=\u001b[0m\u001b[0;32mFalse\u001b[0m\u001b[0;34m)\u001b[0m\u001b[0;34m\u001b[0m\u001b[0;34m\u001b[0m\u001b[0m\n\u001b[0m",
      "\u001b[0;31mTypeError\u001b[0m: cannot unpack non-iterable Figure object"
     ]
    },
    {
     "data": {
      "image/png": "[encoded data removed]",
      "text/plain": [
       "<Figure size 432x288 with 1 Axes>"
      ]
     },
     "metadata": {
      "needs_background": "light"
     },
     "output_type": "display_data"
    }
   ],
   "source": [
    "fig = voronoi_plot_2d(vor, show_vertices=False)"
   ]
  },
  {
   "cell_type": "code",
   "execution_count": 14,
   "metadata": {},
   "outputs": [
    {
     "data": {
      "text/plain": [
       "(-0.05500000000000001,\n",
       " 0.05500000000000001,\n",
       " -0.05500000000000001,\n",
       " 0.05500000000000001)"
      ]
     },
     "execution_count": 14,
     "metadata": {},
     "output_type": "execute_result"
    },
    {
     "data": {
      "image/png": "[encoded data removed]",
      "text/plain": [
       "<Figure size 432x288 with 1 Axes>"
      ]
     },
     "metadata": {
      "needs_background": "light"
     },
     "output_type": "display_data"
    }
   ],
   "source": [
    "plt.axis('equal')"
   ]
  },
  {
   "cell_type": "code",
   "execution_count": 15,
   "metadata": {},
   "outputs": [],
   "source": [
    "plt.show()"
   ]
  },
  {
   "cell_type": "code",
   "execution_count": null,
   "metadata": {},
   "outputs": [],
   "source": []
  }
 ],
 "metadata": {
  "kernelspec": {
   "display_name": "Python 3",
   "language": "python",
   "name": "python3"
  },
  "language_info": {
   "codemirror_mode": {
    "name": "ipython",
    "version": 3
   },
   "file_extension": ".py",
   "mimetype": "text/x-python",
   "name": "python",
   "nbconvert_exporter": "python",
   "pygments_lexer": "ipython3",
   "version": "3.8.2"
  }
 },
 "nbformat": 4,
 "nbformat_minor": 4
}

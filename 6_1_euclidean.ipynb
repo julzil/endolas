{
 "cells": [
  {
   "cell_type": "markdown",
   "metadata": {},
   "source": [
    "# 6.1) Supervised Euclidean\n",
    "A U-Net is trained here to predict a displacement field and the euclidean distance is taken as error."
   ]
  },
  {
   "cell_type": "markdown",
   "metadata": {},
   "source": [
    "# Import statements\n",
    "Following packages are necessary:"
   ]
  },
  {
   "cell_type": "code",
   "execution_count": 1,
   "metadata": {},
   "outputs": [],
   "source": [
    "import random\n",
    "import utils\n",
    "import os\n",
    "import imageio\n",
    "import json\n",
    "\n",
    "import tensorflow as tf\n",
    "import numpy as np\n",
    "import tensorflow.keras.backend as kb\n",
    "from tensorflow.keras.callbacks import CSVLogger\n",
    "\n",
    "from unet import UNet\n",
    "from matplotlib import pyplot as plt"
   ]
  },
  {
   "cell_type": "markdown",
   "metadata": {
    "pycharm": {
     "name": "#%% md\n"
    }
   },
   "source": [
    "# Checks\n",
    "The version of tensorflow as well as the GPU support are checked."
   ]
  },
  {
   "cell_type": "code",
   "execution_count": 2,
   "metadata": {
    "pycharm": {
     "name": "#%%\n"
    }
   },
   "outputs": [
    {
     "name": "stdout",
     "output_type": "stream",
     "text": [
      "2.2.0-rc3\n"
     ]
    },
    {
     "data": {
      "text/plain": [
       "[PhysicalDevice(name='/physical_device:GPU:0', device_type='GPU')]"
      ]
     },
     "execution_count": 2,
     "metadata": {},
     "output_type": "execute_result"
    }
   ],
   "source": [
    "print(tf.__version__)\n",
    "physical_devices = tf.config.list_physical_devices('GPU')\n",
    "tf.config.experimental.set_memory_growth(physical_devices[0], True)\n",
    "tf.config.get_visible_devices('GPU')"
   ]
  },
  {
   "cell_type": "code",
   "execution_count": 3,
   "metadata": {},
   "outputs": [
    {
     "name": "stdout",
     "output_type": "stream",
     "text": [
      "[]\n",
      "[PhysicalDevice(name='/physical_device:CPU:0', device_type='CPU')]\n"
     ]
    }
   ],
   "source": [
    "physical_devices = tf.config.list_physical_devices('GPU')\n",
    "try:\n",
    "  # Disable all GPUS\n",
    "  tf.config.set_visible_devices([], 'GPU')\n",
    "  visible_devices = tf.config.get_visible_devices()\n",
    "  for device in visible_devices:\n",
    "    assert device.device_type != 'GPU'\n",
    "except:\n",
    "  # Invalid device or cannot modify virtual devices once initialized.\n",
    "  pass\n",
    "\n",
    "print(tf.config.get_visible_devices('GPU'))\n",
    "print(tf.config.get_visible_devices('CPU'))"
   ]
  },
  {
   "cell_type": "markdown",
   "metadata": {
    "pycharm": {
     "name": "#%% md\n"
    }
   },
   "source": [
    "# Data\n",
    "Import training images"
   ]
  },
  {
   "cell_type": "code",
   "execution_count": 4,
   "metadata": {
    "pycharm": {
     "name": "#%%\n"
    }
   },
   "outputs": [],
   "source": [
    "path = r'data/SIMPLE/fine_nonrigid'\n",
    "store_path = 'experiments/6_1_correspondence/fine_nonrigid_100_biased'\n",
    "\n",
    "width = 224\n",
    "height = 224"
   ]
  },
  {
   "cell_type": "markdown",
   "metadata": {
    "pycharm": {
     "name": "#%% md\n"
    }
   },
   "source": [
    "# Seeding\n",
    "Seeds are set to ensure reproducible training."
   ]
  },
  {
   "cell_type": "code",
   "execution_count": 5,
   "metadata": {
    "pycharm": {
     "name": "#%%\n"
    }
   },
   "outputs": [],
   "source": [
    "SEED = 42\n",
    "np.random.seed(SEED)\n",
    "tf.random.set_seed(SEED)\n",
    "random.seed(SEED)"
   ]
  },
  {
   "cell_type": "markdown",
   "metadata": {
    "pycharm": {
     "name": "#%% md\n"
    }
   },
   "source": [
    "# Network\n",
    "A U-Net based network is instantiated with keras to run a semantic segmentation."
   ]
  },
  {
   "cell_type": "code",
   "execution_count": 6,
   "metadata": {
    "pycharm": {
     "name": "#%%\n"
    }
   },
   "outputs": [
    {
     "name": "stdout",
     "output_type": "stream",
     "text": [
      "Model: \"model\"\n",
      "__________________________________________________________________________________________________\n",
      "Layer (type)                    Output Shape         Param #     Connected to                     \n",
      "==================================================================================================\n",
      "input_1 (InputLayer)            [(None, 224, 224, 2) 0                                            \n",
      "__________________________________________________________________________________________________\n",
      "conv2d (Conv2D)                 (None, 224, 224, 32) 608         input_1[0][0]                    \n",
      "__________________________________________________________________________________________________\n",
      "batch_normalization (BatchNorma (None, 224, 224, 32) 128         conv2d[0][0]                     \n",
      "__________________________________________________________________________________________________\n",
      "activation (Activation)         (None, 224, 224, 32) 0           batch_normalization[0][0]        \n",
      "__________________________________________________________________________________________________\n",
      "conv2d_1 (Conv2D)               (None, 224, 224, 32) 9248        activation[0][0]                 \n",
      "__________________________________________________________________________________________________\n",
      "batch_normalization_1 (BatchNor (None, 224, 224, 32) 128         conv2d_1[0][0]                   \n",
      "__________________________________________________________________________________________________\n",
      "activation_1 (Activation)       (None, 224, 224, 32) 0           batch_normalization_1[0][0]      \n",
      "__________________________________________________________________________________________________\n",
      "max_pooling2d (MaxPooling2D)    (None, 112, 112, 32) 0           activation_1[0][0]               \n",
      "__________________________________________________________________________________________________\n",
      "conv2d_2 (Conv2D)               (None, 112, 112, 64) 18496       max_pooling2d[0][0]              \n",
      "__________________________________________________________________________________________________\n",
      "batch_normalization_2 (BatchNor (None, 112, 112, 64) 256         conv2d_2[0][0]                   \n",
      "__________________________________________________________________________________________________\n",
      "activation_2 (Activation)       (None, 112, 112, 64) 0           batch_normalization_2[0][0]      \n",
      "__________________________________________________________________________________________________\n",
      "conv2d_3 (Conv2D)               (None, 112, 112, 64) 36928       activation_2[0][0]               \n",
      "__________________________________________________________________________________________________\n",
      "batch_normalization_3 (BatchNor (None, 112, 112, 64) 256         conv2d_3[0][0]                   \n",
      "__________________________________________________________________________________________________\n",
      "activation_3 (Activation)       (None, 112, 112, 64) 0           batch_normalization_3[0][0]      \n",
      "__________________________________________________________________________________________________\n",
      "max_pooling2d_1 (MaxPooling2D)  (None, 56, 56, 64)   0           activation_3[0][0]               \n",
      "__________________________________________________________________________________________________\n",
      "conv2d_4 (Conv2D)               (None, 56, 56, 128)  73856       max_pooling2d_1[0][0]            \n",
      "__________________________________________________________________________________________________\n",
      "batch_normalization_4 (BatchNor (None, 56, 56, 128)  512         conv2d_4[0][0]                   \n",
      "__________________________________________________________________________________________________\n",
      "activation_4 (Activation)       (None, 56, 56, 128)  0           batch_normalization_4[0][0]      \n",
      "__________________________________________________________________________________________________\n",
      "conv2d_5 (Conv2D)               (None, 56, 56, 128)  147584      activation_4[0][0]               \n",
      "__________________________________________________________________________________________________\n",
      "batch_normalization_5 (BatchNor (None, 56, 56, 128)  512         conv2d_5[0][0]                   \n",
      "__________________________________________________________________________________________________\n",
      "activation_5 (Activation)       (None, 56, 56, 128)  0           batch_normalization_5[0][0]      \n",
      "__________________________________________________________________________________________________\n",
      "max_pooling2d_2 (MaxPooling2D)  (None, 28, 28, 128)  0           activation_5[0][0]               \n",
      "__________________________________________________________________________________________________\n",
      "conv2d_6 (Conv2D)               (None, 28, 28, 256)  295168      max_pooling2d_2[0][0]            \n",
      "__________________________________________________________________________________________________\n",
      "batch_normalization_6 (BatchNor (None, 28, 28, 256)  1024        conv2d_6[0][0]                   \n",
      "__________________________________________________________________________________________________\n",
      "activation_6 (Activation)       (None, 28, 28, 256)  0           batch_normalization_6[0][0]      \n",
      "__________________________________________________________________________________________________\n",
      "conv2d_7 (Conv2D)               (None, 28, 28, 256)  590080      activation_6[0][0]               \n",
      "__________________________________________________________________________________________________\n",
      "batch_normalization_7 (BatchNor (None, 28, 28, 256)  1024        conv2d_7[0][0]                   \n",
      "__________________________________________________________________________________________________\n",
      "activation_7 (Activation)       (None, 28, 28, 256)  0           batch_normalization_7[0][0]      \n",
      "__________________________________________________________________________________________________\n",
      "max_pooling2d_3 (MaxPooling2D)  (None, 14, 14, 256)  0           activation_7[0][0]               \n",
      "__________________________________________________________________________________________________\n",
      "conv2d_8 (Conv2D)               (None, 14, 14, 512)  1180160     max_pooling2d_3[0][0]            \n",
      "__________________________________________________________________________________________________\n",
      "batch_normalization_8 (BatchNor (None, 14, 14, 512)  2048        conv2d_8[0][0]                   \n",
      "__________________________________________________________________________________________________\n",
      "activation_8 (Activation)       (None, 14, 14, 512)  0           batch_normalization_8[0][0]      \n",
      "__________________________________________________________________________________________________\n",
      "conv2d_9 (Conv2D)               (None, 14, 14, 256)  1179904     activation_8[0][0]               \n",
      "__________________________________________________________________________________________________\n",
      "batch_normalization_9 (BatchNor (None, 14, 14, 256)  1024        conv2d_9[0][0]                   \n",
      "__________________________________________________________________________________________________\n",
      "activation_9 (Activation)       (None, 14, 14, 256)  0           batch_normalization_9[0][0]      \n",
      "__________________________________________________________________________________________________\n",
      "up_sampling2d (UpSampling2D)    (None, 28, 28, 256)  0           activation_9[0][0]               \n",
      "__________________________________________________________________________________________________\n",
      "concatenate (Concatenate)       (None, 28, 28, 512)  0           up_sampling2d[0][0]              \n",
      "                                                                 activation_7[0][0]               \n",
      "__________________________________________________________________________________________________\n",
      "conv2d_10 (Conv2D)              (None, 28, 28, 256)  1179904     concatenate[0][0]                \n",
      "__________________________________________________________________________________________________\n",
      "batch_normalization_10 (BatchNo (None, 28, 28, 256)  1024        conv2d_10[0][0]                  \n",
      "__________________________________________________________________________________________________\n",
      "activation_10 (Activation)      (None, 28, 28, 256)  0           batch_normalization_10[0][0]     \n",
      "__________________________________________________________________________________________________\n",
      "conv2d_11 (Conv2D)              (None, 28, 28, 128)  295040      activation_10[0][0]              \n",
      "__________________________________________________________________________________________________\n",
      "batch_normalization_11 (BatchNo (None, 28, 28, 128)  512         conv2d_11[0][0]                  \n",
      "__________________________________________________________________________________________________\n",
      "activation_11 (Activation)      (None, 28, 28, 128)  0           batch_normalization_11[0][0]     \n",
      "__________________________________________________________________________________________________\n",
      "up_sampling2d_1 (UpSampling2D)  (None, 56, 56, 128)  0           activation_11[0][0]              \n",
      "__________________________________________________________________________________________________\n",
      "concatenate_1 (Concatenate)     (None, 56, 56, 256)  0           up_sampling2d_1[0][0]            \n",
      "                                                                 activation_5[0][0]               \n",
      "__________________________________________________________________________________________________\n",
      "conv2d_12 (Conv2D)              (None, 56, 56, 128)  295040      concatenate_1[0][0]              \n",
      "__________________________________________________________________________________________________\n",
      "batch_normalization_12 (BatchNo (None, 56, 56, 128)  512         conv2d_12[0][0]                  \n",
      "__________________________________________________________________________________________________\n",
      "activation_12 (Activation)      (None, 56, 56, 128)  0           batch_normalization_12[0][0]     \n",
      "__________________________________________________________________________________________________\n",
      "conv2d_13 (Conv2D)              (None, 56, 56, 64)   73792       activation_12[0][0]              \n",
      "__________________________________________________________________________________________________\n",
      "batch_normalization_13 (BatchNo (None, 56, 56, 64)   256         conv2d_13[0][0]                  \n",
      "__________________________________________________________________________________________________\n",
      "activation_13 (Activation)      (None, 56, 56, 64)   0           batch_normalization_13[0][0]     \n",
      "__________________________________________________________________________________________________\n",
      "up_sampling2d_2 (UpSampling2D)  (None, 112, 112, 64) 0           activation_13[0][0]              \n",
      "__________________________________________________________________________________________________\n",
      "concatenate_2 (Concatenate)     (None, 112, 112, 128 0           up_sampling2d_2[0][0]            \n",
      "                                                                 activation_3[0][0]               \n",
      "__________________________________________________________________________________________________\n",
      "conv2d_14 (Conv2D)              (None, 112, 112, 64) 73792       concatenate_2[0][0]              \n",
      "__________________________________________________________________________________________________\n",
      "batch_normalization_14 (BatchNo (None, 112, 112, 64) 256         conv2d_14[0][0]                  \n",
      "__________________________________________________________________________________________________\n",
      "activation_14 (Activation)      (None, 112, 112, 64) 0           batch_normalization_14[0][0]     \n",
      "__________________________________________________________________________________________________\n",
      "conv2d_15 (Conv2D)              (None, 112, 112, 32) 18464       activation_14[0][0]              \n",
      "__________________________________________________________________________________________________\n",
      "batch_normalization_15 (BatchNo (None, 112, 112, 32) 128         conv2d_15[0][0]                  \n",
      "__________________________________________________________________________________________________\n",
      "activation_15 (Activation)      (None, 112, 112, 32) 0           batch_normalization_15[0][0]     \n",
      "__________________________________________________________________________________________________\n",
      "up_sampling2d_3 (UpSampling2D)  (None, 224, 224, 32) 0           activation_15[0][0]              \n",
      "__________________________________________________________________________________________________\n",
      "concatenate_3 (Concatenate)     (None, 224, 224, 64) 0           up_sampling2d_3[0][0]            \n",
      "                                                                 activation_1[0][0]               \n",
      "__________________________________________________________________________________________________\n",
      "conv2d_16 (Conv2D)              (None, 224, 224, 32) 18464       concatenate_3[0][0]              \n",
      "__________________________________________________________________________________________________\n",
      "batch_normalization_16 (BatchNo (None, 224, 224, 32) 128         conv2d_16[0][0]                  \n",
      "__________________________________________________________________________________________________\n",
      "activation_16 (Activation)      (None, 224, 224, 32) 0           batch_normalization_16[0][0]     \n",
      "__________________________________________________________________________________________________\n",
      "conv2d_17 (Conv2D)              (None, 224, 224, 32) 9248        activation_16[0][0]              \n",
      "__________________________________________________________________________________________________\n",
      "batch_normalization_17 (BatchNo (None, 224, 224, 32) 128         conv2d_17[0][0]                  \n",
      "__________________________________________________________________________________________________\n",
      "activation_17 (Activation)      (None, 224, 224, 32) 0           batch_normalization_17[0][0]     \n",
      "__________________________________________________________________________________________________\n",
      "segmentation (Conv2D)           (None, 224, 224, 2)  66          activation_17[0][0]              \n",
      "==================================================================================================\n",
      "Total params: 5,505,698\n",
      "Trainable params: 5,500,770\n",
      "Non-trainable params: 4,928\n",
      "__________________________________________________________________________________________________\n"
     ]
    }
   ],
   "source": [
    "model = UNet(filters=32, layers=4, activation='linear', classes=2, input_shape=(224, 224, 2))\n",
    "model.summary()"
   ]
  },
  {
   "cell_type": "markdown",
   "metadata": {
    "pycharm": {
     "name": "#%% md\n"
    }
   },
   "source": [
    "# Data Preparation\n",
    "A batch with only one image is used."
   ]
  },
  {
   "cell_type": "code",
   "execution_count": 7,
   "metadata": {},
   "outputs": [],
   "source": [
    "fixed = imageio.imread(path + \"/fixed.png\")\n",
    "moving = imageio.imread(path + \"/moving.png\")\n",
    "\n",
    "fixed = fixed[:,:,0]\n",
    "moving = moving[:,:,0]\n",
    "\n",
    "X = np.zeros((width, height, 2))\n",
    "\n",
    "X[:,:,0] = moving\n",
    "X[:,:,1] = fixed"
   ]
  },
  {
   "cell_type": "code",
   "execution_count": 8,
   "metadata": {
    "scrolled": true
   },
   "outputs": [
    {
     "data": {
      "text/plain": [
       "<matplotlib.image.AxesImage at 0x7fd56878b700>"
      ]
     },
     "execution_count": 8,
     "metadata": {},
     "output_type": "execute_result"
    },
    {
     "data": {
      "image/png": "[encoded data removed]",
      "text/plain": [
       "<Figure size 432x288 with 1 Axes>"
      ]
     },
     "metadata": {
      "needs_background": "light"
     },
     "output_type": "display_data"
    }
   ],
   "source": [
    "plt.imshow(X[:,:,0], cmap=\"gray\")"
   ]
  },
  {
   "cell_type": "code",
   "execution_count": 9,
   "metadata": {
    "scrolled": true
   },
   "outputs": [
    {
     "data": {
      "text/plain": [
       "<matplotlib.image.AxesImage at 0x7fd5687274f0>"
      ]
     },
     "execution_count": 9,
     "metadata": {},
     "output_type": "execute_result"
    },
    {
     "data": {
      "image/png": "[encoded data removed]",
      "text/plain": [
       "<Figure size 432x288 with 1 Axes>"
      ]
     },
     "metadata": {
      "needs_background": "light"
     },
     "output_type": "display_data"
    }
   ],
   "source": [
    "plt.imshow(X[:,:,1], cmap=\"gray\")"
   ]
  },
  {
   "cell_type": "code",
   "execution_count": 10,
   "metadata": {},
   "outputs": [],
   "source": [
    "moving_json_file = open(path  + '/moving.json')\n",
    "fixed_json_file = open(path + '/fixed.json')\n",
    "\n",
    "moving_data = json.load(moving_json_file)\n",
    "fixed_data = json.load(fixed_json_file)\n",
    "\n",
    "moving_json_file.close()\n",
    "fixed_json_file.close()\n",
    "\n",
    "labels = np.zeros((25,2,2))\n",
    "\n",
    "for index in range(0,25):\n",
    "    x = moving_data[str(index)][0]\n",
    "    y = moving_data[str(index)][1]\n",
    "\n",
    "    labels[index][0][0] = x\n",
    "    labels[index][1][0] = y\n",
    "    \n",
    "for index in range(0,25):\n",
    "    x = fixed_data[str(index)][0]\n",
    "    y = fixed_data[str(index)][1]\n",
    "\n",
    "    labels[index][0][1] = x\n",
    "    labels[index][1][1] = y  "
   ]
  },
  {
   "cell_type": "markdown",
   "metadata": {
    "pycharm": {
     "name": "#%% md\n"
    }
   },
   "source": [
    "# Training Preparation\n",
    "Prepare the settings for training the model."
   ]
  },
  {
   "cell_type": "code",
   "execution_count": 11,
   "metadata": {},
   "outputs": [],
   "source": [
    "X_train = np.array([X])\n",
    "y_train = np.array([labels])"
   ]
  },
  {
   "cell_type": "code",
   "execution_count": 12,
   "metadata": {},
   "outputs": [],
   "source": [
    "def eval_displacment(u, x, y):\n",
    "    u = kb.gather(u, y)\n",
    "    u = kb.transpose(u)\n",
    "    u = kb.gather(u, x)\n",
    "    u = kb.flatten(u)\n",
    "    indices = [val * 25 + val for val in range(0,25)]\n",
    "    u = kb.gather(u, indices)\n",
    "    \n",
    "    return u\n",
    "\n",
    "def custom_loss(labels, prediction):\n",
    "    # BATCH_SIZE = 1\n",
    "    \n",
    "    #print(prediction.shape) # batch_sizex112x112x2 (bs, x, y, ux-uy)\n",
    "    #print(labels.shape) # batch_sizex25x2x2 (bs, coord, x-y, mov-fix)\n",
    "    \n",
    "    ux = prediction[0,:,:,0]\n",
    "    uy = prediction[0,:,:,1]\n",
    "    \n",
    "    x_mov = labels[0,:,0,0]\n",
    "    y_mov = labels[0,:,1,0]\n",
    "    x_mov_int = kb.cast(x_mov, \"int32\")\n",
    "    y_mov_int = kb.cast(y_mov, \"int32\")\n",
    "    \n",
    "    x_fix = labels[0,:,0,1]\n",
    "    y_fix = labels[0,:,1,1]\n",
    "    x_fix_int = kb.cast(x_fix, \"int32\")\n",
    "    y_fix_int = kb.cast(y_fix, \"int32\")    \n",
    "    \n",
    "    ux_mov = eval_displacment(ux, x_mov_int, y_mov_int)\n",
    "    uy_mov = eval_displacment(uy, x_mov_int, y_mov_int)\n",
    "    \n",
    "    x_squared = kb.square(x_mov + ux_mov - x_fix) # elementwise\n",
    "    y_squared = kb.square(y_mov + uy_mov - y_fix) \n",
    "    \n",
    "    euclidean_distance = kb.sqrt(x_squared + y_squared)\n",
    "    mae = kb.mean(x_squared + y_squared)\n",
    "    \n",
    "    #mse = kb.mean(x_squared + y_squared)\n",
    "    #kb.print_tensor(mse)\n",
    "    \n",
    "    return mae"
   ]
  },
  {
   "cell_type": "code",
   "execution_count": 13,
   "metadata": {
    "pycharm": {
     "name": "#%%\n"
    },
    "scrolled": true
   },
   "outputs": [
    {
     "name": "stdout",
     "output_type": "stream",
     "text": [
      "Epoch 1/100\n",
      "1/1 [==============================] - 1s 754ms/step - loss: 149.1541 - val_loss: 1151.2634\n",
      "Epoch 2/100\n",
      "1/1 [==============================] - 0s 156ms/step - loss: 60.2865 - val_loss: 1290.9968\n",
      "Epoch 3/100\n",
      "1/1 [==============================] - 0s 157ms/step - loss: 36.8026 - val_loss: 5033.1895\n",
      "Epoch 4/100\n",
      "1/1 [==============================] - 0s 158ms/step - loss: 17.1948 - val_loss: 12633.3896\n",
      "Epoch 5/100\n",
      "1/1 [==============================] - 0s 161ms/step - loss: 4.7375 - val_loss: 23145.0957\n",
      "Epoch 6/100\n",
      "1/1 [==============================] - 0s 155ms/step - loss: 1.5676 - val_loss: 39162.3008\n",
      "Epoch 7/100\n",
      "1/1 [==============================] - 0s 155ms/step - loss: 1.3803 - val_loss: 61377.8281\n",
      "Epoch 8/100\n",
      "1/1 [==============================] - 0s 166ms/step - loss: 1.1695 - val_loss: 89023.4219\n",
      "Epoch 9/100\n",
      "1/1 [==============================] - 0s 161ms/step - loss: 1.6084 - val_loss: 100639.9766\n",
      "Epoch 10/100\n",
      "1/1 [==============================] - 0s 156ms/step - loss: 3.6458 - val_loss: 122386.1328\n",
      "Epoch 11/100\n",
      "1/1 [==============================] - 0s 157ms/step - loss: 1.4064 - val_loss: 129331.2031\n",
      "Epoch 12/100\n",
      "1/1 [==============================] - 0s 157ms/step - loss: 1.0774 - val_loss: 120927.5938\n",
      "Epoch 13/100\n",
      "1/1 [==============================] - 0s 154ms/step - loss: 0.5884 - val_loss: 113451.1875\n",
      "Epoch 14/100\n",
      "1/1 [==============================] - 0s 155ms/step - loss: 0.8447 - val_loss: 105381.0469\n",
      "Epoch 15/100\n",
      "1/1 [==============================] - 0s 156ms/step - loss: 0.2846 - val_loss: 93911.8594\n",
      "Epoch 16/100\n",
      "1/1 [==============================] - 0s 158ms/step - loss: 0.5586 - val_loss: 79707.4062\n",
      "Epoch 17/100\n",
      "1/1 [==============================] - 0s 156ms/step - loss: 0.2537 - val_loss: 68490.6719\n",
      "Epoch 18/100\n",
      "1/1 [==============================] - 0s 164ms/step - loss: 0.3566 - val_loss: 62054.2500\n",
      "Epoch 19/100\n",
      "1/1 [==============================] - 0s 156ms/step - loss: 0.2329 - val_loss: 56540.1211\n",
      "Epoch 20/100\n",
      "1/1 [==============================] - 0s 155ms/step - loss: 0.1732 - val_loss: 48287.1602\n",
      "Epoch 21/100\n",
      "1/1 [==============================] - 0s 156ms/step - loss: 0.2288 - val_loss: 38440.0000\n",
      "Epoch 22/100\n",
      "1/1 [==============================] - 0s 160ms/step - loss: 0.1033 - val_loss: 29771.8594\n",
      "Epoch 23/100\n",
      "1/1 [==============================] - 0s 170ms/step - loss: 0.1850 - val_loss: 23270.4277\n",
      "Epoch 24/100\n",
      "1/1 [==============================] - 0s 174ms/step - loss: 0.1425 - val_loss: 18937.7500\n",
      "Epoch 25/100\n",
      "1/1 [==============================] - 0s 177ms/step - loss: 0.0409 - val_loss: 15834.9209\n",
      "Epoch 26/100\n",
      "1/1 [==============================] - 0s 172ms/step - loss: 0.1377 - val_loss: 13574.9590\n",
      "Epoch 27/100\n",
      "1/1 [==============================] - 0s 167ms/step - loss: 0.0861 - val_loss: 11874.4072\n",
      "Epoch 28/100\n",
      "1/1 [==============================] - 0s 170ms/step - loss: 0.0475 - val_loss: 10644.7324\n",
      "Epoch 29/100\n",
      "1/1 [==============================] - 0s 162ms/step - loss: 0.0844 - val_loss: 9755.1738\n",
      "Epoch 30/100\n",
      "1/1 [==============================] - 0s 163ms/step - loss: 0.0423 - val_loss: 8871.4229\n",
      "Epoch 31/100\n",
      "1/1 [==============================] - 0s 187ms/step - loss: 0.0460 - val_loss: 7858.7837\n",
      "Epoch 32/100\n",
      "1/1 [==============================] - 0s 155ms/step - loss: 0.0509 - val_loss: 6827.8633\n",
      "Epoch 33/100\n",
      "1/1 [==============================] - 0s 155ms/step - loss: 0.0349 - val_loss: 5934.1533\n",
      "Epoch 34/100\n",
      "1/1 [==============================] - 0s 163ms/step - loss: 0.0506 - val_loss: 5254.2402\n",
      "Epoch 35/100\n",
      "1/1 [==============================] - 0s 164ms/step - loss: 0.0197 - val_loss: 4680.3101\n",
      "Epoch 36/100\n",
      "1/1 [==============================] - 0s 157ms/step - loss: 0.0187 - val_loss: 4138.8682\n",
      "Epoch 37/100\n",
      "1/1 [==============================] - 0s 162ms/step - loss: 0.0386 - val_loss: 3623.5554\n",
      "Epoch 38/100\n",
      "1/1 [==============================] - 0s 163ms/step - loss: 0.0194 - val_loss: 3178.9194\n",
      "Epoch 39/100\n",
      "1/1 [==============================] - 0s 156ms/step - loss: 0.0225 - val_loss: 2849.1450\n",
      "Epoch 40/100\n",
      "1/1 [==============================] - 0s 185ms/step - loss: 0.0179 - val_loss: 2603.1499\n",
      "Epoch 41/100\n",
      "1/1 [==============================] - 0s 156ms/step - loss: 0.0120 - val_loss: 2387.4207\n",
      "Epoch 42/100\n",
      "1/1 [==============================] - 0s 157ms/step - loss: 0.0203 - val_loss: 2176.5403\n",
      "Epoch 43/100\n",
      "1/1 [==============================] - 0s 158ms/step - loss: 0.0084 - val_loss: 1970.3452\n",
      "Epoch 44/100\n",
      "1/1 [==============================] - 0s 156ms/step - loss: 0.0127 - val_loss: 1782.0476\n",
      "Epoch 45/100\n",
      "1/1 [==============================] - 0s 162ms/step - loss: 0.0155 - val_loss: 1607.0294\n",
      "Epoch 46/100\n",
      "1/1 [==============================] - 0s 156ms/step - loss: 0.0039 - val_loss: 1435.8120\n",
      "Epoch 47/100\n",
      "1/1 [==============================] - 0s 164ms/step - loss: 0.0095 - val_loss: 1271.6899\n",
      "Epoch 48/100\n",
      "1/1 [==============================] - 0s 158ms/step - loss: 0.0085 - val_loss: 1129.0756\n",
      "Epoch 49/100\n",
      "1/1 [==============================] - 0s 169ms/step - loss: 0.0071 - val_loss: 1017.6330\n",
      "Epoch 50/100\n",
      "1/1 [==============================] - 0s 153ms/step - loss: 0.0084 - val_loss: 934.3741\n",
      "Epoch 51/100\n",
      "1/1 [==============================] - 0s 173ms/step - loss: 0.0031 - val_loss: 865.4777\n",
      "Epoch 52/100\n",
      "1/1 [==============================] - 0s 171ms/step - loss: 0.0064 - val_loss: 798.6261\n",
      "Epoch 53/100\n",
      "1/1 [==============================] - 0s 173ms/step - loss: 0.0045 - val_loss: 734.4721\n",
      "Epoch 54/100\n",
      "1/1 [==============================] - 0s 165ms/step - loss: 0.0035 - val_loss: 676.8346\n",
      "Epoch 55/100\n",
      "1/1 [==============================] - 0s 166ms/step - loss: 0.0050 - val_loss: 625.5084\n",
      "Epoch 56/100\n",
      "1/1 [==============================] - 0s 195ms/step - loss: 0.0020 - val_loss: 575.9713\n",
      "Epoch 57/100\n",
      "1/1 [==============================] - 0s 200ms/step - loss: 0.0037 - val_loss: 525.9434\n",
      "Epoch 58/100\n",
      "1/1 [==============================] - 0s 156ms/step - loss: 0.0021 - val_loss: 478.3318\n",
      "Epoch 59/100\n",
      "1/1 [==============================] - 0s 154ms/step - loss: 0.0022 - val_loss: 436.2463\n",
      "Epoch 60/100\n",
      "1/1 [==============================] - 0s 154ms/step - loss: 0.0032 - val_loss: 399.5562\n",
      "Epoch 61/100\n",
      "1/1 [==============================] - 0s 197ms/step - loss: 0.0016 - val_loss: 366.5509\n",
      "Epoch 62/100\n",
      "1/1 [==============================] - 0s 156ms/step - loss: 0.0024 - val_loss: 336.3412\n",
      "Epoch 63/100\n",
      "1/1 [==============================] - 0s 156ms/step - loss: 9.2645e-04 - val_loss: 309.7646\n",
      "Epoch 64/100\n",
      "1/1 [==============================] - 0s 156ms/step - loss: 0.0015 - val_loss: 287.1115\n",
      "Epoch 65/100\n",
      "1/1 [==============================] - 0s 169ms/step - loss: 0.0016 - val_loss: 266.5512\n",
      "Epoch 66/100\n",
      "1/1 [==============================] - 0s 153ms/step - loss: 9.4445e-04 - val_loss: 246.1920\n",
      "Epoch 67/100\n",
      "1/1 [==============================] - 0s 160ms/step - loss: 0.0013 - val_loss: 226.0093\n",
      "Epoch 68/100\n",
      "1/1 [==============================] - 0s 153ms/step - loss: 6.6989e-04 - val_loss: 207.5588\n",
      "Epoch 69/100\n",
      "1/1 [==============================] - 0s 155ms/step - loss: 0.0014 - val_loss: 191.7996\n",
      "Epoch 70/100\n",
      "1/1 [==============================] - 0s 207ms/step - loss: 4.3678e-04 - val_loss: 178.1021\n",
      "Epoch 71/100\n",
      "1/1 [==============================] - 0s 158ms/step - loss: 6.6986e-04 - val_loss: 165.4456\n",
      "Epoch 72/100\n",
      "1/1 [==============================] - 0s 154ms/step - loss: 9.1060e-04 - val_loss: 153.6445\n",
      "Epoch 73/100\n",
      "1/1 [==============================] - 0s 169ms/step - loss: 5.1720e-04 - val_loss: 143.1302\n",
      "Epoch 74/100\n",
      "1/1 [==============================] - 0s 153ms/step - loss: 6.6080e-04 - val_loss: 133.9777\n",
      "Epoch 75/100\n",
      "1/1 [==============================] - 0s 186ms/step - loss: 2.7553e-04 - val_loss: 125.7041\n",
      "Epoch 76/100\n",
      "1/1 [==============================] - 0s 170ms/step - loss: 6.6925e-04 - val_loss: 117.9136\n",
      "Epoch 77/100\n",
      "1/1 [==============================] - 0s 156ms/step - loss: 2.3638e-04 - val_loss: 110.5456\n",
      "Epoch 78/100\n",
      "1/1 [==============================] - 0s 155ms/step - loss: 4.0560e-04 - val_loss: 103.5767\n",
      "Epoch 79/100\n",
      "1/1 [==============================] - 0s 172ms/step - loss: 3.4555e-04 - val_loss: 97.0008\n",
      "Epoch 80/100\n"
     ]
    },
    {
     "name": "stdout",
     "output_type": "stream",
     "text": [
      "1/1 [==============================] - 0s 155ms/step - loss: 2.6626e-04 - val_loss: 90.9239\n",
      "Epoch 81/100\n",
      "1/1 [==============================] - 0s 157ms/step - loss: 2.9598e-04 - val_loss: 85.5194\n",
      "Epoch 82/100\n",
      "1/1 [==============================] - 0s 155ms/step - loss: 2.0029e-04 - val_loss: 80.8205\n",
      "Epoch 83/100\n",
      "1/1 [==============================] - 0s 154ms/step - loss: 3.2085e-04 - val_loss: 76.7141\n",
      "Epoch 84/100\n",
      "1/1 [==============================] - 0s 153ms/step - loss: 1.0271e-04 - val_loss: 73.0366\n",
      "Epoch 85/100\n",
      "1/1 [==============================] - 0s 155ms/step - loss: 2.4009e-04 - val_loss: 69.4356\n",
      "Epoch 86/100\n",
      "1/1 [==============================] - 0s 160ms/step - loss: 1.1276e-04 - val_loss: 65.9384\n",
      "Epoch 87/100\n",
      "1/1 [==============================] - 0s 157ms/step - loss: 2.1294e-04 - val_loss: 62.6577\n",
      "Epoch 88/100\n",
      "1/1 [==============================] - 0s 213ms/step - loss: 1.0284e-04 - val_loss: 59.5883\n",
      "Epoch 89/100\n",
      "1/1 [==============================] - 0s 182ms/step - loss: 1.3918e-04 - val_loss: 56.7857\n",
      "Epoch 90/100\n",
      "1/1 [==============================] - 0s 175ms/step - loss: 8.4876e-05 - val_loss: 54.2092\n",
      "Epoch 91/100\n",
      "1/1 [==============================] - 0s 177ms/step - loss: 9.7176e-05 - val_loss: 51.7544\n",
      "Epoch 92/100\n",
      "1/1 [==============================] - 0s 192ms/step - loss: 9.2584e-05 - val_loss: 49.4070\n",
      "Epoch 93/100\n",
      "1/1 [==============================] - 0s 164ms/step - loss: 8.3955e-05 - val_loss: 47.1912\n",
      "Epoch 94/100\n",
      "1/1 [==============================] - 0s 158ms/step - loss: 9.8946e-05 - val_loss: 45.1791\n",
      "Epoch 95/100\n",
      "1/1 [==============================] - 0s 154ms/step - loss: 2.8276e-05 - val_loss: 43.3052\n",
      "Epoch 96/100\n",
      "1/1 [==============================] - 0s 163ms/step - loss: 7.2373e-05 - val_loss: 41.5389\n",
      "Epoch 97/100\n",
      "1/1 [==============================] - 0s 159ms/step - loss: 4.3653e-05 - val_loss: 39.8879\n",
      "Epoch 98/100\n",
      "1/1 [==============================] - 0s 162ms/step - loss: 7.4747e-05 - val_loss: 38.3414\n",
      "Epoch 99/100\n",
      "1/1 [==============================] - 0s 158ms/step - loss: 1.8192e-05 - val_loss: 36.8831\n",
      "Epoch 100/100\n",
      "1/1 [==============================] - 0s 155ms/step - loss: 5.6207e-05 - val_loss: 35.4782\n"
     ]
    },
    {
     "data": {
      "text/plain": [
       "<tensorflow.python.keras.callbacks.History at 0x7fd56864b8e0>"
      ]
     },
     "execution_count": 13,
     "metadata": {},
     "output_type": "execute_result"
    }
   ],
   "source": [
    "logger = CSVLogger(store_path + \"/log\")\n",
    "\n",
    "callbacks = [logger]\n",
    "\n",
    "model.compile(optimizer='adam', loss = custom_loss)\n",
    "model.fit(X_train, y_train, validation_data=(X_train, y_train), callbacks=callbacks, batch_size=1, epochs=100)"
   ]
  },
  {
   "cell_type": "code",
   "execution_count": 14,
   "metadata": {},
   "outputs": [],
   "source": [
    "model.save_weights(store_path + \"/weights.hdf5\")"
   ]
  },
  {
   "cell_type": "code",
   "execution_count": 15,
   "metadata": {
    "scrolled": true
   },
   "outputs": [
    {
     "data": {
      "image/png": "[encoded data removed]",
      "text/plain": [
       "<Figure size 432x288 with 1 Axes>"
      ]
     },
     "metadata": {
      "needs_background": "light"
     },
     "output_type": "display_data"
    }
   ],
   "source": [
    "y_pred = model.predict(X_train)\n",
    "\n",
    "u_x = y_pred[0,:,:,0]\n",
    "u_y = y_pred[0,:,:,1]\n",
    "\n",
    "plt.imshow(y_pred[0,:,:,0], cmap=\"gray\")\n",
    "\n",
    "plt.imsave(store_path + \"/u_x.png\", u_x, cmap=\"gray\")\n",
    "plt.imsave(store_path + \"/u_y.png\", u_y, cmap=\"gray\")\n",
    "\n",
    "u_x.dump(store_path + \"/u_x\")\n",
    "u_y.dump(store_path + \"/u_y\")"
   ]
  },
  {
   "cell_type": "code",
   "execution_count": 16,
   "metadata": {},
   "outputs": [],
   "source": [
    "def plot_cube(img, x, y, val):\n",
    "    \n",
    "    img[y][x] = val\n",
    "    img[y][x-1] = val\n",
    "    img[y][x+1] = val\n",
    "    img[y-1][x] = val\n",
    "    img[y-1][x-1] = val\n",
    "    img[y-1][x+1] = val\n",
    "    img[y+1][x] = val\n",
    "    img[y+1][x-1] = val\n",
    "    img[y+1][x+1] = val  "
   ]
  },
  {
   "cell_type": "code",
   "execution_count": 17,
   "metadata": {},
   "outputs": [
    {
     "data": {
      "image/png": "[encoded data removed]",
      "text/plain": [
       "<Figure size 432x288 with 1 Axes>"
      ]
     },
     "metadata": {
      "needs_background": "light"
     },
     "output_type": "display_data"
    }
   ],
   "source": [
    "warp = np.zeros((width, height))\n",
    "\n",
    "for index in range(0,25):\n",
    "    x = moving_data[str(index)][0]\n",
    "    y = moving_data[str(index)][1]\n",
    "    \n",
    "    plot_cube(warp, x, y, 1) #blue\n",
    "    \n",
    "    ux_field = y_pred[0,:,:,0]\n",
    "    uy_field = y_pred[0,:,:,1]\n",
    "    \n",
    "    ux = ux_field[y][x]\n",
    "    uy = uy_field[y][x]\n",
    "    \n",
    "    x = int(round(x + ux))\n",
    "    y = int(round(y + uy))\n",
    "            \n",
    "    plot_cube(warp, x, y, 2) #green    \n",
    "    \n",
    "    x = fixed_data[str(index)][0]\n",
    "    y = fixed_data[str(index)][1]\n",
    "    \n",
    "    plot_cube(warp, x, y, 3) #yellow    \n",
    "    \n",
    "plt.imshow(warp)\n",
    "plt.imsave(store_path + \"/warp.png\", warp)"
   ]
  }
 ],
 "metadata": {
  "kernelspec": {
   "display_name": "Python 3",
   "language": "python",
   "name": "python3"
  },
  "language_info": {
   "codemirror_mode": {
    "name": "ipython",
    "version": 3
   },
   "file_extension": ".py",
   "mimetype": "text/x-python",
   "name": "python",
   "nbconvert_exporter": "python",
   "pygments_lexer": "ipython3",
   "version": "3.8.2"
  }
 },
 "nbformat": 4,
 "nbformat_minor": 4
}

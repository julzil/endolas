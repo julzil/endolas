{
 "cells": [
  {
   "cell_type": "markdown",
   "metadata": {},
   "source": [
    "# Import statements\n",
    "Following packages are necessary:"
   ]
  },
  {
   "cell_type": "code",
   "execution_count": 1,
   "metadata": {
    "scrolled": true
   },
   "outputs": [],
   "source": [
    "import random\n",
    "import utils\n",
    "import os\n",
    "import imageio\n",
    "import json\n",
    "from simplegen import SIMPLESequence\n",
    "\n",
    "import tensorflow as tf\n",
    "import numpy as np\n",
    "import tensorflow.keras.backend as kb\n",
    "from tensorflow.keras.callbacks import CSVLogger, ModelCheckpoint\n",
    "\n",
    "from unet import UNet\n",
    "from unet import preprocess_input as pre_une\n",
    "\n",
    "from matplotlib import pyplot as plt"
   ]
  },
  {
   "cell_type": "markdown",
   "metadata": {
    "pycharm": {
     "name": "#%% md\n"
    }
   },
   "source": [
    "# Checks\n",
    "The version of tensorflow as well as the GPU support are checked."
   ]
  },
  {
   "cell_type": "code",
   "execution_count": 2,
   "metadata": {
    "pycharm": {
     "name": "#%%\n"
    },
    "scrolled": false
   },
   "outputs": [
    {
     "name": "stdout",
     "output_type": "stream",
     "text": [
      "2.0.0\n"
     ]
    },
    {
     "data": {
      "text/plain": [
       "[PhysicalDevice(name='/physical_device:GPU:0', device_type='GPU')]"
      ]
     },
     "execution_count": 2,
     "metadata": {},
     "output_type": "execute_result"
    }
   ],
   "source": [
    "print(tf.__version__)\n",
    "physical_devices = tf.config.experimental.list_physical_devices('GPU')\n",
    "tf.config.experimental.set_memory_growth(physical_devices[0], True)\n",
    "tf.config.experimental.get_visible_devices('GPU')"
   ]
  },
  {
   "cell_type": "markdown",
   "metadata": {},
   "source": [
    "# Functionality\n",
    "Necessary funcionality is added here"
   ]
  },
  {
   "cell_type": "code",
   "execution_count": 3,
   "metadata": {},
   "outputs": [],
   "source": [
    "def plot_cube(img, x, y, val):\n",
    "    \n",
    "    img[y][x] = val\n",
    "    img[y][x-1] = val\n",
    "    img[y][x+1] = val\n",
    "    img[y-1][x] = val\n",
    "    img[y-1][x-1] = val\n",
    "    img[y-1][x+1] = val\n",
    "    img[y+1][x] = val\n",
    "    img[y+1][x-1] = val\n",
    "    img[y+1][x+1] = val  "
   ]
  },
  {
   "cell_type": "markdown",
   "metadata": {},
   "source": [
    "# 6.7) Supervised Euclidean for SIMPLED with mean absolute error\n",
    "A U-Net is trained here to predict a displacement field and the euclidean distance is taken as error."
   ]
  },
  {
   "cell_type": "markdown",
   "metadata": {
    "pycharm": {
     "name": "#%% md\n"
    }
   },
   "source": [
    "# Data\n",
    "Import training images"
   ]
  },
  {
   "cell_type": "code",
   "execution_count": 4,
   "metadata": {
    "pycharm": {
     "name": "#%%\n"
    }
   },
   "outputs": [],
   "source": [
    "store_path = 'experiments/6_7_euclidean'\n",
    "\n",
    "path_fixed = r'D:\\Julian\\data\\SIMPLED\\train\\0_f.json'\n",
    "path_train = r'D:\\Julian\\data\\SIMPLED\\train'\n",
    "path_validation = r'D:\\Julian\\data\\SIMPLED\\validation'\n",
    "path_test = r'D:\\Julian\\data\\SIMPLED\\test'\n",
    "\n",
    "width = 224\n",
    "height = 224"
   ]
  },
  {
   "cell_type": "markdown",
   "metadata": {
    "pycharm": {
     "name": "#%% md\n"
    }
   },
   "source": [
    "# Seeding\n",
    "Seeds are set to ensure reproducible training."
   ]
  },
  {
   "cell_type": "code",
   "execution_count": 5,
   "metadata": {
    "pycharm": {
     "name": "#%%\n"
    }
   },
   "outputs": [],
   "source": [
    "SEED = 42\n",
    "np.random.seed(SEED)\n",
    "tf.random.set_seed(SEED)\n",
    "random.seed(SEED)"
   ]
  },
  {
   "cell_type": "markdown",
   "metadata": {
    "pycharm": {
     "name": "#%% md\n"
    }
   },
   "source": [
    "# Network\n",
    "A U-Net based network is instantiated with keras to run a semantic segmentation."
   ]
  },
  {
   "cell_type": "code",
   "execution_count": 6,
   "metadata": {
    "pycharm": {
     "name": "#%%\n"
    }
   },
   "outputs": [],
   "source": [
    "model = UNet(filters=32, layers=4, activation='linear', classes=2, input_shape=(224, 224, 1))"
   ]
  },
  {
   "cell_type": "markdown",
   "metadata": {
    "pycharm": {
     "name": "#%% md\n"
    }
   },
   "source": [
    "# Training Preparation\n",
    "Prepare the settings for training the model."
   ]
  },
  {
   "cell_type": "code",
   "execution_count": 7,
   "metadata": {
    "scrolled": true
   },
   "outputs": [
    {
     "name": "stdout",
     "output_type": "stream",
     "text": [
      "WARNING:tensorflow:`period` argument is deprecated. Please use `save_freq` to specify the frequency in number of samples seen.\n"
     ]
    }
   ],
   "source": [
    "train_gen = SIMPLESequence(path_train, path_fixed,\n",
    "                           batch_size=4,\n",
    "                           preprocess_input=pre_une,\n",
    "                           shuffle=True)\n",
    "\n",
    "validation_gen = SIMPLESequence(path_validation, path_fixed,\n",
    "                                batch_size=4,\n",
    "                                preprocess_input=pre_une)\n",
    "\n",
    "logger = CSVLogger(store_path + \"/log\")\n",
    "checker = ModelCheckpoint(store_path + \"/weights.{epoch:02d}.hdf5\",\n",
    "                          period=10)\n",
    "callbacks = [logger, checker]\n",
    "\n",
    "model.compile(optimizer='adam', loss = utils.maed_loss, metrics=[utils.msed_loss])"
   ]
  },
  {
   "cell_type": "markdown",
   "metadata": {},
   "source": [
    "# Training\n",
    "Run the training."
   ]
  },
  {
   "cell_type": "code",
   "execution_count": 8,
   "metadata": {
    "pycharm": {
     "name": "#%%\n"
    },
    "scrolled": true
   },
   "outputs": [
    {
     "name": "stdout",
     "output_type": "stream",
     "text": [
      "Train for 840 steps, validate for 180 steps\n",
      "Epoch 1/100\n"
     ]
    },
    {
     "name": "stderr",
     "output_type": "stream",
     "text": [
      "C:\\Users\\zilkerjn\\AppData\\Local\\Continuum\\anaconda3\\envs\\glotax\\lib\\site-packages\\tensorflow_core\\python\\framework\\indexed_slices.py:424: UserWarning: Converting sparse IndexedSlices to a dense Tensor of unknown shape. This may consume a large amount of memory.\n",
      "  \"Converting sparse IndexedSlices to a dense Tensor of unknown shape. \"\n",
      "C:\\Users\\zilkerjn\\AppData\\Local\\Continuum\\anaconda3\\envs\\glotax\\lib\\site-packages\\tensorflow_core\\python\\framework\\indexed_slices.py:424: UserWarning: Converting sparse IndexedSlices to a dense Tensor of unknown shape. This may consume a large amount of memory.\n",
      "  \"Converting sparse IndexedSlices to a dense Tensor of unknown shape. \"\n",
      "C:\\Users\\zilkerjn\\AppData\\Local\\Continuum\\anaconda3\\envs\\glotax\\lib\\site-packages\\tensorflow_core\\python\\framework\\indexed_slices.py:424: UserWarning: Converting sparse IndexedSlices to a dense Tensor of unknown shape. This may consume a large amount of memory.\n",
      "  \"Converting sparse IndexedSlices to a dense Tensor of unknown shape. \"\n",
      "C:\\Users\\zilkerjn\\AppData\\Local\\Continuum\\anaconda3\\envs\\glotax\\lib\\site-packages\\tensorflow_core\\python\\framework\\indexed_slices.py:424: UserWarning: Converting sparse IndexedSlices to a dense Tensor of unknown shape. This may consume a large amount of memory.\n",
      "  \"Converting sparse IndexedSlices to a dense Tensor of unknown shape. \"\n",
      "C:\\Users\\zilkerjn\\AppData\\Local\\Continuum\\anaconda3\\envs\\glotax\\lib\\site-packages\\tensorflow_core\\python\\framework\\indexed_slices.py:424: UserWarning: Converting sparse IndexedSlices to a dense Tensor of unknown shape. This may consume a large amount of memory.\n",
      "  \"Converting sparse IndexedSlices to a dense Tensor of unknown shape. \"\n",
      "C:\\Users\\zilkerjn\\AppData\\Local\\Continuum\\anaconda3\\envs\\glotax\\lib\\site-packages\\tensorflow_core\\python\\framework\\indexed_slices.py:424: UserWarning: Converting sparse IndexedSlices to a dense Tensor of unknown shape. This may consume a large amount of memory.\n",
      "  \"Converting sparse IndexedSlices to a dense Tensor of unknown shape. \"\n",
      "C:\\Users\\zilkerjn\\AppData\\Local\\Continuum\\anaconda3\\envs\\glotax\\lib\\site-packages\\tensorflow_core\\python\\framework\\indexed_slices.py:424: UserWarning: Converting sparse IndexedSlices to a dense Tensor of unknown shape. This may consume a large amount of memory.\n",
      "  \"Converting sparse IndexedSlices to a dense Tensor of unknown shape. \"\n",
      "C:\\Users\\zilkerjn\\AppData\\Local\\Continuum\\anaconda3\\envs\\glotax\\lib\\site-packages\\tensorflow_core\\python\\framework\\indexed_slices.py:424: UserWarning: Converting sparse IndexedSlices to a dense Tensor of unknown shape. This may consume a large amount of memory.\n",
      "  \"Converting sparse IndexedSlices to a dense Tensor of unknown shape. \"\n",
      "C:\\Users\\zilkerjn\\AppData\\Local\\Continuum\\anaconda3\\envs\\glotax\\lib\\site-packages\\tensorflow_core\\python\\framework\\indexed_slices.py:424: UserWarning: Converting sparse IndexedSlices to a dense Tensor of unknown shape. This may consume a large amount of memory.\n",
      "  \"Converting sparse IndexedSlices to a dense Tensor of unknown shape. \"\n",
      "C:\\Users\\zilkerjn\\AppData\\Local\\Continuum\\anaconda3\\envs\\glotax\\lib\\site-packages\\tensorflow_core\\python\\framework\\indexed_slices.py:424: UserWarning: Converting sparse IndexedSlices to a dense Tensor of unknown shape. This may consume a large amount of memory.\n",
      "  \"Converting sparse IndexedSlices to a dense Tensor of unknown shape. \"\n",
      "C:\\Users\\zilkerjn\\AppData\\Local\\Continuum\\anaconda3\\envs\\glotax\\lib\\site-packages\\tensorflow_core\\python\\framework\\indexed_slices.py:424: UserWarning: Converting sparse IndexedSlices to a dense Tensor of unknown shape. This may consume a large amount of memory.\n",
      "  \"Converting sparse IndexedSlices to a dense Tensor of unknown shape. \"\n",
      "C:\\Users\\zilkerjn\\AppData\\Local\\Continuum\\anaconda3\\envs\\glotax\\lib\\site-packages\\tensorflow_core\\python\\framework\\indexed_slices.py:424: UserWarning: Converting sparse IndexedSlices to a dense Tensor of unknown shape. This may consume a large amount of memory.\n",
      "  \"Converting sparse IndexedSlices to a dense Tensor of unknown shape. \"\n"
     ]
    },
    {
     "name": "stdout",
     "output_type": "stream",
     "text": [
      "840/840 [==============================] - 72s 85ms/step - loss: 22.1578 - msed_loss: 802.7303 - val_loss: 19.0015 - val_msed_loss: 625.3784\n",
      "Epoch 2/100\n",
      "840/840 [==============================] - 59s 71ms/step - loss: 19.0666 - msed_loss: 620.2186 - val_loss: 18.6294 - val_msed_loss: 608.8632\n",
      "Epoch 3/100\n",
      "840/840 [==============================] - 61s 72ms/step - loss: 18.8076 - msed_loss: 607.3517 - val_loss: 18.8699 - val_msed_loss: 617.7592\n",
      "Epoch 4/100\n",
      "840/840 [==============================] - 63s 74ms/step - loss: 18.0962 - msed_loss: 566.2931 - val_loss: 33.6484 - val_msed_loss: 1554.4106\n",
      "Epoch 5/100\n",
      "840/840 [==============================] - 62s 73ms/step - loss: 11.4744 - msed_loss: 238.0677 - val_loss: 8.1481 - val_msed_loss: 120.9752\n",
      "Epoch 6/100\n",
      "840/840 [==============================] - 62s 73ms/step - loss: 6.8696 - msed_loss: 83.8668 - val_loss: 6.4025 - val_msed_loss: 80.8529\n",
      "Epoch 7/100\n",
      "840/840 [==============================] - 62s 74ms/step - loss: 5.6748 - msed_loss: 59.8781 - val_loss: 5.7391 - val_msed_loss: 65.6579\n",
      "Epoch 8/100\n",
      "840/840 [==============================] - 60s 72ms/step - loss: 5.0927 - msed_loss: 49.5644 - val_loss: 5.1569 - val_msed_loss: 51.9331\n",
      "Epoch 9/100\n",
      "840/840 [==============================] - 62s 74ms/step - loss: 4.7260 - msed_loss: 43.6226 - val_loss: 4.8963 - val_msed_loss: 49.4583\n",
      "Epoch 10/100\n",
      "840/840 [==============================] - 62s 74ms/step - loss: 4.2935 - msed_loss: 37.1279 - val_loss: 5.0143 - val_msed_loss: 52.6610\n",
      "Epoch 11/100\n",
      "840/840 [==============================] - 63s 75ms/step - loss: 3.9755 - msed_loss: 32.6302 - val_loss: 4.4961 - val_msed_loss: 44.6132\n",
      "Epoch 12/100\n",
      "840/840 [==============================] - 62s 73ms/step - loss: 3.7382 - msed_loss: 29.2966 - val_loss: 4.6416 - val_msed_loss: 45.1585\n",
      "Epoch 13/100\n",
      "840/840 [==============================] - 63s 75ms/step - loss: 3.4760 - msed_loss: 25.9096 - val_loss: 4.1369 - val_msed_loss: 38.4159\n",
      "Epoch 14/100\n",
      "840/840 [==============================] - 64s 76ms/step - loss: 3.2370 - msed_loss: 22.9382 - val_loss: 3.8045 - val_msed_loss: 32.5294\n",
      "Epoch 15/100\n",
      "840/840 [==============================] - 64s 76ms/step - loss: 2.9885 - msed_loss: 20.0654 - val_loss: 3.6334 - val_msed_loss: 32.7217\n",
      "Epoch 16/100\n",
      "840/840 [==============================] - 61s 73ms/step - loss: 2.8462 - msed_loss: 18.3286 - val_loss: 3.7476 - val_msed_loss: 32.5231\n",
      "Epoch 17/100\n",
      "840/840 [==============================] - 61s 73ms/step - loss: 2.6835 - msed_loss: 16.3367 - val_loss: 3.4372 - val_msed_loss: 31.0988\n",
      "Epoch 18/100\n",
      "840/840 [==============================] - 62s 73ms/step - loss: 2.4986 - msed_loss: 14.3662 - val_loss: 6.4123 - val_msed_loss: 103.4665\n",
      "Epoch 19/100\n",
      "840/840 [==============================] - 61s 72ms/step - loss: 2.3665 - msed_loss: 12.9363 - val_loss: 3.0704 - val_msed_loss: 27.7184\n",
      "Epoch 20/100\n",
      "840/840 [==============================] - 63s 75ms/step - loss: 2.2610 - msed_loss: 12.0141 - val_loss: 3.3254 - val_msed_loss: 30.7962\n",
      "Epoch 21/100\n",
      "840/840 [==============================] - 62s 73ms/step - loss: 2.1194 - msed_loss: 10.6164 - val_loss: 3.1727 - val_msed_loss: 27.7341\n",
      "Epoch 22/100\n",
      "840/840 [==============================] - 64s 76ms/step - loss: 1.9811 - msed_loss: 9.2097 - val_loss: 3.1023 - val_msed_loss: 28.4661\n",
      "Epoch 23/100\n",
      "840/840 [==============================] - 64s 76ms/step - loss: 1.8839 - msed_loss: 8.4557 - val_loss: 3.0256 - val_msed_loss: 28.7684\n",
      "Epoch 24/100\n",
      "840/840 [==============================] - 61s 72ms/step - loss: 1.8058 - msed_loss: 7.7643 - val_loss: 2.8699 - val_msed_loss: 25.6295\n",
      "Epoch 25/100\n",
      "840/840 [==============================] - 63s 75ms/step - loss: 1.7074 - msed_loss: 6.9829 - val_loss: 3.0663 - val_msed_loss: 28.3692\n",
      "Epoch 26/100\n",
      "840/840 [==============================] - 60s 71ms/step - loss: 1.6407 - msed_loss: 6.5023 - val_loss: 2.9017 - val_msed_loss: 28.2760\n",
      "Epoch 27/100\n",
      "840/840 [==============================] - 61s 73ms/step - loss: 1.5565 - msed_loss: 5.8903 - val_loss: 2.7325 - val_msed_loss: 24.9685\n",
      "Epoch 28/100\n",
      "840/840 [==============================] - 61s 73ms/step - loss: 1.4717 - msed_loss: 5.2855 - val_loss: 2.8400 - val_msed_loss: 26.2647\n",
      "Epoch 29/100\n",
      "840/840 [==============================] - 60s 71ms/step - loss: 1.4640 - msed_loss: 5.1717 - val_loss: 2.6964 - val_msed_loss: 25.7750\n",
      "Epoch 30/100\n",
      "840/840 [==============================] - 59s 70ms/step - loss: 1.3667 - msed_loss: 4.5603 - val_loss: 2.6440 - val_msed_loss: 25.5046\n",
      "Epoch 31/100\n",
      "840/840 [==============================] - 61s 73ms/step - loss: 1.2816 - msed_loss: 4.1205 - val_loss: 2.8428 - val_msed_loss: 26.5078\n",
      "Epoch 32/100\n",
      "840/840 [==============================] - 60s 72ms/step - loss: 1.2611 - msed_loss: 3.8929 - val_loss: 2.8633 - val_msed_loss: 28.8505\n",
      "Epoch 33/100\n",
      "840/840 [==============================] - 59s 70ms/step - loss: 1.2192 - msed_loss: 3.6696 - val_loss: 2.6942 - val_msed_loss: 27.1053\n",
      "Epoch 34/100\n",
      "840/840 [==============================] - 60s 71ms/step - loss: 1.2206 - msed_loss: 3.8430 - val_loss: 2.7952 - val_msed_loss: 28.3043\n",
      "Epoch 35/100\n",
      "840/840 [==============================] - 60s 72ms/step - loss: 1.1364 - msed_loss: 3.2747 - val_loss: 2.5199 - val_msed_loss: 26.0186\n",
      "Epoch 36/100\n",
      "840/840 [==============================] - 60s 71ms/step - loss: 1.0942 - msed_loss: 2.9889 - val_loss: 2.5439 - val_msed_loss: 25.1465\n",
      "Epoch 37/100\n",
      "840/840 [==============================] - 60s 71ms/step - loss: 1.0233 - msed_loss: 2.7653 - val_loss: 2.5032 - val_msed_loss: 25.9359\n",
      "Epoch 38/100\n",
      "840/840 [==============================] - 60s 71ms/step - loss: 1.0250 - msed_loss: 2.6746 - val_loss: 2.4718 - val_msed_loss: 26.0739\n",
      "Epoch 39/100\n",
      "840/840 [==============================] - 59s 71ms/step - loss: 0.9980 - msed_loss: 2.5108 - val_loss: 2.5078 - val_msed_loss: 26.4599\n",
      "Epoch 40/100\n",
      "840/840 [==============================] - 61s 72ms/step - loss: 0.9543 - msed_loss: 2.3376 - val_loss: 2.4482 - val_msed_loss: 25.0003\n",
      "Epoch 41/100\n",
      "840/840 [==============================] - 59s 71ms/step - loss: 0.9621 - msed_loss: 2.4518 - val_loss: 2.3833 - val_msed_loss: 23.7496\n",
      "Epoch 42/100\n",
      "840/840 [==============================] - 60s 71ms/step - loss: 0.8992 - msed_loss: 2.0422 - val_loss: 2.4288 - val_msed_loss: 25.3581\n",
      "Epoch 43/100\n",
      "840/840 [==============================] - 60s 71ms/step - loss: 0.8919 - msed_loss: 2.0707 - val_loss: 2.5193 - val_msed_loss: 26.8125\n",
      "Epoch 44/100\n",
      "840/840 [==============================] - 59s 71ms/step - loss: 0.8659 - msed_loss: 1.8884 - val_loss: 2.4616 - val_msed_loss: 26.4301\n",
      "Epoch 45/100\n",
      "840/840 [==============================] - 61s 72ms/step - loss: 0.8318 - msed_loss: 1.7563 - val_loss: 2.2630 - val_msed_loss: 23.6501\n",
      "Epoch 46/100\n",
      "840/840 [==============================] - 60s 71ms/step - loss: 0.8109 - msed_loss: 1.7220 - val_loss: 2.3852 - val_msed_loss: 25.5554\n",
      "Epoch 47/100\n",
      "840/840 [==============================] - 60s 72ms/step - loss: 0.8173 - msed_loss: 1.7191 - val_loss: 2.3339 - val_msed_loss: 25.6496\n",
      "Epoch 48/100\n",
      "840/840 [==============================] - 59s 70ms/step - loss: 0.7935 - msed_loss: 1.7167 - val_loss: 2.3453 - val_msed_loss: 25.3468\n",
      "Epoch 49/100\n",
      "840/840 [==============================] - 59s 70ms/step - loss: 0.7547 - msed_loss: 1.4313 - val_loss: 2.2152 - val_msed_loss: 23.5059\n",
      "Epoch 50/100\n",
      "840/840 [==============================] - 60s 72ms/step - loss: 0.7227 - msed_loss: 1.3539 - val_loss: 2.2479 - val_msed_loss: 24.3253\n",
      "Epoch 51/100\n",
      "840/840 [==============================] - 59s 70ms/step - loss: 0.7652 - msed_loss: 1.7576 - val_loss: 2.2857 - val_msed_loss: 24.7252\n",
      "Epoch 52/100\n",
      "840/840 [==============================] - 59s 71ms/step - loss: 0.6930 - msed_loss: 1.2915 - val_loss: 2.2796 - val_msed_loss: 24.7833\n",
      "Epoch 53/100\n",
      "840/840 [==============================] - 59s 70ms/step - loss: 0.6846 - msed_loss: 1.2938 - val_loss: 2.2704 - val_msed_loss: 24.8961\n",
      "Epoch 54/100\n",
      "840/840 [==============================] - 58s 69ms/step - loss: 0.6523 - msed_loss: 1.0643 - val_loss: 2.2949 - val_msed_loss: 25.3049\n",
      "Epoch 55/100\n",
      "840/840 [==============================] - 61s 73ms/step - loss: 0.6789 - msed_loss: 1.3134 - val_loss: 2.3253 - val_msed_loss: 26.3374\n"
     ]
    },
    {
     "name": "stdout",
     "output_type": "stream",
     "text": [
      "Epoch 56/100\n",
      "840/840 [==============================] - 60s 72ms/step - loss: 0.6393 - msed_loss: 1.0767 - val_loss: 2.2199 - val_msed_loss: 24.9587\n",
      "Epoch 57/100\n",
      "840/840 [==============================] - 60s 71ms/step - loss: 0.6336 - msed_loss: 1.0948 - val_loss: 2.2767 - val_msed_loss: 24.9610\n",
      "Epoch 58/100\n",
      "840/840 [==============================] - 60s 71ms/step - loss: 0.6367 - msed_loss: 1.0299 - val_loss: 2.1362 - val_msed_loss: 24.5196\n",
      "Epoch 59/100\n",
      "840/840 [==============================] - 61s 72ms/step - loss: 0.6231 - msed_loss: 0.9529 - val_loss: 2.2220 - val_msed_loss: 26.1294\n",
      "Epoch 60/100\n",
      "840/840 [==============================] - 60s 72ms/step - loss: 0.6155 - msed_loss: 0.9658 - val_loss: 2.1601 - val_msed_loss: 25.3092\n",
      "Epoch 61/100\n",
      "840/840 [==============================] - 59s 71ms/step - loss: 0.5988 - msed_loss: 0.9663 - val_loss: 2.3024 - val_msed_loss: 26.2694\n",
      "Epoch 62/100\n",
      "840/840 [==============================] - 60s 71ms/step - loss: 0.5787 - msed_loss: 0.9597 - val_loss: 2.2034 - val_msed_loss: 25.8730\n",
      "Epoch 63/100\n",
      "840/840 [==============================] - 60s 72ms/step - loss: 0.5436 - msed_loss: 0.7937 - val_loss: 2.1311 - val_msed_loss: 24.9803\n",
      "Epoch 64/100\n",
      "840/840 [==============================] - 59s 71ms/step - loss: 0.5642 - msed_loss: 0.8041 - val_loss: 2.1619 - val_msed_loss: 25.7488\n",
      "Epoch 65/100\n",
      "840/840 [==============================] - 59s 70ms/step - loss: 0.5972 - msed_loss: 1.0527 - val_loss: 2.2544 - val_msed_loss: 26.7035\n",
      "Epoch 66/100\n",
      "840/840 [==============================] - 60s 71ms/step - loss: 0.5530 - msed_loss: 0.8349 - val_loss: 2.1077 - val_msed_loss: 24.5160\n",
      "Epoch 67/100\n",
      "840/840 [==============================] - 60s 71ms/step - loss: 0.5315 - msed_loss: 0.6958 - val_loss: 2.0484 - val_msed_loss: 23.9912\n",
      "Epoch 68/100\n",
      "840/840 [==============================] - 60s 71ms/step - loss: 0.5232 - msed_loss: 0.7528 - val_loss: 2.2889 - val_msed_loss: 25.6948\n",
      "Epoch 69/100\n",
      "840/840 [==============================] - 62s 74ms/step - loss: 0.5464 - msed_loss: 0.8889 - val_loss: 2.1841 - val_msed_loss: 25.8109\n",
      "Epoch 70/100\n",
      "840/840 [==============================] - 59s 71ms/step - loss: 0.5248 - msed_loss: 0.8683 - val_loss: 2.1728 - val_msed_loss: 26.6406\n",
      "Epoch 71/100\n",
      "840/840 [==============================] - 59s 70ms/step - loss: 0.5422 - msed_loss: 0.8390 - val_loss: 2.1472 - val_msed_loss: 24.8245\n",
      "Epoch 72/100\n",
      "840/840 [==============================] - 59s 70ms/step - loss: 0.5017 - msed_loss: 0.6307 - val_loss: 2.1285 - val_msed_loss: 24.6295\n",
      "Epoch 73/100\n",
      "840/840 [==============================] - 60s 71ms/step - loss: 0.5190 - msed_loss: 0.6697 - val_loss: 2.0925 - val_msed_loss: 25.0791\n",
      "Epoch 74/100\n",
      "840/840 [==============================] - 59s 70ms/step - loss: 0.4939 - msed_loss: 0.6509 - val_loss: 2.2018 - val_msed_loss: 26.9573\n",
      "Epoch 75/100\n",
      "840/840 [==============================] - 59s 70ms/step - loss: 0.5189 - msed_loss: 0.9418 - val_loss: 2.4018 - val_msed_loss: 30.3521\n",
      "Epoch 76/100\n",
      "840/840 [==============================] - 59s 71ms/step - loss: 0.4771 - msed_loss: 0.6180 - val_loss: 2.0515 - val_msed_loss: 24.9414\n",
      "Epoch 77/100\n",
      "840/840 [==============================] - 60s 71ms/step - loss: 0.4583 - msed_loss: 0.4964 - val_loss: 2.1437 - val_msed_loss: 25.2662\n",
      "Epoch 78/100\n",
      "840/840 [==============================] - 59s 71ms/step - loss: 0.4514 - msed_loss: 0.4826 - val_loss: 2.1024 - val_msed_loss: 25.1589\n",
      "Epoch 79/100\n",
      "840/840 [==============================] - 60s 72ms/step - loss: 0.4618 - msed_loss: 0.4916 - val_loss: 2.2075 - val_msed_loss: 27.9825\n",
      "Epoch 80/100\n",
      "840/840 [==============================] - 60s 71ms/step - loss: 0.4572 - msed_loss: 0.6036 - val_loss: 2.1815 - val_msed_loss: 27.8203\n",
      "Epoch 81/100\n",
      "840/840 [==============================] - 60s 71ms/step - loss: 0.4650 - msed_loss: 0.5969 - val_loss: 2.0619 - val_msed_loss: 24.5954\n",
      "Epoch 82/100\n",
      "840/840 [==============================] - 62s 74ms/step - loss: 0.4442 - msed_loss: 0.4768 - val_loss: 2.0894 - val_msed_loss: 25.4187\n",
      "Epoch 83/100\n",
      "840/840 [==============================] - 58s 70ms/step - loss: 0.4439 - msed_loss: 0.4818 - val_loss: 2.0546 - val_msed_loss: 24.9306\n",
      "Epoch 84/100\n",
      "840/840 [==============================] - 60s 72ms/step - loss: 0.4588 - msed_loss: 0.6819 - val_loss: 2.1301 - val_msed_loss: 26.6240\n",
      "Epoch 85/100\n",
      "840/840 [==============================] - 59s 70ms/step - loss: 0.4465 - msed_loss: 0.5674 - val_loss: 2.1437 - val_msed_loss: 25.6818\n",
      "Epoch 86/100\n",
      "840/840 [==============================] - 59s 71ms/step - loss: 0.4218 - msed_loss: 0.4578 - val_loss: 2.1088 - val_msed_loss: 26.1564\n",
      "Epoch 87/100\n",
      "840/840 [==============================] - 59s 70ms/step - loss: 0.4142 - msed_loss: 0.3849 - val_loss: 2.0694 - val_msed_loss: 25.5183\n",
      "Epoch 88/100\n",
      "840/840 [==============================] - 59s 70ms/step - loss: 0.4108 - msed_loss: 0.4261 - val_loss: 2.2632 - val_msed_loss: 27.9893\n",
      "Epoch 89/100\n",
      "840/840 [==============================] - 60s 71ms/step - loss: 0.4493 - msed_loss: 0.7414 - val_loss: 2.1907 - val_msed_loss: 26.9041\n",
      "Epoch 90/100\n",
      "840/840 [==============================] - 61s 73ms/step - loss: 0.4207 - msed_loss: 0.4519 - val_loss: 2.1241 - val_msed_loss: 26.4447\n",
      "Epoch 91/100\n",
      "840/840 [==============================] - 62s 74ms/step - loss: 0.3834 - msed_loss: 0.3413 - val_loss: 2.0085 - val_msed_loss: 25.8609\n",
      "Epoch 92/100\n",
      "840/840 [==============================] - 60s 71ms/step - loss: 0.4124 - msed_loss: 0.4939 - val_loss: 2.1874 - val_msed_loss: 27.0121\n",
      "Epoch 93/100\n",
      "840/840 [==============================] - 60s 72ms/step - loss: 0.4139 - msed_loss: 0.5034 - val_loss: 2.2990 - val_msed_loss: 29.7518\n",
      "Epoch 94/100\n",
      "840/840 [==============================] - 59s 70ms/step - loss: 0.4029 - msed_loss: 0.4674 - val_loss: 2.1370 - val_msed_loss: 26.5204\n",
      "Epoch 95/100\n",
      "840/840 [==============================] - 61s 72ms/step - loss: 0.3990 - msed_loss: 0.3945 - val_loss: 2.1246 - val_msed_loss: 25.4140\n",
      "Epoch 96/100\n",
      "840/840 [==============================] - 60s 71ms/step - loss: 0.4057 - msed_loss: 0.4796 - val_loss: 2.0469 - val_msed_loss: 25.9572\n",
      "Epoch 97/100\n",
      "840/840 [==============================] - 59s 70ms/step - loss: 0.3768 - msed_loss: 0.3545 - val_loss: 2.1127 - val_msed_loss: 26.4388\n",
      "Epoch 98/100\n",
      "840/840 [==============================] - 59s 70ms/step - loss: 0.3796 - msed_loss: 0.3565 - val_loss: 2.1683 - val_msed_loss: 27.6010\n",
      "Epoch 99/100\n",
      "840/840 [==============================] - 60s 71ms/step - loss: 0.3891 - msed_loss: 0.4205 - val_loss: 2.0307 - val_msed_loss: 24.9823\n",
      "Epoch 100/100\n",
      "840/840 [==============================] - 60s 71ms/step - loss: 0.3663 - msed_loss: 0.3253 - val_loss: 2.0406 - val_msed_loss: 25.8422\n"
     ]
    },
    {
     "data": {
      "text/plain": [
       "<tensorflow.python.keras.callbacks.History at 0x1ec001d7388>"
      ]
     },
     "execution_count": 8,
     "metadata": {},
     "output_type": "execute_result"
    }
   ],
   "source": [
    "model.fit(train_gen,\n",
    "          epochs=100,\n",
    "          callbacks=callbacks,\n",
    "          validation_data=validation_gen,\n",
    "          validation_freq=1,\n",
    "          #use_multiprocessing=True,\n",
    "          workers=10,\n",
    "          max_queue_size=32)"
   ]
  },
  {
   "cell_type": "markdown",
   "metadata": {},
   "source": [
    "# Evaluation\n",
    "Evaluate the trained network"
   ]
  },
  {
   "cell_type": "code",
   "execution_count": 9,
   "metadata": {
    "scrolled": true
   },
   "outputs": [
    {
     "data": {
      "image/png": "[encoded data removed]",
      "text/plain": [
       "<Figure size 432x288 with 1 Axes>"
      ]
     },
     "metadata": {
      "needs_background": "light"
     },
     "output_type": "display_data"
    }
   ],
   "source": [
    "X, y = validation_gen[1]\n",
    "\n",
    "y_pred = model.predict(X)\n",
    "\n",
    "u_x = y_pred[0,:,:,0]\n",
    "u_y = y_pred[0,:,:,1]\n",
    "\n",
    "plt.imshow(y_pred[0,:,:,0], cmap=\"gray\")\n",
    "\n",
    "plt.imsave(store_path + \"/u_x.png\", u_x, cmap=\"gray\")\n",
    "plt.imsave(store_path + \"/u_y.png\", u_y, cmap=\"gray\")\n",
    "\n",
    "u_x.dump(store_path + \"/u_x\")\n",
    "u_y.dump(store_path + \"/u_y\")\n",
    "\n",
    "warp = np.zeros((width, height))\n",
    "\n",
    "for index in range(0,25):\n",
    "    x_pos = int(y[0, index, 0, 0])\n",
    "    y_pos = int(y[0, index, 1, 0])\n",
    "    \n",
    "    plot_cube(warp, x_pos, y_pos, 1) #blue\n",
    "    \n",
    "    ux_field = y_pred[0,:,:,0]\n",
    "    uy_field = y_pred[0,:,:,1]\n",
    "    \n",
    "    ux = ux_field[y_pos][x_pos]\n",
    "    uy = uy_field[y_pos][x_pos]\n",
    "    \n",
    "    x_pos = int(round(x_pos + ux))\n",
    "    y_pos = int(round(y_pos + uy))\n",
    "            \n",
    "    plot_cube(warp, x_pos, y_pos, 2) #green    \n",
    "    \n",
    "    x_pos = int(y[0, index, 0, 1])\n",
    "    y_pos = int(y[0, index, 1, 1])\n",
    "    \n",
    "    plot_cube(warp, x_pos, y_pos, 3) #yellow    \n",
    "    \n",
    "plt.imshow(warp)\n",
    "plt.imsave(store_path + \"/warp.png\", warp)"
   ]
  }
 ],
 "metadata": {
  "kernelspec": {
   "display_name": "Python 3",
   "language": "python",
   "name": "python3"
  },
  "language_info": {
   "codemirror_mode": {
    "name": "ipython",
    "version": 3
   },
   "file_extension": ".py",
   "mimetype": "text/x-python",
   "name": "python",
   "nbconvert_exporter": "python",
   "pygments_lexer": "ipython3",
   "version": "3.7.5"
  }
 },
 "nbformat": 4,
 "nbformat_minor": 4
}

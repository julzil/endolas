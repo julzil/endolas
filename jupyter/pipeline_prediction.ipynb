{
 "cells": [
  {
   "cell_type": "markdown",
   "metadata": {},
   "source": [
    "# Pipeline Prediction"
   ]
  },
  {
   "cell_type": "markdown",
   "metadata": {},
   "source": [
    "This notebook shows, how the prediction of x-y-coordinates and a class label can be carried out by using functionality from tne package \"endolas\""
   ]
  },
  {
   "cell_type": "markdown",
   "metadata": {},
   "source": [
    "# Import Statements\n",
    "The notebook was developed on Keras using the Tensorflow 2.2.0 backend."
   ]
  },
  {
   "cell_type": "code",
   "execution_count": null,
   "metadata": {},
   "outputs": [],
   "source": [
    "import endolas # Add to PYTHONPATH\n",
    "from skimage import io\n",
    "from skimage import color\n",
    "import skimage\n",
    "import numpy as np\n",
    "from matplotlib import pyplot as plt\n",
    "import json\n",
    "import imageio"
   ]
  },
  {
   "cell_type": "markdown",
   "metadata": {},
   "source": [
    "# Data"
   ]
  },
  {
   "cell_type": "code",
   "execution_count": null,
   "metadata": {},
   "outputs": [],
   "source": [
    "data_path = '../data/LASTEN/test'\n",
    "fixed_image = '../data/LASTEN/fix.png'"
   ]
  },
  {
   "cell_type": "code",
   "execution_count": null,
   "metadata": {},
   "outputs": [],
   "source": [
    "img_0 = io.imread(data_path+'/200.png')\n",
    "img_1 = io.imread(data_path+'/201.png')\n",
    "img_2 = io.imread(data_path+'/202.png')\n",
    "img_0 = color.rgba2rgb(img_0)\n",
    "img_1 = color.rgba2rgb(img_1)\n",
    "img_2 = color.rgba2rgb(img_2)\n",
    "img_0 = skimage.img_as_ubyte(img_0)[np.newaxis, :, :]\n",
    "img_1 = skimage.img_as_ubyte(img_1)[np.newaxis, :, :]\n",
    "img_2 = skimage.img_as_ubyte(img_2)[np.newaxis, :, :]"
   ]
  },
  {
   "cell_type": "code",
   "execution_count": null,
   "metadata": {},
   "outputs": [],
   "source": [
    "imgs = np.concatenate((img_0, img_1, img_2))"
   ]
  },
  {
   "cell_type": "markdown",
   "metadata": {},
   "source": [
    "# Settings"
   ]
  },
  {
   "cell_type": "code",
   "execution_count": null,
   "metadata": {},
   "outputs": [],
   "source": [
    "grid_width = 18\n",
    "grid_height = 18"
   ]
  },
  {
   "cell_type": "code",
   "execution_count": null,
   "metadata": {
    "scrolled": true
   },
   "outputs": [],
   "source": [
    "SETTINGS = {\n",
    "    'from_frame': 0,\n",
    "    'to_frame': 2,\n",
    "\n",
    "    'load_laser_maps': False,\n",
    "    'load_laser_maps_file': '',\n",
    "    'laser_maps_network': '../endolas/resources/segmentation_3_2_best.hdf5',\n",
    "    'laser_maps_batch': 1,\n",
    "\n",
    "    'load_laser_peaks': False,\n",
    "    'load_laser_peaks_file': '',\n",
    "    'laser_peaks_sigma': 2,\n",
    "    'laser_peaks_distance': 5,\n",
    "    'laser_peaks_threshold': 0.1,\n",
    "\n",
    "    'load_laser_displacement': False,\n",
    "    'load_laser_displacement_file': '',\n",
    "    'laser_displacement_network': '../endolas/resources/registration_8_9_60.hdf5',\n",
    "    'laser_displacement_batch': 1,\n",
    "\n",
    "    'load_laser_deformation': False,\n",
    "    'load_laser_deformation_file': '',\n",
    "\n",
    "    'load_laser_nearest': False,\n",
    "    'load_laser_nearest_file': '',\n",
    "\n",
    "    'load_laser_sorting': False,\n",
    "    'load_laser_sorting_file': ''}"
   ]
  },
  {
   "cell_type": "markdown",
   "metadata": {},
   "source": [
    "# Pipeline "
   ]
  },
  {
   "cell_type": "code",
   "execution_count": null,
   "metadata": {
    "scrolled": true
   },
   "outputs": [],
   "source": [
    "results = endolas.detect_laser_keypoints(imgs, grid_width, grid_height, settings=SETTINGS)"
   ]
  },
  {
   "cell_type": "markdown",
   "metadata": {},
   "source": [
    "# Results"
   ]
  },
  {
   "cell_type": "code",
   "execution_count": null,
   "metadata": {},
   "outputs": [],
   "source": [
    "image = '0' # just an example"
   ]
  },
  {
   "cell_type": "markdown",
   "metadata": {},
   "source": [
    "## 1) Segmentation"
   ]
  },
  {
   "cell_type": "code",
   "execution_count": null,
   "metadata": {
    "scrolled": false
   },
   "outputs": [],
   "source": [
    "plt.imshow(results['laser_maps'][image], cmap='gray')"
   ]
  },
  {
   "cell_type": "markdown",
   "metadata": {},
   "source": [
    "## 2) Peakfinding"
   ]
  },
  {
   "cell_type": "code",
   "execution_count": null,
   "metadata": {},
   "outputs": [],
   "source": [
    "plt.imshow(results['laser_maps'][image], cmap='gray')\n",
    "peaks = json.loads(results['laser_peaks'][image])\n",
    "for key, value in peaks.items():\n",
    "    plt.scatter(value[0], value[1], facecolors='none', edgecolors='r')"
   ]
  },
  {
   "cell_type": "markdown",
   "metadata": {},
   "source": [
    "## 3) Laser Displacement"
   ]
  },
  {
   "cell_type": "markdown",
   "metadata": {},
   "source": [
    "x-displacement"
   ]
  },
  {
   "cell_type": "code",
   "execution_count": null,
   "metadata": {
    "scrolled": true
   },
   "outputs": [],
   "source": [
    "plt.imshow(results['laser_displacement'][image][:,:,0], cmap='gray')"
   ]
  },
  {
   "cell_type": "markdown",
   "metadata": {},
   "source": [
    "y-displacement"
   ]
  },
  {
   "cell_type": "code",
   "execution_count": null,
   "metadata": {},
   "outputs": [],
   "source": [
    "plt.imshow(results['laser_displacement'][image][:,:,1], cmap='gray')"
   ]
  },
  {
   "cell_type": "markdown",
   "metadata": {},
   "source": [
    "## 4) Laser Deformation"
   ]
  },
  {
   "cell_type": "code",
   "execution_count": null,
   "metadata": {
    "scrolled": true
   },
   "outputs": [],
   "source": [
    "fixed = imageio.imread(fixed_image)\n",
    "\n",
    "plt.imshow(fixed)\n",
    "\n",
    "peaks = json.loads(results['laser_deformation'][image])\n",
    "for key, value in peaks.items():\n",
    "    plt.scatter(value[0]*2, value[1]*2, facecolors='none', edgecolors='r')"
   ]
  },
  {
   "cell_type": "markdown",
   "metadata": {},
   "source": [
    "## 5) Nearest Neighbor"
   ]
  },
  {
   "cell_type": "code",
   "execution_count": null,
   "metadata": {},
   "outputs": [],
   "source": [
    "laser_nearest = json.loads(results['laser_nearest'][image])"
   ]
  },
  {
   "cell_type": "code",
   "execution_count": null,
   "metadata": {},
   "outputs": [],
   "source": [
    "print(laser_nearest)"
   ]
  },
  {
   "cell_type": "markdown",
   "metadata": {},
   "source": [
    "# 6) Sorting"
   ]
  },
  {
   "cell_type": "code",
   "execution_count": null,
   "metadata": {},
   "outputs": [],
   "source": [
    "laser_sorted = json.loads(results['laser_sorted'][image])"
   ]
  },
  {
   "cell_type": "code",
   "execution_count": null,
   "metadata": {},
   "outputs": [],
   "source": [
    "print(laser_sorted)"
   ]
  },
  {
   "cell_type": "markdown",
   "metadata": {},
   "source": [
    "## 7) Retrieve class and x-,y-coordinate of keypoint"
   ]
  },
  {
   "cell_type": "code",
   "execution_count": null,
   "metadata": {},
   "outputs": [],
   "source": [
    "index = \"0\" # just an example"
   ]
  },
  {
   "cell_type": "code",
   "execution_count": null,
   "metadata": {},
   "outputs": [],
   "source": [
    "print(\"x-coordinate: {}\".format(peaks[index][0]))\n",
    "print(\"y-coordinate: {}\".format(peaks[index][1]))\n",
    "print(\"class label: {}\".format(laser_sorted[index]))"
   ]
  }
 ],
 "metadata": {
  "kernelspec": {
   "display_name": "Python 3",
   "language": "python",
   "name": "python3"
  },
  "language_info": {
   "codemirror_mode": {
    "name": "ipython",
    "version": 3
   },
   "file_extension": ".py",
   "mimetype": "text/x-python",
   "name": "python",
   "nbconvert_exporter": "python",
   "pygments_lexer": "ipython3",
   "version": "3.8.2"
  }
 },
 "nbformat": 4,
 "nbformat_minor": 4
}

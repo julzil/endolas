{
 "cells": [
  {
   "cell_type": "code",
   "execution_count": 1,
   "metadata": {
    "scrolled": true
   },
   "outputs": [],
   "source": [
    "import endolas\n",
    "import h5py\n",
    "import numpy as np\n",
    "from matplotlib import pyplot as plt\n",
    "import imageio\n",
    "from skimage import io\n",
    "from skimage import color\n",
    "import skimage\n",
    "import json\n",
    "from tensorflow.python.keras.saving import hdf5_format"
   ]
  },
  {
   "cell_type": "code",
   "execution_count": 2,
   "metadata": {},
   "outputs": [],
   "source": [
    "plt.rcParams['figure.figsize'] = (15, 15)"
   ]
  },
  {
   "cell_type": "code",
   "execution_count": 3,
   "metadata": {},
   "outputs": [],
   "source": [
    "path_val='/home/julian/Documents/Studium/MT-Masterarbeit/Data/LASTEN2/validation'\n",
    "path_test='/home/julian/Documents/Studium/MT-Masterarbeit/Data/LASTEN2/test'\n",
    "path_workdir=\"/home/julian/Documents/Studium/MT-Masterarbeit/Data/Prediction/workdir\""
   ]
  },
  {
   "cell_type": "code",
   "execution_count": 4,
   "metadata": {},
   "outputs": [],
   "source": [
    "img_0 = io.imread(path_val+'/160.png')\n",
    "img_1 = io.imread(path_val+'/161.png')\n",
    "img_2 = io.imread(path_val+'/162.png')\n",
    "img_3 = io.imread(path_val+'/163.png')\n",
    "img_4 = io.imread(path_test+'/200.png')\n",
    "img_5 = io.imread(path_test+'/201.png')\n",
    "img_6 = io.imread(path_test+'/202.png')\n",
    "img_7 = io.imread(path_test+'/203.png')"
   ]
  },
  {
   "cell_type": "code",
   "execution_count": 5,
   "metadata": {},
   "outputs": [],
   "source": [
    "img_0 = color.rgba2rgb(img_0)\n",
    "img_1 = color.rgba2rgb(img_1)\n",
    "img_2 = color.rgba2rgb(img_2)\n",
    "img_3 = color.rgba2rgb(img_3)\n",
    "img_4 = color.rgba2rgb(img_4)\n",
    "img_5 = color.rgba2rgb(img_5)\n",
    "img_6 = color.rgba2rgb(img_6)\n",
    "img_7 = color.rgba2rgb(img_7)"
   ]
  },
  {
   "cell_type": "code",
   "execution_count": 6,
   "metadata": {},
   "outputs": [],
   "source": [
    "img_0 = skimage.img_as_ubyte(img_0)[np.newaxis, :, :]\n",
    "img_1 = skimage.img_as_ubyte(img_1)[np.newaxis, :, :]\n",
    "img_2 = skimage.img_as_ubyte(img_2)[np.newaxis, :, :]\n",
    "img_3 = skimage.img_as_ubyte(img_3)[np.newaxis, :, :]\n",
    "img_4 = skimage.img_as_ubyte(img_4)[np.newaxis, :, :]\n",
    "img_5 = skimage.img_as_ubyte(img_5)[np.newaxis, :, :]\n",
    "img_6 = skimage.img_as_ubyte(img_6)[np.newaxis, :, :]\n",
    "img_7 = skimage.img_as_ubyte(img_7)[np.newaxis, :, :]"
   ]
  },
  {
   "cell_type": "code",
   "execution_count": 7,
   "metadata": {},
   "outputs": [],
   "source": [
    "img = np.concatenate((img_0, img_1, img_2, img_3, img_4, img_5, img_6, img_7))"
   ]
  },
  {
   "cell_type": "code",
   "execution_count": 8,
   "metadata": {},
   "outputs": [
    {
     "data": {
      "text/plain": [
       "(8, 768, 768, 3)"
      ]
     },
     "execution_count": 8,
     "metadata": {},
     "output_type": "execute_result"
    }
   ],
   "source": [
    "img.shape"
   ]
  },
  {
   "cell_type": "code",
   "execution_count": 9,
   "metadata": {},
   "outputs": [
    {
     "data": {
      "text/plain": [
       "8"
      ]
     },
     "execution_count": 9,
     "metadata": {},
     "output_type": "execute_result"
    }
   ],
   "source": [
    "len(img)"
   ]
  },
  {
   "cell_type": "code",
   "execution_count": 10,
   "metadata": {
    "scrolled": true
   },
   "outputs": [
    {
     "name": "stdout",
     "output_type": "stream",
     "text": [
      "Predict Segmentation\n",
      "Predict Peakfinding\n",
      "Predict Registration\n",
      "Predict Deformation\n",
      "Predict Neighbor\n",
      "Predict Sorting\n"
     ]
    }
   ],
   "source": [
    "results = endolas.run_laser_detection(img)"
   ]
  },
  {
   "cell_type": "code",
   "execution_count": 11,
   "metadata": {},
   "outputs": [],
   "source": [
    "image_id = '1'"
   ]
  },
  {
   "cell_type": "code",
   "execution_count": 12,
   "metadata": {
    "scrolled": true
   },
   "outputs": [
    {
     "name": "stdout",
     "output_type": "stream",
     "text": [
      "<KeysViewHDF5 ['1', 'grid_height', 'grid_width', 'height', 'width']>\n"
     ]
    }
   ],
   "source": [
    "hf_seg = h5py.File('results/segmentation.h5', 'r')\n",
    "print(hf_seg.keys())\n",
    "laser_map = hf_seg.get(image_id)[()]\n",
    "hf_seg.close()"
   ]
  },
  {
   "cell_type": "code",
   "execution_count": 13,
   "metadata": {},
   "outputs": [
    {
     "name": "stdout",
     "output_type": "stream",
     "text": [
      "<KeysViewHDF5 ['1']>\n"
     ]
    }
   ],
   "source": [
    "hf_peaks = h5py.File('results/peaks.h5', 'r')\n",
    "print(hf_peaks.keys())\n",
    "laser_peaks = json.loads(hf_peaks.get(image_id)[()])\n",
    "hf_peaks.close()"
   ]
  },
  {
   "cell_type": "code",
   "execution_count": 14,
   "metadata": {},
   "outputs": [
    {
     "name": "stdout",
     "output_type": "stream",
     "text": [
      "<KeysViewHDF5 ['1', 'fix', 'grid_height', 'grid_width', 'height', 'width']>\n"
     ]
    }
   ],
   "source": [
    "hf_reg = h5py.File('results/displacement.h5', 'r')\n",
    "disp = hf_reg.get(image_id)[()]\n",
    "fix_val = hf_reg.get('fix')[()]\n",
    "ggg= hf_reg.get('grid_height')[()]\n",
    "print(hf_reg.keys())\n",
    "hf_reg.close()\n",
    "fix = json.loads(fix_val)"
   ]
  },
  {
   "cell_type": "code",
   "execution_count": 15,
   "metadata": {},
   "outputs": [],
   "source": [
    "hf_def = h5py.File('results/deformation.h5', 'r')\n",
    "defo = hf_def.get(image_id)[()]\n",
    "hf_reg.close()\n",
    "warps = json.loads(defo)"
   ]
  },
  {
   "cell_type": "code",
   "execution_count": 16,
   "metadata": {},
   "outputs": [],
   "source": [
    "img_5_mask = io.imread(path_val+'/161_m.png')"
   ]
  },
  {
   "cell_type": "code",
   "execution_count": 17,
   "metadata": {},
   "outputs": [
    {
     "data": {
      "text/plain": [
       "[327, 311]"
      ]
     },
     "execution_count": 17,
     "metadata": {},
     "output_type": "execute_result"
    }
   ],
   "source": [
    "warps['1']"
   ]
  },
  {
   "cell_type": "code",
   "execution_count": 25,
   "metadata": {},
   "outputs": [
    {
     "data": {
      "image/png": "[encoded data removed]",
      "text/plain": [
       "<Figure size 1080x1080 with 1 Axes>"
      ]
     },
     "metadata": {
      "needs_background": "light"
     },
     "output_type": "display_data"
    }
   ],
   "source": [
    "back=np.zeros((384,384))\n",
    "plt.imshow(back, cmap='gray')\n",
    "#plt.imshow(disp[:,:,0], cmap='gray')\n",
    "#for key, value in laser_peaks.items():\n",
    "#    plt.plot(value[1]*0.5, value[0]*0.5, 'mo', markersize=3)\n",
    "\n",
    "for key, value in warps.items():\n",
    "    plt.plot(value[1], value[0], 'mo', markersize=3)\n",
    "    \n",
    "for key, value in fix.items():\n",
    "    plt.plot(value[1]*0.5, value[0]*0.5, 'ro', markersize=3)\n",
    "    \n",
    "#plt.axis('off')\n",
    "#plt.savefig('results/laser_map.jpg')"
   ]
  },
  {
   "cell_type": "code",
   "execution_count": null,
   "metadata": {},
   "outputs": [],
   "source": []
  }
 ],
 "metadata": {
  "kernelspec": {
   "display_name": "Python 3",
   "language": "python",
   "name": "python3"
  },
  "language_info": {
   "codemirror_mode": {
    "name": "ipython",
    "version": 3
   },
   "file_extension": ".py",
   "mimetype": "text/x-python",
   "name": "python",
   "nbconvert_exporter": "python",
   "pygments_lexer": "ipython3",
   "version": "3.8.2"
  }
 },
 "nbformat": 4,
 "nbformat_minor": 4
}

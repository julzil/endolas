{
 "cells": [
  {
   "cell_type": "markdown",
   "metadata": {},
   "source": [
    "# Import statements\n",
    "Following packages are necessary:"
   ]
  },
  {
   "cell_type": "code",
   "execution_count": 1,
   "metadata": {
    "scrolled": true
   },
   "outputs": [],
   "source": [
    "import random\n",
    "import utils\n",
    "import os\n",
    "import imageio\n",
    "import json\n",
    "import closs\n",
    "import ccall\n",
    "\n",
    "from simplegen import SIMPLESequence\n",
    "from lastengen import LASTENSequence\n",
    "\n",
    "import tensorflow as tf\n",
    "import numpy as np\n",
    "import tensorflow.keras.backend as kb\n",
    "from tensorflow.keras.callbacks import CSVLogger, ModelCheckpoint\n",
    "\n",
    "from unet import UNet\n",
    "from unet import preprocess_input as pre_une\n",
    "\n",
    "from matplotlib import pyplot as plt"
   ]
  },
  {
   "cell_type": "markdown",
   "metadata": {
    "pycharm": {
     "name": "#%% md\n"
    }
   },
   "source": [
    "# Checks\n",
    "The version of tensorflow as well as the GPU support are checked."
   ]
  },
  {
   "cell_type": "code",
   "execution_count": 2,
   "metadata": {
    "pycharm": {
     "name": "#%%\n"
    },
    "scrolled": false
   },
   "outputs": [
    {
     "name": "stdout",
     "output_type": "stream",
     "text": [
      "2.2.0-rc3\n"
     ]
    },
    {
     "data": {
      "text/plain": [
       "[PhysicalDevice(name='/physical_device:GPU:0', device_type='GPU')]"
      ]
     },
     "execution_count": 2,
     "metadata": {},
     "output_type": "execute_result"
    }
   ],
   "source": [
    "print(tf.__version__)\n",
    "physical_devices = tf.config.experimental.list_physical_devices('GPU')\n",
    "tf.config.experimental.set_memory_growth(physical_devices[0], True)\n",
    "tf.config.experimental.get_visible_devices('GPU')"
   ]
  },
  {
   "cell_type": "markdown",
   "metadata": {},
   "source": [
    "# Functionality\n",
    "Necessary funcionality is added here"
   ]
  },
  {
   "cell_type": "code",
   "execution_count": 3,
   "metadata": {},
   "outputs": [],
   "source": [
    "def plot_cube(img, x, y, val):\n",
    "    \n",
    "    img[y][x] = val\n",
    "    img[y][x-1] = val\n",
    "    img[y][x+1] = val\n",
    "    img[y-1][x] = val\n",
    "    img[y-1][x-1] = val\n",
    "    img[y-1][x+1] = val\n",
    "    img[y+1][x] = val\n",
    "    img[y+1][x-1] = val\n",
    "    img[y+1][x+1] = val  "
   ]
  },
  {
   "cell_type": "markdown",
   "metadata": {},
   "source": [
    "# 7.1) Supervised Euclidean for LASTEN with fixed image\n",
    "A U-Net is trained here to predict a displacement field and the euclidean distance is taken as error."
   ]
  },
  {
   "cell_type": "markdown",
   "metadata": {
    "pycharm": {
     "name": "#%% md\n"
    }
   },
   "source": [
    "# Data\n",
    "Import training images"
   ]
  },
  {
   "cell_type": "code",
   "execution_count": 4,
   "metadata": {
    "pycharm": {
     "name": "#%%\n"
    }
   },
   "outputs": [],
   "source": [
    "store_path = 'experiments/7_1_euclidean'\n",
    "\n",
    "path_fixed = '/home/julian/Documents/Studium/MT-Masterarbeit/Data/LASTEN/fix'\n",
    "path_train = '/home/julian/Documents/Studium/MT-Masterarbeit/Data/LASTEN/train'\n",
    "path_validation = '/home/julian/Documents/Studium/MT-Masterarbeit/Data/LASTEN/validation'\n",
    "path_test = '/home/julian/Documents/Studium/MT-Masterarbeit/Data/LASTEN/test'\n",
    "\n",
    "#path_fixed = r'D:\\Julian\\data\\SIMPLED\\train\\0'\n",
    "#path_train = r'D:\\Julian\\data\\SIMPLED\\train'\n",
    "#path_validation = r'D:\\Julian\\data\\SIMPLED\\validation'\n",
    "#path_test = r'D:\\Julian\\data\\SIMPLED\\test'\n",
    "\n",
    "width = 384\n",
    "height = 384\n",
    "\n",
    "grid_width = 18\n",
    "grid_height = 18"
   ]
  },
  {
   "cell_type": "markdown",
   "metadata": {
    "pycharm": {
     "name": "#%% md\n"
    }
   },
   "source": [
    "# Seeding\n",
    "Seeds are set to ensure reproducible training."
   ]
  },
  {
   "cell_type": "code",
   "execution_count": 5,
   "metadata": {
    "pycharm": {
     "name": "#%%\n"
    }
   },
   "outputs": [],
   "source": [
    "SEED = 42\n",
    "np.random.seed(SEED)\n",
    "tf.random.set_seed(SEED)\n",
    "random.seed(SEED)"
   ]
  },
  {
   "cell_type": "markdown",
   "metadata": {
    "pycharm": {
     "name": "#%% md\n"
    }
   },
   "source": [
    "# Network\n",
    "A U-Net based network is instantiated with keras to run a semantic segmentation."
   ]
  },
  {
   "cell_type": "code",
   "execution_count": 6,
   "metadata": {
    "pycharm": {
     "name": "#%%\n"
    }
   },
   "outputs": [],
   "source": [
    "model = UNet(filters=32, layers=4, activation='linear', classes=2, input_shape=(width, height, 2))"
   ]
  },
  {
   "cell_type": "markdown",
   "metadata": {
    "pycharm": {
     "name": "#%% md\n"
    }
   },
   "source": [
    "# Training Preparation\n",
    "Prepare the settings for training the model."
   ]
  },
  {
   "cell_type": "code",
   "execution_count": 7,
   "metadata": {
    "scrolled": true
   },
   "outputs": [
    {
     "name": "stdout",
     "output_type": "stream",
     "text": [
      "WARNING:tensorflow:`period` argument is deprecated. Please use `save_freq` to specify the frequency in number of batches seen.\n"
     ]
    }
   ],
   "source": [
    "batch_size=2\n",
    "\n",
    "train_gen = LASTENSequence(path_train,\n",
    "                           path_fixed,\n",
    "                           batch_size=batch_size,\n",
    "                           width=width,\n",
    "                           height=height,\n",
    "                           grid_width=grid_width, \n",
    "                           grid_height=grid_height,\n",
    "                           preprocess_input=pre_une,\n",
    "                           shuffle=True,\n",
    "                           label=\"keypoints\",\n",
    "                           channel=\"moving+fixed\")\n",
    "\n",
    "val_gen = LASTENSequence(path_validation,\n",
    "                           path_fixed,\n",
    "                           batch_size=batch_size,\n",
    "                           width=width,\n",
    "                           height=height,\n",
    "                           grid_width=grid_width, \n",
    "                           grid_height=grid_height,\n",
    "                           preprocess_input=pre_une,\n",
    "                           shuffle=False,\n",
    "                           label=\"keypoints\",\n",
    "                           channel=\"moving+fixed\")\n",
    "\n",
    "logger = CSVLogger(store_path + \"/log\")\n",
    "checker = ModelCheckpoint(store_path + \"/weights.{epoch:02d}.hdf5\",\n",
    "                          period=10)\n",
    "timelogger = ccall.TimeHistory(store_path)\n",
    "#vallogger = ccall.ValidationHistory(store_path, val_gen)\n",
    "callbacks = [logger, checker, timelogger]#, vallogger]\n",
    "\n",
    "eu_loss = closs.EuclideanLoss(batch_size=batch_size, grid_width=grid_width, grid_height=grid_height, loss_type='msed')\n",
    "eu_metric = closs.EuclideanLoss(batch_size=batch_size, grid_width=grid_width, grid_height=grid_height, loss_type='maed')\n",
    "\n",
    "model.compile(optimizer='adam', loss=eu_loss, metrics=[eu_metric])"
   ]
  },
  {
   "cell_type": "code",
   "execution_count": 8,
   "metadata": {},
   "outputs": [
    {
     "data": {
      "text/plain": [
       "<matplotlib.image.AxesImage at 0x7fddcc262310>"
      ]
     },
     "execution_count": 8,
     "metadata": {},
     "output_type": "execute_result"
    },
    {
     "data": {
      "image/png": "[encoded data removed]",
      "text/plain": [
       "<Figure size 432x288 with 1 Axes>"
      ]
     },
     "metadata": {
      "needs_background": "light"
     },
     "output_type": "display_data"
    }
   ],
   "source": [
    "X, y = train_gen[0]\n",
    "\n",
    "plt.imshow(X[0,:,:,1])"
   ]
  },
  {
   "cell_type": "markdown",
   "metadata": {},
   "source": [
    "# Training\n",
    "Run the training."
   ]
  },
  {
   "cell_type": "code",
   "execution_count": 9,
   "metadata": {
    "pycharm": {
     "name": "#%%\n"
    },
    "scrolled": false
   },
   "outputs": [
    {
     "name": "stdout",
     "output_type": "stream",
     "text": [
      "Epoch 1/100\n"
     ]
    },
    {
     "name": "stderr",
     "output_type": "stream",
     "text": [
      "/home/julian/anaconda3/envs/endolas/lib/python3.8/site-packages/tensorflow/python/framework/indexed_slices.py:433: UserWarning: Converting sparse IndexedSlices to a dense Tensor of unknown shape. This may consume a large amount of memory.\n",
      "  warnings.warn(\n"
     ]
    },
    {
     "name": "stdout",
     "output_type": "stream",
     "text": [
      "WARNING:tensorflow:multiprocessing can interact badly with TensorFlow, causing nondeterministic deadlocks. For high performance data pipelines tf.data is recommended.\n",
      "83/84 [============================>.] - ETA: 0s - loss: 1057.1223 - maed: 27.4161WARNING:tensorflow:multiprocessing can interact badly with TensorFlow, causing nondeterministic deadlocks. For high performance data pipelines tf.data is recommended.\n",
      "84/84 [==============================] - ETA: 0s - loss: 1049.9202 - maed: 27.3108WARNING:tensorflow:multiprocessing can interact badly with TensorFlow, causing nondeterministic deadlocks. For high performance data pipelines tf.data is recommended.\n",
      "WARNING:tensorflow:multiprocessing can interact badly with TensorFlow, causing nondeterministic deadlocks. For high performance data pipelines tf.data is recommended.\n",
      "84/84 [==============================] - 50s 593ms/step - loss: 1049.9202 - maed: 27.3108 - val_loss: 37470.6211 - val_maed: 168.3500\n",
      "Epoch 2/100\n",
      "WARNING:tensorflow:multiprocessing can interact badly with TensorFlow, causing nondeterministic deadlocks. For high performance data pipelines tf.data is recommended.\n",
      "83/84 [============================>.] - ETA: 0s - loss: 451.2014 - maed: 17.1985WARNING:tensorflow:multiprocessing can interact badly with TensorFlow, causing nondeterministic deadlocks. For high performance data pipelines tf.data is recommended.\n",
      "84/84 [==============================] - ETA: 0s - loss: 448.5847 - maed: 17.1527WARNING:tensorflow:multiprocessing can interact badly with TensorFlow, causing nondeterministic deadlocks. For high performance data pipelines tf.data is recommended.\n",
      "WARNING:tensorflow:multiprocessing can interact badly with TensorFlow, causing nondeterministic deadlocks. For high performance data pipelines tf.data is recommended.\n",
      "84/84 [==============================] - 48s 569ms/step - loss: 448.5847 - maed: 17.1527 - val_loss: 1187.1749 - val_maed: 30.1902\n",
      "Epoch 3/100\n",
      "WARNING:tensorflow:multiprocessing can interact badly with TensorFlow, causing nondeterministic deadlocks. For high performance data pipelines tf.data is recommended.\n",
      "83/84 [============================>.] - ETA: 0s - loss: 208.3167 - maed: 11.8877WARNING:tensorflow:multiprocessing can interact badly with TensorFlow, causing nondeterministic deadlocks. For high performance data pipelines tf.data is recommended.\n",
      "84/84 [==============================] - ETA: 0s - loss: 207.2561 - maed: 11.8565WARNING:tensorflow:multiprocessing can interact badly with TensorFlow, causing nondeterministic deadlocks. For high performance data pipelines tf.data is recommended.\n",
      "WARNING:tensorflow:multiprocessing can interact badly with TensorFlow, causing nondeterministic deadlocks. For high performance data pipelines tf.data is recommended.\n",
      "84/84 [==============================] - 49s 578ms/step - loss: 207.2561 - maed: 11.8565 - val_loss: 492.5006 - val_maed: 19.2281\n",
      "Epoch 4/100\n",
      "WARNING:tensorflow:multiprocessing can interact badly with TensorFlow, causing nondeterministic deadlocks. For high performance data pipelines tf.data is recommended.\n",
      "83/84 [============================>.] - ETA: 0s - loss: 160.6919 - maed: 10.4023WARNING:tensorflow:multiprocessing can interact badly with TensorFlow, causing nondeterministic deadlocks. For high performance data pipelines tf.data is recommended.\n",
      "84/84 [==============================] - ETA: 0s - loss: 159.9155 - maed: 10.3698WARNING:tensorflow:multiprocessing can interact badly with TensorFlow, causing nondeterministic deadlocks. For high performance data pipelines tf.data is recommended.\n",
      "WARNING:tensorflow:multiprocessing can interact badly with TensorFlow, causing nondeterministic deadlocks. For high performance data pipelines tf.data is recommended.\n",
      "84/84 [==============================] - 50s 590ms/step - loss: 159.9155 - maed: 10.3698 - val_loss: 415.9632 - val_maed: 17.4216\n",
      "Epoch 5/100\n",
      "WARNING:tensorflow:multiprocessing can interact badly with TensorFlow, causing nondeterministic deadlocks. For high performance data pipelines tf.data is recommended.\n",
      "83/84 [============================>.] - ETA: 0s - loss: 108.9598 - maed: 8.6917WARNING:tensorflow:multiprocessing can interact badly with TensorFlow, causing nondeterministic deadlocks. For high performance data pipelines tf.data is recommended.\n",
      "84/84 [==============================] - ETA: 0s - loss: 108.6820 - maed: 8.6847WARNING:tensorflow:multiprocessing can interact badly with TensorFlow, causing nondeterministic deadlocks. For high performance data pipelines tf.data is recommended.\n",
      "WARNING:tensorflow:multiprocessing can interact badly with TensorFlow, causing nondeterministic deadlocks. For high performance data pipelines tf.data is recommended.\n",
      "84/84 [==============================] - 50s 590ms/step - loss: 108.6820 - maed: 8.6847 - val_loss: 222.7081 - val_maed: 12.9591\n",
      "Epoch 6/100\n",
      "WARNING:tensorflow:multiprocessing can interact badly with TensorFlow, causing nondeterministic deadlocks. For high performance data pipelines tf.data is recommended.\n",
      "83/84 [============================>.] - ETA: 0s - loss: 74.2160 - maed: 7.1939WARNING:tensorflow:multiprocessing can interact badly with TensorFlow, causing nondeterministic deadlocks. For high performance data pipelines tf.data is recommended.\n",
      "84/84 [==============================] - ETA: 0s - loss: 74.1626 - maed: 7.1933WARNING:tensorflow:multiprocessing can interact badly with TensorFlow, causing nondeterministic deadlocks. For high performance data pipelines tf.data is recommended.\n",
      "WARNING:tensorflow:multiprocessing can interact badly with TensorFlow, causing nondeterministic deadlocks. For high performance data pipelines tf.data is recommended.\n",
      "84/84 [==============================] - 49s 589ms/step - loss: 74.1626 - maed: 7.1933 - val_loss: 139.7072 - val_maed: 9.6340\n",
      "Epoch 7/100\n",
      "WARNING:tensorflow:multiprocessing can interact badly with TensorFlow, causing nondeterministic deadlocks. For high performance data pipelines tf.data is recommended.\n",
      "83/84 [============================>.] - ETA: 0s - loss: 67.6179 - maed: 6.8276WARNING:tensorflow:multiprocessing can interact badly with TensorFlow, causing nondeterministic deadlocks. For high performance data pipelines tf.data is recommended.\n",
      "84/84 [==============================] - ETA: 0s - loss: 67.6786 - maed: 6.8350WARNING:tensorflow:multiprocessing can interact badly with TensorFlow, causing nondeterministic deadlocks. For high performance data pipelines tf.data is recommended.\n",
      "WARNING:tensorflow:multiprocessing can interact badly with TensorFlow, causing nondeterministic deadlocks. For high performance data pipelines tf.data is recommended.\n",
      "84/84 [==============================] - 49s 587ms/step - loss: 67.6786 - maed: 6.8350 - val_loss: 171.4549 - val_maed: 11.0306\n",
      "Epoch 8/100\n",
      "WARNING:tensorflow:multiprocessing can interact badly with TensorFlow, causing nondeterministic deadlocks. For high performance data pipelines tf.data is recommended.\n",
      "83/84 [============================>.] - ETA: 0s - loss: 48.5702 - maed: 5.7964WARNING:tensorflow:multiprocessing can interact badly with TensorFlow, causing nondeterministic deadlocks. For high performance data pipelines tf.data is recommended.\n",
      "84/84 [==============================] - ETA: 0s - loss: 48.2903 - maed: 5.7776WARNING:tensorflow:multiprocessing can interact badly with TensorFlow, causing nondeterministic deadlocks. For high performance data pipelines tf.data is recommended.\n",
      "WARNING:tensorflow:multiprocessing can interact badly with TensorFlow, causing nondeterministic deadlocks. For high performance data pipelines tf.data is recommended.\n",
      "84/84 [==============================] - 49s 589ms/step - loss: 48.2903 - maed: 5.7776 - val_loss: 63.2031 - val_maed: 6.6885\n",
      "Epoch 9/100\n",
      "WARNING:tensorflow:multiprocessing can interact badly with TensorFlow, causing nondeterministic deadlocks. For high performance data pipelines tf.data is recommended.\n",
      "83/84 [============================>.] - ETA: 0s - loss: 39.6594 - maed: 5.2280WARNING:tensorflow:multiprocessing can interact badly with TensorFlow, causing nondeterministic deadlocks. For high performance data pipelines tf.data is recommended.\n"
     ]
    },
    {
     "name": "stdout",
     "output_type": "stream",
     "text": [
      "84/84 [==============================] - ETA: 0s - loss: 39.9984 - maed: 5.2423WARNING:tensorflow:multiprocessing can interact badly with TensorFlow, causing nondeterministic deadlocks. For high performance data pipelines tf.data is recommended.\n",
      "WARNING:tensorflow:multiprocessing can interact badly with TensorFlow, causing nondeterministic deadlocks. For high performance data pipelines tf.data is recommended.\n",
      "84/84 [==============================] - 50s 589ms/step - loss: 39.9984 - maed: 5.2423 - val_loss: 572.9471 - val_maed: 21.0105\n",
      "Epoch 10/100\n",
      "WARNING:tensorflow:multiprocessing can interact badly with TensorFlow, causing nondeterministic deadlocks. For high performance data pipelines tf.data is recommended.\n",
      "83/84 [============================>.] - ETA: 0s - loss: 41.2288 - maed: 5.2835WARNING:tensorflow:multiprocessing can interact badly with TensorFlow, causing nondeterministic deadlocks. For high performance data pipelines tf.data is recommended.\n",
      "84/84 [==============================] - ETA: 0s - loss: 41.2864 - maed: 5.2879WARNING:tensorflow:multiprocessing can interact badly with TensorFlow, causing nondeterministic deadlocks. For high performance data pipelines tf.data is recommended.\n",
      "WARNING:tensorflow:multiprocessing can interact badly with TensorFlow, causing nondeterministic deadlocks. For high performance data pipelines tf.data is recommended.\n",
      "84/84 [==============================] - 48s 568ms/step - loss: 41.2864 - maed: 5.2879 - val_loss: 75.9504 - val_maed: 7.6376\n",
      "Epoch 11/100\n",
      "WARNING:tensorflow:multiprocessing can interact badly with TensorFlow, causing nondeterministic deadlocks. For high performance data pipelines tf.data is recommended.\n",
      "83/84 [============================>.] - ETA: 0s - loss: 24.7928 - maed: 4.2162WARNING:tensorflow:multiprocessing can interact badly with TensorFlow, causing nondeterministic deadlocks. For high performance data pipelines tf.data is recommended.\n",
      "84/84 [==============================] - ETA: 0s - loss: 24.7521 - maed: 4.2134WARNING:tensorflow:multiprocessing can interact badly with TensorFlow, causing nondeterministic deadlocks. For high performance data pipelines tf.data is recommended.\n",
      "WARNING:tensorflow:multiprocessing can interact badly with TensorFlow, causing nondeterministic deadlocks. For high performance data pipelines tf.data is recommended.\n",
      "84/84 [==============================] - 48s 577ms/step - loss: 24.7521 - maed: 4.2134 - val_loss: 54.8627 - val_maed: 6.1082\n",
      "Epoch 12/100\n",
      "WARNING:tensorflow:multiprocessing can interact badly with TensorFlow, causing nondeterministic deadlocks. For high performance data pipelines tf.data is recommended.\n",
      "83/84 [============================>.] - ETA: 0s - loss: 19.6492 - maed: 3.7293WARNING:tensorflow:multiprocessing can interact badly with TensorFlow, causing nondeterministic deadlocks. For high performance data pipelines tf.data is recommended.\n",
      "84/84 [==============================] - ETA: 0s - loss: 19.6164 - maed: 3.7265WARNING:tensorflow:multiprocessing can interact badly with TensorFlow, causing nondeterministic deadlocks. For high performance data pipelines tf.data is recommended.\n",
      "WARNING:tensorflow:multiprocessing can interact badly with TensorFlow, causing nondeterministic deadlocks. For high performance data pipelines tf.data is recommended.\n",
      "84/84 [==============================] - 48s 577ms/step - loss: 19.6164 - maed: 3.7265 - val_loss: 60.0362 - val_maed: 6.6298\n",
      "Epoch 13/100\n",
      "WARNING:tensorflow:multiprocessing can interact badly with TensorFlow, causing nondeterministic deadlocks. For high performance data pipelines tf.data is recommended.\n",
      "83/84 [============================>.] - ETA: 0s - loss: 28.2943 - maed: 4.4798WARNING:tensorflow:multiprocessing can interact badly with TensorFlow, causing nondeterministic deadlocks. For high performance data pipelines tf.data is recommended.\n",
      "84/84 [==============================] - ETA: 0s - loss: 28.3743 - maed: 4.4872WARNING:tensorflow:multiprocessing can interact badly with TensorFlow, causing nondeterministic deadlocks. For high performance data pipelines tf.data is recommended.\n",
      "WARNING:tensorflow:multiprocessing can interact badly with TensorFlow, causing nondeterministic deadlocks. For high performance data pipelines tf.data is recommended.\n",
      "84/84 [==============================] - 49s 583ms/step - loss: 28.3743 - maed: 4.4872 - val_loss: 45.4813 - val_maed: 5.7824\n",
      "Epoch 14/100\n",
      "WARNING:tensorflow:multiprocessing can interact badly with TensorFlow, causing nondeterministic deadlocks. For high performance data pipelines tf.data is recommended.\n",
      "83/84 [============================>.] - ETA: 0s - loss: 29.6062 - maed: 4.5651WARNING:tensorflow:multiprocessing can interact badly with TensorFlow, causing nondeterministic deadlocks. For high performance data pipelines tf.data is recommended.\n",
      "84/84 [==============================] - ETA: 0s - loss: 29.5182 - maed: 4.5597WARNING:tensorflow:multiprocessing can interact badly with TensorFlow, causing nondeterministic deadlocks. For high performance data pipelines tf.data is recommended.\n",
      "WARNING:tensorflow:multiprocessing can interact badly with TensorFlow, causing nondeterministic deadlocks. For high performance data pipelines tf.data is recommended.\n",
      "84/84 [==============================] - 49s 588ms/step - loss: 29.5182 - maed: 4.5597 - val_loss: 58.6732 - val_maed: 6.7425\n",
      "Epoch 15/100\n",
      "WARNING:tensorflow:multiprocessing can interact badly with TensorFlow, causing nondeterministic deadlocks. For high performance data pipelines tf.data is recommended.\n",
      "83/84 [============================>.] - ETA: 0s - loss: 21.8296 - maed: 3.9076WARNING:tensorflow:multiprocessing can interact badly with TensorFlow, causing nondeterministic deadlocks. For high performance data pipelines tf.data is recommended.\n",
      "84/84 [==============================] - ETA: 0s - loss: 21.7433 - maed: 3.8989WARNING:tensorflow:multiprocessing can interact badly with TensorFlow, causing nondeterministic deadlocks. For high performance data pipelines tf.data is recommended.\n",
      "WARNING:tensorflow:multiprocessing can interact badly with TensorFlow, causing nondeterministic deadlocks. For high performance data pipelines tf.data is recommended.\n",
      "84/84 [==============================] - 50s 592ms/step - loss: 21.7433 - maed: 3.8989 - val_loss: 25.3808 - val_maed: 4.2826\n",
      "Epoch 16/100\n",
      "WARNING:tensorflow:multiprocessing can interact badly with TensorFlow, causing nondeterministic deadlocks. For high performance data pipelines tf.data is recommended.\n",
      "83/84 [============================>.] - ETA: 0s - loss: 22.0300 - maed: 3.9254WARNING:tensorflow:multiprocessing can interact badly with TensorFlow, causing nondeterministic deadlocks. For high performance data pipelines tf.data is recommended.\n",
      "84/84 [==============================] - ETA: 0s - loss: 22.0436 - maed: 3.9259WARNING:tensorflow:multiprocessing can interact badly with TensorFlow, causing nondeterministic deadlocks. For high performance data pipelines tf.data is recommended.\n",
      "WARNING:tensorflow:multiprocessing can interact badly with TensorFlow, causing nondeterministic deadlocks. For high performance data pipelines tf.data is recommended.\n",
      "84/84 [==============================] - 49s 589ms/step - loss: 22.0436 - maed: 3.9259 - val_loss: 36.9193 - val_maed: 5.3166\n",
      "Epoch 17/100\n",
      "WARNING:tensorflow:multiprocessing can interact badly with TensorFlow, causing nondeterministic deadlocks. For high performance data pipelines tf.data is recommended.\n",
      "83/84 [============================>.] - ETA: 0s - loss: 21.6721 - maed: 3.9156WARNING:tensorflow:multiprocessing can interact badly with TensorFlow, causing nondeterministic deadlocks. For high performance data pipelines tf.data is recommended.\n",
      "84/84 [==============================] - ETA: 0s - loss: 21.6528 - maed: 3.9104WARNING:tensorflow:multiprocessing can interact badly with TensorFlow, causing nondeterministic deadlocks. For high performance data pipelines tf.data is recommended.\n",
      "WARNING:tensorflow:multiprocessing can interact badly with TensorFlow, causing nondeterministic deadlocks. For high performance data pipelines tf.data is recommended.\n",
      "84/84 [==============================] - 50s 591ms/step - loss: 21.6528 - maed: 3.9104 - val_loss: 101.2120 - val_maed: 9.1728\n"
     ]
    },
    {
     "name": "stdout",
     "output_type": "stream",
     "text": [
      "Epoch 18/100\n",
      "WARNING:tensorflow:multiprocessing can interact badly with TensorFlow, causing nondeterministic deadlocks. For high performance data pipelines tf.data is recommended.\n",
      "83/84 [============================>.] - ETA: 0s - loss: 15.1652 - maed: 3.2612WARNING:tensorflow:multiprocessing can interact badly with TensorFlow, causing nondeterministic deadlocks. For high performance data pipelines tf.data is recommended.\n",
      "84/84 [==============================] - ETA: 0s - loss: 15.2783 - maed: 3.2723WARNING:tensorflow:multiprocessing can interact badly with TensorFlow, causing nondeterministic deadlocks. For high performance data pipelines tf.data is recommended.\n",
      "WARNING:tensorflow:multiprocessing can interact badly with TensorFlow, causing nondeterministic deadlocks. For high performance data pipelines tf.data is recommended.\n",
      "84/84 [==============================] - 47s 559ms/step - loss: 15.2783 - maed: 3.2723 - val_loss: 24.4182 - val_maed: 4.2893\n",
      "Epoch 19/100\n",
      "WARNING:tensorflow:multiprocessing can interact badly with TensorFlow, causing nondeterministic deadlocks. For high performance data pipelines tf.data is recommended.\n",
      "83/84 [============================>.] - ETA: 0s - loss: 18.6197 - maed: 3.5641WARNING:tensorflow:multiprocessing can interact badly with TensorFlow, causing nondeterministic deadlocks. For high performance data pipelines tf.data is recommended.\n",
      "84/84 [==============================] - ETA: 0s - loss: 18.6029 - maed: 3.5630WARNING:tensorflow:multiprocessing can interact badly with TensorFlow, causing nondeterministic deadlocks. For high performance data pipelines tf.data is recommended.\n",
      "WARNING:tensorflow:multiprocessing can interact badly with TensorFlow, causing nondeterministic deadlocks. For high performance data pipelines tf.data is recommended.\n",
      "84/84 [==============================] - 47s 559ms/step - loss: 18.6029 - maed: 3.5630 - val_loss: 59.6809 - val_maed: 6.6930\n",
      "Epoch 20/100\n",
      "WARNING:tensorflow:multiprocessing can interact badly with TensorFlow, causing nondeterministic deadlocks. For high performance data pipelines tf.data is recommended.\n",
      "83/84 [============================>.] - ETA: 0s - loss: 13.9618 - maed: 3.1158WARNING:tensorflow:multiprocessing can interact badly with TensorFlow, causing nondeterministic deadlocks. For high performance data pipelines tf.data is recommended.\n",
      "84/84 [==============================] - ETA: 0s - loss: 13.9525 - maed: 3.1145WARNING:tensorflow:multiprocessing can interact badly with TensorFlow, causing nondeterministic deadlocks. For high performance data pipelines tf.data is recommended.\n",
      "WARNING:tensorflow:multiprocessing can interact badly with TensorFlow, causing nondeterministic deadlocks. For high performance data pipelines tf.data is recommended.\n",
      "84/84 [==============================] - 49s 582ms/step - loss: 13.9525 - maed: 3.1145 - val_loss: 32.5382 - val_maed: 4.8456\n",
      "Epoch 21/100\n",
      "WARNING:tensorflow:multiprocessing can interact badly with TensorFlow, causing nondeterministic deadlocks. For high performance data pipelines tf.data is recommended.\n",
      "83/84 [============================>.] - ETA: 0s - loss: 14.7660 - maed: 3.1797WARNING:tensorflow:multiprocessing can interact badly with TensorFlow, causing nondeterministic deadlocks. For high performance data pipelines tf.data is recommended.\n",
      "84/84 [==============================] - ETA: 0s - loss: 14.7824 - maed: 3.1831WARNING:tensorflow:multiprocessing can interact badly with TensorFlow, causing nondeterministic deadlocks. For high performance data pipelines tf.data is recommended.\n",
      "WARNING:tensorflow:multiprocessing can interact badly with TensorFlow, causing nondeterministic deadlocks. For high performance data pipelines tf.data is recommended.\n",
      "84/84 [==============================] - 50s 591ms/step - loss: 14.7824 - maed: 3.1831 - val_loss: 40.4871 - val_maed: 5.6578\n",
      "Epoch 22/100\n",
      "WARNING:tensorflow:multiprocessing can interact badly with TensorFlow, causing nondeterministic deadlocks. For high performance data pipelines tf.data is recommended.\n",
      "83/84 [============================>.] - ETA: 0s - loss: 15.2263 - maed: 3.2349WARNING:tensorflow:multiprocessing can interact badly with TensorFlow, causing nondeterministic deadlocks. For high performance data pipelines tf.data is recommended.\n",
      "84/84 [==============================] - ETA: 0s - loss: 15.2148 - maed: 3.2339WARNING:tensorflow:multiprocessing can interact badly with TensorFlow, causing nondeterministic deadlocks. For high performance data pipelines tf.data is recommended.\n",
      "WARNING:tensorflow:multiprocessing can interact badly with TensorFlow, causing nondeterministic deadlocks. For high performance data pipelines tf.data is recommended.\n",
      "84/84 [==============================] - 49s 589ms/step - loss: 15.2148 - maed: 3.2339 - val_loss: 33.8846 - val_maed: 4.9548\n",
      "Epoch 23/100\n",
      "WARNING:tensorflow:multiprocessing can interact badly with TensorFlow, causing nondeterministic deadlocks. For high performance data pipelines tf.data is recommended.\n",
      "83/84 [============================>.] - ETA: 0s - loss: 10.0406 - maed: 2.6549WARNING:tensorflow:multiprocessing can interact badly with TensorFlow, causing nondeterministic deadlocks. For high performance data pipelines tf.data is recommended.\n",
      "84/84 [==============================] - ETA: 0s - loss: 10.0026 - maed: 2.6497WARNING:tensorflow:multiprocessing can interact badly with TensorFlow, causing nondeterministic deadlocks. For high performance data pipelines tf.data is recommended.\n",
      "WARNING:tensorflow:multiprocessing can interact badly with TensorFlow, causing nondeterministic deadlocks. For high performance data pipelines tf.data is recommended.\n",
      "84/84 [==============================] - 50s 590ms/step - loss: 10.0026 - maed: 2.6497 - val_loss: 39.9425 - val_maed: 5.5588\n",
      "Epoch 24/100\n",
      "WARNING:tensorflow:multiprocessing can interact badly with TensorFlow, causing nondeterministic deadlocks. For high performance data pipelines tf.data is recommended.\n",
      "83/84 [============================>.] - ETA: 0s - loss: 8.4500 - maed: 2.4160WARNING:tensorflow:multiprocessing can interact badly with TensorFlow, causing nondeterministic deadlocks. For high performance data pipelines tf.data is recommended.\n",
      "84/84 [==============================] - ETA: 0s - loss: 8.4490 - maed: 2.4167WARNING:tensorflow:multiprocessing can interact badly with TensorFlow, causing nondeterministic deadlocks. For high performance data pipelines tf.data is recommended.\n",
      "WARNING:tensorflow:multiprocessing can interact badly with TensorFlow, causing nondeterministic deadlocks. For high performance data pipelines tf.data is recommended.\n",
      "84/84 [==============================] - 50s 590ms/step - loss: 8.4490 - maed: 2.4167 - val_loss: 26.0270 - val_maed: 4.3334\n",
      "Epoch 25/100\n",
      "WARNING:tensorflow:multiprocessing can interact badly with TensorFlow, causing nondeterministic deadlocks. For high performance data pipelines tf.data is recommended.\n",
      "83/84 [============================>.] - ETA: 0s - loss: 15.3226 - maed: 3.2406WARNING:tensorflow:multiprocessing can interact badly with TensorFlow, causing nondeterministic deadlocks. For high performance data pipelines tf.data is recommended.\n",
      "84/84 [==============================] - ETA: 0s - loss: 15.3574 - maed: 3.2460WARNING:tensorflow:multiprocessing can interact badly with TensorFlow, causing nondeterministic deadlocks. For high performance data pipelines tf.data is recommended.\n",
      "WARNING:tensorflow:multiprocessing can interact badly with TensorFlow, causing nondeterministic deadlocks. For high performance data pipelines tf.data is recommended.\n",
      "84/84 [==============================] - 49s 588ms/step - loss: 15.3574 - maed: 3.2460 - val_loss: 54.4448 - val_maed: 6.5806\n",
      "Epoch 26/100\n",
      "WARNING:tensorflow:multiprocessing can interact badly with TensorFlow, causing nondeterministic deadlocks. For high performance data pipelines tf.data is recommended.\n",
      "83/84 [============================>.] - ETA: 0s - loss: 18.3653 - maed: 3.5501WARNING:tensorflow:multiprocessing can interact badly with TensorFlow, causing nondeterministic deadlocks. For high performance data pipelines tf.data is recommended.\n"
     ]
    },
    {
     "name": "stdout",
     "output_type": "stream",
     "text": [
      "84/84 [==============================] - ETA: 0s - loss: 18.4567 - maed: 3.5559WARNING:tensorflow:multiprocessing can interact badly with TensorFlow, causing nondeterministic deadlocks. For high performance data pipelines tf.data is recommended.\n",
      "WARNING:tensorflow:multiprocessing can interact badly with TensorFlow, causing nondeterministic deadlocks. For high performance data pipelines tf.data is recommended.\n",
      "84/84 [==============================] - 50s 592ms/step - loss: 18.4567 - maed: 3.5559 - val_loss: 70.7192 - val_maed: 6.5348\n",
      "Epoch 27/100\n",
      "WARNING:tensorflow:multiprocessing can interact badly with TensorFlow, causing nondeterministic deadlocks. For high performance data pipelines tf.data is recommended.\n",
      "83/84 [============================>.] - ETA: 0s - loss: 18.5836 - maed: 3.5609WARNING:tensorflow:multiprocessing can interact badly with TensorFlow, causing nondeterministic deadlocks. For high performance data pipelines tf.data is recommended.\n",
      "84/84 [==============================] - ETA: 0s - loss: 18.5536 - maed: 3.5590WARNING:tensorflow:multiprocessing can interact badly with TensorFlow, causing nondeterministic deadlocks. For high performance data pipelines tf.data is recommended.\n",
      "WARNING:tensorflow:multiprocessing can interact badly with TensorFlow, causing nondeterministic deadlocks. For high performance data pipelines tf.data is recommended.\n",
      "84/84 [==============================] - 49s 584ms/step - loss: 18.5536 - maed: 3.5590 - val_loss: 32.1062 - val_maed: 4.6568\n",
      "Epoch 28/100\n",
      "WARNING:tensorflow:multiprocessing can interact badly with TensorFlow, causing nondeterministic deadlocks. For high performance data pipelines tf.data is recommended.\n",
      "83/84 [============================>.] - ETA: 0s - loss: 14.4799 - maed: 3.1872WARNING:tensorflow:multiprocessing can interact badly with TensorFlow, causing nondeterministic deadlocks. For high performance data pipelines tf.data is recommended.\n",
      "84/84 [==============================] - ETA: 0s - loss: 14.4343 - maed: 3.1810WARNING:tensorflow:multiprocessing can interact badly with TensorFlow, causing nondeterministic deadlocks. For high performance data pipelines tf.data is recommended.\n",
      "WARNING:tensorflow:multiprocessing can interact badly with TensorFlow, causing nondeterministic deadlocks. For high performance data pipelines tf.data is recommended.\n",
      "84/84 [==============================] - 49s 579ms/step - loss: 14.4343 - maed: 3.1810 - val_loss: 14.1944 - val_maed: 3.0920\n",
      "Epoch 29/100\n",
      "WARNING:tensorflow:multiprocessing can interact badly with TensorFlow, causing nondeterministic deadlocks. For high performance data pipelines tf.data is recommended.\n",
      "83/84 [============================>.] - ETA: 0s - loss: 7.6633 - maed: 2.3251WARNING:tensorflow:multiprocessing can interact badly with TensorFlow, causing nondeterministic deadlocks. For high performance data pipelines tf.data is recommended.\n",
      "84/84 [==============================] - ETA: 0s - loss: 7.6303 - maed: 2.3195WARNING:tensorflow:multiprocessing can interact badly with TensorFlow, causing nondeterministic deadlocks. For high performance data pipelines tf.data is recommended.\n",
      "WARNING:tensorflow:multiprocessing can interact badly with TensorFlow, causing nondeterministic deadlocks. For high performance data pipelines tf.data is recommended.\n",
      "84/84 [==============================] - 48s 576ms/step - loss: 7.6303 - maed: 2.3195 - val_loss: 52.1078 - val_maed: 6.0389\n",
      "Epoch 30/100\n",
      "WARNING:tensorflow:multiprocessing can interact badly with TensorFlow, causing nondeterministic deadlocks. For high performance data pipelines tf.data is recommended.\n",
      "83/84 [============================>.] - ETA: 0s - loss: 9.1475 - maed: 2.5062WARNING:tensorflow:multiprocessing can interact badly with TensorFlow, causing nondeterministic deadlocks. For high performance data pipelines tf.data is recommended.\n",
      "84/84 [==============================] - ETA: 0s - loss: 9.1876 - maed: 2.5137WARNING:tensorflow:multiprocessing can interact badly with TensorFlow, causing nondeterministic deadlocks. For high performance data pipelines tf.data is recommended.\n",
      "WARNING:tensorflow:multiprocessing can interact badly with TensorFlow, causing nondeterministic deadlocks. For high performance data pipelines tf.data is recommended.\n",
      "84/84 [==============================] - 49s 580ms/step - loss: 9.1876 - maed: 2.5137 - val_loss: 28.6285 - val_maed: 4.6978\n",
      "Epoch 31/100\n",
      "WARNING:tensorflow:multiprocessing can interact badly with TensorFlow, causing nondeterministic deadlocks. For high performance data pipelines tf.data is recommended.\n",
      "83/84 [============================>.] - ETA: 0s - loss: 15.9438 - maed: 3.3261WARNING:tensorflow:multiprocessing can interact badly with TensorFlow, causing nondeterministic deadlocks. For high performance data pipelines tf.data is recommended.\n",
      "84/84 [==============================] - ETA: 0s - loss: 15.9650 - maed: 3.3284WARNING:tensorflow:multiprocessing can interact badly with TensorFlow, causing nondeterministic deadlocks. For high performance data pipelines tf.data is recommended.\n",
      "WARNING:tensorflow:multiprocessing can interact badly with TensorFlow, causing nondeterministic deadlocks. For high performance data pipelines tf.data is recommended.\n",
      "84/84 [==============================] - 48s 577ms/step - loss: 15.9650 - maed: 3.3284 - val_loss: 104.9470 - val_maed: 8.6770\n",
      "Epoch 32/100\n",
      "WARNING:tensorflow:multiprocessing can interact badly with TensorFlow, causing nondeterministic deadlocks. For high performance data pipelines tf.data is recommended.\n",
      "83/84 [============================>.] - ETA: 0s - loss: 17.0494 - maed: 3.4420WARNING:tensorflow:multiprocessing can interact badly with TensorFlow, causing nondeterministic deadlocks. For high performance data pipelines tf.data is recommended.\n",
      "84/84 [==============================] - ETA: 0s - loss: 17.1812 - maed: 3.4515WARNING:tensorflow:multiprocessing can interact badly with TensorFlow, causing nondeterministic deadlocks. For high performance data pipelines tf.data is recommended.\n",
      "WARNING:tensorflow:multiprocessing can interact badly with TensorFlow, causing nondeterministic deadlocks. For high performance data pipelines tf.data is recommended.\n",
      "84/84 [==============================] - 48s 577ms/step - loss: 17.1812 - maed: 3.4515 - val_loss: 32.6058 - val_maed: 4.7710\n",
      "Epoch 33/100\n",
      "WARNING:tensorflow:multiprocessing can interact badly with TensorFlow, causing nondeterministic deadlocks. For high performance data pipelines tf.data is recommended.\n",
      "83/84 [============================>.] - ETA: 0s - loss: 18.5498 - maed: 3.6107WARNING:tensorflow:multiprocessing can interact badly with TensorFlow, causing nondeterministic deadlocks. For high performance data pipelines tf.data is recommended.\n",
      "84/84 [==============================] - ETA: 0s - loss: 18.5779 - maed: 3.6124WARNING:tensorflow:multiprocessing can interact badly with TensorFlow, causing nondeterministic deadlocks. For high performance data pipelines tf.data is recommended.\n",
      "WARNING:tensorflow:multiprocessing can interact badly with TensorFlow, causing nondeterministic deadlocks. For high performance data pipelines tf.data is recommended.\n",
      "84/84 [==============================] - 48s 577ms/step - loss: 18.5779 - maed: 3.6124 - val_loss: 71.1329 - val_maed: 6.8514\n",
      "Epoch 34/100\n",
      "WARNING:tensorflow:multiprocessing can interact badly with TensorFlow, causing nondeterministic deadlocks. For high performance data pipelines tf.data is recommended.\n",
      "83/84 [============================>.] - ETA: 0s - loss: 15.1227 - maed: 3.2291WARNING:tensorflow:multiprocessing can interact badly with TensorFlow, causing nondeterministic deadlocks. For high performance data pipelines tf.data is recommended.\n",
      "84/84 [==============================] - ETA: 0s - loss: 15.0354 - maed: 3.2190WARNING:tensorflow:multiprocessing can interact badly with TensorFlow, causing nondeterministic deadlocks. For high performance data pipelines tf.data is recommended.\n",
      "WARNING:tensorflow:multiprocessing can interact badly with TensorFlow, causing nondeterministic deadlocks. For high performance data pipelines tf.data is recommended.\n",
      "84/84 [==============================] - 48s 576ms/step - loss: 15.0354 - maed: 3.2190 - val_loss: 28.7579 - val_maed: 4.4633\n"
     ]
    },
    {
     "name": "stdout",
     "output_type": "stream",
     "text": [
      "Epoch 35/100\n",
      "WARNING:tensorflow:multiprocessing can interact badly with TensorFlow, causing nondeterministic deadlocks. For high performance data pipelines tf.data is recommended.\n",
      "83/84 [============================>.] - ETA: 0s - loss: 11.3940 - maed: 2.8016WARNING:tensorflow:multiprocessing can interact badly with TensorFlow, causing nondeterministic deadlocks. For high performance data pipelines tf.data is recommended.\n",
      "84/84 [==============================] - ETA: 0s - loss: 11.4096 - maed: 2.8059WARNING:tensorflow:multiprocessing can interact badly with TensorFlow, causing nondeterministic deadlocks. For high performance data pipelines tf.data is recommended.\n",
      "WARNING:tensorflow:multiprocessing can interact badly with TensorFlow, causing nondeterministic deadlocks. For high performance data pipelines tf.data is recommended.\n",
      "84/84 [==============================] - 47s 554ms/step - loss: 11.4096 - maed: 2.8059 - val_loss: 46.3971 - val_maed: 5.5047\n",
      "Epoch 36/100\n",
      "WARNING:tensorflow:multiprocessing can interact badly with TensorFlow, causing nondeterministic deadlocks. For high performance data pipelines tf.data is recommended.\n",
      "83/84 [============================>.] - ETA: 0s - loss: 9.9617 - maed: 2.6077 WARNING:tensorflow:multiprocessing can interact badly with TensorFlow, causing nondeterministic deadlocks. For high performance data pipelines tf.data is recommended.\n",
      "84/84 [==============================] - ETA: 0s - loss: 10.0800 - maed: 2.6181WARNING:tensorflow:multiprocessing can interact badly with TensorFlow, causing nondeterministic deadlocks. For high performance data pipelines tf.data is recommended.\n",
      "WARNING:tensorflow:multiprocessing can interact badly with TensorFlow, causing nondeterministic deadlocks. For high performance data pipelines tf.data is recommended.\n",
      "84/84 [==============================] - 47s 556ms/step - loss: 10.0800 - maed: 2.6181 - val_loss: 49.0923 - val_maed: 6.1851\n",
      "Epoch 37/100\n",
      "WARNING:tensorflow:multiprocessing can interact badly with TensorFlow, causing nondeterministic deadlocks. For high performance data pipelines tf.data is recommended.\n",
      "83/84 [============================>.] - ETA: 0s - loss: 12.8201 - maed: 2.9604WARNING:tensorflow:multiprocessing can interact badly with TensorFlow, causing nondeterministic deadlocks. For high performance data pipelines tf.data is recommended.\n",
      "84/84 [==============================] - ETA: 0s - loss: 12.8146 - maed: 2.9616WARNING:tensorflow:multiprocessing can interact badly with TensorFlow, causing nondeterministic deadlocks. For high performance data pipelines tf.data is recommended.\n",
      "WARNING:tensorflow:multiprocessing can interact badly with TensorFlow, causing nondeterministic deadlocks. For high performance data pipelines tf.data is recommended.\n",
      "84/84 [==============================] - 47s 557ms/step - loss: 12.8146 - maed: 2.9616 - val_loss: 52.4480 - val_maed: 6.2121\n",
      "Epoch 38/100\n",
      "WARNING:tensorflow:multiprocessing can interact badly with TensorFlow, causing nondeterministic deadlocks. For high performance data pipelines tf.data is recommended.\n",
      "83/84 [============================>.] - ETA: 0s - loss: 17.4720 - maed: 3.4770WARNING:tensorflow:multiprocessing can interact badly with TensorFlow, causing nondeterministic deadlocks. For high performance data pipelines tf.data is recommended.\n",
      "84/84 [==============================] - ETA: 0s - loss: 17.3882 - maed: 3.4687WARNING:tensorflow:multiprocessing can interact badly with TensorFlow, causing nondeterministic deadlocks. For high performance data pipelines tf.data is recommended.\n",
      "WARNING:tensorflow:multiprocessing can interact badly with TensorFlow, causing nondeterministic deadlocks. For high performance data pipelines tf.data is recommended.\n",
      "84/84 [==============================] - 47s 555ms/step - loss: 17.3882 - maed: 3.4687 - val_loss: 64.1152 - val_maed: 5.9789\n",
      "Epoch 39/100\n",
      "WARNING:tensorflow:multiprocessing can interact badly with TensorFlow, causing nondeterministic deadlocks. For high performance data pipelines tf.data is recommended.\n",
      "83/84 [============================>.] - ETA: 0s - loss: 14.2765 - maed: 3.1510WARNING:tensorflow:multiprocessing can interact badly with TensorFlow, causing nondeterministic deadlocks. For high performance data pipelines tf.data is recommended.\n",
      "84/84 [==============================] - ETA: 0s - loss: 14.2308 - maed: 3.1474WARNING:tensorflow:multiprocessing can interact badly with TensorFlow, causing nondeterministic deadlocks. For high performance data pipelines tf.data is recommended.\n",
      "WARNING:tensorflow:multiprocessing can interact badly with TensorFlow, causing nondeterministic deadlocks. For high performance data pipelines tf.data is recommended.\n",
      "84/84 [==============================] - 47s 555ms/step - loss: 14.2308 - maed: 3.1474 - val_loss: 26.5119 - val_maed: 4.5847\n",
      "Epoch 40/100\n",
      "WARNING:tensorflow:multiprocessing can interact badly with TensorFlow, causing nondeterministic deadlocks. For high performance data pipelines tf.data is recommended.\n",
      "83/84 [============================>.] - ETA: 0s - loss: 8.0193 - maed: 2.3806WARNING:tensorflow:multiprocessing can interact badly with TensorFlow, causing nondeterministic deadlocks. For high performance data pipelines tf.data is recommended.\n",
      "84/84 [==============================] - ETA: 0s - loss: 8.0744 - maed: 2.3874WARNING:tensorflow:multiprocessing can interact badly with TensorFlow, causing nondeterministic deadlocks. For high performance data pipelines tf.data is recommended.\n",
      "WARNING:tensorflow:multiprocessing can interact badly with TensorFlow, causing nondeterministic deadlocks. For high performance data pipelines tf.data is recommended.\n",
      "84/84 [==============================] - 47s 558ms/step - loss: 8.0744 - maed: 2.3874 - val_loss: 17.8649 - val_maed: 3.5044\n",
      "Epoch 41/100\n",
      "WARNING:tensorflow:multiprocessing can interact badly with TensorFlow, causing nondeterministic deadlocks. For high performance data pipelines tf.data is recommended.\n",
      "83/84 [============================>.] - ETA: 0s - loss: 8.1397 - maed: 2.3763WARNING:tensorflow:multiprocessing can interact badly with TensorFlow, causing nondeterministic deadlocks. For high performance data pipelines tf.data is recommended.\n",
      "84/84 [==============================] - ETA: 0s - loss: 8.2676 - maed: 2.3957WARNING:tensorflow:multiprocessing can interact badly with TensorFlow, causing nondeterministic deadlocks. For high performance data pipelines tf.data is recommended.\n",
      "WARNING:tensorflow:multiprocessing can interact badly with TensorFlow, causing nondeterministic deadlocks. For high performance data pipelines tf.data is recommended.\n",
      "84/84 [==============================] - 47s 555ms/step - loss: 8.2676 - maed: 2.3957 - val_loss: 13.2628 - val_maed: 3.1165\n",
      "Epoch 42/100\n",
      "WARNING:tensorflow:multiprocessing can interact badly with TensorFlow, causing nondeterministic deadlocks. For high performance data pipelines tf.data is recommended.\n",
      "83/84 [============================>.] - ETA: 0s - loss: 7.8707 - maed: 2.3477WARNING:tensorflow:multiprocessing can interact badly with TensorFlow, causing nondeterministic deadlocks. For high performance data pipelines tf.data is recommended.\n",
      "84/84 [==============================] - ETA: 0s - loss: 7.9040 - maed: 2.3525WARNING:tensorflow:multiprocessing can interact badly with TensorFlow, causing nondeterministic deadlocks. For high performance data pipelines tf.data is recommended.\n",
      "WARNING:tensorflow:multiprocessing can interact badly with TensorFlow, causing nondeterministic deadlocks. For high performance data pipelines tf.data is recommended.\n",
      "84/84 [==============================] - 47s 556ms/step - loss: 7.9040 - maed: 2.3525 - val_loss: 13.7135 - val_maed: 3.0796\n",
      "Epoch 43/100\n",
      "WARNING:tensorflow:multiprocessing can interact badly with TensorFlow, causing nondeterministic deadlocks. For high performance data pipelines tf.data is recommended.\n",
      "83/84 [============================>.] - ETA: 0s - loss: 6.5044 - maed: 2.1135WARNING:tensorflow:multiprocessing can interact badly with TensorFlow, causing nondeterministic deadlocks. For high performance data pipelines tf.data is recommended.\n"
     ]
    },
    {
     "name": "stdout",
     "output_type": "stream",
     "text": [
      "84/84 [==============================] - ETA: 0s - loss: 6.5235 - maed: 2.1162WARNING:tensorflow:multiprocessing can interact badly with TensorFlow, causing nondeterministic deadlocks. For high performance data pipelines tf.data is recommended.\n",
      "WARNING:tensorflow:multiprocessing can interact badly with TensorFlow, causing nondeterministic deadlocks. For high performance data pipelines tf.data is recommended.\n",
      "84/84 [==============================] - 47s 556ms/step - loss: 6.5235 - maed: 2.1162 - val_loss: 11.5193 - val_maed: 2.7726\n",
      "Epoch 44/100\n",
      "WARNING:tensorflow:multiprocessing can interact badly with TensorFlow, causing nondeterministic deadlocks. For high performance data pipelines tf.data is recommended.\n",
      "83/84 [============================>.] - ETA: 0s - loss: 10.1026 - maed: 2.6061WARNING:tensorflow:multiprocessing can interact badly with TensorFlow, causing nondeterministic deadlocks. For high performance data pipelines tf.data is recommended.\n",
      "84/84 [==============================] - ETA: 0s - loss: 10.2392 - maed: 2.6221WARNING:tensorflow:multiprocessing can interact badly with TensorFlow, causing nondeterministic deadlocks. For high performance data pipelines tf.data is recommended.\n",
      "WARNING:tensorflow:multiprocessing can interact badly with TensorFlow, causing nondeterministic deadlocks. For high performance data pipelines tf.data is recommended.\n",
      "84/84 [==============================] - 47s 557ms/step - loss: 10.2392 - maed: 2.6221 - val_loss: 28.6087 - val_maed: 4.4914\n",
      "Epoch 45/100\n",
      "WARNING:tensorflow:multiprocessing can interact badly with TensorFlow, causing nondeterministic deadlocks. For high performance data pipelines tf.data is recommended.\n",
      "83/84 [============================>.] - ETA: 0s - loss: 11.7027 - maed: 2.8194WARNING:tensorflow:multiprocessing can interact badly with TensorFlow, causing nondeterministic deadlocks. For high performance data pipelines tf.data is recommended.\n",
      "84/84 [==============================] - ETA: 0s - loss: 11.6181 - maed: 2.8078WARNING:tensorflow:multiprocessing can interact badly with TensorFlow, causing nondeterministic deadlocks. For high performance data pipelines tf.data is recommended.\n",
      "WARNING:tensorflow:multiprocessing can interact badly with TensorFlow, causing nondeterministic deadlocks. For high performance data pipelines tf.data is recommended.\n",
      "84/84 [==============================] - 47s 555ms/step - loss: 11.6181 - maed: 2.8078 - val_loss: 35.1301 - val_maed: 5.1897\n",
      "Epoch 46/100\n",
      "WARNING:tensorflow:multiprocessing can interact badly with TensorFlow, causing nondeterministic deadlocks. For high performance data pipelines tf.data is recommended.\n",
      "83/84 [============================>.] - ETA: 0s - loss: 6.8386 - maed: 2.1932WARNING:tensorflow:multiprocessing can interact badly with TensorFlow, causing nondeterministic deadlocks. For high performance data pipelines tf.data is recommended.\n",
      "84/84 [==============================] - ETA: 0s - loss: 6.8156 - maed: 2.1892WARNING:tensorflow:multiprocessing can interact badly with TensorFlow, causing nondeterministic deadlocks. For high performance data pipelines tf.data is recommended.\n",
      "WARNING:tensorflow:multiprocessing can interact badly with TensorFlow, causing nondeterministic deadlocks. For high performance data pipelines tf.data is recommended.\n",
      "84/84 [==============================] - 47s 555ms/step - loss: 6.8156 - maed: 2.1892 - val_loss: 18.8971 - val_maed: 3.7987\n",
      "Epoch 47/100\n",
      "WARNING:tensorflow:multiprocessing can interact badly with TensorFlow, causing nondeterministic deadlocks. For high performance data pipelines tf.data is recommended.\n",
      "83/84 [============================>.] - ETA: 0s - loss: 6.8009 - maed: 2.1565WARNING:tensorflow:multiprocessing can interact badly with TensorFlow, causing nondeterministic deadlocks. For high performance data pipelines tf.data is recommended.\n",
      "84/84 [==============================] - ETA: 0s - loss: 6.7575 - maed: 2.1486WARNING:tensorflow:multiprocessing can interact badly with TensorFlow, causing nondeterministic deadlocks. For high performance data pipelines tf.data is recommended.\n",
      "WARNING:tensorflow:multiprocessing can interact badly with TensorFlow, causing nondeterministic deadlocks. For high performance data pipelines tf.data is recommended.\n",
      "84/84 [==============================] - 47s 558ms/step - loss: 6.7575 - maed: 2.1486 - val_loss: 14.7798 - val_maed: 3.2406\n",
      "Epoch 48/100\n",
      "WARNING:tensorflow:multiprocessing can interact badly with TensorFlow, causing nondeterministic deadlocks. For high performance data pipelines tf.data is recommended.\n",
      "83/84 [============================>.] - ETA: 0s - loss: 4.2985 - maed: 1.7400WARNING:tensorflow:multiprocessing can interact badly with TensorFlow, causing nondeterministic deadlocks. For high performance data pipelines tf.data is recommended.\n",
      "84/84 [==============================] - ETA: 0s - loss: 4.2825 - maed: 1.7370WARNING:tensorflow:multiprocessing can interact badly with TensorFlow, causing nondeterministic deadlocks. For high performance data pipelines tf.data is recommended.\n",
      "WARNING:tensorflow:multiprocessing can interact badly with TensorFlow, causing nondeterministic deadlocks. For high performance data pipelines tf.data is recommended.\n",
      "84/84 [==============================] - 47s 555ms/step - loss: 4.2825 - maed: 1.7370 - val_loss: 12.0689 - val_maed: 2.9240\n",
      "Epoch 49/100\n",
      "WARNING:tensorflow:multiprocessing can interact badly with TensorFlow, causing nondeterministic deadlocks. For high performance data pipelines tf.data is recommended.\n",
      "83/84 [============================>.] - ETA: 0s - loss: 4.1690 - maed: 1.7129WARNING:tensorflow:multiprocessing can interact badly with TensorFlow, causing nondeterministic deadlocks. For high performance data pipelines tf.data is recommended.\n",
      "84/84 [==============================] - ETA: 0s - loss: 4.1693 - maed: 1.7135WARNING:tensorflow:multiprocessing can interact badly with TensorFlow, causing nondeterministic deadlocks. For high performance data pipelines tf.data is recommended.\n",
      "WARNING:tensorflow:multiprocessing can interact badly with TensorFlow, causing nondeterministic deadlocks. For high performance data pipelines tf.data is recommended.\n",
      "84/84 [==============================] - 47s 557ms/step - loss: 4.1693 - maed: 1.7135 - val_loss: 13.7590 - val_maed: 3.2082\n",
      "Epoch 50/100\n",
      "WARNING:tensorflow:multiprocessing can interact badly with TensorFlow, causing nondeterministic deadlocks. For high performance data pipelines tf.data is recommended.\n",
      "83/84 [============================>.] - ETA: 0s - loss: 5.3737 - maed: 1.9493WARNING:tensorflow:multiprocessing can interact badly with TensorFlow, causing nondeterministic deadlocks. For high performance data pipelines tf.data is recommended.\n",
      "84/84 [==============================] - ETA: 0s - loss: 5.3362 - maed: 1.9414WARNING:tensorflow:multiprocessing can interact badly with TensorFlow, causing nondeterministic deadlocks. For high performance data pipelines tf.data is recommended.\n",
      "WARNING:tensorflow:multiprocessing can interact badly with TensorFlow, causing nondeterministic deadlocks. For high performance data pipelines tf.data is recommended.\n",
      "84/84 [==============================] - 47s 560ms/step - loss: 5.3362 - maed: 1.9414 - val_loss: 9.6803 - val_maed: 2.6048\n",
      "Epoch 51/100\n",
      "WARNING:tensorflow:multiprocessing can interact badly with TensorFlow, causing nondeterministic deadlocks. For high performance data pipelines tf.data is recommended.\n",
      "83/84 [============================>.] - ETA: 0s - loss: 5.4769 - maed: 1.9430WARNING:tensorflow:multiprocessing can interact badly with TensorFlow, causing nondeterministic deadlocks. For high performance data pipelines tf.data is recommended.\n",
      "84/84 [==============================] - ETA: 0s - loss: 5.4627 - maed: 1.9409WARNING:tensorflow:multiprocessing can interact badly with TensorFlow, causing nondeterministic deadlocks. For high performance data pipelines tf.data is recommended.\n",
      "WARNING:tensorflow:multiprocessing can interact badly with TensorFlow, causing nondeterministic deadlocks. For high performance data pipelines tf.data is recommended.\n",
      "84/84 [==============================] - 47s 555ms/step - loss: 5.4627 - maed: 1.9409 - val_loss: 14.2048 - val_maed: 3.1423\n"
     ]
    },
    {
     "name": "stdout",
     "output_type": "stream",
     "text": [
      "Epoch 52/100\n",
      "WARNING:tensorflow:multiprocessing can interact badly with TensorFlow, causing nondeterministic deadlocks. For high performance data pipelines tf.data is recommended.\n",
      "83/84 [============================>.] - ETA: 0s - loss: 7.4964 - maed: 2.3045WARNING:tensorflow:multiprocessing can interact badly with TensorFlow, causing nondeterministic deadlocks. For high performance data pipelines tf.data is recommended.\n",
      "84/84 [==============================] - ETA: 0s - loss: 7.5878 - maed: 2.3185WARNING:tensorflow:multiprocessing can interact badly with TensorFlow, causing nondeterministic deadlocks. For high performance data pipelines tf.data is recommended.\n",
      "WARNING:tensorflow:multiprocessing can interact badly with TensorFlow, causing nondeterministic deadlocks. For high performance data pipelines tf.data is recommended.\n",
      "84/84 [==============================] - 47s 554ms/step - loss: 7.5878 - maed: 2.3185 - val_loss: 17.1880 - val_maed: 3.5146\n",
      "Epoch 53/100\n",
      "WARNING:tensorflow:multiprocessing can interact badly with TensorFlow, causing nondeterministic deadlocks. For high performance data pipelines tf.data is recommended.\n",
      "83/84 [============================>.] - ETA: 0s - loss: 18.4626 - maed: 3.5270WARNING:tensorflow:multiprocessing can interact badly with TensorFlow, causing nondeterministic deadlocks. For high performance data pipelines tf.data is recommended.\n",
      "84/84 [==============================] - ETA: 0s - loss: 18.7738 - maed: 3.5495WARNING:tensorflow:multiprocessing can interact badly with TensorFlow, causing nondeterministic deadlocks. For high performance data pipelines tf.data is recommended.\n",
      "WARNING:tensorflow:multiprocessing can interact badly with TensorFlow, causing nondeterministic deadlocks. For high performance data pipelines tf.data is recommended.\n",
      "84/84 [==============================] - 47s 557ms/step - loss: 18.7738 - maed: 3.5495 - val_loss: 71.9244 - val_maed: 7.1224\n",
      "Epoch 54/100\n",
      "WARNING:tensorflow:multiprocessing can interact badly with TensorFlow, causing nondeterministic deadlocks. For high performance data pipelines tf.data is recommended.\n",
      "83/84 [============================>.] - ETA: 0s - loss: 14.3359 - maed: 3.1726WARNING:tensorflow:multiprocessing can interact badly with TensorFlow, causing nondeterministic deadlocks. For high performance data pipelines tf.data is recommended.\n",
      "84/84 [==============================] - ETA: 0s - loss: 14.4655 - maed: 3.1870WARNING:tensorflow:multiprocessing can interact badly with TensorFlow, causing nondeterministic deadlocks. For high performance data pipelines tf.data is recommended.\n",
      "WARNING:tensorflow:multiprocessing can interact badly with TensorFlow, causing nondeterministic deadlocks. For high performance data pipelines tf.data is recommended.\n",
      "84/84 [==============================] - 47s 555ms/step - loss: 14.4655 - maed: 3.1870 - val_loss: 44.6691 - val_maed: 5.5822\n",
      "Epoch 55/100\n",
      "WARNING:tensorflow:multiprocessing can interact badly with TensorFlow, causing nondeterministic deadlocks. For high performance data pipelines tf.data is recommended.\n",
      "83/84 [============================>.] - ETA: 0s - loss: 9.4132 - maed: 2.5607WARNING:tensorflow:multiprocessing can interact badly with TensorFlow, causing nondeterministic deadlocks. For high performance data pipelines tf.data is recommended.\n",
      "84/84 [==============================] - ETA: 0s - loss: 9.4007 - maed: 2.5604WARNING:tensorflow:multiprocessing can interact badly with TensorFlow, causing nondeterministic deadlocks. For high performance data pipelines tf.data is recommended.\n",
      "WARNING:tensorflow:multiprocessing can interact badly with TensorFlow, causing nondeterministic deadlocks. For high performance data pipelines tf.data is recommended.\n",
      "84/84 [==============================] - 47s 557ms/step - loss: 9.4007 - maed: 2.5604 - val_loss: 89.8987 - val_maed: 8.0128\n",
      "Epoch 56/100\n",
      "WARNING:tensorflow:multiprocessing can interact badly with TensorFlow, causing nondeterministic deadlocks. For high performance data pipelines tf.data is recommended.\n",
      "83/84 [============================>.] - ETA: 0s - loss: 32.2501 - maed: 4.6144WARNING:tensorflow:multiprocessing can interact badly with TensorFlow, causing nondeterministic deadlocks. For high performance data pipelines tf.data is recommended.\n",
      "84/84 [==============================] - ETA: 0s - loss: 32.1476 - maed: 4.6091WARNING:tensorflow:multiprocessing can interact badly with TensorFlow, causing nondeterministic deadlocks. For high performance data pipelines tf.data is recommended.\n",
      "WARNING:tensorflow:multiprocessing can interact badly with TensorFlow, causing nondeterministic deadlocks. For high performance data pipelines tf.data is recommended.\n",
      "84/84 [==============================] - 47s 555ms/step - loss: 32.1476 - maed: 4.6091 - val_loss: 45.7573 - val_maed: 5.5946\n",
      "Epoch 57/100\n",
      "WARNING:tensorflow:multiprocessing can interact badly with TensorFlow, causing nondeterministic deadlocks. For high performance data pipelines tf.data is recommended.\n",
      "83/84 [============================>.] - ETA: 0s - loss: 14.7221 - maed: 3.2089WARNING:tensorflow:multiprocessing can interact badly with TensorFlow, causing nondeterministic deadlocks. For high performance data pipelines tf.data is recommended.\n",
      "84/84 [==============================] - ETA: 0s - loss: 14.6626 - maed: 3.2027WARNING:tensorflow:multiprocessing can interact badly with TensorFlow, causing nondeterministic deadlocks. For high performance data pipelines tf.data is recommended.\n",
      "WARNING:tensorflow:multiprocessing can interact badly with TensorFlow, causing nondeterministic deadlocks. For high performance data pipelines tf.data is recommended.\n",
      "84/84 [==============================] - 47s 555ms/step - loss: 14.6626 - maed: 3.2027 - val_loss: 49.5233 - val_maed: 5.7963\n",
      "Epoch 58/100\n",
      "WARNING:tensorflow:multiprocessing can interact badly with TensorFlow, causing nondeterministic deadlocks. For high performance data pipelines tf.data is recommended.\n",
      "83/84 [============================>.] - ETA: 0s - loss: 7.5731 - maed: 2.3142WARNING:tensorflow:multiprocessing can interact badly with TensorFlow, causing nondeterministic deadlocks. For high performance data pipelines tf.data is recommended.\n",
      "84/84 [==============================] - ETA: 0s - loss: 7.5334 - maed: 2.3073WARNING:tensorflow:multiprocessing can interact badly with TensorFlow, causing nondeterministic deadlocks. For high performance data pipelines tf.data is recommended.\n",
      "WARNING:tensorflow:multiprocessing can interact badly with TensorFlow, causing nondeterministic deadlocks. For high performance data pipelines tf.data is recommended.\n",
      "84/84 [==============================] - 47s 556ms/step - loss: 7.5334 - maed: 2.3073 - val_loss: 7.3165 - val_maed: 2.3078\n",
      "Epoch 59/100\n",
      "WARNING:tensorflow:multiprocessing can interact badly with TensorFlow, causing nondeterministic deadlocks. For high performance data pipelines tf.data is recommended.\n",
      "83/84 [============================>.] - ETA: 0s - loss: 4.8902 - maed: 1.8646WARNING:tensorflow:multiprocessing can interact badly with TensorFlow, causing nondeterministic deadlocks. For high performance data pipelines tf.data is recommended.\n",
      "84/84 [==============================] - ETA: 0s - loss: 4.9052 - maed: 1.8675WARNING:tensorflow:multiprocessing can interact badly with TensorFlow, causing nondeterministic deadlocks. For high performance data pipelines tf.data is recommended.\n",
      "WARNING:tensorflow:multiprocessing can interact badly with TensorFlow, causing nondeterministic deadlocks. For high performance data pipelines tf.data is recommended.\n",
      "84/84 [==============================] - 47s 556ms/step - loss: 4.9052 - maed: 1.8675 - val_loss: 7.4583 - val_maed: 2.2984\n",
      "Epoch 60/100\n",
      "WARNING:tensorflow:multiprocessing can interact badly with TensorFlow, causing nondeterministic deadlocks. For high performance data pipelines tf.data is recommended.\n",
      "83/84 [============================>.] - ETA: 0s - loss: 5.4423 - maed: 1.8984WARNING:tensorflow:multiprocessing can interact badly with TensorFlow, causing nondeterministic deadlocks. For high performance data pipelines tf.data is recommended.\n"
     ]
    },
    {
     "name": "stdout",
     "output_type": "stream",
     "text": [
      "84/84 [==============================] - ETA: 0s - loss: 5.4532 - maed: 1.9005WARNING:tensorflow:multiprocessing can interact badly with TensorFlow, causing nondeterministic deadlocks. For high performance data pipelines tf.data is recommended.\n",
      "WARNING:tensorflow:multiprocessing can interact badly with TensorFlow, causing nondeterministic deadlocks. For high performance data pipelines tf.data is recommended.\n",
      "84/84 [==============================] - 47s 560ms/step - loss: 5.4532 - maed: 1.9005 - val_loss: 20.0101 - val_maed: 3.8386\n",
      "Epoch 61/100\n",
      "WARNING:tensorflow:multiprocessing can interact badly with TensorFlow, causing nondeterministic deadlocks. For high performance data pipelines tf.data is recommended.\n",
      "83/84 [============================>.] - ETA: 0s - loss: 7.6084 - maed: 2.2995WARNING:tensorflow:multiprocessing can interact badly with TensorFlow, causing nondeterministic deadlocks. For high performance data pipelines tf.data is recommended.\n",
      "84/84 [==============================] - ETA: 0s - loss: 7.5440 - maed: 2.2879WARNING:tensorflow:multiprocessing can interact badly with TensorFlow, causing nondeterministic deadlocks. For high performance data pipelines tf.data is recommended.\n",
      "WARNING:tensorflow:multiprocessing can interact badly with TensorFlow, causing nondeterministic deadlocks. For high performance data pipelines tf.data is recommended.\n",
      "84/84 [==============================] - 47s 557ms/step - loss: 7.5440 - maed: 2.2879 - val_loss: 25.8853 - val_maed: 4.3391\n",
      "Epoch 62/100\n",
      "WARNING:tensorflow:multiprocessing can interact badly with TensorFlow, causing nondeterministic deadlocks. For high performance data pipelines tf.data is recommended.\n",
      "83/84 [============================>.] - ETA: 0s - loss: 3.7913 - maed: 1.6321WARNING:tensorflow:multiprocessing can interact badly with TensorFlow, causing nondeterministic deadlocks. For high performance data pipelines tf.data is recommended.\n",
      "84/84 [==============================] - ETA: 0s - loss: 3.7749 - maed: 1.6284WARNING:tensorflow:multiprocessing can interact badly with TensorFlow, causing nondeterministic deadlocks. For high performance data pipelines tf.data is recommended.\n",
      "WARNING:tensorflow:multiprocessing can interact badly with TensorFlow, causing nondeterministic deadlocks. For high performance data pipelines tf.data is recommended.\n",
      "84/84 [==============================] - 47s 557ms/step - loss: 3.7749 - maed: 1.6284 - val_loss: 9.0722 - val_maed: 2.5755\n",
      "Epoch 63/100\n",
      "WARNING:tensorflow:multiprocessing can interact badly with TensorFlow, causing nondeterministic deadlocks. For high performance data pipelines tf.data is recommended.\n",
      "83/84 [============================>.] - ETA: 0s - loss: 4.2664 - maed: 1.7279WARNING:tensorflow:multiprocessing can interact badly with TensorFlow, causing nondeterministic deadlocks. For high performance data pipelines tf.data is recommended.\n",
      "84/84 [==============================] - ETA: 0s - loss: 4.2486 - maed: 1.7237WARNING:tensorflow:multiprocessing can interact badly with TensorFlow, causing nondeterministic deadlocks. For high performance data pipelines tf.data is recommended.\n",
      "WARNING:tensorflow:multiprocessing can interact badly with TensorFlow, causing nondeterministic deadlocks. For high performance data pipelines tf.data is recommended.\n",
      "84/84 [==============================] - 47s 555ms/step - loss: 4.2486 - maed: 1.7237 - val_loss: 7.3133 - val_maed: 2.1343\n",
      "Epoch 64/100\n",
      "WARNING:tensorflow:multiprocessing can interact badly with TensorFlow, causing nondeterministic deadlocks. For high performance data pipelines tf.data is recommended.\n",
      "83/84 [============================>.] - ETA: 0s - loss: 3.1957 - maed: 1.4972WARNING:tensorflow:multiprocessing can interact badly with TensorFlow, causing nondeterministic deadlocks. For high performance data pipelines tf.data is recommended.\n",
      "84/84 [==============================] - ETA: 0s - loss: 3.1841 - maed: 1.4944WARNING:tensorflow:multiprocessing can interact badly with TensorFlow, causing nondeterministic deadlocks. For high performance data pipelines tf.data is recommended.\n",
      "WARNING:tensorflow:multiprocessing can interact badly with TensorFlow, causing nondeterministic deadlocks. For high performance data pipelines tf.data is recommended.\n",
      "84/84 [==============================] - 47s 559ms/step - loss: 3.1841 - maed: 1.4944 - val_loss: 14.5301 - val_maed: 3.2856\n",
      "Epoch 65/100\n",
      "WARNING:tensorflow:multiprocessing can interact badly with TensorFlow, causing nondeterministic deadlocks. For high performance data pipelines tf.data is recommended.\n",
      "83/84 [============================>.] - ETA: 0s - loss: 8.1423 - maed: 2.3469WARNING:tensorflow:multiprocessing can interact badly with TensorFlow, causing nondeterministic deadlocks. For high performance data pipelines tf.data is recommended.\n",
      "84/84 [==============================] - ETA: 0s - loss: 8.1395 - maed: 2.3473WARNING:tensorflow:multiprocessing can interact badly with TensorFlow, causing nondeterministic deadlocks. For high performance data pipelines tf.data is recommended.\n",
      "WARNING:tensorflow:multiprocessing can interact badly with TensorFlow, causing nondeterministic deadlocks. For high performance data pipelines tf.data is recommended.\n",
      "84/84 [==============================] - 47s 555ms/step - loss: 8.1395 - maed: 2.3473 - val_loss: 23.0543 - val_maed: 3.6376\n",
      "Epoch 66/100\n",
      "WARNING:tensorflow:multiprocessing can interact badly with TensorFlow, causing nondeterministic deadlocks. For high performance data pipelines tf.data is recommended.\n",
      "83/84 [============================>.] - ETA: 0s - loss: 7.4410 - maed: 2.2768WARNING:tensorflow:multiprocessing can interact badly with TensorFlow, causing nondeterministic deadlocks. For high performance data pipelines tf.data is recommended.\n",
      "84/84 [==============================] - ETA: 0s - loss: 7.4214 - maed: 2.2739WARNING:tensorflow:multiprocessing can interact badly with TensorFlow, causing nondeterministic deadlocks. For high performance data pipelines tf.data is recommended.\n",
      "WARNING:tensorflow:multiprocessing can interact badly with TensorFlow, causing nondeterministic deadlocks. For high performance data pipelines tf.data is recommended.\n",
      "84/84 [==============================] - 47s 555ms/step - loss: 7.4214 - maed: 2.2739 - val_loss: 34.3488 - val_maed: 5.1839\n",
      "Epoch 67/100\n",
      "WARNING:tensorflow:multiprocessing can interact badly with TensorFlow, causing nondeterministic deadlocks. For high performance data pipelines tf.data is recommended.\n",
      "83/84 [============================>.] - ETA: 0s - loss: 10.2035 - maed: 2.6320WARNING:tensorflow:multiprocessing can interact badly with TensorFlow, causing nondeterministic deadlocks. For high performance data pipelines tf.data is recommended.\n",
      "84/84 [==============================] - ETA: 0s - loss: 10.1944 - maed: 2.6321WARNING:tensorflow:multiprocessing can interact badly with TensorFlow, causing nondeterministic deadlocks. For high performance data pipelines tf.data is recommended.\n",
      "WARNING:tensorflow:multiprocessing can interact badly with TensorFlow, causing nondeterministic deadlocks. For high performance data pipelines tf.data is recommended.\n",
      "84/84 [==============================] - 47s 557ms/step - loss: 10.1944 - maed: 2.6321 - val_loss: 47.6342 - val_maed: 6.2408\n",
      "Epoch 68/100\n",
      "WARNING:tensorflow:multiprocessing can interact badly with TensorFlow, causing nondeterministic deadlocks. For high performance data pipelines tf.data is recommended.\n",
      "83/84 [============================>.] - ETA: 0s - loss: 6.7876 - maed: 2.1920WARNING:tensorflow:multiprocessing can interact badly with TensorFlow, causing nondeterministic deadlocks. For high performance data pipelines tf.data is recommended.\n",
      "84/84 [==============================] - ETA: 0s - loss: 6.7454 - maed: 2.1844WARNING:tensorflow:multiprocessing can interact badly with TensorFlow, causing nondeterministic deadlocks. For high performance data pipelines tf.data is recommended.\n",
      "WARNING:tensorflow:multiprocessing can interact badly with TensorFlow, causing nondeterministic deadlocks. For high performance data pipelines tf.data is recommended.\n",
      "84/84 [==============================] - 47s 555ms/step - loss: 6.7454 - maed: 2.1844 - val_loss: 10.2743 - val_maed: 2.6698\n"
     ]
    },
    {
     "name": "stdout",
     "output_type": "stream",
     "text": [
      "Epoch 69/100\n",
      "WARNING:tensorflow:multiprocessing can interact badly with TensorFlow, causing nondeterministic deadlocks. For high performance data pipelines tf.data is recommended.\n",
      "83/84 [============================>.] - ETA: 0s - loss: 5.9665 - maed: 2.0391WARNING:tensorflow:multiprocessing can interact badly with TensorFlow, causing nondeterministic deadlocks. For high performance data pipelines tf.data is recommended.\n",
      "84/84 [==============================] - ETA: 0s - loss: 5.9575 - maed: 2.0380WARNING:tensorflow:multiprocessing can interact badly with TensorFlow, causing nondeterministic deadlocks. For high performance data pipelines tf.data is recommended.\n",
      "WARNING:tensorflow:multiprocessing can interact badly with TensorFlow, causing nondeterministic deadlocks. For high performance data pipelines tf.data is recommended.\n",
      "84/84 [==============================] - 47s 554ms/step - loss: 5.9575 - maed: 2.0380 - val_loss: 16.3162 - val_maed: 3.4383\n",
      "Epoch 70/100\n",
      "WARNING:tensorflow:multiprocessing can interact badly with TensorFlow, causing nondeterministic deadlocks. For high performance data pipelines tf.data is recommended.\n",
      "83/84 [============================>.] - ETA: 0s - loss: 8.0835 - maed: 2.3673WARNING:tensorflow:multiprocessing can interact badly with TensorFlow, causing nondeterministic deadlocks. For high performance data pipelines tf.data is recommended.\n",
      "84/84 [==============================] - ETA: 0s - loss: 8.0999 - maed: 2.3695WARNING:tensorflow:multiprocessing can interact badly with TensorFlow, causing nondeterministic deadlocks. For high performance data pipelines tf.data is recommended.\n",
      "WARNING:tensorflow:multiprocessing can interact badly with TensorFlow, causing nondeterministic deadlocks. For high performance data pipelines tf.data is recommended.\n",
      "84/84 [==============================] - 47s 560ms/step - loss: 8.0999 - maed: 2.3695 - val_loss: 42.9190 - val_maed: 5.5199\n",
      "Epoch 71/100\n",
      "WARNING:tensorflow:multiprocessing can interact badly with TensorFlow, causing nondeterministic deadlocks. For high performance data pipelines tf.data is recommended.\n",
      "83/84 [============================>.] - ETA: 0s - loss: 9.2236 - maed: 2.5603WARNING:tensorflow:multiprocessing can interact badly with TensorFlow, causing nondeterministic deadlocks. For high performance data pipelines tf.data is recommended.\n",
      "84/84 [==============================] - ETA: 0s - loss: 9.1655 - maed: 2.5503WARNING:tensorflow:multiprocessing can interact badly with TensorFlow, causing nondeterministic deadlocks. For high performance data pipelines tf.data is recommended.\n",
      "WARNING:tensorflow:multiprocessing can interact badly with TensorFlow, causing nondeterministic deadlocks. For high performance data pipelines tf.data is recommended.\n",
      "84/84 [==============================] - 47s 558ms/step - loss: 9.1655 - maed: 2.5503 - val_loss: 20.3939 - val_maed: 3.8369\n",
      "Epoch 72/100\n",
      "WARNING:tensorflow:multiprocessing can interact badly with TensorFlow, causing nondeterministic deadlocks. For high performance data pipelines tf.data is recommended.\n",
      "83/84 [============================>.] - ETA: 0s - loss: 5.6928 - maed: 1.9949WARNING:tensorflow:multiprocessing can interact badly with TensorFlow, causing nondeterministic deadlocks. For high performance data pipelines tf.data is recommended.\n",
      "84/84 [==============================] - ETA: 0s - loss: 5.6726 - maed: 1.9912WARNING:tensorflow:multiprocessing can interact badly with TensorFlow, causing nondeterministic deadlocks. For high performance data pipelines tf.data is recommended.\n",
      "WARNING:tensorflow:multiprocessing can interact badly with TensorFlow, causing nondeterministic deadlocks. For high performance data pipelines tf.data is recommended.\n",
      "84/84 [==============================] - 47s 554ms/step - loss: 5.6726 - maed: 1.9912 - val_loss: 12.4607 - val_maed: 2.8173\n",
      "Epoch 73/100\n",
      "WARNING:tensorflow:multiprocessing can interact badly with TensorFlow, causing nondeterministic deadlocks. For high performance data pipelines tf.data is recommended.\n",
      "83/84 [============================>.] - ETA: 0s - loss: 6.5979 - maed: 2.1624WARNING:tensorflow:multiprocessing can interact badly with TensorFlow, causing nondeterministic deadlocks. For high performance data pipelines tf.data is recommended.\n",
      "84/84 [==============================] - ETA: 0s - loss: 6.5605 - maed: 2.1551WARNING:tensorflow:multiprocessing can interact badly with TensorFlow, causing nondeterministic deadlocks. For high performance data pipelines tf.data is recommended.\n",
      "WARNING:tensorflow:multiprocessing can interact badly with TensorFlow, causing nondeterministic deadlocks. For high performance data pipelines tf.data is recommended.\n",
      "84/84 [==============================] - 47s 557ms/step - loss: 6.5605 - maed: 2.1551 - val_loss: 8.4390 - val_maed: 2.3937\n",
      "Epoch 74/100\n",
      "WARNING:tensorflow:multiprocessing can interact badly with TensorFlow, causing nondeterministic deadlocks. For high performance data pipelines tf.data is recommended.\n",
      "83/84 [============================>.] - ETA: 0s - loss: 6.7660 - maed: 2.1610WARNING:tensorflow:multiprocessing can interact badly with TensorFlow, causing nondeterministic deadlocks. For high performance data pipelines tf.data is recommended.\n",
      "84/84 [==============================] - ETA: 0s - loss: 6.7855 - maed: 2.1653WARNING:tensorflow:multiprocessing can interact badly with TensorFlow, causing nondeterministic deadlocks. For high performance data pipelines tf.data is recommended.\n",
      "WARNING:tensorflow:multiprocessing can interact badly with TensorFlow, causing nondeterministic deadlocks. For high performance data pipelines tf.data is recommended.\n",
      "84/84 [==============================] - 47s 556ms/step - loss: 6.7855 - maed: 2.1653 - val_loss: 11.4147 - val_maed: 2.8115\n",
      "Epoch 75/100\n",
      "WARNING:tensorflow:multiprocessing can interact badly with TensorFlow, causing nondeterministic deadlocks. For high performance data pipelines tf.data is recommended.\n",
      "83/84 [============================>.] - ETA: 0s - loss: 3.5746 - maed: 1.5825WARNING:tensorflow:multiprocessing can interact badly with TensorFlow, causing nondeterministic deadlocks. For high performance data pipelines tf.data is recommended.\n",
      "84/84 [==============================] - ETA: 0s - loss: 3.5539 - maed: 1.5775WARNING:tensorflow:multiprocessing can interact badly with TensorFlow, causing nondeterministic deadlocks. For high performance data pipelines tf.data is recommended.\n",
      "WARNING:tensorflow:multiprocessing can interact badly with TensorFlow, causing nondeterministic deadlocks. For high performance data pipelines tf.data is recommended.\n",
      "84/84 [==============================] - 47s 555ms/step - loss: 3.5539 - maed: 1.5775 - val_loss: 6.8183 - val_maed: 2.1343\n",
      "Epoch 76/100\n",
      "WARNING:tensorflow:multiprocessing can interact badly with TensorFlow, causing nondeterministic deadlocks. For high performance data pipelines tf.data is recommended.\n",
      "83/84 [============================>.] - ETA: 0s - loss: 2.8295 - maed: 1.4019WARNING:tensorflow:multiprocessing can interact badly with TensorFlow, causing nondeterministic deadlocks. For high performance data pipelines tf.data is recommended.\n",
      "84/84 [==============================] - ETA: 0s - loss: 2.8297 - maed: 1.4017WARNING:tensorflow:multiprocessing can interact badly with TensorFlow, causing nondeterministic deadlocks. For high performance data pipelines tf.data is recommended.\n",
      "WARNING:tensorflow:multiprocessing can interact badly with TensorFlow, causing nondeterministic deadlocks. For high performance data pipelines tf.data is recommended.\n",
      "84/84 [==============================] - 47s 556ms/step - loss: 2.8297 - maed: 1.4017 - val_loss: 12.7486 - val_maed: 2.8169\n",
      "Epoch 77/100\n",
      "WARNING:tensorflow:multiprocessing can interact badly with TensorFlow, causing nondeterministic deadlocks. For high performance data pipelines tf.data is recommended.\n",
      "83/84 [============================>.] - ETA: 0s - loss: 4.9599 - maed: 1.8238WARNING:tensorflow:multiprocessing can interact badly with TensorFlow, causing nondeterministic deadlocks. For high performance data pipelines tf.data is recommended.\n"
     ]
    },
    {
     "name": "stdout",
     "output_type": "stream",
     "text": [
      "84/84 [==============================] - ETA: 0s - loss: 4.9707 - maed: 1.8279WARNING:tensorflow:multiprocessing can interact badly with TensorFlow, causing nondeterministic deadlocks. For high performance data pipelines tf.data is recommended.\n",
      "WARNING:tensorflow:multiprocessing can interact badly with TensorFlow, causing nondeterministic deadlocks. For high performance data pipelines tf.data is recommended.\n",
      "84/84 [==============================] - 47s 557ms/step - loss: 4.9707 - maed: 1.8279 - val_loss: 16.4748 - val_maed: 3.3623\n",
      "Epoch 78/100\n",
      "WARNING:tensorflow:multiprocessing can interact badly with TensorFlow, causing nondeterministic deadlocks. For high performance data pipelines tf.data is recommended.\n",
      "83/84 [============================>.] - ETA: 0s - loss: 8.0971 - maed: 2.3434WARNING:tensorflow:multiprocessing can interact badly with TensorFlow, causing nondeterministic deadlocks. For high performance data pipelines tf.data is recommended.\n",
      "84/84 [==============================] - ETA: 0s - loss: 8.0564 - maed: 2.3365WARNING:tensorflow:multiprocessing can interact badly with TensorFlow, causing nondeterministic deadlocks. For high performance data pipelines tf.data is recommended.\n",
      "WARNING:tensorflow:multiprocessing can interact badly with TensorFlow, causing nondeterministic deadlocks. For high performance data pipelines tf.data is recommended.\n",
      "84/84 [==============================] - 47s 555ms/step - loss: 8.0564 - maed: 2.3365 - val_loss: 23.3498 - val_maed: 4.2531\n",
      "Epoch 79/100\n",
      "WARNING:tensorflow:multiprocessing can interact badly with TensorFlow, causing nondeterministic deadlocks. For high performance data pipelines tf.data is recommended.\n",
      "83/84 [============================>.] - ETA: 0s - loss: 7.2284 - maed: 2.2515WARNING:tensorflow:multiprocessing can interact badly with TensorFlow, causing nondeterministic deadlocks. For high performance data pipelines tf.data is recommended.\n",
      "84/84 [==============================] - ETA: 0s - loss: 7.1799 - maed: 2.2422WARNING:tensorflow:multiprocessing can interact badly with TensorFlow, causing nondeterministic deadlocks. For high performance data pipelines tf.data is recommended.\n",
      "WARNING:tensorflow:multiprocessing can interact badly with TensorFlow, causing nondeterministic deadlocks. For high performance data pipelines tf.data is recommended.\n",
      "84/84 [==============================] - 47s 556ms/step - loss: 7.1799 - maed: 2.2422 - val_loss: 13.3181 - val_maed: 3.1713\n",
      "Epoch 80/100\n",
      "WARNING:tensorflow:multiprocessing can interact badly with TensorFlow, causing nondeterministic deadlocks. For high performance data pipelines tf.data is recommended.\n",
      "83/84 [============================>.] - ETA: 0s - loss: 8.3612 - maed: 2.2671WARNING:tensorflow:multiprocessing can interact badly with TensorFlow, causing nondeterministic deadlocks. For high performance data pipelines tf.data is recommended.\n",
      "84/84 [==============================] - ETA: 0s - loss: 8.3730 - maed: 2.2713WARNING:tensorflow:multiprocessing can interact badly with TensorFlow, causing nondeterministic deadlocks. For high performance data pipelines tf.data is recommended.\n",
      "WARNING:tensorflow:multiprocessing can interact badly with TensorFlow, causing nondeterministic deadlocks. For high performance data pipelines tf.data is recommended.\n",
      "84/84 [==============================] - 47s 561ms/step - loss: 8.3730 - maed: 2.2713 - val_loss: 24.0658 - val_maed: 4.2096\n",
      "Epoch 81/100\n",
      "WARNING:tensorflow:multiprocessing can interact badly with TensorFlow, causing nondeterministic deadlocks. For high performance data pipelines tf.data is recommended.\n",
      "83/84 [============================>.] - ETA: 0s - loss: 8.2977 - maed: 2.3618WARNING:tensorflow:multiprocessing can interact badly with TensorFlow, causing nondeterministic deadlocks. For high performance data pipelines tf.data is recommended.\n",
      "84/84 [==============================] - ETA: 0s - loss: 8.2392 - maed: 2.3523WARNING:tensorflow:multiprocessing can interact badly with TensorFlow, causing nondeterministic deadlocks. For high performance data pipelines tf.data is recommended.\n",
      "WARNING:tensorflow:multiprocessing can interact badly with TensorFlow, causing nondeterministic deadlocks. For high performance data pipelines tf.data is recommended.\n",
      "84/84 [==============================] - 47s 554ms/step - loss: 8.2392 - maed: 2.3523 - val_loss: 9.7874 - val_maed: 2.5806\n",
      "Epoch 82/100\n",
      "WARNING:tensorflow:multiprocessing can interact badly with TensorFlow, causing nondeterministic deadlocks. For high performance data pipelines tf.data is recommended.\n",
      "83/84 [============================>.] - ETA: 0s - loss: 4.5458 - maed: 1.7717WARNING:tensorflow:multiprocessing can interact badly with TensorFlow, causing nondeterministic deadlocks. For high performance data pipelines tf.data is recommended.\n",
      "84/84 [==============================] - ETA: 0s - loss: 4.5144 - maed: 1.7645WARNING:tensorflow:multiprocessing can interact badly with TensorFlow, causing nondeterministic deadlocks. For high performance data pipelines tf.data is recommended.\n",
      "WARNING:tensorflow:multiprocessing can interact badly with TensorFlow, causing nondeterministic deadlocks. For high performance data pipelines tf.data is recommended.\n",
      "84/84 [==============================] - 47s 556ms/step - loss: 4.5144 - maed: 1.7645 - val_loss: 4.3508 - val_maed: 1.7657\n",
      "Epoch 83/100\n",
      "WARNING:tensorflow:multiprocessing can interact badly with TensorFlow, causing nondeterministic deadlocks. For high performance data pipelines tf.data is recommended.\n",
      "83/84 [============================>.] - ETA: 0s - loss: 4.2511 - maed: 1.7388WARNING:tensorflow:multiprocessing can interact badly with TensorFlow, causing nondeterministic deadlocks. For high performance data pipelines tf.data is recommended.\n",
      "84/84 [==============================] - ETA: 0s - loss: 4.2501 - maed: 1.7385WARNING:tensorflow:multiprocessing can interact badly with TensorFlow, causing nondeterministic deadlocks. For high performance data pipelines tf.data is recommended.\n",
      "WARNING:tensorflow:multiprocessing can interact badly with TensorFlow, causing nondeterministic deadlocks. For high performance data pipelines tf.data is recommended.\n",
      "84/84 [==============================] - 47s 558ms/step - loss: 4.2501 - maed: 1.7385 - val_loss: 15.3376 - val_maed: 3.3179\n",
      "Epoch 84/100\n",
      "WARNING:tensorflow:multiprocessing can interact badly with TensorFlow, causing nondeterministic deadlocks. For high performance data pipelines tf.data is recommended.\n",
      "83/84 [============================>.] - ETA: 0s - loss: 4.0210 - maed: 1.6679WARNING:tensorflow:multiprocessing can interact badly with TensorFlow, causing nondeterministic deadlocks. For high performance data pipelines tf.data is recommended.\n",
      "84/84 [==============================] - ETA: 0s - loss: 4.0438 - maed: 1.6722WARNING:tensorflow:multiprocessing can interact badly with TensorFlow, causing nondeterministic deadlocks. For high performance data pipelines tf.data is recommended.\n",
      "WARNING:tensorflow:multiprocessing can interact badly with TensorFlow, causing nondeterministic deadlocks. For high performance data pipelines tf.data is recommended.\n",
      "84/84 [==============================] - 47s 555ms/step - loss: 4.0438 - maed: 1.6722 - val_loss: 6.9380 - val_maed: 2.1929\n",
      "Epoch 85/100\n",
      "WARNING:tensorflow:multiprocessing can interact badly with TensorFlow, causing nondeterministic deadlocks. For high performance data pipelines tf.data is recommended.\n",
      "83/84 [============================>.] - ETA: 0s - loss: 3.1069 - maed: 1.4820WARNING:tensorflow:multiprocessing can interact badly with TensorFlow, causing nondeterministic deadlocks. For high performance data pipelines tf.data is recommended.\n",
      "84/84 [==============================] - ETA: 0s - loss: 3.1315 - maed: 1.4874WARNING:tensorflow:multiprocessing can interact badly with TensorFlow, causing nondeterministic deadlocks. For high performance data pipelines tf.data is recommended.\n",
      "WARNING:tensorflow:multiprocessing can interact badly with TensorFlow, causing nondeterministic deadlocks. For high performance data pipelines tf.data is recommended.\n",
      "84/84 [==============================] - 47s 555ms/step - loss: 3.1315 - maed: 1.4874 - val_loss: 6.6836 - val_maed: 2.0872\n"
     ]
    },
    {
     "name": "stdout",
     "output_type": "stream",
     "text": [
      "Epoch 86/100\n",
      "WARNING:tensorflow:multiprocessing can interact badly with TensorFlow, causing nondeterministic deadlocks. For high performance data pipelines tf.data is recommended.\n",
      "83/84 [============================>.] - ETA: 0s - loss: 6.8262 - maed: 2.1739WARNING:tensorflow:multiprocessing can interact badly with TensorFlow, causing nondeterministic deadlocks. For high performance data pipelines tf.data is recommended.\n",
      "84/84 [==============================] - ETA: 0s - loss: 6.8013 - maed: 2.1688WARNING:tensorflow:multiprocessing can interact badly with TensorFlow, causing nondeterministic deadlocks. For high performance data pipelines tf.data is recommended.\n",
      "WARNING:tensorflow:multiprocessing can interact badly with TensorFlow, causing nondeterministic deadlocks. For high performance data pipelines tf.data is recommended.\n",
      "84/84 [==============================] - 47s 555ms/step - loss: 6.8013 - maed: 2.1688 - val_loss: 16.8210 - val_maed: 3.4471\n",
      "Epoch 87/100\n",
      "WARNING:tensorflow:multiprocessing can interact badly with TensorFlow, causing nondeterministic deadlocks. For high performance data pipelines tf.data is recommended.\n",
      "83/84 [============================>.] - ETA: 0s - loss: 6.9552 - maed: 2.1483WARNING:tensorflow:multiprocessing can interact badly with TensorFlow, causing nondeterministic deadlocks. For high performance data pipelines tf.data is recommended.\n",
      "84/84 [==============================] - ETA: 0s - loss: 6.9143 - maed: 2.1417WARNING:tensorflow:multiprocessing can interact badly with TensorFlow, causing nondeterministic deadlocks. For high performance data pipelines tf.data is recommended.\n",
      "WARNING:tensorflow:multiprocessing can interact badly with TensorFlow, causing nondeterministic deadlocks. For high performance data pipelines tf.data is recommended.\n",
      "84/84 [==============================] - 47s 558ms/step - loss: 6.9143 - maed: 2.1417 - val_loss: 5.2249 - val_maed: 1.9217\n",
      "Epoch 88/100\n",
      "WARNING:tensorflow:multiprocessing can interact badly with TensorFlow, causing nondeterministic deadlocks. For high performance data pipelines tf.data is recommended.\n",
      "83/84 [============================>.] - ETA: 0s - loss: 6.2531 - maed: 2.0678WARNING:tensorflow:multiprocessing can interact badly with TensorFlow, causing nondeterministic deadlocks. For high performance data pipelines tf.data is recommended.\n",
      "84/84 [==============================] - ETA: 0s - loss: 6.2129 - maed: 2.0596WARNING:tensorflow:multiprocessing can interact badly with TensorFlow, causing nondeterministic deadlocks. For high performance data pipelines tf.data is recommended.\n",
      "WARNING:tensorflow:multiprocessing can interact badly with TensorFlow, causing nondeterministic deadlocks. For high performance data pipelines tf.data is recommended.\n",
      "84/84 [==============================] - 47s 556ms/step - loss: 6.2129 - maed: 2.0596 - val_loss: 15.0064 - val_maed: 3.1533\n",
      "Epoch 89/100\n",
      "WARNING:tensorflow:multiprocessing can interact badly with TensorFlow, causing nondeterministic deadlocks. For high performance data pipelines tf.data is recommended.\n",
      "83/84 [============================>.] - ETA: 0s - loss: 6.8103 - maed: 2.1817WARNING:tensorflow:multiprocessing can interact badly with TensorFlow, causing nondeterministic deadlocks. For high performance data pipelines tf.data is recommended.\n",
      "84/84 [==============================] - ETA: 0s - loss: 6.7560 - maed: 2.1713WARNING:tensorflow:multiprocessing can interact badly with TensorFlow, causing nondeterministic deadlocks. For high performance data pipelines tf.data is recommended.\n",
      "WARNING:tensorflow:multiprocessing can interact badly with TensorFlow, causing nondeterministic deadlocks. For high performance data pipelines tf.data is recommended.\n",
      "84/84 [==============================] - 47s 557ms/step - loss: 6.7560 - maed: 2.1713 - val_loss: 11.9056 - val_maed: 2.8887\n",
      "Epoch 90/100\n",
      "WARNING:tensorflow:multiprocessing can interact badly with TensorFlow, causing nondeterministic deadlocks. For high performance data pipelines tf.data is recommended.\n",
      "83/84 [============================>.] - ETA: 0s - loss: 6.2148 - maed: 2.0397WARNING:tensorflow:multiprocessing can interact badly with TensorFlow, causing nondeterministic deadlocks. For high performance data pipelines tf.data is recommended.\n",
      "84/84 [==============================] - ETA: 0s - loss: 6.1752 - maed: 2.0317WARNING:tensorflow:multiprocessing can interact badly with TensorFlow, causing nondeterministic deadlocks. For high performance data pipelines tf.data is recommended.\n",
      "WARNING:tensorflow:multiprocessing can interact badly with TensorFlow, causing nondeterministic deadlocks. For high performance data pipelines tf.data is recommended.\n",
      "84/84 [==============================] - 47s 561ms/step - loss: 6.1752 - maed: 2.0317 - val_loss: 21.1795 - val_maed: 3.8089\n",
      "Epoch 91/100\n",
      "WARNING:tensorflow:multiprocessing can interact badly with TensorFlow, causing nondeterministic deadlocks. For high performance data pipelines tf.data is recommended.\n",
      "83/84 [============================>.] - ETA: 0s - loss: 5.0656 - maed: 1.8752WARNING:tensorflow:multiprocessing can interact badly with TensorFlow, causing nondeterministic deadlocks. For high performance data pipelines tf.data is recommended.\n",
      "84/84 [==============================] - ETA: 0s - loss: 5.0390 - maed: 1.8697WARNING:tensorflow:multiprocessing can interact badly with TensorFlow, causing nondeterministic deadlocks. For high performance data pipelines tf.data is recommended.\n",
      "WARNING:tensorflow:multiprocessing can interact badly with TensorFlow, causing nondeterministic deadlocks. For high performance data pipelines tf.data is recommended.\n",
      "84/84 [==============================] - 47s 556ms/step - loss: 5.0390 - maed: 1.8697 - val_loss: 8.7223 - val_maed: 2.5482\n",
      "Epoch 92/100\n",
      "WARNING:tensorflow:multiprocessing can interact badly with TensorFlow, causing nondeterministic deadlocks. For high performance data pipelines tf.data is recommended.\n",
      "83/84 [============================>.] - ETA: 0s - loss: 3.6697 - maed: 1.5936WARNING:tensorflow:multiprocessing can interact badly with TensorFlow, causing nondeterministic deadlocks. For high performance data pipelines tf.data is recommended.\n",
      "84/84 [==============================] - ETA: 0s - loss: 3.6861 - maed: 1.5979WARNING:tensorflow:multiprocessing can interact badly with TensorFlow, causing nondeterministic deadlocks. For high performance data pipelines tf.data is recommended.\n",
      "WARNING:tensorflow:multiprocessing can interact badly with TensorFlow, causing nondeterministic deadlocks. For high performance data pipelines tf.data is recommended.\n",
      "84/84 [==============================] - 47s 555ms/step - loss: 3.6861 - maed: 1.5979 - val_loss: 13.9672 - val_maed: 3.3570\n",
      "Epoch 93/100\n",
      "WARNING:tensorflow:multiprocessing can interact badly with TensorFlow, causing nondeterministic deadlocks. For high performance data pipelines tf.data is recommended.\n",
      "83/84 [============================>.] - ETA: 0s - loss: 10.6599 - maed: 2.7010WARNING:tensorflow:multiprocessing can interact badly with TensorFlow, causing nondeterministic deadlocks. For high performance data pipelines tf.data is recommended.\n",
      "84/84 [==============================] - ETA: 0s - loss: 10.7032 - maed: 2.7070WARNING:tensorflow:multiprocessing can interact badly with TensorFlow, causing nondeterministic deadlocks. For high performance data pipelines tf.data is recommended.\n",
      "WARNING:tensorflow:multiprocessing can interact badly with TensorFlow, causing nondeterministic deadlocks. For high performance data pipelines tf.data is recommended.\n",
      "84/84 [==============================] - 47s 557ms/step - loss: 10.7032 - maed: 2.7070 - val_loss: 55.0954 - val_maed: 6.0758\n",
      "Epoch 94/100\n",
      "WARNING:tensorflow:multiprocessing can interact badly with TensorFlow, causing nondeterministic deadlocks. For high performance data pipelines tf.data is recommended.\n",
      "83/84 [============================>.] - ETA: 0s - loss: 5.4213 - maed: 1.8992WARNING:tensorflow:multiprocessing can interact badly with TensorFlow, causing nondeterministic deadlocks. For high performance data pipelines tf.data is recommended.\n"
     ]
    },
    {
     "name": "stdout",
     "output_type": "stream",
     "text": [
      "84/84 [==============================] - ETA: 0s - loss: 5.3944 - maed: 1.8942WARNING:tensorflow:multiprocessing can interact badly with TensorFlow, causing nondeterministic deadlocks. For high performance data pipelines tf.data is recommended.\n",
      "WARNING:tensorflow:multiprocessing can interact badly with TensorFlow, causing nondeterministic deadlocks. For high performance data pipelines tf.data is recommended.\n",
      "84/84 [==============================] - 47s 555ms/step - loss: 5.3944 - maed: 1.8942 - val_loss: 11.2735 - val_maed: 2.9843\n",
      "Epoch 95/100\n",
      "WARNING:tensorflow:multiprocessing can interact badly with TensorFlow, causing nondeterministic deadlocks. For high performance data pipelines tf.data is recommended.\n",
      "83/84 [============================>.] - ETA: 0s - loss: 4.6146 - maed: 1.7833WARNING:tensorflow:multiprocessing can interact badly with TensorFlow, causing nondeterministic deadlocks. For high performance data pipelines tf.data is recommended.\n",
      "84/84 [==============================] - ETA: 0s - loss: 4.5966 - maed: 1.7803WARNING:tensorflow:multiprocessing can interact badly with TensorFlow, causing nondeterministic deadlocks. For high performance data pipelines tf.data is recommended.\n",
      "WARNING:tensorflow:multiprocessing can interact badly with TensorFlow, causing nondeterministic deadlocks. For high performance data pipelines tf.data is recommended.\n",
      "84/84 [==============================] - 47s 556ms/step - loss: 4.5966 - maed: 1.7803 - val_loss: 26.4216 - val_maed: 4.6057\n",
      "Epoch 96/100\n",
      "WARNING:tensorflow:multiprocessing can interact badly with TensorFlow, causing nondeterministic deadlocks. For high performance data pipelines tf.data is recommended.\n",
      "83/84 [============================>.] - ETA: 0s - loss: 4.8813 - maed: 1.8421WARNING:tensorflow:multiprocessing can interact badly with TensorFlow, causing nondeterministic deadlocks. For high performance data pipelines tf.data is recommended.\n",
      "84/84 [==============================] - ETA: 0s - loss: 4.8541 - maed: 1.8369WARNING:tensorflow:multiprocessing can interact badly with TensorFlow, causing nondeterministic deadlocks. For high performance data pipelines tf.data is recommended.\n",
      "WARNING:tensorflow:multiprocessing can interact badly with TensorFlow, causing nondeterministic deadlocks. For high performance data pipelines tf.data is recommended.\n",
      "84/84 [==============================] - 47s 555ms/step - loss: 4.8541 - maed: 1.8369 - val_loss: 13.4171 - val_maed: 2.9061\n",
      "Epoch 97/100\n",
      "WARNING:tensorflow:multiprocessing can interact badly with TensorFlow, causing nondeterministic deadlocks. For high performance data pipelines tf.data is recommended.\n",
      "83/84 [============================>.] - ETA: 0s - loss: 4.1041 - maed: 1.6728WARNING:tensorflow:multiprocessing can interact badly with TensorFlow, causing nondeterministic deadlocks. For high performance data pipelines tf.data is recommended.\n",
      "84/84 [==============================] - ETA: 0s - loss: 4.1154 - maed: 1.6759WARNING:tensorflow:multiprocessing can interact badly with TensorFlow, causing nondeterministic deadlocks. For high performance data pipelines tf.data is recommended.\n",
      "WARNING:tensorflow:multiprocessing can interact badly with TensorFlow, causing nondeterministic deadlocks. For high performance data pipelines tf.data is recommended.\n",
      "84/84 [==============================] - 47s 559ms/step - loss: 4.1154 - maed: 1.6759 - val_loss: 10.8475 - val_maed: 2.7559\n",
      "Epoch 98/100\n",
      "WARNING:tensorflow:multiprocessing can interact badly with TensorFlow, causing nondeterministic deadlocks. For high performance data pipelines tf.data is recommended.\n",
      "83/84 [============================>.] - ETA: 0s - loss: 3.5552 - maed: 1.5817WARNING:tensorflow:multiprocessing can interact badly with TensorFlow, causing nondeterministic deadlocks. For high performance data pipelines tf.data is recommended.\n",
      "84/84 [==============================] - ETA: 0s - loss: 3.5283 - maed: 1.5744WARNING:tensorflow:multiprocessing can interact badly with TensorFlow, causing nondeterministic deadlocks. For high performance data pipelines tf.data is recommended.\n",
      "WARNING:tensorflow:multiprocessing can interact badly with TensorFlow, causing nondeterministic deadlocks. For high performance data pipelines tf.data is recommended.\n",
      "84/84 [==============================] - 47s 556ms/step - loss: 3.5283 - maed: 1.5744 - val_loss: 12.4549 - val_maed: 3.0000\n",
      "Epoch 99/100\n",
      "WARNING:tensorflow:multiprocessing can interact badly with TensorFlow, causing nondeterministic deadlocks. For high performance data pipelines tf.data is recommended.\n",
      "83/84 [============================>.] - ETA: 0s - loss: 2.9438 - maed: 1.4254WARNING:tensorflow:multiprocessing can interact badly with TensorFlow, causing nondeterministic deadlocks. For high performance data pipelines tf.data is recommended.\n",
      "84/84 [==============================] - ETA: 0s - loss: 2.9341 - maed: 1.4240WARNING:tensorflow:multiprocessing can interact badly with TensorFlow, causing nondeterministic deadlocks. For high performance data pipelines tf.data is recommended.\n",
      "WARNING:tensorflow:multiprocessing can interact badly with TensorFlow, causing nondeterministic deadlocks. For high performance data pipelines tf.data is recommended.\n",
      "84/84 [==============================] - 47s 559ms/step - loss: 2.9341 - maed: 1.4240 - val_loss: 10.0817 - val_maed: 2.6756\n",
      "Epoch 100/100\n",
      "WARNING:tensorflow:multiprocessing can interact badly with TensorFlow, causing nondeterministic deadlocks. For high performance data pipelines tf.data is recommended.\n",
      "83/84 [============================>.] - ETA: 0s - loss: 2.4513 - maed: 1.3073WARNING:tensorflow:multiprocessing can interact badly with TensorFlow, causing nondeterministic deadlocks. For high performance data pipelines tf.data is recommended.\n",
      "84/84 [==============================] - ETA: 0s - loss: 2.4382 - maed: 1.3037WARNING:tensorflow:multiprocessing can interact badly with TensorFlow, causing nondeterministic deadlocks. For high performance data pipelines tf.data is recommended.\n",
      "WARNING:tensorflow:multiprocessing can interact badly with TensorFlow, causing nondeterministic deadlocks. For high performance data pipelines tf.data is recommended.\n",
      "84/84 [==============================] - 47s 563ms/step - loss: 2.4382 - maed: 1.3037 - val_loss: 6.3993 - val_maed: 2.1151\n"
     ]
    },
    {
     "data": {
      "text/plain": [
       "<tensorflow.python.keras.callbacks.History at 0x7fddcc26ae80>"
      ]
     },
     "execution_count": 9,
     "metadata": {},
     "output_type": "execute_result"
    }
   ],
   "source": [
    "model.fit(train_gen,\n",
    "          epochs=100,\n",
    "          callbacks=callbacks,\n",
    "          validation_data=val_gen,\n",
    "          validation_freq=1,\n",
    "          use_multiprocessing=True,\n",
    "          workers=10,\n",
    "          max_queue_size=32)"
   ]
  },
  {
   "cell_type": "markdown",
   "metadata": {},
   "source": [
    "# Evaluation\n",
    "Evaluate the trained network"
   ]
  },
  {
   "cell_type": "code",
   "execution_count": 10,
   "metadata": {
    "scrolled": true
   },
   "outputs": [
    {
     "data": {
      "image/png": "[encoded data removed]",
      "text/plain": [
       "<Figure size 432x288 with 1 Axes>"
      ]
     },
     "metadata": {
      "needs_background": "light"
     },
     "output_type": "display_data"
    }
   ],
   "source": [
    "X, y = val_gen[3]\n",
    "\n",
    "y_pred = model.predict(X)\n",
    "\n",
    "u_x = y_pred[0,:,:,0]\n",
    "u_y = y_pred[0,:,:,1]\n",
    "\n",
    "plt.imshow(y_pred[0,:,:,0], cmap=\"gray\")\n",
    "\n",
    "plt.imsave(store_path + \"/u_x.png\", u_x, cmap=\"gray\")\n",
    "plt.imsave(store_path + \"/u_y.png\", u_y, cmap=\"gray\")\n",
    "\n",
    "u_x.dump(store_path + \"/u_x\")\n",
    "u_y.dump(store_path + \"/u_y\")\n",
    "\n",
    "warp = np.zeros((width, height))\n",
    "\n",
    "for index in range(0,324):\n",
    "    x_pos = int(y[0, index, 0, 0])\n",
    "    y_pos = int(y[0, index, 1, 0])\n",
    "    \n",
    "    plot_cube(warp, x_pos, y_pos, 1) #blue\n",
    "    \n",
    "    ux_field = y_pred[0,:,:,0]\n",
    "    uy_field = y_pred[0,:,:,1]\n",
    "    \n",
    "    ux = ux_field[y_pos][x_pos]\n",
    "    uy = uy_field[y_pos][x_pos]\n",
    "    \n",
    "    x_pos = int(round(x_pos + ux))\n",
    "    y_pos = int(round(y_pos + uy))\n",
    "            \n",
    "    plot_cube(warp, x_pos, y_pos, 2) #green    \n",
    "    \n",
    "    x_pos = int(y[0, index, 0, 1])\n",
    "    y_pos = int(y[0, index, 1, 1])\n",
    "    \n",
    "    plot_cube(warp, x_pos, y_pos, 3) #yellow    \n",
    "    \n",
    "plt.imshow(warp)\n",
    "plt.imsave(store_path + \"/warp.png\", warp)"
   ]
  },
  {
   "cell_type": "code",
   "execution_count": null,
   "metadata": {},
   "outputs": [],
   "source": []
  }
 ],
 "metadata": {
  "kernelspec": {
   "display_name": "Python 3",
   "language": "python",
   "name": "python3"
  },
  "language_info": {
   "codemirror_mode": {
    "name": "ipython",
    "version": 3
   },
   "file_extension": ".py",
   "mimetype": "text/x-python",
   "name": "python",
   "nbconvert_exporter": "python",
   "pygments_lexer": "ipython3",
   "version": "3.8.2"
  }
 },
 "nbformat": 4,
 "nbformat_minor": 4
}

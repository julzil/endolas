{
 "cells": [
  {
   "cell_type": "markdown",
   "metadata": {},
   "source": [
    "# Import statements\n",
    "Following packages are necessary:"
   ]
  },
  {
   "cell_type": "code",
   "execution_count": 1,
   "metadata": {
    "scrolled": true
   },
   "outputs": [],
   "source": [
    "import random\n",
    "import utils\n",
    "import closs\n",
    "import os\n",
    "import imageio\n",
    "import json\n",
    "from simplegen import SIMPLESequence\n",
    "\n",
    "import tensorflow as tf\n",
    "import numpy as np\n",
    "import tensorflow.keras.backend as kb\n",
    "from tensorflow.keras.callbacks import CSVLogger, ModelCheckpoint\n",
    "\n",
    "from unet import UNet\n",
    "from unet import preprocess_input as pre_une\n",
    "\n",
    "from matplotlib import pyplot as plt"
   ]
  },
  {
   "cell_type": "markdown",
   "metadata": {
    "pycharm": {
     "name": "#%% md\n"
    }
   },
   "source": [
    "# Checks\n",
    "The version of tensorflow as well as the GPU support are checked."
   ]
  },
  {
   "cell_type": "code",
   "execution_count": 2,
   "metadata": {
    "pycharm": {
     "name": "#%%\n"
    },
    "scrolled": false
   },
   "outputs": [
    {
     "name": "stdout",
     "output_type": "stream",
     "text": [
      "2.2.0-rc3\n"
     ]
    },
    {
     "data": {
      "text/plain": [
       "[PhysicalDevice(name='/physical_device:GPU:0', device_type='GPU')]"
      ]
     },
     "execution_count": 2,
     "metadata": {},
     "output_type": "execute_result"
    }
   ],
   "source": [
    "print(tf.__version__)\n",
    "physical_devices = tf.config.experimental.list_physical_devices('GPU')\n",
    "tf.config.experimental.set_memory_growth(physical_devices[0], True)\n",
    "tf.config.experimental.get_visible_devices('GPU')"
   ]
  },
  {
   "cell_type": "markdown",
   "metadata": {},
   "source": [
    "# Functionality\n",
    "Necessary funcionality is added here"
   ]
  },
  {
   "cell_type": "code",
   "execution_count": 3,
   "metadata": {},
   "outputs": [],
   "source": [
    "def plot_cube(img, x, y, val):\n",
    "    \n",
    "    img[y][x] = val\n",
    "    img[y][x-1] = val\n",
    "    img[y][x+1] = val\n",
    "    img[y-1][x] = val\n",
    "    img[y-1][x-1] = val\n",
    "    img[y-1][x+1] = val\n",
    "    img[y+1][x] = val\n",
    "    img[y+1][x-1] = val\n",
    "    img[y+1][x+1] = val  "
   ]
  },
  {
   "cell_type": "markdown",
   "metadata": {},
   "source": [
    "# 6.8) Supervised Euclidean for SIMPLED with fixed image\n",
    "A U-Net is trained here to predict a displacement field and the euclidean distance is taken as error."
   ]
  },
  {
   "cell_type": "markdown",
   "metadata": {
    "pycharm": {
     "name": "#%% md\n"
    }
   },
   "source": [
    "# Data\n",
    "Import training images"
   ]
  },
  {
   "cell_type": "code",
   "execution_count": 4,
   "metadata": {
    "pycharm": {
     "name": "#%%\n"
    }
   },
   "outputs": [],
   "source": [
    "store_path = 'experiments/6_8_euclidean'\n",
    "\n",
    "#path_fixed = r'D:\\Julian\\data\\SIMPLED\\train\\0'\n",
    "#path_train = r'D:\\Julian\\data\\SIMPLED\\train'\n",
    "#path_validation = r'D:\\Julian\\data\\SIMPLED\\validation'\n",
    "#path_test = r'D:\\Julian\\data\\SIMPLED\\test'\n",
    "\n",
    "path_fixed = '/home/julian/Documents/Studium/MT-Masterarbeit/Data/SIMPLED/train/0'\n",
    "path_train = '/home/julian/Documents/Studium/MT-Masterarbeit/Data/SIMPLED/train'\n",
    "path_validation = '/home/julian/Documents/Studium/MT-Masterarbeit/Data/SIMPLED/validation'\n",
    "path_test = '/home/julian/Documents/Studium/MT-Masterarbeit/Data/SIMPLED/test'\n",
    "\n",
    "width = 224\n",
    "height = 224"
   ]
  },
  {
   "cell_type": "markdown",
   "metadata": {
    "pycharm": {
     "name": "#%% md\n"
    }
   },
   "source": [
    "# Network\n",
    "A U-Net based network is instantiated with keras to run a semantic segmentation."
   ]
  },
  {
   "cell_type": "code",
   "execution_count": 5,
   "metadata": {
    "pycharm": {
     "name": "#%%\n"
    }
   },
   "outputs": [],
   "source": [
    "model = UNet(filters=32, layers=4, activation='linear', classes=2, input_shape=(224, 224, 2))"
   ]
  },
  {
   "cell_type": "markdown",
   "metadata": {
    "pycharm": {
     "name": "#%% md\n"
    }
   },
   "source": [
    "# Preparation\n",
    "Prepare the settings for evaluating the model."
   ]
  },
  {
   "cell_type": "code",
   "execution_count": 6,
   "metadata": {
    "scrolled": true
   },
   "outputs": [],
   "source": [
    "validation_gen = SIMPLESequence(path_validation, path_fixed,\n",
    "                                batch_size=1,\n",
    "                                preprocess_input=pre_une,\n",
    "                                multi_channel='fixed')\n",
    "\n",
    "eu_loss = closs.EuclideanLoss(batch_size=1, loss_type='maed')\n",
    "\n",
    "model.compile(optimizer='adam', loss = eu_loss)\n",
    "model.load_weights(store_path+'/weights.100.hdf5')"
   ]
  },
  {
   "cell_type": "markdown",
   "metadata": {},
   "source": [
    "# Evaluate\n",
    "Run the evaluation."
   ]
  },
  {
   "cell_type": "code",
   "execution_count": 7,
   "metadata": {},
   "outputs": [],
   "source": [
    "X, y = validation_gen[1]"
   ]
  },
  {
   "cell_type": "code",
   "execution_count": 8,
   "metadata": {
    "pycharm": {
     "name": "#%%\n"
    },
    "scrolled": true
   },
   "outputs": [
    {
     "name": "stdout",
     "output_type": "stream",
     "text": [
      "1/1 [==============================] - 0s 1ms/step - loss: 0.0000e+00\n"
     ]
    }
   ],
   "source": [
    "results = model.evaluate(X,y)"
   ]
  },
  {
   "cell_type": "code",
   "execution_count": 9,
   "metadata": {},
   "outputs": [
    {
     "data": {
      "text/plain": [
       "0.0"
      ]
     },
     "execution_count": 9,
     "metadata": {},
     "output_type": "execute_result"
    }
   ],
   "source": [
    "results"
   ]
  },
  {
   "cell_type": "code",
   "execution_count": 10,
   "metadata": {},
   "outputs": [
    {
     "data": {
      "text/plain": [
       "array([[[[ 25.,  67.],\n",
       "         [210., 157.]],\n",
       "\n",
       "        [[ 43.,  90.],\n",
       "         [195., 157.]],\n",
       "\n",
       "        [[ 62., 112.],\n",
       "         [186., 157.]],\n",
       "\n",
       "        [[ 81., 134.],\n",
       "         [186., 157.]],\n",
       "\n",
       "        [[102., 157.],\n",
       "         [192., 157.]],\n",
       "\n",
       "        [[ 27.,  67.],\n",
       "         [185., 134.]],\n",
       "\n",
       "        [[  0.,   0.],\n",
       "         [  0.,   0.]],\n",
       "\n",
       "        [[ 65., 112.],\n",
       "         [161., 134.]],\n",
       "\n",
       "        [[ 83., 134.],\n",
       "         [161., 134.]],\n",
       "\n",
       "        [[105., 157.],\n",
       "         [166., 134.]],\n",
       "\n",
       "        [[ 28.,  67.],\n",
       "         [161., 112.]],\n",
       "\n",
       "        [[ 47.,  90.],\n",
       "         [147., 112.]],\n",
       "\n",
       "        [[ 65., 112.],\n",
       "         [137., 112.]],\n",
       "\n",
       "        [[ 85., 134.],\n",
       "         [138., 112.]],\n",
       "\n",
       "        [[  0.,   0.],\n",
       "         [  0.,   0.]],\n",
       "\n",
       "        [[ 24.,  67.],\n",
       "         [138.,  90.]],\n",
       "\n",
       "        [[ 43.,  90.],\n",
       "         [125.,  90.]],\n",
       "\n",
       "        [[ 61., 112.],\n",
       "         [116.,  90.]],\n",
       "\n",
       "        [[ 80., 134.],\n",
       "         [116.,  90.]],\n",
       "\n",
       "        [[101., 157.],\n",
       "         [121.,  90.]],\n",
       "\n",
       "        [[ 16.,  67.],\n",
       "         [116.,  67.]],\n",
       "\n",
       "        [[ 35.,  90.],\n",
       "         [102.,  67.]],\n",
       "\n",
       "        [[ 53., 112.],\n",
       "         [ 92.,  67.]],\n",
       "\n",
       "        [[ 73., 134.],\n",
       "         [ 93.,  67.]],\n",
       "\n",
       "        [[ 93., 157.],\n",
       "         [ 98.,  67.]]]])"
      ]
     },
     "execution_count": 10,
     "metadata": {},
     "output_type": "execute_result"
    }
   ],
   "source": [
    "y"
   ]
  },
  {
   "cell_type": "code",
   "execution_count": 11,
   "metadata": {
    "scrolled": true
   },
   "outputs": [
    {
     "name": "stdout",
     "output_type": "stream",
     "text": [
      "x: 67 y: 157\n",
      "x: 90 y: 157\n",
      "x: 112 y: 157\n",
      "x: 135 y: 157\n",
      "x: 157 y: 157\n",
      "x: 67 y: 134\n",
      "x: 90 y: 134\n",
      "x: 112 y: 134\n",
      "x: 134 y: 135\n",
      "x: 157 y: 135\n",
      "x: 67 y: 112\n",
      "x: 90 y: 112\n",
      "x: 112 y: 112\n",
      "x: 134 y: 112\n",
      "x: 157 y: 113\n",
      "x: 67 y: 90\n",
      "x: 0 y: 0\n",
      "x: 111 y: 91\n",
      "x: 134 y: 90\n",
      "x: 157 y: 90\n",
      "x: 0 y: 0\n",
      "x: 89 y: 67\n",
      "x: 111 y: 67\n",
      "x: 134 y: 67\n",
      "x: 157 y: 68\n"
     ]
    },
    {
     "data": {
      "text/plain": [
       "<matplotlib.image.AxesImage at 0x7f2a360d4610>"
      ]
     },
     "execution_count": 11,
     "metadata": {},
     "output_type": "execute_result"
    },
    {
     "data": {
      "image/png": "[encoded data removed]",
      "text/plain": [
       "<Figure size 432x288 with 1 Axes>"
      ]
     },
     "metadata": {
      "needs_background": "light"
     },
     "output_type": "display_data"
    }
   ],
   "source": [
    "X, y = validation_gen[0]\n",
    "\n",
    "y_pred = model.predict(X)\n",
    "\n",
    "u_x = y_pred[0,:,:,0]\n",
    "u_y = y_pred[0,:,:,1]\n",
    "\n",
    "warp = np.zeros((width, height))\n",
    "\n",
    "for index in range(0,25):\n",
    "    x_pos = int(y[0, index, 0, 0])\n",
    "    y_pos = int(y[0, index, 1, 0])\n",
    "    \n",
    "    #plot_cube(warp, x_pos, y_pos, 1) #blue\n",
    "    \n",
    "    ux_field = y_pred[0,:,:,0]\n",
    "    uy_field = y_pred[0,:,:,1]\n",
    "    \n",
    "    ux = ux_field[y_pos][x_pos]\n",
    "    uy = uy_field[y_pos][x_pos]\n",
    "    \n",
    "    x_pos = int(round(x_pos + ux))\n",
    "    y_pos = int(round(y_pos + uy))\n",
    "    \n",
    "    print(\"x: {} y: {}\".format(x_pos, y_pos))\n",
    "            \n",
    "    plot_cube(warp, x_pos, y_pos, 2) #green   \n",
    "    \n",
    "    x_pos = int(y[0, index, 0, 1])\n",
    "    y_pos = int(y[0, index, 1, 1])\n",
    "    \n",
    "    #plot_cube(warp, x_pos, y_pos, 3) #yellow    \n",
    "    \n",
    "plt.imshow(warp)"
   ]
  }
 ],
 "metadata": {
  "kernelspec": {
   "display_name": "Python 3",
   "language": "python",
   "name": "python3"
  },
  "language_info": {
   "codemirror_mode": {
    "name": "ipython",
    "version": 3
   },
   "file_extension": ".py",
   "mimetype": "text/x-python",
   "name": "python",
   "nbconvert_exporter": "python",
   "pygments_lexer": "ipython3",
   "version": "3.8.2"
  }
 },
 "nbformat": 4,
 "nbformat_minor": 4
}

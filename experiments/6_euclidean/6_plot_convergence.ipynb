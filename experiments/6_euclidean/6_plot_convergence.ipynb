{
 "cells": [
  {
   "cell_type": "markdown",
   "metadata": {},
   "source": [
    "# Import packages"
   ]
  },
  {
   "cell_type": "code",
   "execution_count": 1,
   "metadata": {},
   "outputs": [],
   "source": [
    "import sys"
   ]
  },
  {
   "cell_type": "code",
   "execution_count": 2,
   "metadata": {},
   "outputs": [],
   "source": [
    "import sys\n",
    "#sys.path.append(\"D:\\Julian\\workspace\\endolas\")\n",
    "sys.path.append(\"/home/julian/Documents/Studium/MT-Masterarbeit/Workspace/endolas\")\n",
    "\n",
    "import numpy as np\n",
    "import matplotlib.pyplot as plt\n",
    "import utils\n",
    "import os\n",
    "import importlib"
   ]
  },
  {
   "cell_type": "markdown",
   "metadata": {},
   "source": [
    "# Load data and plot"
   ]
  },
  {
   "cell_type": "code",
   "execution_count": 8,
   "metadata": {},
   "outputs": [],
   "source": [
    "experiments = [3]\n",
    "paths = dict()\n",
    "\n",
    "for experiment in experiments:\n",
    "    paths[experiment] = os.path.abspath('../6_{}_euclidean/log'.format(experiment))"
   ]
  },
  {
   "cell_type": "code",
   "execution_count": 9,
   "metadata": {
    "scrolled": false
   },
   "outputs": [
    {
     "data": {
      "image/png": "[encoded data removed]",
      "text/plain": [
       "<Figure size 432x288 with 1 Axes>"
      ]
     },
     "metadata": {},
     "output_type": "display_data"
    }
   ],
   "source": [
    "importlib.reload(utils)\n",
    "utils.plot_convergence(paths, epochs=300, sigma=-1, normalize=False, label=\"MSED\", plot=-1, log =True)"
   ]
  },
  {
   "cell_type": "code",
   "execution_count": 2,
   "metadata": {},
   "outputs": [
    {
     "data": {
      "text/plain": [
       "'/home/julian/Documents/Studium/MT-Master/Faecher/Forschungspraktikum/Workspace/glotax/utils.py'"
      ]
     },
     "execution_count": 2,
     "metadata": {},
     "output_type": "execute_result"
    }
   ],
   "source": [
    "utils.__file__"
   ]
  },
  {
   "cell_type": "code",
   "execution_count": 3,
   "metadata": {},
   "outputs": [
    {
     "data": {
      "text/plain": [
       "['/home/julian/Documents/Studium/MT-Masterarbeit/Workspace/endolas/experiments/6_correspondence',\n",
       " '/home/julian/Documents/Studium/MT-Master/Faecher/Forschungspraktikum/Workspace/glotax',\n",
       " '/home/julian/Documents/Studium/MT-Masterarbeit/Workspace/endolas/experiments/6_correspondence',\n",
       " '/home/julian/anaconda3/envs/endolas/lib/python38.zip',\n",
       " '/home/julian/anaconda3/envs/endolas/lib/python3.8',\n",
       " '/home/julian/anaconda3/envs/endolas/lib/python3.8/lib-dynload',\n",
       " '',\n",
       " '/home/julian/anaconda3/envs/endolas/lib/python3.8/site-packages',\n",
       " '/home/julian/anaconda3/envs/endolas/lib/python3.8/site-packages/IPython/extensions',\n",
       " '/home/julian/.ipython',\n",
       " '/home/julian/Documents/Studium/MT-Masterarbeit/Workspace/endolas']"
      ]
     },
     "execution_count": 3,
     "metadata": {},
     "output_type": "execute_result"
    }
   ],
   "source": [
    "sys.path"
   ]
  },
  {
   "cell_type": "code",
   "execution_count": null,
   "metadata": {},
   "outputs": [],
   "source": []
  }
 ],
 "metadata": {
  "kernelspec": {
   "display_name": "Python 3",
   "language": "python",
   "name": "python3"
  },
  "language_info": {
   "codemirror_mode": {
    "name": "ipython",
    "version": 3
   },
   "file_extension": ".py",
   "mimetype": "text/x-python",
   "name": "python",
   "nbconvert_exporter": "python",
   "pygments_lexer": "ipython3",
   "version": "3.8.2"
  }
 },
 "nbformat": 4,
 "nbformat_minor": 2
}

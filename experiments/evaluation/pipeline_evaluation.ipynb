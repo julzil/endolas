{
 "cells": [
  {
   "cell_type": "code",
   "execution_count": 2,
   "metadata": {},
   "outputs": [],
   "source": [
    "import sys\n",
    "#sys.path.append(\"D:\\Julian\\workspace\\endolas\")\n",
    "sys.path.append(\"/home/julian/Documents/Studium/MT-Masterarbeit/Workspace/endolas\")\n",
    "\n",
    "import numpy as np\n",
    "import matplotlib.pyplot as plt\n",
    "from endolas import utils\n",
    "import os\n",
    "import importlib\n",
    "\n",
    "import pandas as pd\n",
    "import seaborn as sns"
   ]
  },
  {
   "cell_type": "code",
   "execution_count": 141,
   "metadata": {},
   "outputs": [],
   "source": [
    "evaluation_csv = os.path.abspath('pipeline_evaluation_csv.csv')\n",
    "data = pd.read_csv(evaluation_csv)"
   ]
  },
  {
   "cell_type": "markdown",
   "metadata": {},
   "source": [
    "# Detection"
   ]
  },
  {
   "cell_type": "markdown",
   "metadata": {},
   "source": [
    "Stacked barplot"
   ]
  },
  {
   "cell_type": "code",
   "execution_count": 62,
   "metadata": {},
   "outputs": [],
   "source": [
    "d = {'Method' : ['Deep Learning', 'Conventional'],\n",
    "     'Correct' : [data['Correct'].mean(), 0.6095],\n",
    "     'Not' : [data['Not'].mean(), 0.3285], \n",
    "     'Wrong' : [data['Wrong'].mean(), 0.0620]}\n",
    "df = pd.DataFrame(data=d)*100"
   ]
  },
  {
   "cell_type": "code",
   "execution_count": 87,
   "metadata": {},
   "outputs": [
    {
     "data": {
      "text/html": [
       "<div>\n",
       "<style scoped>\n",
       "    .dataframe tbody tr th:only-of-type {\n",
       "        vertical-align: middle;\n",
       "    }\n",
       "\n",
       "    .dataframe tbody tr th {\n",
       "        vertical-align: top;\n",
       "    }\n",
       "\n",
       "    .dataframe thead th {\n",
       "        text-align: right;\n",
       "    }\n",
       "</style>\n",
       "<table border=\"1\" class=\"dataframe\">\n",
       "  <thead>\n",
       "    <tr style=\"text-align: right;\">\n",
       "      <th></th>\n",
       "      <th>Method</th>\n",
       "      <th>Correct</th>\n",
       "      <th>Not</th>\n",
       "      <th>Wrong</th>\n",
       "    </tr>\n",
       "  </thead>\n",
       "  <tbody>\n",
       "    <tr>\n",
       "      <th>0</th>\n",
       "      <td>Deep LearningDeep LearningDeep LearningDeep Le...</td>\n",
       "      <td>98.672154</td>\n",
       "      <td>0.990907</td>\n",
       "      <td>0.336938</td>\n",
       "    </tr>\n",
       "    <tr>\n",
       "      <th>1</th>\n",
       "      <td>ConventionalConventionalConventionalConvention...</td>\n",
       "      <td>60.950000</td>\n",
       "      <td>32.850000</td>\n",
       "      <td>6.200000</td>\n",
       "    </tr>\n",
       "  </tbody>\n",
       "</table>\n",
       "</div>"
      ],
      "text/plain": [
       "                                              Method    Correct        Not  \\\n",
       "0  Deep LearningDeep LearningDeep LearningDeep Le...  98.672154   0.990907   \n",
       "1  ConventionalConventionalConventionalConvention...  60.950000  32.850000   \n",
       "\n",
       "      Wrong  \n",
       "0  0.336938  \n",
       "1  6.200000  "
      ]
     },
     "execution_count": 87,
     "metadata": {},
     "output_type": "execute_result"
    }
   ],
   "source": [
    "df"
   ]
  },
  {
   "cell_type": "code",
   "execution_count": 86,
   "metadata": {},
   "outputs": [
    {
     "data": {
      "image/png": "[encoded data removed]",
      "text/plain": [
       "<Figure size 108x144 with 1 Axes>"
      ]
     },
     "metadata": {},
     "output_type": "display_data"
    }
   ],
   "source": [
    "plt.rcParams['figure.figsize'] = 1.5,2.\n",
    "sns.set(style=\"whitegrid\", palette=\"pastel\", color_codes=True)\n",
    "sns.set_style({'font.family':'serif',})\n",
    "ax = df.plot(kind='bar', stacked=True)\n",
    "sns.despine(left=True)\n",
    "ax.set_ylabel(\"Detection Mean [%]\",fontsize=8)\n",
    "ax.set_xticklabels(['Deep Learning', 'Conventional'], rotation=20)\n",
    "ax.tick_params(labelsize=8)\n",
    "plt.legend(\"\")\n",
    "plt.savefig(\"bars_8_9.svg\")"
   ]
  },
  {
   "cell_type": "markdown",
   "metadata": {},
   "source": [
    "Violin plot"
   ]
  },
  {
   "cell_type": "code",
   "execution_count": 38,
   "metadata": {},
   "outputs": [
    {
     "data": {
      "image/png": "[encoded data removed]",
      "text/plain": [
       "<Figure size 57.6x122.4 with 1 Axes>"
      ]
     },
     "metadata": {},
     "output_type": "display_data"
    }
   ],
   "source": [
    "COLOR_POSTERIOR = '#4cb2cf'\n",
    "COLOR_ANTERIOR = '#87bf4b'\n",
    "COLOR_TRUE = '#f78002'\n",
    "\n",
    "plt.rcParams['figure.figsize'] = 0.8,1.7\n",
    "\n",
    "sns.set(style=\"whitegrid\", palette=\"pastel\", color_codes=True)\n",
    "\n",
    "# Load the example tips dataset\n",
    "tips = sns.load_dataset(\"tips\")\n",
    "\n",
    "sns.set_style({'font.family':'serif',})\n",
    "\n",
    "# Draw a nested violinplot and split the violins for easier comparison\n",
    "ax=sns.violinplot(#hue=\"Set\",\n",
    "               split=True, cut=0,# bw=1,\n",
    "               #palette={\"val\": '#e5e5e5ff', \"test\": \"r\"},\n",
    "               color=COLOR_TRUE,\n",
    "               data=data.iloc[:,4:5]*100,\n",
    "               inner='box',\n",
    "               linewidth=1,\n",
    "               scale='width')\n",
    "\n",
    "\n",
    "ax.set_ylabel(\"Wrongly detected [%]\",fontsize=8)\n",
    "ax.tick_params(labelsize=8)\n",
    "ax.set_xticklabels(ax.get_xticklabels(), rotation=0)\n",
    "\n",
    "ax.set(ylim=(0, 2))\n",
    "plt.xlabel(\"\")\n",
    "sns.despine(left=True)\n",
    "\n",
    "plt.savefig(\"wrong_8_9.svg\")"
   ]
  },
  {
   "cell_type": "markdown",
   "metadata": {},
   "source": [
    "# Matching"
   ]
  },
  {
   "cell_type": "markdown",
   "metadata": {},
   "source": [
    "Scatter"
   ]
  },
  {
   "cell_type": "code",
   "execution_count": 142,
   "metadata": {},
   "outputs": [],
   "source": [
    "data = data.rename(columns={\"Specificity\": \"Specificity [%]\", \n",
    "                     \"Sensitivity\": \"Sensitivity [%]\",\n",
    "                     \"Accuracy\": \"Accuracy [%]\"})"
   ]
  },
  {
   "cell_type": "code",
   "execution_count": 115,
   "metadata": {},
   "outputs": [
    {
     "data": {
      "image/png": "[encoded data removed]",
      "text/plain": [
       "<Figure size 216x144 with 1 Axes>"
      ]
     },
     "metadata": {
      "needs_background": "light"
     },
     "output_type": "display_data"
    }
   ],
   "source": [
    "sns.set_style({'font.family':'serif',})\n",
    "plt.rcParams['figure.figsize'] = 3,2\n",
    "ax = sns.scatterplot(x=data['Specificity [%]']*100,\n",
    "                     y=data['Sensitivity [%]']*100,\n",
    "                     hue=data['Accuracy [%]']*100,\n",
    "                     s=50,\n",
    "                     style=data['Style'],\n",
    "                     palette='viridis')\n",
    "ax.set(ylim=(58, 100))\n",
    "ax.set(xlim=(10, 100))\n",
    "plt.gca().spines['left'].set_position(('outward', 5))\n",
    "plt.gca().spines['bottom'].set_position(('outward', 5))\n",
    "\n",
    "plt.gca().spines['right'].set_visible(False)\n",
    "plt.gca().spines['top'].set_visible(False)\n",
    "plt.legend(loc=(0.0, 1.0), ncol=10, frameon=False, borderpad=0.0, labelspacing=0.2, handlelength=1.0, columnspacing=0.5, fontsize= 8)\n",
    "\n",
    "\n",
    "ax.tick_params(labelsize=8)\n",
    "ax.xaxis.label.set_size(8)\n",
    "ax.yaxis.label.set_size(8)\n",
    "plt.savefig(\"matching_8_9.svg\")"
   ]
  },
  {
   "cell_type": "markdown",
   "metadata": {},
   "source": [
    "Distribution"
   ]
  },
  {
   "cell_type": "code",
   "execution_count": 143,
   "metadata": {},
   "outputs": [],
   "source": [
    "data = data[data.Style!=' Conventional']"
   ]
  },
  {
   "cell_type": "code",
   "execution_count": 147,
   "metadata": {},
   "outputs": [
    {
     "data": {
      "image/png": "[encoded data removed]",
      "text/plain": [
       "<Figure size 216x144 with 1 Axes>"
      ]
     },
     "metadata": {},
     "output_type": "display_data"
    }
   ],
   "source": [
    "COLOR_POSTERIOR = '#4cb2cf'\n",
    "COLOR_ANTERIOR = '#87bf4b'\n",
    "COLOR_TRUE = '#f78002'\n",
    "\n",
    "plt.rcParams['figure.figsize'] = 3,2\n",
    "\n",
    "sns.set(style=\"whitegrid\", palette=\"pastel\", color_codes=True)\n",
    "\n",
    "# Load the example tips dataset\n",
    "tips = sns.load_dataset(\"tips\")\n",
    "\n",
    "sns.set_style({'font.family':'serif',})\n",
    "\n",
    "# Draw a nested violinplot and split the violins for easier comparison\n",
    "ax=sns.violinplot(#hue=\"Set\",\n",
    "               split=True, cut=0,# bw=1,\n",
    "               #palette={\"val\": '#e5e5e5ff', \"test\": \"r\"},\n",
    "               color='#e5e5e5ff',\n",
    "               data=data.iloc[:,5:8]*100,\n",
    "               inner='box',\n",
    "               linewidth=1,\n",
    "               scale='width')\n",
    "\n",
    "\n",
    "#ax.set_ylabel(\"Wrongly detected [%]\",fontsize=8)\n",
    "ax.tick_params(labelsize=8)\n",
    "ax.set_xticklabels(ax.get_xticklabels(), rotation=20)\n",
    "\n",
    "ax.set(ylim=(10, 100))\n",
    "plt.xlabel(\"\")\n",
    "sns.despine(left=True)\n",
    "plt.savefig(\"matching_8_9_violin.svg\")"
   ]
  },
  {
   "cell_type": "code",
   "execution_count": 146,
   "metadata": {},
   "outputs": [
    {
     "data": {
      "text/plain": [
       "<Figure size 216x144 with 0 Axes>"
      ]
     },
     "metadata": {},
     "output_type": "display_data"
    }
   ],
   "source": [
    "plt.savefig(\"matching_8_9_violin.svg\")"
   ]
  },
  {
   "cell_type": "markdown",
   "metadata": {},
   "source": [
    "# Time for labeling"
   ]
  },
  {
   "cell_type": "code",
   "execution_count": 9,
   "metadata": {},
   "outputs": [],
   "source": [
    "evaluation_csv = os.path.abspath('pipeline_time.csv')\n",
    "data = pd.read_csv(evaluation_csv)"
   ]
  },
  {
   "cell_type": "code",
   "execution_count": 72,
   "metadata": {},
   "outputs": [
    {
     "data": {
      "text/plain": [
       "2076.0"
      ]
     },
     "execution_count": 72,
     "metadata": {},
     "output_type": "execute_result"
    }
   ],
   "source": [
    "data[data.Software=='Videoclick'].Tracking.mean()"
   ]
  },
  {
   "cell_type": "code",
   "execution_count": 75,
   "metadata": {},
   "outputs": [
    {
     "data": {
      "image/png": "[encoded data removed]",
      "text/plain": [
       "<Figure size 180x144 with 1 Axes>"
      ]
     },
     "metadata": {
      "needs_background": "light"
     },
     "output_type": "display_data"
    }
   ],
   "source": [
    "COLOR_POSTERIOR = '#4cb2cf'\n",
    "COLOR_ANTERIOR = '#87bf4b'\n",
    "\n",
    "plt.rcParams['figure.figsize'] = 2.5,2\n",
    "sns.set_style({'font.family':'serif',})\n",
    "ax = sns.barplot(x=data.Dataset, y=data.Tracking, hue=data.Software, palette={'Videoclick':COLOR_POSTERIOR,\n",
    "                                                                               'Glabel':COLOR_ANTERIOR})\n",
    "ax.set_ylabel(\"Tracking Time [s]\",fontsize=8)\n",
    "ax.tick_params(labelsize=8)\n",
    "ax.set_xticklabels(ax.get_xticklabels(), rotation=20)\n",
    "\n",
    "#ax.set(ylim=(0, 2))\n",
    "plt.xlabel(\"\")\n",
    "sns.despine(left=True)\n",
    "plt.legend(loc=(0.0, 1.0), ncol=2, frameon=False, borderpad=0.0, labelspacing=0.2, handlelength=1.0, columnspacing=0.5, fontsize= 8)\n",
    "ax.axhline(2076, ls='-', c='k')\n",
    "ax.axhline(2076, ls='--', c=COLOR_POSTERIOR)\n",
    "ax.text(3.,2140, \"2076\", fontsize=8)\n",
    "ax.axhline(676, ls='-', c='k')\n",
    "ax.axhline(676, ls='--', c=COLOR_ANTERIOR)\n",
    "ax.text(3.1,740, \"676\", fontsize=8)\n",
    "\n",
    "plt.savefig(\"tracking.svg\")"
   ]
  },
  {
   "cell_type": "code",
   "execution_count": null,
   "metadata": {},
   "outputs": [],
   "source": []
  }
 ],
 "metadata": {
  "kernelspec": {
   "display_name": "Python 3",
   "language": "python",
   "name": "python3"
  },
  "language_info": {
   "codemirror_mode": {
    "name": "ipython",
    "version": 3
   },
   "file_extension": ".py",
   "mimetype": "text/x-python",
   "name": "python",
   "nbconvert_exporter": "python",
   "pygments_lexer": "ipython3",
   "version": "3.8.2"
  }
 },
 "nbformat": 4,
 "nbformat_minor": 4
}

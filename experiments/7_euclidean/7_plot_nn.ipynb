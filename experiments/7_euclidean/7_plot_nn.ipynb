{
 "cells": [
  {
   "cell_type": "markdown",
   "metadata": {},
   "source": [
    "# Import packages"
   ]
  },
  {
   "cell_type": "code",
   "execution_count": 78,
   "metadata": {},
   "outputs": [],
   "source": [
    "import sys\n",
    "#sys.path.append(\"D:\\Julian\\workspace\\endolas\")\n",
    "sys.path.append(\"/home/julian/Documents/Studium/MT-Masterarbeit/Workspace/endolas\")\n",
    "\n",
    "import numpy as np\n",
    "import matplotlib.pyplot as plt\n",
    "import utils\n",
    "import os\n",
    "import importlib\n",
    "\n",
    "import pandas as pd\n",
    "import seaborn as sns"
   ]
  },
  {
   "cell_type": "markdown",
   "metadata": {},
   "source": [
    "# Load data and plot"
   ]
  },
  {
   "cell_type": "code",
   "execution_count": 79,
   "metadata": {
    "scrolled": true
   },
   "outputs": [],
   "source": [
    "data = pd.read_csv('evaluation_nn.csv')"
   ]
  },
  {
   "cell_type": "code",
   "execution_count": 80,
   "metadata": {},
   "outputs": [],
   "source": [
    "data['Experiment'] =data['Experiment'].replace({1:\"1) LASTEN BS2\",\n",
    "                            2:\"2) LASTEN BS4\",\n",
    "                            3:\"3) LASTENS\",\n",
    "                            4:\"4) LASTENA\",\n",
    "                            5:\"5) LASTENAS\"})"
   ]
  },
  {
   "cell_type": "code",
   "execution_count": 81,
   "metadata": {},
   "outputs": [
    {
     "data": {
      "text/html": [
       "<div>\n",
       "<style scoped>\n",
       "    .dataframe tbody tr th:only-of-type {\n",
       "        vertical-align: middle;\n",
       "    }\n",
       "\n",
       "    .dataframe tbody tr th {\n",
       "        vertical-align: top;\n",
       "    }\n",
       "\n",
       "    .dataframe thead th {\n",
       "        text-align: right;\n",
       "    }\n",
       "</style>\n",
       "<table border=\"1\" class=\"dataframe\">\n",
       "  <thead>\n",
       "    <tr style=\"text-align: right;\">\n",
       "      <th></th>\n",
       "      <th>Unnamed: 0</th>\n",
       "      <th>Accuracy</th>\n",
       "      <th>Image</th>\n",
       "      <th>Set</th>\n",
       "      <th>Experiment</th>\n",
       "    </tr>\n",
       "  </thead>\n",
       "  <tbody>\n",
       "    <tr>\n",
       "      <th>0</th>\n",
       "      <td>0</td>\n",
       "      <td>1.000000</td>\n",
       "      <td>12</td>\n",
       "      <td>val</td>\n",
       "      <td>1) LASTEN BS2</td>\n",
       "    </tr>\n",
       "    <tr>\n",
       "      <th>1</th>\n",
       "      <td>1</td>\n",
       "      <td>0.993631</td>\n",
       "      <td>15</td>\n",
       "      <td>val</td>\n",
       "      <td>1) LASTEN BS2</td>\n",
       "    </tr>\n",
       "    <tr>\n",
       "      <th>2</th>\n",
       "      <td>2</td>\n",
       "      <td>1.000000</td>\n",
       "      <td>22</td>\n",
       "      <td>val</td>\n",
       "      <td>1) LASTEN BS2</td>\n",
       "    </tr>\n",
       "    <tr>\n",
       "      <th>3</th>\n",
       "      <td>3</td>\n",
       "      <td>1.000000</td>\n",
       "      <td>38</td>\n",
       "      <td>val</td>\n",
       "      <td>1) LASTEN BS2</td>\n",
       "    </tr>\n",
       "    <tr>\n",
       "      <th>4</th>\n",
       "      <td>4</td>\n",
       "      <td>1.000000</td>\n",
       "      <td>40</td>\n",
       "      <td>val</td>\n",
       "      <td>1) LASTEN BS2</td>\n",
       "    </tr>\n",
       "    <tr>\n",
       "      <th>...</th>\n",
       "      <td>...</td>\n",
       "      <td>...</td>\n",
       "      <td>...</td>\n",
       "      <td>...</td>\n",
       "      <td>...</td>\n",
       "    </tr>\n",
       "    <tr>\n",
       "      <th>2047</th>\n",
       "      <td>2047</td>\n",
       "      <td>1.000000</td>\n",
       "      <td>208</td>\n",
       "      <td>test</td>\n",
       "      <td>5) LASTENAS</td>\n",
       "    </tr>\n",
       "    <tr>\n",
       "      <th>2048</th>\n",
       "      <td>2048</td>\n",
       "      <td>1.000000</td>\n",
       "      <td>211</td>\n",
       "      <td>test</td>\n",
       "      <td>5) LASTENAS</td>\n",
       "    </tr>\n",
       "    <tr>\n",
       "      <th>2049</th>\n",
       "      <td>2049</td>\n",
       "      <td>1.000000</td>\n",
       "      <td>218</td>\n",
       "      <td>test</td>\n",
       "      <td>5) LASTENAS</td>\n",
       "    </tr>\n",
       "    <tr>\n",
       "      <th>2050</th>\n",
       "      <td>2050</td>\n",
       "      <td>1.000000</td>\n",
       "      <td>228</td>\n",
       "      <td>test</td>\n",
       "      <td>5) LASTENAS</td>\n",
       "    </tr>\n",
       "    <tr>\n",
       "      <th>2051</th>\n",
       "      <td>2051</td>\n",
       "      <td>1.000000</td>\n",
       "      <td>237</td>\n",
       "      <td>test</td>\n",
       "      <td>5) LASTENAS</td>\n",
       "    </tr>\n",
       "  </tbody>\n",
       "</table>\n",
       "<p>2052 rows × 5 columns</p>\n",
       "</div>"
      ],
      "text/plain": [
       "      Unnamed: 0  Accuracy  Image   Set     Experiment\n",
       "0              0  1.000000     12   val  1) LASTEN BS2\n",
       "1              1  0.993631     15   val  1) LASTEN BS2\n",
       "2              2  1.000000     22   val  1) LASTEN BS2\n",
       "3              3  1.000000     38   val  1) LASTEN BS2\n",
       "4              4  1.000000     40   val  1) LASTEN BS2\n",
       "...          ...       ...    ...   ...            ...\n",
       "2047        2047  1.000000    208  test    5) LASTENAS\n",
       "2048        2048  1.000000    211  test    5) LASTENAS\n",
       "2049        2049  1.000000    218  test    5) LASTENAS\n",
       "2050        2050  1.000000    228  test    5) LASTENAS\n",
       "2051        2051  1.000000    237  test    5) LASTENAS\n",
       "\n",
       "[2052 rows x 5 columns]"
      ]
     },
     "execution_count": 81,
     "metadata": {},
     "output_type": "execute_result"
    }
   ],
   "source": [
    "data"
   ]
  },
  {
   "cell_type": "code",
   "execution_count": 82,
   "metadata": {},
   "outputs": [
    {
     "data": {
      "image/png": "[encoded data removed]",
      "text/plain": [
       "<Figure size 864x288 with 1 Axes>"
      ]
     },
     "metadata": {},
     "output_type": "display_data"
    }
   ],
   "source": [
    "plt.rcParams['figure.figsize'] = 12,4\n",
    "sns.set(style=\"whitegrid\", palette=\"pastel\", color_codes=True)\n",
    "\n",
    "# Load the example tips dataset\n",
    "tips = sns.load_dataset(\"tips\")\n",
    "\n",
    "# Draw a nested violinplot and split the violins for easier comparison\n",
    "ax=sns.violinplot(x=\"Experiment\", y=\"Accuracy\", hue=\"Set\",\n",
    "               split=True,\n",
    "               cut=0,\n",
    "               #palette={\"val\": \"m\", \"test\": \"r\"},\n",
    "               whis=[0, 100],\n",
    "               data=data,\n",
    "                 scale=\"width\")\n",
    "\n",
    "#ax.set(ylim=(0.9, 1.0))\n",
    "ax.set_xlabel(\"\")\n",
    "sns.despine(left=True)\n",
    "plt.legend(loc=(1.0, 0.0), frameon=False)\n",
    "\n",
    "plt.savefig(\"violin_nn.svg\")"
   ]
  },
  {
   "cell_type": "code",
   "execution_count": 83,
   "metadata": {
    "scrolled": true
   },
   "outputs": [
    {
     "name": "stderr",
     "output_type": "stream",
     "text": [
      "<ipython-input-83-140b19da90bb>:7: UserWarning: Boolean Series key will be reindexed to match DataFrame index.\n",
      "  mean_acc_val.append(data[data.Experiment==i][data.Set=='val']['Accuracy'].mean())\n",
      "<ipython-input-83-140b19da90bb>:8: UserWarning: Boolean Series key will be reindexed to match DataFrame index.\n",
      "  mean_acc_test.append(data[data.Experiment==i][data.Set=='test']['Accuracy'].mean())\n"
     ]
    }
   ],
   "source": [
    "mean_acc_val = []\n",
    "mean_acc_test = []\n",
    "indices = [\"1) LASTEN BS2\",\"2) LASTEN BS4\", \"3) LASTENS\", \"4) LASTENA\", \"5) LASTENAS\"]\n",
    "indices_str = x = np.array(indices)\n",
    "\n",
    "for i in indices:\n",
    "    mean_acc_val.append(data[data.Experiment==i][data.Set=='val']['Accuracy'].mean())\n",
    "    mean_acc_test.append(data[data.Experiment==i][data.Set=='test']['Accuracy'].mean())"
   ]
  },
  {
   "cell_type": "code",
   "execution_count": 74,
   "metadata": {},
   "outputs": [],
   "source": [
    "def show_values_on_bars(axs, h_v=\"v\", space=-0.4, offset = 0.001):\n",
    "    def _show_on_single_plot(ax):\n",
    "        if h_v == \"v\":\n",
    "            for p in ax.patches:\n",
    "                _x = p.get_x() + p.get_width() / 2\n",
    "                _y = p.get_y() + p.get_height() + offset\n",
    "                value = round(p.get_height(),2)\n",
    "                ax.text(_x, _y, value, ha=\"center\") \n",
    "        elif h_v == \"h\":\n",
    "            for p in ax.patches:\n",
    "                _x = p.get_x() + p.get_width() + float(space)\n",
    "                _y = p.get_y() + p.get_height() + offset\n",
    "                value = round(p.get_width(),4)\n",
    "                ax.text(_x, _y, value, ha=\"center\")\n",
    "\n",
    "    if isinstance(axs, np.ndarray):\n",
    "        for idx, ax in np.ndenumerate(axs):\n",
    "            _show_on_single_plot(ax)\n",
    "    else:\n",
    "        _show_on_single_plot(axs)"
   ]
  },
  {
   "cell_type": "code",
   "execution_count": 85,
   "metadata": {
    "scrolled": true
   },
   "outputs": [
    {
     "data": {
      "image/png": "[encoded data removed]",
      "text/plain": [
       "<Figure size 432x216 with 1 Axes>"
      ]
     },
     "metadata": {},
     "output_type": "display_data"
    }
   ],
   "source": [
    "plt.rcParams['figure.figsize'] = 6,3\n",
    "sns.set(style=\"white\")#, context=\"talk\")\n",
    "ax = sns.barplot(y=indices_str, x=mean_acc_val, order=indices_str, palette=\"hls\")\n",
    "\n",
    "ax.set_xlabel(\"Mean Accuracy\")\n",
    "#ax.set(ylim=(0.9, 1.0))\n",
    "\n",
    "show_values_on_bars(ax, h_v=\"h\", space=0.1, offset=-0.3)\n",
    "sns.despine(bottom=True)\n",
    "\n",
    "plt.savefig(\"barblot_nn_val.svg\")"
   ]
  },
  {
   "cell_type": "code",
   "execution_count": null,
   "metadata": {},
   "outputs": [],
   "source": []
  }
 ],
 "metadata": {
  "kernelspec": {
   "display_name": "Python 3",
   "language": "python",
   "name": "python3"
  },
  "language_info": {
   "codemirror_mode": {
    "name": "ipython",
    "version": 3
   },
   "file_extension": ".py",
   "mimetype": "text/x-python",
   "name": "python",
   "nbconvert_exporter": "python",
   "pygments_lexer": "ipython3",
   "version": "3.8.2"
  }
 },
 "nbformat": 4,
 "nbformat_minor": 2
}

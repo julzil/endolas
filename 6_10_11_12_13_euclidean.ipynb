{
 "cells": [
  {
   "cell_type": "markdown",
   "metadata": {},
   "source": [
    "# Import statements\n",
    "Following packages are necessary:"
   ]
  },
  {
   "cell_type": "code",
   "execution_count": 1,
   "metadata": {
    "scrolled": true
   },
   "outputs": [],
   "source": [
    "import random\n",
    "import utils\n",
    "import os\n",
    "import imageio\n",
    "import json\n",
    "from simplegen import SIMPLESequence\n",
    "\n",
    "import tensorflow as tf\n",
    "import numpy as np\n",
    "import tensorflow.keras.backend as kb\n",
    "from tensorflow.keras.callbacks import CSVLogger, ModelCheckpoint\n",
    "\n",
    "from unet import UNet\n",
    "from unet import preprocess_input as pre_une\n",
    "\n",
    "from matplotlib import pyplot as plt"
   ]
  },
  {
   "cell_type": "markdown",
   "metadata": {
    "pycharm": {
     "name": "#%% md\n"
    }
   },
   "source": [
    "# Checks\n",
    "The version of tensorflow as well as the GPU support are checked."
   ]
  },
  {
   "cell_type": "code",
   "execution_count": 2,
   "metadata": {
    "pycharm": {
     "name": "#%%\n"
    },
    "scrolled": false
   },
   "outputs": [
    {
     "name": "stdout",
     "output_type": "stream",
     "text": [
      "2.0.0\n"
     ]
    },
    {
     "data": {
      "text/plain": [
       "[PhysicalDevice(name='/physical_device:GPU:0', device_type='GPU')]"
      ]
     },
     "execution_count": 2,
     "metadata": {},
     "output_type": "execute_result"
    }
   ],
   "source": [
    "print(tf.__version__)\n",
    "physical_devices = tf.config.experimental.list_physical_devices('GPU')\n",
    "tf.config.experimental.set_memory_growth(physical_devices[0], True)\n",
    "tf.config.experimental.get_visible_devices('GPU')"
   ]
  },
  {
   "cell_type": "markdown",
   "metadata": {},
   "source": [
    "# Functionality\n",
    "Necessary funcionality is added here"
   ]
  },
  {
   "cell_type": "code",
   "execution_count": 3,
   "metadata": {},
   "outputs": [],
   "source": [
    "def plot_cube(img, x, y, val):\n",
    "    \n",
    "    img[y][x] = val\n",
    "    img[y][x-1] = val\n",
    "    img[y][x+1] = val\n",
    "    img[y-1][x] = val\n",
    "    img[y-1][x-1] = val\n",
    "    img[y-1][x+1] = val\n",
    "    img[y+1][x] = val\n",
    "    img[y+1][x-1] = val\n",
    "    img[y+1][x+1] = val  "
   ]
  },
  {
   "cell_type": "markdown",
   "metadata": {},
   "source": [
    "# 6.10) Supervised Euclidean for SIMPLED with difference image and gradient\n",
    "A U-Net is trained here to predict a displacement field and the euclidean distance is taken as error."
   ]
  },
  {
   "cell_type": "markdown",
   "metadata": {},
   "source": [
    "# Data\n",
    "Import training images"
   ]
  },
  {
   "cell_type": "code",
   "execution_count": 4,
   "metadata": {},
   "outputs": [],
   "source": [
    "store_path = 'experiments/6_10_euclidean'\n",
    "\n",
    "path_fixed = r'D:\\Julian\\data\\SIMPLED\\train\\0'\n",
    "path_train = r'D:\\Julian\\data\\SIMPLED\\train'\n",
    "path_validation = r'D:\\Julian\\data\\SIMPLED\\validation'\n",
    "path_test = r'D:\\Julian\\data\\SIMPLED\\test'\n",
    "\n",
    "width = 224\n",
    "height = 224"
   ]
  },
  {
   "cell_type": "markdown",
   "metadata": {},
   "source": [
    "# Seeding\n",
    "Seeds are set to ensure reproducible training."
   ]
  },
  {
   "cell_type": "code",
   "execution_count": 5,
   "metadata": {},
   "outputs": [],
   "source": [
    "SEED = 42\n",
    "np.random.seed(SEED)\n",
    "tf.random.set_seed(SEED)\n",
    "random.seed(SEED)"
   ]
  },
  {
   "cell_type": "markdown",
   "metadata": {},
   "source": [
    "# Network\n",
    "A U-Net based network is instantiated with keras to run a semantic segmentation."
   ]
  },
  {
   "cell_type": "code",
   "execution_count": 6,
   "metadata": {},
   "outputs": [],
   "source": [
    "model = UNet(filters=32, layers=4, activation='linear', classes=2, input_shape=(224, 224, 3))"
   ]
  },
  {
   "cell_type": "markdown",
   "metadata": {},
   "source": [
    "# Training Preparation\n",
    "Prepare the settings for training the model."
   ]
  },
  {
   "cell_type": "code",
   "execution_count": 7,
   "metadata": {},
   "outputs": [
    {
     "name": "stdout",
     "output_type": "stream",
     "text": [
      "WARNING:tensorflow:`period` argument is deprecated. Please use `save_freq` to specify the frequency in number of samples seen.\n"
     ]
    }
   ],
   "source": [
    "train_gen = SIMPLESequence(path_train, path_fixed,\n",
    "                           batch_size=4,\n",
    "                           preprocess_input=pre_une,\n",
    "                           shuffle=True,\n",
    "                           multi_channel='grad')\n",
    "\n",
    "validation_gen = SIMPLESequence(path_validation, path_fixed,\n",
    "                                batch_size=4,\n",
    "                                preprocess_input=pre_une,\n",
    "                                multi_channel='grad')\n",
    "\n",
    "logger = CSVLogger(store_path + \"/log\")\n",
    "checker = ModelCheckpoint(store_path + \"/weights.{epoch:02d}.hdf5\",\n",
    "                          period=10)\n",
    "callbacks = [logger, checker]\n",
    "\n",
    "model.compile(optimizer='adam', loss = utils.msed_loss)"
   ]
  },
  {
   "cell_type": "markdown",
   "metadata": {},
   "source": [
    "# Training\n",
    "Run the training."
   ]
  },
  {
   "cell_type": "code",
   "execution_count": 8,
   "metadata": {},
   "outputs": [
    {
     "name": "stderr",
     "output_type": "stream",
     "text": [
      "C:\\Users\\zilkerjn\\AppData\\Local\\Continuum\\anaconda3\\envs\\glotax\\lib\\site-packages\\skimage\\filters\\rank\\generic.py:119: UserWarning: Possible precision loss converting image of type float32 to uint8 as required by rank filters. Convert manually using skimage.util.img_as_ubyte to silence this warning.\n",
      "  out_dtype)\n"
     ]
    },
    {
     "name": "stdout",
     "output_type": "stream",
     "text": [
      "Train for 840 steps, validate for 180 steps\n",
      "Epoch 1/100\n"
     ]
    },
    {
     "name": "stderr",
     "output_type": "stream",
     "text": [
      "C:\\Users\\zilkerjn\\AppData\\Local\\Continuum\\anaconda3\\envs\\glotax\\lib\\site-packages\\tensorflow_core\\python\\framework\\indexed_slices.py:424: UserWarning: Converting sparse IndexedSlices to a dense Tensor of unknown shape. This may consume a large amount of memory.\n",
      "  \"Converting sparse IndexedSlices to a dense Tensor of unknown shape. \"\n",
      "C:\\Users\\zilkerjn\\AppData\\Local\\Continuum\\anaconda3\\envs\\glotax\\lib\\site-packages\\tensorflow_core\\python\\framework\\indexed_slices.py:424: UserWarning: Converting sparse IndexedSlices to a dense Tensor of unknown shape. This may consume a large amount of memory.\n",
      "  \"Converting sparse IndexedSlices to a dense Tensor of unknown shape. \"\n",
      "C:\\Users\\zilkerjn\\AppData\\Local\\Continuum\\anaconda3\\envs\\glotax\\lib\\site-packages\\tensorflow_core\\python\\framework\\indexed_slices.py:424: UserWarning: Converting sparse IndexedSlices to a dense Tensor of unknown shape. This may consume a large amount of memory.\n",
      "  \"Converting sparse IndexedSlices to a dense Tensor of unknown shape. \"\n",
      "C:\\Users\\zilkerjn\\AppData\\Local\\Continuum\\anaconda3\\envs\\glotax\\lib\\site-packages\\tensorflow_core\\python\\framework\\indexed_slices.py:424: UserWarning: Converting sparse IndexedSlices to a dense Tensor of unknown shape. This may consume a large amount of memory.\n",
      "  \"Converting sparse IndexedSlices to a dense Tensor of unknown shape. \"\n",
      "C:\\Users\\zilkerjn\\AppData\\Local\\Continuum\\anaconda3\\envs\\glotax\\lib\\site-packages\\tensorflow_core\\python\\framework\\indexed_slices.py:424: UserWarning: Converting sparse IndexedSlices to a dense Tensor of unknown shape. This may consume a large amount of memory.\n",
      "  \"Converting sparse IndexedSlices to a dense Tensor of unknown shape. \"\n",
      "C:\\Users\\zilkerjn\\AppData\\Local\\Continuum\\anaconda3\\envs\\glotax\\lib\\site-packages\\tensorflow_core\\python\\framework\\indexed_slices.py:424: UserWarning: Converting sparse IndexedSlices to a dense Tensor of unknown shape. This may consume a large amount of memory.\n",
      "  \"Converting sparse IndexedSlices to a dense Tensor of unknown shape. \"\n",
      "C:\\Users\\zilkerjn\\AppData\\Local\\Continuum\\anaconda3\\envs\\glotax\\lib\\site-packages\\tensorflow_core\\python\\framework\\indexed_slices.py:424: UserWarning: Converting sparse IndexedSlices to a dense Tensor of unknown shape. This may consume a large amount of memory.\n",
      "  \"Converting sparse IndexedSlices to a dense Tensor of unknown shape. \"\n",
      "C:\\Users\\zilkerjn\\AppData\\Local\\Continuum\\anaconda3\\envs\\glotax\\lib\\site-packages\\tensorflow_core\\python\\framework\\indexed_slices.py:424: UserWarning: Converting sparse IndexedSlices to a dense Tensor of unknown shape. This may consume a large amount of memory.\n",
      "  \"Converting sparse IndexedSlices to a dense Tensor of unknown shape. \"\n",
      "C:\\Users\\zilkerjn\\AppData\\Local\\Continuum\\anaconda3\\envs\\glotax\\lib\\site-packages\\tensorflow_core\\python\\framework\\indexed_slices.py:424: UserWarning: Converting sparse IndexedSlices to a dense Tensor of unknown shape. This may consume a large amount of memory.\n",
      "  \"Converting sparse IndexedSlices to a dense Tensor of unknown shape. \"\n",
      "C:\\Users\\zilkerjn\\AppData\\Local\\Continuum\\anaconda3\\envs\\glotax\\lib\\site-packages\\tensorflow_core\\python\\framework\\indexed_slices.py:424: UserWarning: Converting sparse IndexedSlices to a dense Tensor of unknown shape. This may consume a large amount of memory.\n",
      "  \"Converting sparse IndexedSlices to a dense Tensor of unknown shape. \"\n",
      "C:\\Users\\zilkerjn\\AppData\\Local\\Continuum\\anaconda3\\envs\\glotax\\lib\\site-packages\\tensorflow_core\\python\\framework\\indexed_slices.py:424: UserWarning: Converting sparse IndexedSlices to a dense Tensor of unknown shape. This may consume a large amount of memory.\n",
      "  \"Converting sparse IndexedSlices to a dense Tensor of unknown shape. \"\n",
      "C:\\Users\\zilkerjn\\AppData\\Local\\Continuum\\anaconda3\\envs\\glotax\\lib\\site-packages\\tensorflow_core\\python\\framework\\indexed_slices.py:424: UserWarning: Converting sparse IndexedSlices to a dense Tensor of unknown shape. This may consume a large amount of memory.\n",
      "  \"Converting sparse IndexedSlices to a dense Tensor of unknown shape. \"\n",
      "C:\\Users\\zilkerjn\\AppData\\Local\\Continuum\\anaconda3\\envs\\glotax\\lib\\site-packages\\skimage\\filters\\rank\\generic.py:119: UserWarning: Possible precision loss converting image of type float32 to uint8 as required by rank filters. Convert manually using skimage.util.img_as_ubyte to silence this warning.\n",
      "  out_dtype)\n"
     ]
    },
    {
     "name": "stdout",
     "output_type": "stream",
     "text": [
      "840/840 [==============================] - 163s 194ms/step - loss: 755.9079 - val_loss: 477.8638\n",
      "Epoch 2/100\n",
      "840/840 [==============================] - 150s 179ms/step - loss: 191.5001 - val_loss: 89.3899\n",
      "Epoch 3/100\n",
      "840/840 [==============================] - 132s 158ms/step - loss: 62.2317 - val_loss: 94.0575\n",
      "Epoch 4/100\n",
      "840/840 [==============================] - 152s 180ms/step - loss: 42.2581 - val_loss: 62.2709\n",
      "Epoch 5/100\n",
      "840/840 [==============================] - 157s 187ms/step - loss: 38.0869 - val_loss: 70.9921\n",
      "Epoch 6/100\n",
      "840/840 [==============================] - 147s 174ms/step - loss: 32.0374 - val_loss: 64.8964\n",
      "Epoch 7/100\n",
      "840/840 [==============================] - 140s 166ms/step - loss: 28.9761 - val_loss: 37.6842\n",
      "Epoch 8/100\n",
      "840/840 [==============================] - 131s 156ms/step - loss: 22.2836 - val_loss: 25.6810\n",
      "Epoch 9/100\n",
      "840/840 [==============================] - 140s 167ms/step - loss: 24.0317 - val_loss: 28.4430\n",
      "Epoch 10/100\n",
      "840/840 [==============================] - 140s 166ms/step - loss: 19.9800 - val_loss: 26.5658\n",
      "Epoch 11/100\n",
      "840/840 [==============================] - 150s 179ms/step - loss: 15.2160 - val_loss: 15.0252\n",
      "Epoch 12/100\n",
      "840/840 [==============================] - 141s 167ms/step - loss: 16.3054 - val_loss: 28.4163\n",
      "Epoch 13/100\n",
      "840/840 [==============================] - 134s 160ms/step - loss: 14.4909 - val_loss: 20.5944\n",
      "Epoch 14/100\n",
      "840/840 [==============================] - 136s 162ms/step - loss: 14.5400 - val_loss: 12.6655\n",
      "Epoch 15/100\n",
      "840/840 [==============================] - 129s 154ms/step - loss: 12.2906 - val_loss: 18.7746\n",
      "Epoch 16/100\n",
      "840/840 [==============================] - 127s 151ms/step - loss: 10.5495 - val_loss: 18.8014\n",
      "Epoch 17/100\n",
      "840/840 [==============================] - 152s 180ms/step - loss: 11.6138 - val_loss: 13.8459\n",
      "Epoch 18/100\n",
      "840/840 [==============================] - 125s 149ms/step - loss: 9.2141 - val_loss: 11.7202\n",
      "Epoch 19/100\n",
      "840/840 [==============================] - 126s 151ms/step - loss: 8.4267 - val_loss: 13.3946\n",
      "Epoch 20/100\n",
      "840/840 [==============================] - 128s 153ms/step - loss: 7.7630 - val_loss: 13.5084\n",
      "Epoch 21/100\n",
      "840/840 [==============================] - 145s 173ms/step - loss: 7.7728 - val_loss: 8.9320\n",
      "Epoch 22/100\n",
      "840/840 [==============================] - 137s 163ms/step - loss: 6.8644 - val_loss: 15.3345\n",
      "Epoch 23/100\n",
      "840/840 [==============================] - 127s 151ms/step - loss: 7.3325 - val_loss: 9.9027\n",
      "Epoch 24/100\n",
      "840/840 [==============================] - 128s 152ms/step - loss: 6.1160 - val_loss: 19.8272\n",
      "Epoch 25/100\n",
      "840/840 [==============================] - 127s 151ms/step - loss: 6.3218 - val_loss: 12.1505\n",
      "Epoch 26/100\n",
      "840/840 [==============================] - 135s 161ms/step - loss: 4.9450 - val_loss: 9.0565\n",
      "Epoch 27/100\n",
      "840/840 [==============================] - 134s 160ms/step - loss: 5.9575 - val_loss: 8.2894\n",
      "Epoch 28/100\n",
      "840/840 [==============================] - 137s 163ms/step - loss: 4.5797 - val_loss: 18.3474\n",
      "Epoch 29/100\n",
      "840/840 [==============================] - 140s 166ms/step - loss: 4.3361 - val_loss: 11.4932\n",
      "Epoch 30/100\n",
      "840/840 [==============================] - 127s 151ms/step - loss: 5.6888 - val_loss: 6.2936\n",
      "Epoch 31/100\n",
      "840/840 [==============================] - 148s 176ms/step - loss: 3.5230 - val_loss: 14.4619\n",
      "Epoch 32/100\n",
      "840/840 [==============================] - 138s 165ms/step - loss: 4.2788 - val_loss: 11.7166\n",
      "Epoch 33/100\n",
      "840/840 [==============================] - 141s 168ms/step - loss: 3.5918 - val_loss: 11.5796\n",
      "Epoch 34/100\n",
      "840/840 [==============================] - 142s 169ms/step - loss: 3.4081 - val_loss: 7.4184\n",
      "Epoch 35/100\n",
      "840/840 [==============================] - 139s 166ms/step - loss: 3.5886 - val_loss: 6.3605\n",
      "Epoch 36/100\n",
      "840/840 [==============================] - 126s 150ms/step - loss: 3.4425 - val_loss: 11.1874\n",
      "Epoch 37/100\n",
      "840/840 [==============================] - 130s 155ms/step - loss: 3.4961 - val_loss: 204.3825\n",
      "Epoch 38/100\n",
      "840/840 [==============================] - 130s 155ms/step - loss: 3.0280 - val_loss: 7.0755\n",
      "Epoch 39/100\n",
      "840/840 [==============================] - 136s 162ms/step - loss: 3.2185 - val_loss: 6.4176\n",
      "Epoch 40/100\n",
      "840/840 [==============================] - 143s 170ms/step - loss: 3.3425 - val_loss: 13.9607\n",
      "Epoch 41/100\n",
      "840/840 [==============================] - 134s 159ms/step - loss: 2.7597 - val_loss: 6.4912\n",
      "Epoch 42/100\n",
      "840/840 [==============================] - 131s 156ms/step - loss: 2.1184 - val_loss: 8.2499\n",
      "Epoch 43/100\n",
      "840/840 [==============================] - 125s 149ms/step - loss: 3.3047 - val_loss: 7.1673\n",
      "Epoch 44/100\n",
      "840/840 [==============================] - 127s 151ms/step - loss: 2.0690 - val_loss: 6.4903\n",
      "Epoch 45/100\n",
      "840/840 [==============================] - 135s 161ms/step - loss: 3.6091 - val_loss: 10.4335\n",
      "Epoch 46/100\n",
      "840/840 [==============================] - 126s 150ms/step - loss: 1.8622 - val_loss: 8.0626\n",
      "Epoch 47/100\n",
      "840/840 [==============================] - 138s 164ms/step - loss: 2.4696 - val_loss: 7.1891\n",
      "Epoch 48/100\n",
      "840/840 [==============================] - 127s 151ms/step - loss: 1.9547 - val_loss: 7.1713\n",
      "Epoch 49/100\n",
      "840/840 [==============================] - 136s 161ms/step - loss: 1.9663 - val_loss: 4.6851\n",
      "Epoch 50/100\n",
      "840/840 [==============================] - 126s 150ms/step - loss: 1.7370 - val_loss: 5.3526\n",
      "Epoch 51/100\n",
      "840/840 [==============================] - 127s 151ms/step - loss: 2.3102 - val_loss: 16.8666\n",
      "Epoch 52/100\n",
      "840/840 [==============================] - 137s 163ms/step - loss: 1.6725 - val_loss: 6.5728\n",
      "Epoch 53/100\n",
      "840/840 [==============================] - 139s 166ms/step - loss: 2.0743 - val_loss: 7.3086\n",
      "Epoch 54/100\n",
      "840/840 [==============================] - 139s 165ms/step - loss: 1.7898 - val_loss: 5.4888\n",
      "Epoch 55/100\n",
      "840/840 [==============================] - 137s 163ms/step - loss: 1.8051 - val_loss: 13.8551\n",
      "Epoch 56/100\n",
      "840/840 [==============================] - 137s 163ms/step - loss: 1.7124 - val_loss: 5.8405\n",
      "Epoch 57/100\n",
      "840/840 [==============================] - 126s 150ms/step - loss: 1.9805 - val_loss: 7.7760\n",
      "Epoch 58/100\n",
      "840/840 [==============================] - 136s 162ms/step - loss: 1.5004 - val_loss: 5.4756\n",
      "Epoch 59/100\n",
      "840/840 [==============================] - 137s 163ms/step - loss: 1.5598 - val_loss: 7.2391\n",
      "Epoch 60/100\n",
      "840/840 [==============================] - 129s 154ms/step - loss: 1.8266 - val_loss: 6.7063\n",
      "Epoch 61/100\n",
      "840/840 [==============================] - 139s 166ms/step - loss: 1.5039 - val_loss: 10.5830\n",
      "Epoch 62/100\n",
      "840/840 [==============================] - 128s 152ms/step - loss: 1.3757 - val_loss: 5.8406\n",
      "Epoch 63/100\n",
      "840/840 [==============================] - 142s 169ms/step - loss: 1.5691 - val_loss: 4.9989\n",
      "Epoch 64/100\n",
      "840/840 [==============================] - 129s 154ms/step - loss: 1.6732 - val_loss: 4.0294\n",
      "Epoch 65/100\n",
      "840/840 [==============================] - 129s 154ms/step - loss: 1.1436 - val_loss: 4.2239\n",
      "Epoch 66/100\n",
      "840/840 [==============================] - 138s 165ms/step - loss: 1.3478 - val_loss: 7.0064\n",
      "Epoch 67/100\n",
      "840/840 [==============================] - 139s 166ms/step - loss: 1.3157 - val_loss: 5.7923\n",
      "Epoch 68/100\n",
      "840/840 [==============================] - 133s 159ms/step - loss: 1.4889 - val_loss: 6.9800\n",
      "Epoch 69/100\n",
      "840/840 [==============================] - 126s 150ms/step - loss: 1.5863 - val_loss: 9.9792\n",
      "Epoch 70/100\n",
      "840/840 [==============================] - 127s 151ms/step - loss: 0.9904 - val_loss: 4.7521\n",
      "Epoch 71/100\n",
      "840/840 [==============================] - 135s 161ms/step - loss: 1.2120 - val_loss: 4.3093\n",
      "Epoch 72/100\n",
      "840/840 [==============================] - 141s 168ms/step - loss: 1.3814 - val_loss: 6.4456\n",
      "Epoch 73/100\n",
      "840/840 [==============================] - 134s 159ms/step - loss: 1.1885 - val_loss: 5.8104\n",
      "Epoch 74/100\n",
      "840/840 [==============================] - 133s 158ms/step - loss: 0.8718 - val_loss: 4.8095\n",
      "Epoch 75/100\n",
      "840/840 [==============================] - 128s 152ms/step - loss: 1.1201 - val_loss: 9.3164\n",
      "Epoch 76/100\n",
      "840/840 [==============================] - 139s 166ms/step - loss: 1.1514 - val_loss: 5.3950\n",
      "Epoch 77/100\n"
     ]
    },
    {
     "name": "stdout",
     "output_type": "stream",
     "text": [
      "840/840 [==============================] - 128s 153ms/step - loss: 1.9972 - val_loss: 48.4677\n",
      "Epoch 78/100\n",
      "840/840 [==============================] - 140s 167ms/step - loss: 1.0165 - val_loss: 4.2636\n",
      "Epoch 79/100\n",
      "840/840 [==============================] - 129s 153ms/step - loss: 0.7735 - val_loss: 5.5512\n",
      "Epoch 80/100\n",
      "840/840 [==============================] - 140s 167ms/step - loss: 0.8318 - val_loss: 5.3623\n",
      "Epoch 81/100\n",
      "840/840 [==============================] - 134s 160ms/step - loss: 0.9436 - val_loss: 7.0772\n",
      "Epoch 82/100\n",
      "840/840 [==============================] - 136s 162ms/step - loss: 1.0078 - val_loss: 4.5592\n",
      "Epoch 83/100\n",
      "840/840 [==============================] - 127s 151ms/step - loss: 1.0349 - val_loss: 3.9165\n",
      "Epoch 84/100\n",
      "840/840 [==============================] - 141s 168ms/step - loss: 0.9599 - val_loss: 5.7883\n",
      "Epoch 85/100\n",
      "840/840 [==============================] - 128s 153ms/step - loss: 0.8202 - val_loss: 6.1340\n",
      "Epoch 86/100\n",
      "840/840 [==============================] - 145s 172ms/step - loss: 0.9531 - val_loss: 8.3335\n",
      "Epoch 87/100\n",
      "840/840 [==============================] - 140s 166ms/step - loss: 0.9522 - val_loss: 7.2673\n",
      "Epoch 88/100\n",
      "840/840 [==============================] - 145s 172ms/step - loss: 1.0422 - val_loss: 5.5056\n",
      "Epoch 89/100\n",
      "840/840 [==============================] - 135s 161ms/step - loss: 0.9009 - val_loss: 4.8208\n",
      "Epoch 90/100\n",
      "840/840 [==============================] - 140s 166ms/step - loss: 0.7804 - val_loss: 4.5771\n",
      "Epoch 91/100\n",
      "840/840 [==============================] - 136s 162ms/step - loss: 0.8069 - val_loss: 6.2654\n",
      "Epoch 92/100\n",
      "840/840 [==============================] - 142s 170ms/step - loss: 1.2145 - val_loss: 4.5973\n",
      "Epoch 93/100\n",
      "840/840 [==============================] - 135s 161ms/step - loss: 0.6215 - val_loss: 6.8762\n",
      "Epoch 94/100\n",
      "840/840 [==============================] - 136s 162ms/step - loss: 0.7177 - val_loss: 9.4117\n",
      "Epoch 95/100\n",
      "840/840 [==============================] - 138s 165ms/step - loss: 0.7839 - val_loss: 5.1828\n",
      "Epoch 96/100\n",
      "840/840 [==============================] - 134s 159ms/step - loss: 0.8903 - val_loss: 6.1243\n",
      "Epoch 97/100\n",
      "840/840 [==============================] - 151s 179ms/step - loss: 0.5537 - val_loss: 6.2106\n",
      "Epoch 98/100\n",
      "840/840 [==============================] - 142s 170ms/step - loss: 0.9377 - val_loss: 5.2120\n",
      "Epoch 99/100\n",
      "840/840 [==============================] - 145s 172ms/step - loss: 0.5909 - val_loss: 7.2101\n",
      "Epoch 100/100\n",
      "840/840 [==============================] - 128s 152ms/step - loss: 0.7475 - val_loss: 4.5780\n"
     ]
    },
    {
     "data": {
      "text/plain": [
       "<tensorflow.python.keras.callbacks.History at 0x22246951688>"
      ]
     },
     "execution_count": 8,
     "metadata": {},
     "output_type": "execute_result"
    }
   ],
   "source": [
    "model.fit(train_gen,\n",
    "          epochs=100,\n",
    "          callbacks=callbacks,\n",
    "          validation_data=validation_gen,\n",
    "          validation_freq=1,\n",
    "          use_multiprocessing=True,\n",
    "          workers=10,\n",
    "          max_queue_size=32)"
   ]
  },
  {
   "cell_type": "markdown",
   "metadata": {},
   "source": [
    "# Evaluation\n",
    "Evaluate the trained network"
   ]
  },
  {
   "cell_type": "code",
   "execution_count": 9,
   "metadata": {},
   "outputs": [
    {
     "data": {
      "image/png": "[encoded data removed]",
      "text/plain": [
       "<Figure size 432x288 with 1 Axes>"
      ]
     },
     "metadata": {
      "needs_background": "light"
     },
     "output_type": "display_data"
    }
   ],
   "source": [
    "X, y = validation_gen[1]\n",
    "\n",
    "y_pred = model.predict(X)\n",
    "\n",
    "u_x = y_pred[0,:,:,0]\n",
    "u_y = y_pred[0,:,:,1]\n",
    "\n",
    "plt.imshow(y_pred[0,:,:,0], cmap=\"gray\")\n",
    "\n",
    "plt.imsave(store_path + \"/u_x.png\", u_x, cmap=\"gray\")\n",
    "plt.imsave(store_path + \"/u_y.png\", u_y, cmap=\"gray\")\n",
    "\n",
    "u_x.dump(store_path + \"/u_x\")\n",
    "u_y.dump(store_path + \"/u_y\")\n",
    "\n",
    "warp = np.zeros((width, height))\n",
    "\n",
    "for index in range(0,25):\n",
    "    x_pos = int(y[0, index, 0, 0])\n",
    "    y_pos = int(y[0, index, 1, 0])\n",
    "    \n",
    "    plot_cube(warp, x_pos, y_pos, 1) #blue\n",
    "    \n",
    "    ux_field = y_pred[0,:,:,0]\n",
    "    uy_field = y_pred[0,:,:,1]\n",
    "    \n",
    "    ux = ux_field[y_pos][x_pos]\n",
    "    uy = uy_field[y_pos][x_pos]\n",
    "    \n",
    "    x_pos = int(round(x_pos + ux))\n",
    "    y_pos = int(round(y_pos + uy))\n",
    "            \n",
    "    plot_cube(warp, x_pos, y_pos, 2) #green    \n",
    "    \n",
    "    x_pos = int(y[0, index, 0, 1])\n",
    "    y_pos = int(y[0, index, 1, 1])\n",
    "    \n",
    "    plot_cube(warp, x_pos, y_pos, 3) #yellow    \n",
    "    \n",
    "plt.imshow(warp)\n",
    "plt.imsave(store_path + \"/warp.png\", warp)"
   ]
  },
  {
   "cell_type": "markdown",
   "metadata": {},
   "source": [
    "# 6.11) Supervised Euclidean for SIMPLED with L1 regularization\n",
    "A U-Net is trained here to predict a displacement field and the euclidean distance is taken as error."
   ]
  },
  {
   "cell_type": "markdown",
   "metadata": {
    "pycharm": {
     "name": "#%% md\n"
    }
   },
   "source": [
    "# Data\n",
    "Import training images"
   ]
  },
  {
   "cell_type": "code",
   "execution_count": 10,
   "metadata": {
    "pycharm": {
     "name": "#%%\n"
    }
   },
   "outputs": [],
   "source": [
    "store_path = 'experiments/6_11_euclidean'\n",
    "\n",
    "path_fixed = r'D:\\Julian\\data\\SIMPLED\\train\\0'\n",
    "path_train = r'D:\\Julian\\data\\SIMPLED\\train'\n",
    "path_validation = r'D:\\Julian\\data\\SIMPLED\\validation'\n",
    "path_test = r'D:\\Julian\\data\\SIMPLED\\test'\n",
    "\n",
    "width = 224\n",
    "height = 224"
   ]
  },
  {
   "cell_type": "markdown",
   "metadata": {
    "pycharm": {
     "name": "#%% md\n"
    }
   },
   "source": [
    "# Seeding\n",
    "Seeds are set to ensure reproducible training."
   ]
  },
  {
   "cell_type": "code",
   "execution_count": 11,
   "metadata": {
    "pycharm": {
     "name": "#%%\n"
    }
   },
   "outputs": [],
   "source": [
    "SEED = 42\n",
    "np.random.seed(SEED)\n",
    "tf.random.set_seed(SEED)\n",
    "random.seed(SEED)"
   ]
  },
  {
   "cell_type": "markdown",
   "metadata": {
    "pycharm": {
     "name": "#%% md\n"
    }
   },
   "source": [
    "# Network\n",
    "A U-Net based network is instantiated with keras to run a semantic segmentation."
   ]
  },
  {
   "cell_type": "code",
   "execution_count": 12,
   "metadata": {
    "pycharm": {
     "name": "#%%\n"
    }
   },
   "outputs": [],
   "source": [
    "kernel_regularizer=tf.keras.regularizers.l1(0.01)\n",
    "\n",
    "model = UNet(filters=32,\n",
    "             layers=4,\n",
    "             activation='linear',\n",
    "             classes=2,\n",
    "             input_shape=(224, 224, 1),\n",
    "             kernel_regularizer=kernel_regularizer)"
   ]
  },
  {
   "cell_type": "markdown",
   "metadata": {
    "pycharm": {
     "name": "#%% md\n"
    }
   },
   "source": [
    "# Training Preparation\n",
    "Prepare the settings for training the model."
   ]
  },
  {
   "cell_type": "code",
   "execution_count": 13,
   "metadata": {
    "scrolled": true
   },
   "outputs": [
    {
     "name": "stdout",
     "output_type": "stream",
     "text": [
      "WARNING:tensorflow:`period` argument is deprecated. Please use `save_freq` to specify the frequency in number of samples seen.\n"
     ]
    }
   ],
   "source": [
    "train_gen = SIMPLESequence(path_train, path_fixed,\n",
    "                           batch_size=4,\n",
    "                           preprocess_input=pre_une,\n",
    "                           shuffle=True)\n",
    "\n",
    "validation_gen = SIMPLESequence(path_validation, path_fixed,\n",
    "                                batch_size=4,\n",
    "                                preprocess_input=pre_une)\n",
    "\n",
    "logger = CSVLogger(store_path + \"/log\")\n",
    "checker = ModelCheckpoint(store_path + \"/weights.{epoch:02d}.hdf5\",\n",
    "                          period=10)\n",
    "callbacks = [logger, checker]\n",
    "\n",
    "model.compile(optimizer='adam', loss = utils.msed_loss)"
   ]
  },
  {
   "cell_type": "markdown",
   "metadata": {},
   "source": [
    "# Training\n",
    "Run the training."
   ]
  },
  {
   "cell_type": "code",
   "execution_count": 14,
   "metadata": {
    "pycharm": {
     "name": "#%%\n"
    },
    "scrolled": true
   },
   "outputs": [
    {
     "name": "stdout",
     "output_type": "stream",
     "text": [
      "Train for 840 steps, validate for 180 steps\n",
      "Epoch 1/100\n"
     ]
    },
    {
     "name": "stderr",
     "output_type": "stream",
     "text": [
      "C:\\Users\\zilkerjn\\AppData\\Local\\Continuum\\anaconda3\\envs\\glotax\\lib\\site-packages\\tensorflow_core\\python\\framework\\indexed_slices.py:424: UserWarning: Converting sparse IndexedSlices to a dense Tensor of unknown shape. This may consume a large amount of memory.\n",
      "  \"Converting sparse IndexedSlices to a dense Tensor of unknown shape. \"\n",
      "C:\\Users\\zilkerjn\\AppData\\Local\\Continuum\\anaconda3\\envs\\glotax\\lib\\site-packages\\tensorflow_core\\python\\framework\\indexed_slices.py:424: UserWarning: Converting sparse IndexedSlices to a dense Tensor of unknown shape. This may consume a large amount of memory.\n",
      "  \"Converting sparse IndexedSlices to a dense Tensor of unknown shape. \"\n",
      "C:\\Users\\zilkerjn\\AppData\\Local\\Continuum\\anaconda3\\envs\\glotax\\lib\\site-packages\\tensorflow_core\\python\\framework\\indexed_slices.py:424: UserWarning: Converting sparse IndexedSlices to a dense Tensor of unknown shape. This may consume a large amount of memory.\n",
      "  \"Converting sparse IndexedSlices to a dense Tensor of unknown shape. \"\n",
      "C:\\Users\\zilkerjn\\AppData\\Local\\Continuum\\anaconda3\\envs\\glotax\\lib\\site-packages\\tensorflow_core\\python\\framework\\indexed_slices.py:424: UserWarning: Converting sparse IndexedSlices to a dense Tensor of unknown shape. This may consume a large amount of memory.\n",
      "  \"Converting sparse IndexedSlices to a dense Tensor of unknown shape. \"\n",
      "C:\\Users\\zilkerjn\\AppData\\Local\\Continuum\\anaconda3\\envs\\glotax\\lib\\site-packages\\tensorflow_core\\python\\framework\\indexed_slices.py:424: UserWarning: Converting sparse IndexedSlices to a dense Tensor of unknown shape. This may consume a large amount of memory.\n",
      "  \"Converting sparse IndexedSlices to a dense Tensor of unknown shape. \"\n",
      "C:\\Users\\zilkerjn\\AppData\\Local\\Continuum\\anaconda3\\envs\\glotax\\lib\\site-packages\\tensorflow_core\\python\\framework\\indexed_slices.py:424: UserWarning: Converting sparse IndexedSlices to a dense Tensor of unknown shape. This may consume a large amount of memory.\n",
      "  \"Converting sparse IndexedSlices to a dense Tensor of unknown shape. \"\n",
      "C:\\Users\\zilkerjn\\AppData\\Local\\Continuum\\anaconda3\\envs\\glotax\\lib\\site-packages\\tensorflow_core\\python\\framework\\indexed_slices.py:424: UserWarning: Converting sparse IndexedSlices to a dense Tensor of unknown shape. This may consume a large amount of memory.\n",
      "  \"Converting sparse IndexedSlices to a dense Tensor of unknown shape. \"\n",
      "C:\\Users\\zilkerjn\\AppData\\Local\\Continuum\\anaconda3\\envs\\glotax\\lib\\site-packages\\tensorflow_core\\python\\framework\\indexed_slices.py:424: UserWarning: Converting sparse IndexedSlices to a dense Tensor of unknown shape. This may consume a large amount of memory.\n",
      "  \"Converting sparse IndexedSlices to a dense Tensor of unknown shape. \"\n",
      "C:\\Users\\zilkerjn\\AppData\\Local\\Continuum\\anaconda3\\envs\\glotax\\lib\\site-packages\\tensorflow_core\\python\\framework\\indexed_slices.py:424: UserWarning: Converting sparse IndexedSlices to a dense Tensor of unknown shape. This may consume a large amount of memory.\n",
      "  \"Converting sparse IndexedSlices to a dense Tensor of unknown shape. \"\n",
      "C:\\Users\\zilkerjn\\AppData\\Local\\Continuum\\anaconda3\\envs\\glotax\\lib\\site-packages\\tensorflow_core\\python\\framework\\indexed_slices.py:424: UserWarning: Converting sparse IndexedSlices to a dense Tensor of unknown shape. This may consume a large amount of memory.\n",
      "  \"Converting sparse IndexedSlices to a dense Tensor of unknown shape. \"\n",
      "C:\\Users\\zilkerjn\\AppData\\Local\\Continuum\\anaconda3\\envs\\glotax\\lib\\site-packages\\tensorflow_core\\python\\framework\\indexed_slices.py:424: UserWarning: Converting sparse IndexedSlices to a dense Tensor of unknown shape. This may consume a large amount of memory.\n",
      "  \"Converting sparse IndexedSlices to a dense Tensor of unknown shape. \"\n",
      "C:\\Users\\zilkerjn\\AppData\\Local\\Continuum\\anaconda3\\envs\\glotax\\lib\\site-packages\\tensorflow_core\\python\\framework\\indexed_slices.py:424: UserWarning: Converting sparse IndexedSlices to a dense Tensor of unknown shape. This may consume a large amount of memory.\n",
      "  \"Converting sparse IndexedSlices to a dense Tensor of unknown shape. \"\n"
     ]
    },
    {
     "name": "stdout",
     "output_type": "stream",
     "text": [
      "840/840 [==============================] - 74s 88ms/step - loss: 1459.2959 - val_loss: 1198.8641\n",
      "Epoch 2/100\n",
      "840/840 [==============================] - 65s 77ms/step - loss: 912.2209 - val_loss: 1253.3102\n",
      "Epoch 3/100\n",
      "840/840 [==============================] - 65s 77ms/step - loss: 837.3503 - val_loss: 855.2464\n",
      "Epoch 4/100\n",
      "840/840 [==============================] - 65s 78ms/step - loss: 673.2001 - val_loss: 818.4893\n",
      "Epoch 5/100\n",
      "840/840 [==============================] - 64s 77ms/step - loss: 307.1844 - val_loss: 588.2663\n",
      "Epoch 6/100\n",
      "840/840 [==============================] - 65s 78ms/step - loss: 242.7819 - val_loss: 614.4343\n",
      "Epoch 7/100\n",
      "840/840 [==============================] - 66s 78ms/step - loss: 200.8430 - val_loss: 260.6504\n",
      "Epoch 8/100\n",
      "840/840 [==============================] - 68s 80ms/step - loss: 160.5816 - val_loss: 163.9658\n",
      "Epoch 9/100\n",
      "840/840 [==============================] - 68s 81ms/step - loss: 160.3267 - val_loss: 575.6897\n",
      "Epoch 10/100\n",
      "840/840 [==============================] - 67s 79ms/step - loss: 138.6758 - val_loss: 946.4526\n",
      "Epoch 11/100\n",
      "840/840 [==============================] - 66s 78ms/step - loss: 129.5667 - val_loss: 853.7915\n",
      "Epoch 12/100\n",
      "840/840 [==============================] - 65s 78ms/step - loss: 124.2662 - val_loss: 1290.1762\n",
      "Epoch 13/100\n",
      "840/840 [==============================] - 64s 77ms/step - loss: 126.0485 - val_loss: 128.0860\n",
      "Epoch 14/100\n",
      "840/840 [==============================] - 68s 81ms/step - loss: 110.6288 - val_loss: 108.7451\n",
      "Epoch 15/100\n",
      "840/840 [==============================] - 65s 78ms/step - loss: 104.0548 - val_loss: 122.0145\n",
      "Epoch 16/100\n",
      "840/840 [==============================] - 65s 77ms/step - loss: 101.7584 - val_loss: 106.0084\n",
      "Epoch 17/100\n",
      "840/840 [==============================] - 66s 78ms/step - loss: 103.7177 - val_loss: 104.1568\n",
      "Epoch 18/100\n",
      "840/840 [==============================] - 66s 78ms/step - loss: 93.9052 - val_loss: 101.4033\n",
      "Epoch 19/100\n",
      "840/840 [==============================] - 68s 81ms/step - loss: 90.9671 - val_loss: 141.4946\n",
      "Epoch 20/100\n",
      "840/840 [==============================] - 65s 78ms/step - loss: 89.6719 - val_loss: 97.6015\n",
      "Epoch 21/100\n",
      "840/840 [==============================] - 66s 79ms/step - loss: 86.1490 - val_loss: 499.7096\n",
      "Epoch 22/100\n",
      "840/840 [==============================] - 64s 76ms/step - loss: 85.7348 - val_loss: 97.8400\n",
      "Epoch 23/100\n",
      "840/840 [==============================] - 66s 79ms/step - loss: 82.8587 - val_loss: 102.8018\n",
      "Epoch 24/100\n",
      "840/840 [==============================] - 66s 79ms/step - loss: 79.8124 - val_loss: 89.2472\n",
      "Epoch 25/100\n",
      "840/840 [==============================] - 63s 75ms/step - loss: 78.6075 - val_loss: 92.5551\n",
      "Epoch 26/100\n",
      "840/840 [==============================] - 66s 79ms/step - loss: 79.1300 - val_loss: 306.5794\n",
      "Epoch 27/100\n",
      "840/840 [==============================] - 64s 76ms/step - loss: 76.6068 - val_loss: 111.1828\n",
      "Epoch 28/100\n",
      "840/840 [==============================] - 62s 74ms/step - loss: 75.3902 - val_loss: 87.7052\n",
      "Epoch 29/100\n",
      "840/840 [==============================] - 69s 82ms/step - loss: 73.0874 - val_loss: 229.3829\n",
      "Epoch 30/100\n",
      "840/840 [==============================] - 66s 79ms/step - loss: 72.5852 - val_loss: 81.9146\n",
      "Epoch 31/100\n",
      "840/840 [==============================] - 66s 79ms/step - loss: 71.9597 - val_loss: 84.4408\n",
      "Epoch 32/100\n",
      "840/840 [==============================] - 66s 78ms/step - loss: 70.8420 - val_loss: 104.9127\n",
      "Epoch 33/100\n",
      "840/840 [==============================] - 66s 79ms/step - loss: 69.9083 - val_loss: 81.1725\n",
      "Epoch 34/100\n",
      "840/840 [==============================] - 67s 80ms/step - loss: 68.6851 - val_loss: 411.9900\n",
      "Epoch 35/100\n",
      "840/840 [==============================] - 68s 81ms/step - loss: 71.3128 - val_loss: 83.2253\n",
      "Epoch 36/100\n",
      "840/840 [==============================] - 68s 82ms/step - loss: 67.1658 - val_loss: 82.8452\n",
      "Epoch 37/100\n",
      "840/840 [==============================] - 67s 80ms/step - loss: 66.3880 - val_loss: 77.3221\n",
      "Epoch 38/100\n",
      "840/840 [==============================] - 68s 81ms/step - loss: 66.9790 - val_loss: 588.5844\n",
      "Epoch 39/100\n",
      "840/840 [==============================] - 67s 80ms/step - loss: 66.3431 - val_loss: 225.9041\n",
      "Epoch 40/100\n",
      "840/840 [==============================] - 67s 80ms/step - loss: 65.3974 - val_loss: 77.4023\n",
      "Epoch 41/100\n",
      "840/840 [==============================] - 67s 80ms/step - loss: 66.1508 - val_loss: 79.4038\n",
      "Epoch 42/100\n",
      "840/840 [==============================] - 68s 81ms/step - loss: 63.4201 - val_loss: 80.1918\n",
      "Epoch 43/100\n",
      "840/840 [==============================] - 66s 79ms/step - loss: 64.3722 - val_loss: 105.1497\n",
      "Epoch 44/100\n",
      "840/840 [==============================] - 67s 80ms/step - loss: 63.3572 - val_loss: 206.5269\n",
      "Epoch 45/100\n",
      "840/840 [==============================] - 67s 79ms/step - loss: 62.7828 - val_loss: 73.5055\n",
      "Epoch 46/100\n",
      "840/840 [==============================] - 65s 78ms/step - loss: 62.8888 - val_loss: 79.4764\n",
      "Epoch 47/100\n",
      "840/840 [==============================] - 68s 81ms/step - loss: 61.6075 - val_loss: 95.3806\n",
      "Epoch 48/100\n",
      "840/840 [==============================] - 68s 81ms/step - loss: 62.4665 - val_loss: 80.0446\n",
      "Epoch 49/100\n",
      "840/840 [==============================] - 66s 79ms/step - loss: 61.3791 - val_loss: 86.3837\n",
      "Epoch 50/100\n",
      "840/840 [==============================] - 69s 82ms/step - loss: 60.5089 - val_loss: 508.6042\n",
      "Epoch 51/100\n",
      "840/840 [==============================] - 66s 78ms/step - loss: 61.1157 - val_loss: 328.3134\n",
      "Epoch 52/100\n",
      "840/840 [==============================] - 65s 78ms/step - loss: 62.8270 - val_loss: 85.7253\n",
      "Epoch 53/100\n",
      "840/840 [==============================] - 66s 79ms/step - loss: 60.6167 - val_loss: 122.1736\n",
      "Epoch 54/100\n",
      "840/840 [==============================] - 67s 80ms/step - loss: 59.6165 - val_loss: 489.1594\n",
      "Epoch 55/100\n",
      "840/840 [==============================] - 66s 79ms/step - loss: 58.7163 - val_loss: 305.6628\n",
      "Epoch 56/100\n",
      "840/840 [==============================] - 68s 81ms/step - loss: 58.3358 - val_loss: 413.3106\n",
      "Epoch 57/100\n",
      "840/840 [==============================] - 66s 78ms/step - loss: 59.3646 - val_loss: 77.5586\n",
      "Epoch 58/100\n",
      "840/840 [==============================] - 64s 76ms/step - loss: 58.4668 - val_loss: 72.7652\n",
      "Epoch 59/100\n",
      "840/840 [==============================] - 64s 76ms/step - loss: 59.2917 - val_loss: 72.8344\n",
      "Epoch 60/100\n",
      "840/840 [==============================] - 64s 76ms/step - loss: 58.8654 - val_loss: 73.5782\n",
      "Epoch 61/100\n",
      "840/840 [==============================] - 66s 78ms/step - loss: 58.3801 - val_loss: 114.0461\n",
      "Epoch 62/100\n",
      "840/840 [==============================] - 67s 79ms/step - loss: 57.4638 - val_loss: 75.5494\n",
      "Epoch 63/100\n",
      "840/840 [==============================] - 65s 77ms/step - loss: 57.2410 - val_loss: 72.7478\n",
      "Epoch 64/100\n",
      "840/840 [==============================] - 64s 76ms/step - loss: 56.7078 - val_loss: 352.4250\n",
      "Epoch 65/100\n",
      "840/840 [==============================] - 64s 76ms/step - loss: 56.5356 - val_loss: 81.7624\n",
      "Epoch 66/100\n",
      "840/840 [==============================] - 65s 78ms/step - loss: 56.0912 - val_loss: 73.3715\n",
      "Epoch 67/100\n",
      "840/840 [==============================] - 67s 80ms/step - loss: 56.4261 - val_loss: 159.7390\n",
      "Epoch 68/100\n",
      "840/840 [==============================] - 65s 78ms/step - loss: 56.7795 - val_loss: 79.4957\n",
      "Epoch 69/100\n",
      "840/840 [==============================] - 67s 80ms/step - loss: 56.8190 - val_loss: 74.6631\n",
      "Epoch 70/100\n",
      "840/840 [==============================] - 64s 76ms/step - loss: 56.3311 - val_loss: 160.2479\n",
      "Epoch 71/100\n",
      "840/840 [==============================] - 65s 78ms/step - loss: 55.5999 - val_loss: 75.7238\n",
      "Epoch 72/100\n",
      "840/840 [==============================] - 66s 78ms/step - loss: 56.3907 - val_loss: 72.5679\n",
      "Epoch 73/100\n",
      "840/840 [==============================] - 67s 79ms/step - loss: 55.0760 - val_loss: 96.6807\n",
      "Epoch 74/100\n",
      "840/840 [==============================] - 66s 79ms/step - loss: 56.5304 - val_loss: 705.7407\n",
      "Epoch 75/100\n",
      "840/840 [==============================] - 61s 72ms/step - loss: 53.7211 - val_loss: 74.2574\n",
      "Epoch 76/100\n",
      "840/840 [==============================] - 62s 73ms/step - loss: 56.8934 - val_loss: 783.6347\n",
      "Epoch 77/100\n"
     ]
    },
    {
     "name": "stdout",
     "output_type": "stream",
     "text": [
      "840/840 [==============================] - 61s 73ms/step - loss: 54.0435 - val_loss: 71.3104\n",
      "Epoch 78/100\n",
      "840/840 [==============================] - 63s 75ms/step - loss: 54.4008 - val_loss: 292.4286\n",
      "Epoch 79/100\n",
      "840/840 [==============================] - 70s 84ms/step - loss: 54.3077 - val_loss: 75.3710\n",
      "Epoch 80/100\n",
      "840/840 [==============================] - 68s 81ms/step - loss: 54.3749 - val_loss: 124.5252\n",
      "Epoch 81/100\n",
      "840/840 [==============================] - 69s 82ms/step - loss: 53.6937 - val_loss: 72.0714\n",
      "Epoch 82/100\n",
      "840/840 [==============================] - 68s 81ms/step - loss: 53.7113 - val_loss: 89.7157\n",
      "Epoch 83/100\n",
      "840/840 [==============================] - 68s 81ms/step - loss: 55.3547 - val_loss: 69.5665\n",
      "Epoch 84/100\n",
      "840/840 [==============================] - 64s 76ms/step - loss: 53.2227 - val_loss: 72.5728\n",
      "Epoch 85/100\n",
      "840/840 [==============================] - 67s 80ms/step - loss: 53.4152 - val_loss: 347.5642\n",
      "Epoch 86/100\n",
      "840/840 [==============================] - 68s 81ms/step - loss: 53.2853 - val_loss: 81.1810\n",
      "Epoch 87/100\n",
      "840/840 [==============================] - 64s 77ms/step - loss: 52.5780 - val_loss: 814.4984\n",
      "Epoch 88/100\n",
      "840/840 [==============================] - 68s 81ms/step - loss: 54.5007 - val_loss: 73.2067\n",
      "Epoch 89/100\n",
      "840/840 [==============================] - 67s 80ms/step - loss: 53.6023 - val_loss: 562.5496\n",
      "Epoch 90/100\n",
      "840/840 [==============================] - 64s 77ms/step - loss: 52.8676 - val_loss: 75.2985\n",
      "Epoch 91/100\n",
      "840/840 [==============================] - 66s 79ms/step - loss: 54.2400 - val_loss: 72.4396\n",
      "Epoch 92/100\n",
      "840/840 [==============================] - 69s 82ms/step - loss: 53.4432 - val_loss: 76.9594\n",
      "Epoch 93/100\n",
      "840/840 [==============================] - 68s 81ms/step - loss: 53.6794 - val_loss: 234.9357\n",
      "Epoch 94/100\n",
      "840/840 [==============================] - 64s 76ms/step - loss: 52.5201 - val_loss: 73.0121\n",
      "Epoch 95/100\n",
      "840/840 [==============================] - 66s 79ms/step - loss: 52.1813 - val_loss: 578.0989\n",
      "Epoch 96/100\n",
      "840/840 [==============================] - 66s 78ms/step - loss: 53.1709 - val_loss: 73.5156\n",
      "Epoch 97/100\n",
      "840/840 [==============================] - 67s 80ms/step - loss: 52.0901 - val_loss: 492.6950\n",
      "Epoch 98/100\n",
      "840/840 [==============================] - 66s 78ms/step - loss: 53.9765 - val_loss: 72.2076\n",
      "Epoch 99/100\n",
      "840/840 [==============================] - 66s 79ms/step - loss: 52.0056 - val_loss: 147.8358\n",
      "Epoch 100/100\n",
      "840/840 [==============================] - 68s 82ms/step - loss: 52.6356 - val_loss: 76.3972\n"
     ]
    },
    {
     "data": {
      "text/plain": [
       "<tensorflow.python.keras.callbacks.History at 0x2225508ac88>"
      ]
     },
     "execution_count": 14,
     "metadata": {},
     "output_type": "execute_result"
    }
   ],
   "source": [
    "model.fit(train_gen,\n",
    "          epochs=100,\n",
    "          callbacks=callbacks,\n",
    "          validation_data=validation_gen,\n",
    "          validation_freq=1,\n",
    "          use_multiprocessing=True,\n",
    "          workers=10,\n",
    "          max_queue_size=32)"
   ]
  },
  {
   "cell_type": "markdown",
   "metadata": {},
   "source": [
    "# Evaluation\n",
    "Evaluate the trained network"
   ]
  },
  {
   "cell_type": "code",
   "execution_count": 15,
   "metadata": {
    "scrolled": true
   },
   "outputs": [
    {
     "data": {
      "image/png": "[encoded data removed]",
      "text/plain": [
       "<Figure size 432x288 with 1 Axes>"
      ]
     },
     "metadata": {
      "needs_background": "light"
     },
     "output_type": "display_data"
    }
   ],
   "source": [
    "X, y = validation_gen[1]\n",
    "\n",
    "y_pred = model.predict(X)\n",
    "\n",
    "u_x = y_pred[0,:,:,0]\n",
    "u_y = y_pred[0,:,:,1]\n",
    "\n",
    "plt.imshow(y_pred[0,:,:,0], cmap=\"gray\")\n",
    "\n",
    "plt.imsave(store_path + \"/u_x.png\", u_x, cmap=\"gray\")\n",
    "plt.imsave(store_path + \"/u_y.png\", u_y, cmap=\"gray\")\n",
    "\n",
    "u_x.dump(store_path + \"/u_x\")\n",
    "u_y.dump(store_path + \"/u_y\")\n",
    "\n",
    "warp = np.zeros((width, height))\n",
    "\n",
    "for index in range(0,25):\n",
    "    x_pos = int(y[0, index, 0, 0])\n",
    "    y_pos = int(y[0, index, 1, 0])\n",
    "    \n",
    "    plot_cube(warp, x_pos, y_pos, 1) #blue\n",
    "    \n",
    "    ux_field = y_pred[0,:,:,0]\n",
    "    uy_field = y_pred[0,:,:,1]\n",
    "    \n",
    "    ux = ux_field[y_pos][x_pos]\n",
    "    uy = uy_field[y_pos][x_pos]\n",
    "    \n",
    "    x_pos = int(round(x_pos + ux))\n",
    "    y_pos = int(round(y_pos + uy))\n",
    "            \n",
    "    plot_cube(warp, x_pos, y_pos, 2) #green    \n",
    "    \n",
    "    x_pos = int(y[0, index, 0, 1])\n",
    "    y_pos = int(y[0, index, 1, 1])\n",
    "    \n",
    "    plot_cube(warp, x_pos, y_pos, 3) #yellow    \n",
    "    \n",
    "plt.imshow(warp)\n",
    "plt.imsave(store_path + \"/warp.png\", warp)"
   ]
  },
  {
   "cell_type": "markdown",
   "metadata": {},
   "source": [
    "# 6.12) Supervised Euclidean for SIMPLED with L2 regularization\n",
    "A U-Net is trained here to predict a displacement field and the euclidean distance is taken as error."
   ]
  },
  {
   "cell_type": "markdown",
   "metadata": {
    "pycharm": {
     "name": "#%% md\n"
    }
   },
   "source": [
    "# Data\n",
    "Import training images"
   ]
  },
  {
   "cell_type": "code",
   "execution_count": 16,
   "metadata": {
    "pycharm": {
     "name": "#%%\n"
    }
   },
   "outputs": [],
   "source": [
    "store_path = 'experiments/6_12_euclidean'\n",
    "\n",
    "path_fixed = r'D:\\Julian\\data\\SIMPLED\\train\\0'\n",
    "path_train = r'D:\\Julian\\data\\SIMPLED\\train'\n",
    "path_validation = r'D:\\Julian\\data\\SIMPLED\\validation'\n",
    "path_test = r'D:\\Julian\\data\\SIMPLED\\test'\n",
    "\n",
    "width = 224\n",
    "height = 224"
   ]
  },
  {
   "cell_type": "markdown",
   "metadata": {
    "pycharm": {
     "name": "#%% md\n"
    }
   },
   "source": [
    "# Seeding\n",
    "Seeds are set to ensure reproducible training."
   ]
  },
  {
   "cell_type": "code",
   "execution_count": 17,
   "metadata": {
    "pycharm": {
     "name": "#%%\n"
    }
   },
   "outputs": [],
   "source": [
    "SEED = 42\n",
    "np.random.seed(SEED)\n",
    "tf.random.set_seed(SEED)\n",
    "random.seed(SEED)"
   ]
  },
  {
   "cell_type": "markdown",
   "metadata": {
    "pycharm": {
     "name": "#%% md\n"
    }
   },
   "source": [
    "# Network\n",
    "A U-Net based network is instantiated with keras to run a semantic segmentation."
   ]
  },
  {
   "cell_type": "code",
   "execution_count": 18,
   "metadata": {
    "pycharm": {
     "name": "#%%\n"
    }
   },
   "outputs": [],
   "source": [
    "kernel_regularizer=tf.keras.regularizers.l2(0.01)\n",
    "\n",
    "model = UNet(filters=32,\n",
    "             layers=4,\n",
    "             activation='linear',\n",
    "             classes=2,\n",
    "             input_shape=(224, 224, 1),\n",
    "             kernel_regularizer=kernel_regularizer)"
   ]
  },
  {
   "cell_type": "markdown",
   "metadata": {
    "pycharm": {
     "name": "#%% md\n"
    }
   },
   "source": [
    "# Training Preparation\n",
    "Prepare the settings for training the model."
   ]
  },
  {
   "cell_type": "code",
   "execution_count": 19,
   "metadata": {
    "scrolled": true
   },
   "outputs": [
    {
     "name": "stdout",
     "output_type": "stream",
     "text": [
      "WARNING:tensorflow:`period` argument is deprecated. Please use `save_freq` to specify the frequency in number of samples seen.\n"
     ]
    }
   ],
   "source": [
    "train_gen = SIMPLESequence(path_train, path_fixed,\n",
    "                           batch_size=4,\n",
    "                           preprocess_input=pre_une,\n",
    "                           shuffle=True)\n",
    "\n",
    "validation_gen = SIMPLESequence(path_validation, path_fixed,\n",
    "                                batch_size=4,\n",
    "                                preprocess_input=pre_une)\n",
    "\n",
    "logger = CSVLogger(store_path + \"/log\")\n",
    "checker = ModelCheckpoint(store_path + \"/weights.{epoch:02d}.hdf5\",\n",
    "                          period=10)\n",
    "callbacks = [logger, checker]\n",
    "\n",
    "model.compile(optimizer='adam', loss = utils.msed_loss)"
   ]
  },
  {
   "cell_type": "markdown",
   "metadata": {},
   "source": [
    "# Training\n",
    "Run the training."
   ]
  },
  {
   "cell_type": "code",
   "execution_count": 20,
   "metadata": {
    "pycharm": {
     "name": "#%%\n"
    },
    "scrolled": true
   },
   "outputs": [
    {
     "name": "stdout",
     "output_type": "stream",
     "text": [
      "Train for 840 steps, validate for 180 steps\n",
      "Epoch 1/100\n"
     ]
    },
    {
     "name": "stderr",
     "output_type": "stream",
     "text": [
      "C:\\Users\\zilkerjn\\AppData\\Local\\Continuum\\anaconda3\\envs\\glotax\\lib\\site-packages\\tensorflow_core\\python\\framework\\indexed_slices.py:424: UserWarning: Converting sparse IndexedSlices to a dense Tensor of unknown shape. This may consume a large amount of memory.\n",
      "  \"Converting sparse IndexedSlices to a dense Tensor of unknown shape. \"\n",
      "C:\\Users\\zilkerjn\\AppData\\Local\\Continuum\\anaconda3\\envs\\glotax\\lib\\site-packages\\tensorflow_core\\python\\framework\\indexed_slices.py:424: UserWarning: Converting sparse IndexedSlices to a dense Tensor of unknown shape. This may consume a large amount of memory.\n",
      "  \"Converting sparse IndexedSlices to a dense Tensor of unknown shape. \"\n",
      "C:\\Users\\zilkerjn\\AppData\\Local\\Continuum\\anaconda3\\envs\\glotax\\lib\\site-packages\\tensorflow_core\\python\\framework\\indexed_slices.py:424: UserWarning: Converting sparse IndexedSlices to a dense Tensor of unknown shape. This may consume a large amount of memory.\n",
      "  \"Converting sparse IndexedSlices to a dense Tensor of unknown shape. \"\n",
      "C:\\Users\\zilkerjn\\AppData\\Local\\Continuum\\anaconda3\\envs\\glotax\\lib\\site-packages\\tensorflow_core\\python\\framework\\indexed_slices.py:424: UserWarning: Converting sparse IndexedSlices to a dense Tensor of unknown shape. This may consume a large amount of memory.\n",
      "  \"Converting sparse IndexedSlices to a dense Tensor of unknown shape. \"\n",
      "C:\\Users\\zilkerjn\\AppData\\Local\\Continuum\\anaconda3\\envs\\glotax\\lib\\site-packages\\tensorflow_core\\python\\framework\\indexed_slices.py:424: UserWarning: Converting sparse IndexedSlices to a dense Tensor of unknown shape. This may consume a large amount of memory.\n",
      "  \"Converting sparse IndexedSlices to a dense Tensor of unknown shape. \"\n",
      "C:\\Users\\zilkerjn\\AppData\\Local\\Continuum\\anaconda3\\envs\\glotax\\lib\\site-packages\\tensorflow_core\\python\\framework\\indexed_slices.py:424: UserWarning: Converting sparse IndexedSlices to a dense Tensor of unknown shape. This may consume a large amount of memory.\n",
      "  \"Converting sparse IndexedSlices to a dense Tensor of unknown shape. \"\n",
      "C:\\Users\\zilkerjn\\AppData\\Local\\Continuum\\anaconda3\\envs\\glotax\\lib\\site-packages\\tensorflow_core\\python\\framework\\indexed_slices.py:424: UserWarning: Converting sparse IndexedSlices to a dense Tensor of unknown shape. This may consume a large amount of memory.\n",
      "  \"Converting sparse IndexedSlices to a dense Tensor of unknown shape. \"\n",
      "C:\\Users\\zilkerjn\\AppData\\Local\\Continuum\\anaconda3\\envs\\glotax\\lib\\site-packages\\tensorflow_core\\python\\framework\\indexed_slices.py:424: UserWarning: Converting sparse IndexedSlices to a dense Tensor of unknown shape. This may consume a large amount of memory.\n",
      "  \"Converting sparse IndexedSlices to a dense Tensor of unknown shape. \"\n",
      "C:\\Users\\zilkerjn\\AppData\\Local\\Continuum\\anaconda3\\envs\\glotax\\lib\\site-packages\\tensorflow_core\\python\\framework\\indexed_slices.py:424: UserWarning: Converting sparse IndexedSlices to a dense Tensor of unknown shape. This may consume a large amount of memory.\n",
      "  \"Converting sparse IndexedSlices to a dense Tensor of unknown shape. \"\n",
      "C:\\Users\\zilkerjn\\AppData\\Local\\Continuum\\anaconda3\\envs\\glotax\\lib\\site-packages\\tensorflow_core\\python\\framework\\indexed_slices.py:424: UserWarning: Converting sparse IndexedSlices to a dense Tensor of unknown shape. This may consume a large amount of memory.\n",
      "  \"Converting sparse IndexedSlices to a dense Tensor of unknown shape. \"\n",
      "C:\\Users\\zilkerjn\\AppData\\Local\\Continuum\\anaconda3\\envs\\glotax\\lib\\site-packages\\tensorflow_core\\python\\framework\\indexed_slices.py:424: UserWarning: Converting sparse IndexedSlices to a dense Tensor of unknown shape. This may consume a large amount of memory.\n",
      "  \"Converting sparse IndexedSlices to a dense Tensor of unknown shape. \"\n",
      "C:\\Users\\zilkerjn\\AppData\\Local\\Continuum\\anaconda3\\envs\\glotax\\lib\\site-packages\\tensorflow_core\\python\\framework\\indexed_slices.py:424: UserWarning: Converting sparse IndexedSlices to a dense Tensor of unknown shape. This may consume a large amount of memory.\n",
      "  \"Converting sparse IndexedSlices to a dense Tensor of unknown shape. \"\n"
     ]
    },
    {
     "name": "stdout",
     "output_type": "stream",
     "text": [
      "840/840 [==============================] - 75s 89ms/step - loss: 883.9207 - val_loss: 667.9858\n",
      "Epoch 2/100\n",
      "840/840 [==============================] - 66s 78ms/step - loss: 662.1973 - val_loss: 645.9089\n",
      "Epoch 3/100\n",
      "840/840 [==============================] - 64s 77ms/step - loss: 639.1671 - val_loss: 640.7653\n",
      "Epoch 4/100\n",
      "840/840 [==============================] - 68s 81ms/step - loss: 285.1208 - val_loss: 154.2659\n",
      "Epoch 5/100\n",
      "840/840 [==============================] - 66s 78ms/step - loss: 133.4066 - val_loss: 1384.4052\n",
      "Epoch 6/100\n",
      "840/840 [==============================] - 67s 80ms/step - loss: 116.9462 - val_loss: 108.2280\n",
      "Epoch 7/100\n",
      "840/840 [==============================] - 67s 79ms/step - loss: 116.8532 - val_loss: 101.6094\n",
      "Epoch 8/100\n",
      "840/840 [==============================] - 66s 79ms/step - loss: 93.1858 - val_loss: 98.2143\n",
      "Epoch 9/100\n",
      "840/840 [==============================] - 67s 80ms/step - loss: 106.8768 - val_loss: 94.1457\n",
      "Epoch 10/100\n",
      "840/840 [==============================] - 66s 79ms/step - loss: 83.1229 - val_loss: 100.9462\n",
      "Epoch 11/100\n",
      "840/840 [==============================] - 66s 78ms/step - loss: 78.8244 - val_loss: 103.8087\n",
      "Epoch 12/100\n",
      "840/840 [==============================] - 66s 79ms/step - loss: 78.6089 - val_loss: 139.5507\n",
      "Epoch 13/100\n",
      "840/840 [==============================] - 65s 78ms/step - loss: 77.2140 - val_loss: 1388.0631\n",
      "Epoch 14/100\n",
      "840/840 [==============================] - 64s 77ms/step - loss: 85.6248 - val_loss: 75.0354\n",
      "Epoch 15/100\n",
      "840/840 [==============================] - 67s 80ms/step - loss: 65.2041 - val_loss: 74.5823\n",
      "Epoch 16/100\n",
      "840/840 [==============================] - 64s 77ms/step - loss: 60.0103 - val_loss: 71.6608\n",
      "Epoch 17/100\n",
      "840/840 [==============================] - 66s 78ms/step - loss: 59.7288 - val_loss: 81.1939\n",
      "Epoch 18/100\n",
      "840/840 [==============================] - 65s 78ms/step - loss: 61.2721 - val_loss: 68.4257\n",
      "Epoch 19/100\n",
      "840/840 [==============================] - 64s 76ms/step - loss: 52.6489 - val_loss: 61.1350\n",
      "Epoch 20/100\n",
      "840/840 [==============================] - 68s 81ms/step - loss: 54.7059 - val_loss: 345.9701\n",
      "Epoch 21/100\n",
      "840/840 [==============================] - 63s 75ms/step - loss: 53.5090 - val_loss: 57.6719\n",
      "Epoch 22/100\n",
      "840/840 [==============================] - 69s 82ms/step - loss: 46.6253 - val_loss: 69.2104\n",
      "Epoch 23/100\n",
      "840/840 [==============================] - 68s 81ms/step - loss: 50.2849 - val_loss: 58.9406\n",
      "Epoch 24/100\n",
      "840/840 [==============================] - 68s 80ms/step - loss: 50.8269 - val_loss: 68.2116\n",
      "Epoch 25/100\n",
      "840/840 [==============================] - 66s 79ms/step - loss: 44.8152 - val_loss: 56.3885\n",
      "Epoch 26/100\n",
      "840/840 [==============================] - 65s 77ms/step - loss: 40.0741 - val_loss: 67.2251\n",
      "Epoch 27/100\n",
      "840/840 [==============================] - 67s 80ms/step - loss: 39.1899 - val_loss: 56.2342\n",
      "Epoch 28/100\n",
      "840/840 [==============================] - 65s 78ms/step - loss: 51.2717 - val_loss: 58.9196\n",
      "Epoch 29/100\n",
      "840/840 [==============================] - 66s 78ms/step - loss: 39.1553 - val_loss: 56.7581\n",
      "Epoch 30/100\n",
      "840/840 [==============================] - 67s 80ms/step - loss: 35.9106 - val_loss: 50.5672\n",
      "Epoch 31/100\n",
      "840/840 [==============================] - 68s 81ms/step - loss: 34.7089 - val_loss: 58.8964\n",
      "Epoch 32/100\n",
      "840/840 [==============================] - 65s 77ms/step - loss: 35.6516 - val_loss: 60.4665\n",
      "Epoch 33/100\n",
      "840/840 [==============================] - 66s 79ms/step - loss: 46.2125 - val_loss: 67.1341\n",
      "Epoch 34/100\n",
      "840/840 [==============================] - 65s 77ms/step - loss: 33.1251 - val_loss: 49.2977\n",
      "Epoch 35/100\n",
      "840/840 [==============================] - 65s 77ms/step - loss: 31.2442 - val_loss: 52.6911\n",
      "Epoch 36/100\n",
      "840/840 [==============================] - 67s 79ms/step - loss: 32.4234 - val_loss: 314.4110\n",
      "Epoch 37/100\n",
      "840/840 [==============================] - 65s 77ms/step - loss: 34.9145 - val_loss: 51.1450\n",
      "Epoch 38/100\n",
      "840/840 [==============================] - 66s 78ms/step - loss: 29.7332 - val_loss: 52.6903\n",
      "Epoch 39/100\n",
      "840/840 [==============================] - 68s 81ms/step - loss: 31.5126 - val_loss: 52.4277\n",
      "Epoch 40/100\n",
      "840/840 [==============================] - 64s 76ms/step - loss: 36.5296 - val_loss: 117.4768\n",
      "Epoch 41/100\n",
      "840/840 [==============================] - 66s 78ms/step - loss: 29.6169 - val_loss: 51.1616\n",
      "Epoch 42/100\n",
      "840/840 [==============================] - 63s 75ms/step - loss: 28.1908 - val_loss: 52.3232\n",
      "Epoch 43/100\n",
      "840/840 [==============================] - 64s 77ms/step - loss: 29.1563 - val_loss: 48.8353\n",
      "Epoch 44/100\n",
      "840/840 [==============================] - 68s 81ms/step - loss: 35.0051 - val_loss: 48.1734\n",
      "Epoch 45/100\n",
      "840/840 [==============================] - 66s 79ms/step - loss: 25.9899 - val_loss: 49.6697\n",
      "Epoch 46/100\n",
      "840/840 [==============================] - 68s 81ms/step - loss: 26.6964 - val_loss: 163.6355\n",
      "Epoch 47/100\n",
      "840/840 [==============================] - 64s 77ms/step - loss: 27.5307 - val_loss: 59.1890\n",
      "Epoch 48/100\n",
      "840/840 [==============================] - 68s 81ms/step - loss: 28.5687 - val_loss: 51.3015\n",
      "Epoch 49/100\n",
      "840/840 [==============================] - 65s 78ms/step - loss: 31.6671 - val_loss: 48.3851\n",
      "Epoch 50/100\n",
      "840/840 [==============================] - 66s 78ms/step - loss: 24.5696 - val_loss: 48.2068\n",
      "Epoch 51/100\n",
      "840/840 [==============================] - 64s 77ms/step - loss: 25.6331 - val_loss: 53.2049\n",
      "Epoch 52/100\n",
      "840/840 [==============================] - 66s 79ms/step - loss: 25.0215 - val_loss: 50.6542\n",
      "Epoch 53/100\n",
      "840/840 [==============================] - 66s 79ms/step - loss: 26.0575 - val_loss: 51.3302\n",
      "Epoch 54/100\n",
      "840/840 [==============================] - 65s 77ms/step - loss: 24.5733 - val_loss: 54.5711\n",
      "Epoch 55/100\n",
      "840/840 [==============================] - 70s 83ms/step - loss: 26.0762 - val_loss: 63.3542\n",
      "Epoch 56/100\n",
      "840/840 [==============================] - 67s 80ms/step - loss: 24.7337 - val_loss: 70.5117\n",
      "Epoch 57/100\n",
      "840/840 [==============================] - 63s 76ms/step - loss: 25.1254 - val_loss: 51.7826\n",
      "Epoch 58/100\n",
      "840/840 [==============================] - 65s 77ms/step - loss: 24.6090 - val_loss: 48.2256\n",
      "Epoch 59/100\n",
      "840/840 [==============================] - 64s 76ms/step - loss: 23.2505 - val_loss: 51.2082\n",
      "Epoch 60/100\n",
      "840/840 [==============================] - 66s 78ms/step - loss: 23.3969 - val_loss: 46.6395\n",
      "Epoch 61/100\n",
      "840/840 [==============================] - 68s 82ms/step - loss: 24.8791 - val_loss: 45.7272\n",
      "Epoch 62/100\n",
      "840/840 [==============================] - 65s 77ms/step - loss: 23.8998 - val_loss: 46.5675\n",
      "Epoch 63/100\n",
      "840/840 [==============================] - 65s 77ms/step - loss: 22.2370 - val_loss: 48.8445\n",
      "Epoch 64/100\n",
      "840/840 [==============================] - 64s 76ms/step - loss: 23.1940 - val_loss: 51.3043\n",
      "Epoch 65/100\n",
      "840/840 [==============================] - 64s 77ms/step - loss: 24.2175 - val_loss: 52.8135\n",
      "Epoch 66/100\n",
      "840/840 [==============================] - 70s 83ms/step - loss: 22.3810 - val_loss: 51.8969\n",
      "Epoch 67/100\n",
      "840/840 [==============================] - 68s 81ms/step - loss: 23.1571 - val_loss: 47.5963\n",
      "Epoch 68/100\n",
      "840/840 [==============================] - 65s 78ms/step - loss: 22.5855 - val_loss: 46.0625\n",
      "Epoch 69/100\n",
      "840/840 [==============================] - 66s 78ms/step - loss: 21.3186 - val_loss: 50.3302\n",
      "Epoch 70/100\n",
      "840/840 [==============================] - 65s 77ms/step - loss: 22.3941 - val_loss: 49.2116\n",
      "Epoch 71/100\n",
      "840/840 [==============================] - 63s 75ms/step - loss: 21.5623 - val_loss: 61.4033\n",
      "Epoch 72/100\n",
      "840/840 [==============================] - 67s 80ms/step - loss: 24.4478 - val_loss: 258.9855\n",
      "Epoch 73/100\n",
      "840/840 [==============================] - 67s 80ms/step - loss: 22.1089 - val_loss: 56.1076\n",
      "Epoch 74/100\n",
      "840/840 [==============================] - 66s 78ms/step - loss: 23.3878 - val_loss: 74.4090\n",
      "Epoch 75/100\n",
      "840/840 [==============================] - 64s 76ms/step - loss: 19.5579 - val_loss: 64.1731\n",
      "Epoch 76/100\n",
      "840/840 [==============================] - 68s 80ms/step - loss: 21.7556 - val_loss: 57.5933\n",
      "Epoch 77/100\n",
      "840/840 [==============================] - 67s 79ms/step - loss: 22.4098 - val_loss: 52.2479\n",
      "Epoch 78/100\n"
     ]
    },
    {
     "name": "stdout",
     "output_type": "stream",
     "text": [
      "840/840 [==============================] - 66s 78ms/step - loss: 20.7696 - val_loss: 49.6132\n",
      "Epoch 79/100\n",
      "840/840 [==============================] - 66s 79ms/step - loss: 26.3274 - val_loss: 672.9237\n",
      "Epoch 80/100\n",
      "840/840 [==============================] - 67s 79ms/step - loss: 20.2486 - val_loss: 53.3559\n",
      "Epoch 81/100\n",
      "840/840 [==============================] - 69s 83ms/step - loss: 19.8564 - val_loss: 64.9852\n",
      "Epoch 82/100\n",
      "840/840 [==============================] - 68s 81ms/step - loss: 23.3937 - val_loss: 65.0900\n",
      "Epoch 83/100\n",
      "840/840 [==============================] - 70s 83ms/step - loss: 21.1907 - val_loss: 47.4962\n",
      "Epoch 84/100\n",
      "840/840 [==============================] - 67s 80ms/step - loss: 20.3315 - val_loss: 47.3728\n",
      "Epoch 85/100\n",
      "840/840 [==============================] - 65s 78ms/step - loss: 21.3728 - val_loss: 45.1840\n",
      "Epoch 86/100\n",
      "840/840 [==============================] - 81s 96ms/step - loss: 22.7118 - val_loss: 50.2110\n",
      "Epoch 87/100\n",
      "840/840 [==============================] - 144s 171ms/step - loss: 19.5414 - val_loss: 43.5072\n",
      "Epoch 88/100\n",
      "840/840 [==============================] - 66s 78ms/step - loss: 19.6691 - val_loss: 57.3298\n",
      "Epoch 89/100\n",
      "840/840 [==============================] - 64s 76ms/step - loss: 27.9872 - val_loss: 87.4056\n",
      "Epoch 90/100\n",
      "840/840 [==============================] - 66s 79ms/step - loss: 19.5821 - val_loss: 196.1175\n",
      "Epoch 91/100\n",
      "840/840 [==============================] - 64s 76ms/step - loss: 18.0100 - val_loss: 47.6437\n",
      "Epoch 92/100\n",
      "840/840 [==============================] - 67s 80ms/step - loss: 21.5575 - val_loss: 52.2462\n",
      "Epoch 93/100\n",
      "840/840 [==============================] - 69s 82ms/step - loss: 19.7569 - val_loss: 51.7125\n",
      "Epoch 94/100\n",
      "840/840 [==============================] - 65s 77ms/step - loss: 20.7640 - val_loss: 63.5242\n",
      "Epoch 95/100\n",
      "840/840 [==============================] - 63s 75ms/step - loss: 21.3787 - val_loss: 47.1529\n",
      "Epoch 96/100\n",
      "840/840 [==============================] - 65s 78ms/step - loss: 20.5232 - val_loss: 50.6262\n",
      "Epoch 97/100\n",
      "840/840 [==============================] - 65s 78ms/step - loss: 19.7938 - val_loss: 920.0153\n",
      "Epoch 98/100\n",
      "840/840 [==============================] - 67s 80ms/step - loss: 20.1371 - val_loss: 52.1939\n",
      "Epoch 99/100\n",
      "840/840 [==============================] - 66s 78ms/step - loss: 20.4539 - val_loss: 51.5769\n",
      "Epoch 100/100\n",
      "840/840 [==============================] - 64s 76ms/step - loss: 19.2770 - val_loss: 48.9559\n"
     ]
    },
    {
     "data": {
      "text/plain": [
       "<tensorflow.python.keras.callbacks.History at 0x2227be5c608>"
      ]
     },
     "execution_count": 20,
     "metadata": {},
     "output_type": "execute_result"
    }
   ],
   "source": [
    "model.fit(train_gen,\n",
    "          epochs=100,\n",
    "          callbacks=callbacks,\n",
    "          validation_data=validation_gen,\n",
    "          validation_freq=1,\n",
    "          use_multiprocessing=True,\n",
    "          workers=10,\n",
    "          max_queue_size=32)"
   ]
  },
  {
   "cell_type": "markdown",
   "metadata": {},
   "source": [
    "# Evaluation\n",
    "Evaluate the trained network"
   ]
  },
  {
   "cell_type": "code",
   "execution_count": 21,
   "metadata": {
    "scrolled": false
   },
   "outputs": [
    {
     "data": {
      "image/png": "[encoded data removed]",
      "text/plain": [
       "<Figure size 432x288 with 1 Axes>"
      ]
     },
     "metadata": {
      "needs_background": "light"
     },
     "output_type": "display_data"
    }
   ],
   "source": [
    "X, y = validation_gen[1]\n",
    "\n",
    "y_pred = model.predict(X)\n",
    "\n",
    "u_x = y_pred[0,:,:,0]\n",
    "u_y = y_pred[0,:,:,1]\n",
    "\n",
    "plt.imshow(y_pred[0,:,:,0], cmap=\"gray\")\n",
    "\n",
    "plt.imsave(store_path + \"/u_x.png\", u_x, cmap=\"gray\")\n",
    "plt.imsave(store_path + \"/u_y.png\", u_y, cmap=\"gray\")\n",
    "\n",
    "u_x.dump(store_path + \"/u_x\")\n",
    "u_y.dump(store_path + \"/u_y\")\n",
    "\n",
    "warp = np.zeros((width, height))\n",
    "\n",
    "for index in range(0,25):\n",
    "    x_pos = int(y[0, index, 0, 0])\n",
    "    y_pos = int(y[0, index, 1, 0])\n",
    "    \n",
    "    plot_cube(warp, x_pos, y_pos, 1) #blue\n",
    "    \n",
    "    ux_field = y_pred[0,:,:,0]\n",
    "    uy_field = y_pred[0,:,:,1]\n",
    "    \n",
    "    ux = ux_field[y_pos][x_pos]\n",
    "    uy = uy_field[y_pos][x_pos]\n",
    "    \n",
    "    x_pos = int(round(x_pos + ux))\n",
    "    y_pos = int(round(y_pos + uy))\n",
    "            \n",
    "    plot_cube(warp, x_pos, y_pos, 2) #green    \n",
    "    \n",
    "    x_pos = int(y[0, index, 0, 1])\n",
    "    y_pos = int(y[0, index, 1, 1])\n",
    "    \n",
    "    plot_cube(warp, x_pos, y_pos, 3) #yellow    \n",
    "    \n",
    "plt.imshow(warp)\n",
    "plt.imsave(store_path + \"/warp.png\", warp)"
   ]
  },
  {
   "cell_type": "markdown",
   "metadata": {},
   "source": [
    "# 6.13) Supervised Euclidean for SIMPLED with SGD\n",
    "A U-Net is trained here to predict a displacement field and the euclidean distance is taken as error."
   ]
  },
  {
   "cell_type": "markdown",
   "metadata": {
    "pycharm": {
     "name": "#%% md\n"
    }
   },
   "source": [
    "# Data\n",
    "Import training images"
   ]
  },
  {
   "cell_type": "code",
   "execution_count": 22,
   "metadata": {
    "pycharm": {
     "name": "#%%\n"
    }
   },
   "outputs": [],
   "source": [
    "store_path = 'experiments/6_13_euclidean'\n",
    "\n",
    "path_fixed = r'D:\\Julian\\data\\SIMPLED\\train\\0'\n",
    "path_train = r'D:\\Julian\\data\\SIMPLED\\train'\n",
    "path_validation = r'D:\\Julian\\data\\SIMPLED\\validation'\n",
    "path_test = r'D:\\Julian\\data\\SIMPLED\\test'\n",
    "\n",
    "width = 224\n",
    "height = 224"
   ]
  },
  {
   "cell_type": "markdown",
   "metadata": {
    "pycharm": {
     "name": "#%% md\n"
    }
   },
   "source": [
    "# Seeding\n",
    "Seeds are set to ensure reproducible training."
   ]
  },
  {
   "cell_type": "code",
   "execution_count": 23,
   "metadata": {
    "pycharm": {
     "name": "#%%\n"
    }
   },
   "outputs": [],
   "source": [
    "SEED = 42\n",
    "np.random.seed(SEED)\n",
    "tf.random.set_seed(SEED)\n",
    "random.seed(SEED)"
   ]
  },
  {
   "cell_type": "markdown",
   "metadata": {
    "pycharm": {
     "name": "#%% md\n"
    }
   },
   "source": [
    "# Network\n",
    "A U-Net based network is instantiated with keras to run a semantic segmentation."
   ]
  },
  {
   "cell_type": "code",
   "execution_count": 24,
   "metadata": {
    "pycharm": {
     "name": "#%%\n"
    }
   },
   "outputs": [],
   "source": [
    "model = UNet(filters=32,\n",
    "             layers=4,\n",
    "             activation='linear',\n",
    "             classes=2,\n",
    "             input_shape=(224, 224, 1),\n",
    "             kernel_regularizer=None)"
   ]
  },
  {
   "cell_type": "markdown",
   "metadata": {
    "pycharm": {
     "name": "#%% md\n"
    }
   },
   "source": [
    "# Training Preparation\n",
    "Prepare the settings for training the model."
   ]
  },
  {
   "cell_type": "code",
   "execution_count": 25,
   "metadata": {
    "scrolled": true
   },
   "outputs": [
    {
     "name": "stdout",
     "output_type": "stream",
     "text": [
      "WARNING:tensorflow:`period` argument is deprecated. Please use `save_freq` to specify the frequency in number of samples seen.\n"
     ]
    }
   ],
   "source": [
    "train_gen = SIMPLESequence(path_train, path_fixed,\n",
    "                           batch_size=4,\n",
    "                           preprocess_input=pre_une,\n",
    "                           shuffle=True)\n",
    "\n",
    "validation_gen = SIMPLESequence(path_validation, path_fixed,\n",
    "                                batch_size=4,\n",
    "                                preprocess_input=pre_une)\n",
    "\n",
    "logger = CSVLogger(store_path + \"/log\")\n",
    "checker = ModelCheckpoint(store_path + \"/weights.{epoch:02d}.hdf5\",\n",
    "                          period=10)\n",
    "callbacks = [logger, checker]\n",
    "\n",
    "optimizer= tf.keras.optimizers.SGD(learning_rate=0.01, momentum=0.99)\n",
    "model.compile(optimizer=optimizer, loss = utils.msed_loss)"
   ]
  },
  {
   "cell_type": "markdown",
   "metadata": {},
   "source": [
    "# Training\n",
    "Run the training."
   ]
  },
  {
   "cell_type": "code",
   "execution_count": 26,
   "metadata": {
    "pycharm": {
     "name": "#%%\n"
    },
    "scrolled": true
   },
   "outputs": [
    {
     "name": "stdout",
     "output_type": "stream",
     "text": [
      "Train for 840 steps, validate for 180 steps\n",
      "Epoch 1/100\n"
     ]
    },
    {
     "name": "stderr",
     "output_type": "stream",
     "text": [
      "C:\\Users\\zilkerjn\\AppData\\Local\\Continuum\\anaconda3\\envs\\glotax\\lib\\site-packages\\tensorflow_core\\python\\framework\\indexed_slices.py:424: UserWarning: Converting sparse IndexedSlices to a dense Tensor of unknown shape. This may consume a large amount of memory.\n",
      "  \"Converting sparse IndexedSlices to a dense Tensor of unknown shape. \"\n",
      "C:\\Users\\zilkerjn\\AppData\\Local\\Continuum\\anaconda3\\envs\\glotax\\lib\\site-packages\\tensorflow_core\\python\\framework\\indexed_slices.py:424: UserWarning: Converting sparse IndexedSlices to a dense Tensor of unknown shape. This may consume a large amount of memory.\n",
      "  \"Converting sparse IndexedSlices to a dense Tensor of unknown shape. \"\n",
      "C:\\Users\\zilkerjn\\AppData\\Local\\Continuum\\anaconda3\\envs\\glotax\\lib\\site-packages\\tensorflow_core\\python\\framework\\indexed_slices.py:424: UserWarning: Converting sparse IndexedSlices to a dense Tensor of unknown shape. This may consume a large amount of memory.\n",
      "  \"Converting sparse IndexedSlices to a dense Tensor of unknown shape. \"\n",
      "C:\\Users\\zilkerjn\\AppData\\Local\\Continuum\\anaconda3\\envs\\glotax\\lib\\site-packages\\tensorflow_core\\python\\framework\\indexed_slices.py:424: UserWarning: Converting sparse IndexedSlices to a dense Tensor of unknown shape. This may consume a large amount of memory.\n",
      "  \"Converting sparse IndexedSlices to a dense Tensor of unknown shape. \"\n",
      "C:\\Users\\zilkerjn\\AppData\\Local\\Continuum\\anaconda3\\envs\\glotax\\lib\\site-packages\\tensorflow_core\\python\\framework\\indexed_slices.py:424: UserWarning: Converting sparse IndexedSlices to a dense Tensor of unknown shape. This may consume a large amount of memory.\n",
      "  \"Converting sparse IndexedSlices to a dense Tensor of unknown shape. \"\n",
      "C:\\Users\\zilkerjn\\AppData\\Local\\Continuum\\anaconda3\\envs\\glotax\\lib\\site-packages\\tensorflow_core\\python\\framework\\indexed_slices.py:424: UserWarning: Converting sparse IndexedSlices to a dense Tensor of unknown shape. This may consume a large amount of memory.\n",
      "  \"Converting sparse IndexedSlices to a dense Tensor of unknown shape. \"\n",
      "C:\\Users\\zilkerjn\\AppData\\Local\\Continuum\\anaconda3\\envs\\glotax\\lib\\site-packages\\tensorflow_core\\python\\framework\\indexed_slices.py:424: UserWarning: Converting sparse IndexedSlices to a dense Tensor of unknown shape. This may consume a large amount of memory.\n",
      "  \"Converting sparse IndexedSlices to a dense Tensor of unknown shape. \"\n",
      "C:\\Users\\zilkerjn\\AppData\\Local\\Continuum\\anaconda3\\envs\\glotax\\lib\\site-packages\\tensorflow_core\\python\\framework\\indexed_slices.py:424: UserWarning: Converting sparse IndexedSlices to a dense Tensor of unknown shape. This may consume a large amount of memory.\n",
      "  \"Converting sparse IndexedSlices to a dense Tensor of unknown shape. \"\n",
      "C:\\Users\\zilkerjn\\AppData\\Local\\Continuum\\anaconda3\\envs\\glotax\\lib\\site-packages\\tensorflow_core\\python\\framework\\indexed_slices.py:424: UserWarning: Converting sparse IndexedSlices to a dense Tensor of unknown shape. This may consume a large amount of memory.\n",
      "  \"Converting sparse IndexedSlices to a dense Tensor of unknown shape. \"\n",
      "C:\\Users\\zilkerjn\\AppData\\Local\\Continuum\\anaconda3\\envs\\glotax\\lib\\site-packages\\tensorflow_core\\python\\framework\\indexed_slices.py:424: UserWarning: Converting sparse IndexedSlices to a dense Tensor of unknown shape. This may consume a large amount of memory.\n",
      "  \"Converting sparse IndexedSlices to a dense Tensor of unknown shape. \"\n",
      "C:\\Users\\zilkerjn\\AppData\\Local\\Continuum\\anaconda3\\envs\\glotax\\lib\\site-packages\\tensorflow_core\\python\\framework\\indexed_slices.py:424: UserWarning: Converting sparse IndexedSlices to a dense Tensor of unknown shape. This may consume a large amount of memory.\n",
      "  \"Converting sparse IndexedSlices to a dense Tensor of unknown shape. \"\n",
      "C:\\Users\\zilkerjn\\AppData\\Local\\Continuum\\anaconda3\\envs\\glotax\\lib\\site-packages\\tensorflow_core\\python\\framework\\indexed_slices.py:424: UserWarning: Converting sparse IndexedSlices to a dense Tensor of unknown shape. This may consume a large amount of memory.\n",
      "  \"Converting sparse IndexedSlices to a dense Tensor of unknown shape. \"\n"
     ]
    },
    {
     "name": "stdout",
     "output_type": "stream",
     "text": [
      "840/840 [==============================] - 72s 85ms/step - loss: inf - val_loss: inf\n",
      "Epoch 2/100\n",
      "840/840 [==============================] - 63s 76ms/step - loss: inf - val_loss: inf\n",
      "Epoch 3/100\n",
      "840/840 [==============================] - 67s 80ms/step - loss: inf - val_loss: inf\n",
      "Epoch 4/100\n",
      "840/840 [==============================] - 65s 78ms/step - loss: inf - val_loss: inf\n",
      "Epoch 5/100\n",
      "840/840 [==============================] - 66s 79ms/step - loss: inf - val_loss: inf\n",
      "Epoch 6/100\n",
      "840/840 [==============================] - 64s 77ms/step - loss: inf - val_loss: inf\n",
      "Epoch 7/100\n",
      "840/840 [==============================] - 64s 76ms/step - loss: inf - val_loss: inf\n",
      "Epoch 8/100\n",
      "840/840 [==============================] - 66s 78ms/step - loss: inf - val_loss: inf\n",
      "Epoch 9/100\n",
      "840/840 [==============================] - 64s 76ms/step - loss: inf - val_loss: inf\n",
      "Epoch 10/100\n",
      "840/840 [==============================] - 66s 79ms/step - loss: inf - val_loss: inf\n",
      "Epoch 11/100\n",
      "840/840 [==============================] - 65s 77ms/step - loss: inf - val_loss: inf\n",
      "Epoch 12/100\n",
      "840/840 [==============================] - 64s 76ms/step - loss: inf - val_loss: inf\n",
      "Epoch 13/100\n",
      "840/840 [==============================] - 66s 78ms/step - loss: inf - val_loss: inf\n",
      "Epoch 14/100\n",
      "840/840 [==============================] - 62s 74ms/step - loss: inf - val_loss: inf\n",
      "Epoch 15/100\n",
      "840/840 [==============================] - 62s 74ms/step - loss: inf - val_loss: inf\n",
      "Epoch 16/100\n",
      "840/840 [==============================] - 60s 72ms/step - loss: inf - val_loss: inf\n",
      "Epoch 17/100\n",
      "840/840 [==============================] - 67s 79ms/step - loss: inf - val_loss: inf\n",
      "Epoch 18/100\n",
      "840/840 [==============================] - 61s 73ms/step - loss: inf - val_loss: inf\n",
      "Epoch 19/100\n",
      "840/840 [==============================] - 63s 75ms/step - loss: inf - val_loss: inf\n",
      "Epoch 20/100\n",
      "840/840 [==============================] - 64s 77ms/step - loss: inf - val_loss: inf\n",
      "Epoch 21/100\n",
      "840/840 [==============================] - 65s 78ms/step - loss: inf - val_loss: inf\n",
      "Epoch 22/100\n",
      "840/840 [==============================] - 65s 77ms/step - loss: inf - val_loss: inf\n",
      "Epoch 23/100\n",
      "840/840 [==============================] - 63s 75ms/step - loss: inf - val_loss: inf\n",
      "Epoch 24/100\n",
      "840/840 [==============================] - 64s 76ms/step - loss: inf - val_loss: inf\n",
      "Epoch 25/100\n",
      "840/840 [==============================] - 67s 80ms/step - loss: inf - val_loss: inf\n",
      "Epoch 26/100\n",
      "840/840 [==============================] - 65s 78ms/step - loss: inf - val_loss: inf\n",
      "Epoch 27/100\n",
      "840/840 [==============================] - 63s 75ms/step - loss: inf - val_loss: inf\n",
      "Epoch 28/100\n",
      "840/840 [==============================] - 60s 71ms/step - loss: inf - val_loss: inf\n",
      "Epoch 29/100\n",
      "840/840 [==============================] - 61s 73ms/step - loss: inf - val_loss: inf\n",
      "Epoch 30/100\n",
      "840/840 [==============================] - 61s 72ms/step - loss: inf - val_loss: inf\n",
      "Epoch 31/100\n",
      "840/840 [==============================] - 66s 79ms/step - loss: inf - val_loss: inf\n",
      "Epoch 32/100\n",
      "840/840 [==============================] - 66s 79ms/step - loss: inf - val_loss: inf\n",
      "Epoch 33/100\n",
      "840/840 [==============================] - 61s 72ms/step - loss: inf - val_loss: inf\n",
      "Epoch 34/100\n",
      "840/840 [==============================] - 65s 77ms/step - loss: inf - val_loss: inf\n",
      "Epoch 35/100\n",
      "840/840 [==============================] - 67s 80ms/step - loss: inf - val_loss: inf\n",
      "Epoch 36/100\n",
      "840/840 [==============================] - 64s 77ms/step - loss: inf - val_loss: inf\n",
      "Epoch 37/100\n",
      "840/840 [==============================] - 64s 76ms/step - loss: inf - val_loss: inf\n",
      "Epoch 38/100\n",
      "840/840 [==============================] - 60s 72ms/step - loss: inf - val_loss: inf\n",
      "Epoch 39/100\n",
      "840/840 [==============================] - 56s 67ms/step - loss: inf - val_loss: inf\n",
      "Epoch 40/100\n",
      "840/840 [==============================] - 58s 69ms/step - loss: inf - val_loss: inf\n",
      "Epoch 41/100\n",
      "840/840 [==============================] - 57s 68ms/step - loss: inf - val_loss: inf\n",
      "Epoch 42/100\n",
      "840/840 [==============================] - 56s 66ms/step - loss: inf - val_loss: inf\n",
      "Epoch 43/100\n",
      "840/840 [==============================] - 57s 68ms/step - loss: inf - val_loss: inf\n",
      "Epoch 44/100\n",
      "840/840 [==============================] - 57s 68ms/step - loss: inf - val_loss: inf\n",
      "Epoch 45/100\n",
      "840/840 [==============================] - 56s 67ms/step - loss: inf - val_loss: inf\n",
      "Epoch 46/100\n",
      "840/840 [==============================] - 59s 71ms/step - loss: inf - val_loss: inf\n",
      "Epoch 47/100\n",
      "840/840 [==============================] - 64s 77ms/step - loss: inf - val_loss: inf\n",
      "Epoch 48/100\n",
      "840/840 [==============================] - 61s 72ms/step - loss: inf - val_loss: inf\n",
      "Epoch 49/100\n",
      "840/840 [==============================] - 65s 77ms/step - loss: inf - val_loss: inf\n",
      "Epoch 50/100\n",
      "840/840 [==============================] - 65s 77ms/step - loss: inf - val_loss: inf\n",
      "Epoch 51/100\n",
      "840/840 [==============================] - 66s 78ms/step - loss: inf - val_loss: inf\n",
      "Epoch 52/100\n",
      "840/840 [==============================] - 64s 77ms/step - loss: inf - val_loss: inf\n",
      "Epoch 53/100\n",
      "840/840 [==============================] - 65s 77ms/step - loss: inf - val_loss: inf\n",
      "Epoch 54/100\n",
      "840/840 [==============================] - 66s 79ms/step - loss: inf - val_loss: inf\n",
      "Epoch 55/100\n",
      "840/840 [==============================] - 66s 79ms/step - loss: inf - val_loss: inf\n",
      "Epoch 56/100\n",
      "840/840 [==============================] - 65s 77ms/step - loss: inf - val_loss: inf\n",
      "Epoch 57/100\n",
      "840/840 [==============================] - 63s 74ms/step - loss: inf - val_loss: inf\n",
      "Epoch 58/100\n",
      "840/840 [==============================] - 64s 77ms/step - loss: inf - val_loss: inf\n",
      "Epoch 59/100\n",
      "840/840 [==============================] - 64s 76ms/step - loss: inf - val_loss: inf\n",
      "Epoch 60/100\n",
      "840/840 [==============================] - 65s 77ms/step - loss: inf - val_loss: inf\n",
      "Epoch 61/100\n",
      "840/840 [==============================] - 65s 78ms/step - loss: inf - val_loss: inf\n",
      "Epoch 62/100\n",
      "840/840 [==============================] - 65s 77ms/step - loss: inf - val_loss: inf\n",
      "Epoch 63/100\n",
      "840/840 [==============================] - 66s 78ms/step - loss: inf - val_loss: inf\n",
      "Epoch 64/100\n",
      "840/840 [==============================] - 63s 76ms/step - loss: inf - val_loss: inf\n",
      "Epoch 65/100\n",
      "840/840 [==============================] - 64s 76ms/step - loss: inf - val_loss: inf\n",
      "Epoch 66/100\n",
      "840/840 [==============================] - 65s 78ms/step - loss: inf - val_loss: inf\n",
      "Epoch 67/100\n",
      "840/840 [==============================] - 66s 78ms/step - loss: inf - val_loss: inf\n",
      "Epoch 68/100\n",
      "840/840 [==============================] - 66s 79ms/step - loss: inf - val_loss: inf\n",
      "Epoch 69/100\n",
      "840/840 [==============================] - 66s 78ms/step - loss: inf - val_loss: inf\n",
      "Epoch 70/100\n",
      "840/840 [==============================] - 65s 77ms/step - loss: inf - val_loss: inf\n",
      "Epoch 71/100\n",
      "840/840 [==============================] - 64s 77ms/step - loss: inf - val_loss: inf\n",
      "Epoch 72/100\n",
      "840/840 [==============================] - 64s 76ms/step - loss: inf - val_loss: inf\n",
      "Epoch 73/100\n",
      "840/840 [==============================] - 63s 75ms/step - loss: inf - val_loss: inf\n",
      "Epoch 74/100\n",
      "840/840 [==============================] - 64s 76ms/step - loss: inf - val_loss: inf\n",
      "Epoch 75/100\n",
      "840/840 [==============================] - 63s 75ms/step - loss: inf - val_loss: inf\n",
      "Epoch 76/100\n",
      "840/840 [==============================] - 64s 76ms/step - loss: inf - val_loss: inf\n",
      "Epoch 77/100\n",
      "840/840 [==============================] - 64s 76ms/step - loss: inf - val_loss: inf\n",
      "Epoch 78/100\n",
      "840/840 [==============================] - 66s 78ms/step - loss: inf - val_loss: inf\n",
      "Epoch 79/100\n",
      "840/840 [==============================] - 64s 77ms/step - loss: inf - val_loss: inf\n",
      "Epoch 80/100\n",
      "840/840 [==============================] - 65s 78ms/step - loss: inf - val_loss: inf\n",
      "Epoch 81/100\n",
      "840/840 [==============================] - 63s 76ms/step - loss: inf - val_loss: inf\n",
      "Epoch 82/100\n",
      "840/840 [==============================] - 64s 76ms/step - loss: inf - val_loss: inf\n",
      "Epoch 83/100\n",
      "840/840 [==============================] - 63s 75ms/step - loss: inf - val_loss: inf\n",
      "Epoch 84/100\n"
     ]
    },
    {
     "name": "stdout",
     "output_type": "stream",
     "text": [
      "840/840 [==============================] - 62s 73ms/step - loss: inf - val_loss: inf\n",
      "Epoch 85/100\n",
      "840/840 [==============================] - 65s 78ms/step - loss: inf - val_loss: inf\n",
      "Epoch 86/100\n",
      "840/840 [==============================] - 65s 78ms/step - loss: inf - val_loss: inf\n",
      "Epoch 87/100\n",
      "840/840 [==============================] - 63s 75ms/step - loss: inf - val_loss: inf\n",
      "Epoch 88/100\n",
      "840/840 [==============================] - 66s 79ms/step - loss: inf - val_loss: inf\n",
      "Epoch 89/100\n",
      "840/840 [==============================] - 63s 75ms/step - loss: inf - val_loss: inf\n",
      "Epoch 90/100\n",
      "840/840 [==============================] - 63s 76ms/step - loss: inf - val_loss: inf\n",
      "Epoch 91/100\n",
      "840/840 [==============================] - 66s 79ms/step - loss: inf - val_loss: inf\n",
      "Epoch 92/100\n",
      "840/840 [==============================] - 64s 76ms/step - loss: inf - val_loss: inf\n",
      "Epoch 93/100\n",
      "840/840 [==============================] - 61s 72ms/step - loss: inf - val_loss: inf\n",
      "Epoch 94/100\n",
      "840/840 [==============================] - 61s 72ms/step - loss: inf - val_loss: inf\n",
      "Epoch 95/100\n",
      "840/840 [==============================] - 63s 75ms/step - loss: inf - val_loss: inf\n",
      "Epoch 96/100\n",
      "840/840 [==============================] - 62s 74ms/step - loss: inf - val_loss: inf\n",
      "Epoch 97/100\n",
      "840/840 [==============================] - 65s 77ms/step - loss: inf - val_loss: inf\n",
      "Epoch 98/100\n",
      "840/840 [==============================] - 64s 76ms/step - loss: inf - val_loss: inf\n",
      "Epoch 99/100\n",
      "840/840 [==============================] - 64s 76ms/step - loss: inf - val_loss: inf\n",
      "Epoch 100/100\n",
      "840/840 [==============================] - 66s 79ms/step - loss: inf - val_loss: inf\n"
     ]
    },
    {
     "data": {
      "text/plain": [
       "<tensorflow.python.keras.callbacks.History at 0x2226aec2d88>"
      ]
     },
     "execution_count": 26,
     "metadata": {},
     "output_type": "execute_result"
    }
   ],
   "source": [
    "model.fit(train_gen,\n",
    "          epochs=100,\n",
    "          callbacks=callbacks,\n",
    "          validation_data=validation_gen,\n",
    "          validation_freq=1,\n",
    "          use_multiprocessing=True,\n",
    "          workers=10,\n",
    "          max_queue_size=32)"
   ]
  },
  {
   "cell_type": "markdown",
   "metadata": {},
   "source": [
    "# Evaluation\n",
    "Evaluate the trained network"
   ]
  },
  {
   "cell_type": "code",
   "execution_count": 27,
   "metadata": {
    "scrolled": false
   },
   "outputs": [
    {
     "ename": "OverflowError",
     "evalue": "cannot convert float infinity to integer",
     "output_type": "error",
     "traceback": [
      "\u001b[1;31m---------------------------------------------------------------------------\u001b[0m",
      "\u001b[1;31mOverflowError\u001b[0m                             Traceback (most recent call last)",
      "\u001b[1;32m<ipython-input-27-d933a63c9cea>\u001b[0m in \u001b[0;36m<module>\u001b[1;34m\u001b[0m\n\u001b[0;32m     28\u001b[0m     \u001b[0muy\u001b[0m \u001b[1;33m=\u001b[0m \u001b[0muy_field\u001b[0m\u001b[1;33m[\u001b[0m\u001b[0my_pos\u001b[0m\u001b[1;33m]\u001b[0m\u001b[1;33m[\u001b[0m\u001b[0mx_pos\u001b[0m\u001b[1;33m]\u001b[0m\u001b[1;33m\u001b[0m\u001b[1;33m\u001b[0m\u001b[0m\n\u001b[0;32m     29\u001b[0m \u001b[1;33m\u001b[0m\u001b[0m\n\u001b[1;32m---> 30\u001b[1;33m     \u001b[0mx_pos\u001b[0m \u001b[1;33m=\u001b[0m \u001b[0mint\u001b[0m\u001b[1;33m(\u001b[0m\u001b[0mround\u001b[0m\u001b[1;33m(\u001b[0m\u001b[0mx_pos\u001b[0m \u001b[1;33m+\u001b[0m \u001b[0mux\u001b[0m\u001b[1;33m)\u001b[0m\u001b[1;33m)\u001b[0m\u001b[1;33m\u001b[0m\u001b[1;33m\u001b[0m\u001b[0m\n\u001b[0m\u001b[0;32m     31\u001b[0m     \u001b[0my_pos\u001b[0m \u001b[1;33m=\u001b[0m \u001b[0mint\u001b[0m\u001b[1;33m(\u001b[0m\u001b[0mround\u001b[0m\u001b[1;33m(\u001b[0m\u001b[0my_pos\u001b[0m \u001b[1;33m+\u001b[0m \u001b[0muy\u001b[0m\u001b[1;33m)\u001b[0m\u001b[1;33m)\u001b[0m\u001b[1;33m\u001b[0m\u001b[1;33m\u001b[0m\u001b[0m\n\u001b[0;32m     32\u001b[0m \u001b[1;33m\u001b[0m\u001b[0m\n",
      "\u001b[1;31mOverflowError\u001b[0m: cannot convert float infinity to integer"
     ]
    },
    {
     "name": "stderr",
     "output_type": "stream",
     "text": [
      "C:\\Users\\zilkerjn\\AppData\\Local\\Continuum\\anaconda3\\envs\\glotax\\lib\\site-packages\\matplotlib\\image.py:397: UserWarning: Warning: converting a masked element to nan.\n",
      "  dv = (np.float64(self.norm.vmax) -\n",
      "C:\\Users\\zilkerjn\\AppData\\Local\\Continuum\\anaconda3\\envs\\glotax\\lib\\site-packages\\matplotlib\\image.py:398: UserWarning: Warning: converting a masked element to nan.\n",
      "  np.float64(self.norm.vmin))\n",
      "C:\\Users\\zilkerjn\\AppData\\Local\\Continuum\\anaconda3\\envs\\glotax\\lib\\site-packages\\matplotlib\\image.py:405: UserWarning: Warning: converting a masked element to nan.\n",
      "  a_min = np.float64(newmin)\n",
      "C:\\Users\\zilkerjn\\AppData\\Local\\Continuum\\anaconda3\\envs\\glotax\\lib\\site-packages\\matplotlib\\image.py:410: UserWarning: Warning: converting a masked element to nan.\n",
      "  a_max = np.float64(newmax)\n",
      "<string>:6: UserWarning: Warning: converting a masked element to nan.\n",
      "C:\\Users\\zilkerjn\\AppData\\Local\\Continuum\\anaconda3\\envs\\glotax\\lib\\site-packages\\numpy\\ma\\core.py:711: UserWarning: Warning: converting a masked element to nan.\n",
      "  data = np.array(a, copy=False, subok=subok)\n"
     ]
    },
    {
     "data": {
      "image/png": "[encoded data removed]",
      "text/plain": [
       "<Figure size 432x288 with 1 Axes>"
      ]
     },
     "metadata": {
      "needs_background": "light"
     },
     "output_type": "display_data"
    }
   ],
   "source": [
    "X, y = validation_gen[1]\n",
    "\n",
    "y_pred = model.predict(X)\n",
    "\n",
    "u_x = y_pred[0,:,:,0]\n",
    "u_y = y_pred[0,:,:,1]\n",
    "\n",
    "plt.imshow(y_pred[0,:,:,0], cmap=\"gray\")\n",
    "\n",
    "plt.imsave(store_path + \"/u_x.png\", u_x, cmap=\"gray\")\n",
    "plt.imsave(store_path + \"/u_y.png\", u_y, cmap=\"gray\")\n",
    "\n",
    "u_x.dump(store_path + \"/u_x\")\n",
    "u_y.dump(store_path + \"/u_y\")\n",
    "\n",
    "warp = np.zeros((width, height))\n",
    "\n",
    "for index in range(0,25):\n",
    "    x_pos = int(y[0, index, 0, 0])\n",
    "    y_pos = int(y[0, index, 1, 0])\n",
    "    \n",
    "    plot_cube(warp, x_pos, y_pos, 1) #blue\n",
    "    \n",
    "    ux_field = y_pred[0,:,:,0]\n",
    "    uy_field = y_pred[0,:,:,1]\n",
    "    \n",
    "    ux = ux_field[y_pos][x_pos]\n",
    "    uy = uy_field[y_pos][x_pos]\n",
    "    \n",
    "    x_pos = int(round(x_pos + ux))\n",
    "    y_pos = int(round(y_pos + uy))\n",
    "            \n",
    "    plot_cube(warp, x_pos, y_pos, 2) #green    \n",
    "    \n",
    "    x_pos = int(y[0, index, 0, 1])\n",
    "    y_pos = int(y[0, index, 1, 1])\n",
    "    \n",
    "    plot_cube(warp, x_pos, y_pos, 3) #yellow    \n",
    "    \n",
    "plt.imshow(warp)\n",
    "plt.imsave(store_path + \"/warp.png\", warp)"
   ]
  }
 ],
 "metadata": {
  "kernelspec": {
   "display_name": "Python 3",
   "language": "python",
   "name": "python3"
  },
  "language_info": {
   "codemirror_mode": {
    "name": "ipython",
    "version": 3
   },
   "file_extension": ".py",
   "mimetype": "text/x-python",
   "name": "python",
   "nbconvert_exporter": "python",
   "pygments_lexer": "ipython3",
   "version": "3.7.5"
  }
 },
 "nbformat": 4,
 "nbformat_minor": 4
}

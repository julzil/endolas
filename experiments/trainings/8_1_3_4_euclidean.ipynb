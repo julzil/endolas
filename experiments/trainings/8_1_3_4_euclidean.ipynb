{
 "cells": [
  {
   "cell_type": "markdown",
   "metadata": {},
   "source": [
    "# Import statements\n",
    "Following packages are necessary:"
   ]
  },
  {
   "cell_type": "code",
   "execution_count": 1,
   "metadata": {
    "scrolled": true
   },
   "outputs": [],
   "source": [
    "import sys\n",
    "sys.path.append(\"D:\\Julian\\workspace\\endolas\\packages\")\n",
    "\n",
    "import random\n",
    "from endolas import utils\n",
    "import os\n",
    "import imageio\n",
    "import json\n",
    "from endolas  import closs\n",
    "from endolas import ccall\n",
    "\n",
    "from endolas import LASTENSequence\n",
    "\n",
    "import tensorflow as tf\n",
    "import numpy as np\n",
    "import tensorflow.keras.backend as kb\n",
    "from tensorflow.keras.callbacks import CSVLogger, ModelCheckpoint\n",
    "\n",
    "from endolas import UNet\n",
    "from endolas import preprocess_input as pre_une\n",
    "\n",
    "from matplotlib import pyplot as plt"
   ]
  },
  {
   "cell_type": "markdown",
   "metadata": {
    "pycharm": {
     "name": "#%% md\n"
    }
   },
   "source": [
    "# Checks\n",
    "The version of tensorflow as well as the GPU support are checked."
   ]
  },
  {
   "cell_type": "code",
   "execution_count": 2,
   "metadata": {
    "pycharm": {
     "name": "#%%\n"
    },
    "scrolled": false
   },
   "outputs": [
    {
     "name": "stdout",
     "output_type": "stream",
     "text": [
      "2.1.0\n"
     ]
    },
    {
     "data": {
      "text/plain": [
       "[PhysicalDevice(name='/physical_device:GPU:0', device_type='GPU')]"
      ]
     },
     "execution_count": 2,
     "metadata": {},
     "output_type": "execute_result"
    }
   ],
   "source": [
    "print(tf.__version__)\n",
    "physical_devices = tf.config.experimental.list_physical_devices('GPU')\n",
    "tf.config.experimental.set_memory_growth(physical_devices[0], True)\n",
    "tf.config.experimental.get_visible_devices('GPU')"
   ]
  },
  {
   "cell_type": "markdown",
   "metadata": {},
   "source": [
    "# Functionality\n",
    "Necessary funcionality is added here"
   ]
  },
  {
   "cell_type": "code",
   "execution_count": 3,
   "metadata": {},
   "outputs": [],
   "source": [
    "def plot_cube(img, x, y, val):\n",
    "    \n",
    "    img[y][x] = val\n",
    "    img[y][x-1] = val\n",
    "    img[y][x+1] = val\n",
    "    img[y-1][x] = val\n",
    "    img[y-1][x-1] = val\n",
    "    img[y-1][x+1] = val\n",
    "    img[y+1][x] = val\n",
    "    img[y+1][x-1] = val\n",
    "    img[y+1][x+1] = val  "
   ]
  },
  {
   "cell_type": "markdown",
   "metadata": {},
   "source": [
    "# 8.1) Supervised Euclidean for LASTEN2\n",
    "A U-Net is trained here to predict a displacement field and the euclidean distance is taken as error."
   ]
  },
  {
   "cell_type": "markdown",
   "metadata": {
    "pycharm": {
     "name": "#%% md\n"
    }
   },
   "source": [
    "# Data\n",
    "Import training images"
   ]
  },
  {
   "cell_type": "code",
   "execution_count": 4,
   "metadata": {
    "pycharm": {
     "name": "#%%\n"
    }
   },
   "outputs": [],
   "source": [
    "tf.keras.backend.clear_session()\n",
    "\n",
    "store_path = '../results/8_1_euclidean'\n",
    "\n",
    "#path_fixed = '/home/julian/Documents/Studium/MT-Masterarbeit/Data/LASTEN2/fix'\n",
    "#path_train = '/home/julian/Documents/Studium/MT-Masterarbeit/Data/LASTEN2/train'\n",
    "#path_validation = '/home/julian/Documents/Studium/MT-Masterarbeit/Data/LASTEN2/validation'\n",
    "#path_test = '/home/julian/Documents/Studium/MT-Masterarbeit/Data/LASTEN2/test'\n",
    "\n",
    "path_fixed = r'D:\\Julian\\data\\LASTEN2\\fix'\n",
    "path_train = r'D:\\Julian\\data\\LASTEN2\\train'\n",
    "path_validation = r'D:\\Julian\\data\\LASTEN2\\validation'\n",
    "path_test = r'D:\\Julian\\data\\LASTEN2\\test'\n",
    "\n",
    "width = 384\n",
    "height = 384\n",
    "\n",
    "grid_width = 18\n",
    "grid_height = 18"
   ]
  },
  {
   "cell_type": "markdown",
   "metadata": {
    "pycharm": {
     "name": "#%% md\n"
    }
   },
   "source": [
    "# Seeding\n",
    "Seeds are set to ensure reproducible training."
   ]
  },
  {
   "cell_type": "code",
   "execution_count": 5,
   "metadata": {
    "pycharm": {
     "name": "#%%\n"
    }
   },
   "outputs": [],
   "source": [
    "SEED = 42\n",
    "np.random.seed(SEED)\n",
    "tf.random.set_seed(SEED)\n",
    "random.seed(SEED)"
   ]
  },
  {
   "cell_type": "markdown",
   "metadata": {
    "pycharm": {
     "name": "#%% md\n"
    }
   },
   "source": [
    "# Network\n",
    "A U-Net based network is instantiated with keras to run a semantic segmentation."
   ]
  },
  {
   "cell_type": "code",
   "execution_count": 6,
   "metadata": {
    "pycharm": {
     "name": "#%%\n"
    }
   },
   "outputs": [],
   "source": [
    "model = UNet(filters=32, layers=4, activation='linear', classes=2, input_shape=(width, height, 2))"
   ]
  },
  {
   "cell_type": "markdown",
   "metadata": {
    "pycharm": {
     "name": "#%% md\n"
    }
   },
   "source": [
    "# Training Preparation\n",
    "Prepare the settings for training the model."
   ]
  },
  {
   "cell_type": "code",
   "execution_count": 7,
   "metadata": {
    "scrolled": true
   },
   "outputs": [
    {
     "name": "stdout",
     "output_type": "stream",
     "text": [
      "WARNING:tensorflow:`period` argument is deprecated. Please use `save_freq` to specify the frequency in number of samples seen.\n"
     ]
    }
   ],
   "source": [
    "batch_size=4\n",
    "\n",
    "train_gen = LASTENSequence(path_train,\n",
    "                           path_fixed,\n",
    "                           batch_size=batch_size,\n",
    "                           width=width,\n",
    "                           height=height,\n",
    "                           grid_width=grid_width, \n",
    "                           grid_height=grid_height,\n",
    "                           preprocess_input=pre_une,\n",
    "                           shuffle=True,\n",
    "                           label=\"keypoints\",\n",
    "                           channel=\"moving+fixed\")\n",
    "\n",
    "val_gen = LASTENSequence(path_validation,\n",
    "                           path_fixed,\n",
    "                           batch_size=batch_size,\n",
    "                           width=width,\n",
    "                           height=height,\n",
    "                           grid_width=grid_width, \n",
    "                           grid_height=grid_height,\n",
    "                           preprocess_input=pre_une,\n",
    "                           shuffle=False,\n",
    "                           label=\"keypoints\",\n",
    "                           channel=\"moving+fixed\")\n",
    "\n",
    "logger = CSVLogger(store_path + \"/log\")\n",
    "timelogger = ccall.TimeHistory(store_path)\n",
    "checker = ModelCheckpoint(store_path + \"/weights.{epoch:02d}.hdf5\", period=10)\n",
    "checker_best = ModelCheckpoint(store_path + \"/best_weights.hdf5\", save_best_only=True)\n",
    "callbacks = [timelogger, logger, checker, checker_best]\n",
    "\n",
    "eu_loss = closs.EuclideanLoss(batch_size=batch_size, grid_width=grid_width, grid_height=grid_height, loss_type='msed')\n",
    "eu_met = closs.EuclideanLoss(batch_size=batch_size, grid_width=grid_width, grid_height=grid_height, loss_type='maed')\n",
    "\n",
    "model.compile(optimizer='adam', loss=eu_loss, metrics=[eu_met])"
   ]
  },
  {
   "cell_type": "markdown",
   "metadata": {},
   "source": [
    "# Training\n",
    "Run the training."
   ]
  },
  {
   "cell_type": "code",
   "execution_count": 8,
   "metadata": {
    "pycharm": {
     "name": "#%%\n"
    },
    "scrolled": true
   },
   "outputs": [
    {
     "name": "stdout",
     "output_type": "stream",
     "text": [
      "WARNING:tensorflow:sample_weight modes were coerced from\n",
      "  ...\n",
      "    to  \n",
      "  ['...']\n",
      "WARNING:tensorflow:sample_weight modes were coerced from\n",
      "  ...\n",
      "    to  \n",
      "  ['...']\n",
      "Train for 40 steps, validate for 10 steps\n",
      "Epoch 1/100\n"
     ]
    },
    {
     "name": "stderr",
     "output_type": "stream",
     "text": [
      "C:\\Users\\zilkerjn\\AppData\\Local\\Continuum\\anaconda3\\envs\\tf2-gpu\\lib\\site-packages\\tensorflow_core\\python\\framework\\indexed_slices.py:433: UserWarning: Converting sparse IndexedSlices to a dense Tensor of unknown shape. This may consume a large amount of memory.\n",
      "  \"Converting sparse IndexedSlices to a dense Tensor of unknown shape. \"\n",
      "C:\\Users\\zilkerjn\\AppData\\Local\\Continuum\\anaconda3\\envs\\tf2-gpu\\lib\\site-packages\\tensorflow_core\\python\\framework\\indexed_slices.py:433: UserWarning: Converting sparse IndexedSlices to a dense Tensor of unknown shape. This may consume a large amount of memory.\n",
      "  \"Converting sparse IndexedSlices to a dense Tensor of unknown shape. \"\n",
      "C:\\Users\\zilkerjn\\AppData\\Local\\Continuum\\anaconda3\\envs\\tf2-gpu\\lib\\site-packages\\tensorflow_core\\python\\framework\\indexed_slices.py:433: UserWarning: Converting sparse IndexedSlices to a dense Tensor of unknown shape. This may consume a large amount of memory.\n",
      "  \"Converting sparse IndexedSlices to a dense Tensor of unknown shape. \"\n",
      "C:\\Users\\zilkerjn\\AppData\\Local\\Continuum\\anaconda3\\envs\\tf2-gpu\\lib\\site-packages\\tensorflow_core\\python\\framework\\indexed_slices.py:433: UserWarning: Converting sparse IndexedSlices to a dense Tensor of unknown shape. This may consume a large amount of memory.\n",
      "  \"Converting sparse IndexedSlices to a dense Tensor of unknown shape. \"\n",
      "C:\\Users\\zilkerjn\\AppData\\Local\\Continuum\\anaconda3\\envs\\tf2-gpu\\lib\\site-packages\\tensorflow_core\\python\\framework\\indexed_slices.py:433: UserWarning: Converting sparse IndexedSlices to a dense Tensor of unknown shape. This may consume a large amount of memory.\n",
      "  \"Converting sparse IndexedSlices to a dense Tensor of unknown shape. \"\n",
      "C:\\Users\\zilkerjn\\AppData\\Local\\Continuum\\anaconda3\\envs\\tf2-gpu\\lib\\site-packages\\tensorflow_core\\python\\framework\\indexed_slices.py:433: UserWarning: Converting sparse IndexedSlices to a dense Tensor of unknown shape. This may consume a large amount of memory.\n",
      "  \"Converting sparse IndexedSlices to a dense Tensor of unknown shape. \"\n",
      "C:\\Users\\zilkerjn\\AppData\\Local\\Continuum\\anaconda3\\envs\\tf2-gpu\\lib\\site-packages\\tensorflow_core\\python\\framework\\indexed_slices.py:433: UserWarning: Converting sparse IndexedSlices to a dense Tensor of unknown shape. This may consume a large amount of memory.\n",
      "  \"Converting sparse IndexedSlices to a dense Tensor of unknown shape. \"\n",
      "C:\\Users\\zilkerjn\\AppData\\Local\\Continuum\\anaconda3\\envs\\tf2-gpu\\lib\\site-packages\\tensorflow_core\\python\\framework\\indexed_slices.py:433: UserWarning: Converting sparse IndexedSlices to a dense Tensor of unknown shape. This may consume a large amount of memory.\n",
      "  \"Converting sparse IndexedSlices to a dense Tensor of unknown shape. \"\n"
     ]
    },
    {
     "name": "stdout",
     "output_type": "stream",
     "text": [
      "40/40 [==============================] - 21s 532ms/step - loss: 1453.1646 - maed: 32.4918 - val_loss: 1409.1478 - val_maed: 32.7858\n",
      "Epoch 2/100\n",
      "40/40 [==============================] - 9s 213ms/step - loss: 595.3770 - maed: 20.2003 - val_loss: 2025.8948 - val_maed: 36.9519\n",
      "Epoch 3/100\n",
      "40/40 [==============================] - 9s 233ms/step - loss: 372.9528 - maed: 15.6808 - val_loss: 2464.7727 - val_maed: 42.4350\n",
      "Epoch 4/100\n",
      "40/40 [==============================] - 10s 252ms/step - loss: 250.2986 - maed: 12.5849 - val_loss: 1080.2444 - val_maed: 28.0918\n",
      "Epoch 5/100\n",
      "40/40 [==============================] - 9s 227ms/step - loss: 229.7769 - maed: 12.5432 - val_loss: 845.1992 - val_maed: 24.9085\n",
      "Epoch 6/100\n",
      "40/40 [==============================] - 9s 232ms/step - loss: 134.1811 - maed: 9.6468 - val_loss: 802.1434 - val_maed: 24.2619\n",
      "Epoch 7/100\n",
      "40/40 [==============================] - 9s 237ms/step - loss: 118.3522 - maed: 8.9985 - val_loss: 742.3489 - val_maed: 23.0614\n",
      "Epoch 8/100\n",
      "40/40 [==============================] - 9s 223ms/step - loss: 71.6207 - maed: 7.1102 - val_loss: 539.6357 - val_maed: 19.4435\n",
      "Epoch 9/100\n",
      "40/40 [==============================] - 10s 245ms/step - loss: 51.9494 - maed: 6.0457 - val_loss: 480.5404 - val_maed: 19.1106\n",
      "Epoch 10/100\n",
      "39/40 [============================>.] - ETA: 0s - loss: 56.7199 - maed: 6.3186"
     ]
    },
    {
     "ename": "KeyError",
     "evalue": "'val_loss'",
     "output_type": "error",
     "traceback": [
      "\u001b[1;31m---------------------------------------------------------------------------\u001b[0m",
      "\u001b[1;31mKeyboardInterrupt\u001b[0m                         Traceback (most recent call last)",
      "\u001b[1;32m~\\AppData\\Local\\Continuum\\anaconda3\\envs\\tf2-gpu\\lib\\site-packages\\tensorflow_core\\python\\keras\\engine\\training_v2.py\u001b[0m in \u001b[0;36mon_epoch\u001b[1;34m(self, epoch, mode)\u001b[0m\n\u001b[0;32m    766\u001b[0m     \u001b[1;32mtry\u001b[0m\u001b[1;33m:\u001b[0m\u001b[1;33m\u001b[0m\u001b[1;33m\u001b[0m\u001b[0m\n\u001b[1;32m--> 767\u001b[1;33m       \u001b[1;32myield\u001b[0m \u001b[0mepoch_logs\u001b[0m\u001b[1;33m\u001b[0m\u001b[1;33m\u001b[0m\u001b[0m\n\u001b[0m\u001b[0;32m    768\u001b[0m     \u001b[1;32mfinally\u001b[0m\u001b[1;33m:\u001b[0m\u001b[1;33m\u001b[0m\u001b[1;33m\u001b[0m\u001b[0m\n",
      "\u001b[1;32m~\\AppData\\Local\\Continuum\\anaconda3\\envs\\tf2-gpu\\lib\\site-packages\\tensorflow_core\\python\\keras\\engine\\training_v2.py\u001b[0m in \u001b[0;36mfit\u001b[1;34m(self, model, x, y, batch_size, epochs, verbose, callbacks, validation_split, validation_data, shuffle, class_weight, sample_weight, initial_epoch, steps_per_epoch, validation_steps, validation_freq, max_queue_size, workers, use_multiprocessing, **kwargs)\u001b[0m\n\u001b[0;32m    394\u001b[0m                       \u001b[0mtraining_context\u001b[0m\u001b[1;33m=\u001b[0m\u001b[0meval_context\u001b[0m\u001b[1;33m,\u001b[0m\u001b[1;33m\u001b[0m\u001b[1;33m\u001b[0m\u001b[0m\n\u001b[1;32m--> 395\u001b[1;33m                       total_epochs=1)\n\u001b[0m\u001b[0;32m    396\u001b[0m                   cbks.make_logs(model, epoch_logs, eval_result, ModeKeys.TEST,\n",
      "\u001b[1;32m~\\AppData\\Local\\Continuum\\anaconda3\\envs\\tf2-gpu\\lib\\site-packages\\tensorflow_core\\python\\keras\\engine\\training_v2.py\u001b[0m in \u001b[0;36mrun_one_epoch\u001b[1;34m(model, iterator, execution_function, dataset_size, batch_size, strategy, steps_per_epoch, num_samples, mode, training_context, total_epochs)\u001b[0m\n\u001b[0;32m    127\u001b[0m       \u001b[1;32mtry\u001b[0m\u001b[1;33m:\u001b[0m\u001b[1;33m\u001b[0m\u001b[1;33m\u001b[0m\u001b[0m\n\u001b[1;32m--> 128\u001b[1;33m         \u001b[0mbatch_outs\u001b[0m \u001b[1;33m=\u001b[0m \u001b[0mexecution_function\u001b[0m\u001b[1;33m(\u001b[0m\u001b[0miterator\u001b[0m\u001b[1;33m)\u001b[0m\u001b[1;33m\u001b[0m\u001b[1;33m\u001b[0m\u001b[0m\n\u001b[0m\u001b[0;32m    129\u001b[0m       \u001b[1;32mexcept\u001b[0m \u001b[1;33m(\u001b[0m\u001b[0mStopIteration\u001b[0m\u001b[1;33m,\u001b[0m \u001b[0merrors\u001b[0m\u001b[1;33m.\u001b[0m\u001b[0mOutOfRangeError\u001b[0m\u001b[1;33m)\u001b[0m\u001b[1;33m:\u001b[0m\u001b[1;33m\u001b[0m\u001b[1;33m\u001b[0m\u001b[0m\n",
      "\u001b[1;32m~\\AppData\\Local\\Continuum\\anaconda3\\envs\\tf2-gpu\\lib\\site-packages\\tensorflow_core\\python\\keras\\engine\\training_v2_utils.py\u001b[0m in \u001b[0;36mexecution_function\u001b[1;34m(input_fn)\u001b[0m\n\u001b[0;32m     97\u001b[0m     return nest.map_structure(_non_none_constant_value,\n\u001b[1;32m---> 98\u001b[1;33m                               distributed_function(input_fn))\n\u001b[0m\u001b[0;32m     99\u001b[0m \u001b[1;33m\u001b[0m\u001b[0m\n",
      "\u001b[1;32m~\\AppData\\Local\\Continuum\\anaconda3\\envs\\tf2-gpu\\lib\\site-packages\\tensorflow_core\\python\\eager\\def_function.py\u001b[0m in \u001b[0;36m__call__\u001b[1;34m(self, *args, **kwds)\u001b[0m\n\u001b[0;32m    567\u001b[0m     \u001b[1;32melse\u001b[0m\u001b[1;33m:\u001b[0m\u001b[1;33m\u001b[0m\u001b[1;33m\u001b[0m\u001b[0m\n\u001b[1;32m--> 568\u001b[1;33m       \u001b[0mresult\u001b[0m \u001b[1;33m=\u001b[0m \u001b[0mself\u001b[0m\u001b[1;33m.\u001b[0m\u001b[0m_call\u001b[0m\u001b[1;33m(\u001b[0m\u001b[1;33m*\u001b[0m\u001b[0margs\u001b[0m\u001b[1;33m,\u001b[0m \u001b[1;33m**\u001b[0m\u001b[0mkwds\u001b[0m\u001b[1;33m)\u001b[0m\u001b[1;33m\u001b[0m\u001b[1;33m\u001b[0m\u001b[0m\n\u001b[0m\u001b[0;32m    569\u001b[0m \u001b[1;33m\u001b[0m\u001b[0m\n",
      "\u001b[1;32m~\\AppData\\Local\\Continuum\\anaconda3\\envs\\tf2-gpu\\lib\\site-packages\\tensorflow_core\\python\\eager\\def_function.py\u001b[0m in \u001b[0;36m_call\u001b[1;34m(self, *args, **kwds)\u001b[0m\n\u001b[0;32m    605\u001b[0m       \u001b[1;31m# run the first trace but we should fail if variables are created.\u001b[0m\u001b[1;33m\u001b[0m\u001b[1;33m\u001b[0m\u001b[1;33m\u001b[0m\u001b[0m\n\u001b[1;32m--> 606\u001b[1;33m       \u001b[0mresults\u001b[0m \u001b[1;33m=\u001b[0m \u001b[0mself\u001b[0m\u001b[1;33m.\u001b[0m\u001b[0m_stateful_fn\u001b[0m\u001b[1;33m(\u001b[0m\u001b[1;33m*\u001b[0m\u001b[0margs\u001b[0m\u001b[1;33m,\u001b[0m \u001b[1;33m**\u001b[0m\u001b[0mkwds\u001b[0m\u001b[1;33m)\u001b[0m\u001b[1;33m\u001b[0m\u001b[1;33m\u001b[0m\u001b[0m\n\u001b[0m\u001b[0;32m    607\u001b[0m       \u001b[1;32mif\u001b[0m \u001b[0mself\u001b[0m\u001b[1;33m.\u001b[0m\u001b[0m_created_variables\u001b[0m\u001b[1;33m:\u001b[0m\u001b[1;33m\u001b[0m\u001b[1;33m\u001b[0m\u001b[0m\n",
      "\u001b[1;32m~\\AppData\\Local\\Continuum\\anaconda3\\envs\\tf2-gpu\\lib\\site-packages\\tensorflow_core\\python\\eager\\function.py\u001b[0m in \u001b[0;36m__call__\u001b[1;34m(self, *args, **kwargs)\u001b[0m\n\u001b[0;32m   2362\u001b[0m       \u001b[0mgraph_function\u001b[0m\u001b[1;33m,\u001b[0m \u001b[0margs\u001b[0m\u001b[1;33m,\u001b[0m \u001b[0mkwargs\u001b[0m \u001b[1;33m=\u001b[0m \u001b[0mself\u001b[0m\u001b[1;33m.\u001b[0m\u001b[0m_maybe_define_function\u001b[0m\u001b[1;33m(\u001b[0m\u001b[0margs\u001b[0m\u001b[1;33m,\u001b[0m \u001b[0mkwargs\u001b[0m\u001b[1;33m)\u001b[0m\u001b[1;33m\u001b[0m\u001b[1;33m\u001b[0m\u001b[0m\n\u001b[1;32m-> 2363\u001b[1;33m     \u001b[1;32mreturn\u001b[0m \u001b[0mgraph_function\u001b[0m\u001b[1;33m.\u001b[0m\u001b[0m_filtered_call\u001b[0m\u001b[1;33m(\u001b[0m\u001b[0margs\u001b[0m\u001b[1;33m,\u001b[0m \u001b[0mkwargs\u001b[0m\u001b[1;33m)\u001b[0m  \u001b[1;31m# pylint: disable=protected-access\u001b[0m\u001b[1;33m\u001b[0m\u001b[1;33m\u001b[0m\u001b[0m\n\u001b[0m\u001b[0;32m   2364\u001b[0m \u001b[1;33m\u001b[0m\u001b[0m\n",
      "\u001b[1;32m~\\AppData\\Local\\Continuum\\anaconda3\\envs\\tf2-gpu\\lib\\site-packages\\tensorflow_core\\python\\eager\\function.py\u001b[0m in \u001b[0;36m_filtered_call\u001b[1;34m(self, args, kwargs)\u001b[0m\n\u001b[0;32m   1610\u001b[0m                            resource_variable_ops.BaseResourceVariable))),\n\u001b[1;32m-> 1611\u001b[1;33m         self.captured_inputs)\n\u001b[0m\u001b[0;32m   1612\u001b[0m \u001b[1;33m\u001b[0m\u001b[0m\n",
      "\u001b[1;32m~\\AppData\\Local\\Continuum\\anaconda3\\envs\\tf2-gpu\\lib\\site-packages\\tensorflow_core\\python\\eager\\function.py\u001b[0m in \u001b[0;36m_call_flat\u001b[1;34m(self, args, captured_inputs, cancellation_manager)\u001b[0m\n\u001b[0;32m   1691\u001b[0m       return self._build_call_outputs(self._inference_function.call(\n\u001b[1;32m-> 1692\u001b[1;33m           ctx, args, cancellation_manager=cancellation_manager))\n\u001b[0m\u001b[0;32m   1693\u001b[0m     forward_backward = self._select_forward_and_backward_functions(\n",
      "\u001b[1;32m~\\AppData\\Local\\Continuum\\anaconda3\\envs\\tf2-gpu\\lib\\site-packages\\tensorflow_core\\python\\eager\\function.py\u001b[0m in \u001b[0;36mcall\u001b[1;34m(self, ctx, args, cancellation_manager)\u001b[0m\n\u001b[0;32m    544\u001b[0m               \u001b[0mattrs\u001b[0m\u001b[1;33m=\u001b[0m\u001b[1;33m(\u001b[0m\u001b[1;34m\"executor_type\"\u001b[0m\u001b[1;33m,\u001b[0m \u001b[0mexecutor_type\u001b[0m\u001b[1;33m,\u001b[0m \u001b[1;34m\"config_proto\"\u001b[0m\u001b[1;33m,\u001b[0m \u001b[0mconfig\u001b[0m\u001b[1;33m)\u001b[0m\u001b[1;33m,\u001b[0m\u001b[1;33m\u001b[0m\u001b[1;33m\u001b[0m\u001b[0m\n\u001b[1;32m--> 545\u001b[1;33m               ctx=ctx)\n\u001b[0m\u001b[0;32m    546\u001b[0m         \u001b[1;32melse\u001b[0m\u001b[1;33m:\u001b[0m\u001b[1;33m\u001b[0m\u001b[1;33m\u001b[0m\u001b[0m\n",
      "\u001b[1;32m~\\AppData\\Local\\Continuum\\anaconda3\\envs\\tf2-gpu\\lib\\site-packages\\tensorflow_core\\python\\eager\\execute.py\u001b[0m in \u001b[0;36mquick_execute\u001b[1;34m(op_name, num_outputs, inputs, attrs, ctx, name)\u001b[0m\n\u001b[0;32m     60\u001b[0m                                                \u001b[0mop_name\u001b[0m\u001b[1;33m,\u001b[0m \u001b[0minputs\u001b[0m\u001b[1;33m,\u001b[0m \u001b[0mattrs\u001b[0m\u001b[1;33m,\u001b[0m\u001b[1;33m\u001b[0m\u001b[1;33m\u001b[0m\u001b[0m\n\u001b[1;32m---> 61\u001b[1;33m                                                num_outputs)\n\u001b[0m\u001b[0;32m     62\u001b[0m   \u001b[1;32mexcept\u001b[0m \u001b[0mcore\u001b[0m\u001b[1;33m.\u001b[0m\u001b[0m_NotOkStatusException\u001b[0m \u001b[1;32mas\u001b[0m \u001b[0me\u001b[0m\u001b[1;33m:\u001b[0m\u001b[1;33m\u001b[0m\u001b[1;33m\u001b[0m\u001b[0m\n",
      "\u001b[1;31mKeyboardInterrupt\u001b[0m: ",
      "\nDuring handling of the above exception, another exception occurred:\n",
      "\u001b[1;31mKeyError\u001b[0m                                  Traceback (most recent call last)",
      "\u001b[1;32m<ipython-input-8-1fd8c1cd6563>\u001b[0m in \u001b[0;36m<module>\u001b[1;34m\u001b[0m\n\u001b[0;32m      6\u001b[0m           \u001b[1;31m#use_multiprocessing=True,\u001b[0m\u001b[1;33m\u001b[0m\u001b[1;33m\u001b[0m\u001b[1;33m\u001b[0m\u001b[0m\n\u001b[0;32m      7\u001b[0m           \u001b[0mworkers\u001b[0m\u001b[1;33m=\u001b[0m\u001b[1;36m10\u001b[0m\u001b[1;33m,\u001b[0m\u001b[1;33m\u001b[0m\u001b[1;33m\u001b[0m\u001b[0m\n\u001b[1;32m----> 8\u001b[1;33m           max_queue_size=32)\n\u001b[0m",
      "\u001b[1;32m~\\AppData\\Local\\Continuum\\anaconda3\\envs\\tf2-gpu\\lib\\site-packages\\tensorflow_core\\python\\keras\\engine\\training.py\u001b[0m in \u001b[0;36mfit\u001b[1;34m(self, x, y, batch_size, epochs, verbose, callbacks, validation_split, validation_data, shuffle, class_weight, sample_weight, initial_epoch, steps_per_epoch, validation_steps, validation_freq, max_queue_size, workers, use_multiprocessing, **kwargs)\u001b[0m\n\u001b[0;32m    817\u001b[0m         \u001b[0mmax_queue_size\u001b[0m\u001b[1;33m=\u001b[0m\u001b[0mmax_queue_size\u001b[0m\u001b[1;33m,\u001b[0m\u001b[1;33m\u001b[0m\u001b[1;33m\u001b[0m\u001b[0m\n\u001b[0;32m    818\u001b[0m         \u001b[0mworkers\u001b[0m\u001b[1;33m=\u001b[0m\u001b[0mworkers\u001b[0m\u001b[1;33m,\u001b[0m\u001b[1;33m\u001b[0m\u001b[1;33m\u001b[0m\u001b[0m\n\u001b[1;32m--> 819\u001b[1;33m         use_multiprocessing=use_multiprocessing)\n\u001b[0m\u001b[0;32m    820\u001b[0m \u001b[1;33m\u001b[0m\u001b[0m\n\u001b[0;32m    821\u001b[0m   def evaluate(self,\n",
      "\u001b[1;32m~\\AppData\\Local\\Continuum\\anaconda3\\envs\\tf2-gpu\\lib\\site-packages\\tensorflow_core\\python\\keras\\engine\\training_v2.py\u001b[0m in \u001b[0;36mfit\u001b[1;34m(self, model, x, y, batch_size, epochs, verbose, callbacks, validation_split, validation_data, shuffle, class_weight, sample_weight, initial_epoch, steps_per_epoch, validation_steps, validation_freq, max_queue_size, workers, use_multiprocessing, **kwargs)\u001b[0m\n\u001b[0;32m    395\u001b[0m                       total_epochs=1)\n\u001b[0;32m    396\u001b[0m                   cbks.make_logs(model, epoch_logs, eval_result, ModeKeys.TEST,\n\u001b[1;32m--> 397\u001b[1;33m                                  prefix='val_')\n\u001b[0m\u001b[0;32m    398\u001b[0m \u001b[1;33m\u001b[0m\u001b[0m\n\u001b[0;32m    399\u001b[0m     \u001b[1;32mreturn\u001b[0m \u001b[0mmodel\u001b[0m\u001b[1;33m.\u001b[0m\u001b[0mhistory\u001b[0m\u001b[1;33m\u001b[0m\u001b[1;33m\u001b[0m\u001b[0m\n",
      "\u001b[1;32m~\\AppData\\Local\\Continuum\\anaconda3\\envs\\tf2-gpu\\lib\\contextlib.py\u001b[0m in \u001b[0;36m__exit__\u001b[1;34m(self, type, value, traceback)\u001b[0m\n\u001b[0;32m    128\u001b[0m                 \u001b[0mvalue\u001b[0m \u001b[1;33m=\u001b[0m \u001b[0mtype\u001b[0m\u001b[1;33m(\u001b[0m\u001b[1;33m)\u001b[0m\u001b[1;33m\u001b[0m\u001b[1;33m\u001b[0m\u001b[0m\n\u001b[0;32m    129\u001b[0m             \u001b[1;32mtry\u001b[0m\u001b[1;33m:\u001b[0m\u001b[1;33m\u001b[0m\u001b[1;33m\u001b[0m\u001b[0m\n\u001b[1;32m--> 130\u001b[1;33m                 \u001b[0mself\u001b[0m\u001b[1;33m.\u001b[0m\u001b[0mgen\u001b[0m\u001b[1;33m.\u001b[0m\u001b[0mthrow\u001b[0m\u001b[1;33m(\u001b[0m\u001b[0mtype\u001b[0m\u001b[1;33m,\u001b[0m \u001b[0mvalue\u001b[0m\u001b[1;33m,\u001b[0m \u001b[0mtraceback\u001b[0m\u001b[1;33m)\u001b[0m\u001b[1;33m\u001b[0m\u001b[1;33m\u001b[0m\u001b[0m\n\u001b[0m\u001b[0;32m    131\u001b[0m             \u001b[1;32mexcept\u001b[0m \u001b[0mStopIteration\u001b[0m \u001b[1;32mas\u001b[0m \u001b[0mexc\u001b[0m\u001b[1;33m:\u001b[0m\u001b[1;33m\u001b[0m\u001b[1;33m\u001b[0m\u001b[0m\n\u001b[0;32m    132\u001b[0m                 \u001b[1;31m# Suppress StopIteration *unless* it's the same exception that\u001b[0m\u001b[1;33m\u001b[0m\u001b[1;33m\u001b[0m\u001b[1;33m\u001b[0m\u001b[0m\n",
      "\u001b[1;32m~\\AppData\\Local\\Continuum\\anaconda3\\envs\\tf2-gpu\\lib\\site-packages\\tensorflow_core\\python\\keras\\engine\\training_v2.py\u001b[0m in \u001b[0;36mon_epoch\u001b[1;34m(self, epoch, mode)\u001b[0m\n\u001b[0;32m    769\u001b[0m       \u001b[1;32mif\u001b[0m \u001b[0mmode\u001b[0m \u001b[1;33m==\u001b[0m \u001b[0mModeKeys\u001b[0m\u001b[1;33m.\u001b[0m\u001b[0mTRAIN\u001b[0m\u001b[1;33m:\u001b[0m\u001b[1;33m\u001b[0m\u001b[1;33m\u001b[0m\u001b[0m\n\u001b[0;32m    770\u001b[0m         \u001b[1;31m# Epochs only apply to `fit`.\u001b[0m\u001b[1;33m\u001b[0m\u001b[1;33m\u001b[0m\u001b[1;33m\u001b[0m\u001b[0m\n\u001b[1;32m--> 771\u001b[1;33m         \u001b[0mself\u001b[0m\u001b[1;33m.\u001b[0m\u001b[0mcallbacks\u001b[0m\u001b[1;33m.\u001b[0m\u001b[0mon_epoch_end\u001b[0m\u001b[1;33m(\u001b[0m\u001b[0mepoch\u001b[0m\u001b[1;33m,\u001b[0m \u001b[0mepoch_logs\u001b[0m\u001b[1;33m)\u001b[0m\u001b[1;33m\u001b[0m\u001b[1;33m\u001b[0m\u001b[0m\n\u001b[0m\u001b[0;32m    772\u001b[0m       \u001b[0mself\u001b[0m\u001b[1;33m.\u001b[0m\u001b[0mprogbar\u001b[0m\u001b[1;33m.\u001b[0m\u001b[0mon_epoch_end\u001b[0m\u001b[1;33m(\u001b[0m\u001b[0mepoch\u001b[0m\u001b[1;33m,\u001b[0m \u001b[0mepoch_logs\u001b[0m\u001b[1;33m)\u001b[0m\u001b[1;33m\u001b[0m\u001b[1;33m\u001b[0m\u001b[0m\n\u001b[0;32m    773\u001b[0m \u001b[1;33m\u001b[0m\u001b[0m\n",
      "\u001b[1;32m~\\AppData\\Local\\Continuum\\anaconda3\\envs\\tf2-gpu\\lib\\site-packages\\tensorflow_core\\python\\keras\\callbacks.py\u001b[0m in \u001b[0;36mon_epoch_end\u001b[1;34m(self, epoch, logs)\u001b[0m\n\u001b[0;32m    300\u001b[0m     \u001b[0mlogs\u001b[0m \u001b[1;33m=\u001b[0m \u001b[0mlogs\u001b[0m \u001b[1;32mor\u001b[0m \u001b[1;33m{\u001b[0m\u001b[1;33m}\u001b[0m\u001b[1;33m\u001b[0m\u001b[1;33m\u001b[0m\u001b[0m\n\u001b[0;32m    301\u001b[0m     \u001b[1;32mfor\u001b[0m \u001b[0mcallback\u001b[0m \u001b[1;32min\u001b[0m \u001b[0mself\u001b[0m\u001b[1;33m.\u001b[0m\u001b[0mcallbacks\u001b[0m\u001b[1;33m:\u001b[0m\u001b[1;33m\u001b[0m\u001b[1;33m\u001b[0m\u001b[0m\n\u001b[1;32m--> 302\u001b[1;33m       \u001b[0mcallback\u001b[0m\u001b[1;33m.\u001b[0m\u001b[0mon_epoch_end\u001b[0m\u001b[1;33m(\u001b[0m\u001b[0mepoch\u001b[0m\u001b[1;33m,\u001b[0m \u001b[0mlogs\u001b[0m\u001b[1;33m)\u001b[0m\u001b[1;33m\u001b[0m\u001b[1;33m\u001b[0m\u001b[0m\n\u001b[0m\u001b[0;32m    303\u001b[0m \u001b[1;33m\u001b[0m\u001b[0m\n\u001b[0;32m    304\u001b[0m   \u001b[1;32mdef\u001b[0m \u001b[0mon_train_batch_begin\u001b[0m\u001b[1;33m(\u001b[0m\u001b[0mself\u001b[0m\u001b[1;33m,\u001b[0m \u001b[0mbatch\u001b[0m\u001b[1;33m,\u001b[0m \u001b[0mlogs\u001b[0m\u001b[1;33m=\u001b[0m\u001b[1;32mNone\u001b[0m\u001b[1;33m)\u001b[0m\u001b[1;33m:\u001b[0m\u001b[1;33m\u001b[0m\u001b[1;33m\u001b[0m\u001b[0m\n",
      "\u001b[1;32m~\\AppData\\Local\\Continuum\\anaconda3\\envs\\tf2-gpu\\lib\\site-packages\\tensorflow_core\\python\\keras\\callbacks.py\u001b[0m in \u001b[0;36mon_epoch_end\u001b[1;34m(self, epoch, logs)\u001b[0m\n\u001b[0;32m   2044\u001b[0m \u001b[1;33m\u001b[0m\u001b[0m\n\u001b[0;32m   2045\u001b[0m     \u001b[0mrow_dict\u001b[0m \u001b[1;33m=\u001b[0m \u001b[0mcollections\u001b[0m\u001b[1;33m.\u001b[0m\u001b[0mOrderedDict\u001b[0m\u001b[1;33m(\u001b[0m\u001b[1;33m{\u001b[0m\u001b[1;34m'epoch'\u001b[0m\u001b[1;33m:\u001b[0m \u001b[0mepoch\u001b[0m\u001b[1;33m}\u001b[0m\u001b[1;33m)\u001b[0m\u001b[1;33m\u001b[0m\u001b[1;33m\u001b[0m\u001b[0m\n\u001b[1;32m-> 2046\u001b[1;33m     \u001b[0mrow_dict\u001b[0m\u001b[1;33m.\u001b[0m\u001b[0mupdate\u001b[0m\u001b[1;33m(\u001b[0m\u001b[1;33m(\u001b[0m\u001b[0mkey\u001b[0m\u001b[1;33m,\u001b[0m \u001b[0mhandle_value\u001b[0m\u001b[1;33m(\u001b[0m\u001b[0mlogs\u001b[0m\u001b[1;33m[\u001b[0m\u001b[0mkey\u001b[0m\u001b[1;33m]\u001b[0m\u001b[1;33m)\u001b[0m\u001b[1;33m)\u001b[0m \u001b[1;32mfor\u001b[0m \u001b[0mkey\u001b[0m \u001b[1;32min\u001b[0m \u001b[0mself\u001b[0m\u001b[1;33m.\u001b[0m\u001b[0mkeys\u001b[0m\u001b[1;33m)\u001b[0m\u001b[1;33m\u001b[0m\u001b[1;33m\u001b[0m\u001b[0m\n\u001b[0m\u001b[0;32m   2047\u001b[0m     \u001b[0mself\u001b[0m\u001b[1;33m.\u001b[0m\u001b[0mwriter\u001b[0m\u001b[1;33m.\u001b[0m\u001b[0mwriterow\u001b[0m\u001b[1;33m(\u001b[0m\u001b[0mrow_dict\u001b[0m\u001b[1;33m)\u001b[0m\u001b[1;33m\u001b[0m\u001b[1;33m\u001b[0m\u001b[0m\n\u001b[0;32m   2048\u001b[0m     \u001b[0mself\u001b[0m\u001b[1;33m.\u001b[0m\u001b[0mcsv_file\u001b[0m\u001b[1;33m.\u001b[0m\u001b[0mflush\u001b[0m\u001b[1;33m(\u001b[0m\u001b[1;33m)\u001b[0m\u001b[1;33m\u001b[0m\u001b[1;33m\u001b[0m\u001b[0m\n",
      "\u001b[1;32m~\\AppData\\Local\\Continuum\\anaconda3\\envs\\tf2-gpu\\lib\\site-packages\\tensorflow_core\\python\\keras\\callbacks.py\u001b[0m in \u001b[0;36m<genexpr>\u001b[1;34m(.0)\u001b[0m\n\u001b[0;32m   2044\u001b[0m \u001b[1;33m\u001b[0m\u001b[0m\n\u001b[0;32m   2045\u001b[0m     \u001b[0mrow_dict\u001b[0m \u001b[1;33m=\u001b[0m \u001b[0mcollections\u001b[0m\u001b[1;33m.\u001b[0m\u001b[0mOrderedDict\u001b[0m\u001b[1;33m(\u001b[0m\u001b[1;33m{\u001b[0m\u001b[1;34m'epoch'\u001b[0m\u001b[1;33m:\u001b[0m \u001b[0mepoch\u001b[0m\u001b[1;33m}\u001b[0m\u001b[1;33m)\u001b[0m\u001b[1;33m\u001b[0m\u001b[1;33m\u001b[0m\u001b[0m\n\u001b[1;32m-> 2046\u001b[1;33m     \u001b[0mrow_dict\u001b[0m\u001b[1;33m.\u001b[0m\u001b[0mupdate\u001b[0m\u001b[1;33m(\u001b[0m\u001b[1;33m(\u001b[0m\u001b[0mkey\u001b[0m\u001b[1;33m,\u001b[0m \u001b[0mhandle_value\u001b[0m\u001b[1;33m(\u001b[0m\u001b[0mlogs\u001b[0m\u001b[1;33m[\u001b[0m\u001b[0mkey\u001b[0m\u001b[1;33m]\u001b[0m\u001b[1;33m)\u001b[0m\u001b[1;33m)\u001b[0m \u001b[1;32mfor\u001b[0m \u001b[0mkey\u001b[0m \u001b[1;32min\u001b[0m \u001b[0mself\u001b[0m\u001b[1;33m.\u001b[0m\u001b[0mkeys\u001b[0m\u001b[1;33m)\u001b[0m\u001b[1;33m\u001b[0m\u001b[1;33m\u001b[0m\u001b[0m\n\u001b[0m\u001b[0;32m   2047\u001b[0m     \u001b[0mself\u001b[0m\u001b[1;33m.\u001b[0m\u001b[0mwriter\u001b[0m\u001b[1;33m.\u001b[0m\u001b[0mwriterow\u001b[0m\u001b[1;33m(\u001b[0m\u001b[0mrow_dict\u001b[0m\u001b[1;33m)\u001b[0m\u001b[1;33m\u001b[0m\u001b[1;33m\u001b[0m\u001b[0m\n\u001b[0;32m   2048\u001b[0m     \u001b[0mself\u001b[0m\u001b[1;33m.\u001b[0m\u001b[0mcsv_file\u001b[0m\u001b[1;33m.\u001b[0m\u001b[0mflush\u001b[0m\u001b[1;33m(\u001b[0m\u001b[1;33m)\u001b[0m\u001b[1;33m\u001b[0m\u001b[1;33m\u001b[0m\u001b[0m\n",
      "\u001b[1;31mKeyError\u001b[0m: 'val_loss'"
     ]
    }
   ],
   "source": [
    "model.fit(train_gen,\n",
    "          epochs=100,\n",
    "          callbacks=callbacks,\n",
    "          validation_data=val_gen,\n",
    "          validation_freq=1,\n",
    "          #use_multiprocessing=True,\n",
    "          workers=10,\n",
    "          max_queue_size=32)"
   ]
  },
  {
   "cell_type": "markdown",
   "metadata": {},
   "source": [
    "# Evaluation\n",
    "Evaluate the trained network"
   ]
  },
  {
   "cell_type": "code",
   "execution_count": 14,
   "metadata": {
    "scrolled": true
   },
   "outputs": [
    {
     "data": {
      "image/png": "[encoded data removed]",
      "text/plain": [
       "<Figure size 432x288 with 1 Axes>"
      ]
     },
     "metadata": {
      "needs_background": "light"
     },
     "output_type": "display_data"
    }
   ],
   "source": [
    "X, y = val_gen[0]\n",
    "\n",
    "y_pred = model.predict(X)\n",
    "\n",
    "u_x = y_pred[0,:,:,0]\n",
    "u_y = y_pred[0,:,:,1]\n",
    "\n",
    "plt.imshow(y_pred[0,:,:,0], cmap=\"gray\")\n",
    "\n",
    "plt.imsave(store_path + \"/u_x.png\", u_x, cmap=\"gray\")\n",
    "plt.imsave(store_path + \"/u_y.png\", u_y, cmap=\"gray\")\n",
    "\n",
    "u_x.dump(store_path + \"/u_x\")\n",
    "u_y.dump(store_path + \"/u_y\")\n",
    "\n",
    "warp = np.zeros((width, height))\n",
    "\n",
    "for index in range(0,grid_width*grid_height):\n",
    "    x_pos = int(y[0, index, 0, 0])\n",
    "    y_pos = int(y[0, index, 1, 0])\n",
    "    \n",
    "    plot_cube(warp, x_pos, y_pos, 1) #blue\n",
    "    \n",
    "    ux_field = y_pred[0,:,:,0]\n",
    "    uy_field = y_pred[0,:,:,1]\n",
    "    \n",
    "    ux = ux_field[y_pos][x_pos]\n",
    "    uy = uy_field[y_pos][x_pos]\n",
    "    \n",
    "    x_pos = int(round(x_pos + ux))\n",
    "    y_pos = int(round(y_pos + uy))\n",
    "            \n",
    "    plot_cube(warp, x_pos, y_pos, 2) #green    \n",
    "    \n",
    "    x_pos = int(y[0, index, 0, 1])\n",
    "    y_pos = int(y[0, index, 1, 1])\n",
    "    \n",
    "    plot_cube(warp, x_pos, y_pos, 3) #yellow    \n",
    "    \n",
    "plt.imshow(warp)\n",
    "plt.imsave(store_path + \"/warp.png\", warp)"
   ]
  },
  {
   "cell_type": "markdown",
   "metadata": {},
   "source": [
    "# 8.3) Supervised Euclidean for LASTEN2_25\n",
    "A U-Net is trained here to predict a displacement field and the euclidean distance is taken as error."
   ]
  },
  {
   "cell_type": "markdown",
   "metadata": {
    "pycharm": {
     "name": "#%% md\n"
    }
   },
   "source": [
    "# Data\n",
    "Import training images"
   ]
  },
  {
   "cell_type": "code",
   "execution_count": 4,
   "metadata": {
    "pycharm": {
     "name": "#%%\n"
    }
   },
   "outputs": [],
   "source": [
    "tf.keras.backend.clear_session()\n",
    "\n",
    "store_path = '../results/8_3_euclidean'\n",
    "\n",
    "#path_fixed = '/home/julian/Documents/Studium/MT-Masterarbeit/Data/LASTEN2_25/fix'\n",
    "#path_train = '/home/julian/Documents/Studium/MT-Masterarbeit/Data/LASTEN2_25/train'\n",
    "#path_validation = '/home/julian/Documents/Studium/MT-Masterarbeit/Data/LASTEN2_25/validation'\n",
    "#path_test = '/home/julian/Documents/Studium/MT-Masterarbeit/Data/LASTEN2_25/test'\n",
    "\n",
    "path_fixed = r'D:\\Julian\\data\\LASTEN2_25\\fix'\n",
    "path_train = r'D:\\Julian\\data\\LASTEN2_25\\train'\n",
    "path_validation = r'D:\\Julian\\data\\LASTEN2_25\\validation'\n",
    "path_test = r'D:\\Julian\\data\\LASTEN2_25\\test'\n",
    "\n",
    "width = 384\n",
    "height = 384\n",
    "\n",
    "grid_width = 18\n",
    "grid_height = 18"
   ]
  },
  {
   "cell_type": "markdown",
   "metadata": {
    "pycharm": {
     "name": "#%% md\n"
    }
   },
   "source": [
    "# Seeding\n",
    "Seeds are set to ensure reproducible training."
   ]
  },
  {
   "cell_type": "code",
   "execution_count": 5,
   "metadata": {
    "pycharm": {
     "name": "#%%\n"
    }
   },
   "outputs": [],
   "source": [
    "SEED = 42\n",
    "np.random.seed(SEED)\n",
    "tf.random.set_seed(SEED)\n",
    "random.seed(SEED)"
   ]
  },
  {
   "cell_type": "markdown",
   "metadata": {
    "pycharm": {
     "name": "#%% md\n"
    }
   },
   "source": [
    "# Network\n",
    "A U-Net based network is instantiated with keras to run a semantic segmentation."
   ]
  },
  {
   "cell_type": "code",
   "execution_count": 6,
   "metadata": {
    "pycharm": {
     "name": "#%%\n"
    }
   },
   "outputs": [],
   "source": [
    "model = UNet(filters=32, layers=4, activation='linear', classes=2, input_shape=(width, height, 2))"
   ]
  },
  {
   "cell_type": "markdown",
   "metadata": {
    "pycharm": {
     "name": "#%% md\n"
    }
   },
   "source": [
    "# Training Preparation\n",
    "Prepare the settings for training the model."
   ]
  },
  {
   "cell_type": "code",
   "execution_count": 7,
   "metadata": {
    "scrolled": true
   },
   "outputs": [
    {
     "name": "stdout",
     "output_type": "stream",
     "text": [
      "WARNING:tensorflow:`period` argument is deprecated. Please use `save_freq` to specify the frequency in number of samples seen.\n"
     ]
    }
   ],
   "source": [
    "batch_size=4\n",
    "\n",
    "train_gen = LASTENSequence(path_train,\n",
    "                           path_fixed,\n",
    "                           batch_size=batch_size,\n",
    "                           width=width,\n",
    "                           height=height,\n",
    "                           grid_width=grid_width, \n",
    "                           grid_height=grid_height,\n",
    "                           preprocess_input=pre_une,\n",
    "                           shuffle=True,\n",
    "                           label=\"keypoints\",\n",
    "                           channel=\"moving+fixed\")\n",
    "\n",
    "val_gen = LASTENSequence(path_validation,\n",
    "                           path_fixed,\n",
    "                           batch_size=batch_size,\n",
    "                           width=width,\n",
    "                           height=height,\n",
    "                           grid_width=grid_width, \n",
    "                           grid_height=grid_height,\n",
    "                           preprocess_input=pre_une,\n",
    "                           shuffle=False,\n",
    "                           label=\"keypoints\",\n",
    "                           channel=\"moving+fixed\")\n",
    "\n",
    "logger = CSVLogger(store_path + \"/log\")\n",
    "timelogger = ccall.TimeHistory(store_path)\n",
    "checker = ModelCheckpoint(store_path + \"/weights.{epoch:02d}.hdf5\", period=10)\n",
    "checker_best = ModelCheckpoint(store_path + \"/best_weights.hdf5\", save_best_only=True)\n",
    "callbacks = [timelogger, logger, checker, checker_best]\n",
    "\n",
    "eu_loss = closs.EuclideanLoss(batch_size=batch_size, grid_width=grid_width, grid_height=grid_height, loss_type='msed')\n",
    "eu_met = closs.EuclideanLoss(batch_size=batch_size, grid_width=grid_width, grid_height=grid_height, loss_type='maed')\n",
    "\n",
    "model.compile(optimizer='adam', loss=eu_loss, metrics=[eu_met])"
   ]
  },
  {
   "cell_type": "markdown",
   "metadata": {},
   "source": [
    "# Training\n",
    "Run the training."
   ]
  },
  {
   "cell_type": "code",
   "execution_count": 8,
   "metadata": {
    "pycharm": {
     "name": "#%%\n"
    },
    "scrolled": true
   },
   "outputs": [
    {
     "name": "stdout",
     "output_type": "stream",
     "text": [
      "WARNING:tensorflow:sample_weight modes were coerced from\n",
      "  ...\n",
      "    to  \n",
      "  ['...']\n",
      "WARNING:tensorflow:sample_weight modes were coerced from\n",
      "  ...\n",
      "    to  \n",
      "  ['...']\n",
      "Train for 80 steps, validate for 10 steps\n",
      "Epoch 1/100\n"
     ]
    },
    {
     "name": "stderr",
     "output_type": "stream",
     "text": [
      "C:\\Users\\zilkerjn\\AppData\\Local\\Continuum\\anaconda3\\envs\\tf2-gpu\\lib\\site-packages\\tensorflow_core\\python\\framework\\indexed_slices.py:433: UserWarning: Converting sparse IndexedSlices to a dense Tensor of unknown shape. This may consume a large amount of memory.\n",
      "  \"Converting sparse IndexedSlices to a dense Tensor of unknown shape. \"\n",
      "C:\\Users\\zilkerjn\\AppData\\Local\\Continuum\\anaconda3\\envs\\tf2-gpu\\lib\\site-packages\\tensorflow_core\\python\\framework\\indexed_slices.py:433: UserWarning: Converting sparse IndexedSlices to a dense Tensor of unknown shape. This may consume a large amount of memory.\n",
      "  \"Converting sparse IndexedSlices to a dense Tensor of unknown shape. \"\n",
      "C:\\Users\\zilkerjn\\AppData\\Local\\Continuum\\anaconda3\\envs\\tf2-gpu\\lib\\site-packages\\tensorflow_core\\python\\framework\\indexed_slices.py:433: UserWarning: Converting sparse IndexedSlices to a dense Tensor of unknown shape. This may consume a large amount of memory.\n",
      "  \"Converting sparse IndexedSlices to a dense Tensor of unknown shape. \"\n",
      "C:\\Users\\zilkerjn\\AppData\\Local\\Continuum\\anaconda3\\envs\\tf2-gpu\\lib\\site-packages\\tensorflow_core\\python\\framework\\indexed_slices.py:433: UserWarning: Converting sparse IndexedSlices to a dense Tensor of unknown shape. This may consume a large amount of memory.\n",
      "  \"Converting sparse IndexedSlices to a dense Tensor of unknown shape. \"\n",
      "C:\\Users\\zilkerjn\\AppData\\Local\\Continuum\\anaconda3\\envs\\tf2-gpu\\lib\\site-packages\\tensorflow_core\\python\\framework\\indexed_slices.py:433: UserWarning: Converting sparse IndexedSlices to a dense Tensor of unknown shape. This may consume a large amount of memory.\n",
      "  \"Converting sparse IndexedSlices to a dense Tensor of unknown shape. \"\n",
      "C:\\Users\\zilkerjn\\AppData\\Local\\Continuum\\anaconda3\\envs\\tf2-gpu\\lib\\site-packages\\tensorflow_core\\python\\framework\\indexed_slices.py:433: UserWarning: Converting sparse IndexedSlices to a dense Tensor of unknown shape. This may consume a large amount of memory.\n",
      "  \"Converting sparse IndexedSlices to a dense Tensor of unknown shape. \"\n",
      "C:\\Users\\zilkerjn\\AppData\\Local\\Continuum\\anaconda3\\envs\\tf2-gpu\\lib\\site-packages\\tensorflow_core\\python\\framework\\indexed_slices.py:433: UserWarning: Converting sparse IndexedSlices to a dense Tensor of unknown shape. This may consume a large amount of memory.\n",
      "  \"Converting sparse IndexedSlices to a dense Tensor of unknown shape. \"\n",
      "C:\\Users\\zilkerjn\\AppData\\Local\\Continuum\\anaconda3\\envs\\tf2-gpu\\lib\\site-packages\\tensorflow_core\\python\\framework\\indexed_slices.py:433: UserWarning: Converting sparse IndexedSlices to a dense Tensor of unknown shape. This may consume a large amount of memory.\n",
      "  \"Converting sparse IndexedSlices to a dense Tensor of unknown shape. \"\n"
     ]
    },
    {
     "name": "stdout",
     "output_type": "stream",
     "text": [
      "80/80 [==============================] - 28s 350ms/step - loss: 2171.3343 - maed: 38.6067 - val_loss: 30018.9301 - val_maed: 157.9508\n",
      "Epoch 2/100\n",
      "80/80 [==============================] - 15s 183ms/step - loss: 1381.6154 - maed: 29.9363 - val_loss: 7111.6505 - val_maed: 67.6354\n",
      "Epoch 3/100\n",
      "80/80 [==============================] - 15s 186ms/step - loss: 1168.3024 - maed: 27.2363 - val_loss: 6412.1721 - val_maed: 73.9876\n",
      "Epoch 4/100\n",
      "80/80 [==============================] - 14s 175ms/step - loss: 965.0819 - maed: 24.5727 - val_loss: 2036.1176 - val_maed: 36.9789\n",
      "Epoch 5/100\n",
      "80/80 [==============================] - 14s 179ms/step - loss: 919.6243 - maed: 23.9977 - val_loss: 2099.8702 - val_maed: 41.1208\n",
      "Epoch 6/100\n",
      "80/80 [==============================] - 14s 173ms/step - loss: 743.3043 - maed: 21.3720 - val_loss: 780.4246 - val_maed: 23.3801\n",
      "Epoch 7/100\n",
      "80/80 [==============================] - 13s 159ms/step - loss: 650.4991 - maed: 20.0072 - val_loss: 2812.8398 - val_maed: 48.1648\n",
      "Epoch 8/100\n",
      "80/80 [==============================] - 15s 189ms/step - loss: 570.2708 - maed: 18.5189 - val_loss: 1304.9994 - val_maed: 33.2005\n",
      "Epoch 9/100\n",
      "80/80 [==============================] - 15s 185ms/step - loss: 517.3149 - maed: 17.7315 - val_loss: 1181.1271 - val_maed: 31.3392\n",
      "Epoch 10/100\n",
      "80/80 [==============================] - 16s 199ms/step - loss: 486.8524 - maed: 17.1062 - val_loss: 1748.8422 - val_maed: 38.3475\n",
      "Epoch 11/100\n",
      "80/80 [==============================] - 13s 165ms/step - loss: 454.6287 - maed: 16.7417 - val_loss: 287.5057 - val_maed: 14.2871\n",
      "Epoch 12/100\n",
      "80/80 [==============================] - 15s 184ms/step - loss: 366.8107 - maed: 14.8879 - val_loss: 1094.3011 - val_maed: 29.2927\n",
      "Epoch 13/100\n",
      "80/80 [==============================] - 16s 195ms/step - loss: 388.4274 - maed: 15.4506 - val_loss: 276.5021 - val_maed: 13.7011ss: 389.6470 - maed: 15.\n",
      "Epoch 14/100\n",
      "80/80 [==============================] - 15s 181ms/step - loss: 329.4209 - maed: 14.1060 - val_loss: 731.6516 - val_maed: 23.9544\n",
      "Epoch 15/100\n",
      "80/80 [==============================] - 15s 183ms/step - loss: 318.3054 - maed: 13.9111 - val_loss: 792.4242 - val_maed: 23.6613\n",
      "Epoch 16/100\n",
      "80/80 [==============================] - 14s 178ms/step - loss: 302.5824 - maed: 13.5997 - val_loss: 540.2480 - val_maed: 20.4678\n",
      "Epoch 17/100\n",
      "80/80 [==============================] - 14s 173ms/step - loss: 280.5966 - maed: 13.0924 - val_loss: 360.6583 - val_maed: 15.9094\n",
      "Epoch 18/100\n",
      "80/80 [==============================] - 14s 179ms/step - loss: 264.6265 - maed: 12.8224 - val_loss: 221.0114 - val_maed: 12.1226\n",
      "Epoch 19/100\n",
      "80/80 [==============================] - 14s 178ms/step - loss: 232.7647 - maed: 11.9820 - val_loss: 275.8871 - val_maed: 14.4087\n",
      "Epoch 20/100\n",
      "80/80 [==============================] - 15s 189ms/step - loss: 233.7586 - maed: 12.1082 - val_loss: 470.9202 - val_maed: 18.6431\n",
      "Epoch 21/100\n",
      "80/80 [==============================] - 14s 180ms/step - loss: 215.2862 - maed: 11.5397 - val_loss: 387.2741 - val_maed: 15.7355\n",
      "Epoch 22/100\n",
      "80/80 [==============================] - 15s 185ms/step - loss: 212.8511 - maed: 11.4873 - val_loss: 237.8073 - val_maed: 12.3185\n",
      "Epoch 23/100\n",
      "80/80 [==============================] - 15s 182ms/step - loss: 223.6930 - maed: 11.7231 - val_loss: 291.1319 - val_maed: 13.0387\n",
      "Epoch 24/100\n",
      "80/80 [==============================] - 14s 181ms/step - loss: 188.3105 - maed: 10.7383 - val_loss: 246.8221 - val_maed: 13.2712\n",
      "Epoch 25/100\n",
      "80/80 [==============================] - 15s 190ms/step - loss: 153.3745 - maed: 9.8189 - val_loss: 233.0354 - val_maed: 11.6713\n",
      "Epoch 26/100\n",
      "80/80 [==============================] - 15s 192ms/step - loss: 160.4034 - maed: 9.9980 - val_loss: 220.2881 - val_maed: 12.0882\n",
      "Epoch 27/100\n",
      "80/80 [==============================] - 15s 186ms/step - loss: 144.8522 - maed: 9.5594 - val_loss: 238.3134 - val_maed: 12.5495\n",
      "Epoch 28/100\n",
      "80/80 [==============================] - 14s 178ms/step - loss: 121.8656 - maed: 8.8018 - val_loss: 299.6319 - val_maed: 14.2415\n",
      "Epoch 29/100\n",
      "80/80 [==============================] - 15s 182ms/step - loss: 114.9909 - maed: 8.4605 - val_loss: 508.9095 - val_maed: 18.6159\n",
      "Epoch 30/100\n",
      "80/80 [==============================] - 15s 192ms/step - loss: 116.6172 - maed: 8.6026 - val_loss: 338.3930 - val_maed: 14.7160\n",
      "Epoch 31/100\n",
      "80/80 [==============================] - 15s 182ms/step - loss: 112.2663 - maed: 8.4986 - val_loss: 359.7338 - val_maed: 14.8636\n",
      "Epoch 32/100\n",
      "80/80 [==============================] - 15s 182ms/step - loss: 120.0500 - maed: 8.6933 - val_loss: 284.3673 - val_maed: 13.1273\n",
      "Epoch 33/100\n",
      "80/80 [==============================] - 14s 174ms/step - loss: 106.3792 - maed: 8.2230 - val_loss: 634.9524 - val_maed: 21.0513\n",
      "Epoch 34/100\n",
      "80/80 [==============================] - 14s 173ms/step - loss: 88.6823 - maed: 7.5100 - val_loss: 242.3035 - val_maed: 12.4401\n",
      "Epoch 35/100\n",
      "80/80 [==============================] - 16s 196ms/step - loss: 98.3793 - maed: 7.9281 - val_loss: 348.0186 - val_maed: 14.4611\n",
      "Epoch 36/100\n",
      "80/80 [==============================] - 16s 197ms/step - loss: 90.7278 - maed: 7.6187 - val_loss: 184.5206 - val_maed: 10.1678\n",
      "Epoch 37/100\n",
      "80/80 [==============================] - 15s 186ms/step - loss: 79.0676 - maed: 7.0289 - val_loss: 200.1222 - val_maed: 10.8857\n",
      "Epoch 38/100\n",
      "80/80 [==============================] - 15s 190ms/step - loss: 94.7266 - maed: 7.7073 - val_loss: 282.2655 - val_maed: 14.5662\n",
      "Epoch 39/100\n",
      "80/80 [==============================] - 14s 177ms/step - loss: 99.2314 - maed: 7.8920 - val_loss: 302.1960 - val_maed: 13.7358s: 89.1 - ET\n",
      "Epoch 40/100\n",
      "80/80 [==============================] - 15s 189ms/step - loss: 84.9442 - maed: 7.3977 - val_loss: 288.5626 - val_maed: 13.9720\n",
      "Epoch 41/100\n",
      "80/80 [==============================] - 14s 181ms/step - loss: 62.1983 - maed: 6.2564 - val_loss: 318.1119 - val_maed: 13.0800\n",
      "Epoch 42/100\n",
      "80/80 [==============================] - 15s 192ms/step - loss: 71.5268 - maed: 6.7970 - val_loss: 229.2709 - val_maed: 11.6846\n",
      "Epoch 43/100\n",
      "80/80 [==============================] - 16s 198ms/step - loss: 75.4034 - maed: 7.0151 - val_loss: 153.1687 - val_maed: 9.2473\n",
      "Epoch 44/100\n",
      "80/80 [==============================] - 14s 178ms/step - loss: 77.1098 - maed: 6.9652 - val_loss: 217.3523 - val_maed: 10.9540\n",
      "Epoch 45/100\n",
      "80/80 [==============================] - 14s 170ms/step - loss: 80.2583 - maed: 7.1594 - val_loss: 385.2768 - val_maed: 14.7057\n",
      "Epoch 46/100\n",
      "80/80 [==============================] - 15s 186ms/step - loss: 57.6340 - maed: 6.0067 - val_loss: 213.9147 - val_maed: 10.8415\n",
      "Epoch 47/100\n",
      "80/80 [==============================] - 15s 190ms/step - loss: 58.0192 - maed: 6.0537 - val_loss: 270.5074 - val_maed: 12.3591\n",
      "Epoch 48/100\n",
      "80/80 [==============================] - 16s 197ms/step - loss: 56.5111 - maed: 6.0211 - val_loss: 284.9508 - val_maed: 13.0567\n",
      "Epoch 49/100\n",
      "80/80 [==============================] - 15s 186ms/step - loss: 49.7079 - maed: 5.6233 - val_loss: 291.9623 - val_maed: 12.9841\n",
      "Epoch 50/100\n",
      "80/80 [==============================] - 16s 198ms/step - loss: 52.4629 - maed: 5.8467 - val_loss: 261.5223 - val_maed: 11.4653\n",
      "Epoch 51/100\n",
      "80/80 [==============================] - 15s 192ms/step - loss: 51.5799 - maed: 5.6905 - val_loss: 245.9466 - val_maed: 12.2917\n",
      "Epoch 52/100\n",
      "80/80 [==============================] - 15s 187ms/step - loss: 56.7433 - maed: 6.0145 - val_loss: 310.5433 - val_maed: 14.6370\n",
      "Epoch 53/100\n",
      "80/80 [==============================] - 15s 188ms/step - loss: 72.5121 - maed: 6.7675 - val_loss: 206.3270 - val_maed: 10.8350\n",
      "Epoch 54/100\n",
      "80/80 [==============================] - 15s 189ms/step - loss: 67.7815 - maed: 6.5847 - val_loss: 315.7069 - val_maed: 14.2329\n",
      "Epoch 55/100\n",
      "80/80 [==============================] - 15s 185ms/step - loss: 64.4941 - maed: 6.3928 - val_loss: 333.4894 - val_maed: 14.6731\n",
      "Epoch 56/100\n",
      "80/80 [==============================] - 14s 176ms/step - loss: 68.8048 - maed: 6.5955 - val_loss: 260.1451 - val_maed: 11.6461\n",
      "Epoch 57/100\n",
      "80/80 [==============================] - 15s 188ms/step - loss: 42.6481 - maed: 5.2579 - val_loss: 246.7044 - val_maed: 11.1145\n",
      "Epoch 58/100\n",
      "80/80 [==============================] - 15s 189ms/step - loss: 37.6386 - maed: 4.8927 - val_loss: 340.4188 - val_maed: 14.6841\n",
      "Epoch 59/100\n",
      "80/80 [==============================] - 16s 196ms/step - loss: 44.2202 - maed: 5.3534 - val_loss: 283.5308 - val_maed: 13.2254\n",
      "Epoch 60/100\n",
      "80/80 [==============================] - 15s 193ms/step - loss: 45.8696 - maed: 5.4161 - val_loss: 180.7983 - val_maed: 9.3275\n",
      "Epoch 61/100\n",
      "80/80 [==============================] - 14s 179ms/step - loss: 46.0767 - maed: 5.4483 - val_loss: 270.9092 - val_maed: 12.7660\n",
      "Epoch 62/100\n",
      "80/80 [==============================] - 15s 181ms/step - loss: 42.9692 - maed: 5.2595 - val_loss: 230.8091 - val_maed: 11.8305\n",
      "Epoch 63/100\n",
      "80/80 [==============================] - 15s 190ms/step - loss: 43.2678 - maed: 5.3329 - val_loss: 234.5709 - val_maed: 12.0382\n",
      "Epoch 64/100\n",
      "80/80 [==============================] - 15s 190ms/step - loss: 39.2965 - maed: 5.0228 - val_loss: 239.2963 - val_maed: 11.5319\n",
      "Epoch 65/100\n",
      "80/80 [==============================] - 16s 200ms/step - loss: 45.4260 - maed: 5.3871 - val_loss: 293.1084 - val_maed: 13.2700\n",
      "Epoch 66/100\n",
      "80/80 [==============================] - 15s 186ms/step - loss: 53.7048 - maed: 5.8646 - val_loss: 361.8699 - val_maed: 15.7288\n",
      "Epoch 67/100\n",
      "80/80 [==============================] - 16s 195ms/step - loss: 54.1693 - maed: 5.9382 - val_loss: 179.2347 - val_maed: 10.1731\n",
      "Epoch 68/100\n",
      "80/80 [==============================] - 16s 195ms/step - loss: 50.8585 - maed: 5.6650 - val_loss: 286.7297 - val_maed: 12.8619\n",
      "Epoch 69/100\n",
      "80/80 [==============================] - 14s 179ms/step - loss: 42.7246 - maed: 5.2062 - val_loss: 306.6983 - val_maed: 13.0645\n",
      "Epoch 70/100\n",
      "80/80 [==============================] - 15s 192ms/step - loss: 41.1321 - maed: 5.1170 - val_loss: 333.1225 - val_maed: 13.3489\n",
      "Epoch 71/100\n",
      "80/80 [==============================] - 15s 186ms/step - loss: 68.0187 - maed: 6.4398 - val_loss: 207.0743 - val_maed: 11.6243\n",
      "Epoch 72/100\n",
      "80/80 [==============================] - 15s 185ms/step - loss: 63.4473 - maed: 6.3507 - val_loss: 280.9378 - val_maed: 12.9892\n",
      "Epoch 73/100\n",
      "80/80 [==============================] - 15s 190ms/step - loss: 48.0749 - maed: 5.5415 - val_loss: 203.5408 - val_maed: 10.1492\n",
      "Epoch 74/100\n",
      "80/80 [==============================] - 16s 196ms/step - loss: 61.8957 - maed: 6.2337 - val_loss: 349.1158 - val_maed: 15.2026\n",
      "Epoch 75/100\n",
      "80/80 [==============================] - 15s 188ms/step - loss: 60.2562 - maed: 6.2084 - val_loss: 235.8245 - val_maed: 11.3856\n",
      "Epoch 76/100\n",
      "80/80 [==============================] - 15s 193ms/step - loss: 51.8949 - maed: 5.7941 - val_loss: 181.8740 - val_maed: 10.0523\n",
      "Epoch 77/100\n",
      "80/80 [==============================] - 15s 192ms/step - loss: 31.7431 - maed: 4.5077 - val_loss: 148.2025 - val_maed: 8.7596\n",
      "Epoch 78/100\n",
      "80/80 [==============================] - 15s 190ms/step - loss: 33.8316 - maed: 4.6356 - val_loss: 234.2771 - val_maed: 11.9348\n",
      "Epoch 79/100\n",
      "80/80 [==============================] - 15s 190ms/step - loss: 45.3378 - maed: 5.3424 - val_loss: 226.2820 - val_maed: 11.7282\n",
      "Epoch 80/100\n",
      "80/80 [==============================] - 16s 205ms/step - loss: 40.3307 - maed: 5.0419 - val_loss: 172.7557 - val_maed: 9.5256\n",
      "Epoch 81/100\n",
      "80/80 [==============================] - 15s 189ms/step - loss: 42.3706 - maed: 5.2352 - val_loss: 172.6133 - val_maed: 9.3827\n",
      "Epoch 82/100\n",
      "80/80 [==============================] - 15s 186ms/step - loss: 32.1815 - maed: 4.5125 - val_loss: 246.2019 - val_maed: 12.5835\n",
      "Epoch 83/100\n",
      "80/80 [==============================] - 16s 196ms/step - loss: 29.9075 - maed: 4.4139 - val_loss: 170.0367 - val_maed: 9.0565\n",
      "Epoch 84/100\n",
      "80/80 [==============================] - 15s 189ms/step - loss: 27.8112 - maed: 4.2565 - val_loss: 170.7362 - val_maed: 9.3716\n",
      "Epoch 85/100\n",
      "80/80 [==============================] - 17s 213ms/step - loss: 25.5362 - maed: 4.0369 - val_loss: 183.8666 - val_maed: 9.9532\n",
      "Epoch 86/100\n",
      "80/80 [==============================] - 16s 195ms/step - loss: 22.5593 - maed: 3.8231 - val_loss: 254.9647 - val_maed: 11.9086\n",
      "Epoch 87/100\n",
      "80/80 [==============================] - 15s 192ms/step - loss: 20.2621 - maed: 3.6069 - val_loss: 209.8094 - val_maed: 10.5045\n",
      "Epoch 88/100\n",
      "80/80 [==============================] - 15s 193ms/step - loss: 29.4512 - maed: 4.2980 - val_loss: 229.2488 - val_maed: 10.9350\n",
      "Epoch 89/100\n",
      "80/80 [==============================] - 16s 196ms/step - loss: 50.0922 - maed: 5.3646 - val_loss: 362.6227 - val_maed: 15.1546\n",
      "Epoch 90/100\n",
      "80/80 [==============================] - 16s 195ms/step - loss: 83.3950 - maed: 7.1821 - val_loss: 280.4274 - val_maed: 12.7397\n",
      "Epoch 91/100\n",
      "80/80 [==============================] - 14s 171ms/step - loss: 49.5177 - maed: 5.5696 - val_loss: 298.6908 - val_maed: 14.0279\n",
      "Epoch 92/100\n",
      "80/80 [==============================] - 16s 199ms/step - loss: 46.0307 - maed: 5.4714 - val_loss: 238.2590 - val_maed: 12.4490\n",
      "Epoch 93/100\n",
      "80/80 [==============================] - 15s 191ms/step - loss: 35.0911 - maed: 4.7369 - val_loss: 170.3669 - val_maed: 9.2885\n",
      "Epoch 94/100\n",
      "80/80 [==============================] - 15s 185ms/step - loss: 26.1001 - maed: 4.0802 - val_loss: 202.1471 - val_maed: 9.9829\n",
      "Epoch 95/100\n",
      "80/80 [==============================] - 16s 205ms/step - loss: 24.1014 - maed: 3.8855 - val_loss: 150.5553 - val_maed: 8.6269\n",
      "Epoch 96/100\n",
      "80/80 [==============================] - 16s 196ms/step - loss: 28.7094 - maed: 4.2653 - val_loss: 273.7664 - val_maed: 12.6280\n",
      "Epoch 97/100\n",
      "80/80 [==============================] - 15s 193ms/step - loss: 24.2797 - maed: 3.9522 - val_loss: 204.9657 - val_maed: 10.3144\n",
      "Epoch 98/100\n",
      "80/80 [==============================] - 15s 191ms/step - loss: 23.3806 - maed: 3.9122 - val_loss: 215.9181 - val_maed: 11.2635\n",
      "Epoch 99/100\n",
      "80/80 [==============================] - 16s 201ms/step - loss: 20.3338 - maed: 3.5731 - val_loss: 220.7055 - val_maed: 10.9086\n",
      "Epoch 100/100\n",
      "80/80 [==============================] - 16s 202ms/step - loss: 24.3422 - maed: 3.9402 - val_loss: 202.6933 - val_maed: 10.2131\n"
     ]
    },
    {
     "data": {
      "text/plain": [
       "<tensorflow.python.keras.callbacks.History at 0x265c360ea48>"
      ]
     },
     "execution_count": 8,
     "metadata": {},
     "output_type": "execute_result"
    }
   ],
   "source": [
    "model.fit(train_gen,\n",
    "          epochs=100,\n",
    "          callbacks=callbacks,\n",
    "          validation_data=val_gen,\n",
    "          validation_freq=1,\n",
    "          #use_multiprocessing=True,\n",
    "          workers=10,\n",
    "          max_queue_size=32)"
   ]
  },
  {
   "cell_type": "markdown",
   "metadata": {},
   "source": [
    "# Evaluation\n",
    "Evaluate the trained network"
   ]
  },
  {
   "cell_type": "code",
   "execution_count": 9,
   "metadata": {
    "scrolled": true
   },
   "outputs": [
    {
     "data": {
      "image/png": "[encoded data removed]",
      "text/plain": [
       "<Figure size 432x288 with 1 Axes>"
      ]
     },
     "metadata": {
      "needs_background": "light"
     },
     "output_type": "display_data"
    }
   ],
   "source": [
    "X, y = val_gen[0]\n",
    "\n",
    "y_pred = model.predict(X)\n",
    "\n",
    "u_x = y_pred[0,:,:,0]\n",
    "u_y = y_pred[0,:,:,1]\n",
    "\n",
    "plt.imshow(y_pred[0,:,:,0], cmap=\"gray\")\n",
    "\n",
    "plt.imsave(store_path + \"/u_x.png\", u_x, cmap=\"gray\")\n",
    "plt.imsave(store_path + \"/u_y.png\", u_y, cmap=\"gray\")\n",
    "\n",
    "u_x.dump(store_path + \"/u_x\")\n",
    "u_y.dump(store_path + \"/u_y\")\n",
    "\n",
    "warp = np.zeros((width, height))\n",
    "\n",
    "for index in range(0,grid_width*grid_height):\n",
    "    x_pos = int(y[0, index, 0, 0])\n",
    "    y_pos = int(y[0, index, 1, 0])\n",
    "    \n",
    "    plot_cube(warp, x_pos, y_pos, 1) #blue\n",
    "    \n",
    "    ux_field = y_pred[0,:,:,0]\n",
    "    uy_field = y_pred[0,:,:,1]\n",
    "    \n",
    "    ux = ux_field[y_pos][x_pos]\n",
    "    uy = uy_field[y_pos][x_pos]\n",
    "    \n",
    "    x_pos = int(round(x_pos + ux))\n",
    "    y_pos = int(round(y_pos + uy))\n",
    "            \n",
    "    plot_cube(warp, x_pos, y_pos, 2) #green    \n",
    "    \n",
    "    x_pos = int(y[0, index, 0, 1])\n",
    "    y_pos = int(y[0, index, 1, 1])\n",
    "    \n",
    "    plot_cube(warp, x_pos, y_pos, 3) #yellow    \n",
    "    \n",
    "plt.imshow(warp)\n",
    "plt.imsave(store_path + \"/warp.png\", warp)"
   ]
  },
  {
   "cell_type": "markdown",
   "metadata": {},
   "source": [
    "# 8.4) Supervised Euclidean for LASTEN2_50\n",
    "A U-Net is trained here to predict a displacement field and the euclidean distance is taken as error."
   ]
  },
  {
   "cell_type": "markdown",
   "metadata": {
    "pycharm": {
     "name": "#%% md\n"
    }
   },
   "source": [
    "# Data\n",
    "Import training images"
   ]
  },
  {
   "cell_type": "code",
   "execution_count": 10,
   "metadata": {
    "pycharm": {
     "name": "#%%\n"
    }
   },
   "outputs": [],
   "source": [
    "tf.keras.backend.clear_session()\n",
    "\n",
    "store_path = '../results/8_4_euclidean'\n",
    "\n",
    "#path_fixed = '/home/julian/Documents/Studium/MT-Masterarbeit/Data/LASTEN2_50/fix'\n",
    "#path_train = '/home/julian/Documents/Studium/MT-Masterarbeit/Data/LASTEN2_50/train'\n",
    "#path_validation = '/home/julian/Documents/Studium/MT-Masterarbeit/Data/LASTEN2_50/validation'\n",
    "#path_test = '/home/julian/Documents/Studium/MT-Masterarbeit/Data/LASTEN2_50/test'\n",
    "\n",
    "path_fixed = r'D:\\Julian\\data\\LASTEN2_50\\fix'\n",
    "path_train = r'D:\\Julian\\data\\LASTEN2_50\\train'\n",
    "path_validation = r'D:\\Julian\\data\\LASTEN2_50\\validation'\n",
    "path_test = r'D:\\Julian\\data\\LASTEN2_50\\test'\n",
    "\n",
    "width = 384\n",
    "height = 384\n",
    "\n",
    "grid_width = 18\n",
    "grid_height = 18"
   ]
  },
  {
   "cell_type": "markdown",
   "metadata": {
    "pycharm": {
     "name": "#%% md\n"
    }
   },
   "source": [
    "# Seeding\n",
    "Seeds are set to ensure reproducible training."
   ]
  },
  {
   "cell_type": "code",
   "execution_count": 11,
   "metadata": {
    "pycharm": {
     "name": "#%%\n"
    }
   },
   "outputs": [],
   "source": [
    "SEED = 42\n",
    "np.random.seed(SEED)\n",
    "tf.random.set_seed(SEED)\n",
    "random.seed(SEED)"
   ]
  },
  {
   "cell_type": "markdown",
   "metadata": {
    "pycharm": {
     "name": "#%% md\n"
    }
   },
   "source": [
    "# Network\n",
    "A U-Net based network is instantiated with keras to run a semantic segmentation."
   ]
  },
  {
   "cell_type": "code",
   "execution_count": 12,
   "metadata": {
    "pycharm": {
     "name": "#%%\n"
    }
   },
   "outputs": [],
   "source": [
    "model = UNet(filters=32, layers=4, activation='linear', classes=2, input_shape=(width, height, 2))"
   ]
  },
  {
   "cell_type": "markdown",
   "metadata": {
    "pycharm": {
     "name": "#%% md\n"
    }
   },
   "source": [
    "# Training Preparation\n",
    "Prepare the settings for training the model."
   ]
  },
  {
   "cell_type": "code",
   "execution_count": 13,
   "metadata": {
    "scrolled": true
   },
   "outputs": [
    {
     "name": "stdout",
     "output_type": "stream",
     "text": [
      "WARNING:tensorflow:`period` argument is deprecated. Please use `save_freq` to specify the frequency in number of samples seen.\n"
     ]
    }
   ],
   "source": [
    "batch_size=4\n",
    "\n",
    "train_gen = LASTENSequence(path_train,\n",
    "                           path_fixed,\n",
    "                           batch_size=batch_size,\n",
    "                           width=width,\n",
    "                           height=height,\n",
    "                           grid_width=grid_width, \n",
    "                           grid_height=grid_height,\n",
    "                           preprocess_input=pre_une,\n",
    "                           shuffle=True,\n",
    "                           label=\"keypoints\",\n",
    "                           channel=\"moving+fixed\")\n",
    "\n",
    "val_gen = LASTENSequence(path_validation,\n",
    "                           path_fixed,\n",
    "                           batch_size=batch_size,\n",
    "                           width=width,\n",
    "                           height=height,\n",
    "                           grid_width=grid_width, \n",
    "                           grid_height=grid_height,\n",
    "                           preprocess_input=pre_une,\n",
    "                           shuffle=False,\n",
    "                           label=\"keypoints\",\n",
    "                           channel=\"moving+fixed\")\n",
    "\n",
    "logger = CSVLogger(store_path + \"/log\")\n",
    "timelogger = ccall.TimeHistory(store_path)\n",
    "checker = ModelCheckpoint(store_path + \"/weights.{epoch:02d}.hdf5\", period=10)\n",
    "checker_best = ModelCheckpoint(store_path + \"/best_weights.hdf5\", save_best_only=True)\n",
    "callbacks = [timelogger, logger, checker, checker_best]\n",
    "\n",
    "eu_loss = closs.EuclideanLoss(batch_size=batch_size, grid_width=grid_width, grid_height=grid_height, loss_type='msed')\n",
    "eu_met = closs.EuclideanLoss(batch_size=batch_size, grid_width=grid_width, grid_height=grid_height, loss_type='maed')\n",
    "\n",
    "model.compile(optimizer='adam', loss=eu_loss, metrics=[eu_met])"
   ]
  },
  {
   "cell_type": "markdown",
   "metadata": {},
   "source": [
    "# Training\n",
    "Run the training."
   ]
  },
  {
   "cell_type": "code",
   "execution_count": 14,
   "metadata": {
    "pycharm": {
     "name": "#%%\n"
    },
    "scrolled": true
   },
   "outputs": [
    {
     "name": "stdout",
     "output_type": "stream",
     "text": [
      "WARNING:tensorflow:sample_weight modes were coerced from\n",
      "  ...\n",
      "    to  \n",
      "  ['...']\n",
      "WARNING:tensorflow:sample_weight modes were coerced from\n",
      "  ...\n",
      "    to  \n",
      "  ['...']\n",
      "Train for 80 steps, validate for 10 steps\n",
      "Epoch 1/100\n"
     ]
    },
    {
     "name": "stderr",
     "output_type": "stream",
     "text": [
      "C:\\Users\\zilkerjn\\AppData\\Local\\Continuum\\anaconda3\\envs\\tf2-gpu\\lib\\site-packages\\tensorflow_core\\python\\framework\\indexed_slices.py:433: UserWarning: Converting sparse IndexedSlices to a dense Tensor of unknown shape. This may consume a large amount of memory.\n",
      "  \"Converting sparse IndexedSlices to a dense Tensor of unknown shape. \"\n",
      "C:\\Users\\zilkerjn\\AppData\\Local\\Continuum\\anaconda3\\envs\\tf2-gpu\\lib\\site-packages\\tensorflow_core\\python\\framework\\indexed_slices.py:433: UserWarning: Converting sparse IndexedSlices to a dense Tensor of unknown shape. This may consume a large amount of memory.\n",
      "  \"Converting sparse IndexedSlices to a dense Tensor of unknown shape. \"\n",
      "C:\\Users\\zilkerjn\\AppData\\Local\\Continuum\\anaconda3\\envs\\tf2-gpu\\lib\\site-packages\\tensorflow_core\\python\\framework\\indexed_slices.py:433: UserWarning: Converting sparse IndexedSlices to a dense Tensor of unknown shape. This may consume a large amount of memory.\n",
      "  \"Converting sparse IndexedSlices to a dense Tensor of unknown shape. \"\n",
      "C:\\Users\\zilkerjn\\AppData\\Local\\Continuum\\anaconda3\\envs\\tf2-gpu\\lib\\site-packages\\tensorflow_core\\python\\framework\\indexed_slices.py:433: UserWarning: Converting sparse IndexedSlices to a dense Tensor of unknown shape. This may consume a large amount of memory.\n",
      "  \"Converting sparse IndexedSlices to a dense Tensor of unknown shape. \"\n",
      "C:\\Users\\zilkerjn\\AppData\\Local\\Continuum\\anaconda3\\envs\\tf2-gpu\\lib\\site-packages\\tensorflow_core\\python\\framework\\indexed_slices.py:433: UserWarning: Converting sparse IndexedSlices to a dense Tensor of unknown shape. This may consume a large amount of memory.\n",
      "  \"Converting sparse IndexedSlices to a dense Tensor of unknown shape. \"\n",
      "C:\\Users\\zilkerjn\\AppData\\Local\\Continuum\\anaconda3\\envs\\tf2-gpu\\lib\\site-packages\\tensorflow_core\\python\\framework\\indexed_slices.py:433: UserWarning: Converting sparse IndexedSlices to a dense Tensor of unknown shape. This may consume a large amount of memory.\n",
      "  \"Converting sparse IndexedSlices to a dense Tensor of unknown shape. \"\n",
      "C:\\Users\\zilkerjn\\AppData\\Local\\Continuum\\anaconda3\\envs\\tf2-gpu\\lib\\site-packages\\tensorflow_core\\python\\framework\\indexed_slices.py:433: UserWarning: Converting sparse IndexedSlices to a dense Tensor of unknown shape. This may consume a large amount of memory.\n",
      "  \"Converting sparse IndexedSlices to a dense Tensor of unknown shape. \"\n",
      "C:\\Users\\zilkerjn\\AppData\\Local\\Continuum\\anaconda3\\envs\\tf2-gpu\\lib\\site-packages\\tensorflow_core\\python\\framework\\indexed_slices.py:433: UserWarning: Converting sparse IndexedSlices to a dense Tensor of unknown shape. This may consume a large amount of memory.\n",
      "  \"Converting sparse IndexedSlices to a dense Tensor of unknown shape. \"\n"
     ]
    },
    {
     "name": "stdout",
     "output_type": "stream",
     "text": [
      "80/80 [==============================] - 24s 295ms/step - loss: 2071.1192 - maed: 38.2495 - val_loss: 121211.5000 - val_maed: 302.8569\n",
      "Epoch 2/100\n",
      "80/80 [==============================] - 16s 202ms/step - loss: 1309.2786 - maed: 29.0262 - val_loss: 26972.5172 - val_maed: 128.2192\n",
      "Epoch 3/100\n",
      "80/80 [==============================] - 16s 200ms/step - loss: 943.8048 - maed: 24.0710 - val_loss: 16349.4615 - val_maed: 111.6780\n",
      "Epoch 4/100\n",
      "80/80 [==============================] - 18s 220ms/step - loss: 831.6401 - maed: 22.5180 - val_loss: 1014.7472 - val_maed: 28.2807\n",
      "Epoch 5/100\n",
      "80/80 [==============================] - 16s 202ms/step - loss: 737.2461 - maed: 21.1157 - val_loss: 1735.3029 - val_maed: 35.9202\n",
      "Epoch 6/100\n",
      "80/80 [==============================] - 15s 193ms/step - loss: 606.4652 - maed: 18.9135 - val_loss: 1166.2818 - val_maed: 30.5802\n",
      "Epoch 7/100\n",
      "80/80 [==============================] - 16s 205ms/step - loss: 539.2705 - maed: 17.8418 - val_loss: 458.3213 - val_maed: 18.7441\n",
      "Epoch 8/100\n",
      "80/80 [==============================] - 15s 182ms/step - loss: 503.2505 - maed: 17.1004 - val_loss: 2402.6921 - val_maed: 44.7522\n",
      "Epoch 9/100\n",
      "80/80 [==============================] - 16s 205ms/step - loss: 506.7146 - maed: 17.1563 - val_loss: 969.0623 - val_maed: 27.5857\n",
      "Epoch 10/100\n",
      "80/80 [==============================] - 17s 207ms/step - loss: 451.1253 - maed: 16.2311 - val_loss: 366.9623 - val_maed: 15.7046\n",
      "Epoch 11/100\n",
      "80/80 [==============================] - 15s 192ms/step - loss: 377.2329 - maed: 14.5052 - val_loss: 520.6675 - val_maed: 18.77711.3211 - ETA: 3s - loss: 397.8 - ETA: 1s - loss: 391.2676 - maed\n",
      "Epoch 12/100\n",
      "80/80 [==============================] - 16s 199ms/step - loss: 331.0271 - maed: 13.6403 - val_loss: 1343.6537 - val_maed: 31.4582\n",
      "Epoch 13/100\n",
      "80/80 [==============================] - 14s 173ms/step - loss: 333.6024 - maed: 13.9459 - val_loss: 284.8265 - val_maed: 14.2103\n",
      "Epoch 14/100\n",
      "80/80 [==============================] - 17s 208ms/step - loss: 290.0545 - maed: 12.8385 - val_loss: 762.3864 - val_maed: 24.0591\n",
      "Epoch 15/100\n",
      "80/80 [==============================] - 15s 194ms/step - loss: 268.6146 - maed: 12.5306 - val_loss: 707.4416 - val_maed: 21.1069\n",
      "Epoch 16/100\n",
      "80/80 [==============================] - 15s 191ms/step - loss: 266.7711 - maed: 12.6059 - val_loss: 346.5283 - val_maed: 15.5602\n",
      "Epoch 17/100\n",
      "80/80 [==============================] - 16s 203ms/step - loss: 246.7501 - maed: 11.9191 - val_loss: 291.6442 - val_maed: 12.8367\n",
      "Epoch 18/100\n",
      "80/80 [==============================] - 15s 189ms/step - loss: 218.2111 - maed: 11.2991 - val_loss: 756.1905 - val_maed: 22.3003\n",
      "Epoch 19/100\n",
      "80/80 [==============================] - 16s 196ms/step - loss: 215.0796 - maed: 11.1741 - val_loss: 469.8458 - val_maed: 18.0889\n",
      "Epoch 20/100\n",
      "80/80 [==============================] - 17s 214ms/step - loss: 196.3685 - maed: 10.8134 - val_loss: 333.9684 - val_maed: 15.2750\n",
      "Epoch 21/100\n",
      "80/80 [==============================] - 16s 204ms/step - loss: 173.5563 - maed: 10.1286 - val_loss: 306.4088 - val_maed: 13.3285\n",
      "Epoch 22/100\n",
      "80/80 [==============================] - 16s 195ms/step - loss: 170.3244 - maed: 9.9934 - val_loss: 529.8575 - val_maed: 19.8607\n",
      "Epoch 23/100\n",
      "80/80 [==============================] - 15s 184ms/step - loss: 171.6905 - maed: 10.0223 - val_loss: 358.1972 - val_maed: 15.9590\n",
      "Epoch 24/100\n",
      "80/80 [==============================] - 16s 199ms/step - loss: 128.3327 - maed: 8.6515 - val_loss: 252.0755 - val_maed: 12.3725\n",
      "Epoch 25/100\n",
      "80/80 [==============================] - 16s 197ms/step - loss: 117.0356 - maed: 8.3016 - val_loss: 348.6659 - val_maed: 15.1780\n",
      "Epoch 26/100\n",
      "80/80 [==============================] - 16s 201ms/step - loss: 166.4199 - maed: 10.0224 - val_loss: 232.0958 - val_maed: 12.0544\n",
      "Epoch 27/100\n",
      "80/80 [==============================] - 16s 197ms/step - loss: 127.0823 - maed: 8.6324 - val_loss: 249.4876 - val_maed: 11.8436\n",
      "Epoch 28/100\n",
      "80/80 [==============================] - 16s 199ms/step - loss: 111.0750 - maed: 8.2199 - val_loss: 265.5129 - val_maed: 12.6140\n",
      "Epoch 29/100\n",
      "80/80 [==============================] - 16s 198ms/step - loss: 104.6888 - maed: 7.9933 - val_loss: 225.4259 - val_maed: 11.6202\n",
      "Epoch 30/100\n",
      "80/80 [==============================] - 16s 195ms/step - loss: 122.5847 - maed: 8.6191 - val_loss: 402.0920 - val_maed: 16.3780\n",
      "Epoch 31/100\n",
      "80/80 [==============================] - 16s 198ms/step - loss: 105.3625 - maed: 7.9877 - val_loss: 303.5135 - val_maed: 13.1088\n",
      "Epoch 32/100\n",
      "80/80 [==============================] - 15s 184ms/step - loss: 79.4878 - maed: 6.9091 - val_loss: 245.3411 - val_maed: 11.5995\n",
      "Epoch 33/100\n",
      "80/80 [==============================] - 17s 208ms/step - loss: 85.2619 - maed: 7.2041 - val_loss: 432.3582 - val_maed: 15.8763\n",
      "Epoch 34/100\n",
      "80/80 [==============================] - 17s 208ms/step - loss: 90.2552 - maed: 7.3887 - val_loss: 167.9602 - val_maed: 10.6806\n",
      "Epoch 35/100\n",
      "80/80 [==============================] - 15s 190ms/step - loss: 79.3515 - maed: 6.9173 - val_loss: 199.2254 - val_maed: 10.5597\n",
      "Epoch 36/100\n",
      "80/80 [==============================] - 15s 193ms/step - loss: 70.6339 - maed: 6.6869 - val_loss: 313.2012 - val_maed: 13.3972\n",
      "Epoch 37/100\n",
      "80/80 [==============================] - 16s 202ms/step - loss: 63.3720 - maed: 6.1523 - val_loss: 206.7977 - val_maed: 10.9921\n",
      "Epoch 38/100\n",
      "80/80 [==============================] - 16s 206ms/step - loss: 68.2309 - maed: 6.5013 - val_loss: 237.0691 - val_maed: 11.1164\n",
      "Epoch 39/100\n",
      "80/80 [==============================] - 16s 206ms/step - loss: 64.7108 - maed: 6.3288 - val_loss: 220.4058 - val_maed: 11.0989\n",
      "Epoch 40/100\n",
      "80/80 [==============================] - 18s 228ms/step - loss: 60.8332 - maed: 6.0933 - val_loss: 142.1494 - val_maed: 9.0694\n",
      "Epoch 41/100\n",
      "80/80 [==============================] - 16s 204ms/step - loss: 135.1096 - maed: 8.9977 - val_loss: 324.2901 - val_maed: 15.2180\n",
      "Epoch 42/100\n",
      "80/80 [==============================] - 16s 201ms/step - loss: 97.8977 - maed: 7.6892 - val_loss: 296.8574 - val_maed: 14.7851\n",
      "Epoch 43/100\n",
      "80/80 [==============================] - 19s 241ms/step - loss: 56.7857 - maed: 5.8982 - val_loss: 209.4774 - val_maed: 10.9262\n",
      "Epoch 44/100\n",
      "80/80 [==============================] - 16s 200ms/step - loss: 44.0547 - maed: 5.2257 - val_loss: 200.6521 - val_maed: 10.7762\n",
      "Epoch 45/100\n",
      "80/80 [==============================] - 16s 201ms/step - loss: 46.2507 - maed: 5.3344 - val_loss: 211.8197 - val_maed: 11.6491\n",
      "Epoch 46/100\n",
      "80/80 [==============================] - 17s 208ms/step - loss: 73.6310 - maed: 6.7269 - val_loss: 373.0039 - val_maed: 15.1137\n",
      "Epoch 47/100\n",
      "80/80 [==============================] - 16s 203ms/step - loss: 81.1883 - maed: 7.0791 - val_loss: 346.2701 - val_maed: 13.6843\n",
      "Epoch 48/100\n",
      "80/80 [==============================] - 16s 202ms/step - loss: 48.3288 - maed: 5.4043 - val_loss: 177.1497 - val_maed: 10.2198\n",
      "Epoch 49/100\n",
      "80/80 [==============================] - 16s 205ms/step - loss: 53.9769 - maed: 5.7706 - val_loss: 295.2299 - val_maed: 13.0225\n",
      "Epoch 50/100\n",
      "80/80 [==============================] - 15s 193ms/step - loss: 44.2007 - maed: 5.2261 - val_loss: 265.1996 - val_maed: 11.4674\n",
      "Epoch 51/100\n",
      "80/80 [==============================] - 15s 193ms/step - loss: 50.6787 - maed: 5.6192 - val_loss: 215.5518 - val_maed: 10.6919\n",
      "Epoch 52/100\n",
      "80/80 [==============================] - 16s 205ms/step - loss: 49.4098 - maed: 5.5304 - val_loss: 204.9156 - val_maed: 10.7959\n",
      "Epoch 53/100\n",
      "80/80 [==============================] - 17s 207ms/step - loss: 39.9309 - maed: 4.9678 - val_loss: 274.3250 - val_maed: 12.0590\n",
      "Epoch 54/100\n",
      "80/80 [==============================] - 16s 199ms/step - loss: 44.3290 - maed: 5.2199 - val_loss: 182.4900 - val_maed: 10.4547\n",
      "Epoch 55/100\n",
      "80/80 [==============================] - 16s 203ms/step - loss: 44.1754 - maed: 5.2758 - val_loss: 180.0122 - val_maed: 9.7485\n",
      "Epoch 56/100\n",
      "80/80 [==============================] - 16s 204ms/step - loss: 38.2956 - maed: 4.8921 - val_loss: 231.8950 - val_maed: 11.0515\n",
      "Epoch 57/100\n",
      "80/80 [==============================] - 17s 207ms/step - loss: 36.9846 - maed: 4.8030 - val_loss: 278.1439 - val_maed: 14.0108\n",
      "Epoch 58/100\n",
      "80/80 [==============================] - 17s 217ms/step - loss: 46.5834 - maed: 5.3096 - val_loss: 236.7333 - val_maed: 11.9586\n",
      "Epoch 59/100\n",
      "80/80 [==============================] - 17s 206ms/step - loss: 50.1160 - maed: 5.5389 - val_loss: 221.2815 - val_maed: 11.6801\n",
      "Epoch 60/100\n",
      "80/80 [==============================] - 18s 229ms/step - loss: 41.0025 - maed: 5.0421 - val_loss: 217.0723 - val_maed: 11.6247\n",
      "Epoch 61/100\n",
      "80/80 [==============================] - 16s 205ms/step - loss: 39.6584 - maed: 4.9650 - val_loss: 123.0822 - val_maed: 8.3455\n",
      "Epoch 62/100\n",
      "80/80 [==============================] - 16s 206ms/step - loss: 42.8651 - maed: 5.1379 - val_loss: 189.4708 - val_maed: 10.7126\n",
      "Epoch 63/100\n",
      "80/80 [==============================] - 16s 203ms/step - loss: 46.5723 - maed: 5.3931 - val_loss: 294.8951 - val_maed: 12.8135\n",
      "Epoch 64/100\n",
      "80/80 [==============================] - 16s 204ms/step - loss: 45.4850 - maed: 5.3040 - val_loss: 167.2822 - val_maed: 9.9388\n",
      "Epoch 65/100\n",
      "80/80 [==============================] - 15s 190ms/step - loss: 42.2880 - maed: 5.1075 - val_loss: 167.6002 - val_maed: 9.7780\n",
      "Epoch 66/100\n",
      "80/80 [==============================] - 17s 214ms/step - loss: 37.0759 - maed: 4.7812 - val_loss: 220.9762 - val_maed: 10.4618\n",
      "Epoch 67/100\n",
      "80/80 [==============================] - 17s 216ms/step - loss: 37.9385 - maed: 4.9458 - val_loss: 180.7815 - val_maed: 10.3472\n",
      "Epoch 68/100\n",
      "80/80 [==============================] - 17s 210ms/step - loss: 38.8547 - maed: 4.9057 - val_loss: 207.1900 - val_maed: 10.6315\n",
      "Epoch 69/100\n",
      "80/80 [==============================] - 20s 251ms/step - loss: 48.1066 - maed: 5.4364 - val_loss: 215.5379 - val_maed: 11.6062\n",
      "Epoch 70/100\n",
      "80/80 [==============================] - 18s 220ms/step - loss: 36.9848 - maed: 4.7988 - val_loss: 184.3623 - val_maed: 9.6110\n",
      "Epoch 71/100\n",
      "80/80 [==============================] - 17s 208ms/step - loss: 41.5056 - maed: 5.1154 - val_loss: 200.6439 - val_maed: 9.8121\n",
      "Epoch 72/100\n",
      "80/80 [==============================] - 17s 214ms/step - loss: 40.9514 - maed: 4.9949 - val_loss: 175.7641 - val_maed: 10.0487\n",
      "Epoch 73/100\n",
      "80/80 [==============================] - 21s 264ms/step - loss: 32.9611 - maed: 4.5299 - val_loss: 197.1065 - val_maed: 10.2334\n",
      "Epoch 74/100\n",
      "80/80 [==============================] - 17s 208ms/step - loss: 29.4849 - maed: 4.2813 - val_loss: 219.2901 - val_maed: 10.4189\n",
      "Epoch 75/100\n",
      "80/80 [==============================] - 17s 213ms/step - loss: 23.9133 - maed: 3.8647 - val_loss: 172.8084 - val_maed: 9.0305\n",
      "Epoch 76/100\n",
      "80/80 [==============================] - 16s 197ms/step - loss: 25.7406 - maed: 4.0379 - val_loss: 279.1164 - val_maed: 13.0023\n",
      "Epoch 77/100\n",
      "80/80 [==============================] - 17s 214ms/step - loss: 29.0954 - maed: 4.2687 - val_loss: 175.0543 - val_maed: 9.6960\n",
      "Epoch 78/100\n",
      "80/80 [==============================] - 17s 211ms/step - loss: 31.5800 - maed: 4.4500 - val_loss: 276.9567 - val_maed: 13.4049\n",
      "Epoch 79/100\n",
      "80/80 [==============================] - 17s 207ms/step - loss: 49.3137 - maed: 5.4154 - val_loss: 165.5010 - val_maed: 9.6139\n",
      "Epoch 80/100\n",
      "80/80 [==============================] - 18s 222ms/step - loss: 55.5196 - maed: 5.7069 - val_loss: 184.7995 - val_maed: 10.7564\n",
      "Epoch 81/100\n",
      "80/80 [==============================] - 17s 210ms/step - loss: 58.5693 - maed: 6.1044 - val_loss: 341.8417 - val_maed: 14.2018.3424 - \n",
      "Epoch 82/100\n",
      "80/80 [==============================] - 16s 196ms/step - loss: 35.1932 - maed: 4.6240 - val_loss: 166.5569 - val_maed: 9.2619\n",
      "Epoch 83/100\n",
      "80/80 [==============================] - 16s 194ms/step - loss: 24.1041 - maed: 3.8805 - val_loss: 214.8020 - val_maed: 10.6582\n",
      "Epoch 84/100\n",
      "80/80 [==============================] - 16s 202ms/step - loss: 23.5983 - maed: 3.8729 - val_loss: 187.2442 - val_maed: 10.2382\n",
      "Epoch 85/100\n",
      "80/80 [==============================] - 17s 207ms/step - loss: 26.8501 - maed: 4.1372 - val_loss: 194.6693 - val_maed: 10.4616\n",
      "Epoch 86/100\n",
      "80/80 [==============================] - 17s 210ms/step - loss: 25.8659 - maed: 4.0207 - val_loss: 197.9534 - val_maed: 9.9603\n",
      "Epoch 87/100\n",
      "80/80 [==============================] - 19s 240ms/step - loss: 31.3380 - maed: 4.4420 - val_loss: 165.5284 - val_maed: 9.3741\n",
      "Epoch 88/100\n",
      "80/80 [==============================] - 17s 214ms/step - loss: 26.3496 - maed: 4.0425 - val_loss: 218.6869 - val_maed: 10.4832\n",
      "Epoch 89/100\n",
      "80/80 [==============================] - 17s 207ms/step - loss: 20.8579 - maed: 3.6284 - val_loss: 165.1918 - val_maed: 9.4448\n",
      "Epoch 90/100\n",
      "80/80 [==============================] - 17s 208ms/step - loss: 27.0785 - maed: 4.1602 - val_loss: 207.0171 - val_maed: 9.8625\n",
      "Epoch 91/100\n",
      "80/80 [==============================] - 17s 214ms/step - loss: 26.3842 - maed: 4.0577 - val_loss: 182.6888 - val_maed: 9.4479\n",
      "Epoch 92/100\n",
      "80/80 [==============================] - 17s 215ms/step - loss: 29.9194 - maed: 4.2764 - val_loss: 213.6831 - val_maed: 10.7917\n",
      "Epoch 93/100\n",
      "80/80 [==============================] - 18s 221ms/step - loss: 19.6223 - maed: 3.4965 - val_loss: 188.6486 - val_maed: 9.4438\n",
      "Epoch 94/100\n",
      "80/80 [==============================] - 17s 207ms/step - loss: 22.0590 - maed: 3.6895 - val_loss: 175.8897 - val_maed: 9.5081\n",
      "Epoch 95/100\n",
      "80/80 [==============================] - 17s 212ms/step - loss: 27.5470 - maed: 4.0817 - val_loss: 168.7629 - val_maed: 10.1041\n",
      "Epoch 96/100\n",
      "80/80 [==============================] - 17s 211ms/step - loss: 27.6469 - maed: 4.1861 - val_loss: 158.4625 - val_maed: 9.4737\n",
      "Epoch 97/100\n",
      "80/80 [==============================] - 18s 220ms/step - loss: 29.6146 - maed: 4.2927 - val_loss: 147.3627 - val_maed: 9.0232\n",
      "Epoch 98/100\n",
      "80/80 [==============================] - 17s 208ms/step - loss: 28.9018 - maed: 4.2498 - val_loss: 210.7328 - val_maed: 10.8567\n",
      "Epoch 99/100\n",
      "80/80 [==============================] - 17s 211ms/step - loss: 22.3661 - maed: 3.7208 - val_loss: 163.4932 - val_maed: 9.2768\n",
      "Epoch 100/100\n",
      "80/80 [==============================] - 17s 210ms/step - loss: 28.2389 - maed: 4.2244 - val_loss: 148.9672 - val_maed: 8.8488\n"
     ]
    },
    {
     "data": {
      "text/plain": [
       "<tensorflow.python.keras.callbacks.History at 0x265d3806188>"
      ]
     },
     "execution_count": 14,
     "metadata": {},
     "output_type": "execute_result"
    }
   ],
   "source": [
    "model.fit(train_gen,\n",
    "          epochs=100,\n",
    "          callbacks=callbacks,\n",
    "          validation_data=val_gen,\n",
    "          validation_freq=1,\n",
    "          #use_multiprocessing=True,\n",
    "          workers=10,\n",
    "          max_queue_size=32)"
   ]
  },
  {
   "cell_type": "markdown",
   "metadata": {},
   "source": [
    "# Evaluation\n",
    "Evaluate the trained network"
   ]
  },
  {
   "cell_type": "code",
   "execution_count": 15,
   "metadata": {
    "scrolled": true
   },
   "outputs": [
    {
     "data": {
      "image/png": "[encoded data removed]",
      "text/plain": [
       "<Figure size 432x288 with 1 Axes>"
      ]
     },
     "metadata": {
      "needs_background": "light"
     },
     "output_type": "display_data"
    }
   ],
   "source": [
    "X, y = val_gen[0]\n",
    "\n",
    "y_pred = model.predict(X)\n",
    "\n",
    "u_x = y_pred[0,:,:,0]\n",
    "u_y = y_pred[0,:,:,1]\n",
    "\n",
    "plt.imshow(y_pred[0,:,:,0], cmap=\"gray\")\n",
    "\n",
    "plt.imsave(store_path + \"/u_x.png\", u_x, cmap=\"gray\")\n",
    "plt.imsave(store_path + \"/u_y.png\", u_y, cmap=\"gray\")\n",
    "\n",
    "u_x.dump(store_path + \"/u_x\")\n",
    "u_y.dump(store_path + \"/u_y\")\n",
    "\n",
    "warp = np.zeros((width, height))\n",
    "\n",
    "for index in range(0,grid_width*grid_height):\n",
    "    x_pos = int(y[0, index, 0, 0])\n",
    "    y_pos = int(y[0, index, 1, 0])\n",
    "    \n",
    "    plot_cube(warp, x_pos, y_pos, 1) #blue\n",
    "    \n",
    "    ux_field = y_pred[0,:,:,0]\n",
    "    uy_field = y_pred[0,:,:,1]\n",
    "    \n",
    "    ux = ux_field[y_pos][x_pos]\n",
    "    uy = uy_field[y_pos][x_pos]\n",
    "    \n",
    "    x_pos = int(round(x_pos + ux))\n",
    "    y_pos = int(round(y_pos + uy))\n",
    "            \n",
    "    plot_cube(warp, x_pos, y_pos, 2) #green    \n",
    "    \n",
    "    x_pos = int(y[0, index, 0, 1])\n",
    "    y_pos = int(y[0, index, 1, 1])\n",
    "    \n",
    "    plot_cube(warp, x_pos, y_pos, 3) #yellow    \n",
    "    \n",
    "plt.imshow(warp)\n",
    "plt.imsave(store_path + \"/warp.png\", warp)"
   ]
  }
 ],
 "metadata": {
  "kernelspec": {
   "display_name": "Python 3",
   "language": "python",
   "name": "python3"
  },
  "language_info": {
   "codemirror_mode": {
    "name": "ipython",
    "version": 3
   },
   "file_extension": ".py",
   "mimetype": "text/x-python",
   "name": "python",
   "nbconvert_exporter": "python",
   "pygments_lexer": "ipython3",
   "version": "3.8.2"
  }
 },
 "nbformat": 4,
 "nbformat_minor": 4
}

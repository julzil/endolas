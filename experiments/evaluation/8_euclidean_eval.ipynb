{
 "cells": [
  {
   "cell_type": "markdown",
   "metadata": {},
   "source": [
    "# Import statements\n",
    "Following packages are necessary:"
   ]
  },
  {
   "cell_type": "code",
   "execution_count": 1,
   "metadata": {
    "scrolled": true
   },
   "outputs": [
    {
     "name": "stdout",
     "output_type": "stream",
     "text": [
      "Segmentation Models: using `tf.keras` framework.\n"
     ]
    }
   ],
   "source": [
    "import random\n",
    "from endolas import utils\n",
    "from endolas import closs\n",
    "import os\n",
    "import imageio\n",
    "import json\n",
    "from endolas import LASTENSequence\n",
    "from endolas import evalutils\n",
    "import importlib\n",
    "from glob import glob\n",
    "\n",
    "import tensorflow as tf\n",
    "import numpy as np\n",
    "import tensorflow.keras.backend as kb\n",
    "from tensorflow.keras.callbacks import CSVLogger, ModelCheckpoint\n",
    "\n",
    "from endolas import UNet\n",
    "from endolas import preprocess_input as pre_une\n",
    "\n",
    "from matplotlib import pyplot as plt\n",
    "import pandas as pd\n",
    "import seaborn as sns\n",
    "from pdb import set_trace"
   ]
  },
  {
   "cell_type": "markdown",
   "metadata": {
    "pycharm": {
     "name": "#%% md\n"
    }
   },
   "source": [
    "# Checks\n",
    "The version of tensorflow as well as the GPU support are checked."
   ]
  },
  {
   "cell_type": "code",
   "execution_count": 2,
   "metadata": {
    "pycharm": {
     "name": "#%%\n"
    },
    "scrolled": false
   },
   "outputs": [
    {
     "name": "stdout",
     "output_type": "stream",
     "text": [
      "2.2.0-rc3\n"
     ]
    },
    {
     "data": {
      "text/plain": [
       "[PhysicalDevice(name='/physical_device:GPU:0', device_type='GPU')]"
      ]
     },
     "execution_count": 2,
     "metadata": {},
     "output_type": "execute_result"
    }
   ],
   "source": [
    "print(tf.__version__)\n",
    "physical_devices = tf.config.experimental.list_physical_devices('GPU')\n",
    "tf.config.experimental.set_memory_growth(physical_devices[0], True)\n",
    "tf.config.experimental.get_visible_devices('GPU')"
   ]
  },
  {
   "cell_type": "code",
   "execution_count": 3,
   "metadata": {},
   "outputs": [
    {
     "name": "stdout",
     "output_type": "stream",
     "text": [
      "[]\n",
      "[PhysicalDevice(name='/physical_device:CPU:0', device_type='CPU')]\n"
     ]
    }
   ],
   "source": [
    "physical_devices = tf.config.list_physical_devices('GPU')\n",
    "try:\n",
    "  # Disable all GPUS\n",
    "  tf.config.set_visible_devices([], 'GPU')\n",
    "  visible_devices = tf.config.get_visible_devices()\n",
    "  for device in visible_devices:\n",
    "    assert device.device_type != 'GPU'\n",
    "except:\n",
    "  # Invalid device or cannot modify virtual devices once initialized.\n",
    "  pass\n",
    "\n",
    "print(tf.config.get_visible_devices('GPU'))\n",
    "print(tf.config.get_visible_devices('CPU'))"
   ]
  },
  {
   "cell_type": "markdown",
   "metadata": {},
   "source": [
    "# Definition\n",
    "Size definition is done here"
   ]
  },
  {
   "cell_type": "code",
   "execution_count": 4,
   "metadata": {},
   "outputs": [],
   "source": [
    "width = 384\n",
    "height = 384\n",
    "\n",
    "grid_width = 18\n",
    "grid_height = 18\n",
    "\n",
    "grid_points = grid_width * grid_height"
   ]
  },
  {
   "cell_type": "markdown",
   "metadata": {},
   "source": [
    "# 8.1) Supervised Euclidean for LASTEN2"
   ]
  },
  {
   "cell_type": "code",
   "execution_count": 16,
   "metadata": {
    "pycharm": {
     "name": "#%%\n"
    },
    "scrolled": true
   },
   "outputs": [
    {
     "name": "stdout",
     "output_type": "stream",
     "text": [
      "0\n",
      "0\n"
     ]
    }
   ],
   "source": [
    "experiment = 1\n",
    "data_set = 'LASTEN2'\n",
    "store_path = '/home/julian/Documents/Studium/MT-Masterarbeit/Workspace/endolas/experiments/results/8_{}_euclidean'.format(experiment)\n",
    "\n",
    "path_fixed = '/home/julian/Documents/Studium/MT-Masterarbeit/Data/{}/fix'.format(data_set)\n",
    "path_train = '/home/julian/Documents/Studium/MT-Masterarbeit/Data/{}/train'.format(data_set)\n",
    "path_validation = '/home/julian/Documents/Studium/MT-Masterarbeit/Data/{}/validation'.format(data_set)\n",
    "path_test = '/home/julian/Documents/Studium/MT-Masterarbeit/Data/{}/test'.format(data_set)\n",
    "\n",
    "evalutils.eval_pred(path_fixed, path_validation, path_test, store_path, width, height, grid_width,\n",
    "                    grid_height, pre_une, weights='/weights.80.hdf5')\n",
    "\n",
    "accuracy_val = utils.nearest_neighbor(store_path+'/val', path_fixed, scale_factor=0.5)\n",
    "accuracy_test = utils.nearest_neighbor(store_path+'/test', path_fixed, scale_factor=0.5)\n",
    "\n",
    "evalutils.store_accuracy(accuracy_val, accuracy_test, experiment, store_path)\n",
    "\n",
    "evalutils.spatial_distribution(store_path, path_fixed)\n",
    "evalutils.spatial_display(store_path, path_validation, path_test)"
   ]
  },
  {
   "cell_type": "markdown",
   "metadata": {},
   "source": [
    "# 8.9) Supervised Euclidean for LASTEN2A"
   ]
  },
  {
   "cell_type": "code",
   "execution_count": 12,
   "metadata": {},
   "outputs": [
    {
     "name": "stdout",
     "output_type": "stream",
     "text": [
      "0\n",
      "0\n"
     ]
    }
   ],
   "source": [
    "experiment = 9\n",
    "data_set = 'LASTEN2A'\n",
    "store_path = '/home/julian/Documents/Studium/MT-Masterarbeit/Workspace/endolas/experiments/results/8_{}_euclidean'.format(experiment)\n",
    "\n",
    "path_fixed = '/home/julian/Documents/Studium/MT-Masterarbeit/Data/{}/fix'.format(data_set)\n",
    "path_train = '/home/julian/Documents/Studium/MT-Masterarbeit/Data/{}/train'.format(data_set)\n",
    "path_validation = '/home/julian/Documents/Studium/MT-Masterarbeit/Data/{}/validation'.format(data_set)\n",
    "path_test = '/home/julian/Documents/Studium/MT-Masterarbeit/Data/{}/test'.format(data_set)\n",
    "\n",
    "#evalutils.eval_pred(path_fixed, path_validation, path_test, store_path, width, height, grid_width,\n",
    "#                    grid_height, pre_une, weights='/weights.60.hdf5')\n",
    "\n",
    "#accuracy_val = utils.nearest_neighbor(store_path+'/val', path_fixed, scale_factor=0.5)\n",
    "accuracy_test = utils.nearest_neighbor(store_path+'/test', path_fixed, scale_factor=0.5)\n",
    "\n",
    "#evalutils.store_accuracy(accuracy_val, accuracy_test, experiment, store_path)\n",
    "\n",
    "#evalutils.spatial_distribution(store_path, path_fixed)\n",
    "#evalutils.spatial_display(store_path, path_validation, path_test)"
   ]
  },
  {
   "cell_type": "markdown",
   "metadata": {},
   "source": [
    "# 8.2) Supervised Euclidean for LASTEN2_10"
   ]
  },
  {
   "cell_type": "code",
   "execution_count": 5,
   "metadata": {},
   "outputs": [
    {
     "name": "stdout",
     "output_type": "stream",
     "text": [
      "0\n",
      "0\n"
     ]
    }
   ],
   "source": [
    "experiment = 2\n",
    "data_set = 'LASTEN2_10'\n",
    "store_path = '/home/julian/Documents/Studium/MT-Masterarbeit/Workspace/endolas/experiments/results/8_{}_euclidean'.format(experiment)\n",
    "\n",
    "path_fixed = '/home/julian/Documents/Studium/MT-Masterarbeit/Data/{}/fix'.format(data_set)\n",
    "path_train = '/home/julian/Documents/Studium/MT-Masterarbeit/Data/{}/train'.format(data_set)\n",
    "path_validation = '/home/julian/Documents/Studium/MT-Masterarbeit/Data/{}/validation'.format(data_set)\n",
    "path_test = '/home/julian/Documents/Studium/MT-Masterarbeit/Data/{}/test'.format(data_set)\n",
    "\n",
    "evalutils.eval_pred(path_fixed, path_validation, path_test, store_path, width, height, grid_width,\n",
    "                    grid_height, pre_une, weights='/weights.100.hdf5')\n",
    "\n",
    "accuracy_val = utils.nearest_neighbor(store_path+'/val', path_fixed, scale_factor=0.5)\n",
    "accuracy_test = utils.nearest_neighbor(store_path+'/test', path_fixed, scale_factor=0.5)\n",
    "\n",
    "evalutils.store_accuracy(accuracy_val, accuracy_test, experiment, store_path)\n",
    "\n",
    "evalutils.spatial_distribution(store_path, path_fixed)\n",
    "evalutils.spatial_display(store_path, path_validation, path_test)"
   ]
  },
  {
   "cell_type": "markdown",
   "metadata": {},
   "source": [
    "# 8.3) Supervised Euclidean for LASTEN2_25"
   ]
  },
  {
   "cell_type": "code",
   "execution_count": 6,
   "metadata": {},
   "outputs": [
    {
     "name": "stdout",
     "output_type": "stream",
     "text": [
      "0\n",
      "0\n"
     ]
    }
   ],
   "source": [
    "experiment = 3\n",
    "data_set = 'LASTEN2_25'\n",
    "store_path = '/home/julian/Documents/Studium/MT-Masterarbeit/Workspace/endolas/experiments/results/8_{}_euclidean'.format(experiment)\n",
    "\n",
    "path_fixed = '/home/julian/Documents/Studium/MT-Masterarbeit/Data/{}/fix'.format(data_set)\n",
    "path_train = '/home/julian/Documents/Studium/MT-Masterarbeit/Data/{}/train'.format(data_set)\n",
    "path_validation = '/home/julian/Documents/Studium/MT-Masterarbeit/Data/{}/validation'.format(data_set)\n",
    "path_test = '/home/julian/Documents/Studium/MT-Masterarbeit/Data/{}/test'.format(data_set)\n",
    "\n",
    "evalutils.eval_pred(path_fixed, path_validation, path_test, store_path, width, height, grid_width,\n",
    "                    grid_height, pre_une, weights='/weights.100.hdf5')\n",
    "\n",
    "accuracy_val = utils.nearest_neighbor(store_path+'/val', path_fixed, scale_factor=0.5)\n",
    "accuracy_test = utils.nearest_neighbor(store_path+'/test', path_fixed, scale_factor=0.5)\n",
    "\n",
    "evalutils.store_accuracy(accuracy_val, accuracy_test, experiment, store_path)\n",
    "\n",
    "evalutils.spatial_distribution(store_path, path_fixed)\n",
    "evalutils.spatial_display(store_path, path_validation, path_test)"
   ]
  },
  {
   "cell_type": "markdown",
   "metadata": {},
   "source": [
    "# 8.4) Supervised Euclidean for LASTEN2_50"
   ]
  },
  {
   "cell_type": "code",
   "execution_count": 7,
   "metadata": {},
   "outputs": [
    {
     "name": "stdout",
     "output_type": "stream",
     "text": [
      "0\n",
      "0\n"
     ]
    }
   ],
   "source": [
    "experiment = 4\n",
    "data_set = 'LASTEN2_50'\n",
    "store_path = '/home/julian/Documents/Studium/MT-Masterarbeit/Workspace/endolas/experiments/results/8_{}_euclidean'.format(experiment)\n",
    "\n",
    "path_fixed = '/home/julian/Documents/Studium/MT-Masterarbeit/Data/{}/fix'.format(data_set)\n",
    "path_train = '/home/julian/Documents/Studium/MT-Masterarbeit/Data/{}/train'.format(data_set)\n",
    "path_validation = '/home/julian/Documents/Studium/MT-Masterarbeit/Data/{}/validation'.format(data_set)\n",
    "path_test = '/home/julian/Documents/Studium/MT-Masterarbeit/Data/{}/test'.format(data_set)\n",
    "\n",
    "evalutils.eval_pred(path_fixed, path_validation, path_test, store_path, width, height, grid_width,\n",
    "                    grid_height, pre_une, weights='/weights.100.hdf5')\n",
    "\n",
    "accuracy_val = utils.nearest_neighbor(store_path+'/val', path_fixed, scale_factor=0.5)\n",
    "accuracy_test = utils.nearest_neighbor(store_path+'/test', path_fixed, scale_factor=0.5)\n",
    "\n",
    "evalutils.store_accuracy(accuracy_val, accuracy_test, experiment, store_path)\n",
    "\n",
    "evalutils.spatial_distribution(store_path, path_fixed)\n",
    "evalutils.spatial_display(store_path, path_validation, path_test)"
   ]
  },
  {
   "cell_type": "markdown",
   "metadata": {},
   "source": [
    "# 8.5) Supervised Euclidean for LASTEN2_0"
   ]
  },
  {
   "cell_type": "code",
   "execution_count": 8,
   "metadata": {},
   "outputs": [
    {
     "name": "stdout",
     "output_type": "stream",
     "text": [
      "0\n",
      "0\n"
     ]
    }
   ],
   "source": [
    "experiment = 5\n",
    "data_set = 'LASTEN2_0'\n",
    "store_path = '/home/julian/Documents/Studium/MT-Masterarbeit/Workspace/endolas/experiments/results/8_{}_euclidean'.format(experiment)\n",
    "\n",
    "path_fixed = '/home/julian/Documents/Studium/MT-Masterarbeit/Data/{}/fix'.format(data_set)\n",
    "path_train = '/home/julian/Documents/Studium/MT-Masterarbeit/Data/{}/train'.format(data_set)\n",
    "path_validation = '/home/julian/Documents/Studium/MT-Masterarbeit/Data/{}/validation'.format(data_set)\n",
    "path_test = '/home/julian/Documents/Studium/MT-Masterarbeit/Data/{}/test'.format(data_set)\n",
    "\n",
    "evalutils.eval_pred(path_fixed, path_validation, path_test, store_path, width, height, grid_width,\n",
    "                    grid_height, pre_une, weights='/weights.100.hdf5')\n",
    "\n",
    "accuracy_val = utils.nearest_neighbor(store_path+'/val', path_fixed, scale_factor=0.5)\n",
    "accuracy_test = utils.nearest_neighbor(store_path+'/test', path_fixed, scale_factor=0.5)\n",
    "\n",
    "evalutils.store_accuracy(accuracy_val, accuracy_test, experiment, store_path)\n",
    "\n",
    "evalutils.spatial_distribution(store_path, path_fixed)\n",
    "evalutils.spatial_display(store_path, path_validation, path_test)"
   ]
  },
  {
   "cell_type": "markdown",
   "metadata": {},
   "source": [
    "# 8.6) Supervised Euclidean for LASTEN2A_10"
   ]
  },
  {
   "cell_type": "code",
   "execution_count": 9,
   "metadata": {},
   "outputs": [
    {
     "name": "stdout",
     "output_type": "stream",
     "text": [
      "0\n",
      "0\n"
     ]
    }
   ],
   "source": [
    "experiment = 6\n",
    "data_set = 'LASTEN2A_10'\n",
    "store_path = '/home/julian/Documents/Studium/MT-Masterarbeit/Workspace/endolas/experiments/results/8_{}_euclidean'.format(experiment)\n",
    "\n",
    "path_fixed = '/home/julian/Documents/Studium/MT-Masterarbeit/Data/{}/fix'.format(data_set)\n",
    "path_train = '/home/julian/Documents/Studium/MT-Masterarbeit/Data/{}/train'.format(data_set)\n",
    "path_validation = '/home/julian/Documents/Studium/MT-Masterarbeit/Data/{}/validation'.format(data_set)\n",
    "path_test = '/home/julian/Documents/Studium/MT-Masterarbeit/Data/{}/test'.format(data_set)\n",
    "\n",
    "evalutils.eval_pred(path_fixed, path_validation, path_test, store_path, width, height, grid_width,\n",
    "                    grid_height, pre_une, weights='/weights.100.hdf5')\n",
    "\n",
    "accuracy_val = utils.nearest_neighbor(store_path+'/val', path_fixed, scale_factor=0.5)\n",
    "accuracy_test = utils.nearest_neighbor(store_path+'/test', path_fixed, scale_factor=0.5)\n",
    "\n",
    "evalutils.store_accuracy(accuracy_val, accuracy_test, experiment, store_path)\n",
    "\n",
    "evalutils.spatial_distribution(store_path, path_fixed)\n",
    "evalutils.spatial_display(store_path, path_validation, path_test)"
   ]
  },
  {
   "cell_type": "markdown",
   "metadata": {},
   "source": [
    "# 8.7) Supervised Euclidean for LASTEN2A_25"
   ]
  },
  {
   "cell_type": "code",
   "execution_count": 10,
   "metadata": {},
   "outputs": [
    {
     "name": "stdout",
     "output_type": "stream",
     "text": [
      "0\n",
      "0\n"
     ]
    }
   ],
   "source": [
    "experiment = 7\n",
    "data_set = 'LASTEN2A_25'\n",
    "store_path = '/home/julian/Documents/Studium/MT-Masterarbeit/Workspace/endolas/experiments/results/8_{}_euclidean'.format(experiment)\n",
    "\n",
    "path_fixed = '/home/julian/Documents/Studium/MT-Masterarbeit/Data/{}/fix'.format(data_set)\n",
    "path_train = '/home/julian/Documents/Studium/MT-Masterarbeit/Data/{}/train'.format(data_set)\n",
    "path_validation = '/home/julian/Documents/Studium/MT-Masterarbeit/Data/{}/validation'.format(data_set)\n",
    "path_test = '/home/julian/Documents/Studium/MT-Masterarbeit/Data/{}/test'.format(data_set)\n",
    "\n",
    "evalutils.eval_pred(path_fixed, path_validation, path_test, store_path, width, height, grid_width,\n",
    "                    grid_height, pre_une, weights='/weights.100.hdf5')\n",
    "\n",
    "accuracy_val = utils.nearest_neighbor(store_path+'/val', path_fixed, scale_factor=0.5)\n",
    "accuracy_test = utils.nearest_neighbor(store_path+'/test', path_fixed, scale_factor=0.5)\n",
    "\n",
    "evalutils.store_accuracy(accuracy_val, accuracy_test, experiment, store_path)\n",
    "\n",
    "evalutils.spatial_distribution(store_path, path_fixed)\n",
    "evalutils.spatial_display(store_path, path_validation, path_test)"
   ]
  },
  {
   "cell_type": "markdown",
   "metadata": {},
   "source": [
    "# 8.8) Supervised Euclidean for LASTEN2A_50"
   ]
  },
  {
   "cell_type": "code",
   "execution_count": 11,
   "metadata": {},
   "outputs": [
    {
     "name": "stdout",
     "output_type": "stream",
     "text": [
      "0\n",
      "0\n"
     ]
    }
   ],
   "source": [
    "experiment = 8\n",
    "data_set = 'LASTEN2A_50'\n",
    "store_path = '/home/julian/Documents/Studium/MT-Masterarbeit/Workspace/endolas/experiments/results/8_{}_euclidean'.format(experiment)\n",
    "\n",
    "path_fixed = '/home/julian/Documents/Studium/MT-Masterarbeit/Data/{}/fix'.format(data_set)\n",
    "path_train = '/home/julian/Documents/Studium/MT-Masterarbeit/Data/{}/train'.format(data_set)\n",
    "path_validation = '/home/julian/Documents/Studium/MT-Masterarbeit/Data/{}/validation'.format(data_set)\n",
    "path_test = '/home/julian/Documents/Studium/MT-Masterarbeit/Data/{}/test'.format(data_set)\n",
    "\n",
    "evalutils.eval_pred(path_fixed, path_validation, path_test, store_path, width, height, grid_width,\n",
    "                    grid_height, pre_une, weights='/weights.100.hdf5')\n",
    "\n",
    "accuracy_val = utils.nearest_neighbor(store_path+'/val', path_fixed, scale_factor=0.5)\n",
    "accuracy_test = utils.nearest_neighbor(store_path+'/test', path_fixed, scale_factor=0.5)\n",
    "\n",
    "evalutils.store_accuracy(accuracy_val, accuracy_test, experiment, store_path)\n",
    "\n",
    "evalutils.spatial_distribution(store_path, path_fixed)\n",
    "evalutils.spatial_display(store_path, path_validation, path_test)"
   ]
  }
 ],
 "metadata": {
  "kernelspec": {
   "display_name": "Python 3",
   "language": "python",
   "name": "python3"
  },
  "language_info": {
   "codemirror_mode": {
    "name": "ipython",
    "version": 3
   },
   "file_extension": ".py",
   "mimetype": "text/x-python",
   "name": "python",
   "nbconvert_exporter": "python",
   "pygments_lexer": "ipython3",
   "version": "3.8.2"
  }
 },
 "nbformat": 4,
 "nbformat_minor": 4
}

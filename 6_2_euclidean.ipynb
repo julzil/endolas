{
 "cells": [
  {
   "cell_type": "markdown",
   "metadata": {},
   "source": [
    "# 6.2) Supervised Euclidean\n",
    "A U-Net is trained here to predict a displacement field and the euclidean distance is taken as error."
   ]
  },
  {
   "cell_type": "markdown",
   "metadata": {},
   "source": [
    "# Import statements\n",
    "Following packages are necessary:"
   ]
  },
  {
   "cell_type": "code",
   "execution_count": 1,
   "metadata": {},
   "outputs": [],
   "source": [
    "import random\n",
    "import utils\n",
    "import os\n",
    "import imageio\n",
    "import json\n",
    "\n",
    "import tensorflow as tf\n",
    "import numpy as np\n",
    "import tensorflow.keras.backend as kb\n",
    "from tensorflow.keras.callbacks import CSVLogger\n",
    "\n",
    "from unet import UNet\n",
    "from matplotlib import pyplot as plt"
   ]
  },
  {
   "cell_type": "markdown",
   "metadata": {
    "pycharm": {
     "name": "#%% md\n"
    }
   },
   "source": [
    "# Checks\n",
    "The version of tensorflow as well as the GPU support are checked."
   ]
  },
  {
   "cell_type": "code",
   "execution_count": 2,
   "metadata": {
    "pycharm": {
     "name": "#%%\n"
    }
   },
   "outputs": [
    {
     "name": "stdout",
     "output_type": "stream",
     "text": [
      "2.2.0-rc3\n"
     ]
    },
    {
     "data": {
      "text/plain": [
       "[PhysicalDevice(name='/physical_device:GPU:0', device_type='GPU')]"
      ]
     },
     "execution_count": 2,
     "metadata": {},
     "output_type": "execute_result"
    }
   ],
   "source": [
    "print(tf.__version__)\n",
    "physical_devices = tf.config.list_physical_devices('GPU')\n",
    "tf.config.experimental.set_memory_growth(physical_devices[0], True)\n",
    "tf.config.get_visible_devices('GPU')"
   ]
  },
  {
   "cell_type": "code",
   "execution_count": 3,
   "metadata": {},
   "outputs": [
    {
     "name": "stdout",
     "output_type": "stream",
     "text": [
      "[]\n",
      "[PhysicalDevice(name='/physical_device:CPU:0', device_type='CPU')]\n"
     ]
    }
   ],
   "source": [
    "physical_devices = tf.config.list_physical_devices('GPU')\n",
    "try:\n",
    "  # Disable all GPUS\n",
    "  tf.config.set_visible_devices([], 'GPU')\n",
    "  visible_devices = tf.config.get_visible_devices()\n",
    "  for device in visible_devices:\n",
    "    assert device.device_type != 'GPU'\n",
    "except:\n",
    "  # Invalid device or cannot modify virtual devices once initialized.\n",
    "  pass\n",
    "\n",
    "print(tf.config.get_visible_devices('GPU'))\n",
    "print(tf.config.get_visible_devices('CPU'))"
   ]
  },
  {
   "cell_type": "markdown",
   "metadata": {
    "pycharm": {
     "name": "#%% md\n"
    }
   },
   "source": [
    "# Data\n",
    "Import training images"
   ]
  },
  {
   "cell_type": "code",
   "execution_count": 4,
   "metadata": {
    "pycharm": {
     "name": "#%%\n"
    }
   },
   "outputs": [],
   "source": [
    "path = r'data/SIMPLE/fine_nonrigid'\n",
    "store_path = 'experiments/6_2_correspondence/fine_nonrigid_250'\n",
    "\n",
    "width = 224\n",
    "height = 224"
   ]
  },
  {
   "cell_type": "markdown",
   "metadata": {
    "pycharm": {
     "name": "#%% md\n"
    }
   },
   "source": [
    "# Seeding\n",
    "Seeds are set to ensure reproducible training."
   ]
  },
  {
   "cell_type": "code",
   "execution_count": 5,
   "metadata": {
    "pycharm": {
     "name": "#%%\n"
    }
   },
   "outputs": [],
   "source": [
    "SEED = 42\n",
    "np.random.seed(SEED)\n",
    "tf.random.set_seed(SEED)\n",
    "random.seed(SEED)"
   ]
  },
  {
   "cell_type": "markdown",
   "metadata": {
    "pycharm": {
     "name": "#%% md\n"
    }
   },
   "source": [
    "# Network\n",
    "A U-Net based network is instantiated with keras to run a semantic segmentation."
   ]
  },
  {
   "cell_type": "code",
   "execution_count": 6,
   "metadata": {
    "pycharm": {
     "name": "#%%\n"
    }
   },
   "outputs": [
    {
     "name": "stdout",
     "output_type": "stream",
     "text": [
      "Model: \"model\"\n",
      "__________________________________________________________________________________________________\n",
      "Layer (type)                    Output Shape         Param #     Connected to                     \n",
      "==================================================================================================\n",
      "input_1 (InputLayer)            [(None, 224, 224, 1) 0                                            \n",
      "__________________________________________________________________________________________________\n",
      "conv2d (Conv2D)                 (None, 224, 224, 32) 288         input_1[0][0]                    \n",
      "__________________________________________________________________________________________________\n",
      "batch_normalization (BatchNorma (None, 224, 224, 32) 128         conv2d[0][0]                     \n",
      "__________________________________________________________________________________________________\n",
      "activation (Activation)         (None, 224, 224, 32) 0           batch_normalization[0][0]        \n",
      "__________________________________________________________________________________________________\n",
      "conv2d_1 (Conv2D)               (None, 224, 224, 32) 9216        activation[0][0]                 \n",
      "__________________________________________________________________________________________________\n",
      "batch_normalization_1 (BatchNor (None, 224, 224, 32) 128         conv2d_1[0][0]                   \n",
      "__________________________________________________________________________________________________\n",
      "activation_1 (Activation)       (None, 224, 224, 32) 0           batch_normalization_1[0][0]      \n",
      "__________________________________________________________________________________________________\n",
      "max_pooling2d (MaxPooling2D)    (None, 112, 112, 32) 0           activation_1[0][0]               \n",
      "__________________________________________________________________________________________________\n",
      "conv2d_2 (Conv2D)               (None, 112, 112, 64) 18432       max_pooling2d[0][0]              \n",
      "__________________________________________________________________________________________________\n",
      "batch_normalization_2 (BatchNor (None, 112, 112, 64) 256         conv2d_2[0][0]                   \n",
      "__________________________________________________________________________________________________\n",
      "activation_2 (Activation)       (None, 112, 112, 64) 0           batch_normalization_2[0][0]      \n",
      "__________________________________________________________________________________________________\n",
      "conv2d_3 (Conv2D)               (None, 112, 112, 64) 36864       activation_2[0][0]               \n",
      "__________________________________________________________________________________________________\n",
      "batch_normalization_3 (BatchNor (None, 112, 112, 64) 256         conv2d_3[0][0]                   \n",
      "__________________________________________________________________________________________________\n",
      "activation_3 (Activation)       (None, 112, 112, 64) 0           batch_normalization_3[0][0]      \n",
      "__________________________________________________________________________________________________\n",
      "max_pooling2d_1 (MaxPooling2D)  (None, 56, 56, 64)   0           activation_3[0][0]               \n",
      "__________________________________________________________________________________________________\n",
      "conv2d_4 (Conv2D)               (None, 56, 56, 128)  73728       max_pooling2d_1[0][0]            \n",
      "__________________________________________________________________________________________________\n",
      "batch_normalization_4 (BatchNor (None, 56, 56, 128)  512         conv2d_4[0][0]                   \n",
      "__________________________________________________________________________________________________\n",
      "activation_4 (Activation)       (None, 56, 56, 128)  0           batch_normalization_4[0][0]      \n",
      "__________________________________________________________________________________________________\n",
      "conv2d_5 (Conv2D)               (None, 56, 56, 128)  147456      activation_4[0][0]               \n",
      "__________________________________________________________________________________________________\n",
      "batch_normalization_5 (BatchNor (None, 56, 56, 128)  512         conv2d_5[0][0]                   \n",
      "__________________________________________________________________________________________________\n",
      "activation_5 (Activation)       (None, 56, 56, 128)  0           batch_normalization_5[0][0]      \n",
      "__________________________________________________________________________________________________\n",
      "max_pooling2d_2 (MaxPooling2D)  (None, 28, 28, 128)  0           activation_5[0][0]               \n",
      "__________________________________________________________________________________________________\n",
      "conv2d_6 (Conv2D)               (None, 28, 28, 256)  294912      max_pooling2d_2[0][0]            \n",
      "__________________________________________________________________________________________________\n",
      "batch_normalization_6 (BatchNor (None, 28, 28, 256)  1024        conv2d_6[0][0]                   \n",
      "__________________________________________________________________________________________________\n",
      "activation_6 (Activation)       (None, 28, 28, 256)  0           batch_normalization_6[0][0]      \n",
      "__________________________________________________________________________________________________\n",
      "conv2d_7 (Conv2D)               (None, 28, 28, 256)  589824      activation_6[0][0]               \n",
      "__________________________________________________________________________________________________\n",
      "batch_normalization_7 (BatchNor (None, 28, 28, 256)  1024        conv2d_7[0][0]                   \n",
      "__________________________________________________________________________________________________\n",
      "activation_7 (Activation)       (None, 28, 28, 256)  0           batch_normalization_7[0][0]      \n",
      "__________________________________________________________________________________________________\n",
      "max_pooling2d_3 (MaxPooling2D)  (None, 14, 14, 256)  0           activation_7[0][0]               \n",
      "__________________________________________________________________________________________________\n",
      "conv2d_8 (Conv2D)               (None, 14, 14, 512)  1179648     max_pooling2d_3[0][0]            \n",
      "__________________________________________________________________________________________________\n",
      "batch_normalization_8 (BatchNor (None, 14, 14, 512)  2048        conv2d_8[0][0]                   \n",
      "__________________________________________________________________________________________________\n",
      "activation_8 (Activation)       (None, 14, 14, 512)  0           batch_normalization_8[0][0]      \n",
      "__________________________________________________________________________________________________\n",
      "conv2d_9 (Conv2D)               (None, 14, 14, 256)  1179648     activation_8[0][0]               \n",
      "__________________________________________________________________________________________________\n",
      "batch_normalization_9 (BatchNor (None, 14, 14, 256)  1024        conv2d_9[0][0]                   \n",
      "__________________________________________________________________________________________________\n",
      "activation_9 (Activation)       (None, 14, 14, 256)  0           batch_normalization_9[0][0]      \n",
      "__________________________________________________________________________________________________\n",
      "up_sampling2d (UpSampling2D)    (None, 28, 28, 256)  0           activation_9[0][0]               \n",
      "__________________________________________________________________________________________________\n",
      "concatenate (Concatenate)       (None, 28, 28, 512)  0           up_sampling2d[0][0]              \n",
      "                                                                 activation_7[0][0]               \n",
      "__________________________________________________________________________________________________\n",
      "conv2d_10 (Conv2D)              (None, 28, 28, 256)  1179648     concatenate[0][0]                \n",
      "__________________________________________________________________________________________________\n",
      "batch_normalization_10 (BatchNo (None, 28, 28, 256)  1024        conv2d_10[0][0]                  \n",
      "__________________________________________________________________________________________________\n",
      "activation_10 (Activation)      (None, 28, 28, 256)  0           batch_normalization_10[0][0]     \n",
      "__________________________________________________________________________________________________\n",
      "conv2d_11 (Conv2D)              (None, 28, 28, 128)  294912      activation_10[0][0]              \n",
      "__________________________________________________________________________________________________\n",
      "batch_normalization_11 (BatchNo (None, 28, 28, 128)  512         conv2d_11[0][0]                  \n",
      "__________________________________________________________________________________________________\n",
      "activation_11 (Activation)      (None, 28, 28, 128)  0           batch_normalization_11[0][0]     \n",
      "__________________________________________________________________________________________________\n",
      "up_sampling2d_1 (UpSampling2D)  (None, 56, 56, 128)  0           activation_11[0][0]              \n",
      "__________________________________________________________________________________________________\n",
      "concatenate_1 (Concatenate)     (None, 56, 56, 256)  0           up_sampling2d_1[0][0]            \n",
      "                                                                 activation_5[0][0]               \n",
      "__________________________________________________________________________________________________\n",
      "conv2d_12 (Conv2D)              (None, 56, 56, 128)  294912      concatenate_1[0][0]              \n",
      "__________________________________________________________________________________________________\n",
      "batch_normalization_12 (BatchNo (None, 56, 56, 128)  512         conv2d_12[0][0]                  \n",
      "__________________________________________________________________________________________________\n",
      "activation_12 (Activation)      (None, 56, 56, 128)  0           batch_normalization_12[0][0]     \n",
      "__________________________________________________________________________________________________\n",
      "conv2d_13 (Conv2D)              (None, 56, 56, 64)   73728       activation_12[0][0]              \n",
      "__________________________________________________________________________________________________\n",
      "batch_normalization_13 (BatchNo (None, 56, 56, 64)   256         conv2d_13[0][0]                  \n",
      "__________________________________________________________________________________________________\n",
      "activation_13 (Activation)      (None, 56, 56, 64)   0           batch_normalization_13[0][0]     \n",
      "__________________________________________________________________________________________________\n",
      "up_sampling2d_2 (UpSampling2D)  (None, 112, 112, 64) 0           activation_13[0][0]              \n",
      "__________________________________________________________________________________________________\n",
      "concatenate_2 (Concatenate)     (None, 112, 112, 128 0           up_sampling2d_2[0][0]            \n",
      "                                                                 activation_3[0][0]               \n",
      "__________________________________________________________________________________________________\n",
      "conv2d_14 (Conv2D)              (None, 112, 112, 64) 73728       concatenate_2[0][0]              \n",
      "__________________________________________________________________________________________________\n",
      "batch_normalization_14 (BatchNo (None, 112, 112, 64) 256         conv2d_14[0][0]                  \n",
      "__________________________________________________________________________________________________\n",
      "activation_14 (Activation)      (None, 112, 112, 64) 0           batch_normalization_14[0][0]     \n",
      "__________________________________________________________________________________________________\n",
      "conv2d_15 (Conv2D)              (None, 112, 112, 32) 18432       activation_14[0][0]              \n",
      "__________________________________________________________________________________________________\n",
      "batch_normalization_15 (BatchNo (None, 112, 112, 32) 128         conv2d_15[0][0]                  \n",
      "__________________________________________________________________________________________________\n",
      "activation_15 (Activation)      (None, 112, 112, 32) 0           batch_normalization_15[0][0]     \n",
      "__________________________________________________________________________________________________\n",
      "up_sampling2d_3 (UpSampling2D)  (None, 224, 224, 32) 0           activation_15[0][0]              \n",
      "__________________________________________________________________________________________________\n",
      "concatenate_3 (Concatenate)     (None, 224, 224, 64) 0           up_sampling2d_3[0][0]            \n",
      "                                                                 activation_1[0][0]               \n",
      "__________________________________________________________________________________________________\n",
      "conv2d_16 (Conv2D)              (None, 224, 224, 32) 18432       concatenate_3[0][0]              \n",
      "__________________________________________________________________________________________________\n",
      "batch_normalization_16 (BatchNo (None, 224, 224, 32) 128         conv2d_16[0][0]                  \n",
      "__________________________________________________________________________________________________\n",
      "activation_16 (Activation)      (None, 224, 224, 32) 0           batch_normalization_16[0][0]     \n",
      "__________________________________________________________________________________________________\n",
      "conv2d_17 (Conv2D)              (None, 224, 224, 32) 9216        activation_16[0][0]              \n",
      "__________________________________________________________________________________________________\n",
      "batch_normalization_17 (BatchNo (None, 224, 224, 32) 128         conv2d_17[0][0]                  \n",
      "__________________________________________________________________________________________________\n",
      "activation_17 (Activation)      (None, 224, 224, 32) 0           batch_normalization_17[0][0]     \n",
      "__________________________________________________________________________________________________\n",
      "segmentation (Conv2D)           (None, 224, 224, 2)  64          activation_17[0][0]              \n",
      "==================================================================================================\n",
      "Total params: 5,502,944\n",
      "Trainable params: 5,498,016\n",
      "Non-trainable params: 4,928\n",
      "__________________________________________________________________________________________________\n"
     ]
    }
   ],
   "source": [
    "model = UNet(filters=32, layers=4, activation='linear', classes=2, input_shape=(224, 224, 1))\n",
    "model.summary()"
   ]
  },
  {
   "cell_type": "markdown",
   "metadata": {
    "pycharm": {
     "name": "#%% md\n"
    }
   },
   "source": [
    "# Data Preparation\n",
    "A batch with only one image is used."
   ]
  },
  {
   "cell_type": "code",
   "execution_count": 7,
   "metadata": {},
   "outputs": [],
   "source": [
    "fixed = imageio.imread(path + \"/fixed.png\")\n",
    "moving = imageio.imread(path + \"/moving.png\")\n",
    "\n",
    "fixed = fixed[:,:,0]\n",
    "moving = moving[:,:,0]\n",
    "\n",
    "X = np.zeros((width, height, 1))\n",
    "\n",
    "X[:,:,0] = moving\n",
    "#X[:,:,1] = fixed"
   ]
  },
  {
   "cell_type": "code",
   "execution_count": 8,
   "metadata": {
    "scrolled": true
   },
   "outputs": [
    {
     "data": {
      "text/plain": [
       "<matplotlib.image.AxesImage at 0x7fbbb01a2160>"
      ]
     },
     "execution_count": 8,
     "metadata": {},
     "output_type": "execute_result"
    },
    {
     "data": {
      "image/png": "[encoded data removed]",
      "text/plain": [
       "<Figure size 432x288 with 1 Axes>"
      ]
     },
     "metadata": {
      "needs_background": "light"
     },
     "output_type": "display_data"
    }
   ],
   "source": [
    "plt.imshow(X[:,:,0], cmap=\"gray\")"
   ]
  },
  {
   "cell_type": "code",
   "execution_count": 9,
   "metadata": {
    "scrolled": true
   },
   "outputs": [
    {
     "data": {
      "text/plain": [
       "(224, 224, 1)"
      ]
     },
     "execution_count": 9,
     "metadata": {},
     "output_type": "execute_result"
    }
   ],
   "source": [
    "X.shape"
   ]
  },
  {
   "cell_type": "code",
   "execution_count": 10,
   "metadata": {},
   "outputs": [],
   "source": [
    "moving_json_file = open(path  + '/moving.json')\n",
    "fixed_json_file = open(path + '/fixed.json')\n",
    "\n",
    "moving_data = json.load(moving_json_file)\n",
    "fixed_data = json.load(fixed_json_file)\n",
    "\n",
    "moving_json_file.close()\n",
    "fixed_json_file.close()\n",
    "\n",
    "labels = np.zeros((25,2,2))\n",
    "\n",
    "for index in range(0,25):\n",
    "    x = moving_data[str(index)][0]\n",
    "    y = moving_data[str(index)][1]\n",
    "\n",
    "    labels[index][0][0] = x\n",
    "    labels[index][1][0] = y\n",
    "    \n",
    "for index in range(0,25):\n",
    "    x = fixed_data[str(index)][0]\n",
    "    y = fixed_data[str(index)][1]\n",
    "\n",
    "    labels[index][0][1] = x\n",
    "    labels[index][1][1] = y  "
   ]
  },
  {
   "cell_type": "markdown",
   "metadata": {
    "pycharm": {
     "name": "#%% md\n"
    }
   },
   "source": [
    "# Training Preparation\n",
    "Prepare the settings for training the model."
   ]
  },
  {
   "cell_type": "code",
   "execution_count": 11,
   "metadata": {},
   "outputs": [],
   "source": [
    "X_train = np.array([X])\n",
    "y_train = np.array([labels])\n",
    "\n",
    "#X_train = np.repeat(X_train, 250, axis=0)\n",
    "#y_train = np.repeat(y_train, 250, axis=0)"
   ]
  },
  {
   "cell_type": "code",
   "execution_count": 12,
   "metadata": {
    "pycharm": {
     "name": "#%%\n"
    },
    "scrolled": false
   },
   "outputs": [
    {
     "name": "stdout",
     "output_type": "stream",
     "text": [
      "Epoch 1/100\n",
      "1/1 [==============================] - 1s 681ms/step - loss: 159.0873 - val_loss: 9428.0811\n",
      "Epoch 2/100\n",
      "1/1 [==============================] - 0s 148ms/step - loss: 141.7207 - val_loss: 46591.3789\n",
      "Epoch 3/100\n",
      "1/1 [==============================] - 0s 148ms/step - loss: 80.6760 - val_loss: 239200.1406\n",
      "Epoch 4/100\n",
      "1/1 [==============================] - 0s 151ms/step - loss: 64.9207 - val_loss: 602341.8125\n",
      "Epoch 5/100\n",
      "1/1 [==============================] - 0s 148ms/step - loss: 50.8861 - val_loss: 976027.9375\n",
      "Epoch 6/100\n",
      "1/1 [==============================] - 0s 150ms/step - loss: 37.4372 - val_loss: 1294025.6250\n",
      "Epoch 7/100\n",
      "1/1 [==============================] - 0s 148ms/step - loss: 21.1157 - val_loss: 1666588.7500\n",
      "Epoch 8/100\n",
      "1/1 [==============================] - 0s 148ms/step - loss: 10.2853 - val_loss: 1967227.3750\n",
      "Epoch 9/100\n",
      "1/1 [==============================] - 0s 151ms/step - loss: 3.5278 - val_loss: 2205487.5000\n",
      "Epoch 10/100\n",
      "1/1 [==============================] - 0s 155ms/step - loss: 2.3400 - val_loss: 2382766.2500\n",
      "Epoch 11/100\n",
      "1/1 [==============================] - 0s 155ms/step - loss: 2.4596 - val_loss: 2329162.0000\n",
      "Epoch 12/100\n",
      "1/1 [==============================] - 0s 146ms/step - loss: 2.3252 - val_loss: 2377966.5000\n",
      "Epoch 13/100\n",
      "1/1 [==============================] - 0s 159ms/step - loss: 1.7407 - val_loss: 2526433.2500\n",
      "Epoch 14/100\n",
      "1/1 [==============================] - 0s 154ms/step - loss: 0.8186 - val_loss: 2580239.2500\n",
      "Epoch 15/100\n",
      "1/1 [==============================] - 0s 146ms/step - loss: 1.2540 - val_loss: 2312865.5000\n",
      "Epoch 16/100\n",
      "1/1 [==============================] - 0s 147ms/step - loss: 0.9786 - val_loss: 2109639.5000\n",
      "Epoch 17/100\n",
      "1/1 [==============================] - 0s 147ms/step - loss: 0.8669 - val_loss: 1900270.1250\n",
      "Epoch 18/100\n",
      "1/1 [==============================] - 0s 149ms/step - loss: 0.7191 - val_loss: 1717374.5000\n",
      "Epoch 19/100\n",
      "1/1 [==============================] - 0s 146ms/step - loss: 0.4420 - val_loss: 1438406.5000\n",
      "Epoch 20/100\n",
      "1/1 [==============================] - 0s 147ms/step - loss: 0.5020 - val_loss: 1181835.2500\n",
      "Epoch 21/100\n",
      "1/1 [==============================] - 0s 147ms/step - loss: 0.4888 - val_loss: 1028597.9375\n",
      "Epoch 22/100\n",
      "1/1 [==============================] - 0s 158ms/step - loss: 0.2884 - val_loss: 904074.0625\n",
      "Epoch 23/100\n",
      "1/1 [==============================] - 0s 170ms/step - loss: 0.3016 - val_loss: 802129.1875\n",
      "Epoch 24/100\n",
      "1/1 [==============================] - 0s 161ms/step - loss: 0.2907 - val_loss: 719902.3125\n",
      "Epoch 25/100\n",
      "1/1 [==============================] - 0s 157ms/step - loss: 0.1742 - val_loss: 632823.8750\n",
      "Epoch 26/100\n",
      "1/1 [==============================] - 0s 151ms/step - loss: 0.1887 - val_loss: 544010.4375\n",
      "Epoch 27/100\n",
      "1/1 [==============================] - 0s 161ms/step - loss: 0.1578 - val_loss: 470266.1250\n",
      "Epoch 28/100\n",
      "1/1 [==============================] - 0s 151ms/step - loss: 0.1300 - val_loss: 401509.1875\n",
      "Epoch 29/100\n",
      "1/1 [==============================] - 0s 158ms/step - loss: 0.1512 - val_loss: 337705.5312\n",
      "Epoch 30/100\n",
      "1/1 [==============================] - 0s 153ms/step - loss: 0.0741 - val_loss: 290362.2500\n",
      "Epoch 31/100\n",
      "1/1 [==============================] - 0s 155ms/step - loss: 0.1104 - val_loss: 255549.2969\n",
      "Epoch 32/100\n",
      "1/1 [==============================] - 0s 169ms/step - loss: 0.1145 - val_loss: 224505.6406\n",
      "Epoch 33/100\n",
      "1/1 [==============================] - 0s 187ms/step - loss: 0.0375 - val_loss: 198298.1250\n",
      "Epoch 34/100\n",
      "1/1 [==============================] - 0s 184ms/step - loss: 0.0845 - val_loss: 176974.9062\n",
      "Epoch 35/100\n",
      "1/1 [==============================] - 0s 163ms/step - loss: 0.0499 - val_loss: 154912.7500\n",
      "Epoch 36/100\n",
      "1/1 [==============================] - 0s 146ms/step - loss: 0.0458 - val_loss: 132887.2656\n",
      "Epoch 37/100\n",
      "1/1 [==============================] - 0s 145ms/step - loss: 0.0524 - val_loss: 114833.0078\n",
      "Epoch 38/100\n",
      "1/1 [==============================] - 0s 150ms/step - loss: 0.0244 - val_loss: 99226.3125\n",
      "Epoch 39/100\n",
      "1/1 [==============================] - 0s 147ms/step - loss: 0.0432 - val_loss: 84610.0938\n",
      "Epoch 40/100\n",
      "1/1 [==============================] - 0s 145ms/step - loss: 0.0236 - val_loss: 72679.6172\n",
      "Epoch 41/100\n",
      "1/1 [==============================] - 0s 159ms/step - loss: 0.0317 - val_loss: 63521.2734\n",
      "Epoch 42/100\n",
      "1/1 [==============================] - 0s 154ms/step - loss: 0.0229 - val_loss: 55684.0117\n",
      "Epoch 43/100\n",
      "1/1 [==============================] - 0s 156ms/step - loss: 0.0236 - val_loss: 48798.6133\n",
      "Epoch 44/100\n",
      "1/1 [==============================] - 0s 153ms/step - loss: 0.0264 - val_loss: 43199.9453\n",
      "Epoch 45/100\n",
      "1/1 [==============================] - 0s 167ms/step - loss: 0.0120 - val_loss: 38095.1094\n",
      "Epoch 46/100\n",
      "1/1 [==============================] - 0s 165ms/step - loss: 0.0220 - val_loss: 33030.8125\n",
      "Epoch 47/100\n",
      "1/1 [==============================] - 0s 156ms/step - loss: 0.0155 - val_loss: 28642.8320\n",
      "Epoch 48/100\n",
      "1/1 [==============================] - 0s 148ms/step - loss: 0.0129 - val_loss: 25136.3730\n",
      "Epoch 49/100\n",
      "1/1 [==============================] - 0s 148ms/step - loss: 0.0112 - val_loss: 22114.2148\n",
      "Epoch 50/100\n",
      "1/1 [==============================] - 0s 148ms/step - loss: 0.0097 - val_loss: 19443.4160\n",
      "Epoch 51/100\n",
      "1/1 [==============================] - 0s 155ms/step - loss: 0.0114 - val_loss: 17154.5957\n",
      "Epoch 52/100\n",
      "1/1 [==============================] - 0s 146ms/step - loss: 0.0083 - val_loss: 15096.6533\n",
      "Epoch 53/100\n",
      "1/1 [==============================] - 0s 154ms/step - loss: 0.0092 - val_loss: 13248.3525\n",
      "Epoch 54/100\n",
      "1/1 [==============================] - 0s 149ms/step - loss: 0.0070 - val_loss: 11776.9229\n",
      "Epoch 55/100\n",
      "1/1 [==============================] - 0s 154ms/step - loss: 0.0078 - val_loss: 10595.2158\n",
      "Epoch 56/100\n",
      "1/1 [==============================] - 0s 147ms/step - loss: 0.0062 - val_loss: 9471.0137\n",
      "Epoch 57/100\n",
      "1/1 [==============================] - 0s 154ms/step - loss: 0.0038 - val_loss: 8425.4385\n",
      "Epoch 58/100\n",
      "1/1 [==============================] - 0s 147ms/step - loss: 0.0057 - val_loss: 7513.4487\n",
      "Epoch 59/100\n",
      "1/1 [==============================] - 0s 147ms/step - loss: 0.0044 - val_loss: 6684.8379\n",
      "Epoch 60/100\n",
      "1/1 [==============================] - 0s 146ms/step - loss: 0.0038 - val_loss: 5958.5239\n",
      "Epoch 61/100\n",
      "1/1 [==============================] - 0s 150ms/step - loss: 0.0041 - val_loss: 5363.8232\n",
      "Epoch 62/100\n",
      "1/1 [==============================] - 0s 153ms/step - loss: 0.0026 - val_loss: 4829.4561\n",
      "Epoch 63/100\n",
      "1/1 [==============================] - 0s 147ms/step - loss: 0.0031 - val_loss: 4334.7656\n",
      "Epoch 64/100\n",
      "1/1 [==============================] - 0s 147ms/step - loss: 0.0029 - val_loss: 3918.9421\n",
      "Epoch 65/100\n",
      "1/1 [==============================] - 0s 160ms/step - loss: 0.0018 - val_loss: 3561.7468\n",
      "Epoch 66/100\n",
      "1/1 [==============================] - 0s 151ms/step - loss: 0.0030 - val_loss: 3229.7407\n",
      "Epoch 67/100\n",
      "1/1 [==============================] - 0s 155ms/step - loss: 0.0016 - val_loss: 2933.4690\n",
      "Epoch 68/100\n",
      "1/1 [==============================] - 0s 148ms/step - loss: 0.0011 - val_loss: 2667.8557\n",
      "Epoch 69/100\n",
      "1/1 [==============================] - 0s 153ms/step - loss: 0.0023 - val_loss: 2419.7158\n",
      "Epoch 70/100\n",
      "1/1 [==============================] - 0s 164ms/step - loss: 9.0666e-04 - val_loss: 2205.6646\n",
      "Epoch 71/100\n",
      "1/1 [==============================] - 0s 147ms/step - loss: 0.0016 - val_loss: 2029.0345\n",
      "Epoch 72/100\n",
      "1/1 [==============================] - 0s 154ms/step - loss: 0.0015 - val_loss: 1864.9672\n",
      "Epoch 73/100\n",
      "1/1 [==============================] - 0s 150ms/step - loss: 6.7881e-04 - val_loss: 1714.4426\n",
      "Epoch 74/100\n",
      "1/1 [==============================] - 0s 151ms/step - loss: 0.0014 - val_loss: 1577.7762\n",
      "Epoch 75/100\n",
      "1/1 [==============================] - 0s 154ms/step - loss: 9.1604e-04 - val_loss: 1445.6857\n",
      "Epoch 76/100\n",
      "1/1 [==============================] - 0s 147ms/step - loss: 5.3033e-04 - val_loss: 1328.7356\n",
      "Epoch 77/100\n",
      "1/1 [==============================] - 0s 149ms/step - loss: 8.3477e-04 - val_loss: 1232.5599\n",
      "Epoch 78/100\n",
      "1/1 [==============================] - 0s 155ms/step - loss: 7.2385e-04 - val_loss: 1145.5565\n",
      "Epoch 79/100\n"
     ]
    },
    {
     "name": "stdout",
     "output_type": "stream",
     "text": [
      "1/1 [==============================] - 0s 148ms/step - loss: 2.7535e-04 - val_loss: 1065.5126\n",
      "Epoch 80/100\n",
      "1/1 [==============================] - 0s 147ms/step - loss: 6.9234e-04 - val_loss: 991.8975\n",
      "Epoch 81/100\n",
      "1/1 [==============================] - 0s 146ms/step - loss: 6.0217e-04 - val_loss: 919.3019\n",
      "Epoch 82/100\n",
      "1/1 [==============================] - 0s 155ms/step - loss: 2.8513e-04 - val_loss: 853.7426\n",
      "Epoch 83/100\n",
      "1/1 [==============================] - 0s 147ms/step - loss: 5.1072e-04 - val_loss: 797.8728\n",
      "Epoch 84/100\n",
      "1/1 [==============================] - 0s 147ms/step - loss: 3.9598e-04 - val_loss: 746.1005\n",
      "Epoch 85/100\n",
      "1/1 [==============================] - 0s 148ms/step - loss: 3.0445e-04 - val_loss: 698.8267\n",
      "Epoch 86/100\n",
      "1/1 [==============================] - 0s 147ms/step - loss: 2.4065e-04 - val_loss: 656.4919\n",
      "Epoch 87/100\n",
      "1/1 [==============================] - 0s 146ms/step - loss: 3.5728e-04 - val_loss: 616.8306\n",
      "Epoch 88/100\n",
      "1/1 [==============================] - 0s 162ms/step - loss: 1.9257e-04 - val_loss: 581.2714\n",
      "Epoch 89/100\n",
      "1/1 [==============================] - 0s 148ms/step - loss: 1.5377e-04 - val_loss: 548.6320\n",
      "Epoch 90/100\n",
      "1/1 [==============================] - 0s 149ms/step - loss: 2.5549e-04 - val_loss: 517.3420\n",
      "Epoch 91/100\n",
      "1/1 [==============================] - 0s 147ms/step - loss: 1.9833e-04 - val_loss: 489.1888\n",
      "Epoch 92/100\n",
      "1/1 [==============================] - 0s 153ms/step - loss: 8.6817e-05 - val_loss: 463.7183\n",
      "Epoch 93/100\n",
      "1/1 [==============================] - 0s 148ms/step - loss: 1.5777e-04 - val_loss: 439.7885\n",
      "Epoch 94/100\n",
      "1/1 [==============================] - 0s 146ms/step - loss: 2.0057e-04 - val_loss: 418.1963\n",
      "Epoch 95/100\n",
      "1/1 [==============================] - 0s 147ms/step - loss: 8.5665e-05 - val_loss: 397.3856\n",
      "Epoch 96/100\n",
      "1/1 [==============================] - 0s 149ms/step - loss: 8.5502e-05 - val_loss: 377.4667\n",
      "Epoch 97/100\n",
      "1/1 [==============================] - 0s 147ms/step - loss: 9.2840e-05 - val_loss: 359.8361\n",
      "Epoch 98/100\n",
      "1/1 [==============================] - 0s 147ms/step - loss: 1.3080e-04 - val_loss: 343.5049\n",
      "Epoch 99/100\n",
      "1/1 [==============================] - 0s 167ms/step - loss: 4.9718e-05 - val_loss: 328.8901\n",
      "Epoch 100/100\n",
      "1/1 [==============================] - 0s 145ms/step - loss: 7.0906e-05 - val_loss: 315.3220\n"
     ]
    },
    {
     "data": {
      "text/plain": [
       "<tensorflow.python.keras.callbacks.History at 0x7fbbb006b790>"
      ]
     },
     "execution_count": 12,
     "metadata": {},
     "output_type": "execute_result"
    }
   ],
   "source": [
    "logger = CSVLogger(store_path + \"/log\")\n",
    "\n",
    "callbacks = [logger]\n",
    "\n",
    "model.compile(optimizer='adam', loss = utils.msed_loss)\n",
    "model.fit(X_train, y_train, validation_data=(X_train, y_train), callbacks=callbacks, batch_size=1, epochs=100)"
   ]
  },
  {
   "cell_type": "code",
   "execution_count": 13,
   "metadata": {},
   "outputs": [],
   "source": [
    "model.save_weights(store_path + \"/weights.hdf5\")"
   ]
  },
  {
   "cell_type": "code",
   "execution_count": 14,
   "metadata": {
    "scrolled": true
   },
   "outputs": [
    {
     "data": {
      "image/png": "[encoded data removed]",
      "text/plain": [
       "<Figure size 432x288 with 1 Axes>"
      ]
     },
     "metadata": {
      "needs_background": "light"
     },
     "output_type": "display_data"
    }
   ],
   "source": [
    "y_pred = model.predict(X_train)\n",
    "\n",
    "u_x = y_pred[0,:,:,0]\n",
    "u_y = y_pred[0,:,:,1]\n",
    "\n",
    "plt.imshow(y_pred[0,:,:,0], cmap=\"gray\")\n",
    "\n",
    "plt.imsave(store_path + \"/u_x.png\", u_x, cmap=\"gray\")\n",
    "plt.imsave(store_path + \"/u_y.png\", u_y, cmap=\"gray\")\n",
    "\n",
    "u_x.dump(store_path + \"/u_x\")\n",
    "u_y.dump(store_path + \"/u_y\")"
   ]
  },
  {
   "cell_type": "code",
   "execution_count": 15,
   "metadata": {},
   "outputs": [],
   "source": [
    "def plot_cube(img, x, y, val):\n",
    "    \n",
    "    img[y][x] = val\n",
    "    img[y][x-1] = val\n",
    "    img[y][x+1] = val\n",
    "    img[y-1][x] = val\n",
    "    img[y-1][x-1] = val\n",
    "    img[y-1][x+1] = val\n",
    "    img[y+1][x] = val\n",
    "    img[y+1][x-1] = val\n",
    "    img[y+1][x+1] = val  "
   ]
  },
  {
   "cell_type": "code",
   "execution_count": 16,
   "metadata": {},
   "outputs": [
    {
     "data": {
      "image/png": "[encoded data removed]",
      "text/plain": [
       "<Figure size 432x288 with 1 Axes>"
      ]
     },
     "metadata": {
      "needs_background": "light"
     },
     "output_type": "display_data"
    }
   ],
   "source": [
    "warp = np.zeros((width, height))\n",
    "\n",
    "for index in range(0,25):\n",
    "    x = moving_data[str(index)][0]\n",
    "    y = moving_data[str(index)][1]\n",
    "    \n",
    "    plot_cube(warp, x, y, 1) #blue\n",
    "    \n",
    "    ux_field = y_pred[0,:,:,0]\n",
    "    uy_field = y_pred[0,:,:,1]\n",
    "    \n",
    "    ux = ux_field[y][x]\n",
    "    uy = uy_field[y][x]\n",
    "    \n",
    "    x = int(round(x + ux))\n",
    "    y = int(round(y + uy))\n",
    "            \n",
    "    plot_cube(warp, x, y, 2) #green    \n",
    "    \n",
    "    x = fixed_data[str(index)][0]\n",
    "    y = fixed_data[str(index)][1]\n",
    "    \n",
    "    plot_cube(warp, x, y, 3) #yellow    \n",
    "    \n",
    "plt.imshow(warp)\n",
    "plt.imsave(store_path + \"/warp.png\", warp)"
   ]
  },
  {
   "cell_type": "code",
   "execution_count": null,
   "metadata": {},
   "outputs": [],
   "source": []
  }
 ],
 "metadata": {
  "kernelspec": {
   "display_name": "Python 3",
   "language": "python",
   "name": "python3"
  },
  "language_info": {
   "codemirror_mode": {
    "name": "ipython",
    "version": 3
   },
   "file_extension": ".py",
   "mimetype": "text/x-python",
   "name": "python",
   "nbconvert_exporter": "python",
   "pygments_lexer": "ipython3",
   "version": "3.8.2"
  }
 },
 "nbformat": 4,
 "nbformat_minor": 4
}

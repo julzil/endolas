{
 "cells": [
  {
   "cell_type": "markdown",
   "metadata": {},
   "source": [
    "# Import statements\n",
    "Following packages are necessary:"
   ]
  },
  {
   "cell_type": "code",
   "execution_count": 1,
   "metadata": {},
   "outputs": [
    {
     "name": "stdout",
     "output_type": "stream",
     "text": [
      "Segmentation Models: using `tf.keras` framework.\n"
     ]
    }
   ],
   "source": [
    "import sys\n",
    "sys.path.append(\"D:\\Julian\\workspace\\endolas\\packages\")\n",
    "\n",
    "import random\n",
    "from endolas import utils\n",
    "from endolas import ccall\n",
    "\n",
    "import tensorflow as tf\n",
    "import numpy as np\n",
    "import segmentation_models as sm\n",
    "\n",
    "from endolas import UNet\n",
    "from endolas import preprocess_input as pre_une\n",
    "from tensorflow.keras.models import Model\n",
    "from tensorflow.keras.layers import Dense, GlobalAveragePooling2D\n",
    "from tensorflow.keras.callbacks import CSVLogger, ModelCheckpoint\n",
    "from segmentation_models.losses import dice_loss\n",
    "from segmentation_models.metrics import iou_score\n",
    "from endolas import LASTENSequence\n",
    "from matplotlib import pyplot as plt"
   ]
  },
  {
   "cell_type": "markdown",
   "metadata": {
    "pycharm": {
     "name": "#%% md\n"
    }
   },
   "source": [
    "# Checks\n",
    "The version of tensorflow as well as the GPU support are checked."
   ]
  },
  {
   "cell_type": "code",
   "execution_count": 2,
   "metadata": {
    "pycharm": {
     "name": "#%%\n"
    }
   },
   "outputs": [
    {
     "name": "stdout",
     "output_type": "stream",
     "text": [
      "2.2.0-rc3\n"
     ]
    },
    {
     "data": {
      "text/plain": [
       "[PhysicalDevice(name='/physical_device:GPU:0', device_type='GPU')]"
      ]
     },
     "execution_count": 2,
     "metadata": {},
     "output_type": "execute_result"
    }
   ],
   "source": [
    "print(tf.__version__)\n",
    "physical_devices = tf.config.list_physical_devices('GPU')\n",
    "tf.config.experimental.set_memory_growth(physical_devices[0], True)\n",
    "tf.config.experimental.list_physical_devices('GPU')"
   ]
  },
  {
   "cell_type": "code",
   "execution_count": 3,
   "metadata": {},
   "outputs": [
    {
     "name": "stdout",
     "output_type": "stream",
     "text": [
      "[]\n",
      "[PhysicalDevice(name='/physical_device:CPU:0', device_type='CPU')]\n"
     ]
    }
   ],
   "source": [
    "physical_devices = tf.config.list_physical_devices('GPU')\n",
    "try:\n",
    "  # Disable all GPUS\n",
    "  tf.config.set_visible_devices([], 'GPU')\n",
    "  visible_devices = tf.config.get_visible_devices()\n",
    "  for device in visible_devices:\n",
    "    assert device.device_type != 'GPU'\n",
    "except:\n",
    "  # Invalid device or cannot modify virtual devices once initialized.\n",
    "  pass\n",
    "\n",
    "print(tf.config.get_visible_devices('GPU'))\n",
    "print(tf.config.get_visible_devices('CPU'))"
   ]
  },
  {
   "cell_type": "markdown",
   "metadata": {},
   "source": [
    "# 3.3) Supervised Segmentation without augmentation\n",
    "A U-Net is trained here to perform a semantic segmentation of laser points in the LASTEN2 data set."
   ]
  },
  {
   "cell_type": "markdown",
   "metadata": {
    "pycharm": {
     "name": "#%% md\n"
    }
   },
   "source": [
    "# Data\n",
    "Import training images"
   ]
  },
  {
   "cell_type": "code",
   "execution_count": 4,
   "metadata": {
    "pycharm": {
     "name": "#%%\n"
    }
   },
   "outputs": [],
   "source": [
    "tf.keras.backend.clear_session()\n",
    "\n",
    "#path_train = r'D:\\Julian\\data\\LASTEN2\\train'\n",
    "#path_validation = r'D:\\Julian\\data\\LASTEN2\\validation'\n",
    "#path_test = r'D:\\Julian\\data\\LASTEN2\\test'\n",
    "\n",
    "path_train = r'/home/julian/Documents/Studium/MT-Masterarbeit/Data/LASTEN2/train'\n",
    "path_validation = r'/home/julian/Documents/Studium/MT-Masterarbeit/Data/LASTEN2/validation'\n",
    "path_test = r'/home/julian/Documents/Studium/MT-Masterarbeit/Data/LASTEN2/test'\n",
    "\n",
    "width = 384 #768\n",
    "height = 384 #768"
   ]
  },
  {
   "cell_type": "markdown",
   "metadata": {
    "pycharm": {
     "name": "#%% md\n"
    }
   },
   "source": [
    "# Seeding\n",
    "Seeds are set to ensure reproducible training."
   ]
  },
  {
   "cell_type": "code",
   "execution_count": 5,
   "metadata": {
    "pycharm": {
     "name": "#%%\n"
    }
   },
   "outputs": [],
   "source": [
    "SEED = 42\n",
    "np.random.seed(SEED)\n",
    "tf.random.set_seed(SEED)\n",
    "random.seed(SEED)"
   ]
  },
  {
   "cell_type": "markdown",
   "metadata": {
    "pycharm": {
     "name": "#%% md\n"
    }
   },
   "source": [
    "# Network\n",
    "A U-Net based network is instantiated with keras to run a semantic segmentation."
   ]
  },
  {
   "cell_type": "code",
   "execution_count": 6,
   "metadata": {
    "pycharm": {
     "name": "#%%\n"
    }
   },
   "outputs": [
    {
     "name": "stdout",
     "output_type": "stream",
     "text": [
      "Model: \"model\"\n",
      "__________________________________________________________________________________________________\n",
      "Layer (type)                    Output Shape         Param #     Connected to                     \n",
      "==================================================================================================\n",
      "input_1 (InputLayer)            [(None, 384, 384, 1) 0                                            \n",
      "__________________________________________________________________________________________________\n",
      "conv2d (Conv2D)                 (None, 384, 384, 32) 288         input_1[0][0]                    \n",
      "__________________________________________________________________________________________________\n",
      "batch_normalization (BatchNorma (None, 384, 384, 32) 128         conv2d[0][0]                     \n",
      "__________________________________________________________________________________________________\n",
      "activation (Activation)         (None, 384, 384, 32) 0           batch_normalization[0][0]        \n",
      "__________________________________________________________________________________________________\n",
      "conv2d_1 (Conv2D)               (None, 384, 384, 32) 9216        activation[0][0]                 \n",
      "__________________________________________________________________________________________________\n",
      "batch_normalization_1 (BatchNor (None, 384, 384, 32) 128         conv2d_1[0][0]                   \n",
      "__________________________________________________________________________________________________\n",
      "activation_1 (Activation)       (None, 384, 384, 32) 0           batch_normalization_1[0][0]      \n",
      "__________________________________________________________________________________________________\n",
      "max_pooling2d (MaxPooling2D)    (None, 192, 192, 32) 0           activation_1[0][0]               \n",
      "__________________________________________________________________________________________________\n",
      "conv2d_2 (Conv2D)               (None, 192, 192, 64) 18432       max_pooling2d[0][0]              \n",
      "__________________________________________________________________________________________________\n",
      "batch_normalization_2 (BatchNor (None, 192, 192, 64) 256         conv2d_2[0][0]                   \n",
      "__________________________________________________________________________________________________\n",
      "activation_2 (Activation)       (None, 192, 192, 64) 0           batch_normalization_2[0][0]      \n",
      "__________________________________________________________________________________________________\n",
      "conv2d_3 (Conv2D)               (None, 192, 192, 64) 36864       activation_2[0][0]               \n",
      "__________________________________________________________________________________________________\n",
      "batch_normalization_3 (BatchNor (None, 192, 192, 64) 256         conv2d_3[0][0]                   \n",
      "__________________________________________________________________________________________________\n",
      "activation_3 (Activation)       (None, 192, 192, 64) 0           batch_normalization_3[0][0]      \n",
      "__________________________________________________________________________________________________\n",
      "max_pooling2d_1 (MaxPooling2D)  (None, 96, 96, 64)   0           activation_3[0][0]               \n",
      "__________________________________________________________________________________________________\n",
      "conv2d_4 (Conv2D)               (None, 96, 96, 128)  73728       max_pooling2d_1[0][0]            \n",
      "__________________________________________________________________________________________________\n",
      "batch_normalization_4 (BatchNor (None, 96, 96, 128)  512         conv2d_4[0][0]                   \n",
      "__________________________________________________________________________________________________\n",
      "activation_4 (Activation)       (None, 96, 96, 128)  0           batch_normalization_4[0][0]      \n",
      "__________________________________________________________________________________________________\n",
      "conv2d_5 (Conv2D)               (None, 96, 96, 128)  147456      activation_4[0][0]               \n",
      "__________________________________________________________________________________________________\n",
      "batch_normalization_5 (BatchNor (None, 96, 96, 128)  512         conv2d_5[0][0]                   \n",
      "__________________________________________________________________________________________________\n",
      "activation_5 (Activation)       (None, 96, 96, 128)  0           batch_normalization_5[0][0]      \n",
      "__________________________________________________________________________________________________\n",
      "max_pooling2d_2 (MaxPooling2D)  (None, 48, 48, 128)  0           activation_5[0][0]               \n",
      "__________________________________________________________________________________________________\n",
      "conv2d_6 (Conv2D)               (None, 48, 48, 256)  294912      max_pooling2d_2[0][0]            \n",
      "__________________________________________________________________________________________________\n",
      "batch_normalization_6 (BatchNor (None, 48, 48, 256)  1024        conv2d_6[0][0]                   \n",
      "__________________________________________________________________________________________________\n",
      "activation_6 (Activation)       (None, 48, 48, 256)  0           batch_normalization_6[0][0]      \n",
      "__________________________________________________________________________________________________\n",
      "conv2d_7 (Conv2D)               (None, 48, 48, 256)  589824      activation_6[0][0]               \n",
      "__________________________________________________________________________________________________\n",
      "batch_normalization_7 (BatchNor (None, 48, 48, 256)  1024        conv2d_7[0][0]                   \n",
      "__________________________________________________________________________________________________\n",
      "activation_7 (Activation)       (None, 48, 48, 256)  0           batch_normalization_7[0][0]      \n",
      "__________________________________________________________________________________________________\n",
      "max_pooling2d_3 (MaxPooling2D)  (None, 24, 24, 256)  0           activation_7[0][0]               \n",
      "__________________________________________________________________________________________________\n",
      "conv2d_8 (Conv2D)               (None, 24, 24, 512)  1179648     max_pooling2d_3[0][0]            \n",
      "__________________________________________________________________________________________________\n",
      "batch_normalization_8 (BatchNor (None, 24, 24, 512)  2048        conv2d_8[0][0]                   \n",
      "__________________________________________________________________________________________________\n",
      "activation_8 (Activation)       (None, 24, 24, 512)  0           batch_normalization_8[0][0]      \n",
      "__________________________________________________________________________________________________\n",
      "conv2d_9 (Conv2D)               (None, 24, 24, 256)  1179648     activation_8[0][0]               \n",
      "__________________________________________________________________________________________________\n",
      "batch_normalization_9 (BatchNor (None, 24, 24, 256)  1024        conv2d_9[0][0]                   \n",
      "__________________________________________________________________________________________________\n",
      "activation_9 (Activation)       (None, 24, 24, 256)  0           batch_normalization_9[0][0]      \n",
      "__________________________________________________________________________________________________\n",
      "up_sampling2d (UpSampling2D)    (None, 48, 48, 256)  0           activation_9[0][0]               \n",
      "__________________________________________________________________________________________________\n",
      "concatenate (Concatenate)       (None, 48, 48, 512)  0           up_sampling2d[0][0]              \n",
      "                                                                 activation_7[0][0]               \n",
      "__________________________________________________________________________________________________\n",
      "conv2d_10 (Conv2D)              (None, 48, 48, 256)  1179648     concatenate[0][0]                \n",
      "__________________________________________________________________________________________________\n",
      "batch_normalization_10 (BatchNo (None, 48, 48, 256)  1024        conv2d_10[0][0]                  \n",
      "__________________________________________________________________________________________________\n",
      "activation_10 (Activation)      (None, 48, 48, 256)  0           batch_normalization_10[0][0]     \n",
      "__________________________________________________________________________________________________\n",
      "conv2d_11 (Conv2D)              (None, 48, 48, 128)  294912      activation_10[0][0]              \n",
      "__________________________________________________________________________________________________\n",
      "batch_normalization_11 (BatchNo (None, 48, 48, 128)  512         conv2d_11[0][0]                  \n",
      "__________________________________________________________________________________________________\n",
      "activation_11 (Activation)      (None, 48, 48, 128)  0           batch_normalization_11[0][0]     \n",
      "__________________________________________________________________________________________________\n",
      "up_sampling2d_1 (UpSampling2D)  (None, 96, 96, 128)  0           activation_11[0][0]              \n",
      "__________________________________________________________________________________________________\n",
      "concatenate_1 (Concatenate)     (None, 96, 96, 256)  0           up_sampling2d_1[0][0]            \n",
      "                                                                 activation_5[0][0]               \n",
      "__________________________________________________________________________________________________\n",
      "conv2d_12 (Conv2D)              (None, 96, 96, 128)  294912      concatenate_1[0][0]              \n",
      "__________________________________________________________________________________________________\n",
      "batch_normalization_12 (BatchNo (None, 96, 96, 128)  512         conv2d_12[0][0]                  \n",
      "__________________________________________________________________________________________________\n",
      "activation_12 (Activation)      (None, 96, 96, 128)  0           batch_normalization_12[0][0]     \n",
      "__________________________________________________________________________________________________\n",
      "conv2d_13 (Conv2D)              (None, 96, 96, 64)   73728       activation_12[0][0]              \n",
      "__________________________________________________________________________________________________\n",
      "batch_normalization_13 (BatchNo (None, 96, 96, 64)   256         conv2d_13[0][0]                  \n",
      "__________________________________________________________________________________________________\n",
      "activation_13 (Activation)      (None, 96, 96, 64)   0           batch_normalization_13[0][0]     \n",
      "__________________________________________________________________________________________________\n",
      "up_sampling2d_2 (UpSampling2D)  (None, 192, 192, 64) 0           activation_13[0][0]              \n",
      "__________________________________________________________________________________________________\n",
      "concatenate_2 (Concatenate)     (None, 192, 192, 128 0           up_sampling2d_2[0][0]            \n",
      "                                                                 activation_3[0][0]               \n",
      "__________________________________________________________________________________________________\n",
      "conv2d_14 (Conv2D)              (None, 192, 192, 64) 73728       concatenate_2[0][0]              \n",
      "__________________________________________________________________________________________________\n",
      "batch_normalization_14 (BatchNo (None, 192, 192, 64) 256         conv2d_14[0][0]                  \n",
      "__________________________________________________________________________________________________\n",
      "activation_14 (Activation)      (None, 192, 192, 64) 0           batch_normalization_14[0][0]     \n",
      "__________________________________________________________________________________________________\n",
      "conv2d_15 (Conv2D)              (None, 192, 192, 32) 18432       activation_14[0][0]              \n",
      "__________________________________________________________________________________________________\n",
      "batch_normalization_15 (BatchNo (None, 192, 192, 32) 128         conv2d_15[0][0]                  \n",
      "__________________________________________________________________________________________________\n",
      "activation_15 (Activation)      (None, 192, 192, 32) 0           batch_normalization_15[0][0]     \n",
      "__________________________________________________________________________________________________\n",
      "up_sampling2d_3 (UpSampling2D)  (None, 384, 384, 32) 0           activation_15[0][0]              \n",
      "__________________________________________________________________________________________________\n",
      "concatenate_3 (Concatenate)     (None, 384, 384, 64) 0           up_sampling2d_3[0][0]            \n",
      "                                                                 activation_1[0][0]               \n",
      "__________________________________________________________________________________________________\n",
      "conv2d_16 (Conv2D)              (None, 384, 384, 32) 18432       concatenate_3[0][0]              \n",
      "__________________________________________________________________________________________________\n",
      "batch_normalization_16 (BatchNo (None, 384, 384, 32) 128         conv2d_16[0][0]                  \n",
      "__________________________________________________________________________________________________\n",
      "activation_16 (Activation)      (None, 384, 384, 32) 0           batch_normalization_16[0][0]     \n",
      "__________________________________________________________________________________________________\n",
      "conv2d_17 (Conv2D)              (None, 384, 384, 32) 9216        activation_16[0][0]              \n",
      "__________________________________________________________________________________________________\n",
      "batch_normalization_17 (BatchNo (None, 384, 384, 32) 128         conv2d_17[0][0]                  \n",
      "__________________________________________________________________________________________________\n",
      "activation_17 (Activation)      (None, 384, 384, 32) 0           batch_normalization_17[0][0]     \n",
      "__________________________________________________________________________________________________\n",
      "conv2d_18 (Conv2D)              (None, 384, 384, 1)  32          activation_17[0][0]              \n",
      "==================================================================================================\n",
      "Total params: 5,502,912\n",
      "Trainable params: 5,497,984\n",
      "Non-trainable params: 4,928\n",
      "__________________________________________________________________________________________________\n"
     ]
    }
   ],
   "source": [
    "model = UNet(filters=32, input_shape=(height, width, 1))\n",
    "model.summary()"
   ]
  },
  {
   "cell_type": "markdown",
   "metadata": {
    "pycharm": {
     "name": "#%% md\n"
    }
   },
   "source": [
    "# Data Preparation\n",
    "The generator sequence for training is built."
   ]
  },
  {
   "cell_type": "code",
   "execution_count": 7,
   "metadata": {
    "pycharm": {
     "name": "#%%\n"
    }
   },
   "outputs": [],
   "source": [
    "train_gen = LASTENSequence(path_train,\n",
    "                           batch_size=1,\n",
    "                           preprocess_input=pre_une,\n",
    "                           shuffle=True,\n",
    "                           augment=False,\n",
    "                           width=width,\n",
    "                           height=height)\n",
    "\n",
    "validation_gen = LASTENSequence(path_validation,\n",
    "                                batch_size=1,\n",
    "                                preprocess_input=pre_une,\n",
    "                                width=width,\n",
    "                                height=height)\n",
    "\n",
    "#test_gen = LASTENSequence(path_train,\n",
    "#                          batch_size=2,\n",
    "#                          preprocess_input=pre_une,\n",
    "#                          width=width,\n",
    "#                          height=height)"
   ]
  },
  {
   "cell_type": "markdown",
   "metadata": {
    "pycharm": {
     "name": "#%% md\n"
    }
   },
   "source": [
    "# Training Preparation\n",
    "Prepare the settings for training the model."
   ]
  },
  {
   "cell_type": "code",
   "execution_count": 8,
   "metadata": {
    "pycharm": {
     "name": "#%%\n"
    }
   },
   "outputs": [
    {
     "name": "stdout",
     "output_type": "stream",
     "text": [
      "WARNING:tensorflow:`period` argument is deprecated. Please use `save_freq` to specify the frequency in number of batches seen.\n"
     ]
    }
   ],
   "source": [
    "aim_path= \"3_3_segmentation\"\n",
    "\n",
    "save_path = \"../results/\" + aim_path\n",
    "\n",
    "logger = CSVLogger(save_path + \"/log\")\n",
    "checker = ModelCheckpoint(save_path + \"/weights.{epoch:02d}.hdf5\", period=10)\n",
    "checker_best = ModelCheckpoint(save_path + \"/best_weights.hdf5\", save_best_only=True)\n",
    "timelogger = ccall.TimeHistory(save_path)\n",
    "#tensorboard_callback = tf.keras.callbacks.TensorBoard(\"../tf_logs/\"+aim_path, histogram_freq=1)\n",
    "\n",
    "\n",
    "callbacks = [logger, checker, checker_best, timelogger]#, tensorboard_callback]\n",
    "\n",
    "model.compile(optimizer='adam',\n",
    "              loss = dice_loss,\n",
    "              metrics = ['accuracy', iou_score])"
   ]
  },
  {
   "cell_type": "markdown",
   "metadata": {
    "pycharm": {
     "name": "#%% md\n"
    }
   },
   "source": [
    "# Training\n",
    "The model is fitted with a generator."
   ]
  },
  {
   "cell_type": "code",
   "execution_count": 9,
   "metadata": {
    "pycharm": {
     "name": "#%%\n"
    },
    "scrolled": false
   },
   "outputs": [
    {
     "name": "stdout",
     "output_type": "stream",
     "text": [
      "Epoch 1/100\n",
      "160/160 [==============================] - 324s 2s/step - loss: 0.6722 - accuracy: 0.9279 - iou_score: 0.2043 - val_loss: 0.9007 - val_accuracy: 0.9544 - val_iou_score: 0.0528\n",
      "Epoch 2/100\n",
      "160/160 [==============================] - 315s 2s/step - loss: 0.3620 - accuracy: 0.9608 - iou_score: 0.4701 - val_loss: 0.3770 - val_accuracy: 0.9637 - val_iou_score: 0.4526\n",
      "Epoch 3/100\n",
      "160/160 [==============================] - 315s 2s/step - loss: 0.2667 - accuracy: 0.9642 - iou_score: 0.5793 - val_loss: 0.2594 - val_accuracy: 0.9644 - val_iou_score: 0.5881\n",
      "Epoch 4/100\n",
      "160/160 [==============================] - 315s 2s/step - loss: 0.2556 - accuracy: 0.9643 - iou_score: 0.5933 - val_loss: 0.2479 - val_accuracy: 0.9644 - val_iou_score: 0.6028\n",
      "Epoch 5/100\n",
      "160/160 [==============================] - 315s 2s/step - loss: 0.2485 - accuracy: 0.9643 - iou_score: 0.6023 - val_loss: 0.2424 - val_accuracy: 0.9645 - val_iou_score: 0.6100\n",
      "Epoch 6/100\n",
      "160/160 [==============================] - 319s 2s/step - loss: 0.2458 - accuracy: 0.9643 - iou_score: 0.6057 - val_loss: 0.2464 - val_accuracy: 0.9644 - val_iou_score: 0.6051\n",
      "Epoch 7/100\n",
      "160/160 [==============================] - 313s 2s/step - loss: 0.2444 - accuracy: 0.9643 - iou_score: 0.6076 - val_loss: 0.2390 - val_accuracy: 0.9644 - val_iou_score: 0.6144\n",
      "Epoch 8/100\n",
      "160/160 [==============================] - 314s 2s/step - loss: 0.2419 - accuracy: 0.9644 - iou_score: 0.6108 - val_loss: 0.2433 - val_accuracy: 0.9644 - val_iou_score: 0.6086\n",
      "Epoch 9/100\n",
      "160/160 [==============================] - 317s 2s/step - loss: 0.2396 - accuracy: 0.9644 - iou_score: 0.6138 - val_loss: 0.2357 - val_accuracy: 0.9645 - val_iou_score: 0.6187\n",
      "Epoch 10/100\n",
      "160/160 [==============================] - 315s 2s/step - loss: 0.2401 - accuracy: 0.9644 - iou_score: 0.6132 - val_loss: 0.2368 - val_accuracy: 0.9644 - val_iou_score: 0.6172\n",
      "Epoch 11/100\n",
      "160/160 [==============================] - 316s 2s/step - loss: 0.2376 - accuracy: 0.9644 - iou_score: 0.6164 - val_loss: 0.2387 - val_accuracy: 0.9644 - val_iou_score: 0.6147\n",
      "Epoch 12/100\n",
      "160/160 [==============================] - 314s 2s/step - loss: 0.2373 - accuracy: 0.9644 - iou_score: 0.6167 - val_loss: 0.2358 - val_accuracy: 0.9645 - val_iou_score: 0.6184\n",
      "Epoch 13/100\n",
      "160/160 [==============================] - 315s 2s/step - loss: 0.2363 - accuracy: 0.9644 - iou_score: 0.6181 - val_loss: 0.2351 - val_accuracy: 0.9644 - val_iou_score: 0.6195\n",
      "Epoch 14/100\n",
      "160/160 [==============================] - 315s 2s/step - loss: 0.2353 - accuracy: 0.9644 - iou_score: 0.6194 - val_loss: 0.2356 - val_accuracy: 0.9643 - val_iou_score: 0.6188\n",
      "Epoch 15/100\n",
      "160/160 [==============================] - 314s 2s/step - loss: 0.2364 - accuracy: 0.9644 - iou_score: 0.6179 - val_loss: 0.2356 - val_accuracy: 0.9645 - val_iou_score: 0.6189\n",
      "Epoch 16/100\n",
      "160/160 [==============================] - 315s 2s/step - loss: 0.2341 - accuracy: 0.9644 - iou_score: 0.6209 - val_loss: 0.2372 - val_accuracy: 0.9645 - val_iou_score: 0.6168\n",
      "Epoch 17/100\n",
      "160/160 [==============================] - 316s 2s/step - loss: 0.2335 - accuracy: 0.9644 - iou_score: 0.6217 - val_loss: 0.2333 - val_accuracy: 0.9644 - val_iou_score: 0.6219\n",
      "Epoch 18/100\n",
      "160/160 [==============================] - 316s 2s/step - loss: 0.2329 - accuracy: 0.9645 - iou_score: 0.6226 - val_loss: 0.2382 - val_accuracy: 0.9644 - val_iou_score: 0.6154\n",
      "Epoch 19/100\n",
      "160/160 [==============================] - 315s 2s/step - loss: 0.2326 - accuracy: 0.9645 - iou_score: 0.6230 - val_loss: 0.2365 - val_accuracy: 0.9643 - val_iou_score: 0.6178\n",
      "Epoch 20/100\n",
      "160/160 [==============================] - 316s 2s/step - loss: 0.2319 - accuracy: 0.9645 - iou_score: 0.6238 - val_loss: 0.2337 - val_accuracy: 0.9644 - val_iou_score: 0.6215\n",
      "Epoch 21/100\n",
      "160/160 [==============================] - 318s 2s/step - loss: 0.2314 - accuracy: 0.9645 - iou_score: 0.6245 - val_loss: 0.2327 - val_accuracy: 0.9645 - val_iou_score: 0.6227\n",
      "Epoch 22/100\n",
      "160/160 [==============================] - 318s 2s/step - loss: 0.2319 - accuracy: 0.9645 - iou_score: 0.6238 - val_loss: 0.2390 - val_accuracy: 0.9644 - val_iou_score: 0.6144\n",
      "Epoch 23/100\n",
      "160/160 [==============================] - 317s 2s/step - loss: 0.2306 - accuracy: 0.9645 - iou_score: 0.6256 - val_loss: 0.2382 - val_accuracy: 0.9644 - val_iou_score: 0.6155\n",
      "Epoch 24/100\n",
      "160/160 [==============================] - 317s 2s/step - loss: 0.2301 - accuracy: 0.9645 - iou_score: 0.6263 - val_loss: 0.2343 - val_accuracy: 0.9644 - val_iou_score: 0.6205\n",
      "Epoch 25/100\n",
      "160/160 [==============================] - 314s 2s/step - loss: 0.2299 - accuracy: 0.9645 - iou_score: 0.6265 - val_loss: 0.2358 - val_accuracy: 0.9644 - val_iou_score: 0.6187\n",
      "Epoch 26/100\n",
      "160/160 [==============================] - 329s 2s/step - loss: 0.2286 - accuracy: 0.9645 - iou_score: 0.6282 - val_loss: 0.2360 - val_accuracy: 0.9644 - val_iou_score: 0.6182\n",
      "Epoch 27/100\n",
      "160/160 [==============================] - 316s 2s/step - loss: 0.2276 - accuracy: 0.9645 - iou_score: 0.6296 - val_loss: 0.2340 - val_accuracy: 0.9644 - val_iou_score: 0.6208\n",
      "Epoch 28/100\n",
      "160/160 [==============================] - 316s 2s/step - loss: 0.2274 - accuracy: 0.9645 - iou_score: 0.6297 - val_loss: 0.2336 - val_accuracy: 0.9644 - val_iou_score: 0.6214\n",
      "Epoch 29/100\n",
      "160/160 [==============================] - 321s 2s/step - loss: 0.2261 - accuracy: 0.9645 - iou_score: 0.6315 - val_loss: 0.2342 - val_accuracy: 0.9643 - val_iou_score: 0.6206\n",
      "Epoch 30/100\n",
      "160/160 [==============================] - 315s 2s/step - loss: 0.2255 - accuracy: 0.9645 - iou_score: 0.6322 - val_loss: 0.2393 - val_accuracy: 0.9643 - val_iou_score: 0.6140\n",
      "Epoch 31/100\n",
      "160/160 [==============================] - 314s 2s/step - loss: 0.2265 - accuracy: 0.9645 - iou_score: 0.6309 - val_loss: 0.2378 - val_accuracy: 0.9644 - val_iou_score: 0.6160\n",
      "Epoch 32/100\n",
      "160/160 [==============================] - 313s 2s/step - loss: 0.2246 - accuracy: 0.9646 - iou_score: 0.6335 - val_loss: 0.2391 - val_accuracy: 0.9643 - val_iou_score: 0.6143\n",
      "Epoch 33/100\n",
      "160/160 [==============================] - 314s 2s/step - loss: 0.2241 - accuracy: 0.9646 - iou_score: 0.6342 - val_loss: 0.2351 - val_accuracy: 0.9644 - val_iou_score: 0.6195\n",
      "Epoch 34/100\n",
      "160/160 [==============================] - 315s 2s/step - loss: 0.2232 - accuracy: 0.9646 - iou_score: 0.6353 - val_loss: 0.2361 - val_accuracy: 0.9643 - val_iou_score: 0.6181\n",
      "Epoch 35/100\n",
      "160/160 [==============================] - 315s 2s/step - loss: 0.2223 - accuracy: 0.9646 - iou_score: 0.6365 - val_loss: 0.2366 - val_accuracy: 0.9643 - val_iou_score: 0.6174\n",
      "Epoch 36/100\n",
      "160/160 [==============================] - 318s 2s/step - loss: 0.2226 - accuracy: 0.9646 - iou_score: 0.6361 - val_loss: 0.2366 - val_accuracy: 0.9644 - val_iou_score: 0.6175\n",
      "Epoch 37/100\n",
      "160/160 [==============================] - 317s 2s/step - loss: 0.2213 - accuracy: 0.9646 - iou_score: 0.6379 - val_loss: 0.2358 - val_accuracy: 0.9643 - val_iou_score: 0.6187\n",
      "Epoch 38/100\n",
      "160/160 [==============================] - 316s 2s/step - loss: 0.2196 - accuracy: 0.9646 - iou_score: 0.6402 - val_loss: 0.2414 - val_accuracy: 0.9643 - val_iou_score: 0.6113\n",
      "Epoch 39/100\n",
      "160/160 [==============================] - 317s 2s/step - loss: 0.2195 - accuracy: 0.9646 - iou_score: 0.6403 - val_loss: 0.2368 - val_accuracy: 0.9644 - val_iou_score: 0.6173\n",
      "Epoch 40/100\n",
      "160/160 [==============================] - 316s 2s/step - loss: 0.2181 - accuracy: 0.9646 - iou_score: 0.6422 - val_loss: 0.2379 - val_accuracy: 0.9643 - val_iou_score: 0.6159\n",
      "Epoch 41/100\n",
      "160/160 [==============================] - 315s 2s/step - loss: 0.2179 - accuracy: 0.9646 - iou_score: 0.6425 - val_loss: 0.2385 - val_accuracy: 0.9643 - val_iou_score: 0.6151\n",
      "Epoch 42/100\n",
      "160/160 [==============================] - 315s 2s/step - loss: 0.2167 - accuracy: 0.9646 - iou_score: 0.6440 - val_loss: 0.2392 - val_accuracy: 0.9643 - val_iou_score: 0.6142\n",
      "Epoch 43/100\n",
      "160/160 [==============================] - 316s 2s/step - loss: 0.2159 - accuracy: 0.9647 - iou_score: 0.6451 - val_loss: 0.2377 - val_accuracy: 0.9643 - val_iou_score: 0.6161\n",
      "Epoch 44/100\n"
     ]
    },
    {
     "name": "stdout",
     "output_type": "stream",
     "text": [
      "160/160 [==============================] - 316s 2s/step - loss: 0.2154 - accuracy: 0.9647 - iou_score: 0.6458 - val_loss: 0.2385 - val_accuracy: 0.9643 - val_iou_score: 0.6151\n",
      "Epoch 45/100\n",
      "160/160 [==============================] - 315s 2s/step - loss: 0.2147 - accuracy: 0.9647 - iou_score: 0.6468 - val_loss: 0.2381 - val_accuracy: 0.9643 - val_iou_score: 0.6156\n",
      "Epoch 46/100\n",
      "160/160 [==============================] - 315s 2s/step - loss: 0.2137 - accuracy: 0.9647 - iou_score: 0.6480 - val_loss: 0.2367 - val_accuracy: 0.9644 - val_iou_score: 0.6175\n",
      "Epoch 47/100\n",
      "160/160 [==============================] - 315s 2s/step - loss: 0.2130 - accuracy: 0.9647 - iou_score: 0.6490 - val_loss: 0.2417 - val_accuracy: 0.9643 - val_iou_score: 0.6109\n",
      "Epoch 48/100\n",
      "160/160 [==============================] - 316s 2s/step - loss: 0.2122 - accuracy: 0.9647 - iou_score: 0.6501 - val_loss: 0.2420 - val_accuracy: 0.9643 - val_iou_score: 0.6104\n",
      "Epoch 49/100\n",
      "160/160 [==============================] - 315s 2s/step - loss: 0.2116 - accuracy: 0.9647 - iou_score: 0.6510 - val_loss: 0.2407 - val_accuracy: 0.9643 - val_iou_score: 0.6123\n",
      "Epoch 50/100\n",
      "160/160 [==============================] - 315s 2s/step - loss: 0.2101 - accuracy: 0.9647 - iou_score: 0.6530 - val_loss: 0.2385 - val_accuracy: 0.9643 - val_iou_score: 0.6151\n",
      "Epoch 51/100\n",
      "160/160 [==============================] - 315s 2s/step - loss: 0.2097 - accuracy: 0.9647 - iou_score: 0.6535 - val_loss: 0.2392 - val_accuracy: 0.9644 - val_iou_score: 0.6142\n",
      "Epoch 52/100\n",
      "160/160 [==============================] - 315s 2s/step - loss: 0.2088 - accuracy: 0.9647 - iou_score: 0.6547 - val_loss: 0.2400 - val_accuracy: 0.9643 - val_iou_score: 0.6132\n",
      "Epoch 53/100\n",
      "160/160 [==============================] - 315s 2s/step - loss: 0.2076 - accuracy: 0.9647 - iou_score: 0.6564 - val_loss: 0.2396 - val_accuracy: 0.9643 - val_iou_score: 0.6136\n",
      "Epoch 54/100\n",
      "160/160 [==============================] - 314s 2s/step - loss: 0.2071 - accuracy: 0.9647 - iou_score: 0.6570 - val_loss: 0.2383 - val_accuracy: 0.9643 - val_iou_score: 0.6153\n",
      "Epoch 55/100\n",
      "160/160 [==============================] - 314s 2s/step - loss: 0.2062 - accuracy: 0.9647 - iou_score: 0.6583 - val_loss: 0.2401 - val_accuracy: 0.9643 - val_iou_score: 0.6129\n",
      "Epoch 56/100\n",
      "160/160 [==============================] - 315s 2s/step - loss: 0.2060 - accuracy: 0.9647 - iou_score: 0.6585 - val_loss: 0.2408 - val_accuracy: 0.9643 - val_iou_score: 0.6121\n",
      "Epoch 57/100\n",
      "160/160 [==============================] - 315s 2s/step - loss: 0.2045 - accuracy: 0.9648 - iou_score: 0.6607 - val_loss: 0.2395 - val_accuracy: 0.9643 - val_iou_score: 0.6139\n",
      "Epoch 58/100\n",
      "160/160 [==============================] - 314s 2s/step - loss: 0.2050 - accuracy: 0.9648 - iou_score: 0.6600 - val_loss: 0.2390 - val_accuracy: 0.9643 - val_iou_score: 0.6144\n",
      "Epoch 59/100\n",
      "160/160 [==============================] - 315s 2s/step - loss: 0.2040 - accuracy: 0.9648 - iou_score: 0.6613 - val_loss: 0.2414 - val_accuracy: 0.9643 - val_iou_score: 0.6113\n",
      "Epoch 60/100\n",
      "160/160 [==============================] - 317s 2s/step - loss: 0.2023 - accuracy: 0.9648 - iou_score: 0.6636 - val_loss: 0.2413 - val_accuracy: 0.9643 - val_iou_score: 0.6114\n",
      "Epoch 61/100\n",
      "160/160 [==============================] - 316s 2s/step - loss: 0.2023 - accuracy: 0.9648 - iou_score: 0.6637 - val_loss: 0.2428 - val_accuracy: 0.9643 - val_iou_score: 0.6095\n",
      "Epoch 62/100\n",
      "160/160 [==============================] - 315s 2s/step - loss: 0.2018 - accuracy: 0.9648 - iou_score: 0.6643 - val_loss: 0.2425 - val_accuracy: 0.9643 - val_iou_score: 0.6098\n",
      "Epoch 63/100\n",
      "160/160 [==============================] - 315s 2s/step - loss: 0.2009 - accuracy: 0.9648 - iou_score: 0.6656 - val_loss: 0.2426 - val_accuracy: 0.9643 - val_iou_score: 0.6098\n",
      "Epoch 64/100\n",
      "160/160 [==============================] - 314s 2s/step - loss: 0.2006 - accuracy: 0.9648 - iou_score: 0.6659 - val_loss: 0.2428 - val_accuracy: 0.9643 - val_iou_score: 0.6095\n",
      "Epoch 65/100\n",
      "160/160 [==============================] - 314s 2s/step - loss: 0.2000 - accuracy: 0.9648 - iou_score: 0.6668 - val_loss: 0.2432 - val_accuracy: 0.9643 - val_iou_score: 0.6090\n",
      "Epoch 66/100\n",
      "160/160 [==============================] - 314s 2s/step - loss: 0.2000 - accuracy: 0.9648 - iou_score: 0.6669 - val_loss: 0.2460 - val_accuracy: 0.9643 - val_iou_score: 0.6053\n",
      "Epoch 67/100\n",
      "160/160 [==============================] - 315s 2s/step - loss: 0.1983 - accuracy: 0.9648 - iou_score: 0.6691 - val_loss: 0.2412 - val_accuracy: 0.9643 - val_iou_score: 0.6116\n",
      "Epoch 68/100\n",
      "160/160 [==============================] - 316s 2s/step - loss: 0.1988 - accuracy: 0.9648 - iou_score: 0.6685 - val_loss: 0.2448 - val_accuracy: 0.9643 - val_iou_score: 0.6069\n",
      "Epoch 69/100\n",
      "160/160 [==============================] - 315s 2s/step - loss: 0.1975 - accuracy: 0.9648 - iou_score: 0.6703 - val_loss: 0.2433 - val_accuracy: 0.9643 - val_iou_score: 0.6089\n",
      "Epoch 70/100\n",
      "160/160 [==============================] - 315s 2s/step - loss: 0.1967 - accuracy: 0.9648 - iou_score: 0.6714 - val_loss: 0.2443 - val_accuracy: 0.9643 - val_iou_score: 0.6075\n",
      "Epoch 71/100\n",
      "160/160 [==============================] - 315s 2s/step - loss: 0.1963 - accuracy: 0.9648 - iou_score: 0.6720 - val_loss: 0.2464 - val_accuracy: 0.9642 - val_iou_score: 0.6047\n",
      "Epoch 72/100\n",
      "160/160 [==============================] - 314s 2s/step - loss: 0.1965 - accuracy: 0.9648 - iou_score: 0.6716 - val_loss: 0.2447 - val_accuracy: 0.9643 - val_iou_score: 0.6070\n",
      "Epoch 73/100\n",
      "160/160 [==============================] - 316s 2s/step - loss: 0.1957 - accuracy: 0.9648 - iou_score: 0.6727 - val_loss: 0.2434 - val_accuracy: 0.9643 - val_iou_score: 0.6086\n",
      "Epoch 74/100\n",
      "160/160 [==============================] - 315s 2s/step - loss: 0.1951 - accuracy: 0.9648 - iou_score: 0.6736 - val_loss: 0.2439 - val_accuracy: 0.9642 - val_iou_score: 0.6081\n",
      "Epoch 75/100\n",
      "160/160 [==============================] - 315s 2s/step - loss: 0.1951 - accuracy: 0.9648 - iou_score: 0.6737 - val_loss: 0.2438 - val_accuracy: 0.9642 - val_iou_score: 0.6081\n",
      "Epoch 76/100\n",
      "160/160 [==============================] - 315s 2s/step - loss: 0.1945 - accuracy: 0.9648 - iou_score: 0.6745 - val_loss: 0.2465 - val_accuracy: 0.9642 - val_iou_score: 0.6049\n",
      "Epoch 77/100\n",
      "160/160 [==============================] - 316s 2s/step - loss: 0.1951 - accuracy: 0.9648 - iou_score: 0.6737 - val_loss: 0.2467 - val_accuracy: 0.9642 - val_iou_score: 0.6044\n",
      "Epoch 78/100\n",
      "160/160 [==============================] - 315s 2s/step - loss: 0.1935 - accuracy: 0.9648 - iou_score: 0.6758 - val_loss: 0.2478 - val_accuracy: 0.9643 - val_iou_score: 0.6029\n",
      "Epoch 79/100\n",
      "160/160 [==============================] - 316s 2s/step - loss: 0.1926 - accuracy: 0.9648 - iou_score: 0.6771 - val_loss: 0.2450 - val_accuracy: 0.9643 - val_iou_score: 0.6067\n",
      "Epoch 80/100\n",
      "160/160 [==============================] - 316s 2s/step - loss: 0.1923 - accuracy: 0.9648 - iou_score: 0.6775 - val_loss: 0.2449 - val_accuracy: 0.9642 - val_iou_score: 0.6068\n",
      "Epoch 81/100\n",
      "160/160 [==============================] - 315s 2s/step - loss: 0.1920 - accuracy: 0.9648 - iou_score: 0.6779 - val_loss: 0.2473 - val_accuracy: 0.9642 - val_iou_score: 0.6036\n",
      "Epoch 82/100\n",
      "160/160 [==============================] - 315s 2s/step - loss: 0.1917 - accuracy: 0.9648 - iou_score: 0.6784 - val_loss: 0.2432 - val_accuracy: 0.9643 - val_iou_score: 0.6090\n",
      "Epoch 83/100\n",
      "160/160 [==============================] - 317s 2s/step - loss: 0.1911 - accuracy: 0.9648 - iou_score: 0.6792 - val_loss: 0.2453 - val_accuracy: 0.9643 - val_iou_score: 0.6062\n",
      "Epoch 84/100\n",
      "160/160 [==============================] - 316s 2s/step - loss: 0.1910 - accuracy: 0.9648 - iou_score: 0.6793 - val_loss: 0.2441 - val_accuracy: 0.9642 - val_iou_score: 0.6078\n",
      "Epoch 85/100\n",
      "160/160 [==============================] - 316s 2s/step - loss: 0.1902 - accuracy: 0.9648 - iou_score: 0.6805 - val_loss: 0.2458 - val_accuracy: 0.9642 - val_iou_score: 0.6056\n",
      "Epoch 86/100\n",
      "160/160 [==============================] - 316s 2s/step - loss: 0.1905 - accuracy: 0.9648 - iou_score: 0.6801 - val_loss: 0.2454 - val_accuracy: 0.9642 - val_iou_score: 0.6061\n",
      "Epoch 87/100\n"
     ]
    },
    {
     "name": "stdout",
     "output_type": "stream",
     "text": [
      "160/160 [==============================] - 314s 2s/step - loss: 0.1893 - accuracy: 0.9648 - iou_score: 0.6817 - val_loss: 0.2459 - val_accuracy: 0.9642 - val_iou_score: 0.6055\n",
      "Epoch 88/100\n",
      "160/160 [==============================] - 315s 2s/step - loss: 0.1890 - accuracy: 0.9648 - iou_score: 0.6822 - val_loss: 0.2465 - val_accuracy: 0.9642 - val_iou_score: 0.6048\n",
      "Epoch 89/100\n",
      "160/160 [==============================] - 315s 2s/step - loss: 0.1885 - accuracy: 0.9648 - iou_score: 0.6829 - val_loss: 0.2476 - val_accuracy: 0.9642 - val_iou_score: 0.6034\n",
      "Epoch 90/100\n",
      "160/160 [==============================] - 317s 2s/step - loss: 0.1881 - accuracy: 0.9648 - iou_score: 0.6834 - val_loss: 0.2478 - val_accuracy: 0.9642 - val_iou_score: 0.6031\n",
      "Epoch 91/100\n",
      "160/160 [==============================] - 317s 2s/step - loss: 0.1883 - accuracy: 0.9648 - iou_score: 0.6832 - val_loss: 0.2492 - val_accuracy: 0.9642 - val_iou_score: 0.6014\n",
      "Epoch 92/100\n",
      "160/160 [==============================] - 315s 2s/step - loss: 0.1879 - accuracy: 0.9648 - iou_score: 0.6837 - val_loss: 0.2481 - val_accuracy: 0.9642 - val_iou_score: 0.6027\n",
      "Epoch 93/100\n",
      "160/160 [==============================] - 315s 2s/step - loss: 0.1872 - accuracy: 0.9648 - iou_score: 0.6847 - val_loss: 0.2467 - val_accuracy: 0.9642 - val_iou_score: 0.6044\n",
      "Epoch 94/100\n",
      "160/160 [==============================] - 315s 2s/step - loss: 0.1866 - accuracy: 0.9648 - iou_score: 0.6856 - val_loss: 0.2489 - val_accuracy: 0.9642 - val_iou_score: 0.6017\n",
      "Epoch 95/100\n",
      "160/160 [==============================] - 318s 2s/step - loss: 0.1865 - accuracy: 0.9648 - iou_score: 0.6857 - val_loss: 0.2474 - val_accuracy: 0.9642 - val_iou_score: 0.6036\n",
      "Epoch 96/100\n",
      "160/160 [==============================] - 316s 2s/step - loss: 0.1859 - accuracy: 0.9648 - iou_score: 0.6866 - val_loss: 0.2530 - val_accuracy: 0.9642 - val_iou_score: 0.5963\n",
      "Epoch 97/100\n",
      "160/160 [==============================] - 316s 2s/step - loss: 0.1862 - accuracy: 0.9649 - iou_score: 0.6861 - val_loss: 0.2506 - val_accuracy: 0.9643 - val_iou_score: 0.5994\n",
      "Epoch 98/100\n",
      "160/160 [==============================] - 315s 2s/step - loss: 0.1859 - accuracy: 0.9649 - iou_score: 0.6866 - val_loss: 0.2476 - val_accuracy: 0.9642 - val_iou_score: 0.6033\n",
      "Epoch 99/100\n",
      "160/160 [==============================] - 315s 2s/step - loss: 0.1847 - accuracy: 0.9649 - iou_score: 0.6883 - val_loss: 0.2493 - val_accuracy: 0.9642 - val_iou_score: 0.6011\n",
      "Epoch 100/100\n",
      "160/160 [==============================] - 315s 2s/step - loss: 0.1852 - accuracy: 0.9648 - iou_score: 0.6876 - val_loss: 0.2473 - val_accuracy: 0.9642 - val_iou_score: 0.6037\n"
     ]
    },
    {
     "data": {
      "text/plain": [
       "<tensorflow.python.keras.callbacks.History at 0x7f9940178b20>"
      ]
     },
     "execution_count": 9,
     "metadata": {},
     "output_type": "execute_result"
    }
   ],
   "source": [
    "model.fit(train_gen,\n",
    "                    epochs=100,\n",
    "                    callbacks=callbacks,\n",
    "                    validation_data=validation_gen,\n",
    "                    validation_freq=1,\n",
    "                    #use_multiprocessing=True,\n",
    "                    workers=10,\n",
    "                    max_queue_size=32)"
   ]
  },
  {
   "cell_type": "markdown",
   "metadata": {},
   "source": [
    "# Evaluation"
   ]
  },
  {
   "cell_type": "code",
   "execution_count": 10,
   "metadata": {},
   "outputs": [],
   "source": [
    "X, y = validation_gen[0]\n",
    "y_pred = model.predict(X)\n",
    "\n",
    "plt.imsave(save_path + \"/y.png\",y[0,:,:,0], cmap=\"gray\")\n",
    "plt.imsave(save_path + \"/y_pred.png\",y_pred[0,:,:,0], cmap=\"gray\")"
   ]
  },
  {
   "cell_type": "code",
   "execution_count": 11,
   "metadata": {},
   "outputs": [],
   "source": [
    "test_gen = LASTENSequence(path_train,\n",
    "                          batch_size=1,\n",
    "                          preprocess_input=pre_une,\n",
    "                          width=width,\n",
    "                          height=height)"
   ]
  },
  {
   "cell_type": "code",
   "execution_count": null,
   "metadata": {},
   "outputs": [],
   "source": []
  }
 ],
 "metadata": {
  "kernelspec": {
   "display_name": "Python 3",
   "language": "python",
   "name": "python3"
  },
  "language_info": {
   "codemirror_mode": {
    "name": "ipython",
    "version": 3
   },
   "file_extension": ".py",
   "mimetype": "text/x-python",
   "name": "python",
   "nbconvert_exporter": "python",
   "pygments_lexer": "ipython3",
   "version": "3.8.2"
  }
 },
 "nbformat": 4,
 "nbformat_minor": 4
}

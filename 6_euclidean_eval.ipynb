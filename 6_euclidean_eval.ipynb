{
 "cells": [
  {
   "cell_type": "markdown",
   "metadata": {},
   "source": [
    "# Import statements\n",
    "Following packages are necessary:"
   ]
  },
  {
   "cell_type": "code",
   "execution_count": 1,
   "metadata": {
    "scrolled": true
   },
   "outputs": [],
   "source": [
    "import random\n",
    "import utils\n",
    "import closs\n",
    "import os\n",
    "import imageio\n",
    "import json\n",
    "from simplegen import SIMPLESequence\n",
    "\n",
    "import tensorflow as tf\n",
    "import numpy as np\n",
    "import tensorflow.keras.backend as kb\n",
    "from tensorflow.keras.callbacks import CSVLogger, ModelCheckpoint\n",
    "\n",
    "from unet import UNet\n",
    "from unet import preprocess_input as pre_une\n",
    "\n",
    "from matplotlib import pyplot as plt\n",
    "import pandas as pd\n",
    "import seaborn as sns\n",
    "from pdb import set_trace"
   ]
  },
  {
   "cell_type": "markdown",
   "metadata": {
    "pycharm": {
     "name": "#%% md\n"
    }
   },
   "source": [
    "# Checks\n",
    "The version of tensorflow as well as the GPU support are checked."
   ]
  },
  {
   "cell_type": "code",
   "execution_count": 2,
   "metadata": {
    "pycharm": {
     "name": "#%%\n"
    },
    "scrolled": false
   },
   "outputs": [
    {
     "name": "stdout",
     "output_type": "stream",
     "text": [
      "2.2.0-rc3\n"
     ]
    },
    {
     "data": {
      "text/plain": [
       "[PhysicalDevice(name='/physical_device:GPU:0', device_type='GPU')]"
      ]
     },
     "execution_count": 2,
     "metadata": {},
     "output_type": "execute_result"
    }
   ],
   "source": [
    "print(tf.__version__)\n",
    "physical_devices = tf.config.experimental.list_physical_devices('GPU')\n",
    "tf.config.experimental.set_memory_growth(physical_devices[0], True)\n",
    "tf.config.experimental.get_visible_devices('GPU')"
   ]
  },
  {
   "cell_type": "code",
   "execution_count": 3,
   "metadata": {},
   "outputs": [
    {
     "name": "stdout",
     "output_type": "stream",
     "text": [
      "[]\n",
      "[PhysicalDevice(name='/physical_device:CPU:0', device_type='CPU')]\n"
     ]
    }
   ],
   "source": [
    "physical_devices = tf.config.list_physical_devices('GPU')\n",
    "try:\n",
    "  # Disable all GPUS\n",
    "  tf.config.set_visible_devices([], 'GPU')\n",
    "  visible_devices = tf.config.get_visible_devices()\n",
    "  for device in visible_devices:\n",
    "    assert device.device_type != 'GPU'\n",
    "except:\n",
    "  # Invalid device or cannot modify virtual devices once initialized.\n",
    "  pass\n",
    "\n",
    "print(tf.config.get_visible_devices('GPU'))\n",
    "print(tf.config.get_visible_devices('CPU'))"
   ]
  },
  {
   "cell_type": "markdown",
   "metadata": {},
   "source": [
    "# Definition\n",
    "Size definition is done here"
   ]
  },
  {
   "cell_type": "code",
   "execution_count": 4,
   "metadata": {},
   "outputs": [],
   "source": [
    "width = 224\n",
    "height = 224\n",
    "\n",
    "grid_width = 5\n",
    "grid_height = 5\n",
    "\n",
    "grid_points = grid_width * grid_height"
   ]
  },
  {
   "cell_type": "markdown",
   "metadata": {},
   "source": [
    "# Functionality\n",
    "Necessary funcionality is added here"
   ]
  },
  {
   "cell_type": "code",
   "execution_count": 5,
   "metadata": {},
   "outputs": [],
   "source": [
    "def eval_pred(model, path_train, path_fixed, path_validation, path_test, store_path, multi_channel):\n",
    "    validation_gen = SIMPLESequence(path_validation, path_fixed,\n",
    "                                    batch_size=1,\n",
    "                                    preprocess_input=pre_une,\n",
    "                                    multi_channel=multi_channel)\n",
    "    \n",
    "    test_gen = SIMPLESequence(path_test, path_fixed,\n",
    "                                batch_size=1,\n",
    "                                preprocess_input=pre_une,\n",
    "                                multi_channel=multi_channel)\n",
    "\n",
    "    eu_loss = closs.EuclideanLoss(batch_size=1, loss_type='min')\n",
    "\n",
    "    model.compile(optimizer='adam', loss = eu_loss)\n",
    "    model.load_weights(store_path+'/weights.100.hdf5')\n",
    "\n",
    "    warp_val = dict()\n",
    "    maed_val_array = np.zeros(len(validation_gen))\n",
    "    for index, val in enumerate(validation_gen):\n",
    "        image_id = validation_gen._image_ids[index]\n",
    "        \n",
    "        if index % 100 == 0:\n",
    "            print(index)\n",
    "        X, y = val\n",
    "        maed = model.evaluate(X,y,verbose=0)\n",
    "        maed_val_array[index] = maed\n",
    "\n",
    "        #y_pred = model.predict(X)\n",
    "        #u_x = y_pred[0,:,:,0]\n",
    "        #u_y = y_pred[0,:,:,1]\n",
    "\n",
    "        #for inner_index in range(0,grid_points):\n",
    "        #    x_pos = int(y[0, inner_index, 0, 0])\n",
    "        #    y_pos = int(y[0, inner_index, 1, 0])\n",
    "\n",
    "        #    ux_field = y_pred[0,:,:,0]\n",
    "        #    uy_field = y_pred[0,:,:,1]\n",
    "\n",
    "        #    ux = ux_field[y_pos][x_pos]\n",
    "        #    uy = uy_field[y_pos][x_pos]\n",
    "\n",
    "        #   x_pos = int(round(x_pos + ux))\n",
    "        #    y_pos = int(round(y_pos + uy))\n",
    "\n",
    "        #    warp_val[str(inner_index)] = [x_pos, y_pos]\n",
    "        #    with open(store_path +'/val/{}_w.json'.format(image_id), 'w') as fp:\n",
    "        #        json.dump(warp_val, fp)\n",
    "\n",
    "\n",
    "    warp_test = dict()\n",
    "    maed_test_array = np.zeros(len(test_gen))\n",
    "    for index, val in enumerate(test_gen):\n",
    "        image_id = test_gen._image_ids[index]\n",
    "        \n",
    "        if index % 100 == 0:\n",
    "            print(index)\n",
    "        X, y = val\n",
    "        maed = model.evaluate(X,y,verbose=0)\n",
    "        maed_test_array[index] = maed\n",
    "        \n",
    "        #y_pred = model.predict(X)\n",
    "        #u_x = y_pred[0,:,:,0]\n",
    "        #u_y = y_pred[0,:,:,1]\n",
    "\n",
    "        #for inner_index in range(0,grid_points):\n",
    "        #    x_pos = int(y[0, inner_index, 0, 0])\n",
    "        #    y_pos = int(y[0, inner_index, 1, 0])\n",
    "\n",
    "        #    ux_field = y_pred[0,:,:,0]\n",
    "        #    uy_field = y_pred[0,:,:,1]\n",
    "\n",
    "        #    ux = ux_field[y_pos][x_pos]\n",
    "        #    uy = uy_field[y_pos][x_pos]\n",
    "\n",
    "        #    x_pos = int(round(x_pos + ux))\n",
    "        #    y_pos = int(round(y_pos + uy))\n",
    "\n",
    "        #   warp_test[str(inner_index)] = [x_pos, y_pos]\n",
    "        #    with open(store_path +'/test/{}_w.json'.format(image_id), 'w') as fp:\n",
    "        #        json.dump(warp_test, fp)\n",
    "\n",
    "    maed_array = np.concatenate((maed_val_array, maed_test_array))\n",
    "    val_set = ['val' for i in range(len(validation_gen))]\n",
    "    test_set = ['test' for i in range(len(test_gen))]\n",
    "    set_type = val_set + test_set\n",
    "    image_id = validation_gen._image_ids + test_gen._image_ids\n",
    "\n",
    "    dataset = pd.DataFrame({'MIN': maed_array, 'Set': set_type, 'Image': image_id})\n",
    "    dataset.to_csv(store_path + '/evaluation_min.csv')"
   ]
  },
  {
   "cell_type": "markdown",
   "metadata": {},
   "source": [
    "# 6.4) Supervised Euclidean for SIMPLEA"
   ]
  },
  {
   "cell_type": "code",
   "execution_count": 6,
   "metadata": {},
   "outputs": [
    {
     "name": "stdout",
     "output_type": "stream",
     "text": [
      "0\n",
      "100\n",
      "200\n",
      "300\n",
      "400\n",
      "500\n",
      "600\n",
      "700\n",
      "0\n",
      "100\n",
      "200\n",
      "300\n",
      "400\n",
      "500\n",
      "600\n",
      "700\n"
     ]
    }
   ],
   "source": [
    "store_path = 'experiments/6_4_euclidean'\n",
    "\n",
    "path_fixed = '/home/julian/Documents/Studium/MT-Masterarbeit/Data/SIMPLEA/train/0'\n",
    "path_train = '/home/julian/Documents/Studium/MT-Masterarbeit/Data/SIMPLEA/train'\n",
    "path_validation = '/home/julian/Documents/Studium/MT-Masterarbeit/Data/SIMPLEA/validation'\n",
    "path_test = '/home/julian/Documents/Studium/MT-Masterarbeit/Data/SIMPLEA/test'\n",
    "\n",
    "model = UNet(filters=32, layers=4, activation='linear', classes=2, input_shape=(224, 224, 1))\n",
    "\n",
    "eval_pred(model, path_train, path_fixed, path_validation, path_test, store_path, 'moving')"
   ]
  },
  {
   "cell_type": "markdown",
   "metadata": {},
   "source": [
    "# 6.5) Supervised Euclidean for SIMPLEN"
   ]
  },
  {
   "cell_type": "code",
   "execution_count": 7,
   "metadata": {},
   "outputs": [
    {
     "name": "stdout",
     "output_type": "stream",
     "text": [
      "0\n",
      "100\n",
      "200\n",
      "300\n",
      "400\n",
      "500\n",
      "600\n",
      "700\n",
      "0\n",
      "100\n",
      "200\n",
      "300\n",
      "400\n",
      "500\n",
      "600\n",
      "700\n"
     ]
    }
   ],
   "source": [
    "store_path = 'experiments/6_5_euclidean'\n",
    "\n",
    "path_fixed = '/home/julian/Documents/Studium/MT-Masterarbeit/Data/SIMPLEN/train/0'\n",
    "path_train = '/home/julian/Documents/Studium/MT-Masterarbeit/Data/SIMPLEN/train'\n",
    "path_validation = '/home/julian/Documents/Studium/MT-Masterarbeit/Data/SIMPLEN/validation'\n",
    "path_test = '/home/julian/Documents/Studium/MT-Masterarbeit/Data/SIMPLEN/test'\n",
    "\n",
    "model = UNet(filters=32, layers=4, activation='linear', classes=2, input_shape=(224, 224, 1))\n",
    "\n",
    "eval_pred(model, path_train, path_fixed, path_validation, path_test, store_path, 'moving')"
   ]
  },
  {
   "cell_type": "markdown",
   "metadata": {},
   "source": [
    "# 6.6) Supervised Euclidean for SIMPLED"
   ]
  },
  {
   "cell_type": "code",
   "execution_count": 8,
   "metadata": {},
   "outputs": [
    {
     "name": "stdout",
     "output_type": "stream",
     "text": [
      "0\n",
      "100\n",
      "200\n",
      "300\n",
      "400\n",
      "500\n",
      "600\n",
      "700\n",
      "0\n",
      "100\n",
      "200\n",
      "300\n",
      "400\n",
      "500\n",
      "600\n",
      "700\n"
     ]
    }
   ],
   "source": [
    "store_path = 'experiments/6_6_euclidean'\n",
    "\n",
    "path_fixed = '/home/julian/Documents/Studium/MT-Masterarbeit/Data/SIMPLED/train/0'\n",
    "path_train = '/home/julian/Documents/Studium/MT-Masterarbeit/Data/SIMPLED/train'\n",
    "path_validation = '/home/julian/Documents/Studium/MT-Masterarbeit/Data/SIMPLED/validation'\n",
    "path_test = '/home/julian/Documents/Studium/MT-Masterarbeit/Data/SIMPLED/test'\n",
    "\n",
    "model = UNet(filters=32, layers=4, activation='linear', classes=2, input_shape=(224, 224, 1))\n",
    "\n",
    "eval_pred(model, path_train, path_fixed, path_validation, path_test, store_path, 'moving')"
   ]
  },
  {
   "cell_type": "markdown",
   "metadata": {},
   "source": [
    "# 6.7) Supervised Euclidean for SIMPLED with mean absolute error"
   ]
  },
  {
   "cell_type": "code",
   "execution_count": 9,
   "metadata": {},
   "outputs": [
    {
     "name": "stdout",
     "output_type": "stream",
     "text": [
      "0\n",
      "100\n",
      "200\n",
      "300\n",
      "400\n",
      "500\n",
      "600\n",
      "700\n",
      "0\n",
      "100\n",
      "200\n",
      "300\n",
      "400\n",
      "500\n",
      "600\n",
      "700\n"
     ]
    }
   ],
   "source": [
    "store_path = 'experiments/6_7_euclidean'\n",
    "\n",
    "path_fixed = '/home/julian/Documents/Studium/MT-Masterarbeit/Data/SIMPLED/train/0'\n",
    "path_train = '/home/julian/Documents/Studium/MT-Masterarbeit/Data/SIMPLED/train'\n",
    "path_validation = '/home/julian/Documents/Studium/MT-Masterarbeit/Data/SIMPLED/validation'\n",
    "path_test = '/home/julian/Documents/Studium/MT-Masterarbeit/Data/SIMPLED/test'\n",
    "\n",
    "model = UNet(filters=32, layers=4, activation='linear', classes=2, input_shape=(224, 224, 1))\n",
    "\n",
    "eval_pred(model, path_train, path_fixed, path_validation, path_test, store_path, 'moving')"
   ]
  },
  {
   "cell_type": "markdown",
   "metadata": {},
   "source": [
    "# 6.8) Supervised Euclidean for SIMPLED with fixed image"
   ]
  },
  {
   "cell_type": "code",
   "execution_count": 10,
   "metadata": {
    "pycharm": {
     "name": "#%%\n"
    }
   },
   "outputs": [
    {
     "name": "stdout",
     "output_type": "stream",
     "text": [
      "0\n",
      "100\n",
      "200\n",
      "300\n",
      "400\n",
      "500\n",
      "600\n",
      "700\n",
      "0\n",
      "100\n",
      "200\n",
      "300\n",
      "400\n",
      "500\n",
      "600\n",
      "700\n"
     ]
    }
   ],
   "source": [
    "store_path = 'experiments/6_8_euclidean'\n",
    "\n",
    "path_fixed = '/home/julian/Documents/Studium/MT-Masterarbeit/Data/SIMPLED/train/0'\n",
    "path_train = '/home/julian/Documents/Studium/MT-Masterarbeit/Data/SIMPLED/train'\n",
    "path_validation = '/home/julian/Documents/Studium/MT-Masterarbeit/Data/SIMPLED/validation'\n",
    "path_test = '/home/julian/Documents/Studium/MT-Masterarbeit/Data/SIMPLED/test'\n",
    "\n",
    "model = UNet(filters=32, layers=4, activation='linear', classes=2, input_shape=(224, 224, 2))\n",
    "\n",
    "eval_pred(model, path_train, path_fixed, path_validation, path_test, store_path, 'fixed')"
   ]
  },
  {
   "cell_type": "markdown",
   "metadata": {},
   "source": [
    "# 6.9) Supervised Euclidean for SIMPLED with difference image"
   ]
  },
  {
   "cell_type": "code",
   "execution_count": 11,
   "metadata": {},
   "outputs": [
    {
     "name": "stdout",
     "output_type": "stream",
     "text": [
      "0\n",
      "100\n",
      "200\n",
      "300\n",
      "400\n",
      "500\n",
      "600\n",
      "700\n",
      "0\n",
      "100\n",
      "200\n",
      "300\n",
      "400\n",
      "500\n",
      "600\n",
      "700\n"
     ]
    }
   ],
   "source": [
    "store_path = 'experiments/6_9_euclidean'\n",
    "\n",
    "path_fixed = '/home/julian/Documents/Studium/MT-Masterarbeit/Data/SIMPLED/train/0'\n",
    "path_train = '/home/julian/Documents/Studium/MT-Masterarbeit/Data/SIMPLED/train'\n",
    "path_validation = '/home/julian/Documents/Studium/MT-Masterarbeit/Data/SIMPLED/validation'\n",
    "path_test = '/home/julian/Documents/Studium/MT-Masterarbeit/Data/SIMPLED/test'\n",
    "\n",
    "model = UNet(filters=32, layers=4, activation='linear', classes=2, input_shape=(224, 224, 2))\n",
    "\n",
    "eval_pred(model, path_train, path_fixed, path_validation, path_test, store_path, 'diff')"
   ]
  },
  {
   "cell_type": "markdown",
   "metadata": {},
   "source": [
    "# 6.10) Supervised Euclidean for SIMPLED with difference image and gradient"
   ]
  },
  {
   "cell_type": "code",
   "execution_count": 12,
   "metadata": {},
   "outputs": [
    {
     "name": "stderr",
     "output_type": "stream",
     "text": [
      "/home/julian/anaconda3/envs/endolas/lib/python3.8/site-packages/skimage/filters/rank/generic.py:118: UserWarning: Possible precision loss converting image of type float32 to uint8 as required by rank filters. Convert manually using skimage.util.img_as_ubyte to silence this warning.\n",
      "  image, selem, out, mask, n_bins = _handle_input(image, selem, out, mask,\n"
     ]
    },
    {
     "name": "stdout",
     "output_type": "stream",
     "text": [
      "0\n",
      "100\n",
      "200\n",
      "300\n",
      "400\n",
      "500\n",
      "600\n",
      "700\n",
      "0\n",
      "100\n",
      "200\n",
      "300\n",
      "400\n",
      "500\n",
      "600\n",
      "700\n"
     ]
    }
   ],
   "source": [
    "store_path = 'experiments/6_10_euclidean'\n",
    "\n",
    "path_fixed = '/home/julian/Documents/Studium/MT-Masterarbeit/Data/SIMPLED/train/0'\n",
    "path_train = '/home/julian/Documents/Studium/MT-Masterarbeit/Data/SIMPLED/train'\n",
    "path_validation = '/home/julian/Documents/Studium/MT-Masterarbeit/Data/SIMPLED/validation'\n",
    "path_test = '/home/julian/Documents/Studium/MT-Masterarbeit/Data/SIMPLED/test'\n",
    "\n",
    "model = UNet(filters=32, layers=4, activation='linear', classes=2, input_shape=(224, 224, 3))\n",
    "\n",
    "eval_pred(model, path_train, path_fixed, path_validation, path_test, store_path, 'grad')"
   ]
  },
  {
   "cell_type": "markdown",
   "metadata": {},
   "source": [
    "# 6.11) Supervised Euclidean for SIMPLED with L1 regularization"
   ]
  },
  {
   "cell_type": "code",
   "execution_count": 13,
   "metadata": {},
   "outputs": [
    {
     "name": "stdout",
     "output_type": "stream",
     "text": [
      "0\n",
      "100\n",
      "200\n",
      "300\n",
      "400\n",
      "500\n",
      "600\n",
      "700\n",
      "0\n",
      "100\n",
      "200\n",
      "300\n",
      "400\n",
      "500\n",
      "600\n",
      "700\n"
     ]
    }
   ],
   "source": [
    "store_path = 'experiments/6_11_euclidean'\n",
    "\n",
    "path_fixed = '/home/julian/Documents/Studium/MT-Masterarbeit/Data/SIMPLED/train/0'\n",
    "path_train = '/home/julian/Documents/Studium/MT-Masterarbeit/Data/SIMPLED/train'\n",
    "path_validation = '/home/julian/Documents/Studium/MT-Masterarbeit/Data/SIMPLED/validation'\n",
    "path_test = '/home/julian/Documents/Studium/MT-Masterarbeit/Data/SIMPLED/test'\n",
    "\n",
    "kernel_regularizer=tf.keras.regularizers.l1(0.01)\n",
    "\n",
    "model = UNet(filters=32,\n",
    "             layers=4,\n",
    "             activation='linear',\n",
    "             classes=2,\n",
    "             input_shape=(224, 224, 1),\n",
    "             kernel_regularizer=kernel_regularizer)\n",
    "\n",
    "eval_pred(model, path_train, path_fixed, path_validation, path_test, store_path, 'moving')"
   ]
  },
  {
   "cell_type": "markdown",
   "metadata": {},
   "source": [
    "# 6.12) Supervised Euclidean for SIMPLED with L2 regularization"
   ]
  },
  {
   "cell_type": "code",
   "execution_count": 14,
   "metadata": {},
   "outputs": [
    {
     "name": "stdout",
     "output_type": "stream",
     "text": [
      "0\n",
      "100\n",
      "200\n",
      "300\n",
      "400\n",
      "500\n",
      "600\n",
      "700\n",
      "0\n",
      "100\n",
      "200\n",
      "300\n",
      "400\n",
      "500\n",
      "600\n",
      "700\n"
     ]
    }
   ],
   "source": [
    "store_path = 'experiments/6_12_euclidean'\n",
    "\n",
    "path_fixed = '/home/julian/Documents/Studium/MT-Masterarbeit/Data/SIMPLED/train/0'\n",
    "path_train = '/home/julian/Documents/Studium/MT-Masterarbeit/Data/SIMPLED/train'\n",
    "path_validation = '/home/julian/Documents/Studium/MT-Masterarbeit/Data/SIMPLED/validation'\n",
    "path_test = '/home/julian/Documents/Studium/MT-Masterarbeit/Data/SIMPLED/test'\n",
    "\n",
    "kernel_regularizer=tf.keras.regularizers.l2(0.01)\n",
    "\n",
    "model = UNet(filters=32,\n",
    "             layers=4,\n",
    "             activation='linear',\n",
    "             classes=2,\n",
    "             input_shape=(224, 224, 1),\n",
    "             kernel_regularizer=kernel_regularizer)\n",
    "\n",
    "eval_pred(model, path_train, path_fixed, path_validation, path_test, store_path, 'moving')"
   ]
  }
 ],
 "metadata": {
  "kernelspec": {
   "display_name": "Python 3",
   "language": "python",
   "name": "python3"
  },
  "language_info": {
   "codemirror_mode": {
    "name": "ipython",
    "version": 3
   },
   "file_extension": ".py",
   "mimetype": "text/x-python",
   "name": "python",
   "nbconvert_exporter": "python",
   "pygments_lexer": "ipython3",
   "version": "3.8.2"
  }
 },
 "nbformat": 4,
 "nbformat_minor": 4
}

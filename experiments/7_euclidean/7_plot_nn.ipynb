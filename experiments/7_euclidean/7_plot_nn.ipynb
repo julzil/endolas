{
 "cells": [
  {
   "cell_type": "markdown",
   "metadata": {},
   "source": [
    "# Import packages"
   ]
  },
  {
   "cell_type": "code",
   "execution_count": 1,
   "metadata": {},
   "outputs": [],
   "source": [
    "import sys\n",
    "#sys.path.append(\"D:\\Julian\\workspace\\endolas\")\n",
    "sys.path.append(\"/home/julian/Documents/Studium/MT-Masterarbeit/Workspace/endolas\")\n",
    "\n",
    "import numpy as np\n",
    "import matplotlib.pyplot as plt\n",
    "import utils\n",
    "import os\n",
    "import importlib\n",
    "\n",
    "import pandas as pd\n",
    "import seaborn as sns"
   ]
  },
  {
   "cell_type": "markdown",
   "metadata": {},
   "source": [
    "# Load data and plot"
   ]
  },
  {
   "cell_type": "code",
   "execution_count": 2,
   "metadata": {
    "scrolled": true
   },
   "outputs": [],
   "source": [
    "data = pd.read_csv('evaluation_nn.csv')"
   ]
  },
  {
   "cell_type": "code",
   "execution_count": 3,
   "metadata": {},
   "outputs": [
    {
     "data": {
      "image/png": "[encoded data removed]",
      "text/plain": [
       "<Figure size 864x288 with 1 Axes>"
      ]
     },
     "metadata": {},
     "output_type": "display_data"
    }
   ],
   "source": [
    "plt.rcParams['figure.figsize'] = 12,4\n",
    "sns.set(style=\"whitegrid\", palette=\"pastel\", color_codes=True)\n",
    "\n",
    "# Load the example tips dataset\n",
    "tips = sns.load_dataset(\"tips\")\n",
    "\n",
    "# Draw a nested violinplot and split the violins for easier comparison\n",
    "ax=sns.violinplot(x=\"Experiment\", y=\"Accuracy\", hue=\"Set\",\n",
    "               split=True,\n",
    "               cut=0,\n",
    "               #palette={\"val\": \"m\", \"test\": \"r\"},\n",
    "               whis=[0, 100],\n",
    "               data=data)\n",
    "\n",
    "#ax.set(ylim=(0.9, 1.0))\n",
    "ax.set_xlabel(\"ID\")\n",
    "sns.despine(left=True)\n",
    "\n",
    "plt.savefig(\"violin_nn.svg\")"
   ]
  },
  {
   "cell_type": "code",
   "execution_count": 4,
   "metadata": {
    "scrolled": true
   },
   "outputs": [
    {
     "name": "stderr",
     "output_type": "stream",
     "text": [
      "<ipython-input-4-592374ffe423>:7: UserWarning: Boolean Series key will be reindexed to match DataFrame index.\n",
      "  mean_acc_val.append(data[data.Experiment==i][data.Set=='val']['Accuracy'].mean())\n",
      "<ipython-input-4-592374ffe423>:8: UserWarning: Boolean Series key will be reindexed to match DataFrame index.\n",
      "  mean_acc_test.append(data[data.Experiment==i][data.Set=='test']['Accuracy'].mean())\n"
     ]
    }
   ],
   "source": [
    "mean_acc_val = []\n",
    "mean_acc_test = []\n",
    "indices = [4,5,6,7,8,9,10,11,12]\n",
    "indices_str = x = np.array(['4','5','6','7','8','9','10','11','12'])\n",
    "\n",
    "for i in indices:\n",
    "    mean_acc_val.append(data[data.Experiment==i][data.Set=='val']['Accuracy'].mean())\n",
    "    mean_acc_test.append(data[data.Experiment==i][data.Set=='test']['Accuracy'].mean())"
   ]
  },
  {
   "cell_type": "code",
   "execution_count": 5,
   "metadata": {},
   "outputs": [],
   "source": [
    "def show_values_on_bars(axs, h_v=\"v\", space=-0.4, offset = 0.001):\n",
    "    def _show_on_single_plot(ax):\n",
    "        if h_v == \"v\":\n",
    "            for p in ax.patches:\n",
    "                _x = p.get_x() + p.get_width() / 2\n",
    "                _y = p.get_y() + p.get_height() + offset\n",
    "                value = round(p.get_height(),2)\n",
    "                ax.text(_x, _y, value, ha=\"center\") \n",
    "        elif h_v == \"h\":\n",
    "            for p in ax.patches:\n",
    "                _x = p.get_x() + p.get_width() + float(space)\n",
    "                _y = p.get_y() + p.get_height() + offset\n",
    "                value = round(p.width(),2)\n",
    "                ax.text(_x, _y, value, ha=\"center\")\n",
    "\n",
    "    if isinstance(axs, np.ndarray):\n",
    "        for idx, ax in np.ndenumerate(axs):\n",
    "            _show_on_single_plot(ax)\n",
    "    else:\n",
    "        _show_on_single_plot(axs)"
   ]
  },
  {
   "cell_type": "code",
   "execution_count": 6,
   "metadata": {
    "scrolled": true
   },
   "outputs": [
    {
     "name": "stderr",
     "output_type": "stream",
     "text": [
      "posx and posy should be finite values\n",
      "posx and posy should be finite values\n",
      "posx and posy should be finite values\n",
      "posx and posy should be finite values\n",
      "posx and posy should be finite values\n",
      "posx and posy should be finite values\n",
      "posx and posy should be finite values\n",
      "posx and posy should be finite values\n",
      "posx and posy should be finite values\n",
      "posx and posy should be finite values\n",
      "posx and posy should be finite values\n",
      "posx and posy should be finite values\n",
      "posx and posy should be finite values\n",
      "posx and posy should be finite values\n",
      "posx and posy should be finite values\n",
      "posx and posy should be finite values\n",
      "posx and posy should be finite values\n",
      "posx and posy should be finite values\n",
      "posx and posy should be finite values\n",
      "posx and posy should be finite values\n",
      "posx and posy should be finite values\n",
      "posx and posy should be finite values\n",
      "posx and posy should be finite values\n",
      "posx and posy should be finite values\n",
      "posx and posy should be finite values\n",
      "posx and posy should be finite values\n",
      "posx and posy should be finite values\n",
      "posx and posy should be finite values\n",
      "posx and posy should be finite values\n",
      "posx and posy should be finite values\n",
      "posx and posy should be finite values\n",
      "posx and posy should be finite values\n",
      "posx and posy should be finite values\n",
      "posx and posy should be finite values\n",
      "posx and posy should be finite values\n",
      "posx and posy should be finite values\n"
     ]
    },
    {
     "data": {
      "image/png": "[encoded data removed]",
      "text/plain": [
       "<Figure size 432x216 with 1 Axes>"
      ]
     },
     "metadata": {},
     "output_type": "display_data"
    }
   ],
   "source": [
    "plt.rcParams['figure.figsize'] = 6,3\n",
    "sns.set(style=\"white\")#, context=\"talk\")\n",
    "ax = sns.barplot(x=indices_str, y=mean_acc_test, order=indices_str, palette=\"hls\")\n",
    "\n",
    "ax.set_ylabel(\"Mean Accuracy\")\n",
    "ax.set_xlabel(\"ID(test)\")\n",
    "ax.set(ylim=(0.9, 1.0))\n",
    "\n",
    "show_values_on_bars(ax)\n",
    "sns.despine(bottom=True)\n",
    "\n",
    "plt.savefig(\"barblot_nn_test.svg\")"
   ]
  },
  {
   "cell_type": "code",
   "execution_count": null,
   "metadata": {},
   "outputs": [],
   "source": []
  }
 ],
 "metadata": {
  "kernelspec": {
   "display_name": "Python 3",
   "language": "python",
   "name": "python3"
  },
  "language_info": {
   "codemirror_mode": {
    "name": "ipython",
    "version": 3
   },
   "file_extension": ".py",
   "mimetype": "text/x-python",
   "name": "python",
   "nbconvert_exporter": "python",
   "pygments_lexer": "ipython3",
   "version": "3.8.2"
  }
 },
 "nbformat": 4,
 "nbformat_minor": 2
}

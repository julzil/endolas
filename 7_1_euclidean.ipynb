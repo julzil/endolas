{
 "cells": [
  {
   "cell_type": "markdown",
   "metadata": {},
   "source": [
    "# Import statements\n",
    "Following packages are necessary:"
   ]
  },
  {
   "cell_type": "code",
   "execution_count": 1,
   "metadata": {
    "scrolled": true
   },
   "outputs": [],
   "source": [
    "import random\n",
    "import utils\n",
    "import os\n",
    "import imageio\n",
    "import json\n",
    "import closs\n",
    "import ccall\n",
    "\n",
    "from simplegen import SIMPLESequence\n",
    "from lastengen import LASTENSequence\n",
    "\n",
    "import tensorflow as tf\n",
    "import numpy as np\n",
    "import tensorflow.keras.backend as kb\n",
    "from tensorflow.keras.callbacks import CSVLogger, ModelCheckpoint\n",
    "\n",
    "from unet import UNet\n",
    "from unet import preprocess_input as pre_une\n",
    "\n",
    "from matplotlib import pyplot as plt"
   ]
  },
  {
   "cell_type": "markdown",
   "metadata": {
    "pycharm": {
     "name": "#%% md\n"
    }
   },
   "source": [
    "# Checks\n",
    "The version of tensorflow as well as the GPU support are checked."
   ]
  },
  {
   "cell_type": "code",
   "execution_count": 2,
   "metadata": {
    "pycharm": {
     "name": "#%%\n"
    },
    "scrolled": false
   },
   "outputs": [
    {
     "name": "stdout",
     "output_type": "stream",
     "text": [
      "2.0.0\n"
     ]
    },
    {
     "data": {
      "text/plain": [
       "[PhysicalDevice(name='/physical_device:GPU:0', device_type='GPU')]"
      ]
     },
     "execution_count": 2,
     "metadata": {},
     "output_type": "execute_result"
    }
   ],
   "source": [
    "print(tf.__version__)\n",
    "physical_devices = tf.config.experimental.list_physical_devices('GPU')\n",
    "tf.config.experimental.set_memory_growth(physical_devices[0], True)\n",
    "tf.config.experimental.get_visible_devices('GPU')"
   ]
  },
  {
   "cell_type": "markdown",
   "metadata": {},
   "source": [
    "# Functionality\n",
    "Necessary funcionality is added here"
   ]
  },
  {
   "cell_type": "code",
   "execution_count": 3,
   "metadata": {},
   "outputs": [],
   "source": [
    "def plot_cube(img, x, y, val):\n",
    "    \n",
    "    img[y][x] = val\n",
    "    img[y][x-1] = val\n",
    "    img[y][x+1] = val\n",
    "    img[y-1][x] = val\n",
    "    img[y-1][x-1] = val\n",
    "    img[y-1][x+1] = val\n",
    "    img[y+1][x] = val\n",
    "    img[y+1][x-1] = val\n",
    "    img[y+1][x+1] = val  "
   ]
  },
  {
   "cell_type": "markdown",
   "metadata": {},
   "source": [
    "# 7.1) Supervised Euclidean for LASTEN with fixed image\n",
    "A U-Net is trained here to predict a displacement field and the euclidean distance is taken as error."
   ]
  },
  {
   "cell_type": "markdown",
   "metadata": {
    "pycharm": {
     "name": "#%% md\n"
    }
   },
   "source": [
    "# Data\n",
    "Import training images"
   ]
  },
  {
   "cell_type": "code",
   "execution_count": 4,
   "metadata": {
    "pycharm": {
     "name": "#%%\n"
    }
   },
   "outputs": [],
   "source": [
    "store_path = 'experiments/7_1_euclidean'\n",
    "\n",
    "#path_fixed = '/home/julian/Documents/Studium/MT-Masterarbeit/Data/LASTEN/fix'\n",
    "#path_train = '/home/julian/Documents/Studium/MT-Masterarbeit/Data/LASTEN/train'\n",
    "#path_validation = '/home/julian/Documents/Studium/MT-Masterarbeit/Data/LASTEN/validation'\n",
    "#path_test = '/home/julian/Documents/Studium/MT-Masterarbeit/Data/LASTEN/test'\n",
    "\n",
    "path_fixed = r'D:\\Julian\\data\\LASTEN\\fix'\n",
    "path_train = r'D:\\Julian\\data\\LASTEN\\train'\n",
    "path_validation = r'D:\\Julian\\data\\LASTEN\\validation'\n",
    "path_test = r'D:\\Julian\\data\\LASTEN\\test'\n",
    "\n",
    "width = 384\n",
    "height = 384\n",
    "\n",
    "grid_width = 18\n",
    "grid_height = 18"
   ]
  },
  {
   "cell_type": "markdown",
   "metadata": {
    "pycharm": {
     "name": "#%% md\n"
    }
   },
   "source": [
    "# Seeding\n",
    "Seeds are set to ensure reproducible training."
   ]
  },
  {
   "cell_type": "code",
   "execution_count": 5,
   "metadata": {
    "pycharm": {
     "name": "#%%\n"
    }
   },
   "outputs": [],
   "source": [
    "SEED = 42\n",
    "np.random.seed(SEED)\n",
    "tf.random.set_seed(SEED)\n",
    "random.seed(SEED)"
   ]
  },
  {
   "cell_type": "markdown",
   "metadata": {
    "pycharm": {
     "name": "#%% md\n"
    }
   },
   "source": [
    "# Network\n",
    "A U-Net based network is instantiated with keras to run a semantic segmentation."
   ]
  },
  {
   "cell_type": "code",
   "execution_count": 6,
   "metadata": {
    "pycharm": {
     "name": "#%%\n"
    }
   },
   "outputs": [],
   "source": [
    "model = UNet(filters=32, layers=4, activation='linear', classes=2, input_shape=(width, height, 2))"
   ]
  },
  {
   "cell_type": "markdown",
   "metadata": {
    "pycharm": {
     "name": "#%% md\n"
    }
   },
   "source": [
    "# Training Preparation\n",
    "Prepare the settings for training the model."
   ]
  },
  {
   "cell_type": "code",
   "execution_count": 7,
   "metadata": {
    "scrolled": true
   },
   "outputs": [
    {
     "name": "stdout",
     "output_type": "stream",
     "text": [
      "WARNING:tensorflow:`period` argument is deprecated. Please use `save_freq` to specify the frequency in number of samples seen.\n"
     ]
    }
   ],
   "source": [
    "batch_size=2\n",
    "\n",
    "train_gen = LASTENSequence(path_train,\n",
    "                           path_fixed,\n",
    "                           batch_size=batch_size,\n",
    "                           width=width,\n",
    "                           height=height,\n",
    "                           grid_width=grid_width, \n",
    "                           grid_height=grid_height,\n",
    "                           preprocess_input=pre_une,\n",
    "                           shuffle=True,\n",
    "                           label=\"keypoints\",\n",
    "                           channel=\"moving+fixed\")\n",
    "\n",
    "val_gen = LASTENSequence(path_validation,\n",
    "                           path_fixed,\n",
    "                           batch_size=batch_size,\n",
    "                           width=width,\n",
    "                           height=height,\n",
    "                           grid_width=grid_width, \n",
    "                           grid_height=grid_height,\n",
    "                           preprocess_input=pre_une,\n",
    "                           shuffle=False,\n",
    "                           label=\"keypoints\",\n",
    "                           channel=\"moving+fixed\")\n",
    "\n",
    "logger = CSVLogger(store_path + \"/log\")\n",
    "checker = ModelCheckpoint(store_path + \"/weights.{epoch:02d}.hdf5\",\n",
    "                          period=10)\n",
    "timelogger = ccall.TimeHistory(store_path)\n",
    "vallogger = ccall.ValidationHistory(store_path, val_gen)\n",
    "callbacks = [logger, checker, timelogger, vallogger]\n",
    "\n",
    "eu_loss = closs.EuclideanLoss(batch_size=batch_size, grid_width=grid_width, grid_height=grid_height, loss_type='msed')\n",
    "eu_metric = closs.EuclideanLoss(batch_size=batch_size, grid_width=grid_width, grid_height=grid_height, loss_type='maed')\n",
    "\n",
    "model.compile(optimizer='adam', loss=eu_loss, metrics=[eu_metric])"
   ]
  },
  {
   "cell_type": "code",
   "execution_count": 8,
   "metadata": {},
   "outputs": [
    {
     "data": {
      "text/plain": [
       "<matplotlib.image.AxesImage at 0x206aebc7cc8>"
      ]
     },
     "execution_count": 8,
     "metadata": {},
     "output_type": "execute_result"
    },
    {
     "data": {
      "image/png": "[encoded data removed]",
      "text/plain": [
       "<Figure size 432x288 with 1 Axes>"
      ]
     },
     "metadata": {
      "needs_background": "light"
     },
     "output_type": "display_data"
    }
   ],
   "source": [
    "X, y = train_gen[0]\n",
    "\n",
    "plt.imshow(X[0,:,:,1])"
   ]
  },
  {
   "cell_type": "markdown",
   "metadata": {},
   "source": [
    "# Training\n",
    "Run the training."
   ]
  },
  {
   "cell_type": "code",
   "execution_count": 9,
   "metadata": {
    "pycharm": {
     "name": "#%%\n"
    },
    "scrolled": false
   },
   "outputs": [
    {
     "name": "stdout",
     "output_type": "stream",
     "text": [
      "Train for 84 steps, validate for 18 steps\n",
      "Epoch 1/100\n"
     ]
    },
    {
     "name": "stderr",
     "output_type": "stream",
     "text": [
      "C:\\Users\\zilkerjn\\AppData\\Local\\Continuum\\anaconda3\\envs\\glotax\\lib\\site-packages\\tensorflow_core\\python\\framework\\indexed_slices.py:424: UserWarning: Converting sparse IndexedSlices to a dense Tensor of unknown shape. This may consume a large amount of memory.\n",
      "  \"Converting sparse IndexedSlices to a dense Tensor of unknown shape. \"\n",
      "C:\\Users\\zilkerjn\\AppData\\Local\\Continuum\\anaconda3\\envs\\glotax\\lib\\site-packages\\tensorflow_core\\python\\framework\\indexed_slices.py:424: UserWarning: Converting sparse IndexedSlices to a dense Tensor of unknown shape. This may consume a large amount of memory.\n",
      "  \"Converting sparse IndexedSlices to a dense Tensor of unknown shape. \"\n",
      "C:\\Users\\zilkerjn\\AppData\\Local\\Continuum\\anaconda3\\envs\\glotax\\lib\\site-packages\\tensorflow_core\\python\\framework\\indexed_slices.py:424: UserWarning: Converting sparse IndexedSlices to a dense Tensor of unknown shape. This may consume a large amount of memory.\n",
      "  \"Converting sparse IndexedSlices to a dense Tensor of unknown shape. \"\n",
      "C:\\Users\\zilkerjn\\AppData\\Local\\Continuum\\anaconda3\\envs\\glotax\\lib\\site-packages\\tensorflow_core\\python\\framework\\indexed_slices.py:424: UserWarning: Converting sparse IndexedSlices to a dense Tensor of unknown shape. This may consume a large amount of memory.\n",
      "  \"Converting sparse IndexedSlices to a dense Tensor of unknown shape. \"\n"
     ]
    },
    {
     "name": "stdout",
     "output_type": "stream",
     "text": [
      "18/18 [==============================] - 2s 106ms/step - loss: 1692.7706 - maed: 36.4112\n",
      "84/84 [==============================] - 81s 960ms/step - loss: 1030.4792 - maed: 27.0839 - val_loss: 1692.7706 - val_maed: 36.4112\n",
      "Epoch 2/100\n",
      "18/18 [==============================] - 2s 94ms/step - loss: 1902.8280 - maed: 38.1990 0s - loss: 1801.\n",
      "84/84 [==============================] - 15s 177ms/step - loss: 449.7449 - maed: 17.5845 - val_loss: 1902.8280 - val_maed: 38.1990\n",
      "Epoch 3/100\n",
      "18/18 [==============================] - 2s 109ms/step - loss: 929.7053 - maed: 26.2920\n",
      "84/84 [==============================] - 15s 180ms/step - loss: 205.7367 - maed: 11.6792 - val_loss: 929.7053 - val_maed: 26.2920\n",
      "Epoch 4/100\n",
      "18/18 [==============================] - 2s 101ms/step - loss: 500.3039 - maed: 19.0461\n",
      "84/84 [==============================] - 15s 174ms/step - loss: 155.1189 - maed: 10.3084 - val_loss: 500.3039 - val_maed: 19.0461\n",
      "Epoch 5/100\n",
      "18/18 [==============================] - 2s 107ms/step - loss: 873.5213 - maed: 25.3583 0s - loss: 827.1958 - maed: 24.6\n",
      "84/84 [==============================] - 15s 174ms/step - loss: 121.7116 - maed: 9.1027 - val_loss: 873.5213 - val_maed: 25.3583\n",
      "Epoch 6/100\n",
      "18/18 [==============================] - 2s 100ms/step - loss: 535.5607 - maed: 19.6393\n",
      "84/84 [==============================] - 15s 176ms/step - loss: 103.3962 - maed: 8.3934 - val_loss: 535.5607 - val_maed: 19.6393\n",
      "Epoch 7/100\n",
      "18/18 [==============================] - 2s 106ms/step - loss: 390.3723 - maed: 16.6378\n",
      "84/84 [==============================] - 15s 184ms/step - loss: 77.1127 - maed: 7.1608 - val_loss: 390.3723 - val_maed: 16.6378\n",
      "Epoch 8/100\n",
      "18/18 [==============================] - 2s 100ms/step - loss: 400.7039 - maed: 16.6800\n",
      "84/84 [==============================] - 15s 179ms/step - loss: 65.2383 - maed: 6.6588 - val_loss: 400.7039 - val_maed: 16.6800\n",
      "Epoch 9/100\n",
      "18/18 [==============================] - 2s 107ms/step - loss: 462.5726 - maed: 18.4877\n",
      "84/84 [==============================] - 15s 176ms/step - loss: 66.2326 - maed: 6.7708 - val_loss: 462.5726 - val_maed: 18.4877\n",
      "Epoch 10/100\n",
      "18/18 [==============================] - 2s 105ms/step - loss: 325.2659 - maed: 15.2176 1s - loss: 268.3651 - mae\n",
      "84/84 [==============================] - 16s 187ms/step - loss: 62.7947 - maed: 6.5370 - val_loss: 325.2659 - val_maed: 15.2176\n",
      "Epoch 11/100\n",
      "18/18 [==============================] - 2s 111ms/step - loss: 365.3863 - maed: 16.1583\n",
      "84/84 [==============================] - 15s 181ms/step - loss: 84.1169 - maed: 7.4451 - val_loss: 365.3863 - val_maed: 16.1583\n",
      "Epoch 12/100\n",
      "18/18 [==============================] - 2s 109ms/step - loss: 394.3548 - maed: 17.1553\n",
      "84/84 [==============================] - 16s 188ms/step - loss: 58.3845 - maed: 6.1322 - val_loss: 394.3548 - val_maed: 17.1553\n",
      "Epoch 13/100\n",
      "18/18 [==============================] - 2s 103ms/step - loss: 280.2338 - maed: 14.0023\n",
      "84/84 [==============================] - 15s 178ms/step - loss: 38.5154 - maed: 4.9930 - val_loss: 280.2338 - val_maed: 14.0023\n",
      "Epoch 14/100\n",
      "18/18 [==============================] - 2s 99ms/step - loss: 263.3082 - maed: 13.5784\n",
      "84/84 [==============================] - 15s 182ms/step - loss: 39.7076 - maed: 5.1579 - val_loss: 263.3082 - val_maed: 13.5784\n",
      "Epoch 15/100\n",
      "18/18 [==============================] - 2s 101ms/step - loss: 1054.6217 - maed: 29.0099\n",
      "84/84 [==============================] - 15s 180ms/step - loss: 31.3157 - maed: 4.5791 - val_loss: 1054.6217 - val_maed: 29.0099\n",
      "Epoch 16/100\n",
      "18/18 [==============================] - 2s 103ms/step - loss: 265.6211 - maed: 13.2300 0s - loss: 280.3977 - maed: 13.\n",
      "84/84 [==============================] - 15s 184ms/step - loss: 32.5668 - maed: 4.6556 - val_loss: 265.6211 - val_maed: 13.2300\n",
      "Epoch 17/100\n",
      "18/18 [==============================] - 2s 115ms/step - loss: 1035.8965 - maed: 26.5980\n",
      "84/84 [==============================] - 15s 175ms/step - loss: 50.5288 - maed: 5.6274 - val_loss: 1035.8965 - val_maed: 26.5980\n",
      "Epoch 18/100\n",
      "18/18 [==============================] - 2s 109ms/step - loss: 279.0244 - maed: 13.6551\n",
      "84/84 [==============================] - 16s 185ms/step - loss: 36.9904 - maed: 4.8006 - val_loss: 279.0244 - val_maed: 13.6551\n",
      "Epoch 19/100\n",
      "18/18 [==============================] - 2s 101ms/step - loss: 252.4737 - maed: 13.5462\n",
      "84/84 [==============================] - 15s 177ms/step - loss: 26.4729 - maed: 4.1739 - val_loss: 252.4737 - val_maed: 13.5462\n",
      "Epoch 20/100\n",
      "18/18 [==============================] - 2s 103ms/step - loss: 301.1397 - maed: 14.5318\n",
      "84/84 [==============================] - 16s 188ms/step - loss: 35.6164 - maed: 4.8326 - val_loss: 301.1397 - val_maed: 14.5318\n",
      "Epoch 21/100\n",
      "18/18 [==============================] - 2s 104ms/step - loss: 259.8541 - maed: 13.1636\n",
      "84/84 [==============================] - 15s 180ms/step - loss: 21.3308 - maed: 3.7999 - val_loss: 259.8541 - val_maed: 13.1636\n",
      "Epoch 22/100\n",
      "18/18 [==============================] - 2s 106ms/step - loss: 269.3865 - maed: 13.9404\n",
      "84/84 [==============================] - 15s 178ms/step - loss: 30.0280 - maed: 4.4473 - val_loss: 269.3865 - val_maed: 13.9404\n",
      "Epoch 23/100\n",
      "18/18 [==============================] - 2s 106ms/step - loss: 324.4564 - maed: 14.8307\n",
      "84/84 [==============================] - 15s 178ms/step - loss: 27.8677 - maed: 4.3433 - val_loss: 324.4564 - val_maed: 14.8307\n",
      "Epoch 24/100\n",
      "18/18 [==============================] - 2s 102ms/step - loss: 214.6664 - maed: 12.3200\n",
      "84/84 [==============================] - 15s 178ms/step - loss: 14.6353 - maed: 3.1409 - val_loss: 214.6664 - val_maed: 12.3200\n",
      "Epoch 25/100\n",
      "18/18 [==============================] - 2s 106ms/step - loss: 244.0584 - maed: 12.8432\n",
      "84/84 [==============================] - 15s 184ms/step - loss: 12.9022 - maed: 2.9490 - val_loss: 244.0584 - val_maed: 12.8432\n",
      "Epoch 26/100\n",
      "18/18 [==============================] - 2s 106ms/step - loss: 235.4834 - maed: 13.0680\n",
      "84/84 [==============================] - 15s 181ms/step - loss: 13.2652 - maed: 2.9802 - val_loss: 235.4834 - val_maed: 13.0680\n",
      "Epoch 27/100\n",
      "18/18 [==============================] - 2s 111ms/step - loss: 246.5078 - maed: 12.6081\n",
      "84/84 [==============================] - 15s 176ms/step - loss: 11.5746 - maed: 2.8129 - val_loss: 246.5078 - val_maed: 12.6081\n",
      "Epoch 28/100\n",
      "18/18 [==============================] - 2s 104ms/step - loss: 204.0602 - maed: 11.9136\n",
      "84/84 [==============================] - 15s 178ms/step - loss: 10.4675 - maed: 2.6494 - val_loss: 204.0602 - val_maed: 11.9136\n",
      "Epoch 29/100\n",
      "18/18 [==============================] - 2s 106ms/step - loss: 226.8531 - maed: 12.4157- loss: 8.5956 - ma - ETA: 0s - los\n",
      "84/84 [==============================] - 15s 177ms/step - loss: 9.4322 - maed: 2.5070 - val_loss: 226.8531 - val_maed: 12.4157\n",
      "Epoch 30/100\n",
      "18/18 [==============================] - 2s 105ms/step - loss: 269.7011 - maed: 13.6241\n",
      "84/84 [==============================] - 15s 178ms/step - loss: 11.8854 - maed: 2.8300 - val_loss: 269.7011 - val_maed: 13.6241\n",
      "Epoch 31/100\n",
      "18/18 [==============================] - 2s 105ms/step - loss: 291.1964 - maed: 14.3159\n",
      "84/84 [==============================] - 15s 176ms/step - loss: 24.8629 - maed: 4.1602 - val_loss: 291.1964 - val_maed: 14.3159\n",
      "Epoch 32/100\n",
      "18/18 [==============================] - 2s 112ms/step - loss: 274.2511 - maed: 14.2848\n",
      "84/84 [==============================] - 15s 184ms/step - loss: 26.8240 - maed: 4.2085 - val_loss: 274.2511 - val_maed: 14.2848\n",
      "Epoch 33/100\n",
      "18/18 [==============================] - 2s 106ms/step - loss: 309.0404 - maed: 14.9890\n",
      "84/84 [==============================] - 16s 185ms/step - loss: 39.9450 - maed: 5.1699 - val_loss: 309.0404 - val_maed: 14.9890\n",
      "Epoch 34/100\n",
      "18/18 [==============================] - 2s 111ms/step - loss: 250.5775 - maed: 13.7251\n",
      "84/84 [==============================] - 15s 175ms/step - loss: 19.0647 - maed: 3.5627 - val_loss: 250.5775 - val_maed: 13.7251\n",
      "Epoch 35/100\n",
      "18/18 [==============================] - 2s 106ms/step - loss: 236.4254 - maed: 13.0438s - loss: 12\n",
      "84/84 [==============================] - 15s 176ms/step - loss: 12.1088 - maed: 2.8887 - val_loss: 236.4254 - val_maed: 13.0438\n",
      "Epoch 36/100\n"
     ]
    },
    {
     "name": "stdout",
     "output_type": "stream",
     "text": [
      "18/18 [==============================] - 2s 106ms/step - loss: 273.2377 - maed: 14.2806\n",
      "84/84 [==============================] - 15s 182ms/step - loss: 11.8783 - maed: 2.8286 - val_loss: 273.2377 - val_maed: 14.2806\n",
      "Epoch 37/100\n",
      "18/18 [==============================] - 2s 111ms/step - loss: 550.4663 - maed: 20.3515\n",
      "84/84 [==============================] - 15s 176ms/step - loss: 29.0117 - maed: 4.4085 - val_loss: 550.4663 - val_maed: 20.3515\n",
      "Epoch 38/100\n",
      "18/18 [==============================] - 2s 115ms/step - loss: 200.0632 - maed: 12.0202\n",
      "84/84 [==============================] - 15s 178ms/step - loss: 41.7815 - maed: 5.3148 - val_loss: 200.0632 - val_maed: 12.0202\n",
      "Epoch 39/100\n",
      "18/18 [==============================] - 2s 113ms/step - loss: 226.7144 - maed: 12.7136\n",
      "84/84 [==============================] - 15s 176ms/step - loss: 15.1392 - maed: 3.2060 - val_loss: 226.7144 - val_maed: 12.7136\n",
      "Epoch 40/100\n",
      "18/18 [==============================] - 2s 104ms/step - loss: 209.1968 - maed: 12.1071\n",
      "84/84 [==============================] - 15s 182ms/step - loss: 9.0766 - maed: 2.5114 - val_loss: 209.1968 - val_maed: 12.1071\n",
      "Epoch 41/100\n",
      "18/18 [==============================] - 2s 106ms/step - loss: 197.2506 - maed: 11.7995\n",
      "84/84 [==============================] - 15s 177ms/step - loss: 8.3213 - maed: 2.3924 - val_loss: 197.2506 - val_maed: 11.7995\n",
      "Epoch 42/100\n",
      "18/18 [==============================] - 2s 103ms/step - loss: 199.3226 - maed: 11.5613\n",
      "84/84 [==============================] - 15s 177ms/step - loss: 6.3457 - maed: 2.0664 - val_loss: 199.3226 - val_maed: 11.5613\n",
      "Epoch 43/100\n",
      "18/18 [==============================] - 2s 111ms/step - loss: 252.1039 - maed: 13.6778\n",
      "84/84 [==============================] - 15s 178ms/step - loss: 10.2549 - maed: 2.5873 - val_loss: 252.1039 - val_maed: 13.6778\n",
      "Epoch 44/100\n",
      "18/18 [==============================] - 2s 107ms/step - loss: 196.6198 - maed: 11.8198\n",
      "84/84 [==============================] - 15s 176ms/step - loss: 8.2365 - maed: 2.3562 - val_loss: 196.6198 - val_maed: 11.8198\n",
      "Epoch 45/100\n",
      "18/18 [==============================] - 2s 111ms/step - loss: 240.6297 - maed: 13.1167\n",
      "84/84 [==============================] - 15s 176ms/step - loss: 8.9409 - maed: 2.4729 - val_loss: 240.6297 - val_maed: 13.1167\n",
      "Epoch 46/100\n",
      "18/18 [==============================] - 2s 110ms/step - loss: 311.2592 - maed: 15.0452s - loss: \n",
      "84/84 [==============================] - 15s 176ms/step - loss: 13.4774 - maed: 2.9727 - val_loss: 311.2592 - val_maed: 15.0452\n",
      "Epoch 47/100\n",
      "18/18 [==============================] - 2s 107ms/step - loss: 224.2501 - maed: 12.6154\n",
      "84/84 [==============================] - 15s 176ms/step - loss: 10.7201 - maed: 2.7084 - val_loss: 224.2501 - val_maed: 12.6154\n",
      "Epoch 48/100\n",
      "18/18 [==============================] - 2s 103ms/step - loss: 195.0779 - maed: 11.8097\n",
      "84/84 [==============================] - 16s 185ms/step - loss: 7.1509 - maed: 2.1522 - val_loss: 195.0779 - val_maed: 11.8097\n",
      "Epoch 49/100\n",
      "18/18 [==============================] - 2s 101ms/step - loss: 206.8158 - maed: 11.7392- loss: 6.9\n",
      "84/84 [==============================] - 15s 175ms/step - loss: 6.8878 - maed: 2.1319 - val_loss: 206.8158 - val_maed: 11.7392\n",
      "Epoch 50/100\n",
      "18/18 [==============================] - 2s 113ms/step - loss: 212.0601 - maed: 12.1853\n",
      "84/84 [==============================] - 16s 187ms/step - loss: 5.2021 - maed: 1.8701 - val_loss: 212.0601 - val_maed: 12.1853\n",
      "Epoch 51/100\n",
      "18/18 [==============================] - 2s 104ms/step - loss: 213.3506 - maed: 12.1675\n",
      "84/84 [==============================] - 16s 191ms/step - loss: 8.5482 - maed: 2.3887 - val_loss: 213.3506 - val_maed: 12.1675\n",
      "Epoch 52/100\n",
      "18/18 [==============================] - 2s 109ms/step - loss: 297.9112 - maed: 14.8735\n",
      "84/84 [==============================] - 15s 179ms/step - loss: 56.7339 - maed: 6.0516 - val_loss: 297.9112 - val_maed: 14.8735\n",
      "Epoch 53/100\n",
      "18/18 [==============================] - 2s 112ms/step - loss: 363.3544 - maed: 16.2667\n",
      "84/84 [==============================] - 16s 185ms/step - loss: 61.6412 - maed: 6.3768 - val_loss: 363.3544 - val_maed: 16.2667\n",
      "Epoch 54/100\n",
      "18/18 [==============================] - 2s 106ms/step - loss: 213.4661 - maed: 12.7414\n",
      "84/84 [==============================] - 15s 182ms/step - loss: 25.1137 - maed: 4.1478 - val_loss: 213.4661 - val_maed: 12.7414\n",
      "Epoch 55/100\n",
      "18/18 [==============================] - 2s 100ms/step - loss: 199.7016 - maed: 11.9616\n",
      "84/84 [==============================] - 15s 182ms/step - loss: 10.0344 - maed: 2.6024 - val_loss: 199.7016 - val_maed: 11.9616\n",
      "Epoch 56/100\n",
      "18/18 [==============================] - 2s 106ms/step - loss: 207.3456 - maed: 12.2392\n",
      "84/84 [==============================] - 16s 185ms/step - loss: 6.3021 - maed: 2.0419 - val_loss: 207.3456 - val_maed: 12.2392\n",
      "Epoch 57/100\n",
      "18/18 [==============================] - 2s 106ms/step - loss: 213.1151 - maed: 12.3677\n",
      "84/84 [==============================] - 15s 176ms/step - loss: 7.6985 - maed: 2.3020 - val_loss: 213.1151 - val_maed: 12.3677\n",
      "Epoch 58/100\n",
      "18/18 [==============================] - 2s 110ms/step - loss: 190.2870 - maed: 11.4857\n",
      "84/84 [==============================] - 15s 178ms/step - loss: 6.7538 - maed: 2.1577 - val_loss: 190.2870 - val_maed: 11.4857\n",
      "Epoch 59/100\n",
      "18/18 [==============================] - 2s 106ms/step - loss: 208.8207 - maed: 12.0118\n",
      "84/84 [==============================] - 15s 176ms/step - loss: 4.6187 - maed: 1.7556 - val_loss: 208.8207 - val_maed: 12.0118\n",
      "Epoch 60/100\n",
      "18/18 [==============================] - 2s 110ms/step - loss: 227.9188 - maed: 12.5334\n",
      "84/84 [==============================] - 16s 185ms/step - loss: 3.7670 - maed: 1.5943 - val_loss: 227.9188 - val_maed: 12.5334\n",
      "Epoch 61/100\n",
      "18/18 [==============================] - 2s 97ms/step - loss: 222.0503 - maed: 12.2989\n",
      "84/84 [==============================] - 15s 175ms/step - loss: 3.7063 - maed: 1.5651 - val_loss: 222.0503 - val_maed: 12.2989\n",
      "Epoch 62/100\n",
      "18/18 [==============================] - 2s 99ms/step - loss: 199.0947 - maed: 11.5706\n",
      "84/84 [==============================] - 15s 175ms/step - loss: 5.4250 - maed: 1.8940 - val_loss: 199.0947 - val_maed: 11.5706\n",
      "Epoch 63/100\n",
      "18/18 [==============================] - 2s 112ms/step - loss: 190.2944 - maed: 11.4797\n",
      "84/84 [==============================] - 15s 177ms/step - loss: 5.0843 - maed: 1.8531 - val_loss: 190.2944 - val_maed: 11.4797\n",
      "Epoch 64/100\n",
      "18/18 [==============================] - 2s 107ms/step - loss: 220.4678 - maed: 11.9562\n",
      "84/84 [==============================] - 16s 188ms/step - loss: 10.4833 - maed: 2.6284 - val_loss: 220.4678 - val_maed: 11.9562\n",
      "Epoch 65/100\n",
      "18/18 [==============================] - 2s 104ms/step - loss: 178.6817 - maed: 11.3650\n",
      "84/84 [==============================] - 15s 180ms/step - loss: 11.6212 - maed: 2.7831 - val_loss: 178.6817 - val_maed: 11.3650\n",
      "Epoch 66/100\n",
      "18/18 [==============================] - 2s 102ms/step - loss: 205.8328 - maed: 11.8593\n",
      "84/84 [==============================] - 15s 181ms/step - loss: 14.6037 - maed: 3.1202 - val_loss: 205.8328 - val_maed: 11.8593\n",
      "Epoch 67/100\n",
      "18/18 [==============================] - 2s 107ms/step - loss: 251.7892 - maed: 13.4593- lo\n",
      "84/84 [==============================] - 15s 176ms/step - loss: 8.0025 - maed: 2.3378 - val_loss: 251.7892 - val_maed: 13.4593\n",
      "Epoch 68/100\n",
      "18/18 [==============================] - 2s 97ms/step - loss: 234.2050 - maed: 12.9945\n",
      "84/84 [==============================] - 15s 176ms/step - loss: 9.8488 - maed: 2.5742 - val_loss: 234.2050 - val_maed: 12.9945\n",
      "Epoch 69/100\n",
      "18/18 [==============================] - 2s 109ms/step - loss: 187.6354 - maed: 11.4038\n",
      "84/84 [==============================] - 15s 182ms/step - loss: 9.5778 - maed: 2.5254 - val_loss: 187.6354 - val_maed: 11.4038\n",
      "Epoch 70/100\n",
      "18/18 [==============================] - 2s 103ms/step - loss: 200.8019 - maed: 11.4278\n",
      "84/84 [==============================] - 15s 180ms/step - loss: 6.6058 - maed: 2.1363 - val_loss: 200.8019 - val_maed: 11.4278\n",
      "Epoch 71/100\n",
      "18/18 [==============================] - 2s 103ms/step - loss: 213.8165 - maed: 12.0562\n",
      "84/84 [==============================] - 15s 177ms/step - loss: 5.1003 - maed: 1.8518 - val_loss: 213.8165 - val_maed: 12.0562\n"
     ]
    },
    {
     "name": "stdout",
     "output_type": "stream",
     "text": [
      "Epoch 72/100\n",
      "18/18 [==============================] - 2s 104ms/step - loss: 216.4251 - maed: 12.3626\n",
      "84/84 [==============================] - 15s 177ms/step - loss: 7.0469 - maed: 2.1742 - val_loss: 216.4251 - val_maed: 12.3626\n",
      "Epoch 73/100\n",
      "18/18 [==============================] - 2s 102ms/step - loss: 190.9905 - maed: 11.4883s - loss: 97.9268 \n",
      "84/84 [==============================] - 15s 175ms/step - loss: 6.8235 - maed: 2.1383 - val_loss: 190.9905 - val_maed: 11.4883\n",
      "Epoch 74/100\n",
      "18/18 [==============================] - 2s 113ms/step - loss: 242.5707 - maed: 12.9056\n",
      "84/84 [==============================] - 16s 188ms/step - loss: 9.7511 - maed: 2.6143 - val_loss: 242.5707 - val_maed: 12.9056\n",
      "Epoch 75/100\n",
      "18/18 [==============================] - 2s 111ms/step - loss: 193.1224 - maed: 11.3623\n",
      "84/84 [==============================] - 15s 178ms/step - loss: 8.0487 - maed: 2.2854 - val_loss: 193.1224 - val_maed: 11.3623\n",
      "Epoch 76/100\n",
      "18/18 [==============================] - 2s 107ms/step - loss: 207.6769 - maed: 12.0677\n",
      "84/84 [==============================] - 15s 178ms/step - loss: 15.4478 - maed: 3.2426 - val_loss: 207.6769 - val_maed: 12.0677\n",
      "Epoch 77/100\n",
      "18/18 [==============================] - 2s 105ms/step - loss: 186.4608 - maed: 11.4934\n",
      "84/84 [==============================] - 14s 172ms/step - loss: 7.0099 - maed: 2.1582 - val_loss: 186.4608 - val_maed: 11.4934\n",
      "Epoch 78/100\n",
      "18/18 [==============================] - 2s 104ms/step - loss: 183.2410 - maed: 11.2875\n",
      "84/84 [==============================] - 15s 175ms/step - loss: 6.2621 - maed: 2.0415 - val_loss: 183.2410 - val_maed: 11.2875\n",
      "Epoch 79/100\n",
      "18/18 [==============================] - 2s 107ms/step - loss: 207.6064 - maed: 11.7923\n",
      "84/84 [==============================] - 15s 179ms/step - loss: 5.3429 - maed: 1.8963 - val_loss: 207.6064 - val_maed: 11.7923\n",
      "Epoch 80/100\n",
      "18/18 [==============================] - 2s 105ms/step - loss: 221.7141 - maed: 12.6091- los\n",
      "84/84 [==============================] - 15s 179ms/step - loss: 9.7320 - maed: 2.5534 - val_loss: 221.7141 - val_maed: 12.6091\n",
      "Epoch 81/100\n",
      "18/18 [==============================] - 2s 101ms/step - loss: 325.0971 - maed: 14.8769\n",
      "84/84 [==============================] - 15s 177ms/step - loss: 11.8837 - maed: 2.7663 - val_loss: 325.0971 - val_maed: 14.8769\n",
      "Epoch 82/100\n",
      "18/18 [==============================] - 2s 99ms/step - loss: 167.1470 - maed: 10.7295\n",
      "84/84 [==============================] - 15s 176ms/step - loss: 14.1620 - maed: 3.0981 - val_loss: 167.1470 - val_maed: 10.7295\n",
      "Epoch 83/100\n",
      "18/18 [==============================] - 2s 106ms/step - loss: 204.1572 - maed: 12.0239\n",
      "84/84 [==============================] - 15s 176ms/step - loss: 7.6135 - maed: 2.2334 - val_loss: 204.1572 - val_maed: 12.0239\n",
      "Epoch 84/100\n",
      "18/18 [==============================] - 2s 108ms/step - loss: 198.5913 - maed: 11.8660\n",
      "84/84 [==============================] - 15s 179ms/step - loss: 6.8230 - maed: 2.1447 - val_loss: 198.5913 - val_maed: 11.8660\n",
      "Epoch 85/100\n",
      "18/18 [==============================] - 2s 112ms/step - loss: 217.0056 - maed: 12.1586\n",
      "84/84 [==============================] - 16s 189ms/step - loss: 3.1007 - maed: 1.4515 - val_loss: 217.0056 - val_maed: 12.1586\n",
      "Epoch 86/100\n",
      "18/18 [==============================] - 2s 106ms/step - loss: 197.3314 - maed: 11.5897\n",
      "84/84 [==============================] - 15s 177ms/step - loss: 2.7999 - maed: 1.3719 - val_loss: 197.3314 - val_maed: 11.5897\n",
      "Epoch 87/100\n",
      "18/18 [==============================] - 2s 111ms/step - loss: 188.9202 - maed: 11.4754\n",
      "84/84 [==============================] - 15s 176ms/step - loss: 3.9934 - maed: 1.6253 - val_loss: 188.9202 - val_maed: 11.4754\n",
      "Epoch 88/100\n",
      "18/18 [==============================] - 2s 109ms/step - loss: 196.9236 - maed: 11.7976\n",
      "84/84 [==============================] - 15s 175ms/step - loss: 6.9232 - maed: 2.1791 - val_loss: 196.9236 - val_maed: 11.7976\n",
      "Epoch 89/100\n",
      "18/18 [==============================] - 2s 101ms/step - loss: 194.4428 - maed: 11.5184\n",
      "84/84 [==============================] - 15s 177ms/step - loss: 11.8251 - maed: 2.8531 - val_loss: 194.4428 - val_maed: 11.5184\n",
      "Epoch 90/100\n",
      "18/18 [==============================] - 2s 113ms/step - loss: 192.5211 - maed: 11.5843\n",
      "84/84 [==============================] - 15s 182ms/step - loss: 9.6595 - maed: 2.5608 - val_loss: 192.5211 - val_maed: 11.5843\n",
      "Epoch 91/100\n",
      "18/18 [==============================] - 2s 107ms/step - loss: 187.2853 - maed: 11.1090\n",
      "84/84 [==============================] - 15s 178ms/step - loss: 8.7022 - maed: 2.4312 - val_loss: 187.2853 - val_maed: 11.1090\n",
      "Epoch 92/100\n",
      "18/18 [==============================] - 2s 102ms/step - loss: 262.2013 - maed: 13.7649 0s - loss: 231.6340 - maed: 12.\n",
      "84/84 [==============================] - 14s 172ms/step - loss: 21.7460 - maed: 3.8169 - val_loss: 262.2013 - val_maed: 13.7649\n",
      "Epoch 93/100\n",
      "18/18 [==============================] - 2s 100ms/step - loss: 194.9059 - maed: 11.9247\n",
      "84/84 [==============================] - 14s 172ms/step - loss: 14.6687 - maed: 3.1302 - val_loss: 194.9059 - val_maed: 11.9247\n",
      "Epoch 94/100\n",
      "18/18 [==============================] - 2s 108ms/step - loss: 239.0564 - maed: 13.2207\n",
      "84/84 [==============================] - 15s 176ms/step - loss: 10.1139 - maed: 2.6171 - val_loss: 239.0564 - val_maed: 13.2207\n",
      "Epoch 95/100\n",
      "18/18 [==============================] - 2s 108ms/step - loss: 202.6869 - maed: 12.1050\n",
      "84/84 [==============================] - 15s 175ms/step - loss: 5.8306 - maed: 1.9777 - val_loss: 202.6869 - val_maed: 12.1050\n",
      "Epoch 96/100\n",
      "18/18 [==============================] - 2s 106ms/step - loss: 201.1612 - maed: 11.6965\n",
      "84/84 [==============================] - 15s 182ms/step - loss: 3.1696 - maed: 1.4685 - val_loss: 201.1612 - val_maed: 11.6965\n",
      "Epoch 97/100\n",
      "18/18 [==============================] - 2s 109ms/step - loss: 202.9306 - maed: 11.4842\n",
      "84/84 [==============================] - 15s 178ms/step - loss: 4.1077 - maed: 1.6863 - val_loss: 202.9306 - val_maed: 11.4842\n",
      "Epoch 98/100\n",
      "18/18 [==============================] - 2s 101ms/step - loss: 169.2794 - maed: 10.7464\n",
      "84/84 [==============================] - 15s 176ms/step - loss: 3.7814 - maed: 1.6080 - val_loss: 169.2794 - val_maed: 10.7464\n",
      "Epoch 99/100\n",
      "18/18 [==============================] - 2s 109ms/step - loss: 240.9751 - maed: 13.1205\n",
      "84/84 [==============================] - 15s 179ms/step - loss: 3.6741 - maed: 1.5811 - val_loss: 240.9751 - val_maed: 13.1205\n",
      "Epoch 100/100\n",
      "18/18 [==============================] - 2s 105ms/step - loss: 193.1707 - maed: 11.2840\n",
      "84/84 [==============================] - 16s 186ms/step - loss: 2.8663 - maed: 1.3976 - val_loss: 193.1707 - val_maed: 11.2840\n"
     ]
    },
    {
     "data": {
      "text/plain": [
       "<tensorflow.python.keras.callbacks.History at 0x206af293748>"
      ]
     },
     "execution_count": 9,
     "metadata": {},
     "output_type": "execute_result"
    }
   ],
   "source": [
    "model.fit(train_gen,\n",
    "          epochs=100,\n",
    "          callbacks=callbacks,\n",
    "          validation_data=val_gen,\n",
    "          validation_freq=1,\n",
    "          use_multiprocessing=True,\n",
    "          workers=10,\n",
    "          max_queue_size=32)"
   ]
  },
  {
   "cell_type": "markdown",
   "metadata": {},
   "source": [
    "# Evaluation\n",
    "Evaluate the trained network"
   ]
  },
  {
   "cell_type": "code",
   "execution_count": 10,
   "metadata": {
    "scrolled": true
   },
   "outputs": [
    {
     "data": {
      "image/png": "[encoded data removed]",
      "text/plain": [
       "<Figure size 432x288 with 1 Axes>"
      ]
     },
     "metadata": {
      "needs_background": "light"
     },
     "output_type": "display_data"
    }
   ],
   "source": [
    "X, y = val_gen[3]\n",
    "\n",
    "y_pred = model.predict(X)\n",
    "\n",
    "u_x = y_pred[0,:,:,0]\n",
    "u_y = y_pred[0,:,:,1]\n",
    "\n",
    "plt.imshow(y_pred[0,:,:,0], cmap=\"gray\")\n",
    "\n",
    "plt.imsave(store_path + \"/u_x.png\", u_x, cmap=\"gray\")\n",
    "plt.imsave(store_path + \"/u_y.png\", u_y, cmap=\"gray\")\n",
    "\n",
    "u_x.dump(store_path + \"/u_x\")\n",
    "u_y.dump(store_path + \"/u_y\")\n",
    "\n",
    "warp = np.zeros((width, height))\n",
    "\n",
    "for index in range(0,324):\n",
    "    x_pos = int(y[0, index, 0, 0])\n",
    "    y_pos = int(y[0, index, 1, 0])\n",
    "    \n",
    "    plot_cube(warp, x_pos, y_pos, 1) #blue\n",
    "    \n",
    "    ux_field = y_pred[0,:,:,0]\n",
    "    uy_field = y_pred[0,:,:,1]\n",
    "    \n",
    "    ux = ux_field[y_pos][x_pos]\n",
    "    uy = uy_field[y_pos][x_pos]\n",
    "    \n",
    "    x_pos = int(round(x_pos + ux))\n",
    "    y_pos = int(round(y_pos + uy))\n",
    "            \n",
    "    plot_cube(warp, x_pos, y_pos, 2) #green    \n",
    "    \n",
    "    x_pos = int(y[0, index, 0, 1])\n",
    "    y_pos = int(y[0, index, 1, 1])\n",
    "    \n",
    "    plot_cube(warp, x_pos, y_pos, 3) #yellow    \n",
    "    \n",
    "plt.imshow(warp)\n",
    "plt.imsave(store_path + \"/warp.png\", warp)"
   ]
  },
  {
   "cell_type": "code",
   "execution_count": null,
   "metadata": {},
   "outputs": [],
   "source": []
  }
 ],
 "metadata": {
  "kernelspec": {
   "display_name": "Python 3",
   "language": "python",
   "name": "python3"
  },
  "language_info": {
   "codemirror_mode": {
    "name": "ipython",
    "version": 3
   },
   "file_extension": ".py",
   "mimetype": "text/x-python",
   "name": "python",
   "nbconvert_exporter": "python",
   "pygments_lexer": "ipython3",
   "version": "3.7.5"
  }
 },
 "nbformat": 4,
 "nbformat_minor": 4
}

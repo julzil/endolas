{
 "cells": [
  {
   "cell_type": "markdown",
   "metadata": {},
   "source": [
    "# Import packages"
   ]
  },
  {
   "cell_type": "code",
   "execution_count": 23,
   "metadata": {},
   "outputs": [],
   "source": [
    "import sys\n",
    "#sys.path.append(\"D:\\Julian\\workspace\\endolas\")\n",
    "sys.path.append(\"/home/julian/Documents/Studium/MT-Masterarbeit/Workspace/endolas\")\n",
    "\n",
    "import numpy as np\n",
    "import matplotlib.pyplot as plt\n",
    "import utils\n",
    "import os\n",
    "import importlib\n",
    "\n",
    "import pandas as pd\n",
    "import seaborn as sns"
   ]
  },
  {
   "cell_type": "markdown",
   "metadata": {},
   "source": [
    "# Load data and plot"
   ]
  },
  {
   "cell_type": "code",
   "execution_count": 24,
   "metadata": {},
   "outputs": [],
   "source": [
    "series = 7\n",
    "#experiment = 1\n",
    "data1 = pd.read_csv(os.path.abspath('../{}_1_euclidean/evaluation.csv'.format(series, experiment)))\n",
    "data2 = pd.read_csv(os.path.abspath('../{}_2_euclidean/evaluation.csv'.format(series, experiment)))\n",
    "data3 = pd.read_csv(os.path.abspath('../{}_3_euclidean/evaluation.csv'.format(series, experiment)))\n",
    "data4 = pd.read_csv(os.path.abspath('../{}_4_euclidean/evaluation.csv'.format(series, experiment)))\n",
    "data5 = pd.read_csv(os.path.abspath('../{}_5_euclidean/evaluation.csv'.format(series, experiment)))"
   ]
  },
  {
   "cell_type": "code",
   "execution_count": 25,
   "metadata": {},
   "outputs": [],
   "source": [
    "data1.insert(4, \"ID\", \"1) LASTEN BS2\", True)\n",
    "data2.insert(4, \"ID\", \"2) LASTEN BS4\", True)\n",
    "data3.insert(4, \"ID\", \"3) LASTENS\", True)\n",
    "data4.insert(4, \"ID\", \"4) LASTENA\", True)\n",
    "data5.insert(4, \"ID\", \"5) LASTENAS\", True)"
   ]
  },
  {
   "cell_type": "code",
   "execution_count": 26,
   "metadata": {},
   "outputs": [],
   "source": [
    "data=pd.concat([data1,data2,data3,data4,data5])"
   ]
  },
  {
   "cell_type": "code",
   "execution_count": 27,
   "metadata": {},
   "outputs": [
    {
     "data": {
      "text/html": [
       "<div>\n",
       "<style scoped>\n",
       "    .dataframe tbody tr th:only-of-type {\n",
       "        vertical-align: middle;\n",
       "    }\n",
       "\n",
       "    .dataframe tbody tr th {\n",
       "        vertical-align: top;\n",
       "    }\n",
       "\n",
       "    .dataframe thead th {\n",
       "        text-align: right;\n",
       "    }\n",
       "</style>\n",
       "<table border=\"1\" class=\"dataframe\">\n",
       "  <thead>\n",
       "    <tr style=\"text-align: right;\">\n",
       "      <th></th>\n",
       "      <th>Unnamed: 0</th>\n",
       "      <th>MAED</th>\n",
       "      <th>Set</th>\n",
       "      <th>Image</th>\n",
       "      <th>ID</th>\n",
       "    </tr>\n",
       "  </thead>\n",
       "  <tbody>\n",
       "    <tr>\n",
       "      <th>0</th>\n",
       "      <td>0</td>\n",
       "      <td>2.928780</td>\n",
       "      <td>val</td>\n",
       "      <td>12</td>\n",
       "      <td>1) LASTEN BS2</td>\n",
       "    </tr>\n",
       "    <tr>\n",
       "      <th>1</th>\n",
       "      <td>1</td>\n",
       "      <td>2.498346</td>\n",
       "      <td>val</td>\n",
       "      <td>15</td>\n",
       "      <td>1) LASTEN BS2</td>\n",
       "    </tr>\n",
       "    <tr>\n",
       "      <th>2</th>\n",
       "      <td>2</td>\n",
       "      <td>2.065914</td>\n",
       "      <td>val</td>\n",
       "      <td>22</td>\n",
       "      <td>1) LASTEN BS2</td>\n",
       "    </tr>\n",
       "    <tr>\n",
       "      <th>3</th>\n",
       "      <td>3</td>\n",
       "      <td>2.526041</td>\n",
       "      <td>val</td>\n",
       "      <td>38</td>\n",
       "      <td>1) LASTEN BS2</td>\n",
       "    </tr>\n",
       "    <tr>\n",
       "      <th>4</th>\n",
       "      <td>4</td>\n",
       "      <td>2.805090</td>\n",
       "      <td>val</td>\n",
       "      <td>40</td>\n",
       "      <td>1) LASTEN BS2</td>\n",
       "    </tr>\n",
       "    <tr>\n",
       "      <th>...</th>\n",
       "      <td>...</td>\n",
       "      <td>...</td>\n",
       "      <td>...</td>\n",
       "      <td>...</td>\n",
       "      <td>...</td>\n",
       "    </tr>\n",
       "    <tr>\n",
       "      <th>391</th>\n",
       "      <td>391</td>\n",
       "      <td>2.017036</td>\n",
       "      <td>test</td>\n",
       "      <td>208</td>\n",
       "      <td>5) LASTENAS</td>\n",
       "    </tr>\n",
       "    <tr>\n",
       "      <th>392</th>\n",
       "      <td>392</td>\n",
       "      <td>1.871082</td>\n",
       "      <td>test</td>\n",
       "      <td>211</td>\n",
       "      <td>5) LASTENAS</td>\n",
       "    </tr>\n",
       "    <tr>\n",
       "      <th>393</th>\n",
       "      <td>393</td>\n",
       "      <td>1.924296</td>\n",
       "      <td>test</td>\n",
       "      <td>218</td>\n",
       "      <td>5) LASTENAS</td>\n",
       "    </tr>\n",
       "    <tr>\n",
       "      <th>394</th>\n",
       "      <td>394</td>\n",
       "      <td>2.099320</td>\n",
       "      <td>test</td>\n",
       "      <td>228</td>\n",
       "      <td>5) LASTENAS</td>\n",
       "    </tr>\n",
       "    <tr>\n",
       "      <th>395</th>\n",
       "      <td>395</td>\n",
       "      <td>2.446644</td>\n",
       "      <td>test</td>\n",
       "      <td>237</td>\n",
       "      <td>5) LASTENAS</td>\n",
       "    </tr>\n",
       "  </tbody>\n",
       "</table>\n",
       "<p>2052 rows × 5 columns</p>\n",
       "</div>"
      ],
      "text/plain": [
       "     Unnamed: 0      MAED   Set  Image             ID\n",
       "0             0  2.928780   val     12  1) LASTEN BS2\n",
       "1             1  2.498346   val     15  1) LASTEN BS2\n",
       "2             2  2.065914   val     22  1) LASTEN BS2\n",
       "3             3  2.526041   val     38  1) LASTEN BS2\n",
       "4             4  2.805090   val     40  1) LASTEN BS2\n",
       "..          ...       ...   ...    ...            ...\n",
       "391         391  2.017036  test    208    5) LASTENAS\n",
       "392         392  1.871082  test    211    5) LASTENAS\n",
       "393         393  1.924296  test    218    5) LASTENAS\n",
       "394         394  2.099320  test    228    5) LASTENAS\n",
       "395         395  2.446644  test    237    5) LASTENAS\n",
       "\n",
       "[2052 rows x 5 columns]"
      ]
     },
     "execution_count": 27,
     "metadata": {},
     "output_type": "execute_result"
    }
   ],
   "source": [
    "data"
   ]
  },
  {
   "cell_type": "code",
   "execution_count": 29,
   "metadata": {},
   "outputs": [
    {
     "data": {
      "image/png": "[encoded data removed]",
      "text/plain": [
       "<Figure size 864x288 with 1 Axes>"
      ]
     },
     "metadata": {},
     "output_type": "display_data"
    }
   ],
   "source": [
    "plt.rcParams['figure.figsize'] = 12,4\n",
    "sns.set(style=\"whitegrid\", palette=\"pastel\", color_codes=True)\n",
    "\n",
    "# Load the example tips dataset\n",
    "tips = sns.load_dataset(\"tips\")\n",
    "\n",
    "# Draw a nested violinplot and split the violins for easier comparison\n",
    "ax=sns.violinplot(x=\"ID\", y=\"MAED\", hue=\"Set\",\n",
    "               split=True,cut=0,\n",
    "               #palette={\"val\": \"m\", \"test\": \"r\"},\n",
    "               data=data,\n",
    "                scale=\"width\")\n",
    "\n",
    "ax.set(ylim=(-1, 20))\n",
    "ax.set_xlabel(\"\")\n",
    "sns.despine(left=True)\n",
    "plt.legend(loc=(1.0, 0.0), frameon=False)\n",
    "\n",
    "plt.savefig(\"maed_violin.svg\")"
   ]
  },
  {
   "cell_type": "code",
   "execution_count": null,
   "metadata": {},
   "outputs": [],
   "source": []
  }
 ],
 "metadata": {
  "kernelspec": {
   "display_name": "Python 3",
   "language": "python",
   "name": "python3"
  },
  "language_info": {
   "codemirror_mode": {
    "name": "ipython",
    "version": 3
   },
   "file_extension": ".py",
   "mimetype": "text/x-python",
   "name": "python",
   "nbconvert_exporter": "python",
   "pygments_lexer": "ipython3",
   "version": "3.8.2"
  }
 },
 "nbformat": 4,
 "nbformat_minor": 2
}

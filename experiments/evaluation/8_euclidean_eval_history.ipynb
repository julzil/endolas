{
 "cells": [
  {
   "cell_type": "markdown",
   "metadata": {},
   "source": [
    "# Import statements\n",
    "Following packages are necessary:"
   ]
  },
  {
   "cell_type": "code",
   "execution_count": 1,
   "metadata": {
    "scrolled": true
   },
   "outputs": [
    {
     "name": "stdout",
     "output_type": "stream",
     "text": [
      "Segmentation Models: using `tf.keras` framework.\n"
     ]
    }
   ],
   "source": [
    "import random\n",
    "from endolas import utils\n",
    "from endolas import evalutils\n",
    "from endolas import closs\n",
    "import os\n",
    "import imageio\n",
    "import json\n",
    "from endolas import LASTENSequence\n",
    "import importlib\n",
    "from glob import glob\n",
    "\n",
    "import tensorflow as tf\n",
    "import numpy as np\n",
    "import tensorflow.keras.backend as kb\n",
    "from tensorflow.keras.callbacks import CSVLogger, ModelCheckpoint\n",
    "\n",
    "from endolas import UNet\n",
    "from endolas import preprocess_input as pre_une\n",
    "\n",
    "from matplotlib import pyplot as plt\n",
    "import pandas as pd\n",
    "import seaborn as sns\n",
    "import math\n",
    "from pdb import set_trace"
   ]
  },
  {
   "cell_type": "markdown",
   "metadata": {
    "pycharm": {
     "name": "#%% md\n"
    }
   },
   "source": [
    "# Checks\n",
    "The version of tensorflow as well as the GPU support are checked."
   ]
  },
  {
   "cell_type": "code",
   "execution_count": 2,
   "metadata": {
    "pycharm": {
     "name": "#%%\n"
    },
    "scrolled": false
   },
   "outputs": [
    {
     "name": "stdout",
     "output_type": "stream",
     "text": [
      "2.2.0-rc3\n"
     ]
    },
    {
     "data": {
      "text/plain": [
       "[PhysicalDevice(name='/physical_device:GPU:0', device_type='GPU')]"
      ]
     },
     "execution_count": 2,
     "metadata": {},
     "output_type": "execute_result"
    }
   ],
   "source": [
    "print(tf.__version__)\n",
    "physical_devices = tf.config.experimental.list_physical_devices('GPU')\n",
    "tf.config.experimental.set_memory_growth(physical_devices[0], True)\n",
    "tf.config.experimental.get_visible_devices('GPU')"
   ]
  },
  {
   "cell_type": "code",
   "execution_count": 3,
   "metadata": {},
   "outputs": [
    {
     "name": "stdout",
     "output_type": "stream",
     "text": [
      "[]\n",
      "[PhysicalDevice(name='/physical_device:CPU:0', device_type='CPU')]\n"
     ]
    }
   ],
   "source": [
    "physical_devices = tf.config.list_physical_devices('GPU')\n",
    "try:\n",
    "  # Disable all GPUS\n",
    "  tf.config.set_visible_devices([], 'GPU')\n",
    "  visible_devices = tf.config.get_visible_devices()\n",
    "  for device in visible_devices:\n",
    "    assert device.device_type != 'GPU'\n",
    "except:\n",
    "  # Invalid device or cannot modify virtual devices once initialized.\n",
    "  pass\n",
    "\n",
    "print(tf.config.get_visible_devices('GPU'))\n",
    "print(tf.config.get_visible_devices('CPU'))"
   ]
  },
  {
   "cell_type": "markdown",
   "metadata": {},
   "source": [
    "# Definition\n",
    "Size definition is done here"
   ]
  },
  {
   "cell_type": "code",
   "execution_count": 4,
   "metadata": {},
   "outputs": [],
   "source": [
    "width = 384\n",
    "height = 384\n",
    "\n",
    "grid_width = 18\n",
    "grid_height = 18\n",
    "\n",
    "grid_points = grid_width * grid_height"
   ]
  },
  {
   "cell_type": "markdown",
   "metadata": {},
   "source": [
    "# Functionality\n",
    "Necessary funcionality is added here"
   ]
  },
  {
   "cell_type": "markdown",
   "metadata": {},
   "source": [
    "# 8.9) Supervised Euclidean for LASTENA with fixed image"
   ]
  },
  {
   "cell_type": "code",
   "execution_count": 5,
   "metadata": {
    "pycharm": {
     "name": "#%%\n"
    }
   },
   "outputs": [],
   "source": [
    "series = 8\n",
    "experiment = 9\n",
    "last_epoch = 60\n",
    "image_id = 161\n",
    "store_path = '/home/julian/Documents/Studium/MT-Masterarbeit/Workspace/endolas/experiments/results/{}_{}_euclidean'.format(series, experiment)\n",
    "\n",
    "path_fixed = '/home/julian/Documents/Studium/MT-Masterarbeit/Data/LASTEN2A/fix'\n",
    "path_test = '/home/julian/Documents/Studium/MT-Masterarbeit/Data/LASTEN2A/validation'"
   ]
  },
  {
   "cell_type": "code",
   "execution_count": 6,
   "metadata": {
    "scrolled": true
   },
   "outputs": [],
   "source": [
    "#evalutils.eval_history(path_fixed, path_test, store_path, width, height, grid_width, grid_height, pre_une, image_id)"
   ]
  },
  {
   "cell_type": "code",
   "execution_count": 7,
   "metadata": {},
   "outputs": [],
   "source": [
    "image_id_2_warped_key_2_fixed_key, image_id_2_warped_key_2_warped_val = utils.nearest_neighbor(store_path+'/history/161_w_{}.json'.format(last_epoch), path_fixed, scale_factor=0.5)"
   ]
  },
  {
   "cell_type": "code",
   "execution_count": 8,
   "metadata": {},
   "outputs": [],
   "source": [
    "image_id_2_warped_key_2_fixed_key = utils.regular_grid_logic(image_id_2_warped_key_2_fixed_key, image_id_2_warped_key_2_warped_val, 18, 18)"
   ]
  },
  {
   "cell_type": "code",
   "execution_count": 9,
   "metadata": {},
   "outputs": [],
   "source": [
    "image_id_2_accuracy, image_id_2_misclassified, image_id_2_warped_key_2_ismisclassified = utils.check_misclassification(image_id_2_warped_key_2_fixed_key)"
   ]
  },
  {
   "cell_type": "code",
   "execution_count": 10,
   "metadata": {},
   "outputs": [
    {
     "data": {
      "text/plain": [
       "15"
      ]
     },
     "execution_count": 10,
     "metadata": {},
     "output_type": "execute_result"
    }
   ],
   "source": [
    "image_id_2_misclassified[161]"
   ]
  },
  {
   "cell_type": "code",
   "execution_count": 11,
   "metadata": {},
   "outputs": [],
   "source": [
    "warped_key_2_ismis = image_id_2_warped_key_2_ismisclassified[image_id]\n",
    "warped_key_2_fixed_key = image_id_2_warped_key_2_fixed_key[image_id]\n",
    "\n",
    "evalutils.spatial_history(store_path, image_id, warped_key_2_ismis, warped_key_2_fixed_key, last_epoch)\n"
   ]
  },
  {
   "cell_type": "markdown",
   "metadata": {},
   "source": [
    "# TEST"
   ]
  },
  {
   "cell_type": "code",
   "execution_count": 23,
   "metadata": {},
   "outputs": [],
   "source": [
    "image_id_2_warped_key_2_fixed_key, image_id_2_warped_key_2_warped_val = utils.nearest_neighbor(store_path+'/val', path_fixed, scale_factor=0.5)"
   ]
  },
  {
   "cell_type": "markdown",
   "metadata": {},
   "source": [
    "#image_id_2_warped_key_2_fixed_key = utils.regular_grid_logic(image_id_2_warped_key_2_fixed_key, image_id_2_warped_key_2_warped_val, 18, 18)"
   ]
  },
  {
   "cell_type": "code",
   "execution_count": 24,
   "metadata": {},
   "outputs": [],
   "source": [
    "image_id_2_accuracy, image_id_2_misclassified, image_id_2_warped_key_2_ismisclassified = utils.check_misclassification(image_id_2_warped_key_2_fixed_key)"
   ]
  },
  {
   "cell_type": "code",
   "execution_count": 25,
   "metadata": {
    "scrolled": true
   },
   "outputs": [
    {
     "data": {
      "text/plain": [
       "{160: 0.7966101694915254,\n",
       " 161: 0.8445945945945946,\n",
       " 162: 0.82,\n",
       " 163: 0.8166666666666667,\n",
       " 164: 0.840531561461794,\n",
       " 165: 0.8217821782178217,\n",
       " 166: 0.8344370860927153,\n",
       " 167: 0.8311258278145696,\n",
       " 168: 0.8013245033112583,\n",
       " 169: 0.7980132450331126,\n",
       " 170: 0.7284768211920529,\n",
       " 171: 0.7425742574257426,\n",
       " 172: 0.7128712871287128,\n",
       " 173: 0.7788778877887789,\n",
       " 174: 0.8382838283828383,\n",
       " 175: 0.8184818481848185,\n",
       " 176: 0.8118811881188119,\n",
       " 177: 0.7953795379537953,\n",
       " 178: 0.7920792079207921,\n",
       " 179: 0.834983498349835,\n",
       " 180: 0.7656765676567657,\n",
       " 181: 0.7953795379537953,\n",
       " 182: 0.7940199335548173,\n",
       " 183: 0.7980132450331126,\n",
       " 184: 0.7847682119205298,\n",
       " 185: 0.7682119205298014,\n",
       " 186: 0.743421052631579,\n",
       " 187: 0.7442622950819672,\n",
       " 188: 0.7850162866449512,\n",
       " 189: 0.8078175895765473,\n",
       " 190: 0.7766990291262136,\n",
       " 191: 0.7225806451612903,\n",
       " 192: 0.7129032258064516,\n",
       " 193: 0.7395498392282959,\n",
       " 194: 0.7588424437299035,\n",
       " 195: 0.7588424437299035,\n",
       " 196: 0.7378640776699029,\n",
       " 197: 0.7387096774193549,\n",
       " 198: 0.7838709677419354,\n",
       " 199: 0.7451612903225806}"
      ]
     },
     "execution_count": 25,
     "metadata": {},
     "output_type": "execute_result"
    }
   ],
   "source": [
    "image_id_2_accuracy"
   ]
  },
  {
   "cell_type": "code",
   "execution_count": 26,
   "metadata": {},
   "outputs": [
    {
     "data": {
      "text/plain": [
       "0.7830146368912484"
      ]
     },
     "execution_count": 26,
     "metadata": {},
     "output_type": "execute_result"
    }
   ],
   "source": [
    "np.mean(list(image_id_2_accuracy.values()))"
   ]
  },
  {
   "cell_type": "code",
   "execution_count": 27,
   "metadata": {},
   "outputs": [],
   "source": [
    "image_id_2_warped_key_2_fixed_key = utils.regular_grid_logic(image_id_2_warped_key_2_fixed_key, image_id_2_warped_key_2_warped_val, 18, 18)"
   ]
  },
  {
   "cell_type": "code",
   "execution_count": 28,
   "metadata": {},
   "outputs": [],
   "source": [
    "image_id_2_accuracy, image_id_2_misclassified, image_id_2_warped_key_2_ismisclassified = utils.check_misclassification(image_id_2_warped_key_2_fixed_key)"
   ]
  },
  {
   "cell_type": "code",
   "execution_count": 29,
   "metadata": {},
   "outputs": [
    {
     "data": {
      "text/plain": [
       "{160: 0.8677966101694915,\n",
       " 161: 0.9493243243243243,\n",
       " 162: 0.9666666666666667,\n",
       " 163: 0.9633333333333334,\n",
       " 164: 0.9601328903654485,\n",
       " 165: 0.9372937293729373,\n",
       " 166: 0.956953642384106,\n",
       " 167: 0.9503311258278145,\n",
       " 168: 0.9437086092715232,\n",
       " 169: 0.9403973509933775,\n",
       " 170: 0.9105960264900662,\n",
       " 171: 0.933993399339934,\n",
       " 172: 0.9108910891089109,\n",
       " 173: 0.9438943894389439,\n",
       " 174: 0.9801980198019802,\n",
       " 175: 0.9273927392739274,\n",
       " 176: 0.9504950495049505,\n",
       " 177: 0.9867986798679867,\n",
       " 178: 0.9174917491749175,\n",
       " 179: 0.9504950495049505,\n",
       " 180: 0.8844884488448845,\n",
       " 181: 0.8415841584158416,\n",
       " 182: 0.8837209302325582,\n",
       " 183: 0.8874172185430463,\n",
       " 184: 0.8807947019867549,\n",
       " 185: 0.8443708609271523,\n",
       " 186: 0.868421052631579,\n",
       " 187: 0.8360655737704918,\n",
       " 188: 0.8827361563517915,\n",
       " 189: 0.9087947882736156,\n",
       " 190: 0.8802588996763754,\n",
       " 191: 0.864516129032258,\n",
       " 192: 0.8516129032258064,\n",
       " 193: 0.8585209003215434,\n",
       " 194: 0.8971061093247589,\n",
       " 195: 0.8778135048231511,\n",
       " 196: 0.8932038834951457,\n",
       " 197: 0.8580645161290322,\n",
       " 198: 0.8806451612903226,\n",
       " 199: 0.9032258064516129}"
      ]
     },
     "execution_count": 29,
     "metadata": {},
     "output_type": "execute_result"
    }
   ],
   "source": [
    "image_id_2_accuracy"
   ]
  },
  {
   "cell_type": "code",
   "execution_count": 30,
   "metadata": {},
   "outputs": [
    {
     "data": {
      "text/plain": [
       "0.9082886544490829"
      ]
     },
     "execution_count": 30,
     "metadata": {},
     "output_type": "execute_result"
    }
   ],
   "source": [
    "np.mean(list(image_id_2_accuracy.values()))"
   ]
  }
 ],
 "metadata": {
  "kernelspec": {
   "display_name": "Python 3",
   "language": "python",
   "name": "python3"
  },
  "language_info": {
   "codemirror_mode": {
    "name": "ipython",
    "version": 3
   },
   "file_extension": ".py",
   "mimetype": "text/x-python",
   "name": "python",
   "nbconvert_exporter": "python",
   "pygments_lexer": "ipython3",
   "version": "3.8.2"
  }
 },
 "nbformat": 4,
 "nbformat_minor": 4
}

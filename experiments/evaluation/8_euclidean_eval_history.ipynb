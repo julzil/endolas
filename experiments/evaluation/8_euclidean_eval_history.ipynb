{
 "cells": [
  {
   "cell_type": "markdown",
   "metadata": {},
   "source": [
    "# Import statements\n",
    "Following packages are necessary:"
   ]
  },
  {
   "cell_type": "code",
   "execution_count": 1,
   "metadata": {
    "scrolled": true
   },
   "outputs": [
    {
     "name": "stdout",
     "output_type": "stream",
     "text": [
      "Segmentation Models: using `tf.keras` framework.\n"
     ]
    }
   ],
   "source": [
    "import random\n",
    "from endolas import utils\n",
    "from endolas import evalutils\n",
    "from endolas import closs\n",
    "import os\n",
    "import imageio\n",
    "import json\n",
    "from endolas import LASTENSequence\n",
    "import importlib\n",
    "from glob import glob\n",
    "\n",
    "import tensorflow as tf\n",
    "import numpy as np\n",
    "import tensorflow.keras.backend as kb\n",
    "from tensorflow.keras.callbacks import CSVLogger, ModelCheckpoint\n",
    "\n",
    "from endolas import UNet\n",
    "from endolas import preprocess_input as pre_une\n",
    "\n",
    "from matplotlib import pyplot as plt\n",
    "import pandas as pd\n",
    "import seaborn as sns\n",
    "from pdb import set_trace"
   ]
  },
  {
   "cell_type": "markdown",
   "metadata": {
    "pycharm": {
     "name": "#%% md\n"
    }
   },
   "source": [
    "# Checks\n",
    "The version of tensorflow as well as the GPU support are checked."
   ]
  },
  {
   "cell_type": "code",
   "execution_count": 2,
   "metadata": {
    "pycharm": {
     "name": "#%%\n"
    },
    "scrolled": false
   },
   "outputs": [
    {
     "name": "stdout",
     "output_type": "stream",
     "text": [
      "2.2.0-rc3\n"
     ]
    },
    {
     "data": {
      "text/plain": [
       "[PhysicalDevice(name='/physical_device:GPU:0', device_type='GPU')]"
      ]
     },
     "execution_count": 2,
     "metadata": {},
     "output_type": "execute_result"
    }
   ],
   "source": [
    "print(tf.__version__)\n",
    "physical_devices = tf.config.experimental.list_physical_devices('GPU')\n",
    "tf.config.experimental.set_memory_growth(physical_devices[0], True)\n",
    "tf.config.experimental.get_visible_devices('GPU')"
   ]
  },
  {
   "cell_type": "code",
   "execution_count": 3,
   "metadata": {},
   "outputs": [
    {
     "name": "stdout",
     "output_type": "stream",
     "text": [
      "[]\n",
      "[PhysicalDevice(name='/physical_device:CPU:0', device_type='CPU')]\n"
     ]
    }
   ],
   "source": [
    "physical_devices = tf.config.list_physical_devices('GPU')\n",
    "try:\n",
    "  # Disable all GPUS\n",
    "  tf.config.set_visible_devices([], 'GPU')\n",
    "  visible_devices = tf.config.get_visible_devices()\n",
    "  for device in visible_devices:\n",
    "    assert device.device_type != 'GPU'\n",
    "except:\n",
    "  # Invalid device or cannot modify virtual devices once initialized.\n",
    "  pass\n",
    "\n",
    "print(tf.config.get_visible_devices('GPU'))\n",
    "print(tf.config.get_visible_devices('CPU'))"
   ]
  },
  {
   "cell_type": "markdown",
   "metadata": {},
   "source": [
    "# Definition\n",
    "Size definition is done here"
   ]
  },
  {
   "cell_type": "code",
   "execution_count": 4,
   "metadata": {},
   "outputs": [],
   "source": [
    "width = 384\n",
    "height = 384\n",
    "\n",
    "grid_width = 18\n",
    "grid_height = 18\n",
    "\n",
    "grid_points = grid_width * grid_height"
   ]
  },
  {
   "cell_type": "markdown",
   "metadata": {},
   "source": [
    "# Functionality\n",
    "Necessary funcionality is added here"
   ]
  },
  {
   "cell_type": "markdown",
   "metadata": {},
   "source": [
    "# 8.9) Supervised Euclidean for LASTENA with fixed image"
   ]
  },
  {
   "cell_type": "code",
   "execution_count": 5,
   "metadata": {
    "pycharm": {
     "name": "#%%\n"
    }
   },
   "outputs": [],
   "source": [
    "series = 8\n",
    "experiment = 9\n",
    "last_epoch = 60\n",
    "image_id = 161\n",
    "store_path = '/home/julian/Documents/Studium/MT-Masterarbeit/Workspace/endolas/experiments/results/{}_{}_euclidean'.format(series, experiment)\n",
    "\n",
    "path_fixed = '/home/julian/Documents/Studium/MT-Masterarbeit/Data/LASTEN2A/fix'\n",
    "path_test = '/home/julian/Documents/Studium/MT-Masterarbeit/Data/LASTEN2A/validation'"
   ]
  },
  {
   "cell_type": "code",
   "execution_count": 6,
   "metadata": {
    "scrolled": true
   },
   "outputs": [],
   "source": [
    "#evalutils.eval_history(path_fixed, path_test, store_path, width, height, grid_width, grid_height, pre_une, image_id)"
   ]
  },
  {
   "cell_type": "code",
   "execution_count": 7,
   "metadata": {},
   "outputs": [],
   "source": [
    "image_id_2_warped_key_2_fixed_key, image_id_2_warped_key_2_warped_val = utils.nearest_neighbor(store_path+'/history/161_w_{}.json'.format(last_epoch), path_fixed, scale_factor=0.5)"
   ]
  },
  {
   "cell_type": "code",
   "execution_count": 8,
   "metadata": {},
   "outputs": [],
   "source": [
    "#image_id_2_warped_key_2_fixed_key = utils.regular_grid_logic(image_id_2_warped_key_2_fixed_key, image_id_2_warped_key_2_warped_val, 18, 18)"
   ]
  },
  {
   "cell_type": "code",
   "execution_count": 9,
   "metadata": {},
   "outputs": [],
   "source": [
    "image_id_2_accuracy, image_id_2_misclassified, image_id_2_warped_key_2_ismisclassified = utils.check_misclassification(image_id_2_warped_key_2_fixed_key)"
   ]
  },
  {
   "cell_type": "code",
   "execution_count": 10,
   "metadata": {},
   "outputs": [
    {
     "data": {
      "text/plain": [
       "46"
      ]
     },
     "execution_count": 10,
     "metadata": {},
     "output_type": "execute_result"
    }
   ],
   "source": [
    "image_id_2_misclassified[161]"
   ]
  },
  {
   "cell_type": "code",
   "execution_count": 11,
   "metadata": {},
   "outputs": [],
   "source": [
    "warped_key_2_ismis = image_id_2_warped_key_2_ismisclassified[image_id]\n",
    "warped_key_2_fixed_key = image_id_2_warped_key_2_fixed_key[image_id]\n",
    "\n",
    "evalutils.spatial_history(store_path, image_id, warped_key_2_ismis, warped_key_2_fixed_key, last_epoch)\n"
   ]
  },
  {
   "cell_type": "markdown",
   "metadata": {},
   "source": [
    "# TEST"
   ]
  },
  {
   "cell_type": "code",
   "execution_count": 19,
   "metadata": {},
   "outputs": [],
   "source": [
    "image_id_2_warped_key_2_fixed_key, image_id_2_warped_key_2_warped_val = utils.nearest_neighbor(store_path+'/test', path_fixed, scale_factor=0.5)"
   ]
  },
  {
   "cell_type": "code",
   "execution_count": 20,
   "metadata": {},
   "outputs": [],
   "source": [
    "#image_id_2_warped_key_2_fixed_key = utils.regular_grid_logic(image_id_2_warped_key_2_fixed_key, image_id_2_warped_key_2_warped_val, 18, 18)"
   ]
  },
  {
   "cell_type": "code",
   "execution_count": 21,
   "metadata": {},
   "outputs": [],
   "source": [
    "image_id_2_accuracy, image_id_2_misclassified, image_id_2_warped_key_2_ismisclassified = utils.check_misclassification(image_id_2_warped_key_2_fixed_key)"
   ]
  },
  {
   "cell_type": "code",
   "execution_count": 22,
   "metadata": {},
   "outputs": [
    {
     "data": {
      "text/plain": [
       "{200: 0.6836734693877551,\n",
       " 201: 0.6326530612244898,\n",
       " 202: 0.6938775510204082,\n",
       " 203: 0.6360544217687075,\n",
       " 204: 0.6394557823129252,\n",
       " 205: 0.6245733788395904,\n",
       " 206: 0.6450511945392492,\n",
       " 207: 0.6621160409556314,\n",
       " 208: 0.6143344709897611,\n",
       " 209: 0.6723549488054608,\n",
       " 210: 0.7201365187713311,\n",
       " 211: 0.6348122866894198,\n",
       " 212: 0.5972696245733788,\n",
       " 213: 0.6109215017064846,\n",
       " 214: 0.6450511945392492,\n",
       " 215: 0.6143344709897611,\n",
       " 216: 0.6109215017064846,\n",
       " 217: 0.6109215017064846,\n",
       " 218: 0.6040955631399317,\n",
       " 219: 0.6075085324232082,\n",
       " 220: 0.6826923076923077,\n",
       " 221: 0.6794871794871795,\n",
       " 222: 0.6730769230769231,\n",
       " 223: 0.6656050955414012,\n",
       " 224: 0.6719745222929936,\n",
       " 225: 0.6560509554140127,\n",
       " 226: 0.6878980891719745,\n",
       " 227: 0.6751592356687898,\n",
       " 228: 0.6592356687898089,\n",
       " 229: 0.6560509554140127,\n",
       " 230: 0.6815286624203821,\n",
       " 231: 0.6878980891719745,\n",
       " 232: 0.7197452229299363,\n",
       " 233: 0.6878980891719745,\n",
       " 234: 0.6528662420382165,\n",
       " 235: 0.6847133757961783,\n",
       " 236: 0.678343949044586,\n",
       " 237: 0.6656050955414012,\n",
       " 238: 0.6528662420382165,\n",
       " 239: 0.678343949044586}"
      ]
     },
     "execution_count": 22,
     "metadata": {},
     "output_type": "execute_result"
    }
   ],
   "source": [
    "image_id_2_accuracy"
   ]
  },
  {
   "cell_type": "code",
   "execution_count": 23,
   "metadata": {},
   "outputs": [],
   "source": [
    "image_id_2_warped_key_2_fixed_key = utils.regular_grid_logic(image_id_2_warped_key_2_fixed_key, image_id_2_warped_key_2_warped_val, 18, 18)"
   ]
  },
  {
   "cell_type": "code",
   "execution_count": 24,
   "metadata": {},
   "outputs": [],
   "source": [
    "image_id_2_accuracy, image_id_2_misclassified, image_id_2_warped_key_2_ismisclassified = utils.check_misclassification(image_id_2_warped_key_2_fixed_key)"
   ]
  },
  {
   "cell_type": "code",
   "execution_count": 25,
   "metadata": {},
   "outputs": [
    {
     "data": {
      "text/plain": [
       "{200: 0.8231292517006803,\n",
       " 201: 0.782312925170068,\n",
       " 202: 0.8401360544217688,\n",
       " 203: 0.8469387755102041,\n",
       " 204: 0.8197278911564626,\n",
       " 205: 0.8088737201365188,\n",
       " 206: 0.8054607508532423,\n",
       " 207: 0.8122866894197952,\n",
       " 208: 0.78839590443686,\n",
       " 209: 0.8532423208191127,\n",
       " 210: 0.8225255972696246,\n",
       " 211: 0.8122866894197952,\n",
       " 212: 0.7986348122866894,\n",
       " 213: 0.7986348122866894,\n",
       " 214: 0.7713310580204779,\n",
       " 215: 0.8191126279863481,\n",
       " 216: 0.7406143344709898,\n",
       " 217: 0.7918088737201365,\n",
       " 218: 0.78839590443686,\n",
       " 219: 0.7918088737201365,\n",
       " 220: 0.7980769230769231,\n",
       " 221: 0.7916666666666666,\n",
       " 222: 0.782051282051282,\n",
       " 223: 0.767515923566879,\n",
       " 224: 0.7993630573248408,\n",
       " 225: 0.7229299363057324,\n",
       " 226: 0.7993630573248408,\n",
       " 227: 0.7707006369426752,\n",
       " 228: 0.7420382165605095,\n",
       " 229: 0.7707006369426752,\n",
       " 230: 0.8439490445859873,\n",
       " 231: 0.8152866242038217,\n",
       " 232: 0.8280254777070064,\n",
       " 233: 0.7770700636942676,\n",
       " 234: 0.8057324840764332,\n",
       " 235: 0.7993630573248408,\n",
       " 236: 0.821656050955414,\n",
       " 237: 0.7898089171974523,\n",
       " 238: 0.7802547770700637,\n",
       " 239: 0.7929936305732485}"
      ]
     },
     "execution_count": 25,
     "metadata": {},
     "output_type": "execute_result"
    }
   ],
   "source": [
    "image_id_2_accuracy"
   ]
  },
  {
   "cell_type": "code",
   "execution_count": null,
   "metadata": {},
   "outputs": [],
   "source": []
  }
 ],
 "metadata": {
  "kernelspec": {
   "display_name": "Python 3",
   "language": "python",
   "name": "python3"
  },
  "language_info": {
   "codemirror_mode": {
    "name": "ipython",
    "version": 3
   },
   "file_extension": ".py",
   "mimetype": "text/x-python",
   "name": "python",
   "nbconvert_exporter": "python",
   "pygments_lexer": "ipython3",
   "version": "3.8.2"
  }
 },
 "nbformat": 4,
 "nbformat_minor": 4
}

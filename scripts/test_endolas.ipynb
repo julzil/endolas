{
 "cells": [
  {
   "cell_type": "code",
   "execution_count": 1,
   "metadata": {
    "scrolled": true
   },
   "outputs": [
    {
     "name": "stdout",
     "output_type": "stream",
     "text": [
      "Segmentation Models: using `tf.keras` framework.\n"
     ]
    }
   ],
   "source": [
    "import endolas\n",
    "import h5py\n",
    "import numpy as np\n",
    "from matplotlib import pyplot as plt\n",
    "import imageio\n",
    "from skimage import io\n",
    "from skimage import color\n",
    "import skimage"
   ]
  },
  {
   "cell_type": "code",
   "execution_count": 2,
   "metadata": {},
   "outputs": [],
   "source": [
    "path_val='/home/julian/Documents/Studium/MT-Masterarbeit/Data/LASTEN2/validation'\n",
    "path_test='/home/julian/Documents/Studium/MT-Masterarbeit/Data/LASTEN2/test'\n",
    "path_workdir=\"/home/julian/Documents/Studium/MT-Masterarbeit/Data/Prediction/workdir\""
   ]
  },
  {
   "cell_type": "code",
   "execution_count": 3,
   "metadata": {},
   "outputs": [],
   "source": [
    "img_0 = io.imread(path_val+'/160.png')\n",
    "img_1 = io.imread(path_val+'/161.png')\n",
    "img_2 = io.imread(path_val+'/162.png')\n",
    "img_3 = io.imread(path_val+'/163.png')\n",
    "img_4 = io.imread(path_test+'/200.png')\n",
    "img_5 = io.imread(path_test+'/201.png')\n",
    "img_6 = io.imread(path_test+'/202.png')\n",
    "img_7 = io.imread(path_test+'/203.png')"
   ]
  },
  {
   "cell_type": "code",
   "execution_count": null,
   "metadata": {},
   "outputs": [],
   "source": [
    "img_0 = color.rgba2rgb(img_0)\n",
    "img_1 = color.rgba2rgb(img_1)\n",
    "img_2 = color.rgba2rgb(img_2)\n",
    "img_3 = color.rgba2rgb(img_3)\n",
    "img_4 = color.rgba2rgb(img_4)\n",
    "img_5 = color.rgba2rgb(img_5)\n",
    "img_6 = color.rgba2rgb(img_6)\n",
    "img_7 = color.rgba2rgb(img_7)"
   ]
  },
  {
   "cell_type": "code",
   "execution_count": null,
   "metadata": {},
   "outputs": [],
   "source": [
    "img_0 = skimage.img_as_ubyte(img_0)[np.newaxis, :, :]\n",
    "img_1 = skimage.img_as_ubyte(img_1)[np.newaxis, :, :]\n",
    "img_2 = skimage.img_as_ubyte(img_2)[np.newaxis, :, :]\n",
    "img_3 = skimage.img_as_ubyte(img_3)[np.newaxis, :, :]\n",
    "img_4 = skimage.img_as_ubyte(img_4)[np.newaxis, :, :]\n",
    "img_5 = skimage.img_as_ubyte(img_5)[np.newaxis, :, :]\n",
    "img_6 = skimage.img_as_ubyte(img_6)[np.newaxis, :, :]\n",
    "img_7 = skimage.img_as_ubyte(img_7)[np.newaxis, :, :]"
   ]
  },
  {
   "cell_type": "code",
   "execution_count": null,
   "metadata": {},
   "outputs": [],
   "source": [
    "img = np.concatenate((img_0, img_1, img_2, img_3, img_4, img_5, img_6, img_7))"
   ]
  },
  {
   "cell_type": "code",
   "execution_count": null,
   "metadata": {},
   "outputs": [],
   "source": [
    "img.shape"
   ]
  },
  {
   "cell_type": "code",
   "execution_count": null,
   "metadata": {},
   "outputs": [],
   "source": [
    "len(img)"
   ]
  },
  {
   "cell_type": "code",
   "execution_count": null,
   "metadata": {},
   "outputs": [],
   "source": [
    "results = endolas.run_laser_detection(img)"
   ]
  },
  {
   "cell_type": "code",
   "execution_count": null,
   "metadata": {
    "scrolled": true
   },
   "outputs": [],
   "source": [
    "hf = h5py.File('results/segmentation.h5', 'r')\n",
    "hf.keys()"
   ]
  },
  {
   "cell_type": "code",
   "execution_count": null,
   "metadata": {},
   "outputs": [],
   "source": [
    "n1 = hf.get('1')\n",
    "img = n1[()]\n",
    "plt.imshow(img)"
   ]
  },
  {
   "cell_type": "code",
   "execution_count": null,
   "metadata": {},
   "outputs": [],
   "source": [
    "plt.imsave('results/seg.png', img)"
   ]
  },
  {
   "cell_type": "code",
   "execution_count": null,
   "metadata": {},
   "outputs": [],
   "source": [
    "list(hf.keys())"
   ]
  },
  {
   "cell_type": "code",
   "execution_count": null,
   "metadata": {},
   "outputs": [],
   "source": []
  }
 ],
 "metadata": {
  "kernelspec": {
   "display_name": "Python 3",
   "language": "python",
   "name": "python3"
  },
  "language_info": {
   "codemirror_mode": {
    "name": "ipython",
    "version": 3
   },
   "file_extension": ".py",
   "mimetype": "text/x-python",
   "name": "python",
   "nbconvert_exporter": "python",
   "pygments_lexer": "ipython3",
   "version": "3.8.2"
  }
 },
 "nbformat": 4,
 "nbformat_minor": 4
}

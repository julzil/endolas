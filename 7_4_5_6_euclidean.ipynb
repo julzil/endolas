{
 "cells": [
  {
   "cell_type": "markdown",
   "metadata": {},
   "source": [
    "# Import statements\n",
    "Following packages are necessary:"
   ]
  },
  {
   "cell_type": "code",
   "execution_count": 4,
   "metadata": {
    "scrolled": true
   },
   "outputs": [],
   "source": [
    "import random\n",
    "import utils\n",
    "import os\n",
    "import imageio\n",
    "import json\n",
    "import closs\n",
    "import ccall\n",
    "\n",
    "from simplegen import SIMPLESequence\n",
    "from lastengen import LASTENSequence\n",
    "\n",
    "import tensorflow as tf\n",
    "import numpy as np\n",
    "import tensorflow.keras.backend as kb\n",
    "from tensorflow.keras.callbacks import CSVLogger, ModelCheckpoint\n",
    "\n",
    "from unet import UNet\n",
    "from unet import preprocess_input as pre_une\n",
    "\n",
    "from matplotlib import pyplot as plt"
   ]
  },
  {
   "cell_type": "markdown",
   "metadata": {
    "pycharm": {
     "name": "#%% md\n"
    }
   },
   "source": [
    "# Checks\n",
    "The version of tensorflow as well as the GPU support are checked."
   ]
  },
  {
   "cell_type": "code",
   "execution_count": 5,
   "metadata": {
    "pycharm": {
     "name": "#%%\n"
    },
    "scrolled": false
   },
   "outputs": [
    {
     "name": "stdout",
     "output_type": "stream",
     "text": [
      "2.1.0\n"
     ]
    },
    {
     "data": {
      "text/plain": [
       "[PhysicalDevice(name='/physical_device:GPU:0', device_type='GPU')]"
      ]
     },
     "execution_count": 5,
     "metadata": {},
     "output_type": "execute_result"
    }
   ],
   "source": [
    "print(tf.__version__)\n",
    "physical_devices = tf.config.experimental.list_physical_devices('GPU')\n",
    "tf.config.experimental.set_memory_growth(physical_devices[0], True)\n",
    "tf.config.experimental.get_visible_devices('GPU')"
   ]
  },
  {
   "cell_type": "markdown",
   "metadata": {},
   "source": [
    "# Functionality\n",
    "Necessary funcionality is added here"
   ]
  },
  {
   "cell_type": "code",
   "execution_count": 6,
   "metadata": {},
   "outputs": [],
   "source": [
    "def plot_cube(img, x, y, val):\n",
    "    \n",
    "    img[y][x] = val\n",
    "    img[y][x-1] = val\n",
    "    img[y][x+1] = val\n",
    "    img[y-1][x] = val\n",
    "    img[y-1][x-1] = val\n",
    "    img[y-1][x+1] = val\n",
    "    img[y+1][x] = val\n",
    "    img[y+1][x-1] = val\n",
    "    img[y+1][x+1] = val  "
   ]
  },
  {
   "cell_type": "markdown",
   "metadata": {},
   "source": [
    "# 7.4) Supervised Euclidean for LASTENA BS=4\n",
    "A U-Net is trained here to predict a displacement field and the euclidean distance is taken as error."
   ]
  },
  {
   "cell_type": "markdown",
   "metadata": {
    "pycharm": {
     "name": "#%% md\n"
    }
   },
   "source": [
    "# Data\n",
    "Import training images"
   ]
  },
  {
   "cell_type": "code",
   "execution_count": 19,
   "metadata": {
    "pycharm": {
     "name": "#%%\n"
    }
   },
   "outputs": [],
   "source": [
    "store_path = 'experiments/7_4_euclidean'\n",
    "\n",
    "#path_fixed = '/home/julian/Documents/Studium/MT-Masterarbeit/Data/LASTENA/fix'\n",
    "#path_train = '/home/julian/Documents/Studium/MT-Masterarbeit/Data/LASTENA/train'\n",
    "#path_validation = '/home/julian/Documents/Studium/MT-Masterarbeit/Data/LASTENA/validation'\n",
    "#path_validation_2 = '/home/julian/Documents/Studium/MT-Masterarbeit/Data/LASTEN/validation'\n",
    "#path_test = '/home/julian/Documents/Studium/MT-Masterarbeit/Data/LASTENA/test'\n",
    "\n",
    "path_fixed = r'D:\\Julian\\data\\LASTENA\\fix'\n",
    "path_train = r'D:\\Julian\\data\\LASTENA\\train'\n",
    "path_validation = r'D:\\Julian\\data\\LASTENA\\validation'\n",
    "path_validation_2 = r'D:\\Julian\\data\\LASTEN\\validation'\n",
    "path_test = r'D:\\Julian\\data\\LASTENA\\test'\n",
    "\n",
    "width = 384\n",
    "height = 384\n",
    "\n",
    "grid_width = 18\n",
    "grid_height = 18"
   ]
  },
  {
   "cell_type": "markdown",
   "metadata": {
    "pycharm": {
     "name": "#%% md\n"
    }
   },
   "source": [
    "# Seeding\n",
    "Seeds are set to ensure reproducible training."
   ]
  },
  {
   "cell_type": "code",
   "execution_count": 20,
   "metadata": {
    "pycharm": {
     "name": "#%%\n"
    }
   },
   "outputs": [],
   "source": [
    "SEED = 42\n",
    "np.random.seed(SEED)\n",
    "tf.random.set_seed(SEED)\n",
    "random.seed(SEED)"
   ]
  },
  {
   "cell_type": "markdown",
   "metadata": {
    "pycharm": {
     "name": "#%% md\n"
    }
   },
   "source": [
    "# Network\n",
    "A U-Net based network is instantiated with keras to run a semantic segmentation."
   ]
  },
  {
   "cell_type": "code",
   "execution_count": 21,
   "metadata": {
    "pycharm": {
     "name": "#%%\n"
    }
   },
   "outputs": [],
   "source": [
    "model = UNet(filters=32, layers=4, activation='linear', classes=2, input_shape=(width, height, 2))"
   ]
  },
  {
   "cell_type": "markdown",
   "metadata": {
    "pycharm": {
     "name": "#%% md\n"
    }
   },
   "source": [
    "# Training Preparation\n",
    "Prepare the settings for training the model."
   ]
  },
  {
   "cell_type": "code",
   "execution_count": 22,
   "metadata": {
    "scrolled": true
   },
   "outputs": [
    {
     "name": "stdout",
     "output_type": "stream",
     "text": [
      "WARNING:tensorflow:`period` argument is deprecated. Please use `save_freq` to specify the frequency in number of samples seen.\n"
     ]
    }
   ],
   "source": [
    "batch_size=4\n",
    "\n",
    "train_gen = LASTENSequence(path_train,\n",
    "                           path_fixed,\n",
    "                           batch_size=batch_size,\n",
    "                           width=width,\n",
    "                           height=height,\n",
    "                           grid_width=grid_width, \n",
    "                           grid_height=grid_height,\n",
    "                           preprocess_input=pre_une,\n",
    "                           shuffle=True,\n",
    "                           label=\"keypoints\",\n",
    "                           channel=\"moving+fixed\")\n",
    "\n",
    "val_gen = LASTENSequence(path_validation,\n",
    "                           path_fixed,\n",
    "                           batch_size=batch_size,\n",
    "                           width=width,\n",
    "                           height=height,\n",
    "                           grid_width=grid_width, \n",
    "                           grid_height=grid_height,\n",
    "                           preprocess_input=pre_une,\n",
    "                           shuffle=False,\n",
    "                           label=\"keypoints\",\n",
    "                           channel=\"moving+fixed\")\n",
    "\n",
    "val_gen_2 = LASTENSequence(path_validation_2,\n",
    "                           path_fixed,\n",
    "                           batch_size=batch_size,\n",
    "                           width=width,\n",
    "                           height=height,\n",
    "                           grid_width=grid_width, \n",
    "                           grid_height=grid_height,\n",
    "                           preprocess_input=pre_une,\n",
    "                           shuffle=False,\n",
    "                           label=\"keypoints\",\n",
    "                           channel=\"moving+fixed\")\n",
    "\n",
    "timelogger = ccall.TimeHistory(store_path)\n",
    "vallogger = ccall.ValidationHistory(store_path, val_gen_2)\n",
    "logger = CSVLogger(store_path + \"/log\")\n",
    "checker = ModelCheckpoint(store_path + \"/weights.{epoch:02d}.hdf5\", period=10)\n",
    "checker_best = ModelCheckpoint(store_path + \"/best_weights.{epoch:02d}.hdf5\", save_best_only=True)\n",
    "callbacks = [timelogger, logger, checker, checker_best, vallogger]\n",
    "\n",
    "eu_loss = closs.EuclideanLoss(batch_size=batch_size, grid_width=grid_width, grid_height=grid_height, loss_type='msed')\n",
    "eu_met = closs.EuclideanLoss(batch_size=batch_size, grid_width=grid_width, grid_height=grid_height, loss_type='maed')\n",
    "\n",
    "model.compile(optimizer='adam', loss=eu_loss, metrics=[eu_met])"
   ]
  },
  {
   "cell_type": "markdown",
   "metadata": {},
   "source": [
    "# Training\n",
    "Run the training."
   ]
  },
  {
   "cell_type": "code",
   "execution_count": null,
   "metadata": {},
   "outputs": [],
   "source": [
    "model.load_weights(store_path + \"/weights.50.hdf5\")"
   ]
  },
  {
   "cell_type": "code",
   "execution_count": 23,
   "metadata": {
    "pycharm": {
     "name": "#%%\n"
    },
    "scrolled": true
   },
   "outputs": [
    {
     "name": "stdout",
     "output_type": "stream",
     "text": [
      "WARNING:tensorflow:sample_weight modes were coerced from\n",
      "  ...\n",
      "    to  \n",
      "  ['...']\n",
      "WARNING:tensorflow:sample_weight modes were coerced from\n",
      "  ...\n",
      "    to  \n",
      "  ['...']\n",
      "Train for 840 steps, validate for 180 steps\n",
      "Epoch 1/100\n"
     ]
    },
    {
     "name": "stderr",
     "output_type": "stream",
     "text": [
      "C:\\Users\\zilkerjn\\AppData\\Local\\Continuum\\anaconda3\\envs\\tf2-gpu\\lib\\site-packages\\tensorflow_core\\python\\framework\\indexed_slices.py:433: UserWarning: Converting sparse IndexedSlices to a dense Tensor of unknown shape. This may consume a large amount of memory.\n",
      "  \"Converting sparse IndexedSlices to a dense Tensor of unknown shape. \"\n",
      "C:\\Users\\zilkerjn\\AppData\\Local\\Continuum\\anaconda3\\envs\\tf2-gpu\\lib\\site-packages\\tensorflow_core\\python\\framework\\indexed_slices.py:433: UserWarning: Converting sparse IndexedSlices to a dense Tensor of unknown shape. This may consume a large amount of memory.\n",
      "  \"Converting sparse IndexedSlices to a dense Tensor of unknown shape. \"\n",
      "C:\\Users\\zilkerjn\\AppData\\Local\\Continuum\\anaconda3\\envs\\tf2-gpu\\lib\\site-packages\\tensorflow_core\\python\\framework\\indexed_slices.py:433: UserWarning: Converting sparse IndexedSlices to a dense Tensor of unknown shape. This may consume a large amount of memory.\n",
      "  \"Converting sparse IndexedSlices to a dense Tensor of unknown shape. \"\n",
      "C:\\Users\\zilkerjn\\AppData\\Local\\Continuum\\anaconda3\\envs\\tf2-gpu\\lib\\site-packages\\tensorflow_core\\python\\framework\\indexed_slices.py:433: UserWarning: Converting sparse IndexedSlices to a dense Tensor of unknown shape. This may consume a large amount of memory.\n",
      "  \"Converting sparse IndexedSlices to a dense Tensor of unknown shape. \"\n",
      "C:\\Users\\zilkerjn\\AppData\\Local\\Continuum\\anaconda3\\envs\\tf2-gpu\\lib\\site-packages\\tensorflow_core\\python\\framework\\indexed_slices.py:433: UserWarning: Converting sparse IndexedSlices to a dense Tensor of unknown shape. This may consume a large amount of memory.\n",
      "  \"Converting sparse IndexedSlices to a dense Tensor of unknown shape. \"\n",
      "C:\\Users\\zilkerjn\\AppData\\Local\\Continuum\\anaconda3\\envs\\tf2-gpu\\lib\\site-packages\\tensorflow_core\\python\\framework\\indexed_slices.py:433: UserWarning: Converting sparse IndexedSlices to a dense Tensor of unknown shape. This may consume a large amount of memory.\n",
      "  \"Converting sparse IndexedSlices to a dense Tensor of unknown shape. \"\n",
      "C:\\Users\\zilkerjn\\AppData\\Local\\Continuum\\anaconda3\\envs\\tf2-gpu\\lib\\site-packages\\tensorflow_core\\python\\framework\\indexed_slices.py:433: UserWarning: Converting sparse IndexedSlices to a dense Tensor of unknown shape. This may consume a large amount of memory.\n",
      "  \"Converting sparse IndexedSlices to a dense Tensor of unknown shape. \"\n",
      "C:\\Users\\zilkerjn\\AppData\\Local\\Continuum\\anaconda3\\envs\\tf2-gpu\\lib\\site-packages\\tensorflow_core\\python\\framework\\indexed_slices.py:433: UserWarning: Converting sparse IndexedSlices to a dense Tensor of unknown shape. This may consume a large amount of memory.\n",
      "  \"Converting sparse IndexedSlices to a dense Tensor of unknown shape. \"\n"
     ]
    },
    {
     "name": "stdout",
     "output_type": "stream",
     "text": [
      "839/840 [============================>.] - ETA: 0s - loss: 1349.8408 - maed: 28.9907WARNING:tensorflow:sample_weight modes were coerced from\n",
      "  ...\n",
      "    to  \n",
      "  ['...']\n",
      "9/9 [==============================] - 3s 305ms/step - loss: 927.4241 - maed: 27.3086\n",
      "840/840 [==============================] - 183s 217ms/step - loss: 1349.0133 - maed: 28.9813 - val_loss: 1232.1411 - val_maed: 28.7403\n",
      "Epoch 2/100\n",
      "839/840 [============================>.] - ETA: 0s - loss: 515.4189 - maed: 17.8119WARNING:tensorflow:sample_weight modes were coerced from\n",
      "  ...\n",
      "    to  \n",
      "  ['...']\n",
      "9/9 [==============================] - 2s 255ms/step - loss: 182.3121 - maed: 11.5772\n",
      "840/840 [==============================] - 154s 183ms/step - loss: 515.0526 - maed: 17.8045 - val_loss: 422.7169 - val_maed: 16.2267\n",
      "Epoch 3/100\n",
      "839/840 [============================>.] - ETA: 0s - loss: 330.9732 - maed: 14.2123WARNING:tensorflow:sample_weight modes were coerced from\n",
      "  ...\n",
      "    to  \n",
      "  ['...']\n",
      "9/9 [==============================] - 2s 270ms/step - loss: 169.6862 - maed: 11.3955\n",
      "840/840 [==============================] - 152s 181ms/step - loss: 331.0035 - maed: 14.2115 - val_loss: 446.7629 - val_maed: 16.8756\n",
      "Epoch 4/100\n",
      "839/840 [============================>.] - ETA: 0s - loss: 265.2695 - maed: 12.6572-  - ETA: 3s - loss: 266 - ETA: 0s - loss: 265.7948 - maed:WARNING:tensorflow:sample_weight modes were coerced from\n",
      "  ...\n",
      "    to  \n",
      "  ['...']\n",
      "9/9 [==============================] - 2s 252ms/step - loss: 88.1263 - maed: 7.6608\n",
      "840/840 [==============================] - 140s 166ms/step - loss: 265.4450 - maed: 12.6609 - val_loss: 290.5238 - val_maed: 12.9563\n",
      "Epoch 5/100\n",
      "839/840 [============================>.] - ETA: 0s - loss: 228.8430 - maed: 11.7119WARNING:tensorflow:sample_weight modes were coerced from\n",
      "  ...\n",
      "    to  \n",
      "  ['...']\n",
      "9/9 [==============================] - 2s 261ms/step - loss: 91.9742 - maed: 8.2413\n",
      "840/840 [==============================] - 152s 181ms/step - loss: 228.9038 - maed: 11.7131 - val_loss: 259.4880 - val_maed: 12.1677\n",
      "Epoch 6/100\n",
      "839/840 [============================>.] - ETA: 0s - loss: 206.0271 - maed: 11.0944WARNING:tensorflow:sample_weight modes were coerced from\n",
      "  ...\n",
      "    to  \n",
      "  ['...']\n",
      "9/9 [==============================] - 3s 285ms/step - loss: 66.8758 - maed: 6.8071\n",
      "840/840 [==============================] - 153s 183ms/step - loss: 206.0210 - maed: 11.0945 - val_loss: 233.2778 - val_maed: 11.5528\n",
      "Epoch 7/100\n",
      "839/840 [============================>.] - ETA: 0s - loss: 187.5033 - maed: 10.5437WARNING:tensorflow:sample_weight modes were coerced from\n",
      "  ...\n",
      "    to  \n",
      "  ['...']\n",
      "9/9 [==============================] - 2s 258ms/step - loss: 97.0309 - maed: 8.4584\n",
      "840/840 [==============================] - 159s 190ms/step - loss: 187.4616 - maed: 10.5428 - val_loss: 270.4729 - val_maed: 12.5307\n",
      "Epoch 8/100\n",
      "839/840 [============================>.] - ETA: 0s - loss: 164.2572 - maed: 9.8343WARNING:tensorflow:sample_weight modes were coerced from\n",
      "  ...\n",
      "    to  \n",
      "  ['...']\n",
      "9/9 [==============================] - 2s 275ms/step - loss: 249.8441 - maed: 12.6169\n",
      "840/840 [==============================] - 154s 183ms/step - loss: 164.2498 - maed: 9.8344 - val_loss: 376.5034 - val_maed: 15.0717\n",
      "Epoch 9/100\n",
      "839/840 [============================>.] - ETA: 0s - loss: 142.8370 - maed: 9.1914WARNING:tensorflow:sample_weight modes were coerced from\n",
      "  ...\n",
      "    to  \n",
      "  ['...']\n",
      "9/9 [==============================] - 2s 274ms/step - loss: 135.8731 - maed: 10.5195\n",
      "840/840 [==============================] - 153s 182ms/step - loss: 142.8234 - maed: 9.1908 - val_loss: 266.6701 - val_maed: 12.7680\n",
      "Epoch 10/100\n",
      "839/840 [============================>.] - ETA: 0s - loss: 121.1965 - maed: 8.4417WARNING:tensorflow:sample_weight modes were coerced from\n",
      "  ...\n",
      "    to  \n",
      "  ['...']\n",
      "9/9 [==============================] - 2s 276ms/step - loss: 199.3682 - maed: 12.5078\n",
      "840/840 [==============================] - 145s 172ms/step - loss: 121.1546 - maed: 8.4404 - val_loss: 291.2400 - val_maed: 13.6384\n",
      "Epoch 11/100\n",
      "839/840 [============================>.] - ETA: 0s - loss: 107.1100 - maed: 7.9296WARNING:tensorflow:sample_weight modes were coerced from\n",
      "  ...\n",
      "    to  \n",
      "  ['...']\n",
      "9/9 [==============================] - 2s 259ms/step - loss: 67.7397 - maed: 6.7305\n",
      "840/840 [==============================] - 151s 179ms/step - loss: 107.0719 - maed: 7.9281 - val_loss: 150.6359 - val_maed: 9.2942\n",
      "Epoch 12/100\n",
      "839/840 [============================>.] - ETA: 0s - loss: 97.3002 - maed: 7.5810WARNING:tensorflow:sample_weight modes were coerced from\n",
      "  ...\n",
      "    to  \n",
      "  ['...']\n",
      "9/9 [==============================] - 3s 301ms/step - loss: 38.2617 - maed: 5.2467\n",
      "840/840 [==============================] - 159s 189ms/step - loss: 97.2584 - maed: 7.5795 - val_loss: 119.4155 - val_maed: 8.2220\n",
      "Epoch 13/100\n",
      "839/840 [============================>.] - ETA: 0s - loss: 90.2442 - maed: 7.2898- ETA: 2s - loss: 90WARNING:tensorflow:sample_weight modes were coerced from\n",
      "  ...\n",
      "    to  \n",
      "  ['...']\n",
      "9/9 [==============================] - 2s 252ms/step - loss: 44.4250 - maed: 5.7253\n",
      "840/840 [==============================] - 160s 190ms/step - loss: 90.2338 - maed: 7.2894 - val_loss: 132.8434 - val_maed: 8.6746\n",
      "Epoch 14/100\n",
      "839/840 [============================>.] - ETA: 0s - loss: 77.6063 - maed: 6.7834WARNING:tensorflow:sample_weight modes were coerced from\n",
      "  ...\n",
      "    to  \n",
      "  ['...']\n",
      "9/9 [==============================] - 3s 282ms/step - loss: 90.1925 - maed: 8.5333\n",
      "840/840 [==============================] - 153s 182ms/step - loss: 77.5865 - maed: 6.7826 - val_loss: 188.9505 - val_maed: 10.8990\n",
      "Epoch 15/100\n",
      "839/840 [============================>.] - ETA: 0s - loss: 70.7439 - maed: 6.4797WARNING:tensorflow:sample_weight modes were coerced from\n",
      "  ...\n",
      "    to  \n",
      "  ['...']\n",
      "9/9 [==============================] - 2s 254ms/step - loss: 100.3934 - maed: 8.6983\n",
      "840/840 [==============================] - 148s 176ms/step - loss: 70.7391 - maed: 6.4795 - val_loss: 127.4490 - val_maed: 8.9665\n",
      "Epoch 16/100\n",
      "839/840 [============================>.] - ETA: 0s - loss: 62.4439 - maed: 6.0976WARNING:tensorflow:sample_weight modes were coerced from\n",
      "  ...\n",
      "    to  \n",
      "  ['...']\n",
      "9/9 [==============================] - 2s 264ms/step - loss: 33.5755 - maed: 5.0280\n",
      "840/840 [==============================] - 152s 181ms/step - loss: 62.4678 - maed: 6.0979 - val_loss: 89.4191 - val_maed: 7.2353\n",
      "Epoch 17/100\n",
      "839/840 [============================>.] - ETA: 0s - loss: 59.6926 - maed: 5.9624WARNING:tensorflow:sample_weight modes were coerced from\n",
      "  ...\n",
      "    to  \n",
      "  ['...']\n",
      "9/9 [==============================] - 3s 308ms/step - loss: 551.7404 - maed: 19.2100\n",
      "840/840 [==============================] - 165s 196ms/step - loss: 59.7492 - maed: 5.9647 - val_loss: 631.9414 - val_maed: 19.0198\n",
      "Epoch 18/100\n",
      "839/840 [============================>.] - ETA: 0s - loss: 53.2560 - maed: 5.6257WARNING:tensorflow:sample_weight modes were coerced from\n",
      "  ...\n",
      "    to  \n",
      "  ['...']\n",
      "9/9 [==============================] - 3s 282ms/step - loss: 34.7167 - maed: 5.3217\n",
      "840/840 [==============================] - 159s 189ms/step - loss: 53.2401 - maed: 5.6248 - val_loss: 87.8224 - val_maed: 7.2260\n",
      "Epoch 19/100\n",
      "839/840 [============================>.] - ETA: 0s - loss: 53.9314 - maed: 5.6725WARNING:tensorflow:sample_weight modes were coerced from\n",
      "  ...\n",
      "    to  \n",
      "  ['...']\n",
      "9/9 [==============================] - 3s 306ms/step - loss: 38.4554 - maed: 5.3974\n",
      "840/840 [==============================] - 159s 190ms/step - loss: 53.9354 - maed: 5.6726 - val_loss: 89.9735 - val_maed: 7.3039\n",
      "Epoch 20/100\n",
      "839/840 [============================>.] - ETA: 0s - loss: 47.3387 - maed: 5.2992WARNING:tensorflow:sample_weight modes were coerced from\n",
      "  ...\n",
      "    to  \n",
      "  ['...']\n",
      "9/9 [==============================] - 3s 346ms/step - loss: 56.4961 - maed: 6.3054\n",
      "840/840 [==============================] - 149s 177ms/step - loss: 47.3304 - maed: 5.2987 - val_loss: 136.0636 - val_maed: 9.0626\n",
      "Epoch 21/100\n",
      "839/840 [============================>.] - ETA: 0s - loss: 44.3084 - maed: 5.1397WARNING:tensorflow:sample_weight modes were coerced from\n",
      "  ...\n",
      "    to  \n",
      "  ['...']\n",
      "9/9 [==============================] - 2s 246ms/step - loss: 21.8351 - maed: 4.0166\n",
      "840/840 [==============================] - 156s 185ms/step - loss: 44.2961 - maed: 5.1390 - val_loss: 77.4665 - val_maed: 6.5989\n"
     ]
    },
    {
     "name": "stdout",
     "output_type": "stream",
     "text": [
      "Epoch 22/100\n",
      "839/840 [============================>.] - ETA: 0s - loss: 42.3877 - maed: 5.0202WARNING:tensorflow:sample_weight modes were coerced from\n",
      "  ...\n",
      "    to  \n",
      "  ['...']\n",
      "9/9 [==============================] - 2s 244ms/step - loss: 15.1075 - maed: 3.2282\n",
      "840/840 [==============================] - 160s 190ms/step - loss: 42.3627 - maed: 5.0185 - val_loss: 71.9092 - val_maed: 6.3002\n",
      "Epoch 23/100\n",
      "839/840 [============================>.] - ETA: 0s - loss: 41.7114 - maed: 4.9933WARNING:tensorflow:sample_weight modes were coerced from\n",
      "  ...\n",
      "    to  \n",
      "  ['...']\n",
      "9/9 [==============================] - 2s 265ms/step - loss: 15.6627 - maed: 3.3165\n",
      "840/840 [==============================] - 163s 194ms/step - loss: 41.7212 - maed: 4.9942 - val_loss: 83.8410 - val_maed: 6.6709\n",
      "Epoch 24/100\n",
      "839/840 [============================>.] - ETA: 0s - loss: 35.9181 - maed: 4.6226- ETA: 1s - loss: 35.9703 - maedWARNING:tensorflow:sample_weight modes were coerced from\n",
      "  ...\n",
      "    to  \n",
      "  ['...']\n",
      "9/9 [==============================] - 2s 262ms/step - loss: 24.6246 - maed: 4.2197\n",
      "840/840 [==============================] - 158s 188ms/step - loss: 35.9089 - maed: 4.6218 - val_loss: 87.4420 - val_maed: 6.9186\n",
      "Epoch 25/100\n",
      "839/840 [============================>.] - ETA: 0s - loss: 35.9630 - maed: 4.6268- ETA: 6s  - ETA: 3s - lWARNING:tensorflow:sample_weight modes were coerced from\n",
      "  ...\n",
      "    to  \n",
      "  ['...']\n",
      "9/9 [==============================] - 2s 238ms/step - loss: 28.6506 - maed: 4.4416\n",
      "840/840 [==============================] - 153s 183ms/step - loss: 35.9521 - maed: 4.6262 - val_loss: 78.8883 - val_maed: 6.7959\n",
      "Epoch 26/100\n",
      "839/840 [============================>.] - ETA: 0s - loss: 36.5056 - maed: 4.6715WARNING:tensorflow:sample_weight modes were coerced from\n",
      "  ...\n",
      "    to  \n",
      "  ['...']\n",
      "9/9 [==============================] - 3s 322ms/step - loss: 24.3023 - maed: 4.2855\n",
      "840/840 [==============================] - 147s 175ms/step - loss: 36.4908 - maed: 4.6705 - val_loss: 85.9615 - val_maed: 6.9783\n",
      "Epoch 27/100\n",
      "839/840 [============================>.] - ETA: 0s - loss: 31.6337 - maed: 4.3527- ETA: 1s - loss: 31.5862  - ETA: 0s - loss: 31.6269 - maed: 4.352WARNING:tensorflow:sample_weight modes were coerced from\n",
      "  ...\n",
      "    to  \n",
      "  ['...']\n",
      "9/9 [==============================] - 3s 289ms/step - loss: 30.4756 - maed: 4.9534\n",
      "840/840 [==============================] - 157s 187ms/step - loss: 31.6674 - maed: 4.3541 - val_loss: 85.5945 - val_maed: 7.1012\n",
      "Epoch 28/100\n",
      "839/840 [============================>.] - ETA: 0s - loss: 30.8862 - maed: 4.3047WARNING:tensorflow:sample_weight modes were coerced from\n",
      "  ...\n",
      "    to  \n",
      "  ['...']\n",
      "9/9 [==============================] - 2s 260ms/step - loss: 41.2622 - maed: 5.4850\n",
      "840/840 [==============================] - 163s 194ms/step - loss: 30.9108 - maed: 4.3066 - val_loss: 122.9844 - val_maed: 8.5287\n",
      "Epoch 29/100\n",
      "839/840 [============================>.] - ETA: 0s - loss: 30.5851 - maed: 4.2804WARNING:tensorflow:sample_weight modes were coerced from\n",
      "  ...\n",
      "    to  \n",
      "  ['...']\n",
      "9/9 [==============================] - 3s 314ms/step - loss: 149.5135 - maed: 10.8660\n",
      "840/840 [==============================] - 159s 189ms/step - loss: 30.6057 - maed: 4.2818 - val_loss: 214.0083 - val_maed: 11.8762\n",
      "Epoch 30/100\n",
      "839/840 [============================>.] - ETA: 0s - loss: 26.2515 - maed: 3.9586WARNING:tensorflow:sample_weight modes were coerced from\n",
      "  ...\n",
      "    to  \n",
      "  ['...']\n",
      "9/9 [==============================] - 3s 279ms/step - loss: 14.5172 - maed: 3.3050\n",
      "840/840 [==============================] - 157s 187ms/step - loss: 26.2503 - maed: 3.9588 - val_loss: 68.1614 - val_maed: 6.0729\n",
      "Epoch 31/100\n",
      "839/840 [============================>.] - ETA: 0s - loss: 26.5215 - maed: 3.9947WARNING:tensorflow:sample_weight modes were coerced from\n",
      "  ...\n",
      "    to  \n",
      "  ['...']\n",
      "9/9 [==============================] - 2s 276ms/step - loss: 10.8466 - maed: 2.6915\n",
      "840/840 [==============================] - 152s 181ms/step - loss: 26.5196 - maed: 3.9944 - val_loss: 65.2680 - val_maed: 5.8009\n",
      "Epoch 32/100\n",
      "839/840 [============================>.] - ETA: 0s - loss: 25.1980 - maed: 3.8933WARNING:tensorflow:sample_weight modes were coerced from\n",
      "  ...\n",
      "    to  \n",
      "  ['...']\n",
      "9/9 [==============================] - 3s 361ms/step - loss: 7.9905 - maed: 2.3904\n",
      "840/840 [==============================] - 159s 190ms/step - loss: 25.1969 - maed: 3.8933 - val_loss: 60.9703 - val_maed: 5.5519\n",
      "Epoch 33/100\n",
      "839/840 [============================>.] - ETA: 0s - loss: 23.1239 - maed: 3.7263WARNING:tensorflow:sample_weight modes were coerced from\n",
      "  ...\n",
      "    to  \n",
      "  ['...']\n",
      "9/9 [==============================] - 3s 294ms/step - loss: 15.3193 - maed: 3.3572\n",
      "840/840 [==============================] - 167s 199ms/step - loss: 23.1240 - maed: 3.7265 - val_loss: 78.7596 - val_maed: 6.5046\n",
      "Epoch 34/100\n",
      "839/840 [============================>.] - ETA: 0s - loss: 23.1471 - maed: 3.7240WARNING:tensorflow:sample_weight modes were coerced from\n",
      "  ...\n",
      "    to  \n",
      "  ['...']\n",
      "9/9 [==============================] - 2s 266ms/step - loss: 8.4169 - maed: 2.3760\n",
      "840/840 [==============================] - 166s 198ms/step - loss: 23.1388 - maed: 3.7234 - val_loss: 59.0076 - val_maed: 5.4312\n",
      "Epoch 35/100\n",
      "839/840 [============================>.] - ETA: 0s - loss: 22.4711 - maed: 3.686 - ETA: 0s - loss: 22.4745 - maed: 3.6862WARNING:tensorflow:sample_weight modes were coerced from\n",
      "  ...\n",
      "    to  \n",
      "  ['...']\n",
      "9/9 [==============================] - 2s 250ms/step - loss: 13.5214 - maed: 3.1880\n",
      "840/840 [==============================] - 158s 189ms/step - loss: 22.4779 - maed: 3.6863 - val_loss: 62.2574 - val_maed: 5.7529\n",
      "Epoch 36/100\n",
      "839/840 [============================>.] - ETA: 0s - loss: 20.7796 - maed: 3.5347- ETA: 3s - loss: 20. - ETA: 1s - loss: 20.7783 - maeWARNING:tensorflow:sample_weight modes were coerced from\n",
      "  ...\n",
      "    to  \n",
      "  ['...']\n",
      "9/9 [==============================] - 2s 260ms/step - loss: 435.5416 - maed: 15.2669\n",
      "840/840 [==============================] - 156s 186ms/step - loss: 20.7709 - maed: 3.5340 - val_loss: 468.4613 - val_maed: 15.2776\n",
      "Epoch 37/100\n",
      "839/840 [============================>.] - ETA: 0s - loss: 19.4332 - maed: 3.4194WARNING:tensorflow:sample_weight modes were coerced from\n",
      "  ...\n",
      "    to  \n",
      "  ['...']\n",
      "9/9 [==============================] - 2s 259ms/step - loss: 6.9981 - maed: 2.2002\n",
      "840/840 [==============================] - 156s 185ms/step - loss: 19.4265 - maed: 3.4189 - val_loss: 60.2715 - val_maed: 5.4517\n",
      "Epoch 38/100\n",
      "839/840 [============================>.] - ETA: 0s - loss: 20.1407 - maed: 3.4714WARNING:tensorflow:sample_weight modes were coerced from\n",
      "  ...\n",
      "    to  \n",
      "  ['...']\n",
      "9/9 [==============================] - 3s 297ms/step - loss: 13.0489 - maed: 3.1412\n",
      "840/840 [==============================] - 165s 197ms/step - loss: 20.1404 - maed: 3.4714 - val_loss: 62.5886 - val_maed: 5.7402\n",
      "Epoch 39/100\n",
      "839/840 [============================>.] - ETA: 0s - loss: 17.7844 - maed: 3.2768WARNING:tensorflow:sample_weight modes were coerced from\n",
      "  ...\n",
      "    to  \n",
      "  ['...']\n",
      "9/9 [==============================] - 3s 321ms/step - loss: 14.9436 - maed: 3.3739\n",
      "840/840 [==============================] - 169s 201ms/step - loss: 17.7871 - maed: 3.2772 - val_loss: 68.6969 - val_maed: 6.1311\n",
      "Epoch 40/100\n",
      "839/840 [============================>.] - ETA: 0s - loss: 18.3304 - maed: 3.3394WARNING:tensorflow:sample_weight modes were coerced from\n",
      "  ...\n",
      "    to  \n",
      "  ['...']\n",
      "9/9 [==============================] - 2s 273ms/step - loss: 15.8078 - maed: 3.4935\n",
      "840/840 [==============================] - 168s 200ms/step - loss: 18.3370 - maed: 3.3399 - val_loss: 61.0690 - val_maed: 5.6873\n",
      "Epoch 41/100\n",
      "839/840 [============================>.] - ETA: 0s - loss: 16.8330 - maed: 3.1858-WARNING:tensorflow:sample_weight modes were coerced from\n",
      "  ...\n",
      "    to  \n",
      "  ['...']\n",
      "9/9 [==============================] - 3s 333ms/step - loss: 29.3695 - maed: 4.6355\n",
      "840/840 [==============================] - 156s 185ms/step - loss: 16.8345 - maed: 3.1862 - val_loss: 84.9862 - val_maed: 7.0068\n",
      "Epoch 42/100\n",
      "839/840 [============================>.] - ETA: 0s - loss: 16.5968 - maed: 3.1643- ETA: 4s - loss: 16.50 - ETA: 2s - loss:WARNING:tensorflow:sample_weight modes were coerced from\n",
      "  ...\n",
      "    to  \n",
      "  ['...']\n"
     ]
    },
    {
     "name": "stdout",
     "output_type": "stream",
     "text": [
      "9/9 [==============================] - 3s 307ms/step - loss: 7.2042 - maed: 2.2765\n",
      "840/840 [==============================] - 156s 185ms/step - loss: 16.5934 - maed: 3.1639 - val_loss: 62.1629 - val_maed: 5.5454\n",
      "Epoch 43/100\n",
      "839/840 [============================>.] - ETA: 0s - loss: 15.7613 - maed: 3.0913WARNING:tensorflow:sample_weight modes were coerced from\n",
      "  ...\n",
      "    to  \n",
      "  ['...']\n",
      "9/9 [==============================] - 3s 297ms/step - loss: 9.6390 - maed: 2.6083\n",
      "840/840 [==============================] - 161s 192ms/step - loss: 15.7527 - maed: 3.0904 - val_loss: 64.5453 - val_maed: 5.7986\n",
      "Epoch 44/100\n",
      "839/840 [============================>.] - ETA: 0s - loss: 15.5927 - maed: 3.0804WARNING:tensorflow:sample_weight modes were coerced from\n",
      "  ...\n",
      "    to  \n",
      "  ['...']\n",
      "9/9 [==============================] - 2s 260ms/step - loss: 15.2096 - maed: 3.2898\n",
      "840/840 [==============================] - 173s 206ms/step - loss: 15.5877 - maed: 3.0800 - val_loss: 71.1600 - val_maed: 6.1643\n",
      "Epoch 45/100\n",
      "839/840 [============================>.] - ETA: 0s - loss: 15.3275 - maed: 3.0468WARNING:tensorflow:sample_weight modes were coerced from\n",
      "  ...\n",
      "    to  \n",
      "  ['...']\n",
      "9/9 [==============================] - 2s 245ms/step - loss: 7.5173 - maed: 2.3355\n",
      "840/840 [==============================] - 169s 201ms/step - loss: 15.3186 - maed: 3.0457 - val_loss: 59.2094 - val_maed: 5.4290\n",
      "Epoch 46/100\n",
      "839/840 [============================>.] - ETA: 0s - loss: 14.4461 - maed: 2.9477- ETA: 3s - loss: 14.41 - ETA: 1s - loss: 14.4646 - mWARNING:tensorflow:sample_weight modes were coerced from\n",
      "  ...\n",
      "    to  \n",
      "  ['...']\n",
      "9/9 [==============================] - 2s 272ms/step - loss: 10.1423 - maed: 2.6956\n",
      "840/840 [==============================] - 159s 189ms/step - loss: 14.4425 - maed: 2.9474 - val_loss: 60.2360 - val_maed: 5.5167\n",
      "Epoch 47/100\n",
      "839/840 [============================>.] - ETA: 0s - loss: 13.8143 - maed: 2.8872WARNING:tensorflow:sample_weight modes were coerced from\n",
      "  ...\n",
      "    to  \n",
      "  ['...']\n",
      "9/9 [==============================] - 3s 286ms/step - loss: 13.6556 - maed: 3.0636\n",
      "840/840 [==============================] - 152s 181ms/step - loss: 13.8140 - maed: 2.8874 - val_loss: 68.2376 - val_maed: 5.9531\n",
      "Epoch 48/100\n",
      "839/840 [============================>.] - ETA: 0s - loss: 12.7360 - maed: 2.7747WARNING:tensorflow:sample_weight modes were coerced from\n",
      "  ...\n",
      "    to  \n",
      "  ['...']\n",
      "9/9 [==============================] - 3s 307ms/step - loss: 10.2752 - maed: 2.7292\n",
      "840/840 [==============================] - 161s 191ms/step - loss: 12.7338 - maed: 2.7745 - val_loss: 62.7062 - val_maed: 5.6804\n",
      "Epoch 49/100\n",
      "839/840 [============================>.] - ETA: 0s - loss: 13.2698 - maed: 2.8338- ETA: 0s - loss: 13.2671 - maed: 2.833WARNING:tensorflow:sample_weight modes were coerced from\n",
      "  ...\n",
      "    to  \n",
      "  ['...']\n",
      "9/9 [==============================] - 3s 321ms/step - loss: 7.5678 - maed: 2.2616\n",
      "840/840 [==============================] - 174s 208ms/step - loss: 13.2710 - maed: 2.8339 - val_loss: 58.2787 - val_maed: 5.3032\n",
      "Epoch 50/100\n",
      "839/840 [============================>.] - ETA: 0s - loss: 12.2605 - maed: 2.7245WARNING:tensorflow:sample_weight modes were coerced from\n",
      "  ...\n",
      "    to  \n",
      "  ['...']\n",
      "9/9 [==============================] - 3s 313ms/step - loss: 8.3859 - maed: 2.4549\n",
      "840/840 [==============================] - 170s 202ms/step - loss: 12.2673 - maed: 2.7253 - val_loss: 62.5731 - val_maed: 5.5967\n",
      "Epoch 51/100\n",
      "839/840 [============================>.] - ETA: 0s - loss: 12.1046 - maed: 2.7085WARNING:tensorflow:sample_weight modes were coerced from\n",
      "  ...\n",
      "    to  \n",
      "  ['...']\n",
      "9/9 [==============================] - 3s 311ms/step - loss: 22.1453 - maed: 4.2447\n",
      "840/840 [==============================] - 165s 197ms/step - loss: 12.1265 - maed: 2.7107 - val_loss: 70.9516 - val_maed: 6.3076\n",
      "Epoch 52/100\n",
      "839/840 [============================>.] - ETA: 0s - loss: 11.8213 - maed: 2.6738- ETWARNING:tensorflow:sample_weight modes were coerced from\n",
      "  ...\n",
      "    to  \n",
      "  ['...']\n",
      "9/9 [==============================] - 3s 283ms/step - loss: 6.5554 - maed: 2.1254\n",
      "840/840 [==============================] - 159s 190ms/step - loss: 11.8205 - maed: 2.6738 - val_loss: 57.0999 - val_maed: 5.2789\n",
      "Epoch 53/100\n",
      "839/840 [============================>.] - ETA: 0s - loss: 11.1316 - maed: 2.5803WARNING:tensorflow:sample_weight modes were coerced from\n",
      "  ...\n",
      "    to  \n",
      "  ['...']\n",
      "9/9 [==============================] - 2s 273ms/step - loss: 7.4775 - maed: 2.3328\n",
      "840/840 [==============================] - 159s 189ms/step - loss: 11.1317 - maed: 2.5804 - val_loss: 55.2415 - val_maed: 5.2455\n",
      "Epoch 54/100\n",
      "839/840 [============================>.] - ETA: 0s - loss: 11.2070 - maed: 2.5914WARNING:tensorflow:sample_weight modes were coerced from\n",
      "  ...\n",
      "    to  \n",
      "  ['...']\n",
      "9/9 [==============================] - 3s 282ms/step - loss: 5.4057 - maed: 1.9836\n",
      "840/840 [==============================] - 171s 204ms/step - loss: 11.2052 - maed: 2.5912 - val_loss: 55.9970 - val_maed: 5.2422\n",
      "Epoch 55/100\n",
      "839/840 [============================>.] - ETA: 0s - loss: 12.2657 - maed: 2.7070WARNING:tensorflow:sample_weight modes were coerced from\n",
      "  ...\n",
      "    to  \n",
      "  ['...']\n",
      "9/9 [==============================] - 3s 318ms/step - loss: 6.5762 - maed: 2.1512\n",
      "840/840 [==============================] - 177s 210ms/step - loss: 12.2651 - maed: 2.7070 - val_loss: 56.1038 - val_maed: 5.1959\n",
      "Epoch 56/100\n",
      "839/840 [============================>.] - ETA: 0s - loss: 10.3764 - maed: 2.4895WARNING:tensorflow:sample_weight modes were coerced from\n",
      "  ...\n",
      "    to  \n",
      "  ['...']\n",
      "9/9 [==============================] - 3s 327ms/step - loss: 3.1375 - maed: 1.4230\n",
      "840/840 [==============================] - 173s 206ms/step - loss: 10.3767 - maed: 2.4896 - val_loss: 53.7013 - val_maed: 4.9020\n",
      "Epoch 57/100\n",
      "839/840 [============================>.] - ETA: 0s - loss: 10.6843 - maed: 2.5170WARNING:tensorflow:sample_weight modes were coerced from\n",
      "  ...\n",
      "    to  \n",
      "  ['...']\n",
      "9/9 [==============================] - 3s 301ms/step - loss: 11.4961 - maed: 2.9019\n",
      "840/840 [==============================] - 160s 190ms/step - loss: 10.6828 - maed: 2.5169 - val_loss: 64.3288 - val_maed: 5.7457\n",
      "Epoch 58/100\n",
      "839/840 [============================>.] - ETA: 0s - loss: 9.8481 - maed: 2.4112WARNING:tensorflow:sample_weight modes were coerced from\n",
      "  ...\n",
      "    to  \n",
      "  ['...']\n",
      "9/9 [==============================] - 2s 269ms/step - loss: 11.7033 - maed: 3.0794\n",
      "840/840 [==============================] - 158s 188ms/step - loss: 9.8489 - maed: 2.4115 - val_loss: 60.6570 - val_maed: 5.5556\n",
      "Epoch 59/100\n",
      "839/840 [============================>.] - ETA: 0s - loss: 9.3316 - maed: 2.3584WARNING:tensorflow:sample_weight modes were coerced from\n",
      "  ...\n",
      "    to  \n",
      "  ['...']\n",
      "9/9 [==============================] - 3s 292ms/step - loss: 10.5204 - maed: 2.7688\n",
      "840/840 [==============================] - 162s 193ms/step - loss: 9.3407 - maed: 2.3596 - val_loss: 59.4361 - val_maed: 5.4904\n",
      "Epoch 60/100\n",
      " 11/840 [..............................] - ETA: 4:14 - loss: 9.3170 - maed: 2.4260"
     ]
    },
    {
     "ename": "KeyError",
     "evalue": "'val_loss'",
     "output_type": "error",
     "traceback": [
      "\u001b[1;31m---------------------------------------------------------------------------\u001b[0m",
      "\u001b[1;31mResourceExhaustedError\u001b[0m                    Traceback (most recent call last)",
      "\u001b[1;32m~\\AppData\\Local\\Continuum\\anaconda3\\envs\\tf2-gpu\\lib\\site-packages\\tensorflow_core\\python\\keras\\engine\\training_v2.py\u001b[0m in \u001b[0;36mon_epoch\u001b[1;34m(self, epoch, mode)\u001b[0m\n\u001b[0;32m    766\u001b[0m     \u001b[1;32mtry\u001b[0m\u001b[1;33m:\u001b[0m\u001b[1;33m\u001b[0m\u001b[1;33m\u001b[0m\u001b[0m\n\u001b[1;32m--> 767\u001b[1;33m       \u001b[1;32myield\u001b[0m \u001b[0mepoch_logs\u001b[0m\u001b[1;33m\u001b[0m\u001b[1;33m\u001b[0m\u001b[0m\n\u001b[0m\u001b[0;32m    768\u001b[0m     \u001b[1;32mfinally\u001b[0m\u001b[1;33m:\u001b[0m\u001b[1;33m\u001b[0m\u001b[1;33m\u001b[0m\u001b[0m\n",
      "\u001b[1;32m~\\AppData\\Local\\Continuum\\anaconda3\\envs\\tf2-gpu\\lib\\site-packages\\tensorflow_core\\python\\keras\\engine\\training_v2.py\u001b[0m in \u001b[0;36mfit\u001b[1;34m(self, model, x, y, batch_size, epochs, verbose, callbacks, validation_split, validation_data, shuffle, class_weight, sample_weight, initial_epoch, steps_per_epoch, validation_steps, validation_freq, max_queue_size, workers, use_multiprocessing, **kwargs)\u001b[0m\n\u001b[0;32m    341\u001b[0m                 \u001b[0mtraining_context\u001b[0m\u001b[1;33m=\u001b[0m\u001b[0mtraining_context\u001b[0m\u001b[1;33m,\u001b[0m\u001b[1;33m\u001b[0m\u001b[1;33m\u001b[0m\u001b[0m\n\u001b[1;32m--> 342\u001b[1;33m                 total_epochs=epochs)\n\u001b[0m\u001b[0;32m    343\u001b[0m             \u001b[0mcbks\u001b[0m\u001b[1;33m.\u001b[0m\u001b[0mmake_logs\u001b[0m\u001b[1;33m(\u001b[0m\u001b[0mmodel\u001b[0m\u001b[1;33m,\u001b[0m \u001b[0mepoch_logs\u001b[0m\u001b[1;33m,\u001b[0m \u001b[0mtraining_result\u001b[0m\u001b[1;33m,\u001b[0m \u001b[0mModeKeys\u001b[0m\u001b[1;33m.\u001b[0m\u001b[0mTRAIN\u001b[0m\u001b[1;33m)\u001b[0m\u001b[1;33m\u001b[0m\u001b[1;33m\u001b[0m\u001b[0m\n",
      "\u001b[1;32m~\\AppData\\Local\\Continuum\\anaconda3\\envs\\tf2-gpu\\lib\\site-packages\\tensorflow_core\\python\\keras\\engine\\training_v2.py\u001b[0m in \u001b[0;36mrun_one_epoch\u001b[1;34m(model, iterator, execution_function, dataset_size, batch_size, strategy, steps_per_epoch, num_samples, mode, training_context, total_epochs)\u001b[0m\n\u001b[0;32m    127\u001b[0m       \u001b[1;32mtry\u001b[0m\u001b[1;33m:\u001b[0m\u001b[1;33m\u001b[0m\u001b[1;33m\u001b[0m\u001b[0m\n\u001b[1;32m--> 128\u001b[1;33m         \u001b[0mbatch_outs\u001b[0m \u001b[1;33m=\u001b[0m \u001b[0mexecution_function\u001b[0m\u001b[1;33m(\u001b[0m\u001b[0miterator\u001b[0m\u001b[1;33m)\u001b[0m\u001b[1;33m\u001b[0m\u001b[1;33m\u001b[0m\u001b[0m\n\u001b[0m\u001b[0;32m    129\u001b[0m       \u001b[1;32mexcept\u001b[0m \u001b[1;33m(\u001b[0m\u001b[0mStopIteration\u001b[0m\u001b[1;33m,\u001b[0m \u001b[0merrors\u001b[0m\u001b[1;33m.\u001b[0m\u001b[0mOutOfRangeError\u001b[0m\u001b[1;33m)\u001b[0m\u001b[1;33m:\u001b[0m\u001b[1;33m\u001b[0m\u001b[1;33m\u001b[0m\u001b[0m\n",
      "\u001b[1;32m~\\AppData\\Local\\Continuum\\anaconda3\\envs\\tf2-gpu\\lib\\site-packages\\tensorflow_core\\python\\keras\\engine\\training_v2_utils.py\u001b[0m in \u001b[0;36mexecution_function\u001b[1;34m(input_fn)\u001b[0m\n\u001b[0;32m     97\u001b[0m     return nest.map_structure(_non_none_constant_value,\n\u001b[1;32m---> 98\u001b[1;33m                               distributed_function(input_fn))\n\u001b[0m\u001b[0;32m     99\u001b[0m \u001b[1;33m\u001b[0m\u001b[0m\n",
      "\u001b[1;32m~\\AppData\\Local\\Continuum\\anaconda3\\envs\\tf2-gpu\\lib\\site-packages\\tensorflow_core\\python\\eager\\def_function.py\u001b[0m in \u001b[0;36m__call__\u001b[1;34m(self, *args, **kwds)\u001b[0m\n\u001b[0;32m    567\u001b[0m     \u001b[1;32melse\u001b[0m\u001b[1;33m:\u001b[0m\u001b[1;33m\u001b[0m\u001b[1;33m\u001b[0m\u001b[0m\n\u001b[1;32m--> 568\u001b[1;33m       \u001b[0mresult\u001b[0m \u001b[1;33m=\u001b[0m \u001b[0mself\u001b[0m\u001b[1;33m.\u001b[0m\u001b[0m_call\u001b[0m\u001b[1;33m(\u001b[0m\u001b[1;33m*\u001b[0m\u001b[0margs\u001b[0m\u001b[1;33m,\u001b[0m \u001b[1;33m**\u001b[0m\u001b[0mkwds\u001b[0m\u001b[1;33m)\u001b[0m\u001b[1;33m\u001b[0m\u001b[1;33m\u001b[0m\u001b[0m\n\u001b[0m\u001b[0;32m    569\u001b[0m \u001b[1;33m\u001b[0m\u001b[0m\n",
      "\u001b[1;32m~\\AppData\\Local\\Continuum\\anaconda3\\envs\\tf2-gpu\\lib\\site-packages\\tensorflow_core\\python\\eager\\def_function.py\u001b[0m in \u001b[0;36m_call\u001b[1;34m(self, *args, **kwds)\u001b[0m\n\u001b[0;32m    598\u001b[0m       \u001b[1;31m# defunned version which is guaranteed to never create variables.\u001b[0m\u001b[1;33m\u001b[0m\u001b[1;33m\u001b[0m\u001b[1;33m\u001b[0m\u001b[0m\n\u001b[1;32m--> 599\u001b[1;33m       \u001b[1;32mreturn\u001b[0m \u001b[0mself\u001b[0m\u001b[1;33m.\u001b[0m\u001b[0m_stateless_fn\u001b[0m\u001b[1;33m(\u001b[0m\u001b[1;33m*\u001b[0m\u001b[0margs\u001b[0m\u001b[1;33m,\u001b[0m \u001b[1;33m**\u001b[0m\u001b[0mkwds\u001b[0m\u001b[1;33m)\u001b[0m  \u001b[1;31m# pylint: disable=not-callable\u001b[0m\u001b[1;33m\u001b[0m\u001b[1;33m\u001b[0m\u001b[0m\n\u001b[0m\u001b[0;32m    600\u001b[0m     \u001b[1;32melif\u001b[0m \u001b[0mself\u001b[0m\u001b[1;33m.\u001b[0m\u001b[0m_stateful_fn\u001b[0m \u001b[1;32mis\u001b[0m \u001b[1;32mnot\u001b[0m \u001b[1;32mNone\u001b[0m\u001b[1;33m:\u001b[0m\u001b[1;33m\u001b[0m\u001b[1;33m\u001b[0m\u001b[0m\n",
      "\u001b[1;32m~\\AppData\\Local\\Continuum\\anaconda3\\envs\\tf2-gpu\\lib\\site-packages\\tensorflow_core\\python\\eager\\function.py\u001b[0m in \u001b[0;36m__call__\u001b[1;34m(self, *args, **kwargs)\u001b[0m\n\u001b[0;32m   2362\u001b[0m       \u001b[0mgraph_function\u001b[0m\u001b[1;33m,\u001b[0m \u001b[0margs\u001b[0m\u001b[1;33m,\u001b[0m \u001b[0mkwargs\u001b[0m \u001b[1;33m=\u001b[0m \u001b[0mself\u001b[0m\u001b[1;33m.\u001b[0m\u001b[0m_maybe_define_function\u001b[0m\u001b[1;33m(\u001b[0m\u001b[0margs\u001b[0m\u001b[1;33m,\u001b[0m \u001b[0mkwargs\u001b[0m\u001b[1;33m)\u001b[0m\u001b[1;33m\u001b[0m\u001b[1;33m\u001b[0m\u001b[0m\n\u001b[1;32m-> 2363\u001b[1;33m     \u001b[1;32mreturn\u001b[0m \u001b[0mgraph_function\u001b[0m\u001b[1;33m.\u001b[0m\u001b[0m_filtered_call\u001b[0m\u001b[1;33m(\u001b[0m\u001b[0margs\u001b[0m\u001b[1;33m,\u001b[0m \u001b[0mkwargs\u001b[0m\u001b[1;33m)\u001b[0m  \u001b[1;31m# pylint: disable=protected-access\u001b[0m\u001b[1;33m\u001b[0m\u001b[1;33m\u001b[0m\u001b[0m\n\u001b[0m\u001b[0;32m   2364\u001b[0m \u001b[1;33m\u001b[0m\u001b[0m\n",
      "\u001b[1;32m~\\AppData\\Local\\Continuum\\anaconda3\\envs\\tf2-gpu\\lib\\site-packages\\tensorflow_core\\python\\eager\\function.py\u001b[0m in \u001b[0;36m_filtered_call\u001b[1;34m(self, args, kwargs)\u001b[0m\n\u001b[0;32m   1610\u001b[0m                            resource_variable_ops.BaseResourceVariable))),\n\u001b[1;32m-> 1611\u001b[1;33m         self.captured_inputs)\n\u001b[0m\u001b[0;32m   1612\u001b[0m \u001b[1;33m\u001b[0m\u001b[0m\n",
      "\u001b[1;32m~\\AppData\\Local\\Continuum\\anaconda3\\envs\\tf2-gpu\\lib\\site-packages\\tensorflow_core\\python\\eager\\function.py\u001b[0m in \u001b[0;36m_call_flat\u001b[1;34m(self, args, captured_inputs, cancellation_manager)\u001b[0m\n\u001b[0;32m   1691\u001b[0m       return self._build_call_outputs(self._inference_function.call(\n\u001b[1;32m-> 1692\u001b[1;33m           ctx, args, cancellation_manager=cancellation_manager))\n\u001b[0m\u001b[0;32m   1693\u001b[0m     forward_backward = self._select_forward_and_backward_functions(\n",
      "\u001b[1;32m~\\AppData\\Local\\Continuum\\anaconda3\\envs\\tf2-gpu\\lib\\site-packages\\tensorflow_core\\python\\eager\\function.py\u001b[0m in \u001b[0;36mcall\u001b[1;34m(self, ctx, args, cancellation_manager)\u001b[0m\n\u001b[0;32m    544\u001b[0m               \u001b[0mattrs\u001b[0m\u001b[1;33m=\u001b[0m\u001b[1;33m(\u001b[0m\u001b[1;34m\"executor_type\"\u001b[0m\u001b[1;33m,\u001b[0m \u001b[0mexecutor_type\u001b[0m\u001b[1;33m,\u001b[0m \u001b[1;34m\"config_proto\"\u001b[0m\u001b[1;33m,\u001b[0m \u001b[0mconfig\u001b[0m\u001b[1;33m)\u001b[0m\u001b[1;33m,\u001b[0m\u001b[1;33m\u001b[0m\u001b[1;33m\u001b[0m\u001b[0m\n\u001b[1;32m--> 545\u001b[1;33m               ctx=ctx)\n\u001b[0m\u001b[0;32m    546\u001b[0m         \u001b[1;32melse\u001b[0m\u001b[1;33m:\u001b[0m\u001b[1;33m\u001b[0m\u001b[1;33m\u001b[0m\u001b[0m\n",
      "\u001b[1;32m~\\AppData\\Local\\Continuum\\anaconda3\\envs\\tf2-gpu\\lib\\site-packages\\tensorflow_core\\python\\eager\\execute.py\u001b[0m in \u001b[0;36mquick_execute\u001b[1;34m(op_name, num_outputs, inputs, attrs, ctx, name)\u001b[0m\n\u001b[0;32m     66\u001b[0m       \u001b[0mmessage\u001b[0m \u001b[1;33m=\u001b[0m \u001b[0me\u001b[0m\u001b[1;33m.\u001b[0m\u001b[0mmessage\u001b[0m\u001b[1;33m\u001b[0m\u001b[1;33m\u001b[0m\u001b[0m\n\u001b[1;32m---> 67\u001b[1;33m     \u001b[0msix\u001b[0m\u001b[1;33m.\u001b[0m\u001b[0mraise_from\u001b[0m\u001b[1;33m(\u001b[0m\u001b[0mcore\u001b[0m\u001b[1;33m.\u001b[0m\u001b[0m_status_to_exception\u001b[0m\u001b[1;33m(\u001b[0m\u001b[0me\u001b[0m\u001b[1;33m.\u001b[0m\u001b[0mcode\u001b[0m\u001b[1;33m,\u001b[0m \u001b[0mmessage\u001b[0m\u001b[1;33m)\u001b[0m\u001b[1;33m,\u001b[0m \u001b[1;32mNone\u001b[0m\u001b[1;33m)\u001b[0m\u001b[1;33m\u001b[0m\u001b[1;33m\u001b[0m\u001b[0m\n\u001b[0m\u001b[0;32m     68\u001b[0m   \u001b[1;32mexcept\u001b[0m \u001b[0mTypeError\u001b[0m \u001b[1;32mas\u001b[0m \u001b[0me\u001b[0m\u001b[1;33m:\u001b[0m\u001b[1;33m\u001b[0m\u001b[1;33m\u001b[0m\u001b[0m\n",
      "\u001b[1;32m~\\AppData\\Local\\Continuum\\anaconda3\\envs\\tf2-gpu\\lib\\site-packages\\six.py\u001b[0m in \u001b[0;36mraise_from\u001b[1;34m(value, from_value)\u001b[0m\n",
      "\u001b[1;31mResourceExhaustedError\u001b[0m: 2 root error(s) found.\n  (0) Resource exhausted:  MemoryError: Unable to allocate 1.12 MiB for an array with shape (384, 384, 2) and data type float32\nTraceback (most recent call last):\n\n  File \"C:\\Users\\zilkerjn\\AppData\\Local\\Continuum\\anaconda3\\envs\\tf2-gpu\\lib\\site-packages\\tensorflow_core\\python\\ops\\script_ops.py\", line 236, in __call__\n    ret = func(*args)\n\n  File \"C:\\Users\\zilkerjn\\AppData\\Local\\Continuum\\anaconda3\\envs\\tf2-gpu\\lib\\site-packages\\tensorflow_core\\python\\data\\ops\\dataset_ops.py\", line 789, in generator_py_func\n    values = next(generator_state.get_iterator(iterator_id))\n\n  File \"C:\\Users\\zilkerjn\\AppData\\Local\\Continuum\\anaconda3\\envs\\tf2-gpu\\lib\\site-packages\\tensorflow_core\\python\\keras\\utils\\data_utils.py\", line 881, in get\n    six.reraise(*sys.exc_info())\n\n  File \"C:\\Users\\zilkerjn\\AppData\\Local\\Continuum\\anaconda3\\envs\\tf2-gpu\\lib\\site-packages\\six.py\", line 703, in reraise\n    raise value\n\n  File \"C:\\Users\\zilkerjn\\AppData\\Local\\Continuum\\anaconda3\\envs\\tf2-gpu\\lib\\site-packages\\tensorflow_core\\python\\keras\\utils\\data_utils.py\", line 875, in get\n    inputs = self.queue.get(block=True).get()\n\n  File \"C:\\Users\\zilkerjn\\AppData\\Local\\Continuum\\anaconda3\\envs\\tf2-gpu\\lib\\multiprocessing\\pool.py\", line 657, in get\n    raise self._value\n\n  File \"C:\\Users\\zilkerjn\\AppData\\Local\\Continuum\\anaconda3\\envs\\tf2-gpu\\lib\\multiprocessing\\pool.py\", line 121, in worker\n    result = (True, func(*args, **kwds))\n\n  File \"C:\\Users\\zilkerjn\\AppData\\Local\\Continuum\\anaconda3\\envs\\tf2-gpu\\lib\\site-packages\\tensorflow_core\\python\\keras\\utils\\data_utils.py\", line 663, in get_index\n    return _SHARED_SEQUENCES[uid][i]\n\n  File \"D:\\Julian\\workspace\\endolas\\lastengen.py\", line 100, in __getitem__\n    X, y = self._get_batch(batch_image_ids)\n\n  File \"D:\\Julian\\workspace\\endolas\\lastengen.py\", line 121, in _get_batch\n    X[batch_index] = np.concatenate((image, fixed), axis=2) if self._channel == \"moving+fixed\" else image\n\n  File \"<__array_function__ internals>\", line 6, in concatenate\n\nMemoryError: Unable to allocate 1.12 MiB for an array with shape (384, 384, 2) and data type float32\n\n\n\t [[{{node PyFunc}}]]\nHint: If you want to see a list of allocated tensors when OOM happens, add report_tensor_allocations_upon_oom to RunOptions for current allocation info.\n\n\t [[IteratorGetNext]]\nHint: If you want to see a list of allocated tensors when OOM happens, add report_tensor_allocations_upon_oom to RunOptions for current allocation info.\n\n\t [[IteratorGetNext/_2]]\nHint: If you want to see a list of allocated tensors when OOM happens, add report_tensor_allocations_upon_oom to RunOptions for current allocation info.\n\n  (1) Resource exhausted:  MemoryError: Unable to allocate 1.12 MiB for an array with shape (384, 384, 2) and data type float32\nTraceback (most recent call last):\n\n  File \"C:\\Users\\zilkerjn\\AppData\\Local\\Continuum\\anaconda3\\envs\\tf2-gpu\\lib\\site-packages\\tensorflow_core\\python\\ops\\script_ops.py\", line 236, in __call__\n    ret = func(*args)\n\n  File \"C:\\Users\\zilkerjn\\AppData\\Local\\Continuum\\anaconda3\\envs\\tf2-gpu\\lib\\site-packages\\tensorflow_core\\python\\data\\ops\\dataset_ops.py\", line 789, in generator_py_func\n    values = next(generator_state.get_iterator(iterator_id))\n\n  File \"C:\\Users\\zilkerjn\\AppData\\Local\\Continuum\\anaconda3\\envs\\tf2-gpu\\lib\\site-packages\\tensorflow_core\\python\\keras\\utils\\data_utils.py\", line 881, in get\n    six.reraise(*sys.exc_info())\n\n  File \"C:\\Users\\zilkerjn\\AppData\\Local\\Continuum\\anaconda3\\envs\\tf2-gpu\\lib\\site-packages\\six.py\", line 703, in reraise\n    raise value\n\n  File \"C:\\Users\\zilkerjn\\AppData\\Local\\Continuum\\anaconda3\\envs\\tf2-gpu\\lib\\site-packages\\tensorflow_core\\python\\keras\\utils\\data_utils.py\", line 875, in get\n    inputs = self.queue.get(block=True).get()\n\n  File \"C:\\Users\\zilkerjn\\AppData\\Local\\Continuum\\anaconda3\\envs\\tf2-gpu\\lib\\multiprocessing\\pool.py\", line 657, in get\n    raise self._value\n\n  File \"C:\\Users\\zilkerjn\\AppData\\Local\\Continuum\\anaconda3\\envs\\tf2-gpu\\lib\\multiprocessing\\pool.py\", line 121, in worker\n    result = (True, func(*args, **kwds))\n\n  File \"C:\\Users\\zilkerjn\\AppData\\Local\\Continuum\\anaconda3\\envs\\tf2-gpu\\lib\\site-packages\\tensorflow_core\\python\\keras\\utils\\data_utils.py\", line 663, in get_index\n    return _SHARED_SEQUENCES[uid][i]\n\n  File \"D:\\Julian\\workspace\\endolas\\lastengen.py\", line 100, in __getitem__\n    X, y = self._get_batch(batch_image_ids)\n\n  File \"D:\\Julian\\workspace\\endolas\\lastengen.py\", line 121, in _get_batch\n    X[batch_index] = np.concatenate((image, fixed), axis=2) if self._channel == \"moving+fixed\" else image\n\n  File \"<__array_function__ internals>\", line 6, in concatenate\n\nMemoryError: Unable to allocate 1.12 MiB for an array with shape (384, 384, 2) and data type float32\n\n\n\t [[{{node PyFunc}}]]\nHint: If you want to see a list of allocated tensors when OOM happens, add report_tensor_allocations_upon_oom to RunOptions for current allocation info.\n\n\t [[IteratorGetNext]]\nHint: If you want to see a list of allocated tensors when OOM happens, add report_tensor_allocations_upon_oom to RunOptions for current allocation info.\n\n0 successful operations.\n0 derived errors ignored. [Op:__inference_distributed_function_367203]\n\nFunction call stack:\ndistributed_function -> distributed_function\n",
      "\nDuring handling of the above exception, another exception occurred:\n",
      "\u001b[1;31mKeyError\u001b[0m                                  Traceback (most recent call last)",
      "\u001b[1;32m<ipython-input-23-1fd8c1cd6563>\u001b[0m in \u001b[0;36m<module>\u001b[1;34m\u001b[0m\n\u001b[0;32m      6\u001b[0m           \u001b[1;31m#use_multiprocessing=True,\u001b[0m\u001b[1;33m\u001b[0m\u001b[1;33m\u001b[0m\u001b[1;33m\u001b[0m\u001b[0m\n\u001b[0;32m      7\u001b[0m           \u001b[0mworkers\u001b[0m\u001b[1;33m=\u001b[0m\u001b[1;36m10\u001b[0m\u001b[1;33m,\u001b[0m\u001b[1;33m\u001b[0m\u001b[1;33m\u001b[0m\u001b[0m\n\u001b[1;32m----> 8\u001b[1;33m           max_queue_size=32)\n\u001b[0m",
      "\u001b[1;32m~\\AppData\\Local\\Continuum\\anaconda3\\envs\\tf2-gpu\\lib\\site-packages\\tensorflow_core\\python\\keras\\engine\\training.py\u001b[0m in \u001b[0;36mfit\u001b[1;34m(self, x, y, batch_size, epochs, verbose, callbacks, validation_split, validation_data, shuffle, class_weight, sample_weight, initial_epoch, steps_per_epoch, validation_steps, validation_freq, max_queue_size, workers, use_multiprocessing, **kwargs)\u001b[0m\n\u001b[0;32m    817\u001b[0m         \u001b[0mmax_queue_size\u001b[0m\u001b[1;33m=\u001b[0m\u001b[0mmax_queue_size\u001b[0m\u001b[1;33m,\u001b[0m\u001b[1;33m\u001b[0m\u001b[1;33m\u001b[0m\u001b[0m\n\u001b[0;32m    818\u001b[0m         \u001b[0mworkers\u001b[0m\u001b[1;33m=\u001b[0m\u001b[0mworkers\u001b[0m\u001b[1;33m,\u001b[0m\u001b[1;33m\u001b[0m\u001b[1;33m\u001b[0m\u001b[0m\n\u001b[1;32m--> 819\u001b[1;33m         use_multiprocessing=use_multiprocessing)\n\u001b[0m\u001b[0;32m    820\u001b[0m \u001b[1;33m\u001b[0m\u001b[0m\n\u001b[0;32m    821\u001b[0m   def evaluate(self,\n",
      "\u001b[1;32m~\\AppData\\Local\\Continuum\\anaconda3\\envs\\tf2-gpu\\lib\\site-packages\\tensorflow_core\\python\\keras\\engine\\training_v2.py\u001b[0m in \u001b[0;36mfit\u001b[1;34m(self, model, x, y, batch_size, epochs, verbose, callbacks, validation_split, validation_data, shuffle, class_weight, sample_weight, initial_epoch, steps_per_epoch, validation_steps, validation_freq, max_queue_size, workers, use_multiprocessing, **kwargs)\u001b[0m\n\u001b[0;32m    395\u001b[0m                       total_epochs=1)\n\u001b[0;32m    396\u001b[0m                   cbks.make_logs(model, epoch_logs, eval_result, ModeKeys.TEST,\n\u001b[1;32m--> 397\u001b[1;33m                                  prefix='val_')\n\u001b[0m\u001b[0;32m    398\u001b[0m \u001b[1;33m\u001b[0m\u001b[0m\n\u001b[0;32m    399\u001b[0m     \u001b[1;32mreturn\u001b[0m \u001b[0mmodel\u001b[0m\u001b[1;33m.\u001b[0m\u001b[0mhistory\u001b[0m\u001b[1;33m\u001b[0m\u001b[1;33m\u001b[0m\u001b[0m\n",
      "\u001b[1;32m~\\AppData\\Local\\Continuum\\anaconda3\\envs\\tf2-gpu\\lib\\contextlib.py\u001b[0m in \u001b[0;36m__exit__\u001b[1;34m(self, type, value, traceback)\u001b[0m\n\u001b[0;32m    128\u001b[0m                 \u001b[0mvalue\u001b[0m \u001b[1;33m=\u001b[0m \u001b[0mtype\u001b[0m\u001b[1;33m(\u001b[0m\u001b[1;33m)\u001b[0m\u001b[1;33m\u001b[0m\u001b[1;33m\u001b[0m\u001b[0m\n\u001b[0;32m    129\u001b[0m             \u001b[1;32mtry\u001b[0m\u001b[1;33m:\u001b[0m\u001b[1;33m\u001b[0m\u001b[1;33m\u001b[0m\u001b[0m\n\u001b[1;32m--> 130\u001b[1;33m                 \u001b[0mself\u001b[0m\u001b[1;33m.\u001b[0m\u001b[0mgen\u001b[0m\u001b[1;33m.\u001b[0m\u001b[0mthrow\u001b[0m\u001b[1;33m(\u001b[0m\u001b[0mtype\u001b[0m\u001b[1;33m,\u001b[0m \u001b[0mvalue\u001b[0m\u001b[1;33m,\u001b[0m \u001b[0mtraceback\u001b[0m\u001b[1;33m)\u001b[0m\u001b[1;33m\u001b[0m\u001b[1;33m\u001b[0m\u001b[0m\n\u001b[0m\u001b[0;32m    131\u001b[0m             \u001b[1;32mexcept\u001b[0m \u001b[0mStopIteration\u001b[0m \u001b[1;32mas\u001b[0m \u001b[0mexc\u001b[0m\u001b[1;33m:\u001b[0m\u001b[1;33m\u001b[0m\u001b[1;33m\u001b[0m\u001b[0m\n\u001b[0;32m    132\u001b[0m                 \u001b[1;31m# Suppress StopIteration *unless* it's the same exception that\u001b[0m\u001b[1;33m\u001b[0m\u001b[1;33m\u001b[0m\u001b[1;33m\u001b[0m\u001b[0m\n",
      "\u001b[1;32m~\\AppData\\Local\\Continuum\\anaconda3\\envs\\tf2-gpu\\lib\\site-packages\\tensorflow_core\\python\\keras\\engine\\training_v2.py\u001b[0m in \u001b[0;36mon_epoch\u001b[1;34m(self, epoch, mode)\u001b[0m\n\u001b[0;32m    769\u001b[0m       \u001b[1;32mif\u001b[0m \u001b[0mmode\u001b[0m \u001b[1;33m==\u001b[0m \u001b[0mModeKeys\u001b[0m\u001b[1;33m.\u001b[0m\u001b[0mTRAIN\u001b[0m\u001b[1;33m:\u001b[0m\u001b[1;33m\u001b[0m\u001b[1;33m\u001b[0m\u001b[0m\n\u001b[0;32m    770\u001b[0m         \u001b[1;31m# Epochs only apply to `fit`.\u001b[0m\u001b[1;33m\u001b[0m\u001b[1;33m\u001b[0m\u001b[1;33m\u001b[0m\u001b[0m\n\u001b[1;32m--> 771\u001b[1;33m         \u001b[0mself\u001b[0m\u001b[1;33m.\u001b[0m\u001b[0mcallbacks\u001b[0m\u001b[1;33m.\u001b[0m\u001b[0mon_epoch_end\u001b[0m\u001b[1;33m(\u001b[0m\u001b[0mepoch\u001b[0m\u001b[1;33m,\u001b[0m \u001b[0mepoch_logs\u001b[0m\u001b[1;33m)\u001b[0m\u001b[1;33m\u001b[0m\u001b[1;33m\u001b[0m\u001b[0m\n\u001b[0m\u001b[0;32m    772\u001b[0m       \u001b[0mself\u001b[0m\u001b[1;33m.\u001b[0m\u001b[0mprogbar\u001b[0m\u001b[1;33m.\u001b[0m\u001b[0mon_epoch_end\u001b[0m\u001b[1;33m(\u001b[0m\u001b[0mepoch\u001b[0m\u001b[1;33m,\u001b[0m \u001b[0mepoch_logs\u001b[0m\u001b[1;33m)\u001b[0m\u001b[1;33m\u001b[0m\u001b[1;33m\u001b[0m\u001b[0m\n\u001b[0;32m    773\u001b[0m \u001b[1;33m\u001b[0m\u001b[0m\n",
      "\u001b[1;32m~\\AppData\\Local\\Continuum\\anaconda3\\envs\\tf2-gpu\\lib\\site-packages\\tensorflow_core\\python\\keras\\callbacks.py\u001b[0m in \u001b[0;36mon_epoch_end\u001b[1;34m(self, epoch, logs)\u001b[0m\n\u001b[0;32m    300\u001b[0m     \u001b[0mlogs\u001b[0m \u001b[1;33m=\u001b[0m \u001b[0mlogs\u001b[0m \u001b[1;32mor\u001b[0m \u001b[1;33m{\u001b[0m\u001b[1;33m}\u001b[0m\u001b[1;33m\u001b[0m\u001b[1;33m\u001b[0m\u001b[0m\n\u001b[0;32m    301\u001b[0m     \u001b[1;32mfor\u001b[0m \u001b[0mcallback\u001b[0m \u001b[1;32min\u001b[0m \u001b[0mself\u001b[0m\u001b[1;33m.\u001b[0m\u001b[0mcallbacks\u001b[0m\u001b[1;33m:\u001b[0m\u001b[1;33m\u001b[0m\u001b[1;33m\u001b[0m\u001b[0m\n\u001b[1;32m--> 302\u001b[1;33m       \u001b[0mcallback\u001b[0m\u001b[1;33m.\u001b[0m\u001b[0mon_epoch_end\u001b[0m\u001b[1;33m(\u001b[0m\u001b[0mepoch\u001b[0m\u001b[1;33m,\u001b[0m \u001b[0mlogs\u001b[0m\u001b[1;33m)\u001b[0m\u001b[1;33m\u001b[0m\u001b[1;33m\u001b[0m\u001b[0m\n\u001b[0m\u001b[0;32m    303\u001b[0m \u001b[1;33m\u001b[0m\u001b[0m\n\u001b[0;32m    304\u001b[0m   \u001b[1;32mdef\u001b[0m \u001b[0mon_train_batch_begin\u001b[0m\u001b[1;33m(\u001b[0m\u001b[0mself\u001b[0m\u001b[1;33m,\u001b[0m \u001b[0mbatch\u001b[0m\u001b[1;33m,\u001b[0m \u001b[0mlogs\u001b[0m\u001b[1;33m=\u001b[0m\u001b[1;32mNone\u001b[0m\u001b[1;33m)\u001b[0m\u001b[1;33m:\u001b[0m\u001b[1;33m\u001b[0m\u001b[1;33m\u001b[0m\u001b[0m\n",
      "\u001b[1;32m~\\AppData\\Local\\Continuum\\anaconda3\\envs\\tf2-gpu\\lib\\site-packages\\tensorflow_core\\python\\keras\\callbacks.py\u001b[0m in \u001b[0;36mon_epoch_end\u001b[1;34m(self, epoch, logs)\u001b[0m\n\u001b[0;32m   2044\u001b[0m \u001b[1;33m\u001b[0m\u001b[0m\n\u001b[0;32m   2045\u001b[0m     \u001b[0mrow_dict\u001b[0m \u001b[1;33m=\u001b[0m \u001b[0mcollections\u001b[0m\u001b[1;33m.\u001b[0m\u001b[0mOrderedDict\u001b[0m\u001b[1;33m(\u001b[0m\u001b[1;33m{\u001b[0m\u001b[1;34m'epoch'\u001b[0m\u001b[1;33m:\u001b[0m \u001b[0mepoch\u001b[0m\u001b[1;33m}\u001b[0m\u001b[1;33m)\u001b[0m\u001b[1;33m\u001b[0m\u001b[1;33m\u001b[0m\u001b[0m\n\u001b[1;32m-> 2046\u001b[1;33m     \u001b[0mrow_dict\u001b[0m\u001b[1;33m.\u001b[0m\u001b[0mupdate\u001b[0m\u001b[1;33m(\u001b[0m\u001b[1;33m(\u001b[0m\u001b[0mkey\u001b[0m\u001b[1;33m,\u001b[0m \u001b[0mhandle_value\u001b[0m\u001b[1;33m(\u001b[0m\u001b[0mlogs\u001b[0m\u001b[1;33m[\u001b[0m\u001b[0mkey\u001b[0m\u001b[1;33m]\u001b[0m\u001b[1;33m)\u001b[0m\u001b[1;33m)\u001b[0m \u001b[1;32mfor\u001b[0m \u001b[0mkey\u001b[0m \u001b[1;32min\u001b[0m \u001b[0mself\u001b[0m\u001b[1;33m.\u001b[0m\u001b[0mkeys\u001b[0m\u001b[1;33m)\u001b[0m\u001b[1;33m\u001b[0m\u001b[1;33m\u001b[0m\u001b[0m\n\u001b[0m\u001b[0;32m   2047\u001b[0m     \u001b[0mself\u001b[0m\u001b[1;33m.\u001b[0m\u001b[0mwriter\u001b[0m\u001b[1;33m.\u001b[0m\u001b[0mwriterow\u001b[0m\u001b[1;33m(\u001b[0m\u001b[0mrow_dict\u001b[0m\u001b[1;33m)\u001b[0m\u001b[1;33m\u001b[0m\u001b[1;33m\u001b[0m\u001b[0m\n\u001b[0;32m   2048\u001b[0m     \u001b[0mself\u001b[0m\u001b[1;33m.\u001b[0m\u001b[0mcsv_file\u001b[0m\u001b[1;33m.\u001b[0m\u001b[0mflush\u001b[0m\u001b[1;33m(\u001b[0m\u001b[1;33m)\u001b[0m\u001b[1;33m\u001b[0m\u001b[1;33m\u001b[0m\u001b[0m\n",
      "\u001b[1;32m~\\AppData\\Local\\Continuum\\anaconda3\\envs\\tf2-gpu\\lib\\site-packages\\tensorflow_core\\python\\keras\\callbacks.py\u001b[0m in \u001b[0;36m<genexpr>\u001b[1;34m(.0)\u001b[0m\n\u001b[0;32m   2044\u001b[0m \u001b[1;33m\u001b[0m\u001b[0m\n\u001b[0;32m   2045\u001b[0m     \u001b[0mrow_dict\u001b[0m \u001b[1;33m=\u001b[0m \u001b[0mcollections\u001b[0m\u001b[1;33m.\u001b[0m\u001b[0mOrderedDict\u001b[0m\u001b[1;33m(\u001b[0m\u001b[1;33m{\u001b[0m\u001b[1;34m'epoch'\u001b[0m\u001b[1;33m:\u001b[0m \u001b[0mepoch\u001b[0m\u001b[1;33m}\u001b[0m\u001b[1;33m)\u001b[0m\u001b[1;33m\u001b[0m\u001b[1;33m\u001b[0m\u001b[0m\n\u001b[1;32m-> 2046\u001b[1;33m     \u001b[0mrow_dict\u001b[0m\u001b[1;33m.\u001b[0m\u001b[0mupdate\u001b[0m\u001b[1;33m(\u001b[0m\u001b[1;33m(\u001b[0m\u001b[0mkey\u001b[0m\u001b[1;33m,\u001b[0m \u001b[0mhandle_value\u001b[0m\u001b[1;33m(\u001b[0m\u001b[0mlogs\u001b[0m\u001b[1;33m[\u001b[0m\u001b[0mkey\u001b[0m\u001b[1;33m]\u001b[0m\u001b[1;33m)\u001b[0m\u001b[1;33m)\u001b[0m \u001b[1;32mfor\u001b[0m \u001b[0mkey\u001b[0m \u001b[1;32min\u001b[0m \u001b[0mself\u001b[0m\u001b[1;33m.\u001b[0m\u001b[0mkeys\u001b[0m\u001b[1;33m)\u001b[0m\u001b[1;33m\u001b[0m\u001b[1;33m\u001b[0m\u001b[0m\n\u001b[0m\u001b[0;32m   2047\u001b[0m     \u001b[0mself\u001b[0m\u001b[1;33m.\u001b[0m\u001b[0mwriter\u001b[0m\u001b[1;33m.\u001b[0m\u001b[0mwriterow\u001b[0m\u001b[1;33m(\u001b[0m\u001b[0mrow_dict\u001b[0m\u001b[1;33m)\u001b[0m\u001b[1;33m\u001b[0m\u001b[1;33m\u001b[0m\u001b[0m\n\u001b[0;32m   2048\u001b[0m     \u001b[0mself\u001b[0m\u001b[1;33m.\u001b[0m\u001b[0mcsv_file\u001b[0m\u001b[1;33m.\u001b[0m\u001b[0mflush\u001b[0m\u001b[1;33m(\u001b[0m\u001b[1;33m)\u001b[0m\u001b[1;33m\u001b[0m\u001b[1;33m\u001b[0m\u001b[0m\n",
      "\u001b[1;31mKeyError\u001b[0m: 'val_loss'"
     ]
    }
   ],
   "source": [
    "model.fit(train_gen,\n",
    "          epochs=100,\n",
    "          initial_epoch=50,\n",
    "          callbacks=callbacks,\n",
    "          validation_data=val_gen,\n",
    "          validation_freq=1,\n",
    "          #use_multiprocessing=True,\n",
    "          workers=10,\n",
    "          max_queue_size=32)"
   ]
  },
  {
   "cell_type": "markdown",
   "metadata": {},
   "source": [
    "# Evaluation\n",
    "Evaluate the trained network"
   ]
  },
  {
   "cell_type": "code",
   "execution_count": 24,
   "metadata": {
    "scrolled": true
   },
   "outputs": [
    {
     "data": {
      "image/png": "[encoded data removed]",
      "text/plain": [
       "<Figure size 432x288 with 1 Axes>"
      ]
     },
     "metadata": {
      "needs_background": "light"
     },
     "output_type": "display_data"
    }
   ],
   "source": [
    "X, y = val_gen[0]\n",
    "\n",
    "y_pred = model.predict(X)\n",
    "\n",
    "u_x = y_pred[0,:,:,0]\n",
    "u_y = y_pred[0,:,:,1]\n",
    "\n",
    "plt.imshow(y_pred[0,:,:,0], cmap=\"gray\")\n",
    "\n",
    "plt.imsave(store_path + \"/u_x.png\", u_x, cmap=\"gray\")\n",
    "plt.imsave(store_path + \"/u_y.png\", u_y, cmap=\"gray\")\n",
    "\n",
    "u_x.dump(store_path + \"/u_x\")\n",
    "u_y.dump(store_path + \"/u_y\")\n",
    "\n",
    "warp = np.zeros((width, height))\n",
    "\n",
    "for index in range(0,grid_width*grid_height):\n",
    "    x_pos = int(y[0, index, 0, 0])\n",
    "    y_pos = int(y[0, index, 1, 0])\n",
    "    \n",
    "    plot_cube(warp, x_pos, y_pos, 1) #blue\n",
    "    \n",
    "    ux_field = y_pred[0,:,:,0]\n",
    "    uy_field = y_pred[0,:,:,1]\n",
    "    \n",
    "    ux = ux_field[y_pos][x_pos]\n",
    "    uy = uy_field[y_pos][x_pos]\n",
    "    \n",
    "    x_pos = int(round(x_pos + ux))\n",
    "    y_pos = int(round(y_pos + uy))\n",
    "            \n",
    "    plot_cube(warp, x_pos, y_pos, 2) #green    \n",
    "    \n",
    "    x_pos = int(y[0, index, 0, 1])\n",
    "    y_pos = int(y[0, index, 1, 1])\n",
    "    \n",
    "    plot_cube(warp, x_pos, y_pos, 3) #yellow    \n",
    "    \n",
    "plt.imshow(warp)\n",
    "plt.imsave(store_path + \"/warp.png\", warp)"
   ]
  },
  {
   "cell_type": "markdown",
   "metadata": {},
   "source": [
    "# 7.5) Supervised Euclidean for LASTENAS BS=4\n",
    "A U-Net is trained here to predict a displacement field and the euclidean distance is taken as error."
   ]
  },
  {
   "cell_type": "markdown",
   "metadata": {
    "pycharm": {
     "name": "#%% md\n"
    }
   },
   "source": [
    "# Data\n",
    "Import training images"
   ]
  },
  {
   "cell_type": "code",
   "execution_count": null,
   "metadata": {
    "pycharm": {
     "name": "#%%\n"
    }
   },
   "outputs": [],
   "source": [
    "store_path = 'experiments/7_5_euclidean'\n",
    "\n",
    "#path_fixed = '/home/julian/Documents/Studium/MT-Masterarbeit/Data/LASTENAS/fix'\n",
    "#path_train = '/home/julian/Documents/Studium/MT-Masterarbeit/Data/LASTENAS/train'\n",
    "#path_validation = '/home/julian/Documents/Studium/MT-Masterarbeit/Data/LASTENAS/validation'\n",
    "#path_validation_2 = '/home/julian/Documents/Studium/MT-Masterarbeit/Data/LASTENAS/validation'\n",
    "#path_test = '/home/julian/Documents/Studium/MT-Masterarbeit/Data/LASTENAS/test'\n",
    "\n",
    "path_fixed = r'D:\\Julian\\data\\LASTENAS\\fix'\n",
    "path_train = r'D:\\Julian\\data\\LASTENAS\\train'\n",
    "path_validation = r'D:\\Julian\\data\\LASTENAS\\validation'\n",
    "path_validation_2 = r'D:\\Julian\\data\\LASTEN\\validation'\n",
    "path_test = r'D:\\Julian\\data\\LASTENAS\\test'\n",
    "\n",
    "width = 384\n",
    "height = 384\n",
    "\n",
    "grid_width = 18\n",
    "grid_height = 18"
   ]
  },
  {
   "cell_type": "markdown",
   "metadata": {
    "pycharm": {
     "name": "#%% md\n"
    }
   },
   "source": [
    "# Seeding\n",
    "Seeds are set to ensure reproducible training."
   ]
  },
  {
   "cell_type": "code",
   "execution_count": null,
   "metadata": {
    "pycharm": {
     "name": "#%%\n"
    }
   },
   "outputs": [],
   "source": [
    "SEED = 42\n",
    "np.random.seed(SEED)\n",
    "tf.random.set_seed(SEED)\n",
    "random.seed(SEED)"
   ]
  },
  {
   "cell_type": "markdown",
   "metadata": {
    "pycharm": {
     "name": "#%% md\n"
    }
   },
   "source": [
    "# Network\n",
    "A U-Net based network is instantiated with keras to run a semantic segmentation."
   ]
  },
  {
   "cell_type": "code",
   "execution_count": null,
   "metadata": {
    "pycharm": {
     "name": "#%%\n"
    }
   },
   "outputs": [],
   "source": [
    "model = UNet(filters=32, layers=4, activation='linear', classes=2, input_shape=(width, height, 2))"
   ]
  },
  {
   "cell_type": "markdown",
   "metadata": {
    "pycharm": {
     "name": "#%% md\n"
    }
   },
   "source": [
    "# Training Preparation\n",
    "Prepare the settings for training the model."
   ]
  },
  {
   "cell_type": "code",
   "execution_count": null,
   "metadata": {
    "scrolled": true
   },
   "outputs": [],
   "source": [
    "batch_size=4\n",
    "\n",
    "train_gen = LASTENSequence(path_train,\n",
    "                           path_fixed,\n",
    "                           batch_size=batch_size,\n",
    "                           width=width,\n",
    "                           height=height,\n",
    "                           grid_width=grid_width, \n",
    "                           grid_height=grid_height,\n",
    "                           preprocess_input=pre_une,\n",
    "                           shuffle=True,\n",
    "                           label=\"keypoints\",\n",
    "                           channel=\"moving+fixed\")\n",
    "\n",
    "val_gen = LASTENSequence(path_validation,\n",
    "                           path_fixed,\n",
    "                           batch_size=batch_size,\n",
    "                           width=width,\n",
    "                           height=height,\n",
    "                           grid_width=grid_width, \n",
    "                           grid_height=grid_height,\n",
    "                           preprocess_input=pre_une,\n",
    "                           shuffle=False,\n",
    "                           label=\"keypoints\",\n",
    "                           channel=\"moving+fixed\")\n",
    "\n",
    "val_gen_2 = LASTENSequence(path_validation_2,\n",
    "                           path_fixed,\n",
    "                           batch_size=batch_size,\n",
    "                           width=width,\n",
    "                           height=height,\n",
    "                           grid_width=grid_width, \n",
    "                           grid_height=grid_height,\n",
    "                           preprocess_input=pre_une,\n",
    "                           shuffle=False,\n",
    "                           label=\"keypoints\",\n",
    "                           channel=\"moving+fixed\")\n",
    "\n",
    "timelogger = ccall.TimeHistory(store_path)\n",
    "vallogger = ccall.ValidationHistory(store_path, val_gen_2)\n",
    "logger = CSVLogger(store_path + \"/log\")\n",
    "checker = ModelCheckpoint(store_path + \"/weights.{epoch:02d}.hdf5\", period=10)\n",
    "checker_best = ModelCheckpoint(store_path + \"/best_weights.{epoch:02d}.hdf5\", save_best_only=True)\n",
    "callbacks = [timelogger, logger, checker, checker_best, vallogger]\n",
    "\n",
    "eu_loss = closs.EuclideanLoss(batch_size=batch_size, grid_width=grid_width, grid_height=grid_height, loss_type='msed')\n",
    "eu_met = closs.EuclideanLoss(batch_size=batch_size, grid_width=grid_width, grid_height=grid_height, loss_type='maed')\n",
    "\n",
    "model.compile(optimizer='adam', loss=eu_loss, metrics=[eu_met])"
   ]
  },
  {
   "cell_type": "markdown",
   "metadata": {},
   "source": [
    "# Training\n",
    "Run the training."
   ]
  },
  {
   "cell_type": "code",
   "execution_count": null,
   "metadata": {
    "pycharm": {
     "name": "#%%\n"
    },
    "scrolled": true
   },
   "outputs": [],
   "source": [
    "model.fit(train_gen,\n",
    "          epochs=100,\n",
    "          callbacks=callbacks,\n",
    "          validation_data=val_gen,\n",
    "          validation_freq=1,\n",
    "          #use_multiprocessing=True,\n",
    "          workers=10,\n",
    "          max_queue_size=32)"
   ]
  },
  {
   "cell_type": "markdown",
   "metadata": {},
   "source": [
    "# Evaluation\n",
    "Evaluate the trained network"
   ]
  },
  {
   "cell_type": "code",
   "execution_count": null,
   "metadata": {
    "scrolled": false
   },
   "outputs": [],
   "source": [
    "X, y = val_gen[0]\n",
    "\n",
    "y_pred = model.predict(X)\n",
    "\n",
    "u_x = y_pred[0,:,:,0]\n",
    "u_y = y_pred[0,:,:,1]\n",
    "\n",
    "plt.imshow(y_pred[0,:,:,0], cmap=\"gray\")\n",
    "\n",
    "plt.imsave(store_path + \"/u_x.png\", u_x, cmap=\"gray\")\n",
    "plt.imsave(store_path + \"/u_y.png\", u_y, cmap=\"gray\")\n",
    "\n",
    "u_x.dump(store_path + \"/u_x\")\n",
    "u_y.dump(store_path + \"/u_y\")\n",
    "\n",
    "warp = np.zeros((width, height))\n",
    "\n",
    "for index in range(0,grid_width*grid_height):\n",
    "    x_pos = int(y[0, index, 0, 0])\n",
    "    y_pos = int(y[0, index, 1, 0])\n",
    "    \n",
    "    plot_cube(warp, x_pos, y_pos, 1) #blue\n",
    "    \n",
    "    ux_field = y_pred[0,:,:,0]\n",
    "    uy_field = y_pred[0,:,:,1]\n",
    "    \n",
    "    ux = ux_field[y_pos][x_pos]\n",
    "    uy = uy_field[y_pos][x_pos]\n",
    "    \n",
    "    x_pos = int(round(x_pos + ux))\n",
    "    y_pos = int(round(y_pos + uy))\n",
    "            \n",
    "    plot_cube(warp, x_pos, y_pos, 2) #green    \n",
    "    \n",
    "    x_pos = int(y[0, index, 0, 1])\n",
    "    y_pos = int(y[0, index, 1, 1])\n",
    "    \n",
    "    plot_cube(warp, x_pos, y_pos, 3) #yellow    \n",
    "    \n",
    "plt.imshow(warp)\n",
    "plt.imsave(store_path + \"/warp.png\", warp)"
   ]
  },
  {
   "cell_type": "markdown",
   "metadata": {},
   "source": [
    "# 7.6) Supervised Euclidean for LASTENS+LASTEN BS=4\n",
    "A U-Net is trained here to predict a displacement field and the euclidean distance is taken as error."
   ]
  },
  {
   "cell_type": "markdown",
   "metadata": {
    "pycharm": {
     "name": "#%% md\n"
    }
   },
   "source": [
    "# Data\n",
    "Import training images"
   ]
  },
  {
   "cell_type": "code",
   "execution_count": null,
   "metadata": {
    "pycharm": {
     "name": "#%%\n"
    }
   },
   "outputs": [],
   "source": [
    "store_path = 'experiments/7_6_euclidean'\n",
    "\n",
    "#path_fixed = '/home/julian/Documents/Studium/MT-Masterarbeit/Data/LASTENS_LASTEN/fix'\n",
    "#path_train = '/home/julian/Documents/Studium/MT-Masterarbeit/Data/LASTENS_LASTEN/train'\n",
    "#path_validation = '/home/julian/Documents/Studium/MT-Masterarbeit/Data/LASTENS_LASTEN/validation'\n",
    "#path_validation_2 = '/home/julian/Documents/Studium/MT-Masterarbeit/Data/LASTENS_LASTEN/validation'\n",
    "#path_test = '/home/julian/Documents/Studium/MT-Masterarbeit/Data/LASTENS_LASTEN/test'\n",
    "\n",
    "path_fixed = r'D:\\Julian\\data\\LASTENS_LASTEN\\fix'\n",
    "path_train = r'D:\\Julian\\data\\LASTENS_LASTEN\\train'\n",
    "path_validation = r'D:\\Julian\\data\\LASTENS_LASTEN\\validation'\n",
    "path_validation_2 = r'D:\\Julian\\data\\LASTEN\\validation'\n",
    "path_test = r'D:\\Julian\\data\\LASTENS_LASTEN\\test'\n",
    "\n",
    "width = 384\n",
    "height = 384\n",
    "\n",
    "grid_width = 18\n",
    "grid_height = 18"
   ]
  },
  {
   "cell_type": "markdown",
   "metadata": {
    "pycharm": {
     "name": "#%% md\n"
    }
   },
   "source": [
    "# Seeding\n",
    "Seeds are set to ensure reproducible training."
   ]
  },
  {
   "cell_type": "code",
   "execution_count": null,
   "metadata": {
    "pycharm": {
     "name": "#%%\n"
    }
   },
   "outputs": [],
   "source": [
    "SEED = 42\n",
    "np.random.seed(SEED)\n",
    "tf.random.set_seed(SEED)\n",
    "random.seed(SEED)"
   ]
  },
  {
   "cell_type": "markdown",
   "metadata": {
    "pycharm": {
     "name": "#%% md\n"
    }
   },
   "source": [
    "# Network\n",
    "A U-Net based network is instantiated with keras to run a semantic segmentation."
   ]
  },
  {
   "cell_type": "code",
   "execution_count": null,
   "metadata": {
    "pycharm": {
     "name": "#%%\n"
    }
   },
   "outputs": [],
   "source": [
    "model = UNet(filters=32, layers=4, activation='linear', classes=2, input_shape=(width, height, 2))"
   ]
  },
  {
   "cell_type": "markdown",
   "metadata": {
    "pycharm": {
     "name": "#%% md\n"
    }
   },
   "source": [
    "# Training Preparation\n",
    "Prepare the settings for training the model."
   ]
  },
  {
   "cell_type": "code",
   "execution_count": null,
   "metadata": {
    "scrolled": true
   },
   "outputs": [],
   "source": [
    "batch_size=4\n",
    "\n",
    "train_gen = LASTENSequence(path_train,\n",
    "                           path_fixed,\n",
    "                           batch_size=batch_size,\n",
    "                           width=width,\n",
    "                           height=height,\n",
    "                           grid_width=grid_width, \n",
    "                           grid_height=grid_height,\n",
    "                           preprocess_input=pre_une,\n",
    "                           shuffle=True,\n",
    "                           label=\"keypoints\",\n",
    "                           channel=\"moving+fixed\")\n",
    "\n",
    "val_gen = LASTENSequence(path_validation,\n",
    "                           path_fixed,\n",
    "                           batch_size=batch_size,\n",
    "                           width=width,\n",
    "                           height=height,\n",
    "                           grid_width=grid_width, \n",
    "                           grid_height=grid_height,\n",
    "                           preprocess_input=pre_une,\n",
    "                           shuffle=False,\n",
    "                           label=\"keypoints\",\n",
    "                           channel=\"moving+fixed\")\n",
    "\n",
    "val_gen_2 = LASTENSequence(path_validation_2,\n",
    "                           path_fixed,\n",
    "                           batch_size=batch_size,\n",
    "                           width=width,\n",
    "                           height=height,\n",
    "                           grid_width=grid_width, \n",
    "                           grid_height=grid_height,\n",
    "                           preprocess_input=pre_une,\n",
    "                           shuffle=False,\n",
    "                           label=\"keypoints\",\n",
    "                           channel=\"moving+fixed\")\n",
    "\n",
    "timelogger = ccall.TimeHistory(store_path)\n",
    "vallogger = ccall.ValidationHistory(store_path, val_gen_2)\n",
    "logger = CSVLogger(store_path + \"/log\")\n",
    "checker = ModelCheckpoint(store_path + \"/weights.{epoch:02d}.hdf5\", period=10)\n",
    "checker_best = ModelCheckpoint(store_path + \"/best_weights.{epoch:02d}.hdf5\", save_best_only=True)\n",
    "callbacks = [timelogger, logger, checker, checker_best, vallogger]\n",
    "\n",
    "eu_loss = closs.EuclideanLoss(batch_size=batch_size, grid_width=grid_width, grid_height=grid_height, loss_type='msed')\n",
    "eu_met = closs.EuclideanLoss(batch_size=batch_size, grid_width=grid_width, grid_height=grid_height, loss_type='maed')\n",
    "\n",
    "model.compile(optimizer='adam', loss=eu_loss, metrics=[eu_met])"
   ]
  },
  {
   "cell_type": "markdown",
   "metadata": {},
   "source": [
    "# Training\n",
    "Run the training."
   ]
  },
  {
   "cell_type": "code",
   "execution_count": null,
   "metadata": {
    "pycharm": {
     "name": "#%%\n"
    },
    "scrolled": true
   },
   "outputs": [],
   "source": [
    "model.fit(train_gen,\n",
    "          epochs=100,\n",
    "          callbacks=callbacks,\n",
    "          validation_data=val_gen,\n",
    "          validation_freq=1,\n",
    "          #use_multiprocessing=True,\n",
    "          workers=10,\n",
    "          max_queue_size=32)"
   ]
  },
  {
   "cell_type": "markdown",
   "metadata": {},
   "source": [
    "# Evaluation\n",
    "Evaluate the trained network"
   ]
  },
  {
   "cell_type": "code",
   "execution_count": null,
   "metadata": {
    "scrolled": false
   },
   "outputs": [],
   "source": [
    "X, y = val_gen[0]\n",
    "\n",
    "y_pred = model.predict(X)\n",
    "\n",
    "u_x = y_pred[0,:,:,0]\n",
    "u_y = y_pred[0,:,:,1]\n",
    "\n",
    "plt.imshow(y_pred[0,:,:,0], cmap=\"gray\")\n",
    "\n",
    "plt.imsave(store_path + \"/u_x.png\", u_x, cmap=\"gray\")\n",
    "plt.imsave(store_path + \"/u_y.png\", u_y, cmap=\"gray\")\n",
    "\n",
    "u_x.dump(store_path + \"/u_x\")\n",
    "u_y.dump(store_path + \"/u_y\")\n",
    "\n",
    "warp = np.zeros((width, height))\n",
    "\n",
    "for index in range(0,grid_width*grid_height):\n",
    "    x_pos = int(y[0, index, 0, 0])\n",
    "    y_pos = int(y[0, index, 1, 0])\n",
    "    \n",
    "    plot_cube(warp, x_pos, y_pos, 1) #blue\n",
    "    \n",
    "    ux_field = y_pred[0,:,:,0]\n",
    "    uy_field = y_pred[0,:,:,1]\n",
    "    \n",
    "    ux = ux_field[y_pos][x_pos]\n",
    "    uy = uy_field[y_pos][x_pos]\n",
    "    \n",
    "    x_pos = int(round(x_pos + ux))\n",
    "    y_pos = int(round(y_pos + uy))\n",
    "            \n",
    "    plot_cube(warp, x_pos, y_pos, 2) #green    \n",
    "    \n",
    "    x_pos = int(y[0, index, 0, 1])\n",
    "    y_pos = int(y[0, index, 1, 1])\n",
    "    \n",
    "    plot_cube(warp, x_pos, y_pos, 3) #yellow    \n",
    "    \n",
    "plt.imshow(warp)\n",
    "plt.imsave(store_path + \"/warp.png\", warp)"
   ]
  }
 ],
 "metadata": {
  "kernelspec": {
   "display_name": "Python 3",
   "language": "python",
   "name": "python3"
  },
  "language_info": {
   "codemirror_mode": {
    "name": "ipython",
    "version": 3
   },
   "file_extension": ".py",
   "mimetype": "text/x-python",
   "name": "python",
   "nbconvert_exporter": "python",
   "pygments_lexer": "ipython3",
   "version": "3.7.7"
  }
 },
 "nbformat": 4,
 "nbformat_minor": 4
}

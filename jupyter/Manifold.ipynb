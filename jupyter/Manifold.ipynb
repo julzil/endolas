{
 "cells": [
  {
   "cell_type": "markdown",
   "metadata": {},
   "source": [
    "## Import Statements\n",
    "The notebook was developed on Keras using the Tensorflow 2.2.0 backend."
   ]
  },
  {
   "cell_type": "code",
   "execution_count": 1,
   "metadata": {
    "scrolled": true
   },
   "outputs": [],
   "source": [
    "import numpy as np\n",
    "import tensorflow as tf\n",
    "from tensorflow import keras\n",
    "from tensorflow.keras import layers\n",
    "from matplotlib import pyplot as plt\n",
    "from scipy.ndimage import gaussian_filter\n",
    "from tensorflow.keras.callbacks import CSVLogger\n",
    "from sklearn.manifold import TSNE\n",
    "import glob\n",
    "import os\n",
    "import json"
   ]
  },
  {
   "cell_type": "markdown",
   "metadata": {},
   "source": [
    "## Hardware Configuration\n",
    "Check for GPU and allow memory growth such that limitations for training are reduced. "
   ]
  },
  {
   "cell_type": "code",
   "execution_count": 2,
   "metadata": {
    "scrolled": false
   },
   "outputs": [],
   "source": [
    "if len(tf.config.experimental.get_visible_devices('GPU')):\n",
    "    physical_devices = tf.config.experimental.list_physical_devices('GPU')\n",
    "    tf.config.experimental.set_memory_growth(physical_devices[0], True)"
   ]
  },
  {
   "cell_type": "markdown",
   "metadata": {},
   "source": [
    "## Functionality\n",
    "The following functionality helps to create the images for training the registration task."
   ]
  },
  {
   "cell_type": "markdown",
   "metadata": {},
   "source": [
    "## Model parameters\n",
    "The grid dimensions have to be know, as well as the image dimensions for scaling. The depth of the input and output layer is 2 here, as we will have one channel representing x-coordinates and a second channel representing y-coordinates. "
   ]
  },
  {
   "cell_type": "code",
   "execution_count": 3,
   "metadata": {
    "scrolled": true
   },
   "outputs": [],
   "source": [
    "grid_width = 18\n",
    "grid_height = 18\n",
    "\n",
    "image_width = 728\n",
    "image_height = 728\n",
    "\n",
    "inout_layers = 2"
   ]
  },
  {
   "cell_type": "markdown",
   "metadata": {},
   "source": [
    "## Functionality"
   ]
  },
  {
   "cell_type": "code",
   "execution_count": 4,
   "metadata": {},
   "outputs": [],
   "source": [
    "def get_xy_position(base_path):\n",
    "    def sort_key(path):\n",
    "        return int(path.split(os.sep)[-1].split(\".\")[0].split(\"_\")[0]) \n",
    "\n",
    "    globs = glob.glob(base_path+'/*.json')\n",
    "    files = sorted(globs, key=sort_key)\n",
    "\n",
    "    file_length =len(files)\n",
    "    xy_position = np.full((file_length, grid_height * grid_width * 2), 0)\n",
    "\n",
    "    counter = 0\n",
    "    for file in files:\n",
    "        with open(file) as json_file:\n",
    "            data = json.load(json_file)\n",
    "\n",
    "            file_id = int(file.split(os.sep)[-1].split(\".\")[0].split(\"_\")[0])\n",
    "\n",
    "            for key, value in data.items():\n",
    "                key = int(key)\n",
    "\n",
    "                xy_position[counter][key*2] = value[0]\n",
    "                xy_position[counter][key*2+1] = value[1]\n",
    "\n",
    "            counter += 1\n",
    "    return xy_position"
   ]
  },
  {
   "cell_type": "markdown",
   "metadata": {},
   "source": [
    "## Prepare data\n",
    "Load the data and scale them to be between 0.0 an 1.0. Further use zero-padding to get a 20x20 shape for this example. We use the already augmented data here for providing a large training set."
   ]
  },
  {
   "cell_type": "code",
   "execution_count": 5,
   "metadata": {
    "scrolled": true
   },
   "outputs": [],
   "source": [
    "xy_position_train = get_xy_position('/home/julian/Documents/Studium/MT-Masterarbeit/Data/LASTEN2VGNI/train')\n",
    "xy_position_val = get_xy_position('/home/julian/Documents/Studium/MT-Masterarbeit/Data/LASTEN2/validation')\n",
    "xy_position_test = get_xy_position('/home/julian/Documents/Studium/MT-Masterarbeit/Data/LASTEN2/test')"
   ]
  },
  {
   "cell_type": "code",
   "execution_count": 6,
   "metadata": {},
   "outputs": [
    {
     "data": {
      "text/plain": [
       "(1000, 648)"
      ]
     },
     "execution_count": 6,
     "metadata": {},
     "output_type": "execute_result"
    }
   ],
   "source": [
    "xy_position_train.shape"
   ]
  },
  {
   "cell_type": "code",
   "execution_count": 7,
   "metadata": {},
   "outputs": [],
   "source": [
    "xy_position_concat = np.concatenate((xy_position_train, xy_position_val, xy_position_test))"
   ]
  },
  {
   "cell_type": "code",
   "execution_count": 8,
   "metadata": {},
   "outputs": [],
   "source": [
    "manifold = TSNE(learning_rate=50)\n",
    "tsne_features = manifold.fit_transform(xy_position_concat)"
   ]
  },
  {
   "cell_type": "code",
   "execution_count": 9,
   "metadata": {},
   "outputs": [],
   "source": [
    "train_size = len(xy_position_train)"
   ]
  },
  {
   "cell_type": "code",
   "execution_count": 10,
   "metadata": {},
   "outputs": [
    {
     "data": {
      "text/plain": [
       "<matplotlib.collections.PathCollection at 0x7fe2e041adc0>"
      ]
     },
     "execution_count": 10,
     "metadata": {},
     "output_type": "execute_result"
    },
    {
     "data": {
      "image/png": "[encoded data removed]",
      "text/plain": [
       "<Figure size 432x288 with 1 Axes>"
      ]
     },
     "metadata": {
      "needs_background": "light"
     },
     "output_type": "display_data"
    }
   ],
   "source": [
    "plt.scatter(tsne_features[0:160, 0], tsne_features[0:160, 1], c='c')\n",
    "plt.scatter(tsne_features[160:train_size, 0], tsne_features[160:train_size, 1], c='r')\n",
    "plt.scatter(tsne_features[train_size:train_size+40, 0], tsne_features[train_size:train_size+40, 1], c='b')\n",
    "plt.scatter(tsne_features[train_size+40:train_size+80, 0], tsne_features[train_size+40:train_size+80, 1], c='g')"
   ]
  },
  {
   "cell_type": "code",
   "execution_count": null,
   "metadata": {},
   "outputs": [],
   "source": []
  }
 ],
 "metadata": {
  "kernelspec": {
   "display_name": "Python 3",
   "language": "python",
   "name": "python3"
  },
  "language_info": {
   "codemirror_mode": {
    "name": "ipython",
    "version": 3
   },
   "file_extension": ".py",
   "mimetype": "text/x-python",
   "name": "python",
   "nbconvert_exporter": "python",
   "pygments_lexer": "ipython3",
   "version": "3.8.2"
  }
 },
 "nbformat": 4,
 "nbformat_minor": 4
}
